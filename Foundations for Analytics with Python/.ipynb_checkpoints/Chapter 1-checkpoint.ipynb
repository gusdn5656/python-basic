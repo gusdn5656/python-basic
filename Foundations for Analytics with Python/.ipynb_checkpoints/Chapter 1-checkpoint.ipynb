{
 "cells": [
  {
   "cell_type": "markdown",
   "id": "legitimate-bolivia",
   "metadata": {},
   "source": [
    "# 파이썬 기본 구성 요소"
   ]
  },
  {
   "cell_type": "markdown",
   "id": "measured-night",
   "metadata": {},
   "source": [
    "## 1. 숫자"
   ]
  },
  {
   "cell_type": "markdown",
   "id": "central-expert",
   "metadata": {},
   "source": [
    "### 1.1. 정수"
   ]
  },
  {
   "cell_type": "code",
   "execution_count": 13,
   "id": "undefined-collar",
   "metadata": {},
   "outputs": [
    {
     "name": "stdout",
     "output_type": "stream",
     "text": [
      "Output #4: 9\n",
      "Output #5: 81.000000\n",
      "Output #6: 4.0\n"
     ]
    }
   ],
   "source": [
    "x = 9 \n",
    "print(\"Output #4: {0}\" .format(x))                  \n",
    "print(\"Output #5: {0:f}\" .format(3**4))               # :f를 붙이면 float형이 강제됨 \n",
    "print(\"Output #6: {0}\" .format(int(8.3)/int(2.7)))    # int()는 정수형을 강제함"
   ]
  },
  {
   "cell_type": "code",
   "execution_count": 11,
   "id": "restricted-twelve",
   "metadata": {},
   "outputs": [
    {
     "name": "stdout",
     "output_type": "stream",
     "text": [
      "Output #7: 3.074\n",
      "Output #8: 12.0\n",
      "Output #9: 2.67\n",
      "Output #10: 2.6667\n"
     ]
    }
   ],
   "source": [
    "print(\"Output #7: {0:.3f}\" .format(8.3/2.7))    \n",
    "\n",
    "y = 2.5*4.8\n",
    "print(\"Output #8: {0:.1f}\" .format(y))\n",
    "\n",
    "r = 8/float(3)\n",
    "print(\"Output #9: {0:.2f}\" .format(r))\n",
    "print(\"Output #10: {0:.4f}\" .format(r))"
   ]
  },
  {
   "cell_type": "markdown",
   "id": "limited-effects",
   "metadata": {
    "tags": []
   },
   "source": [
    "### 1.2. 실수"
   ]
  },
  {
   "cell_type": "markdown",
   "id": "crazy-customer",
   "metadata": {},
   "source": [
    "### 1.3. math 사용 예제"
   ]
  },
  {
   "cell_type": "code",
   "execution_count": 10,
   "id": "ranking-protest",
   "metadata": {},
   "outputs": [
    {
     "name": "stdout",
     "output_type": "stream",
     "text": [
      "Output #11: 20.0855\n",
      "Output #12: 1.39\n",
      "Output #13: 9.0\n"
     ]
    }
   ],
   "source": [
    "from math import exp, log, sqrt\n",
    "\n",
    "print(\"Output #11: {0:.4f}\" .format(exp(3)))\n",
    "print(\"Output #12: {0:.2f}\" .format(log(4)))\n",
    "print(\"Output #13: {0:.1f}\" .format(sqrt(81)))"
   ]
  },
  {
   "cell_type": "markdown",
   "id": "according-progress",
   "metadata": {},
   "source": [
    "## 2. 문자열"
   ]
  },
  {
   "cell_type": "markdown",
   "id": "suited-christopher",
   "metadata": {},
   "source": [
    "### 2.1. \\ , ''', \"\"\""
   ]
  },
  {
   "cell_type": "code",
   "execution_count": 21,
   "id": "cognitive-harmony",
   "metadata": {},
   "outputs": [
    {
     "name": "stdout",
     "output_type": "stream",
     "text": [
      "Output #14: I'm enjoying learning Python.\n"
     ]
    }
   ],
   "source": [
    "print(\"Output #14: {0:s}\".format('I\\'m enjoying learning Python.'))      # \\는 escape 문자\n",
    "                    #:s 는 print문에 문자열 형식 값이 전달된다는 것을 의미"
   ]
  },
  {
   "cell_type": "code",
   "execution_count": 19,
   "id": "sapphire-badge",
   "metadata": {},
   "outputs": [
    {
     "name": "stdout",
     "output_type": "stream",
     "text": [
      "Output #15: This is a long string. Without the backslash it would run off of the page on the right in the text editor and be very difficult to read and edit. By using the backslash you can split the long string into smaller strings on separate lines so that the whole string is easy to view in the text editor.\n"
     ]
    }
   ],
   "source": [
    "print(\"Output #15: {0:s}\".format(\"This is a long string. Without the backslash\\\n",
    " it would run off of the page on the right in the text editor and be very\\\n",
    " difficult to read and edit. By using the backslash you can split the long\\\n",
    " string into smaller strings on separate lines so that the whole string is easy\\\n",
    " to view in the text editor.\"))           # backslash 뒤에 공백오면 에러남 ! "
   ]
  },
  {
   "cell_type": "code",
   "execution_count": 26,
   "id": "indoor-serum",
   "metadata": {},
   "outputs": [
    {
     "name": "stdout",
     "output_type": "stream",
     "text": [
      "Output #16: You can use triple single quotes\n",
      "for multi-line comment strings.\n",
      "Output #16: You can use triple single quotes\n",
      "for multi-line comment strings.\n"
     ]
    }
   ],
   "source": [
    "print(\"Output #16: {0:s}\".format('''You can use triple single quotes\n",
    "for multi-line comment strings.'''))\n",
    "print(\"Output #16: {0:s}\".format(\"\"\"You can use triple single quotes\n",
    "for multi-line comment strings.\"\"\"))"
   ]
  },
  {
   "cell_type": "markdown",
   "id": "norman-starter",
   "metadata": {},
   "source": [
    "### 2.2. +, *, len"
   ]
  },
  {
   "cell_type": "code",
   "execution_count": 28,
   "id": "developing-hartford",
   "metadata": {},
   "outputs": [],
   "source": [
    "string = \"This is a \""
   ]
  }
 ],
 "metadata": {
  "kernelspec": {
   "display_name": "python38_32bit",
   "language": "python",
   "name": "python38_32bit"
  },
  "language_info": {
   "codemirror_mode": {
    "name": "ipython",
    "version": 3
   },
   "file_extension": ".py",
   "mimetype": "text/x-python",
   "name": "python",
   "nbconvert_exporter": "python",
   "pygments_lexer": "ipython3",
   "version": "3.8.10"
  }
 },
 "nbformat": 4,
 "nbformat_minor": 5
}
