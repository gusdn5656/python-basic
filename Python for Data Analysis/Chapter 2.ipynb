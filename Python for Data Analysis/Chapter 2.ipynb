{
 "cells": [
  {
   "cell_type": "markdown",
   "id": "sound-leeds",
   "metadata": {},
   "source": [
    "# Chapter 2. 파이썬 언어의 기본, IPython, 주피터 노트북"
   ]
  },
  {
   "cell_type": "markdown",
   "id": "worth-electron",
   "metadata": {},
   "source": [
    "## 2.2 IPython 기초"
   ]
  },
  {
   "cell_type": "markdown",
   "id": "starting-fitness",
   "metadata": {},
   "source": [
    "### 2.2.3 탭 "
   ]
  },
  {
   "cell_type": "code",
   "execution_count": 21,
   "id": "statewide-reporter",
   "metadata": {},
   "outputs": [],
   "source": [
    "an_apple = 27\n",
    "an_example = 42"
   ]
  },
  {
   "cell_type": "markdown",
   "id": "jewish-animation",
   "metadata": {},
   "source": [
    "an\\<Tab> : 셸에서 입력하는 동안 탭을 누르면 네임스페이스에서 그 시점까지 입력한 내용과 맞아 떨어지는 변수 (객체, 함수 등)를 자동으로 찾아준다."
   ]
  },
  {
   "cell_type": "code",
   "execution_count": 25,
   "id": "taken-organizer",
   "metadata": {},
   "outputs": [],
   "source": [
    "b = [1,2,3]"
   ]
  },
  {
   "cell_type": "markdown",
   "id": "roman-tuner",
   "metadata": {},
   "source": [
    "b.\\<Tab> : 어떤 객체의 메서드나 속성 뒤에 마침표를 입력한 후 자동완성 기능을 활용할 수도 있다."
   ]
  },
  {
   "cell_type": "code",
   "execution_count": 27,
   "id": "personalized-mauritius",
   "metadata": {},
   "outputs": [],
   "source": [
    "import datetime"
   ]
  },
  {
   "cell_type": "markdown",
   "id": "sixth-withdrawal",
   "metadata": {},
   "source": [
    "datetime.\\<Tab> : 모듈도 똑같이 작동한다"
   ]
  },
  {
   "cell_type": "markdown",
   "id": "micro-mortgage",
   "metadata": {},
   "source": [
    "### 2.2.4 자기관찰"
   ]
  },
  {
   "cell_type": "markdown",
   "id": "surgical-adolescent",
   "metadata": {},
   "source": [
    "#### ?\n",
    "변수 이름 앞이나 뒤에 ?기호를 붙이면 그 객체에 대한 일반 정보를 출력한다."
   ]
  },
  {
   "cell_type": "code",
   "execution_count": 35,
   "id": "framed-great",
   "metadata": {},
   "outputs": [
    {
     "data": {
      "text/plain": [
       "\u001b[1;31mType:\u001b[0m        list\n",
       "\u001b[1;31mString form:\u001b[0m [1, 2, 3]\n",
       "\u001b[1;31mLength:\u001b[0m      3\n",
       "\u001b[1;31mDocstring:\u001b[0m  \n",
       "Built-in mutable sequence.\n",
       "\n",
       "If no argument is given, the constructor creates a new empty list.\n",
       "The argument must be an iterable if specified.\n"
      ]
     },
     "metadata": {},
     "output_type": "display_data"
    }
   ],
   "source": [
    "b = [1,2,3]\n",
    "?b"
   ]
  },
  {
   "cell_type": "markdown",
   "id": "patent-houston",
   "metadata": {},
   "source": [
    "---------------------------------------"
   ]
  },
  {
   "cell_type": "markdown",
   "id": "balanced-bacteria",
   "metadata": {},
   "source": [
    "만약 객체가 함수이거나 인스턴스 메서드라면 정의되어 있는 $\\text{문서}^{docstring}$ 를 출력해준다."
   ]
  },
  {
   "cell_type": "code",
   "execution_count": 36,
   "id": "liberal-wings",
   "metadata": {},
   "outputs": [
    {
     "data": {
      "text/plain": [
       "\u001b[1;31mDocstring:\u001b[0m\n",
       "print(value, ..., sep=' ', end='\\n', file=sys.stdout, flush=False)\n",
       "\n",
       "Prints the values to a stream, or to sys.stdout by default.\n",
       "Optional keyword arguments:\n",
       "file:  a file-like object (stream); defaults to the current sys.stdout.\n",
       "sep:   string inserted between values, default a space.\n",
       "end:   string appended after the last value, default a newline.\n",
       "flush: whether to forcibly flush the stream.\n",
       "\u001b[1;31mType:\u001b[0m      builtin_function_or_method\n"
      ]
     },
     "metadata": {},
     "output_type": "display_data"
    }
   ],
   "source": [
    "?print"
   ]
  },
  {
   "cell_type": "markdown",
   "id": "contemporary-toronto",
   "metadata": {},
   "source": [
    "-----------------"
   ]
  },
  {
   "cell_type": "code",
   "execution_count": 38,
   "id": "visible-fighter",
   "metadata": {},
   "outputs": [],
   "source": [
    "def add_numbers(a,b) :\n",
    "    \"\"\"\n",
    "    Add two numbers together\n",
    "    \n",
    "    Returns\n",
    "    -------\n",
    "    the_sum : type of arguments\n",
    "    \"\"\"\n",
    "    return a+b"
   ]
  },
  {
   "cell_type": "markdown",
   "id": "valued-swift",
   "metadata": {},
   "source": [
    "?를 사용하면 사용자 정의 함수의 docstring도 볼 수 있다."
   ]
  },
  {
   "cell_type": "code",
   "execution_count": 48,
   "id": "related-twist",
   "metadata": {},
   "outputs": [
    {
     "data": {
      "text/plain": [
       "\u001b[1;31mSignature:\u001b[0m \u001b[0madd_numbers\u001b[0m\u001b[1;33m(\u001b[0m\u001b[0ma\u001b[0m\u001b[1;33m,\u001b[0m \u001b[0mb\u001b[0m\u001b[1;33m)\u001b[0m\u001b[1;33m\u001b[0m\u001b[1;33m\u001b[0m\u001b[0m\n",
       "\u001b[1;31mDocstring:\u001b[0m\n",
       "Add two numbers together\n",
       "\n",
       "Returns\n",
       "-------\n",
       "the_sum : type of arguments\n",
       "\u001b[1;31mFile:\u001b[0m      d:\\dropbox\\[private] study\\coding\\python\\python-basic\\python for data analysis\\<ipython-input-38-9ee2c27fb505>\n",
       "\u001b[1;31mType:\u001b[0m      function\n"
      ]
     },
     "metadata": {},
     "output_type": "display_data"
    }
   ],
   "source": [
    "?add_numbers"
   ]
  },
  {
   "cell_type": "markdown",
   "id": "neutral-mineral",
   "metadata": {},
   "source": [
    "#### ??\n",
    "??를 사용하면 가능한 경우 함수의 소스 코드도 볼 수 있다."
   ]
  },
  {
   "cell_type": "code",
   "execution_count": 49,
   "id": "trying-footage",
   "metadata": {},
   "outputs": [
    {
     "data": {
      "text/plain": [
       "\u001b[1;31mSignature:\u001b[0m \u001b[0madd_numbers\u001b[0m\u001b[1;33m(\u001b[0m\u001b[0ma\u001b[0m\u001b[1;33m,\u001b[0m \u001b[0mb\u001b[0m\u001b[1;33m)\u001b[0m\u001b[1;33m\u001b[0m\u001b[1;33m\u001b[0m\u001b[0m\n",
       "\u001b[1;31mSource:\u001b[0m   \n",
       "\u001b[1;32mdef\u001b[0m \u001b[0madd_numbers\u001b[0m\u001b[1;33m(\u001b[0m\u001b[0ma\u001b[0m\u001b[1;33m,\u001b[0m\u001b[0mb\u001b[0m\u001b[1;33m)\u001b[0m \u001b[1;33m:\u001b[0m\u001b[1;33m\n",
       "\u001b[0m    \u001b[1;34m\"\"\"\n",
       "    Add two numbers together\n",
       "    \n",
       "    Returns\n",
       "    -------\n",
       "    the_sum : type of arguments\n",
       "    \"\"\"\u001b[0m\u001b[1;33m\n",
       "\u001b[0m    \u001b[1;32mreturn\u001b[0m \u001b[0ma\u001b[0m\u001b[1;33m+\u001b[0m\u001b[0mb\u001b[0m\u001b[1;33m\u001b[0m\u001b[1;33m\u001b[0m\u001b[0m\n",
       "\u001b[1;31mFile:\u001b[0m      d:\\dropbox\\[private] study\\coding\\python\\python-basic\\python for data analysis\\<ipython-input-38-9ee2c27fb505>\n",
       "\u001b[1;31mType:\u001b[0m      function\n"
      ]
     },
     "metadata": {},
     "output_type": "display_data"
    }
   ],
   "source": [
    "??add_numbers              "
   ]
  },
  {
   "cell_type": "markdown",
   "id": "reported-incentive",
   "metadata": {},
   "source": [
    "### 2.2.8 매직 명령어"
   ]
  },
  {
   "cell_type": "markdown",
   "id": "scientific-polls",
   "metadata": {},
   "source": [
    "#### %run\n",
    "%run 명령어를 사용하면 세션 안에서 파이썬 프로그램 파일을 불러와서 실행할 수 있다.\n",
    "다음과 같은 ipython_script_test.py 스크립트 파일이 있다고 하자.\n",
    "\n",
    "---\n",
    "def f(x,y,z)  :  \n",
    "    return (x+y)/z  \n",
    "\n",
    "a = 5  \n",
    "b = 6  \n",
    "c = 7.5  \n",
    "  \n",
    "result = f(a,b,c)\n",
    "\n",
    "---\n",
    "\n",
    "이 스크립트 파일은 %run 명령을 사용해 다음처럼 실행할 수 있다."
   ]
  },
  {
   "cell_type": "code",
   "execution_count": 1,
   "id": "wired-payroll",
   "metadata": {},
   "outputs": [
    {
     "name": "stdout",
     "output_type": "stream",
     "text": [
      "a : 5.000000\n",
      "b : 6.000000\n",
      "c : 7.500000\n",
      "result : 1.466667\n"
     ]
    }
   ],
   "source": [
    "%run ipython_script_test.py\n",
    "print(\"a : {0:f}\" .format(a))\n",
    "print(\"b : {0:f}\" .format(b))\n",
    "print(\"c : {0:f}\" .format(c))\n",
    "print(\"result : {0:f}\" .format(result))"
   ]
  },
  {
   "cell_type": "markdown",
   "id": "configured-wilson",
   "metadata": {},
   "source": [
    "#### %load\n",
    "주피터 노트북에서는 스크립트 파일을 코드 셀로 불러오는 %load 매직함수를 사용할 수도 있다."
   ]
  },
  {
   "cell_type": "code",
   "execution_count": 60,
   "id": "established-genre",
   "metadata": {},
   "outputs": [],
   "source": [
    "# %load ipython_script_test.py\n",
    "def f(x,y,z) :\n",
    "    return  (x+y)/z\n",
    "\n",
    "a = 5\n",
    "b = 6\n",
    "c = 7.5\n",
    "\n",
    "result = f(a,b,c)"
   ]
  },
  {
   "cell_type": "markdown",
   "id": "bottom-night",
   "metadata": {},
   "source": [
    "#### %timeit \n",
    "코드가 실행된 시간을 측정하고 싶을 때"
   ]
  },
  {
   "cell_type": "code",
   "execution_count": 65,
   "id": "suburban-walker",
   "metadata": {},
   "outputs": [
    {
     "name": "stdout",
     "output_type": "stream",
     "text": [
      "51.8 µs ± 1.97 µs per loop (mean ± std. dev. of 7 runs, 10000 loops each)\n"
     ]
    }
   ],
   "source": [
    "import numpy as np\n",
    "a = np.random.randn(100,100)\n",
    "%timeit np.dot(a,a)"
   ]
  },
  {
   "cell_type": "markdown",
   "id": "ongoing-dependence",
   "metadata": {},
   "source": [
    "#### %pwd\n",
    "%pwd : 현재 파이썬이 실행되고 있는 폴더 위치, 결과를 변수에 대입할 수도 있음."
   ]
  },
  {
   "cell_type": "code",
   "execution_count": 71,
   "id": "conservative-endorsement",
   "metadata": {},
   "outputs": [
    {
     "data": {
      "text/plain": [
       "'D:\\\\Dropbox\\\\[Private] Study\\\\Coding\\\\Python\\\\python-basic\\\\Python for Data Analysis'"
      ]
     },
     "execution_count": 71,
     "metadata": {},
     "output_type": "execute_result"
    }
   ],
   "source": [
    "foo = %pwd\n",
    "foo"
   ]
  },
  {
   "cell_type": "markdown",
   "id": "animal-hands",
   "metadata": {},
   "source": [
    "#### %quickref, %magic\n",
    "%quickref, %magic 명령을 이용해서 사용 가능한 모든 특수 명령어를 살펴볼 수 있음"
   ]
  },
  {
   "cell_type": "code",
   "execution_count": null,
   "id": "chicken-aerospace",
   "metadata": {},
   "outputs": [],
   "source": [
    "%quickref"
   ]
  },
  {
   "cell_type": "code",
   "execution_count": null,
   "id": "first-dairy",
   "metadata": {},
   "outputs": [],
   "source": [
    "%magic"
   ]
  },
  {
   "cell_type": "markdown",
   "id": "complicated-dating",
   "metadata": {},
   "source": [
    "#### %matplotlib \n",
    "%matplotlib inline을 실행하면 콘솔 세션을 방해받지 않고 여러 플롯 윈도우를 생성할 수 있게 된다."
   ]
  },
  {
   "cell_type": "code",
   "execution_count": 4,
   "id": "minute-algeria",
   "metadata": {},
   "outputs": [],
   "source": [
    "%matplotlib inline"
   ]
  },
  {
   "cell_type": "code",
   "execution_count": 7,
   "id": "centered-greek",
   "metadata": {},
   "outputs": [
    {
     "data": {
      "text/plain": [
       "[<matplotlib.lines.Line2D at 0x1f10cb91790>]"
      ]
     },
     "execution_count": 7,
     "metadata": {},
     "output_type": "execute_result"
    },
    {
     "data": {
      "image/png": "[encoded data removed]",
      "text/plain": [
       "<Figure size 432x288 with 1 Axes>"
      ]
     },
     "metadata": {
      "needs_background": "light"
     },
     "output_type": "display_data"
    }
   ],
   "source": [
    "import numpy as np\n",
    "import matplotlib.pyplot as plt\n",
    "plt.plot(np.random.randn(50).cumsum())"
   ]
  },
  {
   "cell_type": "markdown",
   "id": "conceptual-spirit",
   "metadata": {},
   "source": [
    "## 2.3 파이썬 기초"
   ]
  },
  {
   "cell_type": "markdown",
   "id": "adopted-sewing",
   "metadata": {},
   "source": [
    "### 2.3.1 시맨틱"
   ]
  },
  {
   "cell_type": "markdown",
   "id": "labeled-private",
   "metadata": {},
   "source": [
    "#### 속성과 메서드  \n",
    "- 속성 : 객체 내부에 저장되는 다른 파이썬 객체  \n",
    "- 메서드 : 객체의 내부 데이터에 접근할 수 있는 함수"
   ]
  },
  {
   "cell_type": "code",
   "execution_count": 13,
   "id": "constant-absence",
   "metadata": {},
   "outputs": [],
   "source": [
    "a = 'foo'"
   ]
  },
  {
   "cell_type": "markdown",
   "id": "direct-manitoba",
   "metadata": {},
   "source": [
    "a.\\<Tab> : a(str형)라는 객체에서 사용 가능한 메서드들을 볼 수 있다."
   ]
  },
  {
   "cell_type": "markdown",
   "id": "sharing-filename",
   "metadata": {},
   "source": [
    "gettattr 함수를 통해 이름으로 접근하는 것도 가능하다"
   ]
  },
  {
   "cell_type": "code",
   "execution_count": 15,
   "id": "scientific-advisory",
   "metadata": {},
   "outputs": [
    {
     "data": {
      "text/plain": [
       "<function str.split(sep=None, maxsplit=-1)>"
      ]
     },
     "execution_count": 15,
     "metadata": {},
     "output_type": "execute_result"
    }
   ],
   "source": [
    "getattr(a, 'split')"
   ]
  },
  {
   "cell_type": "code",
   "execution_count": 21,
   "id": "mathematical-observation",
   "metadata": {},
   "outputs": [
    {
     "data": {
      "text/plain": [
       "['f', 'o']"
      ]
     },
     "execution_count": 21,
     "metadata": {},
     "output_type": "execute_result"
    }
   ],
   "source": [
    "a.split(sep = \"o\", maxsplit = 1)"
   ]
  },
  {
   "cell_type": "markdown",
   "id": "amber-advisory",
   "metadata": {},
   "source": [
    "#### 모듈 임포트\n",
    "- 모듈 : 간단히 말해 파이썬 코드가 담긴 .py 파일"
   ]
  },
  {
   "cell_type": "markdown",
   "id": "about-strength",
   "metadata": {},
   "source": [
    "다음과 같은 모듈 생성\n",
    "\n",
    "---\n",
    "\\# some_module.py  \n",
    "PI = 3.14159\n",
    "\n",
    "def f(x) :   \n",
    "\n",
    "    return x + 2  \n",
    "    \n",
    "def g(a, b) :  \n",
    "\n",
    "    return a + b    \n",
    "\n",
    "---"
   ]
  },
  {
   "cell_type": "markdown",
   "id": "removed-contamination",
   "metadata": {},
   "source": [
    "##### 모듈 임포트 방법 1\n",
    "- 모듈 전체를 임포트\n",
    "- 이 경우 module.method, module.obj 형태로 써주어야 함"
   ]
  },
  {
   "cell_type": "code",
   "execution_count": 28,
   "id": "addressed-heating",
   "metadata": {},
   "outputs": [
    {
     "name": "stdout",
     "output_type": "stream",
     "text": [
      "result : 7\n",
      "PI : 3.14159\n"
     ]
    }
   ],
   "source": [
    "import some_module\n",
    "result = some_module.f(5)\n",
    "pi = some_module.PI\n",
    "\n",
    "print(\"result : {0}\\nPI : {1}\".format(result,pi))"
   ]
  },
  {
   "cell_type": "markdown",
   "id": "adverse-reporter",
   "metadata": {},
   "source": [
    "##### 모듈 임포트 방법 2\n",
    "- 원하는 메서드 및 객체 선택 가능\n",
    "- 이 경우 method, obj로 바로 사용 가능 "
   ]
  },
  {
   "cell_type": "code",
   "execution_count": 32,
   "id": "ecological-colorado",
   "metadata": {},
   "outputs": [
    {
     "name": "stdout",
     "output_type": "stream",
     "text": [
      "result : 8.14159\n"
     ]
    }
   ],
   "source": [
    "from some_module import f, g, PI\n",
    "result = g(5, PI)\n",
    "\n",
    "print(\"result : {0}\".format(result))"
   ]
  },
  {
   "cell_type": "markdown",
   "id": "acknowledged-graphic",
   "metadata": {},
   "source": [
    "##### 모듈 임포트 방법 3\n",
    "- as 예약어를 사용하여 모듈을 다른 이름으로 임포트\n",
    "- 이 경우 newname.method, newmethod, newobj 등으로 사용 가능"
   ]
  },
  {
   "cell_type": "code",
   "execution_count": 33,
   "id": "brilliant-antique",
   "metadata": {},
   "outputs": [
    {
     "name": "stdout",
     "output_type": "stream",
     "text": [
      "r1 : 5.14159\n",
      "r2 : 9.14159\n"
     ]
    }
   ],
   "source": [
    "import some_module as sm\n",
    "from some_module import PI as pi, g as gf\n",
    "\n",
    "r1 = sm.f(pi)\n",
    "r2 = gf(6,pi)\n",
    "\n",
    "print(\"r1 : {0}\\nr2 : {1}\".format(r1,r2))"
   ]
  },
  {
   "cell_type": "markdown",
   "id": "empty-throw",
   "metadata": {},
   "source": [
    "#### 비교문"
   ]
  },
  {
   "cell_type": "markdown",
   "id": "bizarre-knowing",
   "metadata": {},
   "source": [
    "##### is, is not\n",
    "- 두 참조 변수가 같은 객체를 가리키고 있는 지 검사할 때 is 예약어를 사용함"
   ]
  },
  {
   "cell_type": "code",
   "execution_count": 36,
   "id": "passing-generation",
   "metadata": {},
   "outputs": [],
   "source": [
    "a = [1,2,3]\n",
    "b = a\n",
    "c = list(a)"
   ]
  },
  {
   "cell_type": "markdown",
   "id": "historical-employment",
   "metadata": {
    "tags": []
   },
   "source": [
    "> list()는 항상 새로운 파이썬 리스트를 생성하므로 c는 a와 구별된다는 점을 명심!"
   ]
  },
  {
   "cell_type": "code",
   "execution_count": 37,
   "id": "laughing-engagement",
   "metadata": {},
   "outputs": [
    {
     "data": {
      "text/plain": [
       "True"
      ]
     },
     "execution_count": 37,
     "metadata": {},
     "output_type": "execute_result"
    }
   ],
   "source": [
    "a is b"
   ]
  },
  {
   "cell_type": "code",
   "execution_count": 39,
   "id": "structural-administrator",
   "metadata": {},
   "outputs": [
    {
     "data": {
      "text/plain": [
       "False"
      ]
     },
     "execution_count": 39,
     "metadata": {},
     "output_type": "execute_result"
    }
   ],
   "source": [
    "a is c"
   ]
  },
  {
   "cell_type": "markdown",
   "id": "random-heart",
   "metadata": {},
   "source": [
    "> is로 비교하는 것과 == 연산자로 비교하는 것은 같지 않다."
   ]
  },
  {
   "cell_type": "code",
   "execution_count": 40,
   "id": "fundamental-necessity",
   "metadata": {},
   "outputs": [
    {
     "data": {
      "text/plain": [
       "True"
      ]
     },
     "execution_count": 40,
     "metadata": {},
     "output_type": "execute_result"
    }
   ],
   "source": [
    "a == c"
   ]
  },
  {
   "cell_type": "markdown",
   "id": "second-suggestion",
   "metadata": {},
   "source": [
    "#### 이항 연산자\n",
    "\n",
    "<details>\n",
    "<summary>이항 연산자</summary>\n",
    "<div markdown=\"1\">\n",
    "\n",
    "|연산자|설명|\n",
    "|:--|:--|\n",
    "|a ** b|a 의 b승을 구한다.|\n",
    "|a ^ b|불리언의 경우 a 혹은 b 중 하나만 True인 경우 True를 반환한다. 정수인 경우 비트 단위 EXCLUSIVE -OR를 구한다.|\n",
    "|a is b|a와 b가 같은 파이썬 객체를 참조할 경우 True|\n",
    "|a is not b|a와 b가 다른 파이썬 객체를 참조할 경우 True|\n",
    "\n",
    "</div>\n",
    "</details>"
   ]
  },
  {
   "cell_type": "markdown",
   "id": "optional-annual",
   "metadata": {},
   "source": [
    "#### 뮤터블, 이뮤터블 객체\n",
    "- 뮤터블 객체 : 리스트, 사전, NumPy 배열 또는 사용자 정의 클래스 같은 대부분의 객체는 변경 가능하다 (뮤터블).\n",
    "- 이뮤터블 객체 : 문자열이나 튜플은 변경 불가능하다 (이뮤터블)."
   ]
  },
  {
   "cell_type": "code",
   "execution_count": 46,
   "id": "hired-newton",
   "metadata": {},
   "outputs": [
    {
     "data": {
      "text/plain": [
       "['foo', 2, (3, 4)]"
      ]
     },
     "execution_count": 46,
     "metadata": {},
     "output_type": "execute_result"
    }
   ],
   "source": [
    "a_list = ['foo',2,[4,5]]\n",
    "a_list[2] = (3,4)\n",
    "a_list"
   ]
  },
  {
   "cell_type": "code",
   "execution_count": 47,
   "id": "stupid-transsexual",
   "metadata": {},
   "outputs": [
    {
     "ename": "TypeError",
     "evalue": "'tuple' object does not support item assignment",
     "output_type": "error",
     "traceback": [
      "\u001b[1;31m---------------------------------------------------------------------------\u001b[0m",
      "\u001b[1;31mTypeError\u001b[0m                                 Traceback (most recent call last)",
      "\u001b[1;32m<ipython-input-47-1990528cab52>\u001b[0m in \u001b[0;36m<module>\u001b[1;34m\u001b[0m\n\u001b[0;32m      1\u001b[0m \u001b[0ma_tuple\u001b[0m \u001b[1;33m=\u001b[0m \u001b[1;33m(\u001b[0m\u001b[1;36m3\u001b[0m\u001b[1;33m,\u001b[0m\u001b[1;36m5\u001b[0m\u001b[1;33m,\u001b[0m\u001b[1;33m(\u001b[0m\u001b[1;36m4\u001b[0m\u001b[1;33m,\u001b[0m\u001b[1;36m5\u001b[0m\u001b[1;33m)\u001b[0m\u001b[1;33m)\u001b[0m\u001b[1;33m\u001b[0m\u001b[1;33m\u001b[0m\u001b[0m\n\u001b[1;32m----> 2\u001b[1;33m \u001b[0ma_tuple\u001b[0m\u001b[1;33m[\u001b[0m\u001b[1;36m1\u001b[0m\u001b[1;33m]\u001b[0m \u001b[1;33m=\u001b[0m \u001b[1;34m'four'\u001b[0m\u001b[1;33m\u001b[0m\u001b[1;33m\u001b[0m\u001b[0m\n\u001b[0m",
      "\u001b[1;31mTypeError\u001b[0m: 'tuple' object does not support item assignment"
     ]
    }
   ],
   "source": [
    "a_tuple = (3,5,(4,5))\n",
    "a_tuple[1] = 'four'"
   ]
  },
  {
   "cell_type": "markdown",
   "id": "electronic-chamber",
   "metadata": {},
   "source": [
    "### 2.3.2 스칼라형"
   ]
  },
  {
   "cell_type": "markdown",
   "id": "acceptable-chicago",
   "metadata": {},
   "source": [
    "<details>\n",
    "<summary>표준 파이썬 스칼라 자료형</summary>\n",
    "<div markdown=\"1\">\n",
    "\n",
    "|자료형|설명|\n",
    "|:--|:--|\n",
    "|None|파이썬의 'null'값 (하나의 유일한 None 인스턴스만 존재한다.)|\n",
    "|str|문자열 자료형. 유니코드(UTF-8 인코딩) 문자열|\n",
    "|bytes|Raw ASCII 바이트(또는 바이트로 인코딩된 유니코드)|\n",
    "|float|배정밀도(64비트) 부동소수점수.double형이 따로 존재하지 않는다는 점을 기억하자.|\n",
    "|bool|참(True) 또는 거짓(False)|\n",
    "|int|부호가 있는(음수 표현이 가능한) 정수. 값의 범위는 플랫폼에 의존적이다.|\n",
    "\n",
    "</div>\n",
    "</details>"
   ]
  },
  {
   "cell_type": "markdown",
   "id": "consolidated-marketplace",
   "metadata": {},
   "source": [
    "#### 숫자 자료형 \n",
    "- 숫자를 위한 파이썬의 주요 자료형은 int와 float다. int는 임의의 숫자를 저장할 수 있다."
   ]
  },
  {
   "cell_type": "markdown",
   "id": "stock-postage",
   "metadata": {},
   "source": [
    "#### 문자열"
   ]
  },
  {
   "cell_type": "code",
   "execution_count": 53,
   "id": "progressive-alignment",
   "metadata": {},
   "outputs": [
    {
     "data": {
      "text/plain": [
       "'\\n여러 줄에 걸친 문자열은\\n따옴표 세 개로 둘러싼다.\\n'"
      ]
     },
     "execution_count": 53,
     "metadata": {},
     "output_type": "execute_result"
    }
   ],
   "source": [
    "c = \"\"\"\n",
    "여러 줄에 걸친 문자열은\n",
    "따옴표 세 개로 둘러싼다.\n",
    "\"\"\"\n",
    "c"
   ]
  },
  {
   "cell_type": "code",
   "execution_count": 54,
   "id": "lovely-trick",
   "metadata": {},
   "outputs": [
    {
     "data": {
      "text/plain": [
       "3"
      ]
     },
     "execution_count": 54,
     "metadata": {},
     "output_type": "execute_result"
    }
   ],
   "source": [
    "c.count('\\n')"
   ]
  },
  {
   "cell_type": "markdown",
   "id": "august-table",
   "metadata": {},
   "source": [
    "- 파이썬의 문자열은 변경 불가능하다."
   ]
  },
  {
   "cell_type": "code",
   "execution_count": 55,
   "id": "straight-suite",
   "metadata": {},
   "outputs": [
    {
     "ename": "TypeError",
     "evalue": "'str' object does not support item assignment",
     "output_type": "error",
     "traceback": [
      "\u001b[1;31m---------------------------------------------------------------------------\u001b[0m",
      "\u001b[1;31mTypeError\u001b[0m                                 Traceback (most recent call last)",
      "\u001b[1;32m<ipython-input-55-1d0668d00c5a>\u001b[0m in \u001b[0;36m<module>\u001b[1;34m\u001b[0m\n\u001b[0;32m      1\u001b[0m \u001b[0ma\u001b[0m \u001b[1;33m=\u001b[0m \u001b[1;34m\"this is a string\"\u001b[0m\u001b[1;33m\u001b[0m\u001b[1;33m\u001b[0m\u001b[0m\n\u001b[1;32m----> 2\u001b[1;33m \u001b[0ma\u001b[0m\u001b[1;33m[\u001b[0m\u001b[1;36m10\u001b[0m\u001b[1;33m]\u001b[0m \u001b[1;33m=\u001b[0m \u001b[1;34m'f'\u001b[0m\u001b[1;33m\u001b[0m\u001b[1;33m\u001b[0m\u001b[0m\n\u001b[0m",
      "\u001b[1;31mTypeError\u001b[0m: 'str' object does not support item assignment"
     ]
    }
   ],
   "source": [
    "a = \"this is a string\"\n",
    "a[10] = 'f'"
   ]
  },
  {
   "cell_type": "code",
   "execution_count": 57,
   "id": "cheap-density",
   "metadata": {},
   "outputs": [
    {
     "name": "stdout",
     "output_type": "stream",
     "text": [
      "a : this is a string\n",
      "b : this is a longer string\n"
     ]
    }
   ],
   "source": [
    "b = a.replace('string','longer string')\n",
    "print(\"a : {0}\\nb : {1}\".format(a,b))"
   ]
  },
  {
   "cell_type": "markdown",
   "id": "specific-sigma",
   "metadata": {},
   "source": [
    "- 많은 파이썬 객체는 str 함수를 이용해서 문자열로 변환할 수 있다."
   ]
  },
  {
   "cell_type": "code",
   "execution_count": 61,
   "id": "particular-regulation",
   "metadata": {},
   "outputs": [
    {
     "name": "stdout",
     "output_type": "stream",
     "text": [
      "type of a : <class 'float'>\n",
      "type of s : <class 'str'>\n"
     ]
    }
   ],
   "source": [
    "a = 5.6\n",
    "s = str(a)\n",
    "print(\"type of a : {0}\\ntype of s : {1}\".format(type(a),type(s)))"
   ]
  },
  {
   "cell_type": "markdown",
   "id": "varied-award",
   "metadata": {},
   "source": [
    "##### format 메서드"
   ]
  },
  {
   "cell_type": "code",
   "execution_count": 63,
   "id": "fitting-mexican",
   "metadata": {},
   "outputs": [],
   "source": [
    "template = '{0:.2f} {1:s} are worth US${2:d}'"
   ]
  },
  {
   "cell_type": "markdown",
   "id": "sufficient-myrtle",
   "metadata": {},
   "source": [
    "- {0:.2f} : 첫 번재 인자를 소수점 아래 2자리까지만 표시하는 부동소수점 형태로 출력하라는 의미\n",
    "- {1:s}   : 두 번째 인자가 문자열이라는 의미\n",
    "- {2:d}   : 세 번재 인자가 정수라는 의미"
   ]
  },
  {
   "cell_type": "code",
   "execution_count": 64,
   "id": "annoying-drove",
   "metadata": {},
   "outputs": [
    {
     "data": {
      "text/plain": [
       "'4.56 Argentine Pesos are worth US$1'"
      ]
     },
     "execution_count": 64,
     "metadata": {},
     "output_type": "execute_result"
    }
   ],
   "source": [
    "template.format(4.5560, 'Argentine Pesos', 1)"
   ]
  },
  {
   "cell_type": "markdown",
   "id": "charitable-sacrifice",
   "metadata": {},
   "source": [
    "#### 형변환 \n",
    "- str, bool, int, float 자료형은 형변환을 위한 함수로 쓰인다."
   ]
  },
  {
   "cell_type": "code",
   "execution_count": 73,
   "id": "welsh-standing",
   "metadata": {},
   "outputs": [
    {
     "name": "stdout",
     "output_type": "stream",
     "text": [
      "type of float(s) : <class 'float'>\n",
      "int(float(s)) : 3\n",
      "bool(s) : True\n",
      "bool(1) : True\n",
      "bool(0) : False\n"
     ]
    }
   ],
   "source": [
    "s = '3.14159'\n",
    "\n",
    "print('''type of float(s) : {0}\n",
    "int(float(s)) : {1}\n",
    "bool(s) : {2}\n",
    "bool(1) : {3}\n",
    "bool(0) : {4}'''.format(type(float(s)), \\\n",
    "                               int(float(s)), \\\n",
    "                               bool(s), \\\n",
    "                               bool(1), \\\n",
    "                               bool(0)))"
   ]
  },
  {
   "cell_type": "markdown",
   "id": "proud-salmon",
   "metadata": {},
   "source": [
    "#### None\n",
    "- None은 파이썬에서 사용하는 $\\text{널}^{null}$ 값\n",
    "- 만약 어떤 함수에서 명시적으로 값을 반환하지 않으면 묵시적으로 None을 반환한다.  "
   ]
  },
  {
   "cell_type": "code",
   "execution_count": 76,
   "id": "wooden-shock",
   "metadata": {},
   "outputs": [
    {
     "name": "stdout",
     "output_type": "stream",
     "text": [
      "\n",
      "a is None : True\n",
      "b is not None : True\n"
     ]
    }
   ],
   "source": [
    "a = None\n",
    "b = 5\n",
    "\n",
    "print('''\n",
    "a is None : {0}\n",
    "b is not None : {1}'''.format(a is None, \\\n",
    "                             b is not None))\n"
   ]
  },
  {
   "cell_type": "markdown",
   "id": "subsequent-oklahoma",
   "metadata": {},
   "source": [
    "- 또한 None은 함수 인자의 기본값으로 흔히 사용되기도 한다."
   ]
  },
  {
   "cell_type": "code",
   "execution_count": 78,
   "id": "bacterial-russia",
   "metadata": {},
   "outputs": [],
   "source": [
    "def add_and_maybe_multiply(a,b,c=None) :\n",
    "    result = a + b\n",
    "    \n",
    "    if c is not None : \n",
    "        result = result * c\n",
    "        \n",
    "    return result    "
   ]
  },
  {
   "cell_type": "markdown",
   "id": "needed-quality",
   "metadata": {},
   "source": [
    "- 기술적인 측면에서 None은 예약어가 아니라 NoneType의 **유일한 인스턴트**임을 기억하자."
   ]
  },
  {
   "cell_type": "code",
   "execution_count": 79,
   "id": "official-lover",
   "metadata": {},
   "outputs": [
    {
     "data": {
      "text/plain": [
       "NoneType"
      ]
     },
     "execution_count": 79,
     "metadata": {},
     "output_type": "execute_result"
    }
   ],
   "source": [
    "type(None)"
   ]
  },
  {
   "cell_type": "markdown",
   "id": "lonely-credits",
   "metadata": {},
   "source": [
    "#### 날짜와 시간"
   ]
  },
  {
   "cell_type": "markdown",
   "id": "popular-missouri",
   "metadata": {},
   "source": [
    "- 파이썬 내장 datetime 모듈은 datetime, date, 그리고 time 형을 지원한다."
   ]
  },
  {
   "cell_type": "markdown",
   "id": "statistical-floating",
   "metadata": {},
   "source": [
    "<details>\n",
    "<summary> Datetime 포맷 규칙(ISO C89 호환) </summary>\n",
    "<div markdown=\"1\">\n",
    "\n",
    "|포맷|설명|\n",
    "|:--|:--|\n",
    "|%Y|4자리 연도|\n",
    "|%y|2자리 연도|\n",
    "|%m|2자리 월 [01,12]|\n",
    "|%d|2자리 일 [01,31]|\n",
    "|%H|시간(24시간 형식) [00,23]|\n",
    "|%I|시간(12시간 형식) [01,12]|\n",
    "|%M|2자리 분 [00,59]|\n",
    "|%S|초 [00,61] (60,61은 윤초)|\n",
    "|%w|정수로 나타낸 요일 [0(일요일),6]|    \n",
    "|%U|연중 주차 [00,53]. 일요일을 그 주의 첫 번째 날로 간주하며, 그 해에서 첫 번재 일요일 앞에 있는 날은 0주차가 된다.|\n",
    "|%W|연중 주차 [00,53]. 월요일을 그 주의 첫 번째 날로 간주하며, 그 해에서 첫 번째 월요일 앞에 있는 날은 0주차가 된다.\n",
    "|%z|UTC 시간대 오프셋을 +HHMM 또는 -HHMM으로 표현한다. 만약 시간대를 신경 쓰지 않는다면 비워둔다.|\n",
    "|%F|%Y-%m-%d 형식에 대한 축약 (예:2012-4-18)|\n",
    "|%D|%m/%d/%y 형식에 대한 축약 (예:04/18/12)|\n",
    "    \n",
    "</div>\n",
    "</details>"
   ]
  },
  {
   "cell_type": "code",
   "execution_count": 26,
   "id": "strong-richardson",
   "metadata": {},
   "outputs": [
    {
     "name": "stdout",
     "output_type": "stream",
     "text": [
      "\n",
      "year of dt : 2021\n",
      "month of dt : 7\n",
      "day of dt : 24\n",
      "hour of dt : 15\n",
      "minute of dt : 29\n",
      "second of dt : 39\n"
     ]
    }
   ],
   "source": [
    "from datetime import datetime, date, time\n",
    "dt = datetime(2021,7,24,15,29,39)\n",
    "\n",
    "print('''\n",
    "year of dt : {0}\n",
    "month of dt : {1}\n",
    "day of dt : {2}\n",
    "hour of dt : {3}\n",
    "minute of dt : {4}\n",
    "second of dt : {5}'''.format(dt.year, \\\n",
    "                             dt.month, \\\n",
    "                             dt.day, \\\n",
    "                             dt.hour, \\\n",
    "                             dt.minute, \\\n",
    "                             dt.second))"
   ]
  },
  {
   "cell_type": "markdown",
   "id": "bored-virus",
   "metadata": {},
   "source": [
    "##### datetime.date(), datetime.time()\n",
    "- datetime 인스턴스에서 date 메서드와 time 메서드를 사용해서 해당 datetime의 날짜와 시간을 추출할 수 있다."
   ]
  },
  {
   "cell_type": "code",
   "execution_count": 16,
   "id": "provincial-combat",
   "metadata": {},
   "outputs": [
    {
     "name": "stdout",
     "output_type": "stream",
     "text": [
      "\n",
      "date of dt : 2021-07-24\n",
      "time of dt : 15:29:39\n"
     ]
    }
   ],
   "source": [
    "print('''\n",
    "date of dt : {0}\n",
    "time of dt : {1}'''.format(dt.date(), \\\n",
    "                          dt.time()))"
   ]
  },
  {
   "cell_type": "markdown",
   "id": "quiet-introduction",
   "metadata": {},
   "source": [
    "##### datetime.strftime()\n",
    "- datetime 객체를 문자열로 만들어 줌"
   ]
  },
  {
   "cell_type": "code",
   "execution_count": 29,
   "id": "liberal-stake",
   "metadata": {},
   "outputs": [
    {
     "data": {
      "text/plain": [
       "'07/24/2021 15:29'"
      ]
     },
     "execution_count": 29,
     "metadata": {},
     "output_type": "execute_result"
    }
   ],
   "source": [
    "dt.strftime(\"%m/%d/%Y %H:%M\")"
   ]
  },
  {
   "cell_type": "markdown",
   "id": "characteristic-tampa",
   "metadata": {},
   "source": [
    "##### datetime.strptime()\n",
    "- 문자열을 해석하여 datetime 객체로 만들어 줌"
   ]
  },
  {
   "cell_type": "code",
   "execution_count": 33,
   "id": "loose-automation",
   "metadata": {},
   "outputs": [
    {
     "data": {
      "text/plain": [
       "datetime.datetime(2009, 10, 31, 0, 0)"
      ]
     },
     "execution_count": 33,
     "metadata": {},
     "output_type": "execute_result"
    }
   ],
   "source": [
    "datetime.strptime('20091031',\"%Y%m%d\")"
   ]
  },
  {
   "cell_type": "markdown",
   "id": "typical-salmon",
   "metadata": {},
   "source": [
    "##### datetime.replace()\n",
    "- datetime.relace() 메서드를 통해 datetime 객체의 필드를 치환할 수 있음"
   ]
  },
  {
   "cell_type": "code",
   "execution_count": 36,
   "id": "institutional-being",
   "metadata": {},
   "outputs": [
    {
     "data": {
      "text/plain": [
       "datetime.datetime(2021, 7, 24, 15, 0)"
      ]
     },
     "execution_count": 36,
     "metadata": {},
     "output_type": "execute_result"
    }
   ],
   "source": [
    "dt.replace(minute=0,second = 0)\n",
    "# datetime.datetime은 변경 불가능하며, 위 같은 종류의 메서드들은 항상 새로운 객체를 반환한다."
   ]
  },
  {
   "cell_type": "markdown",
   "id": "centered-capability",
   "metadata": {},
   "source": [
    "##### datetime.timedelta\n",
    "- 두 datetime 객체의 차는 datetime.timedelta 객체를 반환한다."
   ]
  },
  {
   "cell_type": "code",
   "execution_count": 47,
   "id": "widespread-organic",
   "metadata": {},
   "outputs": [
    {
     "data": {
      "text/plain": [
       "datetime.timedelta(days=1, seconds=951)"
      ]
     },
     "execution_count": 47,
     "metadata": {},
     "output_type": "execute_result"
    }
   ],
   "source": [
    "dt2 = datetime(2021,7,25,15,45,30)\n",
    "delta = dt2 -dt\n",
    "delta      # dt2와 dt는 1일과 951초 만큼의 시간차이를 의미한다. "
   ]
  },
  {
   "cell_type": "markdown",
   "id": "included-algorithm",
   "metadata": {},
   "source": [
    "### 2.3.3 흐름제어"
   ]
  },
  {
   "cell_type": "markdown",
   "id": "coated-turning",
   "metadata": {},
   "source": [
    "#### if, elif, else"
   ]
  },
  {
   "cell_type": "code",
   "execution_count": 50,
   "id": "falling-ordinary",
   "metadata": {},
   "outputs": [
    {
     "name": "stdout",
     "output_type": "stream",
     "text": [
      "Positive and larger than or equal to 5\n"
     ]
    }
   ],
   "source": [
    "x = 10\n",
    "\n",
    "if x < 0 :\n",
    "    print(\"It's negative\")\n",
    "elif x == 0 :\n",
    "    print(\"Equal to zero\")\n",
    "elif 0 < x < 5 :\n",
    "    print(\"Positive but smaller than 5\")\n",
    "else : \n",
    "    print(\"Positive and larger than or equal to 5\")"
   ]
  },
  {
   "cell_type": "markdown",
   "id": "laden-cursor",
   "metadata": {},
   "source": [
    "- 여러 조건을 연결해서 사용하는 것도 가능하다."
   ]
  },
  {
   "cell_type": "code",
   "execution_count": 51,
   "id": "japanese-haven",
   "metadata": {},
   "outputs": [
    {
     "data": {
      "text/plain": [
       "True"
      ]
     },
     "execution_count": 51,
     "metadata": {},
     "output_type": "execute_result"
    }
   ],
   "source": [
    "4>3>2>1"
   ]
  },
  {
   "cell_type": "markdown",
   "id": "comparable-compensation",
   "metadata": {},
   "source": [
    "#### for 문\n",
    "* for 문은 continue, break와 함께 유용하게 쓰임\n",
    "    - continue : 남은 블록을 건너 뛰고 다음 순회로 넘어갈 수 있음\n",
    "    - break : loop를 빠져나갈 수 있음"
   ]
  },
  {
   "cell_type": "code",
   "execution_count": 54,
   "id": "pursuant-textbook",
   "metadata": {},
   "outputs": [
    {
     "data": {
      "text/plain": [
       "12"
      ]
     },
     "execution_count": 54,
     "metadata": {},
     "output_type": "execute_result"
    }
   ],
   "source": [
    "# continue 예약어를 사용하여 None 값은 건너뛰고 리스트에 있는 모든 정수를 더하는 코드\n",
    "sequence = [1,2,None,4,None,5]\n",
    "total = 0\n",
    "\n",
    "for value in sequence : \n",
    "    if value is None :\n",
    "        continue\n",
    "    total += value\n",
    "\n",
    "total"
   ]
  },
  {
   "cell_type": "code",
   "execution_count": 56,
   "id": "wooden-stanley",
   "metadata": {},
   "outputs": [
    {
     "data": {
      "text/plain": [
       "13"
      ]
     },
     "execution_count": 56,
     "metadata": {},
     "output_type": "execute_result"
    }
   ],
   "source": [
    "# break를 사용하여 5를 만날 때까지 모든 원소를 더하는 코드\n",
    "sequence = [1,2,0,4,6,5,2,1]\n",
    "total_until_5 = 0\n",
    "\n",
    "for value in sequence :\n",
    "    if value == 5 : \n",
    "        break\n",
    "    total_until_5 += value\n",
    "    \n",
    "total_until_5"
   ]
  },
  {
   "cell_type": "markdown",
   "id": "discrete-belle",
   "metadata": {},
   "source": [
    "#### while 문\n",
    "- while 문은 조건을 명시하여 해당 조건이 False가 되거나 break 문을 사용해서 명시적으로 반복을 끝낼 때 까지 블록 내 코드를 수행한다."
   ]
  },
  {
   "cell_type": "code",
   "execution_count": 64,
   "id": "taken-parallel",
   "metadata": {},
   "outputs": [
    {
     "name": "stdout",
     "output_type": "stream",
     "text": [
      "x : 128\n",
      "total : 256\n",
      "x : 64\n",
      "total : 384\n",
      "x : 32\n",
      "total : 448\n",
      "x : 16\n",
      "total : 480\n",
      "x : 8\n",
      "total : 496\n",
      "x : 4\n",
      "total : 504\n"
     ]
    }
   ],
   "source": [
    "x = 256\n",
    "total = 0\n",
    "\n",
    "while x > 0 :\n",
    "    if total > 500 : \n",
    "        break\n",
    "    total += x\n",
    "    x = x//2\n",
    "    print(\"x : {0}\\ntotal : {1}\".format(x,total))"
   ]
  },
  {
   "cell_type": "markdown",
   "id": "divided-typing",
   "metadata": {},
   "source": [
    "#### pass\n",
    "- 파이썬에서 pass는 아무 것도 하지 않음을 나타낸다. (또는 아직 구현하지 않은 코드를 나중에 추가하기 위한 플레이스홀더 용도로 사용한다.)"
   ]
  },
  {
   "cell_type": "code",
   "execution_count": 65,
   "id": "healthy-medicine",
   "metadata": {},
   "outputs": [],
   "source": [
    "x = 0\n",
    "\n",
    "if x < 0 :\n",
    "    print(\"negative!\")\n",
    "elif x == 0 :\n",
    "    # TODO: 여기에 내용 채울 것\n",
    "    pass\n",
    "else : \n",
    "    print(\"positive!\")"
   ]
  },
  {
   "cell_type": "markdown",
   "id": "compact-indonesian",
   "metadata": {},
   "source": [
    "#### 삼항 표현식\n",
    "- 파이썬의 _**삼항 표현식**_ 은 if-else 블록을 한 줄로 표현할 수 있도록 한다. (R에서 ifelse(condition, true_expr, false_expr))\n",
    "- value = _true_expr_ if condition else _false_expr_ (문법)\n"
   ]
  },
  {
   "cell_type": "code",
   "execution_count": 72,
   "id": "flying-prayer",
   "metadata": {},
   "outputs": [
    {
     "data": {
      "text/plain": [
       "'Non-negative'"
      ]
     },
     "execution_count": 72,
     "metadata": {},
     "output_type": "execute_result"
    }
   ],
   "source": [
    "x = 5 \n",
    "\n",
    "'Non-negative' if x >=0 else 'Negative'"
   ]
  }
 ],
 "metadata": {
  "kernelspec": {
   "display_name": "Python 3",
   "language": "python",
   "name": "python3"
  },
  "language_info": {
   "codemirror_mode": {
    "name": "ipython",
    "version": 3
   },
   "file_extension": ".py",
   "mimetype": "text/x-python",
   "name": "python",
   "nbconvert_exporter": "python",
   "pygments_lexer": "ipython3",
   "version": "3.8.10"
  },
  "toc-autonumbering": false,
  "toc-showcode": false,
  "toc-showmarkdowntxt": false,
  "toc-showtags": false
 },
 "nbformat": 4,
 "nbformat_minor": 5
}
