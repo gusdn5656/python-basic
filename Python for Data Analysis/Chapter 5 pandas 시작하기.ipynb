{
 "cells": [
  {
   "cell_type": "markdown",
   "id": "sensitive-chain",
   "metadata": {},
   "source": [
    "# Chapter 5 pandas 시작하기"
   ]
  },
  {
   "cell_type": "markdown",
   "id": "union-tucson",
   "metadata": {},
   "source": [
    "- pandas는 아래의 도구들과 같이 사용하는 경우가 흔하다.\n",
    "    - 산술 계산 도구인 NumPy와 SciPy\n",
    "    - 분석 라이브러리인 statsmodels와 scikit-learn\n",
    "    - 시각화 도구인 matplotlib  \n",
    "- pandas는 for 문을 사용하지 않고 데이터를 처리한다거나 배열 기반의 함수를 제공하는 등 NumPy의 배열 기반 계산 스타일을 많이 차용했다.\n",
    "- pandas의 import 컨벤션은 `import pandas as pd`\n",
    "- E또한 `Series`와 `DataFrame`은 로컬 네임스페이스로 임포트하는 것이 컨벤션"
   ]
  },
  {
   "cell_type": "code",
   "execution_count": null,
   "id": "representative-baking",
   "metadata": {},
   "outputs": [],
   "source": [
    "import pandas as pd\n",
    "from pandas import Series, DataFrame"
   ]
  },
  {
   "cell_type": "markdown",
   "id": "turkish-boutique",
   "metadata": {},
   "source": [
    " "
   ]
  },
  {
   "cell_type": "markdown",
   "id": "typical-commission",
   "metadata": {},
   "source": [
    "## 5.1 pandas 자료구조 소개"
   ]
  },
  {
   "cell_type": "markdown",
   "id": "bulgarian-despite",
   "metadata": {},
   "source": [
    "- pandas에 대해 알아보려면 Series와 DataFrame, 이 두 가지 자료구조에 익숙해질 필요가 있다."
   ]
  },
  {
   "cell_type": "markdown",
   "id": "initial-punch",
   "metadata": {},
   "source": [
    "### 5.1.1 Series"
   ]
  },
  {
   "cell_type": "markdown",
   "id": "printable-suffering",
   "metadata": {},
   "source": [
    "- Series는 일련의 객체를 담을 수 있는 1차원 배열 같은 자료구조다 (어떤 NumPy 자료형이라도 담을 수 있다).\n",
    "- $색인^{\\text{index}}$이라고 하는 배열의 데이터와 연관된 `이름`을 가지고 있다.\n",
    "- 가장 간단한 Series 객체는 배열 데이터로부터 생성할 수 있다."
   ]
  },
  {
   "cell_type": "code",
   "execution_count": null,
   "id": "efficient-hierarchy",
   "metadata": {},
   "outputs": [],
   "source": [
    "obj = pd.Series([4,7,-5,3])\n",
    "obj"
   ]
  },
  {
   "cell_type": "code",
   "execution_count": null,
   "id": "committed-question",
   "metadata": {},
   "outputs": [],
   "source": [
    "obj.values"
   ]
  },
  {
   "cell_type": "code",
   "execution_count": null,
   "id": "quantitative-louisville",
   "metadata": {},
   "outputs": [],
   "source": [
    "obj.index  # range(4)와 같다."
   ]
  },
  {
   "cell_type": "markdown",
   "id": "simplified-lease",
   "metadata": {},
   "source": [
    "> 별도로 index를 지정해 줄 수 있다."
   ]
  },
  {
   "cell_type": "code",
   "execution_count": null,
   "id": "prospective-trail",
   "metadata": {},
   "outputs": [],
   "source": [
    "obj2 = pd.Series([4,7,-5,3], index = ['d','b','a','c'])\n",
    "obj2"
   ]
  },
  {
   "cell_type": "code",
   "execution_count": null,
   "id": "cheap-american",
   "metadata": {},
   "outputs": [],
   "source": [
    "obj2.index"
   ]
  },
  {
   "cell_type": "markdown",
   "id": "digital-linux",
   "metadata": {},
   "source": [
    "> 다음과 같은 활용 방안도 있다."
   ]
  },
  {
   "cell_type": "code",
   "execution_count": null,
   "id": "secret-cleveland",
   "metadata": {},
   "outputs": [],
   "source": [
    "import numpy as np\n",
    "\n",
    "print('''\n",
    "obj2['a'] : {0} \\n\n",
    "\n",
    "------------------\n",
    "\n",
    "obj2[['c','a','d']] \n",
    "\n",
    "{1} \n",
    "\n",
    "------------------\n",
    "\n",
    "obj2[obj2 > 0] \n",
    "\n",
    "{2}\n",
    "    \n",
    "------------------\n",
    "    \n",
    "np.exp(obj2) \n",
    "\n",
    "{3}'''.format(obj2['a'], \\\n",
    "              obj2[['c','a','d']], \\\n",
    "              obj2[obj2 > 0], \\\n",
    "              np.exp(obj2)))"
   ]
  },
  {
   "cell_type": "markdown",
   "id": "similar-prediction",
   "metadata": {},
   "source": [
    " "
   ]
  },
  {
   "cell_type": "markdown",
   "id": "thousand-bride",
   "metadata": {},
   "source": [
    "> Series는 색인값에 데이터값을 매핑하고 있으므로 파이썬의 사전형과 비슷하다.  \n",
    "> Series 객체는 파이썬의 사전형을 인자로 받아야 하는 많은 함수에서 사전형을 대체하여 사용할 수 있다."
   ]
  },
  {
   "cell_type": "code",
   "execution_count": null,
   "id": "loved-album",
   "metadata": {},
   "outputs": [],
   "source": [
    "sdata = {'Ohio' : 35000, 'Texas' : 71000, 'Oregon' : 16000, 'Utah' : 5000}\n",
    "\n",
    "obj3 = pd.Series(sdata)\n",
    "obj3"
   ]
  },
  {
   "cell_type": "markdown",
   "id": "combined-capital",
   "metadata": {},
   "source": [
    "> 색인을 직접 지정하고 싶다면 원하는 순서대로 색인을 직접 넘겨줄 수도 있다."
   ]
  },
  {
   "cell_type": "code",
   "execution_count": null,
   "id": "british-cooperation",
   "metadata": {},
   "outputs": [],
   "source": [
    "states = ['California','Ohio','Oregon','Texas']\n",
    "\n",
    "obj4 = pd.Series(sdata, index = states)\n",
    "obj4 "
   ]
  },
  {
   "cell_type": "markdown",
   "id": "chicken-headset",
   "metadata": {},
   "source": [
    "> 위 결과에서 California index에 해당하는 값이 없으므로 $\\text{NAN}^{\\text{not a number}}$으로 표시된다.  \n",
    "> 'Utah'는 states에 포함되어 있지 않으므로 실행 결과에서 빠지게 된다."
   ]
  },
  {
   "cell_type": "markdown",
   "id": "alike-pepper",
   "metadata": {},
   "source": [
    "> pandas의 isnull과 notnull 함수는 누락된 데이터를 찾을 때 사용된다."
   ]
  },
  {
   "cell_type": "code",
   "execution_count": null,
   "id": "assured-neighbor",
   "metadata": {},
   "outputs": [],
   "source": [
    "pd.isnull(obj4)"
   ]
  },
  {
   "cell_type": "code",
   "execution_count": null,
   "id": "civilian-thermal",
   "metadata": {},
   "outputs": [],
   "source": [
    "pd.notnull(obj4)"
   ]
  },
  {
   "cell_type": "code",
   "execution_count": null,
   "id": "balanced-idaho",
   "metadata": {},
   "outputs": [],
   "source": [
    "# 해당 메서드는 Series 객체의 인스턴트 메서드로도 존재한다.\n",
    "obj4.isnull()"
   ]
  },
  {
   "cell_type": "markdown",
   "id": "neural-aspect",
   "metadata": {},
   "source": [
    "> Series의 유용한 기능은 산술 연산에서 색인과 라벨로 자동 정렬하는 것이다.  \n",
    "> 데이터베이스를 사용해본 경험이 있다면 join 연산과 비슷하다고 여겨질 것이다."
   ]
  },
  {
   "cell_type": "code",
   "execution_count": null,
   "id": "interpreted-watts",
   "metadata": {},
   "outputs": [],
   "source": [
    "obj3 + obj4"
   ]
  },
  {
   "cell_type": "markdown",
   "id": "under-eight",
   "metadata": {},
   "source": [
    " "
   ]
  },
  {
   "cell_type": "markdown",
   "id": "beneficial-impression",
   "metadata": {},
   "source": [
    "> Series 객체와 Series의 색인은 모두 name 속성이 있음. 이 속성은 pandas의 핵심 기능과 밀접한 관련이 있다."
   ]
  },
  {
   "cell_type": "code",
   "execution_count": null,
   "id": "surface-document",
   "metadata": {},
   "outputs": [],
   "source": [
    "obj4.name = 'population'\n",
    "obj4.index.name = 'state'\n",
    "\n",
    "obj4"
   ]
  },
  {
   "cell_type": "markdown",
   "id": "behind-generator",
   "metadata": {},
   "source": [
    "> Series의 색인은 대입하여 변경할 수 있다."
   ]
  },
  {
   "cell_type": "code",
   "execution_count": null,
   "id": "occupied-vertex",
   "metadata": {},
   "outputs": [],
   "source": [
    "obj.index = ['Bob','Steve','Jeff','Ryan']\n",
    "obj"
   ]
  },
  {
   "cell_type": "markdown",
   "id": "pleased-macedonia",
   "metadata": {},
   "source": [
    " "
   ]
  },
  {
   "cell_type": "markdown",
   "id": "peaceful-candle",
   "metadata": {},
   "source": [
    "### 5.1.2 DataFrame\n",
    "- DataFrame은 표 같은 스프레드시트 형식의 자료구조\n",
    "- 여러 개의 컬럼이 있으며 각 컬럼은 서로 다른 종류의 값 (숫자, 문자열, 불리언 등)을 담을 수 있음\n",
    "- DataFrame은 로우와 컬럼에 대한 색인을 가지고 있음. 색인의 모양이 같은 Series 객체를 담고 있는 파이썬 사전으로 생각하면 편하다.\n",
    "- 물리적으로 DataFrame은 2차원이지만 계층적 색인을 이용해서 좀 더 고차원의 데이터를 표현할 수 있음\n",
    "- DataFrame 객체를 생성하는 가장 흔한 방법은 같은 길이의 리스트에 담긴 사전을 이용하거나 NumPy 배열을 이용하는 것이다."
   ]
  },
  {
   "cell_type": "code",
   "execution_count": null,
   "id": "satellite-vertex",
   "metadata": {},
   "outputs": [],
   "source": [
    "data = {'state' : ['Ohio','Ohio','Ohio','Nevada','Nevada','Nevada'],\n",
    "        'year' : [2000,2001,2002,2001,2002,2003],\n",
    "        'pop' : [1.5,1.7,3.6,2.4,2.9,3.2]}\n",
    "frame = pd.DataFrame(data)\n",
    "frame"
   ]
  },
  {
   "cell_type": "markdown",
   "id": "greek-silicon",
   "metadata": {},
   "source": [
    " "
   ]
  },
  {
   "cell_type": "markdown",
   "id": "floral-member",
   "metadata": {},
   "source": [
    "> 원하는 순서대로 columns를 지정하면 원하는 순서를 가진 DataFrame 객체가 `생성`된다."
   ]
  },
  {
   "cell_type": "code",
   "execution_count": null,
   "id": "german-minimum",
   "metadata": {},
   "outputs": [],
   "source": [
    "pd.DataFrame(data, columns = ['year','state','pop'])"
   ]
  },
  {
   "cell_type": "markdown",
   "id": "olympic-steel",
   "metadata": {},
   "source": [
    " "
   ]
  },
  {
   "cell_type": "markdown",
   "id": "least-sauce",
   "metadata": {},
   "source": [
    "> Series와 마찬가지로 사전에 없는 값을 넘기면 결측치로 저장된다."
   ]
  },
  {
   "cell_type": "code",
   "execution_count": null,
   "id": "ultimate-shadow",
   "metadata": {},
   "outputs": [],
   "source": [
    "frame2 = pd.DataFrame(data, \n",
    "                      columns = ['year','state','pop','debt'],\n",
    "                      index = ['one','two','three','four','five','six'])\n",
    "frame2"
   ]
  },
  {
   "cell_type": "code",
   "execution_count": null,
   "id": "original-jones",
   "metadata": {},
   "outputs": [],
   "source": [
    "frame2.columns"
   ]
  },
  {
   "cell_type": "markdown",
   "id": "viral-jaguar",
   "metadata": {},
   "source": [
    "  "
   ]
  },
  {
   "cell_type": "markdown",
   "id": "sacred-chrome",
   "metadata": {},
   "source": [
    "> DataFrame의 컬럼은 Series처럼 `사전 형식의 표기법`으로 접근하거나 `속성 형식`으로 접근할 수 있다."
   ]
  },
  {
   "cell_type": "code",
   "execution_count": null,
   "id": "boring-invalid",
   "metadata": {},
   "outputs": [],
   "source": [
    "frame2['state']   # 사전 형식의 표기법으로 컬럼에 접근하는 방법"
   ]
  },
  {
   "cell_type": "code",
   "execution_count": null,
   "id": "social-cambridge",
   "metadata": {},
   "outputs": [],
   "source": [
    "frame2.year # 속성 형식으로 컬럼에 접근하는 방법"
   ]
  },
  {
   "cell_type": "markdown",
   "id": "arabic-accused",
   "metadata": {},
   "source": [
    "  "
   ]
  },
  {
   "cell_type": "markdown",
   "id": "wireless-insight",
   "metadata": {},
   "source": [
    "> 로우는 위치나 loc 속성을 이용해서 이름을 통해 접근할 수 있다."
   ]
  },
  {
   "cell_type": "code",
   "execution_count": null,
   "id": "warming-department",
   "metadata": {},
   "outputs": [],
   "source": [
    "frame2.loc['three']"
   ]
  },
  {
   "cell_type": "markdown",
   "id": "structured-entrepreneur",
   "metadata": {},
   "source": [
    "  "
   ]
  },
  {
   "cell_type": "markdown",
   "id": "worthy-service",
   "metadata": {},
   "source": [
    "> 컬럼은 스칼라값이나 배열의 값으로 대입 가능하다.  \n",
    "> 리스트나 배열을 컬럼에 대입할 때는 대입하려는 값의 길이가 DataFrame의 크기와 `동일`해야 한다."
   ]
  },
  {
   "cell_type": "code",
   "execution_count": null,
   "id": "elder-sending",
   "metadata": {},
   "outputs": [],
   "source": [
    "frame2['debt'] = 16.5\n",
    "frame2"
   ]
  },
  {
   "cell_type": "code",
   "execution_count": null,
   "id": "amended-structure",
   "metadata": {},
   "outputs": [],
   "source": [
    "frame2['debt'] = np.arange(6.)\n",
    "frame2"
   ]
  },
  {
   "cell_type": "markdown",
   "id": "square-failing",
   "metadata": {},
   "source": [
    " "
   ]
  },
  {
   "cell_type": "markdown",
   "id": "dangerous-voltage",
   "metadata": {},
   "source": [
    "> Series를 컬럼에 대입하는 경우 DataFrame의 색인에 따라 값이 대입되며 존재하지 않는 색인에는 결측치가 대입된다."
   ]
  },
  {
   "cell_type": "code",
   "execution_count": null,
   "id": "bearing-dependence",
   "metadata": {},
   "outputs": [],
   "source": [
    "val = pd.Series([-1.2, -1.5, -1.7], index = ['two','four','five'])\n",
    "\n",
    "frame2['debt'] = val\n",
    "frame2"
   ]
  },
  {
   "cell_type": "markdown",
   "id": "virgin-norfolk",
   "metadata": {},
   "source": [
    " "
   ]
  },
  {
   "cell_type": "markdown",
   "id": "initial-activation",
   "metadata": {},
   "source": [
    "> 존재하지 않는 컬럼을 대입하면 새로운 컬럼을 생성한다.  \n",
    "> del 예약어를 사용해서 컬럼을 삭제할 수 있다."
   ]
  },
  {
   "cell_type": "code",
   "execution_count": null,
   "id": "identified-pilot",
   "metadata": {},
   "outputs": [],
   "source": [
    "frame2['eastern'] = frame2['state'] == 'Ohio'\n",
    "frame2"
   ]
  },
  {
   "cell_type": "code",
   "execution_count": null,
   "id": "arabic-chrome",
   "metadata": {},
   "outputs": [],
   "source": [
    "del frame2['eastern']\n",
    "frame2"
   ]
  },
  {
   "cell_type": "markdown",
   "id": "determined-boating",
   "metadata": {},
   "source": [
    " "
   ]
  },
  {
   "cell_type": "markdown",
   "id": "local-simon",
   "metadata": {},
   "source": [
    "> 중첩된 사전을 이용해서 데이터를 생성할 수 있다.  \n",
    "> 중첩된 사전의 `바깥에 있는 키`는 `컬럼`이 되고 `안에 있는 키`는 `로우(인덱스)`가 된다."
   ]
  },
  {
   "cell_type": "code",
   "execution_count": null,
   "id": "remarkable-america",
   "metadata": {},
   "outputs": [],
   "source": [
    "pop = {'Nevada' : {2001 : 2.4, 2002 : 2.9},\n",
    "       'Ohio' : {2000 : 1.5, 2001 : 1.7, 2002 : 3.6}}\n",
    "\n",
    "frame3 = pd.DataFrame(pop)\n",
    "frame3"
   ]
  },
  {
   "cell_type": "markdown",
   "id": "future-cream",
   "metadata": {},
   "source": [
    " "
   ]
  },
  {
   "cell_type": "markdown",
   "id": "minor-commissioner",
   "metadata": {},
   "source": [
    "> 만일 데이터 프레임의 색인(index)과 컬럼(columns)에 name 속성을 지정했다면 이 역시 함께 출력됨"
   ]
  },
  {
   "cell_type": "code",
   "execution_count": null,
   "id": "marine-insertion",
   "metadata": {},
   "outputs": [],
   "source": [
    "frame3.index.name = 'year'; frame3.columns.name = 'state'\n",
    "frame3"
   ]
  },
  {
   "cell_type": "markdown",
   "id": "tired-participant",
   "metadata": {},
   "source": [
    " "
   ]
  },
  {
   "cell_type": "markdown",
   "id": "deluxe-suspension",
   "metadata": {},
   "source": [
    "> Series와 유사하게 values 속성은 DataFrame에 저장된 데이터를 2차원 배열로 반환함"
   ]
  },
  {
   "cell_type": "code",
   "execution_count": null,
   "id": "greenhouse-check",
   "metadata": {},
   "outputs": [],
   "source": [
    "frame3.values"
   ]
  },
  {
   "cell_type": "markdown",
   "id": "african-mailman",
   "metadata": {},
   "source": [
    " "
   ]
  },
  {
   "cell_type": "markdown",
   "id": "ecological-candy",
   "metadata": {},
   "source": [
    "#### DataFrame 생성자에 넘길 수 있는 자료형 목록\n",
    "\n",
    "<details>\n",
    "<summary>DataFrame 생성을 위한 입력 데이터의 종류</summary>\n",
    "<div markdown=\"1\">\n",
    "\n",
    "|형|설명|\n",
    "|:--|:--|\n",
    "|2차원 ndarray|데이터를 담고 있는 행렬. 선택적으로 행(로우)과 열(컬럼)의 이름을 전달할 수 있다.|\n",
    "|배열, 리스트, 튜플의 사전|사전의 모든 항목은 같은 길이를 가져야 하며, 각 항목의 내용이 DataFrame의 컬럼이 된다.|\n",
    "|NumPy의 구조화 배열|배열의 사전과 같은 방식으로 취급된다.|\n",
    "|Series의 사전|Series의 각 값이 컬럼이 된다. 명시적으로 색인을 넘겨주지 않으면 각 Series의 색인이 하나로 합쳐져서 로우의 색인이 된다.|\n",
    "|사전의 사전|내부에 있는 사전이 컬럼이 된다. 키값은 'Series의 사전'과 마찬가지로 합쳐져서 로우의 색인이 된다.|\n",
    "|사전이나 Series의 리스트|리스트의 각 항목이 DataFrame의 로우가 된다. 합쳐진 사전의 키값이나 Series의 색인이 DAtaFrame의 컬럼 이름이 된다.|\n",
    "|리스트나 튜플의 리스트|'2차원 ndarray'의 경우와 같은 방식으로 취급된다.|\n",
    "|다른 DataFrame|색인을 따로 지정하지 않으면 DataFrame의 색인이 그대로 사용된다.|\n",
    "|NumPy MaskedArray|'2차원 ndarray'의 경우와 같은 방식으로 취급되지만 마스크값은 반환되는 DataFrame에서 NA값이 된다.|\n",
    "    \n",
    "</div>\n",
    "</details>"
   ]
  },
  {
   "cell_type": "markdown",
   "id": "asian-magnitude",
   "metadata": {},
   "source": [
    " "
   ]
  },
  {
   "cell_type": "markdown",
   "id": "acknowledged-rates",
   "metadata": {},
   "source": [
    "### 5.1.3 색인 객체 \n",
    "- pandas의 색인 객체는 표 형식의 데이터에서 `각 로우와 컬럼에 대한 이름`과 다른 메타데이터 (`축의 이름 등`)을 저장하는 `객체`다.\n",
    "- Series나 DataFrame 객체를 생성할 때 사용되는 배열이나 다른 순차적인 이름은 내부적으로 색인으로 변환된다."
   ]
  },
  {
   "cell_type": "code",
   "execution_count": null,
   "id": "suited-wagon",
   "metadata": {},
   "outputs": [],
   "source": [
    "obj = pd.Series(range(3), index = ['a','b','c'])\n",
    "index = obj.index"
   ]
  },
  {
   "cell_type": "code",
   "execution_count": null,
   "id": "convinced-spiritual",
   "metadata": {},
   "outputs": [],
   "source": [
    "print('''\n",
    "index : {0}\n",
    "index[1:] : {1}'''.format(index, index[1:]))"
   ]
  },
  {
   "cell_type": "markdown",
   "id": "warming-possible",
   "metadata": {},
   "source": [
    " "
   ]
  },
  {
   "cell_type": "markdown",
   "id": "excited-drink",
   "metadata": {},
   "source": [
    "> 색인 객체는 변경이 불가능하다."
   ]
  },
  {
   "cell_type": "code",
   "execution_count": null,
   "id": "silver-terrace",
   "metadata": {},
   "outputs": [],
   "source": [
    "index[1] = 'd'"
   ]
  },
  {
   "cell_type": "markdown",
   "id": "massive-kinase",
   "metadata": {},
   "source": [
    " "
   ]
  },
  {
   "cell_type": "markdown",
   "id": "caring-sleeping",
   "metadata": {},
   "source": [
    "> 그러므로 자료구조 사이에서 안전하게 공유될 수 있다."
   ]
  },
  {
   "cell_type": "code",
   "execution_count": null,
   "id": "contained-recovery",
   "metadata": {},
   "outputs": [],
   "source": [
    "labels = pd.Index(np.arange(3))\n",
    "labels"
   ]
  },
  {
   "cell_type": "code",
   "execution_count": null,
   "id": "accessible-south",
   "metadata": {},
   "outputs": [],
   "source": [
    "obj2 = pd.Series([1.5,-2.5,0], index = labels)\n",
    "obj2"
   ]
  },
  {
   "cell_type": "code",
   "execution_count": null,
   "id": "israeli-infection",
   "metadata": {},
   "outputs": [],
   "source": [
    "obj2.index is labels"
   ]
  },
  {
   "cell_type": "markdown",
   "id": "derived-collect",
   "metadata": {},
   "source": [
    " "
   ]
  },
  {
   "cell_type": "markdown",
   "id": "private-lightweight",
   "metadata": {},
   "source": [
    "#### 색인 메서드와 속성\n",
    "\n",
    "<details>\n",
    "<summary>색인 메서드와 속성</summary>\n",
    "<div markdown=\"1\">\n",
    "\n",
    "|메서드|설명|\n",
    "|:--|:--|\n",
    "|append|추가적인 색인 객체를 덧붙여 새로운 색인을 반환한다.|\n",
    "|difference|색인의 차집합을 반환한다.|\n",
    "|intersection|색인의 교집합을 반환한다.|\n",
    "|union|색인의 합집합을 반환한다.|\n",
    "|isin|색인이 넘겨받은 색인에 존재하는지 알려주는 불리언 배열을 반환한다.|\n",
    "|delete|i 위치의 색인이 삭제된 새로운 색인을 반환한다.|\n",
    "|drop|넘겨받은 값이 삭제된 새로운 색인을 반환한다.|\n",
    "|insert|i 위치에 색인이 추가된 새로운 색인을 반환한다.|\n",
    "|is_monotonic|색인이 단조성을 가진다면 True를 반환한다.|\n",
    "|is_unique|중복되는 색인이 없다면 True를 반환한다.|\n",
    "|unique|색인에서 중복되는 요소를 제거하고 유일한 값만 반환한다.|\n",
    "    \n",
    "</div>\n",
    "</details>"
   ]
  },
  {
   "cell_type": "markdown",
   "id": "automotive-bikini",
   "metadata": {},
   "source": [
    " "
   ]
  },
  {
   "cell_type": "markdown",
   "id": "european-wilderness",
   "metadata": {},
   "source": [
    "## 5.2 핵심 기능"
   ]
  },
  {
   "cell_type": "markdown",
   "id": "brown-apple",
   "metadata": {},
   "source": [
    "### 5.2.1 재색인\n",
    "- reindex : 새로운 색인에 맞도록 객체를 `새로 생성`한다."
   ]
  },
  {
   "cell_type": "code",
   "execution_count": null,
   "id": "buried-madagascar",
   "metadata": {},
   "outputs": [],
   "source": [
    "obj = pd.Series([4.5,7.2,-5.3,3.6], index = ['d','b','a','c'])\n",
    "obj"
   ]
  },
  {
   "cell_type": "markdown",
   "id": "robust-status",
   "metadata": {},
   "source": [
    " "
   ]
  },
  {
   "cell_type": "markdown",
   "id": "thrown-cowboy",
   "metadata": {},
   "source": [
    "> Series 객체에 대해 reindex를 호출하면 데이터를 새로운 색인에 맞게 재배열함.  \n",
    "> 존재하지 않는 색인값이 있다면 NaN을 추가함."
   ]
  },
  {
   "cell_type": "code",
   "execution_count": null,
   "id": "passing-theater",
   "metadata": {},
   "outputs": [],
   "source": [
    "obj2 = obj.reindex(['a','b','c','d','e'])\n",
    "obj2"
   ]
  },
  {
   "cell_type": "markdown",
   "id": "optimum-disposal",
   "metadata": {},
   "source": [
    " "
   ]
  },
  {
   "cell_type": "markdown",
   "id": "artificial-rescue",
   "metadata": {},
   "source": [
    "> 시계열 같은 순차적인 데이터를 재색인할 때 값을 보간하거나 채워 넣어야 할 경우가 있다.  \n",
    "> 이는 method 옵션을 이용해서 해결할 수 있다.  \n",
    "> ffill 메서드는 누락된 값을 직전의 값으로 채워 넣는 방법을 의미한다."
   ]
  },
  {
   "cell_type": "code",
   "execution_count": null,
   "id": "skilled-cleaners",
   "metadata": {},
   "outputs": [],
   "source": [
    "obj3 = pd.Series(['blue','purple','yellow'], index = [0,2,4])\n",
    "obj3"
   ]
  },
  {
   "cell_type": "code",
   "execution_count": null,
   "id": "heated-welsh",
   "metadata": {},
   "outputs": [],
   "source": [
    "obj3.reindex(range(6), method = \"ffill\")"
   ]
  },
  {
   "cell_type": "markdown",
   "id": "revised-dollar",
   "metadata": {},
   "source": [
    " "
   ]
  },
  {
   "cell_type": "markdown",
   "id": "wound-lighting",
   "metadata": {},
   "source": [
    ">  DataFrame에 대한 reindex는 로우(색인), 컬럼 또는 둘 다 변경이 가능함.  \n",
    "> 그냥 순서만 전달하면 로우가 재색인된다."
   ]
  },
  {
   "cell_type": "code",
   "execution_count": null,
   "id": "sacred-possible",
   "metadata": {},
   "outputs": [],
   "source": [
    "frame = pd.DataFrame(np.arange(9).reshape((3,3)),\n",
    "                     index = ['a','c','d'],\n",
    "                     columns = ['Ohio','Texas','California'])\n",
    "frame"
   ]
  },
  {
   "cell_type": "code",
   "execution_count": null,
   "id": "successful-group",
   "metadata": {},
   "outputs": [],
   "source": [
    "frame2 = frame.reindex(['a','b','c','d'])\n",
    "frame2"
   ]
  },
  {
   "cell_type": "markdown",
   "id": "compatible-income",
   "metadata": {},
   "source": [
    " "
   ]
  },
  {
   "cell_type": "markdown",
   "id": "weighted-diesel",
   "metadata": {},
   "source": [
    "> 컬럼은 columns 예약어를 사용해서 재색인할 수 있다."
   ]
  },
  {
   "cell_type": "code",
   "execution_count": null,
   "id": "raised-ready",
   "metadata": {},
   "outputs": [],
   "source": [
    "states = ['Texas', 'Utah', 'California']\n",
    "\n",
    "frame.reindex(columns = states)"
   ]
  },
  {
   "cell_type": "markdown",
   "id": "chinese-worry",
   "metadata": {},
   "source": [
    " "
   ]
  },
  {
   "cell_type": "markdown",
   "id": "standard-cookbook",
   "metadata": {},
   "source": [
    "#### reindex의 인자\n",
    "\n",
    "<details>\n",
    "<summary>재색인 함수 인자</summary>\n",
    "<div markdown=\"1\">\n",
    "\n",
    "|인자|설명|\n",
    "|:--|:--|\n",
    "|index|색인으로 사용할 새로운 순서. Index 인스턴스나 다른 순차적인 자료구조가 사용 가능하다. Index는 복사가 이루어지지 않고 그대로 사용된다.|\n",
    "|method|채움 메서드. ffill은 직전 값을 채워 넣고 bfill은 다음 값을 채워 넣는다.|\n",
    "|fill_value|재색인 과정 중에 새롭게 나타나는 비어 있는 데이터를 채우기 위한 값|\n",
    "|limit|전/후 보간 시에 사용할 최대 갭 크기 (채워넣을 원소의 수)|\n",
    "|tolerance|전/후 보간 시에 사용할 최대 갭 크기 (값의 차이)|\n",
    "|level|MultiIndex의 단계(level)에 단순 색인을 맞춘다. 그렇지 않으면 MultiIndex의 하위집합에 맞춘다.|\n",
    "|copy|True인 경우 새로운 색인이 이전 색인과 동일하더라도 데이터를 복사한다. False인 경우 새로운 색인이 이전 색인과 동일할 경우 복사하지 않는다.|   \n",
    "    \n",
    "</div>\n",
    "</details>"
   ]
  },
  {
   "cell_type": "markdown",
   "id": "aware-attempt",
   "metadata": {},
   "source": [
    " "
   ]
  },
  {
   "cell_type": "markdown",
   "id": "skilled-eugene",
   "metadata": {},
   "source": [
    "### 5.2.2. 하나의 로우나 컬럼 삭제하기"
   ]
  },
  {
   "cell_type": "markdown",
   "id": "willing-proposal",
   "metadata": {},
   "source": [
    "- drop 메서드를 사용하면 선택한 값들이 삭제된 `새로운 객체` 를 얻을 수 있다."
   ]
  },
  {
   "cell_type": "code",
   "execution_count": null,
   "id": "prepared-slave",
   "metadata": {},
   "outputs": [],
   "source": [
    "obj = pd.Series(np.arange(5.), index = ['a','b','c','d','e'])\n",
    "\n",
    "obj.drop(['d','c'])"
   ]
  },
  {
   "cell_type": "markdown",
   "id": "continued-techno",
   "metadata": {},
   "source": [
    " "
   ]
  },
  {
   "cell_type": "markdown",
   "id": "periodic-shaft",
   "metadata": {},
   "source": [
    "> DataFrame에서는 로우와 컬럼 모두에서 값을 삭제할 수 있다."
   ]
  },
  {
   "cell_type": "code",
   "execution_count": null,
   "id": "comparable-cigarette",
   "metadata": {},
   "outputs": [],
   "source": [
    "data = pd.DataFrame(np.arange(16).reshape((4,4)),\n",
    "                    index = ['Ohio','Colorado','Utah','New York'],\n",
    "                    columns = ['one','two','three','four'])\n",
    "data"
   ]
  },
  {
   "cell_type": "markdown",
   "id": "stone-baseball",
   "metadata": {},
   "source": [
    " "
   ]
  },
  {
   "cell_type": "markdown",
   "id": "exterior-pizza",
   "metadata": {},
   "source": [
    "> drop 함수 인자에 로우 이름을 넘기면 해당 로우 (axis 0)의 값을 모두 삭제한다."
   ]
  },
  {
   "cell_type": "code",
   "execution_count": null,
   "id": "angry-assessment",
   "metadata": {},
   "outputs": [],
   "source": [
    "data.drop(['Colorado','Ohio'])"
   ]
  },
  {
   "cell_type": "markdown",
   "id": "commercial-baseball",
   "metadata": {},
   "source": [
    " "
   ]
  },
  {
   "cell_type": "markdown",
   "id": "fitting-morocco",
   "metadata": {},
   "source": [
    "> 컬럼의 값을 삭제할 때는 axis = 1 또는 axis = 'columns'를 인자로 넘겨주면 된다."
   ]
  },
  {
   "cell_type": "code",
   "execution_count": null,
   "id": "improving-comedy",
   "metadata": {},
   "outputs": [],
   "source": [
    "data.drop('two', axis = 1)"
   ]
  },
  {
   "cell_type": "code",
   "execution_count": null,
   "id": "wanted-graduation",
   "metadata": {},
   "outputs": [],
   "source": [
    "data.drop(['two','four'], axis = 'columns')"
   ]
  },
  {
   "cell_type": "markdown",
   "id": "touched-three",
   "metadata": {},
   "source": [
    "> inplace 옵션을 사용하면 새로운 객체를 반환하는 대신 원본 객체를 변경한다."
   ]
  },
  {
   "cell_type": "code",
   "execution_count": null,
   "id": "assured-baker",
   "metadata": {},
   "outputs": [],
   "source": [
    "data.drop(['two','four'], axis = 'columns', inplace = True)"
   ]
  },
  {
   "cell_type": "code",
   "execution_count": null,
   "id": "advanced-marker",
   "metadata": {},
   "outputs": [],
   "source": [
    "data"
   ]
  },
  {
   "cell_type": "markdown",
   "id": "engaging-wichita",
   "metadata": {},
   "source": [
    " "
   ]
  },
  {
   "cell_type": "markdown",
   "id": "laden-winter",
   "metadata": {},
   "source": [
    "### 5.2.3 색인하기, 선택하기, 거르기"
   ]
  },
  {
   "cell_type": "markdown",
   "id": "removed-violin",
   "metadata": {},
   "source": [
    "> Series의 색인은 NumPy 배열의 색인과 유사하게 동작하지만 정수가 아니어도 된다는 점이 다르다."
   ]
  },
  {
   "cell_type": "code",
   "execution_count": null,
   "id": "abandoned-firewall",
   "metadata": {},
   "outputs": [],
   "source": [
    "obj = pd.Series(np.arange(4.), index = ['a','b','c','d'])"
   ]
  },
  {
   "cell_type": "code",
   "execution_count": null,
   "id": "residential-bangladesh",
   "metadata": {},
   "outputs": [],
   "source": [
    "obj[2:4]"
   ]
  },
  {
   "cell_type": "code",
   "execution_count": null,
   "id": "chemical-gazette",
   "metadata": {},
   "outputs": [],
   "source": [
    "obj[['b','c']]"
   ]
  },
  {
   "cell_type": "code",
   "execution_count": null,
   "id": "difficult-commitment",
   "metadata": {},
   "outputs": [],
   "source": [
    "obj[[1,3]]"
   ]
  },
  {
   "cell_type": "code",
   "execution_count": null,
   "id": "continental-powder",
   "metadata": {},
   "outputs": [],
   "source": [
    "obj[obj<2]"
   ]
  },
  {
   "cell_type": "code",
   "execution_count": null,
   "id": "sustained-stereo",
   "metadata": {},
   "outputs": [],
   "source": [
    "obj['b':'c'] # 라벨 이름으로 슬라이싱하면 시작점과 끝점을 포함한다는 것이 일반 파이썬에서의 슬라이싱과 다른 점 "
   ]
  },
  {
   "cell_type": "markdown",
   "id": "completed-dominican",
   "metadata": {},
   "source": [
    " "
   ]
  },
  {
   "cell_type": "markdown",
   "id": "statewide-vertex",
   "metadata": {},
   "source": [
    "> 색인으로 DataFrame에서 하나 이상의 컬럼 값을 가져올 수 있다."
   ]
  },
  {
   "cell_type": "code",
   "execution_count": null,
   "id": "manufactured-optics",
   "metadata": {},
   "outputs": [],
   "source": [
    "data = pd.DataFrame(np.arange(16).reshape((4,4)), \n",
    "                    index = ['Ohio','Colorado','Utah','New York'],\n",
    "                    columns = ['one','two','three','four'])\n",
    "data"
   ]
  },
  {
   "cell_type": "code",
   "execution_count": null,
   "id": "transparent-score",
   "metadata": {},
   "outputs": [],
   "source": [
    "data[['three','one']]"
   ]
  },
  {
   "cell_type": "markdown",
   "id": "different-gabriel",
   "metadata": {},
   "source": [
    " "
   ]
  },
  {
   "cell_type": "markdown",
   "id": "current-funds",
   "metadata": {},
   "source": [
    "> 슬라이싱으로 로우를 선택하거나 불리언 배열로 로우를 선택할 수 있다."
   ]
  },
  {
   "cell_type": "code",
   "execution_count": null,
   "id": "foreign-classroom",
   "metadata": {},
   "outputs": [],
   "source": [
    "data[:2]"
   ]
  },
  {
   "cell_type": "code",
   "execution_count": null,
   "id": "placed-graduation",
   "metadata": {},
   "outputs": [],
   "source": [
    "data[data['three'] > 5]"
   ]
  },
  {
   "cell_type": "markdown",
   "id": "collective-south",
   "metadata": {},
   "source": [
    " "
   ]
  },
  {
   "cell_type": "markdown",
   "id": "varying-stream",
   "metadata": {},
   "source": [
    "#### loc과 iloc으로 선택하기\n",
    "- loc과 iloc는 DataFrame의 `로우`에 대해 `라벨`로 색인할 수 있게 해주는 특수한 색인 필드\n",
    "- 이 방법을 이용하면 NumPy와 비슷한 방식으로 추가적으로 `축의 라벨`을 사용하여 DataFrame의 로우와 컬럼을 선택할 수 있다.\n",
    "- `축 이름`을 선택할 때는 `loc`을, `정수 색인`으로 선택할 때는 `iloc`을 사용한다."
   ]
  },
  {
   "cell_type": "code",
   "execution_count": null,
   "id": "driven-perspective",
   "metadata": {},
   "outputs": [],
   "source": [
    "data.loc[['Colorado','Utah'], ['two','three']]"
   ]
  },
  {
   "cell_type": "code",
   "execution_count": null,
   "id": "sought-external",
   "metadata": {},
   "outputs": [],
   "source": [
    "data.iloc[[1,2], [3,0,1]]"
   ]
  },
  {
   "cell_type": "markdown",
   "id": "together-animation",
   "metadata": {},
   "source": [
    " "
   ]
  },
  {
   "cell_type": "markdown",
   "id": "returning-webster",
   "metadata": {},
   "source": [
    "> 이 두 함수는 슬라이스도 지원할 뿐더러 단일 라벵리나 라벨 리스트도 지원한다."
   ]
  },
  {
   "cell_type": "code",
   "execution_count": null,
   "id": "external-keyboard",
   "metadata": {},
   "outputs": [],
   "source": [
    "data.loc[:\"Utah\",:\"two\"]"
   ]
  },
  {
   "cell_type": "code",
   "execution_count": null,
   "id": "empty-country",
   "metadata": {},
   "outputs": [],
   "source": [
    "data.iloc[:,:3][data.three > 5]"
   ]
  },
  {
   "cell_type": "markdown",
   "id": "greater-loading",
   "metadata": {},
   "source": [
    " "
   ]
  },
  {
   "cell_type": "markdown",
   "id": "eligible-haven",
   "metadata": {},
   "source": [
    "#### pandas 객체에서 데이터를 선택하고 재배열하는 방법\n",
    "\n",
    "<details>\n",
    "<summary>DataFrame의 값 선택하기</summary>\n",
    "<div markdown=\"1\">\n",
    "\n",
    "|방식|설명|\n",
    "|:--|:--|\n",
    "|df[val]|DataFrame에서 하나의 컬럼 또는 여러 컬럼을 선택한다. 편의를 위해 불리언 배열, 슬라이스, 불리언 DataFrame을 사용할 수 있다.|\n",
    "|df.loc[val]|DataFrame에서 라벨값으로 `로우`의 부분집합을 선택한다.|\n",
    "|df.loc[:,val]|DataFrame에서 라벨값으로 `컬럼`의 부분집합을 선택한다.|\n",
    "|df.loc[val1,val2]|DataFrame에서 라벨값으로 `로우와 컬럼`의 부분집합을 선택한다.|\n",
    "|df.iloc[where]|DataFrame에서 정수 색인으로 `로우`의 부분집합을 선택한다.|\n",
    "|df.iloc[:, where]|DataFrame에서 정수 색인으로 `컬럼`의 부분집합을 선택한다.|\n",
    "|df.iloc[where_i,where_j]|DataFrame에서 정수 색인으로 `로우와 컬럼`의 부분집합을 선택한다.|\n",
    "|df.at[label_i, label_j]|로우와 컬럼의 라벨로 `단일 값`을 선택한다.|\n",
    "|df.iat[i,j]|로우와 컬럼의 정수 색인으로 `단일 값`을 선택한다.|\n",
    "|reindex 메서드|하나 이상의 축을 새로운 색인으로 맞춘다.|\n",
    "|get_value, set_value 메서드|로우와 컬럼 이름으로 DataFrame의 값을 선택한다.|\n",
    "    \n",
    "</div>\n",
    "</details>"
   ]
  },
  {
   "cell_type": "markdown",
   "id": "least-sweden",
   "metadata": {},
   "source": [
    " "
   ]
  },
  {
   "cell_type": "markdown",
   "id": "saved-pioneer",
   "metadata": {},
   "source": [
    "### 5.2.4 정수 색인"
   ]
  },
  {
   "cell_type": "markdown",
   "id": "offensive-stuart",
   "metadata": {},
   "source": [
    "- pandas 객체는 일관성을 유지하기 위해 정숫값을 담고 있는 축 색인이 있다면 우선적으로 라벨을 먼저 찾아 보도록 구현되어 있다.\n",
    "- 좀 더 세밀하게 사용하고 싶다면 라벨에 대해서는 loc을 사용하고 정수 색인에 대해서는 iloc을 사용하자."
   ]
  },
  {
   "cell_type": "code",
   "execution_count": null,
   "id": "heated-pepper",
   "metadata": {},
   "outputs": [],
   "source": [
    "ser = pd.Series(np.arange(3.))"
   ]
  },
  {
   "cell_type": "code",
   "execution_count": null,
   "id": "controlled-productivity",
   "metadata": {},
   "outputs": [],
   "source": [
    "ser[:1]"
   ]
  },
  {
   "cell_type": "code",
   "execution_count": null,
   "id": "pressing-lucas",
   "metadata": {},
   "outputs": [],
   "source": [
    "ser.loc[:1]"
   ]
  },
  {
   "cell_type": "code",
   "execution_count": null,
   "id": "female-affair",
   "metadata": {},
   "outputs": [],
   "source": [
    "ser.iloc[:1]"
   ]
  },
  {
   "cell_type": "markdown",
   "id": "injured-forty",
   "metadata": {},
   "source": [
    " "
   ]
  },
  {
   "cell_type": "markdown",
   "id": "european-program",
   "metadata": {},
   "source": [
    "### 5.2.5 산술 연산과 데이터 정렬"
   ]
  },
  {
   "cell_type": "markdown",
   "id": "working-tooth",
   "metadata": {},
   "source": [
    "- pandas에서 가장 중요한 기능 중 하나는 다른 색인을 가지고 있는 객체 간의 산술 연산\n",
    "- 객체를 더할 때 `짝이 맞지 않는 색인`이 있따면 결과에 `두 색인이 통합`된다.\n",
    "- 데이터베이스의 외부 조인과 유사하게 동작한다고 생각할 수 있다."
   ]
  },
  {
   "cell_type": "markdown",
   "id": "elegant-gauge",
   "metadata": {},
   "source": [
    "> 서로 겹치는 색인이 없는 경우 데이터는 NA 값이 된다.  \n",
    "> 산술 연산 시 누락된 값은 전파된다."
   ]
  },
  {
   "cell_type": "code",
   "execution_count": null,
   "id": "crude-thailand",
   "metadata": {},
   "outputs": [],
   "source": [
    "s1 = pd.Series([7.3,-2.5,3.4,1.5], index = ['a','c','d','e'])\n",
    "s2 = pd.Series([-2.1,3.6,-1.5,4,3.1],\n",
    "               index = ['a','c','e','f','g'])\n",
    "\n",
    "s1 + s2"
   ]
  },
  {
   "cell_type": "markdown",
   "id": "changing-upgrade",
   "metadata": {},
   "source": [
    " "
   ]
  },
  {
   "cell_type": "markdown",
   "id": "detected-mineral",
   "metadata": {},
   "source": [
    "> DataFrame을 더하면 DataFrame에 있는 색인과 컬럼이 하나로 합쳐진다.  \n",
    "> 양쪽 DataFrame 객체에 모두 존재하지 않는 라벨에 대해서는 없는 값으로 나타난다. 즉, 공통되는 컬럼이나 로우가 아닌 경우 결과에 아무 것도 나타나지 않는다."
   ]
  },
  {
   "cell_type": "code",
   "execution_count": null,
   "id": "subject-mission",
   "metadata": {},
   "outputs": [],
   "source": [
    "df1 = pd.DataFrame(np.arange(9.).reshape((3,3)), columns = list('bcd'),\n",
    "                   index = ['Ohio','Texas','Colorado'])\n",
    "\n",
    "df2 = pd.DataFrame(np.arange(12.).reshape((4,3)), columns = list('bde'),\n",
    "                   index = ['Utah','Ohio','Texas','Oregon'])"
   ]
  },
  {
   "cell_type": "code",
   "execution_count": null,
   "id": "cardiac-ticket",
   "metadata": {},
   "outputs": [],
   "source": [
    "df1"
   ]
  },
  {
   "cell_type": "code",
   "execution_count": null,
   "id": "wireless-differential",
   "metadata": {},
   "outputs": [],
   "source": [
    "df2"
   ]
  },
  {
   "cell_type": "code",
   "execution_count": null,
   "id": "finite-wayne",
   "metadata": {},
   "outputs": [],
   "source": [
    "df1 + df2"
   ]
  },
  {
   "cell_type": "markdown",
   "id": "answering-citizen",
   "metadata": {},
   "source": [
    "  "
   ]
  },
  {
   "cell_type": "markdown",
   "id": "federal-wednesday",
   "metadata": {},
   "source": [
    "#### 산술 연산 메서드에 채워 넣을 값 지정하기\n",
    "- 서로 다른 색인을 가지는 객체 간의 산술 연산에서 존재하지 않는 축의 값을 특수한 값으로 지정하고 싶을 때는 다음과 같이 할 수 있다."
   ]
  },
  {
   "cell_type": "code",
   "execution_count": null,
   "id": "mighty-population",
   "metadata": {},
   "outputs": [],
   "source": [
    "df1 = pd.DataFrame(np.arange(12.).reshape((3,4)),\n",
    "                   columns = list('abcd'))\n",
    "\n",
    "df2 = pd.DataFrame(np.arange(20.).reshape((4,5)), \n",
    "                   columns = list('abcde'))\n",
    "df2.loc[1,'b'] = np.nan"
   ]
  },
  {
   "cell_type": "code",
   "execution_count": null,
   "id": "absent-provider",
   "metadata": {},
   "outputs": [],
   "source": [
    "df1"
   ]
  },
  {
   "cell_type": "code",
   "execution_count": null,
   "id": "pregnant-pittsburgh",
   "metadata": {},
   "outputs": [],
   "source": [
    "df2"
   ]
  },
  {
   "cell_type": "code",
   "execution_count": null,
   "id": "massive-residence",
   "metadata": {},
   "outputs": [],
   "source": [
    "df1 + df2   # 이 둘을 더하면 겹치지 않는 부분은 NA값이 된다."
   ]
  },
  {
   "cell_type": "markdown",
   "id": "eleven-bedroom",
   "metadata": {},
   "source": [
    "> df1에 add 메서드를 사용하고, df2와 fill_value 값을 인자로 전달한다."
   ]
  },
  {
   "cell_type": "code",
   "execution_count": null,
   "id": "standing-cheat",
   "metadata": {},
   "outputs": [],
   "source": [
    "df1.add(df2, fill_value = 0)"
   ]
  },
  {
   "cell_type": "markdown",
   "id": "dramatic-stations",
   "metadata": {},
   "source": [
    "> Series나 DataFrame을 재색인할 때도 fill_value를 지정할 수 있다."
   ]
  },
  {
   "cell_type": "code",
   "execution_count": null,
   "id": "subjective-frontier",
   "metadata": {},
   "outputs": [],
   "source": [
    "df1.reindex(columns = df2.columns)"
   ]
  },
  {
   "cell_type": "code",
   "execution_count": null,
   "id": "critical-dependence",
   "metadata": {},
   "outputs": [],
   "source": [
    "df1.reindex(columns = df2.columns, fill_value = 0 )"
   ]
  },
  {
   "cell_type": "markdown",
   "id": "paperback-tamil",
   "metadata": {},
   "source": [
    " "
   ]
  },
  {
   "cell_type": "markdown",
   "id": "perceived-produce",
   "metadata": {},
   "source": [
    "#### 산술 연산 메서드 \n",
    "\n",
    "<details>\n",
    "<summary>산술 연산 메서드</summary>\n",
    "<div markdown=\"1\">\n",
    "\n",
    "|메서드|설명|\n",
    "|:--|:--|\n",
    "|add, radd| 덧셈(+)을 위한 메서드|\n",
    "|sub, rsub| 뺄셈(-)을 위한 메서드|\n",
    "|div, rdiv| 나눗셈(/)을 위한 메서드|\n",
    "|floordiv, rfloordiv| 소숫점 내림(//) 연산을 위한 메서드|\n",
    "|mul, rmul| 곱셈(*)을 위한 메서드|\n",
    "|pow, rpow| 멱승(**)을 위한 메서드|\n",
    "    \n",
    "</div>\n",
    "</details>"
   ]
  },
  {
   "cell_type": "markdown",
   "id": "brutal-victor",
   "metadata": {},
   "source": [
    " "
   ]
  },
  {
   "cell_type": "markdown",
   "id": "nasty-bottle",
   "metadata": {},
   "source": [
    "#### DataFrame과 Series 간의 연산"
   ]
  },
  {
   "cell_type": "markdown",
   "id": "daily-singing",
   "metadata": {},
   "source": [
    "> 다른 차원의 NumPy 배열과 연산처럼 DataFrame과 Series 간의 연산도 잘 정의되어 있다.  \n",
    "> 기본적으로 DataFrame과 Series 간의 산술 연산은 Series의 색인을 DataFrame의 컬럼에 맞추고 아래 로우로 전파한다."
   ]
  },
  {
   "cell_type": "code",
   "execution_count": null,
   "id": "atlantic-visit",
   "metadata": {},
   "outputs": [],
   "source": [
    "frame = pd.DataFrame(np.arange(12.).reshape((4,3)),\n",
    "                     columns = list('bde'),\n",
    "                     index = ['Utah','Ohio','Texas','Oregon'])\n",
    "series = frame.iloc[0]"
   ]
  },
  {
   "cell_type": "code",
   "execution_count": null,
   "id": "qualified-oracle",
   "metadata": {},
   "outputs": [],
   "source": [
    "frame"
   ]
  },
  {
   "cell_type": "code",
   "execution_count": null,
   "id": "electoral-county",
   "metadata": {},
   "outputs": [],
   "source": [
    "series"
   ]
  },
  {
   "cell_type": "code",
   "execution_count": null,
   "id": "applicable-conspiracy",
   "metadata": {},
   "outputs": [],
   "source": [
    "frame - series"
   ]
  },
  {
   "cell_type": "markdown",
   "id": "vietnamese-horror",
   "metadata": {},
   "source": [
    " "
   ]
  },
  {
   "cell_type": "markdown",
   "id": "complete-focus",
   "metadata": {},
   "source": [
    "> 만약 색인값을 DataFrame의 컬럼이나 Series의 색인에서 찾을 수 없다면 그 객체는 형식을 맞추기 위해 재색인된다."
   ]
  },
  {
   "cell_type": "code",
   "execution_count": null,
   "id": "tight-graduation",
   "metadata": {},
   "outputs": [],
   "source": [
    "series2 = pd.Series(range(3), index = list('bef'))\n",
    "\n",
    "frame + series2"
   ]
  },
  {
   "cell_type": "markdown",
   "id": "northern-pattern",
   "metadata": {},
   "source": [
    " "
   ]
  },
  {
   "cell_type": "markdown",
   "id": "separated-peter",
   "metadata": {},
   "source": [
    "> 만약 각 로우에 대해 연산을 수행하고 싶다면 산술 연산 메서드를 사용하면 된다.  \n",
    "> 인자로 넘기는 axis 값은 `연산을 적용할 축 번호`다. axis = 'index'나 axis = 0은 DataFrame의 로우를 따라 연산을 수행하라는 의미다. "
   ]
  },
  {
   "cell_type": "code",
   "execution_count": null,
   "id": "adjusted-width",
   "metadata": {},
   "outputs": [],
   "source": [
    "series3 = frame['d']\n",
    "series3"
   ]
  },
  {
   "cell_type": "code",
   "execution_count": null,
   "id": "loving-official",
   "metadata": {},
   "outputs": [],
   "source": [
    "frame.sub(series3, axis = 'index')"
   ]
  },
  {
   "cell_type": "markdown",
   "id": "respiratory-benefit",
   "metadata": {},
   "source": [
    " "
   ]
  },
  {
   "cell_type": "markdown",
   "id": "upset-haiti",
   "metadata": {},
   "source": [
    "### 5.2.6 함수 적용과 매핑"
   ]
  },
  {
   "cell_type": "markdown",
   "id": "hungarian-techno",
   "metadata": {},
   "source": [
    "- pandas 객체에도 NumPy의 유니버설 함수 (배열의 각 원소에 적용되는 메서드)를 적용할 수 있다."
   ]
  },
  {
   "cell_type": "code",
   "execution_count": null,
   "id": "particular-hudson",
   "metadata": {},
   "outputs": [],
   "source": [
    "frame = pd.DataFrame(np.random.randn(4,3),\n",
    "                     columns = list('bde'), \n",
    "                     index = ['Utah','Ohio','Texas','Oregon'])\n",
    "frame"
   ]
  },
  {
   "cell_type": "code",
   "execution_count": null,
   "id": "consecutive-fundamentals",
   "metadata": {},
   "outputs": [],
   "source": [
    "np.abs(frame)"
   ]
  },
  {
   "cell_type": "markdown",
   "id": "binary-flooring",
   "metadata": {},
   "source": [
    " "
   ]
  },
  {
   "cell_type": "markdown",
   "id": "mediterranean-nigeria",
   "metadata": {},
   "source": [
    "> 자주 사용되는 또 다른 연산은 각 컬럼이나 로우의 1차원 배열에 함수를 적용하는 것.  \n",
    "> DataFrame의 apply 메서드를 이용해 수행할 수 있다."
   ]
  },
  {
   "cell_type": "code",
   "execution_count": null,
   "id": "legitimate-accuracy",
   "metadata": {},
   "outputs": [],
   "source": [
    "f = lambda x : x.max() - x.min()\n",
    "\n",
    "frame.apply(f)"
   ]
  },
  {
   "cell_type": "markdown",
   "id": "frozen-outdoors",
   "metadata": {},
   "source": [
    " "
   ]
  },
  {
   "cell_type": "markdown",
   "id": "convinced-missile",
   "metadata": {},
   "source": [
    "> apply 함수에 axis = 'columns' 인자를 넘기면 각 로우에 대해 한 번씩만 수행된다."
   ]
  },
  {
   "cell_type": "code",
   "execution_count": null,
   "id": "fundamental-manchester",
   "metadata": {},
   "outputs": [],
   "source": [
    "frame.apply(f, axis = 'columns')"
   ]
  },
  {
   "cell_type": "markdown",
   "id": "national-syndication",
   "metadata": {},
   "source": [
    " "
   ]
  },
  {
   "cell_type": "markdown",
   "id": "studied-equivalent",
   "metadata": {},
   "source": [
    "> apply 메서드에 전달된 함수는 스칼라값을 반환할 필요가 없다.  \n",
    "> 여러 값을 가진 Series를 반환해도 된다."
   ]
  },
  {
   "cell_type": "code",
   "execution_count": null,
   "id": "stable-compact",
   "metadata": {},
   "outputs": [],
   "source": [
    "def f(x) : \n",
    "    return pd.Series([x.min(), x.max()], index = ['min','max'])\n",
    "\n",
    "frame.apply(f)"
   ]
  },
  {
   "cell_type": "markdown",
   "id": "flexible-cooper",
   "metadata": {},
   "source": [
    " "
   ]
  },
  {
   "cell_type": "markdown",
   "id": "caroline-peoples",
   "metadata": {},
   "source": [
    "> 배열의 각 원소에 적용되는 파이썬의 함수를 사용할 수도 있다.  \n",
    "> frame 객체에서 실숫값을 문자열 포맷으로 변환하고 싶다면 applymap을 이용해서 다음과 같이 할 수 있다.  \n",
    "> 메서드의 이름이 applymap인 이유는 Series는 각 원소에 적용할 함수를 지정하기 위한 map 메서드를 가지고 있기 때문이다."
   ]
  },
  {
   "cell_type": "code",
   "execution_count": null,
   "id": "norman-prayer",
   "metadata": {},
   "outputs": [],
   "source": [
    "format = lambda x: '%.2f' %x\n",
    "\n",
    "frame.applymap(format)"
   ]
  },
  {
   "cell_type": "code",
   "execution_count": null,
   "id": "injured-plane",
   "metadata": {},
   "outputs": [],
   "source": [
    "frame['e'].map(format)"
   ]
  },
  {
   "cell_type": "markdown",
   "id": "increased-developer",
   "metadata": {},
   "source": [
    " "
   ]
  },
  {
   "cell_type": "markdown",
   "id": "requested-nicholas",
   "metadata": {},
   "source": [
    "### 5.2.7 정렬과 순위"
   ]
  },
  {
   "cell_type": "markdown",
   "id": "radio-arnold",
   "metadata": {},
   "source": [
    "#### 정렬"
   ]
  },
  {
   "cell_type": "markdown",
   "id": "controversial-pregnancy",
   "metadata": {},
   "source": [
    "> 로우나 컬럼의 색인을 알파벳순으로 정렬하려면 정렬된 `새로운 객체를 반환`하는 sort_index 메서드를 사용하면 된다."
   ]
  },
  {
   "cell_type": "code",
   "execution_count": null,
   "id": "modified-index",
   "metadata": {},
   "outputs": [],
   "source": [
    "obj = pd.Series(range(4), index = ['d','a','b','c'])\n",
    "obj.sort_index()"
   ]
  },
  {
   "cell_type": "markdown",
   "id": "dental-georgia",
   "metadata": {},
   "source": [
    " "
   ]
  },
  {
   "cell_type": "markdown",
   "id": "surrounded-prescription",
   "metadata": {},
   "source": [
    "> DataFrame은 로우나 컬럼 중 하나의 축을 기준으로 정렬할 수 있다."
   ]
  },
  {
   "cell_type": "code",
   "execution_count": null,
   "id": "standing-blink",
   "metadata": {},
   "outputs": [],
   "source": [
    "frame = pd.DataFrame(np.arange(8).reshape((2,4)), \n",
    "                     index = ['three','one'],\n",
    "                     columns = ['d','a','b','c'])\n",
    "\n",
    "frame.sort_index()"
   ]
  },
  {
   "cell_type": "code",
   "execution_count": null,
   "id": "large-excuse",
   "metadata": {},
   "outputs": [],
   "source": [
    "frame.sort_index(axis = 1)"
   ]
  },
  {
   "cell_type": "markdown",
   "id": "labeled-wholesale",
   "metadata": {},
   "source": [
    " "
   ]
  },
  {
   "cell_type": "markdown",
   "id": "structured-concentration",
   "metadata": {},
   "source": [
    "> 데이터는 기본적으로 오름차순으로 정렬되고 내림차순으로 정렬할 수도 있다."
   ]
  },
  {
   "cell_type": "code",
   "execution_count": null,
   "id": "spiritual-alignment",
   "metadata": {},
   "outputs": [],
   "source": [
    "frame.sort_index(axis = 1, ascending = False)"
   ]
  },
  {
   "cell_type": "markdown",
   "id": "tutorial-blackberry",
   "metadata": {},
   "source": [
    " "
   ]
  },
  {
   "cell_type": "markdown",
   "id": "enabling-simulation",
   "metadata": {},
   "source": [
    "> Series 객체를 값에 따라 정렬하고 싶다면 sort_values 메서드를 사용하면 된다.  \n",
    "> 정렬할 때 비어 잇는 값은 기본적으로 Series 객체에서 가장 마지막에 위치한다."
   ]
  },
  {
   "cell_type": "code",
   "execution_count": null,
   "id": "rough-junior",
   "metadata": {},
   "outputs": [],
   "source": [
    "obj = pd.Series([4, np.nan, 7, np.nan, -3, 2])\n",
    "obj.sort_values()"
   ]
  },
  {
   "cell_type": "markdown",
   "id": "proved-mounting",
   "metadata": {},
   "source": [
    " "
   ]
  },
  {
   "cell_type": "markdown",
   "id": "durable-clock",
   "metadata": {},
   "source": [
    "> DataFrame에서 하나 이상의 컬럼에 있는 `값`으로 정렬을 하는 경우 sort_values 함수의 by 옵션에 하나 이상의 컬럼을 넘기면 된다."
   ]
  },
  {
   "cell_type": "code",
   "execution_count": null,
   "id": "local-olive",
   "metadata": {},
   "outputs": [],
   "source": [
    "frame = pd.DataFrame({'b' : [4,7,0-3,2], \n",
    "                      'a' : [0,1,0,1]})\n",
    "frame.sort_values(by = ['a','b'])"
   ]
  },
  {
   "cell_type": "markdown",
   "id": "cathedral-trailer",
   "metadata": {},
   "source": [
    "#### 순위 "
   ]
  },
  {
   "cell_type": "markdown",
   "id": "studied-literacy",
   "metadata": {},
   "source": [
    "> `순위`는 1부터 배열의 유효한 데이터 개수까지 순서를 매긴다.  \n",
    "> 기본적으로 Series와 DataFrame의 rank 메서드는 `동점인 항목`에 대해서는 `평균 순위`를 매긴다."
   ]
  },
  {
   "cell_type": "code",
   "execution_count": null,
   "id": "exciting-farming",
   "metadata": {},
   "outputs": [],
   "source": [
    "obj = pd.Series([7,-5,7,4,2,0,4])\n",
    "obj.rank()    # 기본적으로 동점인 항목에 대하여는 평균 순위를 매긴다"
   ]
  },
  {
   "cell_type": "markdown",
   "id": "drawn-break",
   "metadata": {},
   "source": [
    " "
   ]
  },
  {
   "cell_type": "markdown",
   "id": "brown-serial",
   "metadata": {},
   "source": [
    "> 데이터 상에서 나타나는 순서에 따라 동률을 처리할 수도 있다."
   ]
  },
  {
   "cell_type": "code",
   "execution_count": null,
   "id": "written-optimum",
   "metadata": {},
   "outputs": [],
   "source": [
    "obj.rank(method = \"first\")"
   ]
  },
  {
   "cell_type": "markdown",
   "id": "beautiful-intellectual",
   "metadata": {},
   "source": [
    " "
   ]
  },
  {
   "cell_type": "markdown",
   "id": "noble-surfing",
   "metadata": {},
   "source": [
    "> DataFrame에서는 로우나 컬럼에 대해 순위를 정할 수 있다."
   ]
  },
  {
   "cell_type": "code",
   "execution_count": null,
   "id": "several-patient",
   "metadata": {},
   "outputs": [],
   "source": [
    "frame = pd.DataFrame({'b' : [4.3,7,-3,2], \n",
    "                      'a' : [0,1,0,1], \n",
    "                      'c' : [-2,5,8,-2.5]})\n",
    "frame"
   ]
  },
  {
   "cell_type": "code",
   "execution_count": null,
   "id": "statutory-trouble",
   "metadata": {},
   "outputs": [],
   "source": [
    "frame.rank(axis = 'columns')"
   ]
  },
  {
   "cell_type": "markdown",
   "id": "numeric-weather",
   "metadata": {},
   "source": [
    " "
   ]
  },
  {
   "cell_type": "markdown",
   "id": "likely-france",
   "metadata": {},
   "source": [
    "##### 순위의 동률을 처리하는 메서드 \n",
    "\n",
    "<details>\n",
    "<summary>순위의 동률을 처리하는 메서드</summary>\n",
    "<div markdown=\"1\">\n",
    "\n",
    "|메서드|설명|\n",
    "|:--|:--|\n",
    "|'average'|기본값. 같은 값을 가지는 항목들의 평균값을 순위로 삼는다.|\n",
    "|'min'|같은 값을 가지는 그룹을 낮은 순위로 매긴다.|\n",
    "|'max'|같은 값을 가지는 그룹을 높은 순위로 매긴다.|\n",
    "|'first'|데이터 내의 위치에 따라 순위를 매긴다.|\n",
    "|'dense'|method = 'min'과 같지만 같은 그룹 내에서 모두 같은 순위를 적용하지 않고 1씩 증가시킨다.|\n",
    "    \n",
    "</div>\n",
    "</details>"
   ]
  },
  {
   "cell_type": "markdown",
   "id": "artificial-nicaragua",
   "metadata": {},
   "source": [
    " "
   ]
  },
  {
   "cell_type": "markdown",
   "id": "tropical-volunteer",
   "metadata": {},
   "source": [
    "### 5.2.8 중복 색인"
   ]
  },
  {
   "cell_type": "markdown",
   "id": "thermal-stationery",
   "metadata": {},
   "source": [
    "- pandas의 많은 함수에서 색인값은 유일해야 하지만 의무적이지는 않다."
   ]
  },
  {
   "cell_type": "code",
   "execution_count": null,
   "id": "assisted-backup",
   "metadata": {},
   "outputs": [],
   "source": [
    "obj = pd.Series(range(5), index = list('aabbc'))\n",
    "obj"
   ]
  },
  {
   "cell_type": "code",
   "execution_count": null,
   "id": "isolated-grounds",
   "metadata": {},
   "outputs": [],
   "source": [
    "# is_unique 속성은 해당 값이 유일한지 아닌지 알려준다.\n",
    "obj.index.is_unique"
   ]
  },
  {
   "cell_type": "markdown",
   "id": "pacific-cigarette",
   "metadata": {},
   "source": [
    " "
   ]
  },
  {
   "cell_type": "markdown",
   "id": "composite-people",
   "metadata": {},
   "source": [
    "> 중복되는 색인값이 없을 때는 색인을 이용해서 데이터에 접급하면 스칼라 값을 반환한다.  \n",
    "> 중복되는 색인값이 있을 때는 하나의 Series 객체를 반환한다."
   ]
  },
  {
   "cell_type": "code",
   "execution_count": null,
   "id": "solved-citizen",
   "metadata": {},
   "outputs": [],
   "source": [
    "obj['a']"
   ]
  },
  {
   "cell_type": "code",
   "execution_count": null,
   "id": "behavioral-portfolio",
   "metadata": {},
   "outputs": [],
   "source": [
    "obj['c']"
   ]
  },
  {
   "cell_type": "markdown",
   "id": "fallen-organic",
   "metadata": {},
   "source": [
    " "
   ]
  },
  {
   "cell_type": "markdown",
   "id": "mediterranean-officer",
   "metadata": {},
   "source": [
    "> DataFrame에서 로우를 선택하는 것도 동일하다."
   ]
  },
  {
   "cell_type": "code",
   "execution_count": null,
   "id": "canadian-meter",
   "metadata": {},
   "outputs": [],
   "source": [
    "df = pd.DataFrame(np.random.randn(4,3),\n",
    "                  index = list('aabb'))\n",
    "df"
   ]
  },
  {
   "cell_type": "code",
   "execution_count": null,
   "id": "speaking-profession",
   "metadata": {},
   "outputs": [],
   "source": [
    "df.loc['b']"
   ]
  },
  {
   "cell_type": "markdown",
   "id": "superior-poison",
   "metadata": {},
   "source": [
    " "
   ]
  },
  {
   "cell_type": "markdown",
   "id": "exempt-integral",
   "metadata": {},
   "source": [
    "## 5.3 기술 통계 계산과 요약"
   ]
  },
  {
   "cell_type": "markdown",
   "id": "running-contamination",
   "metadata": {},
   "source": [
    "- pandas 객체는 일반적인 수학 메서드와 통계 메서드를 가지고 있음.\n",
    "- 순수 NumPy 배열에서 제공하는 동일한 메서드와 비교하여 pandas의 메서드는 처음부터 `누락된 데이터를 제외하도록` 설계되었다."
   ]
  },
  {
   "cell_type": "code",
   "execution_count": null,
   "id": "committed-barcelona",
   "metadata": {},
   "outputs": [],
   "source": [
    "df = pd.DataFrame([[1.4,np.nan], \n",
    "                   [7.1,-4.5],\n",
    "                   [np.nan,np.nan],\n",
    "                   [0.75, -1.3]],\n",
    "                  index = list('abcd'),\n",
    "                  columns = ['one','two'])\n",
    "df"
   ]
  },
  {
   "cell_type": "markdown",
   "id": "given-desperate",
   "metadata": {},
   "source": [
    " "
   ]
  },
  {
   "cell_type": "markdown",
   "id": "disciplinary-mitchell",
   "metadata": {},
   "source": [
    "> DataFrame의 sum 메서드를 호출하면 각 컬럼의 합을 담은 Series를 반환한다."
   ]
  },
  {
   "cell_type": "code",
   "execution_count": null,
   "id": "coordinated-nickel",
   "metadata": {},
   "outputs": [],
   "source": [
    "df.sum()"
   ]
  },
  {
   "cell_type": "markdown",
   "id": "dimensional-guess",
   "metadata": {},
   "source": [
    " "
   ]
  },
  {
   "cell_type": "markdown",
   "id": "congressional-declaration",
   "metadata": {},
   "source": [
    "> axis = 'columns' 또는 axis = 1 옵션을 넘기면 각 컬럼의 합을 반환한다."
   ]
  },
  {
   "cell_type": "code",
   "execution_count": null,
   "id": "digital-stocks",
   "metadata": {},
   "outputs": [],
   "source": [
    "df.sum(axis = \"columns\")"
   ]
  },
  {
   "cell_type": "markdown",
   "id": "separated-collector",
   "metadata": {},
   "source": [
    " "
   ]
  },
  {
   "cell_type": "markdown",
   "id": "paperback-sleeve",
   "metadata": {},
   "source": [
    "> 전체 로우나 컬럼의 값이 NA가 아니라면 NA 값은 제외되고 계산된다.  \n",
    "> 이는 skipna 옵션으로 조정할 수 있음"
   ]
  },
  {
   "cell_type": "code",
   "execution_count": null,
   "id": "quick-access",
   "metadata": {},
   "outputs": [],
   "source": [
    "df.mean(axis = 'columns', skipna = False)"
   ]
  },
  {
   "cell_type": "markdown",
   "id": "helpful-harvard",
   "metadata": {},
   "source": [
    " "
   ]
  },
  {
   "cell_type": "markdown",
   "id": "massive-density",
   "metadata": {},
   "source": [
    "> idxmin이나 idxmax 같은 메서드는 최솟값 혹은 최댓값을 가지고 있는 색인값과 같은 간접 통계를 반환함."
   ]
  },
  {
   "cell_type": "code",
   "execution_count": null,
   "id": "complete-restoration",
   "metadata": {},
   "outputs": [],
   "source": [
    "df.idxmax()"
   ]
  },
  {
   "cell_type": "markdown",
   "id": "gentle-punch",
   "metadata": {},
   "source": [
    " "
   ]
  },
  {
   "cell_type": "markdown",
   "id": "committed-terminology",
   "metadata": {},
   "source": [
    " "
   ]
  },
  {
   "cell_type": "markdown",
   "id": "identical-marshall",
   "metadata": {},
   "source": [
    "> describe 메서드는 한 번에 여러 개의 통계 결과를 만들어 낸다."
   ]
  },
  {
   "cell_type": "code",
   "execution_count": null,
   "id": "mighty-approach",
   "metadata": {},
   "outputs": [],
   "source": [
    "df.describe()"
   ]
  },
  {
   "cell_type": "markdown",
   "id": "naked-doctrine",
   "metadata": {},
   "source": [
    " "
   ]
  },
  {
   "cell_type": "markdown",
   "id": "possible-strip",
   "metadata": {},
   "source": [
    "> 수치 데이터가 아닐 경우 describe는 다른 요약 통계를 생성한다."
   ]
  },
  {
   "cell_type": "code",
   "execution_count": null,
   "id": "subsequent-utility",
   "metadata": {},
   "outputs": [],
   "source": [
    "obj = pd.Series(['a','a','b','c']*4)\n",
    "obj.describe()"
   ]
  },
  {
   "cell_type": "markdown",
   "id": "auburn-wallet",
   "metadata": {},
   "source": [
    " "
   ]
  },
  {
   "cell_type": "markdown",
   "id": "social-spiritual",
   "metadata": {},
   "source": [
    "#### 요약 통계 관련 메서드 \n",
    "\n",
    "<details>\n",
    "<summary>요약 통계 관련 메서드</summary>\n",
    "<div markdown=\"1\">\n",
    "\n",
    "|메서드|설명|\n",
    "|:--|:--|\n",
    "|count|NA 값을 제외한 값의 수를 반환한다.|\n",
    "|describe|Series나 DataFrame의 각 컬럼에 대한 요약 통계를 계산한다.|\n",
    "|min, max|최솟값과 최댓값을 계산한다.|\n",
    "|argmin, argmax|각각 최솟값과 최댓값을 담고 있는 색인의 위치(정수)를 반환한다.|\n",
    "|idxmin, idxmax|각각 최솟값과 최댓값을 담고 있는 색인의 값을 반환한다.|\n",
    "|quantile|0부터 1까지의 분위수를 계산한다.|\n",
    "|sum|합을 계산한다.|\n",
    "|mean|평균을 계산한다.|\n",
    "|median|중간값을 반환한다.|\n",
    "|mad|평균값에서 평균절대편차를 계산한다.|\n",
    "|prod|모든 값의 곱|\n",
    "|var|표본분산의 값을 계산한다.|\n",
    "|std|표본표준편차의 값을 계산한다.|\n",
    "|skew|표본비대칭도(3차 적률)의 값을 계산한다.|\n",
    "|kurt|표본첨도(4차 적률)의 값을 계산한다.|\n",
    "|cumsum|누적합을 계산한다.|\n",
    "|cummin, cummax|각각 누적 최솟값과 누적 최댓값을 계산한다.|\n",
    "|cumprod|누적곱을 계산한다.|\n",
    "|diff|1차 산술차를 계산한다(시계열 데이터 처리 시 유용하다).|\n",
    "|pct_change|퍼센트 변화율을 계산한다.|\n",
    "    \n",
    "</div>\n",
    "</details>"
   ]
  },
  {
   "cell_type": "code",
   "execution_count": null,
   "id": "improving-apache",
   "metadata": {},
   "outputs": [],
   "source": [
    "x = pd.DataFrame(np.random.randn(4,4))\n",
    "x"
   ]
  },
  {
   "cell_type": "markdown",
   "id": "twelve-parliament",
   "metadata": {},
   "source": [
    " "
   ]
  },
  {
   "cell_type": "markdown",
   "id": "toxic-channels",
   "metadata": {},
   "source": [
    "### 5.3.1 상관관계와 공분산"
   ]
  },
  {
   "cell_type": "markdown",
   "id": "egyptian-flesh",
   "metadata": {},
   "source": [
    "- 상관관계나 공분산 같은 요약 통계 계산은 두 쌍의 인자를 필요로 한다.\n",
    "- pandas-datareader 패키지를 이용해서 야후! 금융 사이트에서 구한 주식가겨과 시가총액을 담고 있는 다음 DataFrame을 생각해보자."
   ]
  },
  {
   "cell_type": "code",
   "execution_count": null,
   "id": "exotic-fruit",
   "metadata": {},
   "outputs": [],
   "source": [
    "# pip install pandas-datareader"
   ]
  },
  {
   "cell_type": "code",
   "execution_count": 123,
   "id": "supreme-brain",
   "metadata": {},
   "outputs": [],
   "source": [
    "import pandas_datareader.data as web"
   ]
  },
  {
   "cell_type": "code",
   "execution_count": 128,
   "id": "narrative-cowboy",
   "metadata": {},
   "outputs": [],
   "source": [
    "all_data = {ticker : web.get_data_yahoo(ticker)\n",
    "            for ticker in ['AAPL','IBM','MSFT','GOOG']}\n",
    "price = pd.DataFrame({ticker : data['Adj Close']\n",
    "                      for ticker, data in all_data.items()})\n",
    "volume = pd.DataFrame({ticker : data['Volume']\n",
    "                      for ticker, data in all_data.items()})"
   ]
  },
  {
   "cell_type": "markdown",
   "id": "compliant-heaven",
   "metadata": {},
   "source": [
    " "
   ]
  },
  {
   "cell_type": "markdown",
   "id": "spoken-diana",
   "metadata": {},
   "source": [
    "> 각 주식의 퍼센트 변화율 계산하기"
   ]
  },
  {
   "cell_type": "code",
   "execution_count": 130,
   "id": "corrected-trout",
   "metadata": {},
   "outputs": [
    {
     "data": {
      "text/html": [
       "<div>\n",
       "<style scoped>\n",
       "    .dataframe tbody tr th:only-of-type {\n",
       "        vertical-align: middle;\n",
       "    }\n",
       "\n",
       "    .dataframe tbody tr th {\n",
       "        vertical-align: top;\n",
       "    }\n",
       "\n",
       "    .dataframe thead th {\n",
       "        text-align: right;\n",
       "    }\n",
       "</style>\n",
       "<table border=\"1\" class=\"dataframe\">\n",
       "  <thead>\n",
       "    <tr style=\"text-align: right;\">\n",
       "      <th></th>\n",
       "      <th>AAPL</th>\n",
       "      <th>IBM</th>\n",
       "      <th>MSFT</th>\n",
       "      <th>GOOG</th>\n",
       "    </tr>\n",
       "    <tr>\n",
       "      <th>Date</th>\n",
       "      <th></th>\n",
       "      <th></th>\n",
       "      <th></th>\n",
       "      <th></th>\n",
       "    </tr>\n",
       "  </thead>\n",
       "  <tbody>\n",
       "    <tr>\n",
       "      <th>2021-08-09</th>\n",
       "      <td>-0.000342</td>\n",
       "      <td>-0.008424</td>\n",
       "      <td>-0.003904</td>\n",
       "      <td>0.007049</td>\n",
       "    </tr>\n",
       "    <tr>\n",
       "      <th>2021-08-10</th>\n",
       "      <td>-0.003354</td>\n",
       "      <td>0.000920</td>\n",
       "      <td>-0.006555</td>\n",
       "      <td>0.000685</td>\n",
       "    </tr>\n",
       "    <tr>\n",
       "      <th>2021-08-11</th>\n",
       "      <td>0.001786</td>\n",
       "      <td>0.005305</td>\n",
       "      <td>0.001781</td>\n",
       "      <td>-0.002947</td>\n",
       "    </tr>\n",
       "    <tr>\n",
       "      <th>2021-08-12</th>\n",
       "      <td>0.020773</td>\n",
       "      <td>0.006614</td>\n",
       "      <td>0.009967</td>\n",
       "      <td>0.005084</td>\n",
       "    </tr>\n",
       "    <tr>\n",
       "      <th>2021-08-13</th>\n",
       "      <td>0.001410</td>\n",
       "      <td>0.000769</td>\n",
       "      <td>0.010490</td>\n",
       "      <td>0.000119</td>\n",
       "    </tr>\n",
       "  </tbody>\n",
       "</table>\n",
       "</div>"
      ],
      "text/plain": [
       "                AAPL       IBM      MSFT      GOOG\n",
       "Date                                              \n",
       "2021-08-09 -0.000342 -0.008424 -0.003904  0.007049\n",
       "2021-08-10 -0.003354  0.000920 -0.006555  0.000685\n",
       "2021-08-11  0.001786  0.005305  0.001781 -0.002947\n",
       "2021-08-12  0.020773  0.006614  0.009967  0.005084\n",
       "2021-08-13  0.001410  0.000769  0.010490  0.000119"
      ]
     },
     "execution_count": 130,
     "metadata": {},
     "output_type": "execute_result"
    }
   ],
   "source": [
    "returns = price.pct_change()\n",
    "returns.tail()"
   ]
  },
  {
   "cell_type": "markdown",
   "id": "complimentary-territory",
   "metadata": {},
   "source": [
    " "
   ]
  },
  {
   "cell_type": "markdown",
   "id": "concrete-groove",
   "metadata": {},
   "source": [
    "> corr : NA가 아니며 정렬된 색인에서 연속하는 두 Series에 대해 상관관계를 계산  \n",
    "> cov : 공분산을 계산"
   ]
  },
  {
   "cell_type": "code",
   "execution_count": 131,
   "id": "organic-employer",
   "metadata": {},
   "outputs": [
    {
     "data": {
      "text/plain": [
       "0.5175237180581941"
      ]
     },
     "execution_count": 131,
     "metadata": {},
     "output_type": "execute_result"
    }
   ],
   "source": [
    "returns['MSFT'].corr(returns['IBM'])"
   ]
  },
  {
   "cell_type": "code",
   "execution_count": 132,
   "id": "economic-nebraska",
   "metadata": {},
   "outputs": [
    {
     "data": {
      "text/plain": [
       "0.00014522242367649157"
      ]
     },
     "execution_count": 132,
     "metadata": {},
     "output_type": "execute_result"
    }
   ],
   "source": [
    "returns['MSFT'].cov(returns['IBM'])"
   ]
  },
  {
   "cell_type": "markdown",
   "id": "similar-barcelona",
   "metadata": {},
   "source": [
    " "
   ]
  },
  {
   "cell_type": "markdown",
   "id": "civilian-excuse",
   "metadata": {},
   "source": [
    "> 반면에 DataFrame에서 corr과 cov 메서드는 DataFrame 행렬에서 상관관계와 공분산을 계산한다."
   ]
  },
  {
   "cell_type": "code",
   "execution_count": 133,
   "id": "restricted-latex",
   "metadata": {},
   "outputs": [
    {
     "data": {
      "text/html": [
       "<div>\n",
       "<style scoped>\n",
       "    .dataframe tbody tr th:only-of-type {\n",
       "        vertical-align: middle;\n",
       "    }\n",
       "\n",
       "    .dataframe tbody tr th {\n",
       "        vertical-align: top;\n",
       "    }\n",
       "\n",
       "    .dataframe thead th {\n",
       "        text-align: right;\n",
       "    }\n",
       "</style>\n",
       "<table border=\"1\" class=\"dataframe\">\n",
       "  <thead>\n",
       "    <tr style=\"text-align: right;\">\n",
       "      <th></th>\n",
       "      <th>AAPL</th>\n",
       "      <th>IBM</th>\n",
       "      <th>MSFT</th>\n",
       "      <th>GOOG</th>\n",
       "    </tr>\n",
       "  </thead>\n",
       "  <tbody>\n",
       "    <tr>\n",
       "      <th>AAPL</th>\n",
       "      <td>1.000000</td>\n",
       "      <td>0.441111</td>\n",
       "      <td>0.735539</td>\n",
       "      <td>0.661961</td>\n",
       "    </tr>\n",
       "    <tr>\n",
       "      <th>IBM</th>\n",
       "      <td>0.441111</td>\n",
       "      <td>1.000000</td>\n",
       "      <td>0.517524</td>\n",
       "      <td>0.484230</td>\n",
       "    </tr>\n",
       "    <tr>\n",
       "      <th>MSFT</th>\n",
       "      <td>0.735539</td>\n",
       "      <td>0.517524</td>\n",
       "      <td>1.000000</td>\n",
       "      <td>0.775756</td>\n",
       "    </tr>\n",
       "    <tr>\n",
       "      <th>GOOG</th>\n",
       "      <td>0.661961</td>\n",
       "      <td>0.484230</td>\n",
       "      <td>0.775756</td>\n",
       "      <td>1.000000</td>\n",
       "    </tr>\n",
       "  </tbody>\n",
       "</table>\n",
       "</div>"
      ],
      "text/plain": [
       "          AAPL       IBM      MSFT      GOOG\n",
       "AAPL  1.000000  0.441111  0.735539  0.661961\n",
       "IBM   0.441111  1.000000  0.517524  0.484230\n",
       "MSFT  0.735539  0.517524  1.000000  0.775756\n",
       "GOOG  0.661961  0.484230  0.775756  1.000000"
      ]
     },
     "execution_count": 133,
     "metadata": {},
     "output_type": "execute_result"
    }
   ],
   "source": [
    "returns.corr()"
   ]
  },
  {
   "cell_type": "code",
   "execution_count": 134,
   "id": "juvenile-booking",
   "metadata": {},
   "outputs": [
    {
     "data": {
      "text/html": [
       "<div>\n",
       "<style scoped>\n",
       "    .dataframe tbody tr th:only-of-type {\n",
       "        vertical-align: middle;\n",
       "    }\n",
       "\n",
       "    .dataframe tbody tr th {\n",
       "        vertical-align: top;\n",
       "    }\n",
       "\n",
       "    .dataframe thead th {\n",
       "        text-align: right;\n",
       "    }\n",
       "</style>\n",
       "<table border=\"1\" class=\"dataframe\">\n",
       "  <thead>\n",
       "    <tr style=\"text-align: right;\">\n",
       "      <th></th>\n",
       "      <th>AAPL</th>\n",
       "      <th>IBM</th>\n",
       "      <th>MSFT</th>\n",
       "      <th>GOOG</th>\n",
       "    </tr>\n",
       "  </thead>\n",
       "  <tbody>\n",
       "    <tr>\n",
       "      <th>AAPL</th>\n",
       "      <td>0.000361</td>\n",
       "      <td>0.000137</td>\n",
       "      <td>0.000240</td>\n",
       "      <td>0.000211</td>\n",
       "    </tr>\n",
       "    <tr>\n",
       "      <th>IBM</th>\n",
       "      <td>0.000137</td>\n",
       "      <td>0.000268</td>\n",
       "      <td>0.000145</td>\n",
       "      <td>0.000133</td>\n",
       "    </tr>\n",
       "    <tr>\n",
       "      <th>MSFT</th>\n",
       "      <td>0.000240</td>\n",
       "      <td>0.000145</td>\n",
       "      <td>0.000294</td>\n",
       "      <td>0.000224</td>\n",
       "    </tr>\n",
       "    <tr>\n",
       "      <th>GOOG</th>\n",
       "      <td>0.000211</td>\n",
       "      <td>0.000133</td>\n",
       "      <td>0.000224</td>\n",
       "      <td>0.000282</td>\n",
       "    </tr>\n",
       "  </tbody>\n",
       "</table>\n",
       "</div>"
      ],
      "text/plain": [
       "          AAPL       IBM      MSFT      GOOG\n",
       "AAPL  0.000361  0.000137  0.000240  0.000211\n",
       "IBM   0.000137  0.000268  0.000145  0.000133\n",
       "MSFT  0.000240  0.000145  0.000294  0.000224\n",
       "GOOG  0.000211  0.000133  0.000224  0.000282"
      ]
     },
     "execution_count": 134,
     "metadata": {},
     "output_type": "execute_result"
    }
   ],
   "source": [
    "returns.cov()"
   ]
  },
  {
   "cell_type": "markdown",
   "id": "going-galaxy",
   "metadata": {},
   "source": [
    " "
   ]
  },
  {
   "cell_type": "markdown",
   "id": "norman-finder",
   "metadata": {},
   "source": [
    "> DataFrame의 corrwith 메서드를 사용하면 다른 Series나 DataFrame과의 상관관계를 계산한다.  \n",
    "> Series를 넘기면 각 컬럼에 대해 계산한 상관관계를 담고 있는 Series를 반환한다."
   ]
  },
  {
   "cell_type": "code",
   "execution_count": 135,
   "id": "ancient-saver",
   "metadata": {},
   "outputs": [
    {
     "data": {
      "text/plain": [
       "AAPL    0.441111\n",
       "IBM     1.000000\n",
       "MSFT    0.517524\n",
       "GOOG    0.484230\n",
       "dtype: float64"
      ]
     },
     "execution_count": 135,
     "metadata": {},
     "output_type": "execute_result"
    }
   ],
   "source": [
    "returns.corrwith(returns['IBM'])"
   ]
  },
  {
   "cell_type": "markdown",
   "id": "recovered-roots",
   "metadata": {},
   "source": [
    " "
   ]
  },
  {
   "cell_type": "markdown",
   "id": "photographic-reading",
   "metadata": {},
   "source": [
    "> DataFrame을 넘기면 맞아 떨어지는 컬럼 이름에 대한 상관관계를 계산한다.  \n",
    "> 여기서는 시가총액의 퍼센트 변화율에 대한 거래량과의 상관관계를 계산함."
   ]
  },
  {
   "cell_type": "code",
   "execution_count": 137,
   "id": "turkish-ordinance",
   "metadata": {},
   "outputs": [
    {
     "data": {
      "text/plain": [
       "AAPL   -0.063111\n",
       "IBM    -0.103721\n",
       "MSFT   -0.056842\n",
       "GOOG   -0.119026\n",
       "dtype: float64"
      ]
     },
     "execution_count": 137,
     "metadata": {},
     "output_type": "execute_result"
    }
   ],
   "source": [
    "returns.corrwith(volume)"
   ]
  },
  {
   "cell_type": "markdown",
   "id": "integrated-nurse",
   "metadata": {},
   "source": [
    " "
   ]
  },
  {
   "cell_type": "markdown",
   "id": "wicked-comment",
   "metadata": {},
   "source": [
    "### 유일값, 값 세기, 멤버십"
   ]
  },
  {
   "cell_type": "markdown",
   "id": "political-commander",
   "metadata": {},
   "source": [
    "> unique 메서드는 중복되는 값을 제거하고 유일값만 담고 있는 Series를 반환한다."
   ]
  },
  {
   "cell_type": "code",
   "execution_count": 142,
   "id": "great-shirt",
   "metadata": {},
   "outputs": [
    {
     "data": {
      "text/plain": [
       "0    c\n",
       "1    a\n",
       "2    d\n",
       "3    a\n",
       "4    a\n",
       "5    b\n",
       "6    b\n",
       "7    c\n",
       "8    c\n",
       "dtype: object"
      ]
     },
     "execution_count": 142,
     "metadata": {},
     "output_type": "execute_result"
    }
   ],
   "source": [
    "obj = pd.Series(list('cadaabbcc'))\n",
    "obj"
   ]
  },
  {
   "cell_type": "code",
   "execution_count": 147,
   "id": "passing-sweet",
   "metadata": {},
   "outputs": [
    {
     "data": {
      "text/plain": [
       "array(['c', 'a', 'd', 'b'], dtype=object)"
      ]
     },
     "execution_count": 147,
     "metadata": {},
     "output_type": "execute_result"
    }
   ],
   "source": [
    "uniques = obj.unique()\n",
    "uniques"
   ]
  },
  {
   "cell_type": "markdown",
   "id": "addressed-lingerie",
   "metadata": {},
   "source": [
    " "
   ]
  },
  {
   "cell_type": "markdown",
   "id": "macro-raleigh",
   "metadata": {},
   "source": [
    "> value_counts 메서드는 Series에서 $\\text{도수}^{\\text{frequency}}$를 계산하여 반환한다."
   ]
  },
  {
   "cell_type": "code",
   "execution_count": 148,
   "id": "thousand-grace",
   "metadata": {},
   "outputs": [
    {
     "data": {
      "text/plain": [
       "c    3\n",
       "a    3\n",
       "b    2\n",
       "d    1\n",
       "dtype: int64"
      ]
     },
     "execution_count": 148,
     "metadata": {},
     "output_type": "execute_result"
    }
   ],
   "source": [
    "obj.value_counts()"
   ]
  },
  {
   "cell_type": "markdown",
   "id": "sound-flash",
   "metadata": {},
   "source": [
    " "
   ]
  },
  {
   "cell_type": "markdown",
   "id": "mediterranean-colleague",
   "metadata": {},
   "source": [
    "> value_counts에서 반환하는 Series는 담고 잇는 값을 내림차순으로 정렬한다.  \n",
    "> value_counts메서드는 pandas의 `최상위 메서드`로, 어떤 배열이나 순차 자료구조에서도 사용할 수 있다."
   ]
  },
  {
   "cell_type": "code",
   "execution_count": 149,
   "id": "functional-march",
   "metadata": {},
   "outputs": [
    {
     "data": {
      "text/plain": [
       "d    1\n",
       "c    3\n",
       "a    3\n",
       "b    2\n",
       "dtype: int64"
      ]
     },
     "execution_count": 149,
     "metadata": {},
     "output_type": "execute_result"
    }
   ],
   "source": [
    "pd.value_counts(obj.values, sort = False)"
   ]
  },
  {
   "cell_type": "markdown",
   "id": "vulnerable-negative",
   "metadata": {},
   "source": [
    " "
   ]
  },
  {
   "cell_type": "markdown",
   "id": "polar-closure",
   "metadata": {},
   "source": [
    "> isin 메서드는 어떤 값이 Series에 존재하는지 나타내는 불리언 벡터를 반환함.  \n",
    "> Series나 DataFrame의 컬럼에서 값을 골라내고 싶을 때 유용하게 사용함."
   ]
  },
  {
   "cell_type": "code",
   "execution_count": 152,
   "id": "sustainable-finance",
   "metadata": {},
   "outputs": [
    {
     "data": {
      "text/plain": [
       "0    c\n",
       "1    a\n",
       "2    d\n",
       "3    a\n",
       "4    a\n",
       "5    b\n",
       "6    b\n",
       "7    c\n",
       "8    c\n",
       "dtype: object"
      ]
     },
     "execution_count": 152,
     "metadata": {},
     "output_type": "execute_result"
    }
   ],
   "source": [
    "obj"
   ]
  },
  {
   "cell_type": "code",
   "execution_count": 151,
   "id": "rough-capacity",
   "metadata": {},
   "outputs": [
    {
     "data": {
      "text/plain": [
       "0     True\n",
       "1    False\n",
       "2    False\n",
       "3    False\n",
       "4    False\n",
       "5     True\n",
       "6     True\n",
       "7     True\n",
       "8     True\n",
       "dtype: bool"
      ]
     },
     "execution_count": 151,
     "metadata": {},
     "output_type": "execute_result"
    }
   ],
   "source": [
    "mask = obj.isin(['b','c'])\n",
    "mask"
   ]
  },
  {
   "cell_type": "code",
   "execution_count": 153,
   "id": "hybrid-tonight",
   "metadata": {},
   "outputs": [
    {
     "data": {
      "text/plain": [
       "0    c\n",
       "5    b\n",
       "6    b\n",
       "7    c\n",
       "8    c\n",
       "dtype: object"
      ]
     },
     "execution_count": 153,
     "metadata": {},
     "output_type": "execute_result"
    }
   ],
   "source": [
    "obj[mask]"
   ]
  },
  {
   "cell_type": "markdown",
   "id": "dependent-abraham",
   "metadata": {},
   "source": [
    " "
   ]
  },
  {
   "cell_type": "markdown",
   "id": "historical-festival",
   "metadata": {},
   "source": [
    "> DataFrame의 여러 컬럼에 대해 히스토그램을 구하는 경우"
   ]
  },
  {
   "cell_type": "code",
   "execution_count": 159,
   "id": "internal-probability",
   "metadata": {},
   "outputs": [
    {
     "data": {
      "text/html": [
       "<div>\n",
       "<style scoped>\n",
       "    .dataframe tbody tr th:only-of-type {\n",
       "        vertical-align: middle;\n",
       "    }\n",
       "\n",
       "    .dataframe tbody tr th {\n",
       "        vertical-align: top;\n",
       "    }\n",
       "\n",
       "    .dataframe thead th {\n",
       "        text-align: right;\n",
       "    }\n",
       "</style>\n",
       "<table border=\"1\" class=\"dataframe\">\n",
       "  <thead>\n",
       "    <tr style=\"text-align: right;\">\n",
       "      <th></th>\n",
       "      <th>Qu1</th>\n",
       "      <th>Qu2</th>\n",
       "      <th>Qu3</th>\n",
       "    </tr>\n",
       "  </thead>\n",
       "  <tbody>\n",
       "    <tr>\n",
       "      <th>0</th>\n",
       "      <td>1</td>\n",
       "      <td>2</td>\n",
       "      <td>1</td>\n",
       "    </tr>\n",
       "    <tr>\n",
       "      <th>1</th>\n",
       "      <td>3</td>\n",
       "      <td>3</td>\n",
       "      <td>5</td>\n",
       "    </tr>\n",
       "    <tr>\n",
       "      <th>2</th>\n",
       "      <td>4</td>\n",
       "      <td>1</td>\n",
       "      <td>2</td>\n",
       "    </tr>\n",
       "    <tr>\n",
       "      <th>3</th>\n",
       "      <td>3</td>\n",
       "      <td>2</td>\n",
       "      <td>4</td>\n",
       "    </tr>\n",
       "    <tr>\n",
       "      <th>4</th>\n",
       "      <td>4</td>\n",
       "      <td>3</td>\n",
       "      <td>4</td>\n",
       "    </tr>\n",
       "  </tbody>\n",
       "</table>\n",
       "</div>"
      ],
      "text/plain": [
       "   Qu1  Qu2  Qu3\n",
       "0    1    2    1\n",
       "1    3    3    5\n",
       "2    4    1    2\n",
       "3    3    2    4\n",
       "4    4    3    4"
      ]
     },
     "execution_count": 159,
     "metadata": {},
     "output_type": "execute_result"
    }
   ],
   "source": [
    "data = pd.DataFrame({'Qu1' : [1,3,4,3,4],\n",
    "                     'Qu2' : [2,3,1,2,3],  \n",
    "                     'Qu3' : [1,5,2,4,4]})\n",
    "data"
   ]
  },
  {
   "cell_type": "code",
   "execution_count": 161,
   "id": "correct-mauritius",
   "metadata": {},
   "outputs": [
    {
     "data": {
      "text/html": [
       "<div>\n",
       "<style scoped>\n",
       "    .dataframe tbody tr th:only-of-type {\n",
       "        vertical-align: middle;\n",
       "    }\n",
       "\n",
       "    .dataframe tbody tr th {\n",
       "        vertical-align: top;\n",
       "    }\n",
       "\n",
       "    .dataframe thead th {\n",
       "        text-align: right;\n",
       "    }\n",
       "</style>\n",
       "<table border=\"1\" class=\"dataframe\">\n",
       "  <thead>\n",
       "    <tr style=\"text-align: right;\">\n",
       "      <th></th>\n",
       "      <th>Qu1</th>\n",
       "      <th>Qu2</th>\n",
       "      <th>Qu3</th>\n",
       "    </tr>\n",
       "  </thead>\n",
       "  <tbody>\n",
       "    <tr>\n",
       "      <th>1</th>\n",
       "      <td>1.0</td>\n",
       "      <td>1.0</td>\n",
       "      <td>1.0</td>\n",
       "    </tr>\n",
       "    <tr>\n",
       "      <th>2</th>\n",
       "      <td>NaN</td>\n",
       "      <td>2.0</td>\n",
       "      <td>1.0</td>\n",
       "    </tr>\n",
       "    <tr>\n",
       "      <th>3</th>\n",
       "      <td>2.0</td>\n",
       "      <td>2.0</td>\n",
       "      <td>NaN</td>\n",
       "    </tr>\n",
       "    <tr>\n",
       "      <th>4</th>\n",
       "      <td>2.0</td>\n",
       "      <td>NaN</td>\n",
       "      <td>2.0</td>\n",
       "    </tr>\n",
       "    <tr>\n",
       "      <th>5</th>\n",
       "      <td>NaN</td>\n",
       "      <td>NaN</td>\n",
       "      <td>1.0</td>\n",
       "    </tr>\n",
       "  </tbody>\n",
       "</table>\n",
       "</div>"
      ],
      "text/plain": [
       "   Qu1  Qu2  Qu3\n",
       "1  1.0  1.0  1.0\n",
       "2  NaN  2.0  1.0\n",
       "3  2.0  2.0  NaN\n",
       "4  2.0  NaN  2.0\n",
       "5  NaN  NaN  1.0"
      ]
     },
     "execution_count": 161,
     "metadata": {},
     "output_type": "execute_result"
    }
   ],
   "source": [
    "result = data.apply(pd.value_counts)\n",
    "result"
   ]
  }
 ],
 "metadata": {
  "kernelspec": {
   "display_name": "Python 3",
   "language": "python",
   "name": "python3"
  },
  "language_info": {
   "codemirror_mode": {
    "name": "ipython",
    "version": 3
   },
   "file_extension": ".py",
   "mimetype": "text/x-python",
   "name": "python",
   "nbconvert_exporter": "python",
   "pygments_lexer": "ipython3",
   "version": "3.8.10"
  }
 },
 "nbformat": 4,
 "nbformat_minor": 5
}
