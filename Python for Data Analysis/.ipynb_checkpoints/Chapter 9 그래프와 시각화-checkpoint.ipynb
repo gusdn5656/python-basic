{
 "cells": [
  {
   "cell_type": "markdown",
   "id": "selective-arizona",
   "metadata": {},
   "source": [
    "# Chapter 9. 그래프와 시각화"
   ]
  },
  {
   "cell_type": "markdown",
   "id": "genuine-error",
   "metadata": {},
   "source": [
    "- 본 책에서는 matplotlib과 matplotlib 기반의 도구들을 우선적으로 살펴봄\n",
    "- matplotlib은 \n",
    "    - 주로 2D 그래프를 위한 데스크톱 패키지.\n",
    "    - 파이썬에서 매트랩과 유사한 인터페이스를 지원하기 위해 2002년 존 헌터가 시작.\n",
    "    - 그 후 IPython과 matplotlib 커뮤니티의 협력을 통해 IPython 셸(지금은 주피터 노트북)에서 대화형 시각화를 구현해 냄.\n",
    "    - 모든 운영체제의 다양한 GUI 백엔드를 지원함. \n",
    "    - PDF, SVG, JPG, PNG, BMP, GIF 등 일반적으로 널리 사용되는 벡터 포맷과 래스터 포맷으로 그래프 저장 가능. \n",
    "- 시간의 흐름에 따라 내부적으로 matplotlib을 사용하는 새로운 데이터 시각화 도구들이 생겨남. 그중 하나가 seaborn 라이브러리."
   ]
  },
  {
   "cell_type": "code",
   "execution_count": 1,
   "id": "cooperative-source",
   "metadata": {},
   "outputs": [],
   "source": [
    "%matplotlib inline"
   ]
  },
  {
   "cell_type": "markdown",
   "id": "personal-triumph",
   "metadata": {},
   "source": [
    " "
   ]
  },
  {
   "cell_type": "markdown",
   "id": "periodic-nudist",
   "metadata": {},
   "source": [
    "## 9.1 matplotlip API 간략하게 살펴보기"
   ]
  },
  {
   "cell_type": "code",
   "execution_count": 2,
   "id": "beginning-coverage",
   "metadata": {},
   "outputs": [],
   "source": [
    "import matplotlib.pyplot as plt\n",
    "import numpy as np"
   ]
  },
  {
   "cell_type": "code",
   "execution_count": 3,
   "id": "israeli-democrat",
   "metadata": {},
   "outputs": [
    {
     "data": {
      "text/plain": [
       "array([0, 1, 2, 3, 4, 5, 6, 7, 8, 9])"
      ]
     },
     "execution_count": 3,
     "metadata": {},
     "output_type": "execute_result"
    }
   ],
   "source": [
    "data = np.arange(10)\n",
    "data"
   ]
  },
  {
   "cell_type": "code",
   "execution_count": 4,
   "id": "experienced-rouge",
   "metadata": {},
   "outputs": [
    {
     "data": {
      "text/plain": [
       "[<matplotlib.lines.Line2D at 0x27b50eb5190>]"
      ]
     },
     "execution_count": 4,
     "metadata": {},
     "output_type": "execute_result"
    },
    {
     "data": {
      "image/png": "[encoded data removed]",
      "text/plain": [
       "<Figure size 432x288 with 1 Axes>"
      ]
     },
     "metadata": {
      "needs_background": "light"
     },
     "output_type": "display_data"
    }
   ],
   "source": [
    "plt.plot(data)"
   ]
  },
  {
   "cell_type": "markdown",
   "id": "american-iceland",
   "metadata": {},
   "source": [
    "> 함수에서 제공하는 옵션만 사용하는 데 그치지 않고 그 이상의 최적화를 하고 싶다면 matplotlib API도 어느 정도 알고 있어야 한다."
   ]
  },
  {
   "cell_type": "markdown",
   "id": "adopted-dominant",
   "metadata": {},
   "source": [
    " "
   ]
  },
  {
   "cell_type": "markdown",
   "id": "pediatric-terminal",
   "metadata": {},
   "source": [
    "### 9.1.1 figure와 서브플롯\n",
    "> matplotlib에서 그래프는 Figure 객체 내에 존재한다. 그래프를 위한 새로운 figure(피겨)는 plt.figure를 사용해서 생성할 수 있다.  \n",
    "> plt.figure에는 다양한 옵션이 있는데 그중 figsize는 파일에 저장할 경우를 위해 만들려는 figure의 크기와 비율을 지정할 수 있다."
   ]
  },
  {
   "cell_type": "code",
   "execution_count": 5,
   "id": "alpine-breathing",
   "metadata": {},
   "outputs": [
    {
     "data": {
      "text/plain": [
       "<Figure size 432x288 with 0 Axes>"
      ]
     },
     "metadata": {},
     "output_type": "display_data"
    }
   ],
   "source": [
    "fig = plt.figure()"
   ]
  },
  {
   "cell_type": "markdown",
   "id": "associate-sunglasses",
   "metadata": {},
   "source": [
    " "
   ]
  },
  {
   "cell_type": "markdown",
   "id": "naked-grocery",
   "metadata": {},
   "source": [
    "> 빈 figure로는 그래프를 그릴 수 없다.  \n",
    "> add_subplot을 사용해서 최소 하나 이상의 subplots를 생성해야 한다."
   ]
  },
  {
   "cell_type": "code",
   "execution_count": 6,
   "id": "whole-graduation",
   "metadata": {},
   "outputs": [],
   "source": [
    "ax1 = fig.add_subplot(2,2,1)   # figure가 2X2 크기이고 4개의 서브플롯 중에서 첫번재를 선택하겠다는 의미 (서브 플롯은 1부터 숫자가 매겨짐)\n",
    "ax2 = fig.add_subplot(2,2,2)   # figure가 2X2 크기이고 4개의 서브플롯 중에서 두번재를 선택하겠다는 의미 (서브 플롯은 2부터 숫자가 매겨짐)\n",
    "ax3 = fig.add_subplot(2,2,3)   # figure가 2X2 크기이고 4개의 서브플롯 중에서 세번재를 선택하겠다는 의미 (서브 플롯은 3부터 숫자가 매겨짐)"
   ]
  },
  {
   "cell_type": "markdown",
   "id": "adult-teacher",
   "metadata": {},
   "source": [
    " "
   ]
  },
  {
   "cell_type": "markdown",
   "id": "corporate-smell",
   "metadata": {},
   "source": [
    "> 주피터 노트북을 사용할 때는 실행되는 셀마다 그래프가 리셋된다. 따라서 복잡한 그래프를 그릴 때는 단일 노트북 셀에 그래프를 그리는 코드를 전부 입력해야 한다."
   ]
  },
  {
   "cell_type": "code",
   "execution_count": 7,
   "id": "accessible-injection",
   "metadata": {},
   "outputs": [
    {
     "data": {
      "image/png": "[encoded data removed]",
      "text/plain": [
       "<Figure size 432x288 with 3 Axes>"
      ]
     },
     "metadata": {
      "needs_background": "light"
     },
     "output_type": "display_data"
    }
   ],
   "source": [
    "fig = plt.figure()\n",
    "ax1 = fig.add_subplot(2,2,1)\n",
    "ax2 = fig.add_subplot(2,2,2)\n",
    "ax3 = fig.add_subplot(2,2,3)"
   ]
  },
  {
   "cell_type": "markdown",
   "id": "acute-precipitation",
   "metadata": {},
   "source": [
    " "
   ]
  },
  {
   "cell_type": "markdown",
   "id": "selective-malta",
   "metadata": {},
   "source": [
    "> 아래와 같은 명령으로 그래프를 띄우면 matplotlib은 가장 최근의 figure와 그 서브 플롯을 그린다. \n",
    "```python\n",
    "plt.plot(np.random.randn(50).cumsum(), 'k--')\n",
    "```"
   ]
  },
  {
   "cell_type": "code",
   "execution_count": 8,
   "id": "fitted-lender",
   "metadata": {},
   "outputs": [
    {
     "data": {
      "text/plain": [
       "[<matplotlib.lines.Line2D at 0x27b53360d30>]"
      ]
     },
     "execution_count": 8,
     "metadata": {},
     "output_type": "execute_result"
    },
    {
     "data": {
      "image/png": "[encoded data removed]",
      "text/plain": [
       "<Figure size 432x288 with 3 Axes>"
      ]
     },
     "metadata": {
      "needs_background": "light"
     },
     "output_type": "display_data"
    }
   ],
   "source": [
    "fig = plt.figure()\n",
    "ax1 = fig.add_subplot(2,2,1)\n",
    "ax2 = fig.add_subplot(2,2,2)\n",
    "ax3 = fig.add_subplot(2,2,3)\n",
    "plt.plot(np.random.randn(50).cumsum(), 'k--')"
   ]
  },
  {
   "cell_type": "markdown",
   "id": "prerequisite-store",
   "metadata": {},
   "source": [
    " "
   ]
  },
  {
   "cell_type": "markdown",
   "id": "incorporate-energy",
   "metadata": {},
   "source": [
    "> 서브플롯이 없다면 서브플롯 하나를 생성한다. 이렇게 해서 `figure와 서브플롯이 생성되는 과정`을 숨겨준다."
   ]
  },
  {
   "cell_type": "code",
   "execution_count": 9,
   "id": "robust-welcome",
   "metadata": {},
   "outputs": [
    {
     "data": {
      "text/plain": [
       "[<matplotlib.lines.Line2D at 0x27b533dd4c0>]"
      ]
     },
     "execution_count": 9,
     "metadata": {},
     "output_type": "execute_result"
    },
    {
     "data": {
      "image/png": "[encoded data removed]",
      "text/plain": [
       "<Figure size 432x288 with 1 Axes>"
      ]
     },
     "metadata": {
      "needs_background": "light"
     },
     "output_type": "display_data"
    }
   ],
   "source": [
    "plt.plot(np.random.randn(50).cumsum(), 'k--')   # 'k--' 옵션은 검은 점선을 그리기 위한 스타일 옵션임."
   ]
  },
  {
   "cell_type": "markdown",
   "id": "liberal-palmer",
   "metadata": {},
   "source": [
    " "
   ]
  },
  {
   "cell_type": "markdown",
   "id": "native-cartoon",
   "metadata": {},
   "source": [
    "> fig.add_subplot에서 반환되는 객체는 AxeSubplot인데, 각각의 인스턴스 메서드를 호출해서 다른 빈 서브플롯에 직접 그래프를 그릴 수 있다. "
   ]
  },
  {
   "cell_type": "code",
   "execution_count": 10,
   "id": "arbitrary-trauma",
   "metadata": {},
   "outputs": [
    {
     "data": {
      "text/plain": [
       "<matplotlib.collections.PathCollection at 0x27b53696e20>"
      ]
     },
     "execution_count": 10,
     "metadata": {},
     "output_type": "execute_result"
    },
    {
     "data": {
      "image/png": "[encoded data removed]",
      "text/plain": [
       "<Figure size 432x288 with 3 Axes>"
      ]
     },
     "metadata": {
      "needs_background": "light"
     },
     "output_type": "display_data"
    }
   ],
   "source": [
    "fig = plt.figure()\n",
    "ax1 = fig.add_subplot(2,2,1)\n",
    "ax2 = fig.add_subplot(2,2,2)\n",
    "ax3 = fig.add_subplot(2,2,3)\n",
    "\n",
    "plt.plot(np.random.randn(50).cumsum(), 'k--')\n",
    "_ = ax1.hist(np.random.randn(100), bins = 20, color = 'k', alpha = 0.3)\n",
    "ax2.scatter(np.arange(30), np.arange(30) + 3*np.random.randn(30))"
   ]
  },
  {
   "cell_type": "markdown",
   "id": "preceding-sunglasses",
   "metadata": {},
   "source": [
    " "
   ]
  },
  {
   "cell_type": "markdown",
   "id": "proved-kennedy",
   "metadata": {},
   "source": [
    "> matplotlib 문서에서 여러 가지 그래프 종류를 확인할 수 있다.  \n",
    "> 특정한 배치에 맞추어 여러 개의 서브플롯을 포함하는 figure를 생성하는 일은 흔히 접하게 되는 업무인데 이를 위한 plt.subplots라는 편리한 메서드가 있다.  \n",
    "> - 이 메서드는 NumPy 배열과 서브플롯 객체를 새로 생성하여 반환한다."
   ]
  },
  {
   "cell_type": "code",
   "execution_count": 11,
   "id": "rubber-scheduling",
   "metadata": {},
   "outputs": [
    {
     "data": {
      "text/plain": [
       "array([[<AxesSubplot:>, <AxesSubplot:>, <AxesSubplot:>],\n",
       "       [<AxesSubplot:>, <AxesSubplot:>, <AxesSubplot:>]], dtype=object)"
      ]
     },
     "execution_count": 11,
     "metadata": {},
     "output_type": "execute_result"
    },
    {
     "data": {
      "image/png": "[encoded data removed]",
      "text/plain": [
       "<Figure size 432x288 with 6 Axes>"
      ]
     },
     "metadata": {
      "needs_background": "light"
     },
     "output_type": "display_data"
    }
   ],
   "source": [
    "fig, axes = plt.subplots(2,3)\n",
    "axes"
   ]
  },
  {
   "cell_type": "markdown",
   "id": "international-genealogy",
   "metadata": {},
   "source": [
    " "
   ]
  },
  {
   "cell_type": "markdown",
   "id": "consolidated-improvement",
   "metadata": {},
   "source": [
    "> axes 배열은 axes[0, 1]처럼 2차원 배열로 쉽게 색인될 수 있어서 편리하게 사용될 수 있다.  \n",
    "> 서브플롯이 같은 x축 혹은 y축을 가져야 한다면 각각 sharex와 sharey를 사용해서 지정할 수 있다. => 같은 범위 내에서 데이터를 비교해야 할 경우 특히 유용하다.  \n",
    "> 별도로 지정하지 않으면 matplotlib은 각 그래프의 범위를 독립적으로 조정한다."
   ]
  },
  {
   "cell_type": "markdown",
   "id": "spanish-malpractice",
   "metadata": {},
   "source": [
    "#### pyplot.subplots 옵션\n",
    "\n",
    "<details>\n",
    "<summary>pyplot.subplots 옵션</summary>\n",
    "<div markdown=\"1\">\n",
    "\n",
    "|인자|설명|\n",
    "|:--|:--|\n",
    "|nrows|서브플롯의 로우 수|\n",
    "|ncols|서브플롯의 컬럼 수|\n",
    "|sharex|모든 서브플롯이 같은 x축 눈금을 사용하도록 한다(xlim 값을 조절하면 모든 서브플롯에 적용된다).|\n",
    "|sharey|모든 서브플롯이 같은 y축 눈금을 사용하도록 한다(ylim 값을 조절하면 모든 서브플롯에 적용된다).|\n",
    "|subplot_kw|add_subplot을 사용해서 각 서브플롯을 생성할 때 사용할 키워드를 담고 있는 사전|\n",
    "|**fig_kw|figure를 생성할 때 사용할 추가적인 키워드 인자. 예를 들면 plt.subplots(2,2,figsize = (8,6))|\n",
    "\n",
    "    \n",
    "</div>\n",
    "</details>"
   ]
  },
  {
   "cell_type": "markdown",
   "id": "alive-assets",
   "metadata": {},
   "source": [
    " "
   ]
  },
  {
   "cell_type": "markdown",
   "id": "crazy-range",
   "metadata": {},
   "source": [
    "#### 서브플롯 간의 간격 조절하기"
   ]
  },
  {
   "cell_type": "markdown",
   "id": "advance-blood",
   "metadata": {},
   "source": [
    "> matplotlib은 서브플롯 간에 적당한 간격과 여백을 추가해준다. 이 간격은 전체 그래프의 높이와 너비에 따라 상대적으로 결정된다.  \n",
    "> 서브플롯 간의 간격은 Figure 객체의 subplots_adjust 메서드를 사용해서 쉽게 바꿀 수 있다. subplots_adjust 메서드는 최상위 함수로도 존재한다.\n",
    "\n",
    "```python\n",
    "subplots_adjust(left = None, bottom = None, right = None, top = None, wspace = None, hspace = None)\n",
    "```"
   ]
  },
  {
   "cell_type": "markdown",
   "id": "laden-notion",
   "metadata": {},
   "source": [
    " "
   ]
  },
  {
   "cell_type": "markdown",
   "id": "satellite-general",
   "metadata": {},
   "source": [
    "> wspace와 hspace는 서브플롯 간의 간격을 위해 각각 figure의 너비와 높이에 대한 비율을 조절한다.  \n",
    "> 다음 코드는 서브플롯 간의 간격을 주지 않은 그래프를 생성하는 코드."
   ]
  },
  {
   "cell_type": "code",
   "execution_count": 22,
   "id": "thousand-assembly",
   "metadata": {},
   "outputs": [
    {
     "data": {
      "image/png": "[encoded data removed]",
      "text/plain": [
       "<Figure size 432x288 with 4 Axes>"
      ]
     },
     "metadata": {
      "needs_background": "light"
     },
     "output_type": "display_data"
    }
   ],
   "source": [
    "fig, axes = plt.subplots(2, 2, sharex = True, sharey = True)\n",
    "for i in range(2) : \n",
    "    for j in range(2) : \n",
    "        axes[i,j].hist(np.random.randn(500), bins = 50, color = 'k', alpha = 0.5)\n",
    "\n",
    "plt.subplots_adjust(wspace = 0, hspace = 0)"
   ]
  },
  {
   "cell_type": "markdown",
   "id": "posted-salon",
   "metadata": {},
   "source": [
    "> 그래프를 그렸을 때 축 이름이 겹치는 경우가 있다. matplotlib은 그래프에서 이름이 겹치는지 검사하지 않기 때문에 이와 같은 경우에는 눈금 위치와 눈금 이름을 명시적으로 직접 지정해야 한다."
   ]
  },
  {
   "cell_type": "markdown",
   "id": "lightweight-camera",
   "metadata": {},
   "source": [
    " "
   ]
  },
  {
   "cell_type": "markdown",
   "id": "filled-russell",
   "metadata": {},
   "source": [
    "### 9.1.2 색상, 마커, 선 스타일"
   ]
  },
  {
   "cell_type": "code",
   "execution_count": null,
   "id": "solar-contamination",
   "metadata": {},
   "outputs": [],
   "source": []
  }
 ],
 "metadata": {
  "kernelspec": {
   "display_name": "Python 3",
   "language": "python",
   "name": "python3"
  },
  "language_info": {
   "codemirror_mode": {
    "name": "ipython",
    "version": 3
   },
   "file_extension": ".py",
   "mimetype": "text/x-python",
   "name": "python",
   "nbconvert_exporter": "python",
   "pygments_lexer": "ipython3",
   "version": "3.8.10"
  }
 },
 "nbformat": 4,
 "nbformat_minor": 5
}
