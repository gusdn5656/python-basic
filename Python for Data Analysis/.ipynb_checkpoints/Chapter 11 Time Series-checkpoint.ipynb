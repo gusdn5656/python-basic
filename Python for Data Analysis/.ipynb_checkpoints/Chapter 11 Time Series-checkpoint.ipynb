{
 "cells": [
  {
   "cell_type": "markdown",
   "id": "temporal-portal",
   "metadata": {},
   "source": [
    "# Chapter 11. 시계열"
   ]
  },
  {
   "cell_type": "markdown",
   "id": "reliable-lotus",
   "metadata": {},
   "source": [
    "- 대부분의 시계열은 고정 빈도(Fixed Frequency)로 표현되는데 데이터가 존재하는 지점이 특정 규칙에 따라 고정 간격을 가지게 된다.\n",
    "- 시계열은 또한 고정된 단위나 시간 혹은 단위들 간의 간격으로 존재하지 않고 불규칙적인 모습으로 표현될 수도 있다.\n",
    "- 어떻게 시계열 데이터를 표시하고 참조할지는 애플리케이션에 의존적이며 다음 중 한 유형일 수 있다.\n",
    "    - 시간 내에서 특정 순간의 타임 스탬프\n",
    "    - 2007년 1월이나 2010년 전체 같은 고정된 기간\n",
    "    - 시작과 끝 타임스탬프로 표시되는 시간 간격. 기간은 시간 간격의 특수한 경우로 생각할 수 있다.\n",
    "- 가장 단순하고 널리 사용되는 시계열의 종류는 타임스탬프로 색인된 데이터다.\n",
    "- pandas는 표준 시계열 도구와 데이터 알고리즘을 제공한다."
   ]
  },
  {
   "cell_type": "markdown",
   "id": "square-netherlands",
   "metadata": {},
   "source": [
    " "
   ]
  },
  {
   "cell_type": "markdown",
   "id": "sustained-nerve",
   "metadata": {},
   "source": [
    "## 11.1 날짜, 시간 자료형, 도구\n",
    "- 파이썬 표준 라이브러리는 `날짜와 시간을 위한 자료형`과 `달력 관련 기능`을 제공하는 자료형이 존재한다.  \n",
    "- datetime, time 그리고 calendar 모듈은 처음 공부하기에 좋은 주제다.\n",
    "- datetime.datetime 형이나 단순한 datetime이 널리 사용되고 있다."
   ]
  },
  {
   "cell_type": "code",
   "execution_count": 13,
   "id": "wired-tuner",
   "metadata": {},
   "outputs": [
    {
     "data": {
      "text/plain": [
       "datetime.datetime(2021, 10, 5, 17, 27, 40, 189807)"
      ]
     },
     "execution_count": 13,
     "metadata": {},
     "output_type": "execute_result"
    }
   ],
   "source": [
    "from datetime import datetime\n",
    "\n",
    "now = datetime.now()\n",
    "now"
   ]
  },
  {
   "cell_type": "code",
   "execution_count": 3,
   "id": "continuing-breed",
   "metadata": {},
   "outputs": [
    {
     "data": {
      "text/plain": [
       "(2021, 10, 4)"
      ]
     },
     "execution_count": 3,
     "metadata": {},
     "output_type": "execute_result"
    }
   ],
   "source": [
    "now.year, now.month, now.day"
   ]
  },
  {
   "cell_type": "markdown",
   "id": "manual-blair",
   "metadata": {},
   "source": [
    " "
   ]
  },
  {
   "cell_type": "markdown",
   "id": "responsible-great",
   "metadata": {},
   "source": [
    "> datetime은 날짜와 시간을 모두 저장하며 마이크로초까지 지원한다.  \n",
    "> datetime.timedelta는 두 datetime 객체 간의 시간적인 차이를 표현할 수 있다."
   ]
  },
  {
   "cell_type": "code",
   "execution_count": 6,
   "id": "solved-johnston",
   "metadata": {},
   "outputs": [
    {
     "data": {
      "text/plain": [
       "datetime.timedelta(days=926, seconds=56700)"
      ]
     },
     "execution_count": 6,
     "metadata": {},
     "output_type": "execute_result"
    }
   ],
   "source": [
    "delta = datetime(2011, 1, 7) - datetime(2008, 6, 24, 8, 15)\n",
    "delta"
   ]
  },
  {
   "cell_type": "code",
   "execution_count": 7,
   "id": "capital-bedroom",
   "metadata": {},
   "outputs": [
    {
     "data": {
      "text/plain": [
       "(926, 56700)"
      ]
     },
     "execution_count": 7,
     "metadata": {},
     "output_type": "execute_result"
    }
   ],
   "source": [
    "delta.days, delta.seconds"
   ]
  },
  {
   "cell_type": "markdown",
   "id": "crazy-plenty",
   "metadata": {},
   "source": [
    " "
   ]
  },
  {
   "cell_type": "markdown",
   "id": "obvious-demand",
   "metadata": {},
   "source": [
    "> timedelta를 더하거나 빼면 그만큼의 시간이 datetime 객체에 적용되어 새로운 객체를 만들 수 있다."
   ]
  },
  {
   "cell_type": "code",
   "execution_count": 9,
   "id": "polyphonic-contents",
   "metadata": {},
   "outputs": [
    {
     "data": {
      "text/plain": [
       "datetime.datetime(2010, 12, 14, 0, 0)"
      ]
     },
     "execution_count": 9,
     "metadata": {},
     "output_type": "execute_result"
    }
   ],
   "source": [
    "from datetime import timedelta\n",
    "\n",
    "start = datetime(2011, 1, 7)\n",
    "\n",
    "start - 2*timedelta(12)"
   ]
  },
  {
   "cell_type": "markdown",
   "id": "entire-assault",
   "metadata": {},
   "source": [
    " "
   ]
  },
  {
   "cell_type": "markdown",
   "id": "herbal-stranger",
   "metadata": {},
   "source": [
    "#### datetime 모듈의 자료형\n",
    "\n",
    "<details>\n",
    "<summary>datetime 모듈의 자료형</summary>\n",
    "<div markdown=\"1\">\n",
    "\n",
    "|자료형|설명|\n",
    "|:--|:--|\n",
    "|date|그레고리안 달력을 사용해서 날짜(연,월,일)를 저장한다.|\n",
    "|time|하루의 시간을 시,분,초,마이크로초 단위로 저장한다.|\n",
    "|datetime|날짜와 시간을 모두 저장한다.|\n",
    "|timedelta|두 datetime 값 간의 차이(일, 초, 마이크로초)를 표현한다.|\n",
    "|tzinfo|지역시간대를 저장하기 위한 기본 자료형|\n",
    "\n",
    "    \n",
    "</div>\n",
    "</details>"
   ]
  },
  {
   "cell_type": "markdown",
   "id": "worthy-edward",
   "metadata": {},
   "source": [
    " "
   ]
  },
  {
   "cell_type": "markdown",
   "id": "declared-henry",
   "metadata": {},
   "source": [
    "### 11.1.1 문자열을 datetime으로 변환하기"
   ]
  },
  {
   "cell_type": "markdown",
   "id": "quick-tribute",
   "metadata": {},
   "source": [
    "> datetime 객체와 나중에 소개할 pandas의 Timestamp 객체는 str 메서드나 strftime 메서드에 포맷 규칙을 넘겨서 문자열로 나타낼 수 있다."
   ]
  },
  {
   "cell_type": "code",
   "execution_count": 14,
   "id": "quarterly-brooks",
   "metadata": {},
   "outputs": [
    {
     "data": {
      "text/plain": [
       "'2011-01-03 00:00:00'"
      ]
     },
     "execution_count": 14,
     "metadata": {},
     "output_type": "execute_result"
    }
   ],
   "source": [
    "stamp = datetime(2011, 1, 3)\n",
    "\n",
    "str(stamp)"
   ]
  },
  {
   "cell_type": "code",
   "execution_count": 17,
   "id": "broad-rouge",
   "metadata": {},
   "outputs": [
    {
     "data": {
      "text/plain": [
       "'2011-01-03'"
      ]
     },
     "execution_count": 17,
     "metadata": {},
     "output_type": "execute_result"
    }
   ],
   "source": [
    "stamp.strftime(\"%Y-%m-%d\")"
   ]
  },
  {
   "cell_type": "markdown",
   "id": "brave-specialist",
   "metadata": {},
   "source": [
    " "
   ]
  },
  {
   "cell_type": "markdown",
   "id": "unsigned-lying",
   "metadata": {},
   "source": [
    "#### Datetime 포맷 규칙 (ISO C89 호환)\n",
    "\n",
    "<details>\n",
    "<summary>Datetime 포맷 규칙 (ISO C89 호환)</summary>\n",
    "<div markdown=\"1\">\n",
    "\n",
    "|포맷|설명|\n",
    "|:--|:--|\n",
    "|%Y|4자리 연도|\n",
    "|%y|2자리 연도|\n",
    "|%m|2자리 월 [01,12]|\n",
    "|%d|2자리 일 [01,31]|\n",
    "|%H|시간(24시간 형식) [00,23]|\n",
    "|%I|시간(12시간 형식) [01,12]|\n",
    "|%M|2자리 분 [00,59]|\n",
    "|%S|초 [00,61] (60,61은 윤초)|\n",
    "|%w|정수로 나타낸 요일 [0(일요일), 6]|\n",
    "|%U|연중 주차 [00,53]. 일요일을 그 주의 첫 번째 날로 간주하며, 그 해에서 첫 번째 일요일 앞에 있는 날은 0주차가 된다.|\n",
    "|%W|연중 주차 [00,53]. 월요일을 그 주의 첫 번째 날로 간주하며, 그 해에서 첫 번째 월요일 앞에 있는 날은 0주차가 된다.|\n",
    "|%z|UTC 시간대 오프셋을 +HHMM 또는 -HHMM으로 표현한다. 만약 시간대를 신경 쓰지 않는다면 비워둔다.|\n",
    "|%F|%Y-%m-%d 형식에 대한 축약 (예:2012-4-18)|\n",
    "|%D|%m/%d/%y 형식에 대한 축약 (예:04/18/12)|\n",
    "    \n",
    "</div>\n",
    "</details>"
   ]
  },
  {
   "cell_type": "markdown",
   "id": "gorgeous-marriage",
   "metadata": {},
   "source": [
    " "
   ]
  },
  {
   "cell_type": "markdown",
   "id": "descending-banana",
   "metadata": {},
   "source": [
    "> 이 포맷 코드는 datetime.strptime을 사용해서 문자열을 날자로 변환할 때 사용할 수 있다."
   ]
  },
  {
   "cell_type": "code",
   "execution_count": 18,
   "id": "interstate-hamilton",
   "metadata": {},
   "outputs": [
    {
     "data": {
      "text/plain": [
       "datetime.datetime(2011, 1, 3, 0, 0)"
      ]
     },
     "execution_count": 18,
     "metadata": {},
     "output_type": "execute_result"
    }
   ],
   "source": [
    "value = \"2011-01-03\"\n",
    "datetime.strptime(value, '%Y-%m-%d')"
   ]
  },
  {
   "cell_type": "code",
   "execution_count": 19,
   "id": "alternative-location",
   "metadata": {},
   "outputs": [
    {
     "data": {
      "text/plain": [
       "[datetime.datetime(2011, 7, 6, 0, 0), datetime.datetime(2011, 8, 6, 0, 0)]"
      ]
     },
     "execution_count": 19,
     "metadata": {},
     "output_type": "execute_result"
    }
   ],
   "source": [
    "datestrs = ['7/6/2011', '8/6/2011']\n",
    "\n",
    "[datetime.strptime(x, '%m/%d/%Y') for x in datestrs]"
   ]
  },
  {
   "cell_type": "markdown",
   "id": "frequent-cowboy",
   "metadata": {},
   "source": [
    " "
   ]
  },
  {
   "cell_type": "markdown",
   "id": "grave-circumstances",
   "metadata": {},
   "source": [
    "> datetime.strptime은 알려진 형식의 날자를 파싱하는 최적의 방법이다.  \n",
    "> 하지만, 서드파티 패키지인 dateutil에 포함된 parser.parse 메서드를 사용하면 보다더 쉽게 변환할 수 있다. (pandas를 설치할 때 자동으로 함게 설치된다.)"
   ]
  },
  {
   "cell_type": "code",
   "execution_count": 20,
   "id": "sweet-genesis",
   "metadata": {},
   "outputs": [
    {
     "data": {
      "text/plain": [
       "datetime.datetime(2011, 1, 3, 0, 0)"
      ]
     },
     "execution_count": 20,
     "metadata": {},
     "output_type": "execute_result"
    }
   ],
   "source": [
    "from dateutil.parser import parse\n",
    "\n",
    "parse('2011-01-03')"
   ]
  },
  {
   "cell_type": "markdown",
   "id": "immediate-county",
   "metadata": {},
   "source": [
    " "
   ]
  },
  {
   "cell_type": "markdown",
   "id": "stopped-doctrine",
   "metadata": {},
   "source": [
    "> dateutil은 거의 대부분의 사람이 인지하는 날자 표현 방식을 파싱할 수 있다."
   ]
  },
  {
   "cell_type": "code",
   "execution_count": 21,
   "id": "bigger-progressive",
   "metadata": {},
   "outputs": [
    {
     "data": {
      "text/plain": [
       "datetime.datetime(1997, 1, 31, 22, 45)"
      ]
     },
     "execution_count": 21,
     "metadata": {},
     "output_type": "execute_result"
    }
   ],
   "source": [
    "parse(\"Jan 31, 1997 10:45 PM\")"
   ]
  },
  {
   "cell_type": "markdown",
   "id": "broad-absence",
   "metadata": {},
   "source": [
    " "
   ]
  },
  {
   "cell_type": "markdown",
   "id": "hourly-finish",
   "metadata": {},
   "source": [
    "> 국제 로케일의 경우 날짜가 월 앞에 오는 경우가 매우 흔하다. 이런 경우에는 dayfirst = True를 넘겨주면 된다."
   ]
  },
  {
   "cell_type": "code",
   "execution_count": 22,
   "id": "documentary-florida",
   "metadata": {},
   "outputs": [
    {
     "data": {
      "text/plain": [
       "datetime.datetime(2011, 12, 6, 0, 0)"
      ]
     },
     "execution_count": 22,
     "metadata": {},
     "output_type": "execute_result"
    }
   ],
   "source": [
    "parse(\"6/12/2011\", dayfirst= True)"
   ]
  },
  {
   "cell_type": "markdown",
   "id": "essential-thailand",
   "metadata": {},
   "source": [
    " "
   ]
  },
  {
   "cell_type": "markdown",
   "id": "sunrise-snapshot",
   "metadata": {},
   "source": [
    "> pandas는 일반적으로 DataFrame의 컬럼이나 축 색인으로 날짜가 담긴 배열을 사용한다.  \n",
    "> to_datetime 메서드는 많은 종류의 날짜 표현을 처리한다. ISO 8601 같은 표준 날짜 형식은 매우 빠르게 처리할 수 있다."
   ]
  },
  {
   "cell_type": "code",
   "execution_count": 25,
   "id": "extra-russian",
   "metadata": {},
   "outputs": [
    {
     "data": {
      "text/plain": [
       "DatetimeIndex(['2011-07-06 12:00:00', '2011-08-06 00:00:00'], dtype='datetime64[ns]', freq=None)"
      ]
     },
     "execution_count": 25,
     "metadata": {},
     "output_type": "execute_result"
    }
   ],
   "source": [
    "datestrs = ['2011-07-06 12:00:00', '2011-08-06 00:00:00']\n",
    "\n",
    "pd.to_datetime(datestrs)"
   ]
  },
  {
   "cell_type": "markdown",
   "id": "everyday-context",
   "metadata": {},
   "source": [
    " "
   ]
  },
  {
   "cell_type": "markdown",
   "id": "extra-penguin",
   "metadata": {},
   "source": [
    "> 또한 누락된 값 (None, 빈 문자열 등)으로 간주되어야 할 값도 처리해 준다.  \n",
    "> NaT (Not a Time)는 pandas에서 누락된 타임스탬프 데이터를 나타낸다."
   ]
  },
  {
   "cell_type": "code",
   "execution_count": 26,
   "id": "square-there",
   "metadata": {},
   "outputs": [
    {
     "data": {
      "text/plain": [
       "DatetimeIndex(['2011-07-06 12:00:00', '2011-08-06 00:00:00', 'NaT'], dtype='datetime64[ns]', freq=None)"
      ]
     },
     "execution_count": 26,
     "metadata": {},
     "output_type": "execute_result"
    }
   ],
   "source": [
    "idx = pd.to_datetime(datestrs + [None])\n",
    "idx"
   ]
  },
  {
   "cell_type": "code",
   "execution_count": 29,
   "id": "tribal-salmon",
   "metadata": {},
   "outputs": [
    {
     "data": {
      "text/plain": [
       "array([False, False,  True])"
      ]
     },
     "execution_count": 29,
     "metadata": {},
     "output_type": "execute_result"
    }
   ],
   "source": [
    "pd.isnull(idx)"
   ]
  },
  {
   "cell_type": "markdown",
   "id": "colored-mount",
   "metadata": {},
   "source": [
    " "
   ]
  },
  {
   "cell_type": "markdown",
   "id": "neutral-bachelor",
   "metadata": {},
   "source": [
    "> datetime 객체는 여러 나라 혹은 언어에서 사용하는 로케일에 맞는 다양한 포맷 옵션을 제공한다.  \n",
    "> 예를 들어 독일과 프랑스에서는 각 월의 단축명이 영문 시스템과 다르다. 로케일 별 날짜 포맷을 확인할 필요가 있다."
   ]
  },
  {
   "cell_type": "markdown",
   "id": "freelance-translator",
   "metadata": {},
   "source": [
    "#### 로케일별 날짜 포맷\n",
    "\n",
    "<details>\n",
    "<summary>로케일별 날짜 포맷</summary>\n",
    "<div markdown=\"1\">\n",
    "\n",
    "|포맷|설명|\n",
    "|:--|:--|\n",
    "|%a|축약된 요일 이름|\n",
    "|%A|요일 이름|\n",
    "|%b|축약된 월 이름|\n",
    "|%B|월 이름|\n",
    "|%c|전체 날짜와 시간(예: 'Tue 01 May 2012 04:20:57 PM')|\n",
    "|%p|해당 로케일에서 AM, PM에 대응되는 이름(AM은 오전, PM은 오후)|\n",
    "|%x|로케일에 맞는 날짜 형식 (예:미국이라면 2012년 5월 1일은 '05/01/2012')|\n",
    "|%X|로케일에 맞는 시간 형식 (예: '04:24:12 PM')|\n",
    "    \n",
    "</div>\n",
    "</details>"
   ]
  },
  {
   "cell_type": "markdown",
   "id": "ancient-norfolk",
   "metadata": {},
   "source": [
    " "
   ]
  },
  {
   "cell_type": "markdown",
   "id": "destroyed-polyester",
   "metadata": {},
   "source": [
    "## 11.2 시계열 기초"
   ]
  },
  {
   "cell_type": "markdown",
   "id": "passing-asthma",
   "metadata": {},
   "source": [
    "- pandas에서 찾아볼 수 있는 가장 기본적인 시계열 객체의 종류는 파이썬 문자열이나 datetime 객체로 표현되는 타임스탬프로 색인된 Series다."
   ]
  },
  {
   "cell_type": "code",
   "execution_count": 14,
   "id": "received-queue",
   "metadata": {},
   "outputs": [
    {
     "data": {
      "text/plain": [
       "2011-01-02    1.466517\n",
       "2011-01-05   -0.022566\n",
       "2011-01-07    0.461421\n",
       "2011-01-08    0.555314\n",
       "2011-01-10    0.178169\n",
       "2011-01-12   -1.077623\n",
       "dtype: float64"
      ]
     },
     "execution_count": 14,
     "metadata": {},
     "output_type": "execute_result"
    }
   ],
   "source": [
    "from datetime import datetime\n",
    "\n",
    "dates = [datetime(2011, 1, 2), datetime(2011, 1, 5),\n",
    "         datetime(2011, 1, 7), datetime(2011, 1, 8),\n",
    "         datetime(2011, 1, 10), datetime(2011, 1, 12)]\n",
    "\n",
    "ts = pd.Series(np.random.randn(6), index = dates)\n",
    "ts"
   ]
  },
  {
   "cell_type": "markdown",
   "id": "naked-contrary",
   "metadata": {},
   "source": [
    " "
   ]
  },
  {
   "cell_type": "markdown",
   "id": "hundred-hobby",
   "metadata": {},
   "source": [
    "> 내부적으로 보면 이들 datetime 객체는 DatetimeIndex에 들어 있으며 ts 변수의 타입은 TimeSeries다."
   ]
  },
  {
   "cell_type": "code",
   "execution_count": 38,
   "id": "theoretical-membrane",
   "metadata": {},
   "outputs": [
    {
     "data": {
      "text/plain": [
       "DatetimeIndex(['2011-01-02', '2011-01-05', '2011-01-07', '2011-01-08',\n",
       "               '2011-01-10', '2011-01-12'],\n",
       "              dtype='datetime64[ns]', freq=None)"
      ]
     },
     "execution_count": 38,
     "metadata": {},
     "output_type": "execute_result"
    }
   ],
   "source": [
    "ts.index"
   ]
  },
  {
   "cell_type": "markdown",
   "id": "voluntary-wealth",
   "metadata": {},
   "source": [
    " "
   ]
  },
  {
   "cell_type": "markdown",
   "id": "regulated-polish",
   "metadata": {},
   "source": [
    "> 다른 Series와 마찬가지로 서로 다르게 색인된 시계열 객체 간의 산술 연산은 자동으로 날짜에 맞춰진다."
   ]
  },
  {
   "cell_type": "code",
   "execution_count": 39,
   "id": "tracked-gather",
   "metadata": {},
   "outputs": [
    {
     "data": {
      "text/plain": [
       "2011-01-02    1.054187\n",
       "2011-01-05         NaN\n",
       "2011-01-07   -1.170364\n",
       "2011-01-08         NaN\n",
       "2011-01-10   -2.400915\n",
       "2011-01-12         NaN\n",
       "dtype: float64"
      ]
     },
     "execution_count": 39,
     "metadata": {},
     "output_type": "execute_result"
    }
   ],
   "source": [
    "ts + ts[::2]"
   ]
  },
  {
   "cell_type": "markdown",
   "id": "shaped-fields",
   "metadata": {},
   "source": [
    " "
   ]
  },
  {
   "cell_type": "markdown",
   "id": "stainless-vegetation",
   "metadata": {},
   "source": [
    "> pandas는 NumPy의 datetime64 자료형을 사용해서 나노초의 정밀도를 가지는 타임스탬프를 저장한다."
   ]
  },
  {
   "cell_type": "code",
   "execution_count": 40,
   "id": "czech-albania",
   "metadata": {},
   "outputs": [
    {
     "data": {
      "text/plain": [
       "dtype('<M8[ns]')"
      ]
     },
     "execution_count": 40,
     "metadata": {},
     "output_type": "execute_result"
    }
   ],
   "source": [
    "ts.index.dtype"
   ]
  },
  {
   "cell_type": "markdown",
   "id": "national-triumph",
   "metadata": {},
   "source": [
    " "
   ]
  },
  {
   "cell_type": "markdown",
   "id": "revised-schedule",
   "metadata": {},
   "source": [
    "> DatetimeIndex의 스칼라값은 pandas Timestamp 객체다.  \n",
    "> Timestamp는 datetime 객체를 사용하는 어떤 곳에도 대체 사용이 가능하다.  \n",
    "> 게다가 가능하다면 빈도에 관한 정보도 저장하며 시간대 변환을 하는 방법과 다른 종류의 조작을 하는 방법도 포함하고 있다."
   ]
  },
  {
   "cell_type": "code",
   "execution_count": 42,
   "id": "buried-envelope",
   "metadata": {},
   "outputs": [
    {
     "data": {
      "text/plain": [
       "Timestamp('2011-01-02 00:00:00')"
      ]
     },
     "execution_count": 42,
     "metadata": {},
     "output_type": "execute_result"
    }
   ],
   "source": [
    "stamp = ts.index[0]\n",
    "stamp"
   ]
  },
  {
   "cell_type": "markdown",
   "id": "romantic-words",
   "metadata": {},
   "source": [
    " "
   ]
  },
  {
   "cell_type": "markdown",
   "id": "cordless-blake",
   "metadata": {},
   "source": [
    "### 11.2.1 색인, 선택, 부분 선택"
   ]
  },
  {
   "cell_type": "markdown",
   "id": "single-switch",
   "metadata": {},
   "source": [
    "> 시계열은 라벨에 기반해서 데이터를 선택하고 인덱싱할 때 pandas.Series와 동일하게 동작한다."
   ]
  },
  {
   "cell_type": "code",
   "execution_count": 44,
   "id": "lesbian-engine",
   "metadata": {},
   "outputs": [
    {
     "data": {
      "text/plain": [
       "Timestamp('2011-01-07 00:00:00')"
      ]
     },
     "execution_count": 44,
     "metadata": {},
     "output_type": "execute_result"
    }
   ],
   "source": [
    "stamp = ts.index[2]\n",
    "stamp"
   ]
  },
  {
   "cell_type": "code",
   "execution_count": 45,
   "id": "internal-visiting",
   "metadata": {},
   "outputs": [
    {
     "data": {
      "text/plain": [
       "-0.5851821281381955"
      ]
     },
     "execution_count": 45,
     "metadata": {},
     "output_type": "execute_result"
    }
   ],
   "source": [
    "ts[stamp]"
   ]
  },
  {
   "cell_type": "markdown",
   "id": "failing-negotiation",
   "metadata": {},
   "source": [
    " "
   ]
  },
  {
   "cell_type": "markdown",
   "id": "organic-strap",
   "metadata": {},
   "source": [
    "> 해석할 수 있는 날짜를 문자열로 넘겨서 편리하게 사용할 수 있다."
   ]
  },
  {
   "cell_type": "code",
   "execution_count": 46,
   "id": "invisible-session",
   "metadata": {},
   "outputs": [
    {
     "data": {
      "text/plain": [
       "-1.2004575143223382"
      ]
     },
     "execution_count": 46,
     "metadata": {},
     "output_type": "execute_result"
    }
   ],
   "source": [
    "ts['1/10/2011']"
   ]
  },
  {
   "cell_type": "code",
   "execution_count": 49,
   "id": "pleasant-wealth",
   "metadata": {},
   "outputs": [
    {
     "data": {
      "text/plain": [
       "-1.2004575143223382"
      ]
     },
     "execution_count": 49,
     "metadata": {},
     "output_type": "execute_result"
    }
   ],
   "source": [
    "ts['20110110']"
   ]
  },
  {
   "cell_type": "markdown",
   "id": "progressive-eclipse",
   "metadata": {},
   "source": [
    " "
   ]
  },
  {
   "cell_type": "markdown",
   "id": "registered-cotton",
   "metadata": {},
   "source": [
    "> 긴 시계열에서는 연을 넘기거나 연, 월만 넘겨서 데이터의 일부 구간만 선택할 수도 있다."
   ]
  },
  {
   "cell_type": "code",
   "execution_count": 51,
   "id": "instructional-merit",
   "metadata": {},
   "outputs": [
    {
     "data": {
      "text/plain": [
       "2000-01-01    0.511902\n",
       "2000-01-02    0.300940\n",
       "2000-01-03    0.590463\n",
       "2000-01-04   -1.085473\n",
       "2000-01-05    0.950203\n",
       "                ...   \n",
       "2002-09-22    1.151353\n",
       "2002-09-23    1.236167\n",
       "2002-09-24    1.110303\n",
       "2002-09-25   -0.151498\n",
       "2002-09-26   -0.656942\n",
       "Freq: D, Length: 1000, dtype: float64"
      ]
     },
     "execution_count": 51,
     "metadata": {},
     "output_type": "execute_result"
    }
   ],
   "source": [
    "longer_ts = pd.Series(np.random.randn(1000), index = pd.date_range('1/1/2000', periods = 1000))\n",
    "longer_ts"
   ]
  },
  {
   "cell_type": "code",
   "execution_count": 52,
   "id": "illegal-brief",
   "metadata": {},
   "outputs": [
    {
     "data": {
      "text/plain": [
       "2001-01-01    1.156484\n",
       "2001-01-02   -0.839789\n",
       "2001-01-03   -0.109572\n",
       "2001-01-04    0.090570\n",
       "2001-01-05   -0.128576\n",
       "                ...   \n",
       "2001-12-27    0.108491\n",
       "2001-12-28   -0.177276\n",
       "2001-12-29   -0.735996\n",
       "2001-12-30    0.064573\n",
       "2001-12-31   -1.574414\n",
       "Freq: D, Length: 365, dtype: float64"
      ]
     },
     "execution_count": 52,
     "metadata": {},
     "output_type": "execute_result"
    }
   ],
   "source": [
    "longer_ts['2001']"
   ]
  },
  {
   "cell_type": "markdown",
   "id": "recognized-gibson",
   "metadata": {},
   "source": [
    " "
   ]
  },
  {
   "cell_type": "markdown",
   "id": "frequent-pavilion",
   "metadata": {},
   "source": [
    "> 연에 대해서도 마찬가지로 선택할 수 있다."
   ]
  },
  {
   "cell_type": "code",
   "execution_count": 53,
   "id": "continuing-ministry",
   "metadata": {},
   "outputs": [
    {
     "data": {
      "text/plain": [
       "2001-05-01    1.355891\n",
       "2001-05-02   -0.655497\n",
       "2001-05-03   -1.522220\n",
       "2001-05-04   -0.224103\n",
       "2001-05-05    1.516159\n",
       "2001-05-06   -0.784441\n",
       "2001-05-07   -3.027601\n",
       "2001-05-08    0.374262\n",
       "2001-05-09   -0.319081\n",
       "2001-05-10   -0.088985\n",
       "2001-05-11    0.790988\n",
       "2001-05-12   -0.829910\n",
       "2001-05-13   -0.356047\n",
       "2001-05-14   -0.383890\n",
       "2001-05-15    0.470284\n",
       "2001-05-16   -1.711977\n",
       "2001-05-17    0.995628\n",
       "2001-05-18    0.377491\n",
       "2001-05-19   -0.716980\n",
       "2001-05-20   -0.726000\n",
       "2001-05-21    0.563092\n",
       "2001-05-22   -0.636812\n",
       "2001-05-23    0.751799\n",
       "2001-05-24    1.596946\n",
       "2001-05-25    0.310778\n",
       "2001-05-26   -2.001816\n",
       "2001-05-27    0.519565\n",
       "2001-05-28    0.170625\n",
       "2001-05-29   -0.925019\n",
       "2001-05-30   -0.208023\n",
       "2001-05-31   -1.436730\n",
       "Freq: D, dtype: float64"
      ]
     },
     "execution_count": 53,
     "metadata": {},
     "output_type": "execute_result"
    }
   ],
   "source": [
    "longer_ts['2001-05']"
   ]
  },
  {
   "cell_type": "markdown",
   "id": "velvet-share",
   "metadata": {},
   "source": [
    " "
   ]
  },
  {
   "cell_type": "markdown",
   "id": "ongoing-patrick",
   "metadata": {},
   "source": [
    "> datetime 객체로 데이터를 잘라내는 작업은 일반적인 Series와 동일한 방식으로 할 수 있다."
   ]
  },
  {
   "cell_type": "code",
   "execution_count": 54,
   "id": "specialized-collector",
   "metadata": {},
   "outputs": [
    {
     "data": {
      "text/plain": [
       "2011-01-07   -0.585182\n",
       "2011-01-08    0.487272\n",
       "2011-01-10   -1.200458\n",
       "2011-01-12   -0.376832\n",
       "dtype: float64"
      ]
     },
     "execution_count": 54,
     "metadata": {},
     "output_type": "execute_result"
    }
   ],
   "source": [
    "ts[datetime(2011, 1, 7):]"
   ]
  },
  {
   "cell_type": "markdown",
   "id": "heard-worth",
   "metadata": {},
   "source": [
    " "
   ]
  },
  {
   "cell_type": "markdown",
   "id": "tested-arbitration",
   "metadata": {},
   "source": [
    "> 대부분의 시계열 데이터는 연대순으로 정렬되기 때문에 범위를 지정하기 위해 시계열에 포함하지 않고 타임스탬프를 이용해서 Series를 나눌 수 있다.  \n",
    "> 이런 방식으로 데이터를 나누면 NumPy 배열을 나누는 것처럼 원본 시계열에 대한 뷰를 생성한다는 사실을 기억하자.  \n",
    "> 즉, 데이터 복사가 발생하지 않고 슬라이스에 대한 변경이 원본 데이터에도 반영된다."
   ]
  },
  {
   "cell_type": "code",
   "execution_count": 56,
   "id": "ruled-sailing",
   "metadata": {},
   "outputs": [
    {
     "data": {
      "text/plain": [
       "2011-01-07   -0.585182\n",
       "2011-01-08    0.487272\n",
       "2011-01-10   -1.200458\n",
       "dtype: float64"
      ]
     },
     "execution_count": 56,
     "metadata": {},
     "output_type": "execute_result"
    }
   ],
   "source": [
    "ts['1/6/2011' : '1/11/2011']"
   ]
  },
  {
   "cell_type": "markdown",
   "id": "cooked-ending",
   "metadata": {},
   "source": [
    " "
   ]
  },
  {
   "cell_type": "markdown",
   "id": "developing-thread",
   "metadata": {},
   "source": [
    "> 이와 동일한 인스턴스 메서드로 truncate가 있다. 이 메서드는 TimeSeries를 두 개의 날짜로 나눈다."
   ]
  },
  {
   "cell_type": "code",
   "execution_count": 57,
   "id": "desirable-respondent",
   "metadata": {},
   "outputs": [
    {
     "data": {
      "text/plain": [
       "2011-01-02    0.527093\n",
       "2011-01-05   -1.081817\n",
       "2011-01-07   -0.585182\n",
       "2011-01-08    0.487272\n",
       "dtype: float64"
      ]
     },
     "execution_count": 57,
     "metadata": {},
     "output_type": "execute_result"
    }
   ],
   "source": [
    "ts.truncate(after = '1/9/2011')"
   ]
  },
  {
   "cell_type": "markdown",
   "id": "ambient-summary",
   "metadata": {},
   "source": [
    " "
   ]
  },
  {
   "cell_type": "markdown",
   "id": "geographic-bachelor",
   "metadata": {},
   "source": [
    "> 위 방식은 DataFrame에서도 동일하게 적용되며 로우에 인덱싱된다."
   ]
  },
  {
   "cell_type": "code",
   "execution_count": 6,
   "id": "bridal-lying",
   "metadata": {},
   "outputs": [
    {
     "data": {
      "text/html": [
       "<div>\n",
       "<style scoped>\n",
       "    .dataframe tbody tr th:only-of-type {\n",
       "        vertical-align: middle;\n",
       "    }\n",
       "\n",
       "    .dataframe tbody tr th {\n",
       "        vertical-align: top;\n",
       "    }\n",
       "\n",
       "    .dataframe thead th {\n",
       "        text-align: right;\n",
       "    }\n",
       "</style>\n",
       "<table border=\"1\" class=\"dataframe\">\n",
       "  <thead>\n",
       "    <tr style=\"text-align: right;\">\n",
       "      <th></th>\n",
       "      <th>Colorado</th>\n",
       "      <th>Texas</th>\n",
       "      <th>New York</th>\n",
       "      <th>Ohio</th>\n",
       "    </tr>\n",
       "  </thead>\n",
       "  <tbody>\n",
       "    <tr>\n",
       "      <th>2001-05-02</th>\n",
       "      <td>1.612461</td>\n",
       "      <td>-1.400783</td>\n",
       "      <td>1.216596</td>\n",
       "      <td>-0.360757</td>\n",
       "    </tr>\n",
       "    <tr>\n",
       "      <th>2001-05-09</th>\n",
       "      <td>-0.377931</td>\n",
       "      <td>-0.765961</td>\n",
       "      <td>-1.552703</td>\n",
       "      <td>-2.125842</td>\n",
       "    </tr>\n",
       "    <tr>\n",
       "      <th>2001-05-16</th>\n",
       "      <td>-0.004144</td>\n",
       "      <td>0.639612</td>\n",
       "      <td>0.152298</td>\n",
       "      <td>-1.294210</td>\n",
       "    </tr>\n",
       "    <tr>\n",
       "      <th>2001-05-23</th>\n",
       "      <td>-1.051125</td>\n",
       "      <td>1.486870</td>\n",
       "      <td>-1.708587</td>\n",
       "      <td>-1.344267</td>\n",
       "    </tr>\n",
       "    <tr>\n",
       "      <th>2001-05-30</th>\n",
       "      <td>0.786616</td>\n",
       "      <td>-1.047173</td>\n",
       "      <td>0.269552</td>\n",
       "      <td>0.877791</td>\n",
       "    </tr>\n",
       "  </tbody>\n",
       "</table>\n",
       "</div>"
      ],
      "text/plain": [
       "            Colorado     Texas  New York      Ohio\n",
       "2001-05-02  1.612461 -1.400783  1.216596 -0.360757\n",
       "2001-05-09 -0.377931 -0.765961 -1.552703 -2.125842\n",
       "2001-05-16 -0.004144  0.639612  0.152298 -1.294210\n",
       "2001-05-23 -1.051125  1.486870 -1.708587 -1.344267\n",
       "2001-05-30  0.786616 -1.047173  0.269552  0.877791"
      ]
     },
     "execution_count": 6,
     "metadata": {},
     "output_type": "execute_result"
    }
   ],
   "source": [
    "dates = pd.date_range('1/1/2000', periods = 100, freq = 'W-WED')\n",
    "\n",
    "long_df = pd.DataFrame(np.random.randn(100,4),\n",
    "                       index = dates,\n",
    "                       columns = ['Colorado', 'Texas', 'New York', 'Ohio'])\n",
    "\n",
    "long_df.loc['05-2001']"
   ]
  },
  {
   "cell_type": "markdown",
   "id": "thousand-missile",
   "metadata": {},
   "source": [
    " "
   ]
  },
  {
   "cell_type": "markdown",
   "id": "typical-comedy",
   "metadata": {},
   "source": [
    "### 11.2.2 중복된 색인을 갖는 시계열"
   ]
  },
  {
   "cell_type": "markdown",
   "id": "underlying-ordinary",
   "metadata": {},
   "source": [
    "> 어떤 애플리케이션에서는 여러 데이터가 특정 타임스탬프에 몰려 있는 것을 발견할 수 있다."
   ]
  },
  {
   "cell_type": "code",
   "execution_count": 7,
   "id": "comfortable-nicholas",
   "metadata": {},
   "outputs": [
    {
     "data": {
      "text/plain": [
       "2000-01-01    0\n",
       "2000-01-02    1\n",
       "2000-01-02    2\n",
       "2000-01-02    3\n",
       "2000-01-03    4\n",
       "dtype: int32"
      ]
     },
     "execution_count": 7,
     "metadata": {},
     "output_type": "execute_result"
    }
   ],
   "source": [
    "dates = pd.DatetimeIndex(['1/1/2000','1/2/2000','1/2/2000',\n",
    "                          '1/2/2000','1/3/2000'])\n",
    "\n",
    "dup_ts = pd.Series(np.arange(5), index = dates)\n",
    "dup_ts"
   ]
  },
  {
   "cell_type": "markdown",
   "id": "inner-maldives",
   "metadata": {},
   "source": [
    " "
   ]
  },
  {
   "cell_type": "markdown",
   "id": "institutional-daisy",
   "metadata": {},
   "source": [
    "> is_unique 속성을 통해 확인해보면 색인이 유일하지 않음을 알 수 있다."
   ]
  },
  {
   "cell_type": "code",
   "execution_count": 8,
   "id": "embedded-triple",
   "metadata": {},
   "outputs": [
    {
     "data": {
      "text/plain": [
       "False"
      ]
     },
     "execution_count": 8,
     "metadata": {},
     "output_type": "execute_result"
    }
   ],
   "source": [
    "dup_ts.index.is_unique"
   ]
  },
  {
   "cell_type": "markdown",
   "id": "treated-disease",
   "metadata": {},
   "source": [
    " "
   ]
  },
  {
   "cell_type": "markdown",
   "id": "naughty-dancing",
   "metadata": {},
   "source": [
    "> 이 시계열 데이터를 인덱싱하면 타임스탬프의 중복 여부에 다라 스칼라값이나 슬라이스가 생성된다."
   ]
  },
  {
   "cell_type": "code",
   "execution_count": 9,
   "id": "royal-agenda",
   "metadata": {},
   "outputs": [
    {
     "data": {
      "text/plain": [
       "4"
      ]
     },
     "execution_count": 9,
     "metadata": {},
     "output_type": "execute_result"
    }
   ],
   "source": [
    "dup_ts['1/3/2000']  # 중복 없음"
   ]
  },
  {
   "cell_type": "code",
   "execution_count": 10,
   "id": "disabled-vector",
   "metadata": {},
   "outputs": [
    {
     "data": {
      "text/plain": [
       "2000-01-02    1\n",
       "2000-01-02    2\n",
       "2000-01-02    3\n",
       "dtype: int32"
      ]
     },
     "execution_count": 10,
     "metadata": {},
     "output_type": "execute_result"
    }
   ],
   "source": [
    "dup_ts['1/2/2000']  # 중복 있음"
   ]
  },
  {
   "cell_type": "markdown",
   "id": "broad-hopkins",
   "metadata": {},
   "source": [
    " "
   ]
  },
  {
   "cell_type": "markdown",
   "id": "recreational-progressive",
   "metadata": {},
   "source": [
    "> 유일하지 않은 타임스탬프를 가지는 데이터를 집계한다고 할 때, 한 가지 방법은 groupby에 level=0 (단일 단계 인덱싱)을 넘기는 것이다."
   ]
  },
  {
   "cell_type": "code",
   "execution_count": 11,
   "id": "spoken-component",
   "metadata": {},
   "outputs": [
    {
     "data": {
      "text/plain": [
       "2000-01-01    0\n",
       "2000-01-02    2\n",
       "2000-01-03    4\n",
       "dtype: int32"
      ]
     },
     "execution_count": 11,
     "metadata": {},
     "output_type": "execute_result"
    }
   ],
   "source": [
    "grouped = dup_ts.groupby(level = 0)\n",
    "grouped.mean()"
   ]
  },
  {
   "cell_type": "code",
   "execution_count": 12,
   "id": "martial-brunswick",
   "metadata": {},
   "outputs": [
    {
     "data": {
      "text/plain": [
       "2000-01-01    1\n",
       "2000-01-02    3\n",
       "2000-01-03    1\n",
       "dtype: int64"
      ]
     },
     "execution_count": 12,
     "metadata": {},
     "output_type": "execute_result"
    }
   ],
   "source": [
    "grouped.count()"
   ]
  },
  {
   "cell_type": "markdown",
   "id": "brutal-assets",
   "metadata": {},
   "source": [
    " "
   ]
  },
  {
   "cell_type": "markdown",
   "id": "seeing-monte",
   "metadata": {},
   "source": [
    "## 11.3 날짜 범위, 빈도, 이동"
   ]
  },
  {
   "cell_type": "markdown",
   "id": "exotic-eating",
   "metadata": {},
   "source": [
    "- pandas에서 일반적인 시계열은 불규칙적인 것으로 간주된다. 즉, 고정된 빈도를 갖지 않는다.\n",
    "- 하지만 시계열 안에서 누락된 값이 발생할지라도 일별, 월별 혹은 매 15분 같은 상대적인 고정 빈도에서의 작업이 요구되는 경우가 종종 있다.\n",
    "    - pandas에는 리샘플링, 표준 시계열 빈도 모음, 빈도 추론 그리고 고정된 빈도의 날짜 범위를 위한 도구가 있다."
   ]
  },
  {
   "cell_type": "markdown",
   "id": "accompanied-appreciation",
   "metadata": {},
   "source": [
    "> 예를 들어, 아래 예제 시계열을 고정된 일 빈도로 변환하려면 resample 메서드를 활용하면 된다.  \n",
    "> 빈도 간 변환이나 `리샘플링`은 큰 주제이므로 11.6절 '리샘플링과 빈도 변환' 확인.  \n",
    "> 여기서는 기본 빈도와 다중 빈도를 어떻게 사용하는지 살펴보기"
   ]
  },
  {
   "cell_type": "code",
   "execution_count": 15,
   "id": "seasonal-joint",
   "metadata": {},
   "outputs": [
    {
     "data": {
      "text/plain": [
       "2011-01-02    1.466517\n",
       "2011-01-05   -0.022566\n",
       "2011-01-07    0.461421\n",
       "2011-01-08    0.555314\n",
       "2011-01-10    0.178169\n",
       "2011-01-12   -1.077623\n",
       "dtype: float64"
      ]
     },
     "execution_count": 15,
     "metadata": {},
     "output_type": "execute_result"
    }
   ],
   "source": [
    "ts"
   ]
  },
  {
   "cell_type": "code",
   "execution_count": 18,
   "id": "liable-geography",
   "metadata": {},
   "outputs": [],
   "source": [
    "resampler = ts.resample('D')  # 문자열 'D'는 일 빈도로 해석된다."
   ]
  },
  {
   "cell_type": "markdown",
   "id": "hired-population",
   "metadata": {},
   "source": [
    " "
   ]
  },
  {
   "cell_type": "markdown",
   "id": "fewer-particle",
   "metadata": {},
   "source": [
    "### 11.3.1 날짜 범위 생성하기"
   ]
  },
  {
   "cell_type": "markdown",
   "id": "elegant-seeker",
   "metadata": {},
   "source": [
    "> 기본적으로 date_range는 일별 타임스탬프를 생성한다."
   ]
  },
  {
   "cell_type": "code",
   "execution_count": 20,
   "id": "representative-conclusion",
   "metadata": {},
   "outputs": [
    {
     "data": {
      "text/plain": [
       "DatetimeIndex(['2012-04-01', '2012-04-02', '2012-04-03', '2012-04-04',\n",
       "               '2012-04-05', '2012-04-06', '2012-04-07', '2012-04-08',\n",
       "               '2012-04-09', '2012-04-10', '2012-04-11', '2012-04-12',\n",
       "               '2012-04-13', '2012-04-14', '2012-04-15', '2012-04-16',\n",
       "               '2012-04-17', '2012-04-18', '2012-04-19', '2012-04-20',\n",
       "               '2012-04-21', '2012-04-22', '2012-04-23', '2012-04-24',\n",
       "               '2012-04-25', '2012-04-26', '2012-04-27', '2012-04-28',\n",
       "               '2012-04-29', '2012-04-30', '2012-05-01', '2012-05-02',\n",
       "               '2012-05-03', '2012-05-04', '2012-05-05', '2012-05-06',\n",
       "               '2012-05-07', '2012-05-08', '2012-05-09', '2012-05-10',\n",
       "               '2012-05-11', '2012-05-12', '2012-05-13', '2012-05-14',\n",
       "               '2012-05-15', '2012-05-16', '2012-05-17', '2012-05-18',\n",
       "               '2012-05-19', '2012-05-20', '2012-05-21', '2012-05-22',\n",
       "               '2012-05-23', '2012-05-24', '2012-05-25', '2012-05-26',\n",
       "               '2012-05-27', '2012-05-28', '2012-05-29', '2012-05-30',\n",
       "               '2012-05-31', '2012-06-01'],\n",
       "              dtype='datetime64[ns]', freq='D')"
      ]
     },
     "execution_count": 20,
     "metadata": {},
     "output_type": "execute_result"
    }
   ],
   "source": [
    "index = pd.date_range('2012-04-01', '2012-06-01')\n",
    "index"
   ]
  },
  {
   "cell_type": "markdown",
   "id": "amended-suggestion",
   "metadata": {},
   "source": [
    " "
   ]
  },
  {
   "cell_type": "markdown",
   "id": "competitive-marathon",
   "metadata": {},
   "source": [
    ">  만약 시작 날짜나 종료 날짜만 넘긴다면 생성할 기간의 숫자를 함께 전달해야 한다."
   ]
  },
  {
   "cell_type": "code",
   "execution_count": 21,
   "id": "personal-thomson",
   "metadata": {},
   "outputs": [
    {
     "data": {
      "text/plain": [
       "DatetimeIndex(['2012-04-01', '2012-04-02', '2012-04-03', '2012-04-04',\n",
       "               '2012-04-05', '2012-04-06', '2012-04-07', '2012-04-08',\n",
       "               '2012-04-09', '2012-04-10', '2012-04-11', '2012-04-12',\n",
       "               '2012-04-13', '2012-04-14', '2012-04-15', '2012-04-16',\n",
       "               '2012-04-17', '2012-04-18', '2012-04-19', '2012-04-20'],\n",
       "              dtype='datetime64[ns]', freq='D')"
      ]
     },
     "execution_count": 21,
     "metadata": {},
     "output_type": "execute_result"
    }
   ],
   "source": [
    "pd.date_range(start = '2012-04-01', periods = 20)"
   ]
  },
  {
   "cell_type": "code",
   "execution_count": 22,
   "id": "broken-demographic",
   "metadata": {},
   "outputs": [
    {
     "data": {
      "text/plain": [
       "DatetimeIndex(['2012-05-13', '2012-05-14', '2012-05-15', '2012-05-16',\n",
       "               '2012-05-17', '2012-05-18', '2012-05-19', '2012-05-20',\n",
       "               '2012-05-21', '2012-05-22', '2012-05-23', '2012-05-24',\n",
       "               '2012-05-25', '2012-05-26', '2012-05-27', '2012-05-28',\n",
       "               '2012-05-29', '2012-05-30', '2012-05-31', '2012-06-01'],\n",
       "              dtype='datetime64[ns]', freq='D')"
      ]
     },
     "execution_count": 22,
     "metadata": {},
     "output_type": "execute_result"
    }
   ],
   "source": [
    "pd.date_range(end = '2012-06-01', periods = 20)"
   ]
  },
  {
   "cell_type": "markdown",
   "id": "violent-aging",
   "metadata": {},
   "source": [
    " "
   ]
  },
  {
   "cell_type": "markdown",
   "id": "industrial-performer",
   "metadata": {},
   "source": [
    "> 시작과 종료 날짜는 생성된 날짜 색인에 대해 엄격한 경계를 정의한다.  \n",
    "> 예를 들어 날짜 색인이 각 월의 마지막 영업일을 포함하도록 하고 싶다면 빈도값으로 'BM' (월 영업마감일)을 전달할 것이다.  \n",
    "> 그러면 이 기간 안에 들어오는 날짜들만 포함된다."
   ]
  },
  {
   "cell_type": "code",
   "execution_count": 23,
   "id": "acceptable-impression",
   "metadata": {},
   "outputs": [
    {
     "data": {
      "text/plain": [
       "DatetimeIndex(['2000-01-31', '2000-02-29', '2000-03-31', '2000-04-28',\n",
       "               '2000-05-31', '2000-06-30', '2000-07-31', '2000-08-31',\n",
       "               '2000-09-29', '2000-10-31', '2000-11-30'],\n",
       "              dtype='datetime64[ns]', freq='BM')"
      ]
     },
     "execution_count": 23,
     "metadata": {},
     "output_type": "execute_result"
    }
   ],
   "source": [
    "pd.date_range(\"2000-01-01\", '2000-12-01', freq = 'BM')"
   ]
  },
  {
   "cell_type": "markdown",
   "id": "serial-photograph",
   "metadata": {},
   "source": [
    " "
   ]
  },
  {
   "cell_type": "markdown",
   "id": "comprehensive-husband",
   "metadata": {},
   "source": [
    " "
   ]
  },
  {
   "cell_type": "markdown",
   "id": "spectacular-melbourne",
   "metadata": {},
   "source": [
    "#### 기본 시계열 빈도\n",
    "\n",
    "<details>\n",
    "<summary>기본 시계열 빈도</summary>\n",
    "<div markdown=\"1\">\n",
    "\n",
    "|축약|오프셋 종류|설명|\n",
    "|:--|:--|:--|\n",
    "|D|Day|달력상의 일|\n",
    "|B|BusinessDay|매 영업일|\n",
    "|H|Hour|매시|\n",
    "|T 또는 min|Minute|매분|\n",
    "|S|Second|매초|\n",
    "|L 또는 ms|Milli|밀리초(1/1000초)|\n",
    "|U|Micro|마이크로초(1/1,000,000초)|\n",
    "|M|MonthEnd|월 마지막 일|\n",
    "|BM|BusinessMonthEnd|월 영업마감일|\n",
    "|MS|MonthBegin|월 시작일|\n",
    "|BMS|BusinessMonthBegin|월 영업시작일|\n",
    "|W-MON, W-TUE, ...|Week|요일. MON, TUE, WED, THU, FRI, SAT, SUN|\n",
    "|WOM-1MON, WOM-2MON, ...|WeekOfMonth|월별 주차와 요일. 예를 들어 WOM-3FRI는 매월 3째주 금요일이다.|\n",
    "|Q-JAN, Q-FEB, ...|QuarterEnd|지정된 월을 해당년도의 마감으로 하며 지정된 월의 마지막 날짜를 가리키는 분기 주기(JAN, FEB, MAR, APR, MAY, JUN, JUL, AUG, SEP, OCT, NOV, DEC)|\n",
    "|BQ-JAN, BQ-FEB, ...|BusinessQuarterEnd|지정된 월을 해당년도의 마감으로 하며 지정된 월의 마지막 영업일을 가리키는 분기 주기|\n",
    "|QS-JAN, QS-FEB, ...|QuarterBegin|지정된 월을 해당년도의 마감으로 하며 지정된 월의 첫째 날을 가리키는 분기 주기|\n",
    "|BQS-JAN, BQS-FEB, ...|BusinessQuarterBegin|지정된 월을 해당년도의 마감으로 하며 지정된 월의 첫 번째 영업일을 가리키는 분기 주기|\n",
    "|A-JAN, A-FEB, ...|YearEnd|주어진 월의 마지막 일을 가리키는 연간 주기(JAN, FEB, MAR, APR, MAY, JUN, JUL, AUG, SEP, OCT, NOV, DEC)|\n",
    "|BA-JAN, BA-FEB, ...|BusinessYearEnd|주어진 월의 영업 마감일을 가리키는 연간 주기|\n",
    "|AS-JAN, AS-FEB, ...|YearBegin|주어진 월의 시작일을 가리키는 연간 주기|\n",
    "|BAS-JAN, BAS-FEB, ...|BusinessYearBegin|주어진 월의 영업 시작일을 가리키는 연간 주기|\n",
    "   \n",
    "</div>\n",
    "</details>"
   ]
  },
  {
   "cell_type": "markdown",
   "id": "hairy-disney",
   "metadata": {},
   "source": [
    " "
   ]
  },
  {
   "cell_type": "markdown",
   "id": "criminal-corner",
   "metadata": {},
   "source": [
    "> date_range는 기본적으로 시작 시간이나 종료 시간의 타임스탬프(존재한다면)를 보존한다."
   ]
  },
  {
   "cell_type": "code",
   "execution_count": 25,
   "id": "minimal-marks",
   "metadata": {},
   "outputs": [
    {
     "data": {
      "text/plain": [
       "DatetimeIndex(['2012-05-02 12:56:31', '2012-05-03 12:56:31',\n",
       "               '2012-05-04 12:56:31', '2012-05-05 12:56:31',\n",
       "               '2012-05-06 12:56:31'],\n",
       "              dtype='datetime64[ns]', freq='D')"
      ]
     },
     "execution_count": 25,
     "metadata": {},
     "output_type": "execute_result"
    }
   ],
   "source": [
    "pd.date_range('2012-05-02 12:56:31', periods = 5)"
   ]
  },
  {
   "cell_type": "markdown",
   "id": "green-drunk",
   "metadata": {},
   "source": [
    " "
   ]
  },
  {
   "cell_type": "markdown",
   "id": "prospective-processing",
   "metadata": {},
   "source": [
    "> 가끔은 시간 정보를 포함하여 시작 날짜와 종료 날짜를 갖고 있으나 관례에 따라 자정에 맞추어 타임스탬프를 `정규화`하고 싶을 때 normalize 옵션을 사용한다."
   ]
  },
  {
   "cell_type": "code",
   "execution_count": 26,
   "id": "inclusive-seventh",
   "metadata": {},
   "outputs": [
    {
     "data": {
      "text/plain": [
       "DatetimeIndex(['2012-05-02', '2012-05-03', '2012-05-04', '2012-05-05',\n",
       "               '2012-05-06'],\n",
       "              dtype='datetime64[ns]', freq='D')"
      ]
     },
     "execution_count": 26,
     "metadata": {},
     "output_type": "execute_result"
    }
   ],
   "source": [
    "pd.date_range('2012-05-02 12:56:31', periods = 5, normalize = True)"
   ]
  },
  {
   "cell_type": "markdown",
   "id": "active-cradle",
   "metadata": {},
   "source": [
    " "
   ]
  },
  {
   "cell_type": "markdown",
   "id": "fixed-house",
   "metadata": {},
   "source": [
    "### 11.3.2 빈도와 날짜 오프셋"
   ]
  },
  {
   "cell_type": "markdown",
   "id": "military-rider",
   "metadata": {},
   "source": [
    "- pandas에서 빈도는 `기본 빈도`와 `배수의 조합`으로 이루어진다.  \n",
    "- 기본 빈도는 보통 'M' (월별), 'H' (시간별)처럼 짧은 문자열로 참조된다.\n",
    "- 각 기본 빈도에는 일반적으로 `날짜 오프셋`(date offset)이라고 불리는 객체를 사용할 수 있다."
   ]
  },
  {
   "cell_type": "markdown",
   "id": "horizontal-massage",
   "metadata": {},
   "source": [
    "> 예를 들어 시간별 빈도는 Hour 클래스를 사용해서 표현할 수 있다."
   ]
  },
  {
   "cell_type": "code",
   "execution_count": 27,
   "id": "aquatic-intake",
   "metadata": {},
   "outputs": [],
   "source": [
    "from pandas.tseries.offsets import Hour, Minute"
   ]
  },
  {
   "cell_type": "code",
   "execution_count": 30,
   "id": "alive-julian",
   "metadata": {},
   "outputs": [
    {
     "data": {
      "text/plain": [
       "<Hour>"
      ]
     },
     "execution_count": 30,
     "metadata": {},
     "output_type": "execute_result"
    }
   ],
   "source": [
    "hour = Hour()\n",
    "hour"
   ]
  },
  {
   "cell_type": "markdown",
   "id": "satisfactory-directory",
   "metadata": {},
   "source": [
    "> 이 오프셋의 곱은 정수를 넘겨서 구할 수 있다."
   ]
  },
  {
   "cell_type": "code",
   "execution_count": 32,
   "id": "heavy-furniture",
   "metadata": {},
   "outputs": [
    {
     "data": {
      "text/plain": [
       "<4 * Hours>"
      ]
     },
     "execution_count": 32,
     "metadata": {},
     "output_type": "execute_result"
    }
   ],
   "source": [
    "four_hours = Hour(4)\n",
    "four_hours"
   ]
  },
  {
   "cell_type": "code",
   "execution_count": 34,
   "id": "satisfied-table",
   "metadata": {},
   "outputs": [
    {
     "data": {
      "text/plain": [
       "DatetimeIndex(['2000-01-01 00:00:00', '2000-01-01 04:00:00',\n",
       "               '2000-01-01 08:00:00', '2000-01-01 12:00:00',\n",
       "               '2000-01-01 16:00:00', '2000-01-01 20:00:00',\n",
       "               '2000-01-02 00:00:00', '2000-01-02 04:00:00',\n",
       "               '2000-01-02 08:00:00', '2000-01-02 12:00:00',\n",
       "               '2000-01-02 16:00:00', '2000-01-02 20:00:00',\n",
       "               '2000-01-03 00:00:00', '2000-01-03 04:00:00',\n",
       "               '2000-01-03 08:00:00', '2000-01-03 12:00:00',\n",
       "               '2000-01-03 16:00:00', '2000-01-03 20:00:00'],\n",
       "              dtype='datetime64[ns]', freq='4H')"
      ]
     },
     "execution_count": 34,
     "metadata": {},
     "output_type": "execute_result"
    }
   ],
   "source": [
    "pd.date_range('2000-01-01', '2000-01-03 23:59', freq = four_hours)"
   ]
  },
  {
   "cell_type": "markdown",
   "id": "alternative-imagination",
   "metadata": {},
   "source": [
    " "
   ]
  },
  {
   "cell_type": "markdown",
   "id": "adapted-crime",
   "metadata": {},
   "source": [
    "> 또는 '4H'처럼 문자열로 표현할 수 도 있다. 기본 빈도 앞에 정수를 두면 해당 빈도의 곱을 생성한다."
   ]
  },
  {
   "cell_type": "code",
   "execution_count": 35,
   "id": "simple-evening",
   "metadata": {},
   "outputs": [
    {
     "data": {
      "text/plain": [
       "DatetimeIndex(['2000-01-01 00:00:00', '2000-01-01 04:00:00',\n",
       "               '2000-01-01 08:00:00', '2000-01-01 12:00:00',\n",
       "               '2000-01-01 16:00:00', '2000-01-01 20:00:00',\n",
       "               '2000-01-02 00:00:00', '2000-01-02 04:00:00',\n",
       "               '2000-01-02 08:00:00', '2000-01-02 12:00:00',\n",
       "               '2000-01-02 16:00:00', '2000-01-02 20:00:00',\n",
       "               '2000-01-03 00:00:00', '2000-01-03 04:00:00',\n",
       "               '2000-01-03 08:00:00', '2000-01-03 12:00:00',\n",
       "               '2000-01-03 16:00:00', '2000-01-03 20:00:00'],\n",
       "              dtype='datetime64[ns]', freq='4H')"
      ]
     },
     "execution_count": 35,
     "metadata": {},
     "output_type": "execute_result"
    }
   ],
   "source": [
    "pd.date_range('2000-01-01', '2000-01-03 23:59', freq = '4H')"
   ]
  },
  {
   "cell_type": "markdown",
   "id": "approximate-slovak",
   "metadata": {},
   "source": [
    " "
   ]
  },
  {
   "cell_type": "markdown",
   "id": "unable-pottery",
   "metadata": {},
   "source": [
    "> 여러 오프셋을 덧셈으로 합칠 수 있다."
   ]
  },
  {
   "cell_type": "code",
   "execution_count": 36,
   "id": "drawn-approval",
   "metadata": {},
   "outputs": [
    {
     "data": {
      "text/plain": [
       "<150 * Minutes>"
      ]
     },
     "execution_count": 36,
     "metadata": {},
     "output_type": "execute_result"
    }
   ],
   "source": [
    "Hour(2) + Minute(30)"
   ]
  },
  {
   "cell_type": "code",
   "execution_count": 37,
   "id": "spatial-malpractice",
   "metadata": {},
   "outputs": [
    {
     "data": {
      "text/plain": [
       "DatetimeIndex(['2000-01-01 00:00:00', '2000-01-01 02:30:00',\n",
       "               '2000-01-01 05:00:00', '2000-01-01 07:30:00',\n",
       "               '2000-01-01 10:00:00', '2000-01-01 12:30:00',\n",
       "               '2000-01-01 15:00:00', '2000-01-01 17:30:00',\n",
       "               '2000-01-01 20:00:00', '2000-01-01 22:30:00'],\n",
       "              dtype='datetime64[ns]', freq='150T')"
      ]
     },
     "execution_count": 37,
     "metadata": {},
     "output_type": "execute_result"
    }
   ],
   "source": [
    "pd.date_range('2000-01-01','2000-01-02', freq = Hour(2) + Minute(30))"
   ]
  },
  {
   "cell_type": "markdown",
   "id": "forward-flight",
   "metadata": {},
   "source": [
    " "
   ]
  },
  {
   "cell_type": "markdown",
   "id": "incomplete-green",
   "metadata": {},
   "source": [
    "> 유사하게 빈도 문자열로 '1h30min'을 넘겨도 같은 표현으로 잘 해석된다."
   ]
  },
  {
   "cell_type": "code",
   "execution_count": 38,
   "id": "worse-bookmark",
   "metadata": {},
   "outputs": [
    {
     "data": {
      "text/plain": [
       "DatetimeIndex(['2000-01-01 00:00:00', '2000-01-01 01:30:00',\n",
       "               '2000-01-01 03:00:00', '2000-01-01 04:30:00',\n",
       "               '2000-01-01 06:00:00', '2000-01-01 07:30:00',\n",
       "               '2000-01-01 09:00:00', '2000-01-01 10:30:00',\n",
       "               '2000-01-01 12:00:00', '2000-01-01 13:30:00'],\n",
       "              dtype='datetime64[ns]', freq='90T')"
      ]
     },
     "execution_count": 38,
     "metadata": {},
     "output_type": "execute_result"
    }
   ],
   "source": [
    "pd.date_range('2000-01-01', periods = 10, freq = '1h30min')"
   ]
  },
  {
   "cell_type": "markdown",
   "id": "english-benefit",
   "metadata": {},
   "source": [
    " "
   ]
  },
  {
   "cell_type": "markdown",
   "id": "checked-tournament",
   "metadata": {},
   "source": [
    "> 어떤 빈도는 시간상에서 균일하게 자리 잡고 있지 않은 경우도 있다.  \n",
    "> 예를 들어 'M' (월 마지막 일)은 월중 일수에 의존적이며 'BM' (월 영업마감일)은 월말이 주말인지 아닌지에 따라 다르다.  \n",
    "> 이를 표현할 수 있는 적당한 용어가 없어서 저자는 앵커드(anchored) 오프셋이라 부른다."
   ]
  },
  {
   "cell_type": "markdown",
   "id": "diverse-eligibility",
   "metadata": {},
   "source": [
    " "
   ]
  },
  {
   "cell_type": "markdown",
   "id": "saving-reward",
   "metadata": {},
   "source": [
    "#### 월별 주차\n",
    "- 한 가지 유용한 빈도 클래스는 WOM으로 시작하는 '월별 주차'다. 월별 주차를 사용하면 매월 3째주 금요일 같은 날짜를 얻을 수 있다."
   ]
  },
  {
   "cell_type": "code",
   "execution_count": 40,
   "id": "employed-marine",
   "metadata": {},
   "outputs": [
    {
     "data": {
      "text/plain": [
       "DatetimeIndex(['2012-01-20', '2012-02-17', '2012-03-16', '2012-04-20',\n",
       "               '2012-05-18', '2012-06-15', '2012-07-20', '2012-08-17'],\n",
       "              dtype='datetime64[ns]', freq='WOM-3FRI')"
      ]
     },
     "execution_count": 40,
     "metadata": {},
     "output_type": "execute_result"
    }
   ],
   "source": [
    "rng = pd.date_range('2012-01-01', '2012-09-01', freq = 'WOM-3FRI')\n",
    "rng"
   ]
  },
  {
   "cell_type": "markdown",
   "id": "intended-paste",
   "metadata": {},
   "source": [
    " "
   ]
  },
  {
   "cell_type": "markdown",
   "id": "infinite-moldova",
   "metadata": {},
   "source": [
    "### 11.3.3 데이터 시프트"
   ]
  },
  {
   "cell_type": "markdown",
   "id": "virtual-vintage",
   "metadata": {},
   "source": [
    "- 시프트는 데이터를 시간 축에서 앞이나 뒤로 이동하는 것을 의미한다.  \n",
    "- Series와 DataFrame은 색인은 변경하지 않고 데이터를 앞이나 뒤로 느슨한 시피트를 수행하는 shift 메서드를 가지고 있다."
   ]
  },
  {
   "cell_type": "code",
   "execution_count": 42,
   "id": "eight-endorsement",
   "metadata": {},
   "outputs": [
    {
     "data": {
      "text/plain": [
       "2000-01-31   -2.246225\n",
       "2000-02-29    0.510343\n",
       "2000-03-31   -0.577378\n",
       "2000-04-30   -0.686738\n",
       "Freq: M, dtype: float64"
      ]
     },
     "execution_count": 42,
     "metadata": {},
     "output_type": "execute_result"
    }
   ],
   "source": [
    "ts = pd.Series(np.random.randn(4),\n",
    "               index = pd.date_range('1/1/2000', periods = 4, freq = 'M'))\n",
    "ts"
   ]
  },
  {
   "cell_type": "code",
   "execution_count": 43,
   "id": "dying-crowd",
   "metadata": {},
   "outputs": [
    {
     "data": {
      "text/plain": [
       "2000-01-31         NaN\n",
       "2000-02-29         NaN\n",
       "2000-03-31   -2.246225\n",
       "2000-04-30    0.510343\n",
       "Freq: M, dtype: float64"
      ]
     },
     "execution_count": 43,
     "metadata": {},
     "output_type": "execute_result"
    }
   ],
   "source": [
    "ts.shift(2)"
   ]
  },
  {
   "cell_type": "code",
   "execution_count": 44,
   "id": "alleged-trouble",
   "metadata": {},
   "outputs": [
    {
     "data": {
      "text/plain": [
       "2000-01-31   -0.577378\n",
       "2000-02-29   -0.686738\n",
       "2000-03-31         NaN\n",
       "2000-04-30         NaN\n",
       "Freq: M, dtype: float64"
      ]
     },
     "execution_count": 44,
     "metadata": {},
     "output_type": "execute_result"
    }
   ],
   "source": [
    "ts.shift(-2)"
   ]
  },
  {
   "cell_type": "markdown",
   "id": "corresponding-helmet",
   "metadata": {},
   "source": [
    " "
   ]
  },
  {
   "cell_type": "markdown",
   "id": "introductory-merchandise",
   "metadata": {},
   "source": [
    "> 이렇게 시프트를 하게 되면 시계열의 시작이나 끝에 결측치가 발생하게 된다.  \n",
    "> 느슨한 시프트는 색인을 바꾸지 않기 때문에 어떤 데이터는 버려지기도 한다.  \n",
    "> 그래서 만약 빈도를 알고 있다면 shift에 빈도를 넘겨서 타임스탬프가 확장되도록 할 수 있다."
   ]
  },
  {
   "cell_type": "code",
   "execution_count": 45,
   "id": "removed-florida",
   "metadata": {},
   "outputs": [
    {
     "data": {
      "text/plain": [
       "2000-03-31   -2.246225\n",
       "2000-04-30    0.510343\n",
       "2000-05-31   -0.577378\n",
       "2000-06-30   -0.686738\n",
       "Freq: M, dtype: float64"
      ]
     },
     "execution_count": 45,
     "metadata": {},
     "output_type": "execute_result"
    }
   ],
   "source": [
    "ts.shift(2, freq = 'M')"
   ]
  },
  {
   "cell_type": "markdown",
   "id": "disabled-prisoner",
   "metadata": {},
   "source": [
    "  "
   ]
  },
  {
   "cell_type": "markdown",
   "id": "geographic-delivery",
   "metadata": {},
   "source": [
    "> 다른 빈도를 넘겨도 되는데, 이를 통해 아주 유연하게 데이터를 밀거나 당기는 작업을 할 수 있다."
   ]
  },
  {
   "cell_type": "code",
   "execution_count": 46,
   "id": "sacred-democracy",
   "metadata": {},
   "outputs": [
    {
     "data": {
      "text/plain": [
       "2000-02-03   -2.246225\n",
       "2000-03-03    0.510343\n",
       "2000-04-03   -0.577378\n",
       "2000-05-03   -0.686738\n",
       "dtype: float64"
      ]
     },
     "execution_count": 46,
     "metadata": {},
     "output_type": "execute_result"
    }
   ],
   "source": [
    "ts.shift(3, freq = 'D')"
   ]
  },
  {
   "cell_type": "code",
   "execution_count": 47,
   "id": "governmental-desperate",
   "metadata": {},
   "outputs": [
    {
     "data": {
      "text/plain": [
       "2000-01-31 01:30:00   -2.246225\n",
       "2000-02-29 01:30:00    0.510343\n",
       "2000-03-31 01:30:00   -0.577378\n",
       "2000-04-30 01:30:00   -0.686738\n",
       "dtype: float64"
      ]
     },
     "execution_count": 47,
     "metadata": {},
     "output_type": "execute_result"
    }
   ],
   "source": [
    "ts.shift(1, freq = '90T')"
   ]
  },
  {
   "cell_type": "markdown",
   "id": "sitting-bruce",
   "metadata": {},
   "source": [
    " "
   ]
  },
  {
   "cell_type": "markdown",
   "id": "hydraulic-celtic",
   "metadata": {},
   "source": [
    "> shift는 일반적으로 한 시계열 내에서, 혹은 DataFrame의 컬럼으로 표현할 수 있는 여러 시계열에서의 퍼센트 변화를 계산할 때 흔히 사용된다. 코드는 아래와 같다\n",
    "\n",
    "```python\n",
    "ts/ts.shift(1) - 1\n",
    "```\n"
   ]
  },
  {
   "cell_type": "markdown",
   "id": "exclusive-voltage",
   "metadata": {},
   "source": [
    " "
   ]
  },
  {
   "cell_type": "markdown",
   "id": "responsible-choir",
   "metadata": {},
   "source": [
    "#### 오프셋만큼 날짜 시프트하기"
   ]
  },
  {
   "cell_type": "markdown",
   "id": "mighty-couple",
   "metadata": {},
   "source": [
    "> pandas의 날짜 오프셋은 datetime이나 Timestamp 객체에서도 사용할 수 있다."
   ]
  },
  {
   "cell_type": "code",
   "execution_count": 48,
   "id": "political-excerpt",
   "metadata": {},
   "outputs": [],
   "source": [
    "from pandas.tseries.offsets import Day, MonthEnd"
   ]
  },
  {
   "cell_type": "code",
   "execution_count": 49,
   "id": "honest-edward",
   "metadata": {},
   "outputs": [
    {
     "data": {
      "text/plain": [
       "Timestamp('2011-11-20 00:00:00')"
      ]
     },
     "execution_count": 49,
     "metadata": {},
     "output_type": "execute_result"
    }
   ],
   "source": [
    "now = datetime(2011,11,17)\n",
    "now + 3*Day()"
   ]
  },
  {
   "cell_type": "markdown",
   "id": "arctic-ceremony",
   "metadata": {},
   "source": [
    " "
   ]
  },
  {
   "cell_type": "markdown",
   "id": "disabled-blame",
   "metadata": {},
   "source": [
    "> 만일 MonthEnd 같은 앵커드 오프셋을 추가한다면 빈도 규칙의 다음 날짜로 롤 포워드(roll forward)된다."
   ]
  },
  {
   "cell_type": "code",
   "execution_count": 50,
   "id": "focused-heating",
   "metadata": {},
   "outputs": [
    {
     "data": {
      "text/plain": [
       "Timestamp('2011-11-30 00:00:00')"
      ]
     },
     "execution_count": 50,
     "metadata": {},
     "output_type": "execute_result"
    }
   ],
   "source": [
    "now + MonthEnd()"
   ]
  },
  {
   "cell_type": "code",
   "execution_count": 51,
   "id": "conceptual-knife",
   "metadata": {},
   "outputs": [
    {
     "data": {
      "text/plain": [
       "Timestamp('2011-12-31 00:00:00')"
      ]
     },
     "execution_count": 51,
     "metadata": {},
     "output_type": "execute_result"
    }
   ],
   "source": [
    "now + MonthEnd(2)"
   ]
  },
  {
   "cell_type": "markdown",
   "id": "skilled-times",
   "metadata": {},
   "source": [
    " "
   ]
  },
  {
   "cell_type": "markdown",
   "id": "polyphonic-precipitation",
   "metadata": {},
   "source": [
    "> 앵커드 오프셋은 rollforward와 rollback 메서드를 사용해서 명시적으로 각각 날짜를 앞으로 밀거나 뒤로 당길 수 있다."
   ]
  },
  {
   "cell_type": "code",
   "execution_count": 52,
   "id": "golden-forwarding",
   "metadata": {},
   "outputs": [
    {
     "data": {
      "text/plain": [
       "Timestamp('2011-11-30 00:00:00')"
      ]
     },
     "execution_count": 52,
     "metadata": {},
     "output_type": "execute_result"
    }
   ],
   "source": [
    "offset = MonthEnd()\n",
    "\n",
    "offset.rollforward(now)"
   ]
  },
  {
   "cell_type": "code",
   "execution_count": 53,
   "id": "activated-muslim",
   "metadata": {},
   "outputs": [
    {
     "data": {
      "text/plain": [
       "Timestamp('2011-10-31 00:00:00')"
      ]
     },
     "execution_count": 53,
     "metadata": {},
     "output_type": "execute_result"
    }
   ],
   "source": [
    "offset.rollback(now)"
   ]
  },
  {
   "cell_type": "markdown",
   "id": "celtic-ottawa",
   "metadata": {},
   "source": [
    " "
   ]
  },
  {
   "cell_type": "markdown",
   "id": "eleven-allah",
   "metadata": {},
   "source": [
    "> 이 메서드를 groupby와 함께 사용하면 날짜 오프셋을 영리하게 사용할 수 있다."
   ]
  },
  {
   "cell_type": "code",
   "execution_count": 55,
   "id": "spectacular-external",
   "metadata": {},
   "outputs": [
    {
     "data": {
      "text/plain": [
       "2000-01-15    1.005632\n",
       "2000-01-19    0.189992\n",
       "2000-01-23    0.101208\n",
       "2000-01-27    0.376477\n",
       "2000-01-31    1.598759\n",
       "2000-02-04    1.211136\n",
       "2000-02-08   -0.973163\n",
       "2000-02-12   -0.961817\n",
       "2000-02-16    0.835879\n",
       "2000-02-20   -0.254801\n",
       "2000-02-24   -0.026768\n",
       "2000-02-28   -0.448716\n",
       "2000-03-03   -0.869599\n",
       "2000-03-07   -0.159461\n",
       "2000-03-11   -1.594881\n",
       "2000-03-15    0.605714\n",
       "2000-03-19    1.463431\n",
       "2000-03-23   -0.196428\n",
       "2000-03-27    0.723217\n",
       "2000-03-31    0.710456\n",
       "Freq: 4D, dtype: float64"
      ]
     },
     "execution_count": 55,
     "metadata": {},
     "output_type": "execute_result"
    }
   ],
   "source": [
    "ts = pd.Series(np.random.randn(20), \n",
    "               index = pd.date_range('1/15/2000', periods = 20, freq = '4d'))\n",
    "ts"
   ]
  },
  {
   "cell_type": "code",
   "execution_count": 56,
   "id": "divine-mandate",
   "metadata": {},
   "outputs": [
    {
     "data": {
      "text/plain": [
       "2000-01-31    0.654413\n",
       "2000-02-29   -0.088321\n",
       "2000-03-31    0.085306\n",
       "dtype: float64"
      ]
     },
     "execution_count": 56,
     "metadata": {},
     "output_type": "execute_result"
    }
   ],
   "source": [
    "ts.groupby(offset.rollforward).mean()"
   ]
  },
  {
   "cell_type": "markdown",
   "id": "verified-india",
   "metadata": {},
   "source": [
    " "
   ]
  },
  {
   "cell_type": "markdown",
   "id": "fancy-column",
   "metadata": {},
   "source": [
    "> 물론 가장 쉽고 빠른 방법은 resample을 사용하는 것이다."
   ]
  },
  {
   "cell_type": "code",
   "execution_count": 58,
   "id": "diverse-locator",
   "metadata": {},
   "outputs": [
    {
     "data": {
      "text/plain": [
       "2000-01-31    0.654413\n",
       "2000-02-29   -0.088321\n",
       "2000-03-31    0.085306\n",
       "Freq: M, dtype: float64"
      ]
     },
     "execution_count": 58,
     "metadata": {},
     "output_type": "execute_result"
    }
   ],
   "source": [
    "ts.resample('M').mean()"
   ]
  },
  {
   "cell_type": "markdown",
   "id": "connected-redhead",
   "metadata": {},
   "source": [
    " "
   ]
  },
  {
   "cell_type": "markdown",
   "id": "isolated-attraction",
   "metadata": {},
   "source": [
    "## 11.4 시간대 다루기"
   ]
  },
  {
   "cell_type": "markdown",
   "id": "passive-income",
   "metadata": {},
   "source": [
    "- 시계열을 다루는 많은 사용자는 현재 국제표준이며 그리니치 표준시를 계승하는 국제표준시 (Coordinated Universal Time, UTC)를 선택한다.\n",
    "- 시간대는 UTC로부터 떨어진 오프셋으로 표현되는데 예를 들면 뉴욕은 일광절약시간 (Daylight Saving Time, DST)일 때 UTC보다 4시간 늦으며 아닐 때는 5시간 늦다.\n",
    "- 파이썬에서 시간대 정보는 전 세계의 시간대 정보를 모아둔 올슨 데이터베이스를 담고 있는 서드파티 라이브러리인 pytz에서 얻어온다.\n",
    "- pandas는 pytz의 기능을 사용하고 있으므로 시간대 이름 외에 API의 다른 부분은 무시해도 상관없다."
   ]
  },
  {
   "cell_type": "code",
   "execution_count": 4,
   "id": "flying-astrology",
   "metadata": {},
   "outputs": [
    {
     "data": {
      "text/plain": [
       "['US/Eastern', 'US/Hawaii', 'US/Mountain', 'US/Pacific', 'UTC']"
      ]
     },
     "execution_count": 4,
     "metadata": {},
     "output_type": "execute_result"
    }
   ],
   "source": [
    "pytz.common_timezones[-5:]"
   ]
  },
  {
   "cell_type": "markdown",
   "id": "representative-smooth",
   "metadata": {},
   "source": [
    " "
   ]
  },
  {
   "cell_type": "markdown",
   "id": "medical-documentation",
   "metadata": {},
   "source": [
    "> pytz에서 시간대 객체를 얻으려면 pytz.timezone을 사용하면 된다.  \n",
    "> pandas의 메서드에서는 시간대 이름이나 객체를 모두 사용할 수 있지만 시간대 이름을 사용하기 권장한다."
   ]
  },
  {
   "cell_type": "code",
   "execution_count": 7,
   "id": "ahead-character",
   "metadata": {},
   "outputs": [
    {
     "data": {
      "text/plain": [
       "<DstTzInfo 'America/New_York' LMT-1 day, 19:04:00 STD>"
      ]
     },
     "execution_count": 7,
     "metadata": {},
     "output_type": "execute_result"
    }
   ],
   "source": [
    "tz = pytz.timezone('America/New_York')\n",
    "tz"
   ]
  },
  {
   "cell_type": "markdown",
   "id": "polar-training",
   "metadata": {},
   "source": [
    " "
   ]
  },
  {
   "cell_type": "markdown",
   "id": "shared-netherlands",
   "metadata": {},
   "source": [
    "### 11.4.1 시간대 지역화와 변환"
   ]
  },
  {
   "cell_type": "markdown",
   "id": "optimum-charter",
   "metadata": {},
   "source": [
    "> 기본적으로 pandas에서 시계열은 시간대를 엄격히 다루지 않는다."
   ]
  },
  {
   "cell_type": "code",
   "execution_count": 9,
   "id": "systematic-melissa",
   "metadata": {},
   "outputs": [
    {
     "data": {
      "text/plain": [
       "2012-03-09 09:30:00   -0.827604\n",
       "2012-03-10 09:30:00    1.550378\n",
       "2012-03-11 09:30:00    0.183820\n",
       "2012-03-12 09:30:00   -0.532628\n",
       "2012-03-13 09:30:00    1.200241\n",
       "2012-03-14 09:30:00    0.627737\n",
       "Freq: D, dtype: float64"
      ]
     },
     "execution_count": 9,
     "metadata": {},
     "output_type": "execute_result"
    }
   ],
   "source": [
    "rng = pd.date_range('3/9/2012 9:30', periods = 6, freq = 'D')\n",
    "ts = pd.Series(np.random.randn(len(rng)), index = rng)\n",
    "ts"
   ]
  },
  {
   "cell_type": "markdown",
   "id": "impaired-speech",
   "metadata": {},
   "source": [
    " "
   ]
  },
  {
   "cell_type": "markdown",
   "id": "suburban-essex",
   "metadata": {},
   "source": [
    "> 색인의 tz필드는 None이다."
   ]
  },
  {
   "cell_type": "code",
   "execution_count": 10,
   "id": "ahead-methodology",
   "metadata": {},
   "outputs": [
    {
     "name": "stdout",
     "output_type": "stream",
     "text": [
      "None\n"
     ]
    }
   ],
   "source": [
    "print(ts.index.tz)"
   ]
  },
  {
   "cell_type": "markdown",
   "id": "thrown-mississippi",
   "metadata": {},
   "source": [
    " "
   ]
  },
  {
   "cell_type": "markdown",
   "id": "endless-movement",
   "metadata": {},
   "source": [
    "> 시간대를 지정해서 날짜 범위를 생성할 수 있다."
   ]
  },
  {
   "cell_type": "code",
   "execution_count": 11,
   "id": "dangerous-dairy",
   "metadata": {},
   "outputs": [
    {
     "data": {
      "text/plain": [
       "DatetimeIndex(['2012-03-09 09:30:00+00:00', '2012-03-10 09:30:00+00:00',\n",
       "               '2012-03-11 09:30:00+00:00', '2012-03-12 09:30:00+00:00',\n",
       "               '2012-03-13 09:30:00+00:00', '2012-03-14 09:30:00+00:00',\n",
       "               '2012-03-15 09:30:00+00:00', '2012-03-16 09:30:00+00:00',\n",
       "               '2012-03-17 09:30:00+00:00', '2012-03-18 09:30:00+00:00'],\n",
       "              dtype='datetime64[ns, UTC]', freq='D')"
      ]
     },
     "execution_count": 11,
     "metadata": {},
     "output_type": "execute_result"
    }
   ],
   "source": [
    "pd.date_range('3/9/2012 9:30', periods = 10, freq = 'D', tz = 'UTC')"
   ]
  },
  {
   "cell_type": "markdown",
   "id": "fancy-watts",
   "metadata": {},
   "source": [
    " "
   ]
  },
  {
   "cell_type": "markdown",
   "id": "italian-atlanta",
   "metadata": {},
   "source": [
    "> `지역화` 시간으로의 변환은 tz_localize 메서드로 처리할 수 있다."
   ]
  },
  {
   "cell_type": "code",
   "execution_count": 12,
   "id": "alike-digest",
   "metadata": {},
   "outputs": [
    {
     "data": {
      "text/plain": [
       "2012-03-09 09:30:00   -0.827604\n",
       "2012-03-10 09:30:00    1.550378\n",
       "2012-03-11 09:30:00    0.183820\n",
       "2012-03-12 09:30:00   -0.532628\n",
       "2012-03-13 09:30:00    1.200241\n",
       "2012-03-14 09:30:00    0.627737\n",
       "Freq: D, dtype: float64"
      ]
     },
     "execution_count": 12,
     "metadata": {},
     "output_type": "execute_result"
    }
   ],
   "source": [
    "ts"
   ]
  },
  {
   "cell_type": "code",
   "execution_count": 14,
   "id": "personalized-paintball",
   "metadata": {},
   "outputs": [
    {
     "data": {
      "text/plain": [
       "2012-03-09 09:30:00+00:00   -0.827604\n",
       "2012-03-10 09:30:00+00:00    1.550378\n",
       "2012-03-11 09:30:00+00:00    0.183820\n",
       "2012-03-12 09:30:00+00:00   -0.532628\n",
       "2012-03-13 09:30:00+00:00    1.200241\n",
       "2012-03-14 09:30:00+00:00    0.627737\n",
       "Freq: D, dtype: float64"
      ]
     },
     "execution_count": 14,
     "metadata": {},
     "output_type": "execute_result"
    }
   ],
   "source": [
    "ts_utc = ts.tz_localize('UTC')\n",
    "ts_utc"
   ]
  },
  {
   "cell_type": "code",
   "execution_count": 16,
   "id": "hourly-summer",
   "metadata": {},
   "outputs": [
    {
     "data": {
      "text/plain": [
       "DatetimeIndex(['2012-03-09 09:30:00+00:00', '2012-03-10 09:30:00+00:00',\n",
       "               '2012-03-11 09:30:00+00:00', '2012-03-12 09:30:00+00:00',\n",
       "               '2012-03-13 09:30:00+00:00', '2012-03-14 09:30:00+00:00'],\n",
       "              dtype='datetime64[ns, UTC]', freq='D')"
      ]
     },
     "execution_count": 16,
     "metadata": {},
     "output_type": "execute_result"
    }
   ],
   "source": [
    "ts_utc.index"
   ]
  },
  {
   "cell_type": "markdown",
   "id": "included-stream",
   "metadata": {},
   "source": [
    " "
   ]
  },
  {
   "cell_type": "markdown",
   "id": "victorian-field",
   "metadata": {},
   "source": [
    "> 시계열이 특정 시간대로 지역화되고 나면 tz_convert를 이용해서 다른 시간대로 변환 가능하다."
   ]
  },
  {
   "cell_type": "code",
   "execution_count": 17,
   "id": "emotional-monitor",
   "metadata": {},
   "outputs": [
    {
     "data": {
      "text/plain": [
       "2012-03-09 04:30:00-05:00   -0.827604\n",
       "2012-03-10 04:30:00-05:00    1.550378\n",
       "2012-03-11 05:30:00-04:00    0.183820\n",
       "2012-03-12 05:30:00-04:00   -0.532628\n",
       "2012-03-13 05:30:00-04:00    1.200241\n",
       "2012-03-14 05:30:00-04:00    0.627737\n",
       "Freq: D, dtype: float64"
      ]
     },
     "execution_count": 17,
     "metadata": {},
     "output_type": "execute_result"
    }
   ],
   "source": [
    "ts_utc.tz_convert('America/New_York')"
   ]
  },
  {
   "cell_type": "markdown",
   "id": "massive-necklace",
   "metadata": {},
   "source": [
    " "
   ]
  },
  {
   "cell_type": "markdown",
   "id": "regulation-rebound",
   "metadata": {},
   "source": [
    "> 위 시계열의 경우에는 America/New_York 시간대에서 일광절약시간을 사용하고 있는데, 동부 표준시 (EST)로 맞춘 다음 UTC 혹은 베를린 시간으로 변환할 수 있다."
   ]
  },
  {
   "cell_type": "code",
   "execution_count": 26,
   "id": "alert-morgan",
   "metadata": {},
   "outputs": [
    {
     "data": {
      "text/plain": [
       "2012-03-09 14:30:00+00:00   -0.827604\n",
       "2012-03-10 14:30:00+00:00    1.550378\n",
       "2012-03-11 13:30:00+00:00    0.183820\n",
       "2012-03-12 13:30:00+00:00   -0.532628\n",
       "2012-03-13 13:30:00+00:00    1.200241\n",
       "2012-03-14 13:30:00+00:00    0.627737\n",
       "dtype: float64"
      ]
     },
     "execution_count": 26,
     "metadata": {},
     "output_type": "execute_result"
    }
   ],
   "source": [
    "ts_eastern = ts.tz_localize('America/New_York')\n",
    "ts_eastern.tz_convert('UTC')"
   ]
  },
  {
   "cell_type": "code",
   "execution_count": 27,
   "id": "statutory-combining",
   "metadata": {},
   "outputs": [
    {
     "data": {
      "text/plain": [
       "2012-03-09 15:30:00+01:00   -0.827604\n",
       "2012-03-10 15:30:00+01:00    1.550378\n",
       "2012-03-11 14:30:00+01:00    0.183820\n",
       "2012-03-12 14:30:00+01:00   -0.532628\n",
       "2012-03-13 14:30:00+01:00    1.200241\n",
       "2012-03-14 14:30:00+01:00    0.627737\n",
       "dtype: float64"
      ]
     },
     "execution_count": 27,
     "metadata": {},
     "output_type": "execute_result"
    }
   ],
   "source": [
    "ts_eastern.tz_convert('Europe/Berlin')"
   ]
  },
  {
   "cell_type": "markdown",
   "id": "identical-perry",
   "metadata": {},
   "source": [
    " "
   ]
  },
  {
   "cell_type": "markdown",
   "id": "attached-situation",
   "metadata": {},
   "source": [
    "> tz_localize와 tz_convert는 모두 DatetimeIndex의 인스턴스 메서드다."
   ]
  },
  {
   "cell_type": "code",
   "execution_count": 28,
   "id": "median-japan",
   "metadata": {},
   "outputs": [
    {
     "data": {
      "text/plain": [
       "DatetimeIndex(['2012-03-09 09:30:00+08:00', '2012-03-10 09:30:00+08:00',\n",
       "               '2012-03-11 09:30:00+08:00', '2012-03-12 09:30:00+08:00',\n",
       "               '2012-03-13 09:30:00+08:00', '2012-03-14 09:30:00+08:00'],\n",
       "              dtype='datetime64[ns, Asia/Shanghai]', freq=None)"
      ]
     },
     "execution_count": 28,
     "metadata": {},
     "output_type": "execute_result"
    }
   ],
   "source": [
    "ts.index.tz_localize('Asia/Shanghai')"
   ]
  },
  {
   "cell_type": "markdown",
   "id": "finnish-salmon",
   "metadata": {},
   "source": [
    " "
   ]
  },
  {
   "cell_type": "markdown",
   "id": "incorporated-correction",
   "metadata": {},
   "source": [
    "> 타임스탬프를 특정 시간대로 지역화하면 일광절약시간에 의한 모호하거나 존재하지 않는 시간을 체크한다."
   ]
  },
  {
   "cell_type": "markdown",
   "id": "alike-reverse",
   "metadata": {},
   "source": [
    " "
   ]
  },
  {
   "cell_type": "markdown",
   "id": "cognitive-prisoner",
   "metadata": {},
   "source": [
    "### 11.4.2 시간대를 고려해서 Timestamp 객체 다루기"
   ]
  },
  {
   "cell_type": "markdown",
   "id": "weekly-school",
   "metadata": {},
   "source": [
    "> 시계열이나 날짜 범위와 비슷하게 개별 Timestamp 객체도 시간대를 고려한 형태로 변환이 가능하다."
   ]
  },
  {
   "cell_type": "code",
   "execution_count": 30,
   "id": "earlier-identifier",
   "metadata": {},
   "outputs": [
    {
     "data": {
      "text/plain": [
       "Timestamp('2011-03-12 04:00:00')"
      ]
     },
     "execution_count": 30,
     "metadata": {},
     "output_type": "execute_result"
    }
   ],
   "source": [
    "stamp = pd.Timestamp('2011-03-12 04:00')\n",
    "stamp"
   ]
  },
  {
   "cell_type": "code",
   "execution_count": 31,
   "id": "found-physiology",
   "metadata": {},
   "outputs": [
    {
     "data": {
      "text/plain": [
       "Timestamp('2011-03-12 04:00:00+0000', tz='UTC')"
      ]
     },
     "execution_count": 31,
     "metadata": {},
     "output_type": "execute_result"
    }
   ],
   "source": [
    "stamp_utc = stamp.tz_localize('utc')\n",
    "stamp_utc"
   ]
  },
  {
   "cell_type": "code",
   "execution_count": 32,
   "id": "crude-complexity",
   "metadata": {},
   "outputs": [
    {
     "data": {
      "text/plain": [
       "Timestamp('2011-03-11 23:00:00-0500', tz='America/New_York')"
      ]
     },
     "execution_count": 32,
     "metadata": {},
     "output_type": "execute_result"
    }
   ],
   "source": [
    "stamp_utc.tz_convert('America/New_York')"
   ]
  },
  {
   "cell_type": "markdown",
   "id": "harmful-narrative",
   "metadata": {},
   "source": [
    " "
   ]
  },
  {
   "cell_type": "markdown",
   "id": "reduced-egypt",
   "metadata": {},
   "source": [
    "> Timestamp 객체를 생성할 때 시간대를 직접 넘겨주는 것도 가능하다."
   ]
  },
  {
   "cell_type": "code",
   "execution_count": 34,
   "id": "typical-beaver",
   "metadata": {},
   "outputs": [
    {
     "data": {
      "text/plain": [
       "Timestamp('2011-03-12 04:00:00+0300', tz='Europe/Moscow')"
      ]
     },
     "execution_count": 34,
     "metadata": {},
     "output_type": "execute_result"
    }
   ],
   "source": [
    "stamp_moscow = pd.Timestamp('2011-03-12 04:00', tz= 'Europe/Moscow')\n",
    "stamp_moscow"
   ]
  },
  {
   "cell_type": "markdown",
   "id": "noted-accreditation",
   "metadata": {},
   "source": [
    " "
   ]
  },
  {
   "cell_type": "markdown",
   "id": "technical-aggregate",
   "metadata": {},
   "source": [
    "> 시간대를 고려한 Timestamp 객체는 내부적으로 UTC 타임스탬프 값을 유닉스 에포크 (Unix epoch; 1970년 1월 1일)부터 현재까지의 나노초로 저장하고 있다. 이 UTC 값은 시간대 변환 과정에서 변하지 않고 유지된다."
   ]
  },
  {
   "cell_type": "code",
   "execution_count": 35,
   "id": "floating-bracket",
   "metadata": {},
   "outputs": [
    {
     "data": {
      "text/plain": [
       "1299902400000000000"
      ]
     },
     "execution_count": 35,
     "metadata": {},
     "output_type": "execute_result"
    }
   ],
   "source": [
    "stamp_utc.value"
   ]
  },
  {
   "cell_type": "code",
   "execution_count": 36,
   "id": "tribal-prize",
   "metadata": {},
   "outputs": [
    {
     "data": {
      "text/plain": [
       "1299902400000000000"
      ]
     },
     "execution_count": 36,
     "metadata": {},
     "output_type": "execute_result"
    }
   ],
   "source": [
    "stamp_utc.tz_convert('America/New_York').value"
   ]
  },
  {
   "cell_type": "markdown",
   "id": "conceptual-fireplace",
   "metadata": {},
   "source": [
    " "
   ]
  },
  {
   "cell_type": "markdown",
   "id": "static-connectivity",
   "metadata": {},
   "source": [
    "> pandas의 DateOffset 객체를 이용해서 시간 연산을 수행할 때는 가능하다면 일광절약시간을 고려한다.  \n",
    "> DST로 전환되기 직전의 타임스탬프에 대한 예제를 살펴보자.  \n",
    "> 먼저 DST 시행 30분 전의 Timestamp를 생성하자."
   ]
  },
  {
   "cell_type": "code",
   "execution_count": 38,
   "id": "common-longer",
   "metadata": {},
   "outputs": [],
   "source": [
    "from pandas.tseries.offsets import Hour"
   ]
  },
  {
   "cell_type": "code",
   "execution_count": 40,
   "id": "reliable-bottom",
   "metadata": {},
   "outputs": [
    {
     "data": {
      "text/plain": [
       "Timestamp('2012-03-12 01:30:00-0400', tz='US/Eastern')"
      ]
     },
     "execution_count": 40,
     "metadata": {},
     "output_type": "execute_result"
    }
   ],
   "source": [
    "stamp = pd.Timestamp('2012-03-12 01:30', tz = 'US/Eastern')\n",
    "stamp"
   ]
  },
  {
   "cell_type": "code",
   "execution_count": 41,
   "id": "abandoned-exposure",
   "metadata": {},
   "outputs": [
    {
     "data": {
      "text/plain": [
       "Timestamp('2012-03-12 02:30:00-0400', tz='US/Eastern')"
      ]
     },
     "execution_count": 41,
     "metadata": {},
     "output_type": "execute_result"
    }
   ],
   "source": [
    "stamp + Hour()"
   ]
  },
  {
   "cell_type": "markdown",
   "id": "international-illinois",
   "metadata": {},
   "source": [
    "  "
   ]
  },
  {
   "cell_type": "markdown",
   "id": "possible-camping",
   "metadata": {},
   "source": [
    "> 그리고 DST 시행 90분 전의 Timestamp를 생성하자."
   ]
  },
  {
   "cell_type": "code",
   "execution_count": 42,
   "id": "powered-pharmacology",
   "metadata": {},
   "outputs": [
    {
     "data": {
      "text/plain": [
       "Timestamp('2012-11-04 00:30:00-0400', tz='US/Eastern')"
      ]
     },
     "execution_count": 42,
     "metadata": {},
     "output_type": "execute_result"
    }
   ],
   "source": [
    "stamp = pd.Timestamp('2012-11-04 00:30', tz = 'US/Eastern')\n",
    "stamp"
   ]
  },
  {
   "cell_type": "code",
   "execution_count": 43,
   "id": "competent-contrary",
   "metadata": {},
   "outputs": [
    {
     "data": {
      "text/plain": [
       "Timestamp('2012-11-04 01:30:00-0500', tz='US/Eastern')"
      ]
     },
     "execution_count": 43,
     "metadata": {},
     "output_type": "execute_result"
    }
   ],
   "source": [
    "stamp + 2*Hour()"
   ]
  },
  {
   "cell_type": "markdown",
   "id": "figured-declaration",
   "metadata": {},
   "source": [
    " "
   ]
  },
  {
   "cell_type": "markdown",
   "id": "amazing-permit",
   "metadata": {},
   "source": [
    "### 11.4.3 다른 시간대 간의 연산"
   ]
  },
  {
   "cell_type": "markdown",
   "id": "authentic-arthur",
   "metadata": {},
   "source": [
    "> 서로 다른 시간대를 갖는 두 시계열이 하나로 합쳐지면 결과는 UTC가 된다.  \n",
    "> 타임스탬프는 내부적으로 UTC로 저장되므로 추가적인 변환이 불필요한 명료한 연산이다."
   ]
  },
  {
   "cell_type": "code",
   "execution_count": 44,
   "id": "ruled-psychology",
   "metadata": {},
   "outputs": [
    {
     "data": {
      "text/plain": [
       "2012-03-07 09:30:00    2.158596\n",
       "2012-03-08 09:30:00    0.612155\n",
       "2012-03-09 09:30:00   -0.854017\n",
       "2012-03-12 09:30:00   -0.326104\n",
       "2012-03-13 09:30:00   -1.043511\n",
       "2012-03-14 09:30:00    1.965302\n",
       "2012-03-15 09:30:00    0.244759\n",
       "2012-03-16 09:30:00    0.847342\n",
       "2012-03-19 09:30:00    1.662439\n",
       "2012-03-20 09:30:00    0.829872\n",
       "Freq: B, dtype: float64"
      ]
     },
     "execution_count": 44,
     "metadata": {},
     "output_type": "execute_result"
    }
   ],
   "source": [
    "rng = pd.date_range('3/7/2012 9:30', periods = 10, freq = 'B')\n",
    "ts = pd.Series(np.random.randn(len(rng)), index = rng)\n",
    "ts"
   ]
  },
  {
   "cell_type": "code",
   "execution_count": 45,
   "id": "incident-shopping",
   "metadata": {},
   "outputs": [
    {
     "data": {
      "text/plain": [
       "DatetimeIndex(['2012-03-07 09:30:00+00:00', '2012-03-08 09:30:00+00:00',\n",
       "               '2012-03-09 09:30:00+00:00', '2012-03-12 09:30:00+00:00',\n",
       "               '2012-03-13 09:30:00+00:00', '2012-03-14 09:30:00+00:00',\n",
       "               '2012-03-15 09:30:00+00:00'],\n",
       "              dtype='datetime64[ns, UTC]', freq=None)"
      ]
     },
     "execution_count": 45,
     "metadata": {},
     "output_type": "execute_result"
    }
   ],
   "source": [
    "ts1 = ts[:7].tz_localize('Europe/London')\n",
    "ts2 = ts1[2:].tz_convert('Europe/Moscow')\n",
    "result = ts1 + ts2\n",
    "\n",
    "result.index"
   ]
  },
  {
   "cell_type": "markdown",
   "id": "experienced-japanese",
   "metadata": {},
   "source": [
    " "
   ]
  },
  {
   "cell_type": "markdown",
   "id": "major-diameter",
   "metadata": {},
   "source": [
    "## 11.5 기간과 기간 연산"
   ]
  },
  {
   "cell_type": "markdown",
   "id": "ranging-headquarters",
   "metadata": {},
   "source": [
    "- 며칠, 몇 개월, 몇 분기, 몇 해 같은 기간은 Period 클래스로 표현할 수 있으며 문자열이나 정수 그리고 빈도를 가지고 생성한다."
   ]
  },
  {
   "cell_type": "markdown",
   "id": "killing-original",
   "metadata": {},
   "source": [
    "> 아래의 Period 객체는 2007년 1월 1일부터 같은 해 12월 31일까지의 기간을 포현한다.  \n",
    "> 이 기간에 정수를 더하거나 빼서 편리하게 정해진 빈도에 따라 기간을 이동시킬 수 있다."
   ]
  },
  {
   "cell_type": "code",
   "execution_count": 6,
   "id": "public-antique",
   "metadata": {},
   "outputs": [
    {
     "data": {
      "text/plain": [
       "Period('2007', 'A-DEC')"
      ]
     },
     "execution_count": 6,
     "metadata": {},
     "output_type": "execute_result"
    }
   ],
   "source": [
    "p = pd.Period(2007, freq = \"A-DEC\")\n",
    "p"
   ]
  },
  {
   "cell_type": "code",
   "execution_count": 7,
   "id": "virtual-watson",
   "metadata": {},
   "outputs": [
    {
     "data": {
      "text/plain": [
       "Period('2012', 'A-DEC')"
      ]
     },
     "execution_count": 7,
     "metadata": {},
     "output_type": "execute_result"
    }
   ],
   "source": [
    "p + 5"
   ]
  },
  {
   "cell_type": "code",
   "execution_count": 8,
   "id": "viral-printer",
   "metadata": {},
   "outputs": [
    {
     "data": {
      "text/plain": [
       "Period('2005', 'A-DEC')"
      ]
     },
     "execution_count": 8,
     "metadata": {},
     "output_type": "execute_result"
    }
   ],
   "source": [
    "p - 2"
   ]
  },
  {
   "cell_type": "markdown",
   "id": "expired-filename",
   "metadata": {},
   "source": [
    " "
   ]
  },
  {
   "cell_type": "markdown",
   "id": "comfortable-notion",
   "metadata": {},
   "source": [
    "> 만약 두 기간이 같은 빈도를 가진다면 두 기간의 차는 둘 사이의 간격이 된다."
   ]
  },
  {
   "cell_type": "code",
   "execution_count": 9,
   "id": "organized-brand",
   "metadata": {},
   "outputs": [
    {
     "data": {
      "text/plain": [
       "<7 * YearEnds: month=12>"
      ]
     },
     "execution_count": 9,
     "metadata": {},
     "output_type": "execute_result"
    }
   ],
   "source": [
    "pd.Period(\"2014\", freq = 'A-DEC') - p"
   ]
  },
  {
   "cell_type": "markdown",
   "id": "inappropriate-flood",
   "metadata": {},
   "source": [
    " "
   ]
  },
  {
   "cell_type": "markdown",
   "id": "vulnerable-clarity",
   "metadata": {},
   "source": [
    "> 일반적인 기간 범위는 period_range 함수로 생성할 수 있다."
   ]
  },
  {
   "cell_type": "code",
   "execution_count": 11,
   "id": "composite-market",
   "metadata": {},
   "outputs": [
    {
     "data": {
      "text/plain": [
       "PeriodIndex(['2000-01', '2000-02', '2000-03', '2000-04', '2000-05', '2000-06'], dtype='period[M]', freq='M')"
      ]
     },
     "execution_count": 11,
     "metadata": {},
     "output_type": "execute_result"
    }
   ],
   "source": [
    "rng = pd.period_range('2000-01-01', '2000-06-30', freq = 'M')\n",
    "rng"
   ]
  },
  {
   "cell_type": "markdown",
   "id": "suitable-irrigation",
   "metadata": {},
   "source": [
    " "
   ]
  },
  {
   "cell_type": "markdown",
   "id": "lyric-equivalent",
   "metadata": {},
   "source": [
    "> PeriodIndex 클래스는 순차적인 기간을 저장하며 다른 pandas 자료구조에서 축 색인과 마찬가지로 사용된다."
   ]
  },
  {
   "cell_type": "code",
   "execution_count": 12,
   "id": "electronic-afternoon",
   "metadata": {},
   "outputs": [
    {
     "data": {
      "text/plain": [
       "2000-01   -0.432292\n",
       "2000-02   -0.793592\n",
       "2000-03    0.835290\n",
       "2000-04   -0.162653\n",
       "2000-05    1.292410\n",
       "2000-06    1.066385\n",
       "Freq: M, dtype: float64"
      ]
     },
     "execution_count": 12,
     "metadata": {},
     "output_type": "execute_result"
    }
   ],
   "source": [
    "pd.Series(np.random.randn(6), index = rng)"
   ]
  },
  {
   "cell_type": "markdown",
   "id": "passing-distance",
   "metadata": {},
   "source": [
    " "
   ]
  },
  {
   "cell_type": "markdown",
   "id": "duplicate-drive",
   "metadata": {},
   "source": [
    "> 다음과 같은 문자열 배열을 이용해서 PeriodIndex 클래스를 생성하는 것도 가능하다."
   ]
  },
  {
   "cell_type": "code",
   "execution_count": 13,
   "id": "catholic-despite",
   "metadata": {},
   "outputs": [
    {
     "data": {
      "text/plain": [
       "PeriodIndex(['2001Q3', '2002Q2', '2003Q1'], dtype='period[Q-DEC]', freq='Q-DEC')"
      ]
     },
     "execution_count": 13,
     "metadata": {},
     "output_type": "execute_result"
    }
   ],
   "source": [
    "values = ['2001Q3', '2002Q2', '2003Q1']\n",
    "\n",
    "index = pd.PeriodIndex(values, freq = 'Q-DEC')\n",
    "index"
   ]
  },
  {
   "cell_type": "markdown",
   "id": "personalized-richards",
   "metadata": {},
   "source": [
    " "
   ]
  },
  {
   "cell_type": "markdown",
   "id": "incident-calculation",
   "metadata": {},
   "source": [
    "### 11.5.1 Period의 빈도 변환 "
   ]
  },
  {
   "cell_type": "markdown",
   "id": "integral-secretary",
   "metadata": {},
   "source": [
    "> 기간과 PeriodIndex 객체는 asfreq 메서드를 통해 다른 빈도로 변환할 수 있다.  \n",
    "> 예를 들어 새해 첫날부터 시작하는 연간 빈도를 월간 빈도로 변환해보자."
   ]
  },
  {
   "cell_type": "code",
   "execution_count": 14,
   "id": "collectible-palmer",
   "metadata": {},
   "outputs": [
    {
     "data": {
      "text/plain": [
       "Period('2007', 'A-DEC')"
      ]
     },
     "execution_count": 14,
     "metadata": {},
     "output_type": "execute_result"
    }
   ],
   "source": [
    "p = pd.Period('2007', freq = 'A-DEC')\n",
    "p"
   ]
  },
  {
   "cell_type": "code",
   "execution_count": 15,
   "id": "basic-clerk",
   "metadata": {},
   "outputs": [
    {
     "data": {
      "text/plain": [
       "Period('2007-01', 'M')"
      ]
     },
     "execution_count": 15,
     "metadata": {},
     "output_type": "execute_result"
    }
   ],
   "source": [
    "p.asfreq('M', how = 'start')"
   ]
  },
  {
   "cell_type": "code",
   "execution_count": 16,
   "id": "chief-breed",
   "metadata": {},
   "outputs": [
    {
     "data": {
      "text/plain": [
       "Period('2007-12', 'M')"
      ]
     },
     "execution_count": 16,
     "metadata": {},
     "output_type": "execute_result"
    }
   ],
   "source": [
    "p.asfreq('M', how = 'end')"
   ]
  },
  {
   "cell_type": "markdown",
   "id": "difficult-scottish",
   "metadata": {},
   "source": [
    " "
   ]
  },
  {
   "cell_type": "markdown",
   "id": "broken-symbol",
   "metadata": {},
   "source": [
    "> Period('2007', 'A-DEC')는 전체 기간에 대한 커서로 생각할 수 있고 우러간으로 다시 나눌 수 있다.  \n",
    "> 회계연도 마감이 12월이 아닌 경우에는 월간 빈도가 달라진다."
   ]
  },
  {
   "cell_type": "code",
   "execution_count": 18,
   "id": "advised-blank",
   "metadata": {},
   "outputs": [
    {
     "data": {
      "text/plain": [
       "Period('2007', 'A-JUN')"
      ]
     },
     "execution_count": 18,
     "metadata": {},
     "output_type": "execute_result"
    }
   ],
   "source": [
    "p = pd.Period('2007', freq = 'A-JUN')\n",
    "p"
   ]
  },
  {
   "cell_type": "code",
   "execution_count": 19,
   "id": "electrical-compromise",
   "metadata": {},
   "outputs": [
    {
     "data": {
      "text/plain": [
       "Period('2006-07', 'M')"
      ]
     },
     "execution_count": 19,
     "metadata": {},
     "output_type": "execute_result"
    }
   ],
   "source": [
    "p.asfreq('M', how = 'start')"
   ]
  },
  {
   "cell_type": "code",
   "execution_count": 20,
   "id": "adjusted-morris",
   "metadata": {},
   "outputs": [
    {
     "data": {
      "text/plain": [
       "Period('2007-06', 'M')"
      ]
     },
     "execution_count": 20,
     "metadata": {},
     "output_type": "execute_result"
    }
   ],
   "source": [
    "p.asfreq('M', how = 'end')"
   ]
  },
  {
   "cell_type": "markdown",
   "id": "flush-doctor",
   "metadata": {},
   "source": [
    " "
   ]
  },
  {
   "cell_type": "markdown",
   "id": "every-kentucky",
   "metadata": {},
   "source": [
    "> 빈도가 상위 단계에서 하위 단계로 변환되는 경우 상위 기간은 하위 기간이 어디에 속했는지에 따라 결정된다.  \n",
    "> 예를 들어 A-JUN 빈도일 경우 2007년 8월은 실제로 2008년 기간에 속하게 된다."
   ]
  },
  {
   "cell_type": "code",
   "execution_count": 21,
   "id": "complicated-victory",
   "metadata": {},
   "outputs": [
    {
     "data": {
      "text/plain": [
       "Period('2008', 'A-JUN')"
      ]
     },
     "execution_count": 21,
     "metadata": {},
     "output_type": "execute_result"
    }
   ],
   "source": [
    "p = pd.Period('Aug-2007', 'M')\n",
    "\n",
    "p.asfreq('A-JUN')"
   ]
  },
  {
   "cell_type": "markdown",
   "id": "southeast-sudan",
   "metadata": {},
   "source": [
    " "
   ]
  },
  {
   "cell_type": "markdown",
   "id": "central-interstate",
   "metadata": {},
   "source": [
    "> 모든 PeriodIndex 객체나 시계열은 지금까지 살펴본 내용과 같은 방식으로 변환할 수 잇다."
   ]
  },
  {
   "cell_type": "code",
   "execution_count": 23,
   "id": "provincial-reaction",
   "metadata": {},
   "outputs": [
    {
     "data": {
      "text/plain": [
       "2006    0.608209\n",
       "2007   -0.933070\n",
       "2008   -0.545199\n",
       "2009   -1.632759\n",
       "Freq: A-DEC, dtype: float64"
      ]
     },
     "execution_count": 23,
     "metadata": {},
     "output_type": "execute_result"
    }
   ],
   "source": [
    "rng = pd.period_range('2006', '2009', freq = 'A-DEC')\n",
    "\n",
    "ts = pd.Series(np.random.randn(len(rng)), index = rng)\n",
    "ts"
   ]
  },
  {
   "cell_type": "code",
   "execution_count": 24,
   "id": "alternate-quest",
   "metadata": {},
   "outputs": [
    {
     "data": {
      "text/plain": [
       "2006-01    0.608209\n",
       "2007-01   -0.933070\n",
       "2008-01   -0.545199\n",
       "2009-01   -1.632759\n",
       "Freq: M, dtype: float64"
      ]
     },
     "execution_count": 24,
     "metadata": {},
     "output_type": "execute_result"
    }
   ],
   "source": [
    "ts.asfreq('M', how = 'start')"
   ]
  },
  {
   "cell_type": "markdown",
   "id": "precious-guard",
   "metadata": {},
   "source": [
    " "
   ]
  },
  {
   "cell_type": "markdown",
   "id": "concrete-tomorrow",
   "metadata": {},
   "source": [
    "> 위 예제에서 연 빈도는 해당 빈도의 시작 월부터 시작하는 월 빈도로 치환된다.  \n",
    "> 만일 매 해의 마지막 영업일을 대신 사용하고 싶다면 'B' 빈도를 사용하고 해당 기간의 종료 지점을 지정해서 변환할 수 있다."
   ]
  },
  {
   "cell_type": "code",
   "execution_count": 25,
   "id": "unknown-theta",
   "metadata": {},
   "outputs": [
    {
     "data": {
      "text/plain": [
       "2006-12-29    0.608209\n",
       "2007-12-31   -0.933070\n",
       "2008-12-31   -0.545199\n",
       "2009-12-31   -1.632759\n",
       "Freq: B, dtype: float64"
      ]
     },
     "execution_count": 25,
     "metadata": {},
     "output_type": "execute_result"
    }
   ],
   "source": [
    "ts.asfreq('B', how = 'end')"
   ]
  },
  {
   "cell_type": "markdown",
   "id": "healthy-reform",
   "metadata": {},
   "source": [
    " "
   ]
  },
  {
   "cell_type": "markdown",
   "id": "gentle-professional",
   "metadata": {},
   "source": [
    "### 11.5.2 분기 빈도"
   ]
  },
  {
   "cell_type": "markdown",
   "id": "timely-dryer",
   "metadata": {},
   "source": [
    "> 많은 분기 데이터는 일반적으로 회계연도의 끝인 12월의 마지막 날이나 마지막 업무일을 기준으로 보고하는데, 2012Q4는 회계연도의 끝이 어딘가에 따라 의미가 달라진다.  \n",
    "> pandas는 12가지 모든 경우의 수를 지원하며 분기 빈도는 Q-JAN 부터 Q-DEC 까지다."
   ]
  },
  {
   "cell_type": "code",
   "execution_count": 26,
   "id": "serious-cookbook",
   "metadata": {},
   "outputs": [
    {
     "data": {
      "text/plain": [
       "Period('2012Q4', 'Q-JAN')"
      ]
     },
     "execution_count": 26,
     "metadata": {},
     "output_type": "execute_result"
    }
   ],
   "source": [
    "p = pd.Period('2012Q4', freq = 'Q-JAN')\n",
    "p"
   ]
  },
  {
   "cell_type": "markdown",
   "id": "broad-turkish",
   "metadata": {},
   "source": [
    " "
   ]
  },
  {
   "cell_type": "markdown",
   "id": "stupid-finnish",
   "metadata": {},
   "source": [
    "> 회계연도 마감이 1월인 경우라면 2012Q4는 11월부터 1월까지가 되고 일간 빈도로 검사할 수 있다."
   ]
  },
  {
   "cell_type": "code",
   "execution_count": 27,
   "id": "thousand-routine",
   "metadata": {},
   "outputs": [
    {
     "data": {
      "text/plain": [
       "Period('2011-11-01', 'D')"
      ]
     },
     "execution_count": 27,
     "metadata": {},
     "output_type": "execute_result"
    }
   ],
   "source": [
    "p.asfreq('D', 'start')"
   ]
  },
  {
   "cell_type": "code",
   "execution_count": 28,
   "id": "amended-deviation",
   "metadata": {},
   "outputs": [
    {
     "data": {
      "text/plain": [
       "Period('2012-01-31', 'D')"
      ]
     },
     "execution_count": 28,
     "metadata": {},
     "output_type": "execute_result"
    }
   ],
   "source": [
    "p.asfreq('D', 'end')"
   ]
  },
  {
   "cell_type": "markdown",
   "id": "systematic-pulse",
   "metadata": {},
   "source": [
    " "
   ]
  },
  {
   "cell_type": "markdown",
   "id": "aerial-meaning",
   "metadata": {},
   "source": [
    "> 분기 영업마감일의 오후 4시를 가리키는 타임스탬프는 다음과 같이 구할 수 있다."
   ]
  },
  {
   "cell_type": "code",
   "execution_count": 29,
   "id": "romantic-accessory",
   "metadata": {},
   "outputs": [
    {
     "data": {
      "text/plain": [
       "Period('2012-01-30 16:00', 'T')"
      ]
     },
     "execution_count": 29,
     "metadata": {},
     "output_type": "execute_result"
    }
   ],
   "source": [
    "p4pm = (p.asfreq('B', 'e') - 1).asfreq('T', 's') + 16*60\n",
    "p4pm"
   ]
  },
  {
   "cell_type": "code",
   "execution_count": 30,
   "id": "right-robertson",
   "metadata": {},
   "outputs": [
    {
     "data": {
      "text/plain": [
       "Timestamp('2012-01-30 16:00:00')"
      ]
     },
     "execution_count": 30,
     "metadata": {},
     "output_type": "execute_result"
    }
   ],
   "source": [
    "p4pm.to_timestamp()"
   ]
  },
  {
   "cell_type": "markdown",
   "id": "muslim-helmet",
   "metadata": {},
   "source": [
    " "
   ]
  },
  {
   "cell_type": "markdown",
   "id": "ordered-uzbekistan",
   "metadata": {},
   "source": [
    "> period_range를 사용해서 분기 범위를 생성할 수 있다.  \n",
    "> 연산 역시 동일한 방법으로 수행할 수 있다."
   ]
  },
  {
   "cell_type": "code",
   "execution_count": 34,
   "id": "serial-territory",
   "metadata": {},
   "outputs": [
    {
     "data": {
      "text/plain": [
       "2011Q3    0\n",
       "2011Q4    1\n",
       "2012Q1    2\n",
       "2012Q2    3\n",
       "2012Q3    4\n",
       "2012Q4    5\n",
       "Freq: Q-JAN, dtype: int32"
      ]
     },
     "execution_count": 34,
     "metadata": {},
     "output_type": "execute_result"
    }
   ],
   "source": [
    "rng = pd.period_range('2011Q3', '2012Q4', freq = 'Q-JAN')\n",
    "\n",
    "ts = pd.Series(np.arange(len(rng)), index = rng)\n",
    "ts"
   ]
  },
  {
   "cell_type": "code",
   "execution_count": 37,
   "id": "patent-advertiser",
   "metadata": {},
   "outputs": [
    {
     "data": {
      "text/plain": [
       "2010-10-28 16:00:00    0\n",
       "2011-01-28 16:00:00    1\n",
       "2011-04-28 16:00:00    2\n",
       "2011-07-28 16:00:00    3\n",
       "2011-10-28 16:00:00    4\n",
       "2012-01-30 16:00:00    5\n",
       "dtype: int32"
      ]
     },
     "execution_count": 37,
     "metadata": {},
     "output_type": "execute_result"
    }
   ],
   "source": [
    "new_rng = (rng.asfreq('B','e') -1).asfreq('T','s') + 16*60\n",
    "ts.index = new_rng.to_timestamp()\n",
    "ts"
   ]
  },
  {
   "cell_type": "markdown",
   "id": "imperial-remedy",
   "metadata": {},
   "source": [
    " "
   ]
  },
  {
   "cell_type": "markdown",
   "id": "unlikely-sculpture",
   "metadata": {},
   "source": [
    "### 11.5.3 타임스탬프와 기간 서로 변환하기"
   ]
  },
  {
   "cell_type": "markdown",
   "id": "looking-recognition",
   "metadata": {},
   "source": [
    "> 타임스탬프로 색인된 Series와 DataFrame 객체는 to_period 메서드를 사용해서 기간으로 변환 가능하다."
   ]
  },
  {
   "cell_type": "code",
   "execution_count": 39,
   "id": "rubber-willow",
   "metadata": {},
   "outputs": [
    {
     "data": {
      "text/plain": [
       "2000-01-31    0.209581\n",
       "2000-02-29    1.171133\n",
       "2000-03-31    1.339138\n",
       "Freq: M, dtype: float64"
      ]
     },
     "execution_count": 39,
     "metadata": {},
     "output_type": "execute_result"
    }
   ],
   "source": [
    "rng = pd.date_range('2000-01-01', periods = 3, freq = 'M')\n",
    "\n",
    "ts = pd.Series(np.random.randn(3), index = rng)\n",
    "ts"
   ]
  },
  {
   "cell_type": "code",
   "execution_count": 41,
   "id": "copyrighted-toronto",
   "metadata": {},
   "outputs": [
    {
     "data": {
      "text/plain": [
       "2000-01    0.209581\n",
       "2000-02    1.171133\n",
       "2000-03    1.339138\n",
       "Freq: M, dtype: float64"
      ]
     },
     "execution_count": 41,
     "metadata": {},
     "output_type": "execute_result"
    }
   ],
   "source": [
    "pts = ts.to_period()\n",
    "pts"
   ]
  },
  {
   "cell_type": "markdown",
   "id": "labeled-sponsorship",
   "metadata": {},
   "source": [
    " "
   ]
  },
  {
   "cell_type": "markdown",
   "id": "headed-sperm",
   "metadata": {},
   "source": [
    "> 여기서 말하는 기간은 겹치지 않는 시간상의 간격을 뜻하므로 주어진 빈도에서 타임스탬프는 하나의 기간에만 속한다.  \n",
    "> 새로운 PeriodIndex의 빈도는 기본적으로 타임스탬프 값을 통해 추론되지만 원하는 빈도를 직접 지정할 수도 있다.  \n",
    "> 결과에 중복되는 기간이 나오더라도 문제가 되지 않는다."
   ]
  },
  {
   "cell_type": "code",
   "execution_count": 44,
   "id": "protective-explosion",
   "metadata": {},
   "outputs": [
    {
     "data": {
      "text/plain": [
       "2000-01-29   -2.056027\n",
       "2000-01-30    0.647576\n",
       "2000-01-31    0.368360\n",
       "2000-02-01   -0.337033\n",
       "2000-02-02   -0.582228\n",
       "2000-02-03    0.782855\n",
       "Freq: D, dtype: float64"
      ]
     },
     "execution_count": 44,
     "metadata": {},
     "output_type": "execute_result"
    }
   ],
   "source": [
    "rng = pd.date_range('1/29/2000', periods = 6, freq = 'D')\n",
    "ts2 = pd.Series(np.random.randn(6), index = rng)\n",
    "ts2"
   ]
  },
  {
   "cell_type": "code",
   "execution_count": 45,
   "id": "studied-mission",
   "metadata": {},
   "outputs": [
    {
     "data": {
      "text/plain": [
       "2000-01   -2.056027\n",
       "2000-01    0.647576\n",
       "2000-01    0.368360\n",
       "2000-02   -0.337033\n",
       "2000-02   -0.582228\n",
       "2000-02    0.782855\n",
       "Freq: M, dtype: float64"
      ]
     },
     "execution_count": 45,
     "metadata": {},
     "output_type": "execute_result"
    }
   ],
   "source": [
    "ts2.to_period('M')"
   ]
  },
  {
   "cell_type": "markdown",
   "id": "overhead-computer",
   "metadata": {},
   "source": [
    " "
   ]
  },
  {
   "cell_type": "markdown",
   "id": "virgin-billion",
   "metadata": {},
   "source": [
    "> 기간을 타임스탬프로 변환하려면 to_timestamp 메서드를 이용하면 된다."
   ]
  },
  {
   "cell_type": "code",
   "execution_count": 47,
   "id": "unknown-bridges",
   "metadata": {},
   "outputs": [
    {
     "data": {
      "text/plain": [
       "2000-01-29   -2.056027\n",
       "2000-01-30    0.647576\n",
       "2000-01-31    0.368360\n",
       "2000-02-01   -0.337033\n",
       "2000-02-02   -0.582228\n",
       "2000-02-03    0.782855\n",
       "Freq: D, dtype: float64"
      ]
     },
     "execution_count": 47,
     "metadata": {},
     "output_type": "execute_result"
    }
   ],
   "source": [
    "pts = ts2.to_period()\n",
    "pts"
   ]
  },
  {
   "cell_type": "code",
   "execution_count": 50,
   "id": "married-point",
   "metadata": {},
   "outputs": [
    {
     "data": {
      "text/plain": [
       "2000-01-29 23:59:59.999999999   -2.056027\n",
       "2000-01-30 23:59:59.999999999    0.647576\n",
       "2000-01-31 23:59:59.999999999    0.368360\n",
       "2000-02-01 23:59:59.999999999   -0.337033\n",
       "2000-02-02 23:59:59.999999999   -0.582228\n",
       "2000-02-03 23:59:59.999999999    0.782855\n",
       "Freq: D, dtype: float64"
      ]
     },
     "execution_count": 50,
     "metadata": {},
     "output_type": "execute_result"
    }
   ],
   "source": [
    "pts.to_timestamp(how = 'end')"
   ]
  },
  {
   "cell_type": "markdown",
   "id": "recognized-galaxy",
   "metadata": {},
   "source": [
    " "
   ]
  },
  {
   "cell_type": "markdown",
   "id": "liked-absorption",
   "metadata": {},
   "source": [
    "### 11.5.4 배열로 PeriodIndex 생성하기"
   ]
  },
  {
   "cell_type": "markdown",
   "id": "artificial-blanket",
   "metadata": {},
   "source": [
    "> 고정된 빈도를 갖는 데이터는 종종 여러 컬럼에 걸쳐 기간에 대한 정보를 함께 저장하기도 한다."
   ]
  },
  {
   "cell_type": "code",
   "execution_count": 51,
   "id": "nutritional-musical",
   "metadata": {},
   "outputs": [
    {
     "data": {
      "text/html": [
       "<div>\n",
       "<style scoped>\n",
       "    .dataframe tbody tr th:only-of-type {\n",
       "        vertical-align: middle;\n",
       "    }\n",
       "\n",
       "    .dataframe tbody tr th {\n",
       "        vertical-align: top;\n",
       "    }\n",
       "\n",
       "    .dataframe thead th {\n",
       "        text-align: right;\n",
       "    }\n",
       "</style>\n",
       "<table border=\"1\" class=\"dataframe\">\n",
       "  <thead>\n",
       "    <tr style=\"text-align: right;\">\n",
       "      <th></th>\n",
       "      <th>year</th>\n",
       "      <th>quarter</th>\n",
       "      <th>realgdp</th>\n",
       "      <th>realcons</th>\n",
       "      <th>realinv</th>\n",
       "      <th>realgovt</th>\n",
       "      <th>realdpi</th>\n",
       "      <th>cpi</th>\n",
       "      <th>m1</th>\n",
       "      <th>tbilrate</th>\n",
       "      <th>unemp</th>\n",
       "      <th>pop</th>\n",
       "      <th>infl</th>\n",
       "      <th>realint</th>\n",
       "    </tr>\n",
       "  </thead>\n",
       "  <tbody>\n",
       "    <tr>\n",
       "      <th>0</th>\n",
       "      <td>1959.0</td>\n",
       "      <td>1.0</td>\n",
       "      <td>2710.349</td>\n",
       "      <td>1707.4</td>\n",
       "      <td>286.898</td>\n",
       "      <td>470.045</td>\n",
       "      <td>1886.9</td>\n",
       "      <td>28.98</td>\n",
       "      <td>139.7</td>\n",
       "      <td>2.82</td>\n",
       "      <td>5.8</td>\n",
       "      <td>177.146</td>\n",
       "      <td>0.00</td>\n",
       "      <td>0.00</td>\n",
       "    </tr>\n",
       "    <tr>\n",
       "      <th>1</th>\n",
       "      <td>1959.0</td>\n",
       "      <td>2.0</td>\n",
       "      <td>2778.801</td>\n",
       "      <td>1733.7</td>\n",
       "      <td>310.859</td>\n",
       "      <td>481.301</td>\n",
       "      <td>1919.7</td>\n",
       "      <td>29.15</td>\n",
       "      <td>141.7</td>\n",
       "      <td>3.08</td>\n",
       "      <td>5.1</td>\n",
       "      <td>177.830</td>\n",
       "      <td>2.34</td>\n",
       "      <td>0.74</td>\n",
       "    </tr>\n",
       "    <tr>\n",
       "      <th>2</th>\n",
       "      <td>1959.0</td>\n",
       "      <td>3.0</td>\n",
       "      <td>2775.488</td>\n",
       "      <td>1751.8</td>\n",
       "      <td>289.226</td>\n",
       "      <td>491.260</td>\n",
       "      <td>1916.4</td>\n",
       "      <td>29.35</td>\n",
       "      <td>140.5</td>\n",
       "      <td>3.82</td>\n",
       "      <td>5.3</td>\n",
       "      <td>178.657</td>\n",
       "      <td>2.74</td>\n",
       "      <td>1.09</td>\n",
       "    </tr>\n",
       "    <tr>\n",
       "      <th>3</th>\n",
       "      <td>1959.0</td>\n",
       "      <td>4.0</td>\n",
       "      <td>2785.204</td>\n",
       "      <td>1753.7</td>\n",
       "      <td>299.356</td>\n",
       "      <td>484.052</td>\n",
       "      <td>1931.3</td>\n",
       "      <td>29.37</td>\n",
       "      <td>140.0</td>\n",
       "      <td>4.33</td>\n",
       "      <td>5.6</td>\n",
       "      <td>179.386</td>\n",
       "      <td>0.27</td>\n",
       "      <td>4.06</td>\n",
       "    </tr>\n",
       "    <tr>\n",
       "      <th>4</th>\n",
       "      <td>1960.0</td>\n",
       "      <td>1.0</td>\n",
       "      <td>2847.699</td>\n",
       "      <td>1770.5</td>\n",
       "      <td>331.722</td>\n",
       "      <td>462.199</td>\n",
       "      <td>1955.5</td>\n",
       "      <td>29.54</td>\n",
       "      <td>139.6</td>\n",
       "      <td>3.50</td>\n",
       "      <td>5.2</td>\n",
       "      <td>180.007</td>\n",
       "      <td>2.31</td>\n",
       "      <td>1.19</td>\n",
       "    </tr>\n",
       "  </tbody>\n",
       "</table>\n",
       "</div>"
      ],
      "text/plain": [
       "     year  quarter   realgdp  realcons  realinv  realgovt  realdpi    cpi  \\\n",
       "0  1959.0      1.0  2710.349    1707.4  286.898   470.045   1886.9  28.98   \n",
       "1  1959.0      2.0  2778.801    1733.7  310.859   481.301   1919.7  29.15   \n",
       "2  1959.0      3.0  2775.488    1751.8  289.226   491.260   1916.4  29.35   \n",
       "3  1959.0      4.0  2785.204    1753.7  299.356   484.052   1931.3  29.37   \n",
       "4  1960.0      1.0  2847.699    1770.5  331.722   462.199   1955.5  29.54   \n",
       "\n",
       "      m1  tbilrate  unemp      pop  infl  realint  \n",
       "0  139.7      2.82    5.8  177.146  0.00     0.00  \n",
       "1  141.7      3.08    5.1  177.830  2.34     0.74  \n",
       "2  140.5      3.82    5.3  178.657  2.74     1.09  \n",
       "3  140.0      4.33    5.6  179.386  0.27     4.06  \n",
       "4  139.6      3.50    5.2  180.007  2.31     1.19  "
      ]
     },
     "execution_count": 51,
     "metadata": {},
     "output_type": "execute_result"
    }
   ],
   "source": [
    "data = pd.read_csv('examples/macrodata.csv')\n",
    "data.head(5)"
   ]
  },
  {
   "cell_type": "code",
   "execution_count": 52,
   "id": "stuck-replacement",
   "metadata": {},
   "outputs": [
    {
     "data": {
      "text/plain": [
       "0      1959.0\n",
       "1      1959.0\n",
       "2      1959.0\n",
       "3      1959.0\n",
       "4      1960.0\n",
       "        ...  \n",
       "198    2008.0\n",
       "199    2008.0\n",
       "200    2009.0\n",
       "201    2009.0\n",
       "202    2009.0\n",
       "Name: year, Length: 203, dtype: float64"
      ]
     },
     "execution_count": 52,
     "metadata": {},
     "output_type": "execute_result"
    }
   ],
   "source": [
    "data.year"
   ]
  },
  {
   "cell_type": "code",
   "execution_count": 53,
   "id": "requested-emperor",
   "metadata": {},
   "outputs": [
    {
     "data": {
      "text/plain": [
       "0      1.0\n",
       "1      2.0\n",
       "2      3.0\n",
       "3      4.0\n",
       "4      1.0\n",
       "      ... \n",
       "198    3.0\n",
       "199    4.0\n",
       "200    1.0\n",
       "201    2.0\n",
       "202    3.0\n",
       "Name: quarter, Length: 203, dtype: float64"
      ]
     },
     "execution_count": 53,
     "metadata": {},
     "output_type": "execute_result"
    }
   ],
   "source": [
    "data.quarter"
   ]
  },
  {
   "cell_type": "markdown",
   "id": "deluxe-devon",
   "metadata": {},
   "source": [
    " "
   ]
  },
  {
   "cell_type": "markdown",
   "id": "equal-jason",
   "metadata": {},
   "source": [
    "> 이 배열을 PeriodIndex에 빈도값과 함께 전달하면 이를 조합해서 DataFrame에서 사용할 수 있는 색인을 만들어낸다."
   ]
  },
  {
   "cell_type": "code",
   "execution_count": 55,
   "id": "offensive-rendering",
   "metadata": {},
   "outputs": [
    {
     "data": {
      "text/plain": [
       "PeriodIndex(['1959Q1', '1959Q2', '1959Q3', '1959Q4', '1960Q1', '1960Q2',\n",
       "             '1960Q3', '1960Q4', '1961Q1', '1961Q2',\n",
       "             ...\n",
       "             '2007Q2', '2007Q3', '2007Q4', '2008Q1', '2008Q2', '2008Q3',\n",
       "             '2008Q4', '2009Q1', '2009Q2', '2009Q3'],\n",
       "            dtype='period[Q-DEC]', length=203, freq='Q-DEC')"
      ]
     },
     "execution_count": 55,
     "metadata": {},
     "output_type": "execute_result"
    }
   ],
   "source": [
    "index = pd.PeriodIndex(year = data.year,\n",
    "                       quarter = data.quarter,\n",
    "                       freq = 'Q-DEC')\n",
    "index"
   ]
  },
  {
   "cell_type": "code",
   "execution_count": 57,
   "id": "phantom-transport",
   "metadata": {},
   "outputs": [
    {
     "data": {
      "text/plain": [
       "1959Q1    0.00\n",
       "1959Q2    2.34\n",
       "1959Q3    2.74\n",
       "1959Q4    0.27\n",
       "1960Q1    2.31\n",
       "          ... \n",
       "2008Q3   -3.16\n",
       "2008Q4   -8.79\n",
       "2009Q1    0.94\n",
       "2009Q2    3.37\n",
       "2009Q3    3.56\n",
       "Freq: Q-DEC, Name: infl, Length: 203, dtype: float64"
      ]
     },
     "execution_count": 57,
     "metadata": {},
     "output_type": "execute_result"
    }
   ],
   "source": [
    "data.index = index\n",
    "\n",
    "data.infl"
   ]
  },
  {
   "cell_type": "markdown",
   "id": "grand-redhead",
   "metadata": {},
   "source": [
    " "
   ]
  },
  {
   "cell_type": "markdown",
   "id": "intense-elizabeth",
   "metadata": {},
   "source": [
    "## 리샘플링과 빈도 변환"
   ]
  },
  {
   "cell_type": "markdown",
   "id": "understood-practitioner",
   "metadata": {},
   "source": [
    "- 리샘플링 : 시계열의 빈도를 변환하는 과정을 일컫는다. \n",
    "    - 다운샘플링 : 상위 빈도의 데이터를 하위 빈도로 집계하는 것 \n",
    "    - 업샘플링 : 하위 빈도의 데이터를 상위 빈도로 집계하는 것\n",
    "    - W-WED(수요일을 기준으로 한 주간)를 W-FRI로 변경하는 것은 업샘플링도 다운샘플링도 아니다."
   ]
  },
  {
   "cell_type": "markdown",
   "id": "mounted-mirror",
   "metadata": {},
   "source": [
    "> pandas 객체는 resample 메서드를 가지고 있는데, 빈도 변환과 관련된 모든 작업에서 유용하게 사용되는 메서드다.  \n",
    "> resample은 groupby와 비슷한 API를 가지고 있는데 resample을 호출해서 데이터를 그룹 짓고 요약함수를 적용하는 식이다."
   ]
  },
  {
   "cell_type": "code",
   "execution_count": 60,
   "id": "appointed-omaha",
   "metadata": {},
   "outputs": [
    {
     "data": {
      "text/plain": [
       "2000-01-01    0.851331\n",
       "2000-01-02    0.967976\n",
       "2000-01-03    0.640671\n",
       "2000-01-04   -0.720144\n",
       "2000-01-05   -0.492518\n",
       "                ...   \n",
       "2000-04-05    0.405581\n",
       "2000-04-06   -0.260274\n",
       "2000-04-07    0.492901\n",
       "2000-04-08    0.628009\n",
       "2000-04-09    0.768989\n",
       "Freq: D, Length: 100, dtype: float64"
      ]
     },
     "execution_count": 60,
     "metadata": {},
     "output_type": "execute_result"
    }
   ],
   "source": [
    "rng = pd.date_range('2000-01-01', periods = 100, freq = 'D')\n",
    "ts = pd.Series(np.random.randn(len(rng)), index = rng)\n",
    "ts"
   ]
  },
  {
   "cell_type": "code",
   "execution_count": 61,
   "id": "educated-facing",
   "metadata": {},
   "outputs": [
    {
     "data": {
      "text/plain": [
       "2000-01-31    0.230538\n",
       "2000-02-29   -0.069556\n",
       "2000-03-31    0.210351\n",
       "2000-04-30   -0.035208\n",
       "Freq: M, dtype: float64"
      ]
     },
     "execution_count": 61,
     "metadata": {},
     "output_type": "execute_result"
    }
   ],
   "source": [
    "ts.resample(\"M\").mean()"
   ]
  },
  {
   "cell_type": "code",
   "execution_count": 63,
   "id": "acceptable-minutes",
   "metadata": {},
   "outputs": [
    {
     "data": {
      "text/plain": [
       "2000-01    0.230538\n",
       "2000-02   -0.069556\n",
       "2000-03    0.210351\n",
       "2000-04   -0.035208\n",
       "Freq: M, dtype: float64"
      ]
     },
     "execution_count": 63,
     "metadata": {},
     "output_type": "execute_result"
    }
   ],
   "source": [
    "ts.resample(\"M\", kind = 'period').mean()"
   ]
  },
  {
   "cell_type": "markdown",
   "id": "fifth-church",
   "metadata": {},
   "source": [
    " "
   ]
  },
  {
   "cell_type": "markdown",
   "id": "computational-floor",
   "metadata": {},
   "source": [
    "#### resample 메서드 인자\n",
    "\n",
    "<details>\n",
    "<summary>resample 메서드 인자</summary>\n",
    "<div markdown=\"1\">\n",
    "\n",
    "|인자|설명|\n",
    "|:--|:--|\n",
    "|freq|원하는 리샘플링 빈도를 가리키는 문자열이나 DataOffset(예:'M','5min',Second(15))|\n",
    "|axis|리샘플링을 수행할 축. 기본값은 axis=0 이다.|\n",
    "|fill_method|업샘플링 시 사용할 보간 방법. 'ffill'과 'bfill'이 있다. 기본값은 None이다(보간을 수행하지 않음).|\n",
    "|closed|다운샘플링 시 각 간격의 어느 쪽을 포함할지 가리킨다. 'right'와 'left'가 있고 기본값은 'right'다.|\n",
    "|label|다운샘플링 시 집계된 결과의 라벨을 결정한다. 'right'와 'left'가 있다. 예를 들어 9:30에서 9:35까지 5분 간격이 있을 때 라벨은 9:30 혹은 9:35가 될 수 있다. 기본 값은 'right'다. (이 경우에는 9:35가 된다).|\n",
    "|loffset|나뉜 그룹의 라벨에 맞추기 위한 오프셋. '-1s' /Second(-1)은 집계된 라벨을 1초 앞당긴다.|\n",
    "|limit|보간법을 사용할 때 보간을 적용할 최대 기간|\n",
    "|kind|기간('period')별 혹은 타임스탬프('timestamp')별로 집계할 것인지 구분. 기본값은 시계열 색인의 종류와 같다.|\n",
    "|convention|기간을 리샘플링할 때 하위 빈도 기간에서 상위 빈도로 변환 시의 방식('start' 혹은 'end'). 기본값은 'end'다.|\n",
    "   \n",
    "</div>\n",
    "</details>"
   ]
  },
  {
   "cell_type": "markdown",
   "id": "functional-terrain",
   "metadata": {},
   "source": [
    " "
   ]
  },
  {
   "cell_type": "markdown",
   "id": "dirty-diamond",
   "metadata": {},
   "source": [
    "### 11.6.1 다운샘플링"
   ]
  },
  {
   "cell_type": "markdown",
   "id": "phantom-carrier",
   "metadata": {},
   "source": [
    "- resample을 사용해서 데이터를 다운샘플링할 때 고려해야 할 사항이 몇 가지 있다.\n",
    "    - 각 간격의 양끝 중에서 어느 쪽을 닫아둘 것인가\n",
    "    - 집계하려는 구간의 라벨을 간격의 시작으로 할지 끝으로 할지 여부\n"
   ]
  },
  {
   "cell_type": "markdown",
   "id": "fourth-swift",
   "metadata": {},
   "source": [
    "> 분 단위 데이터를 통해 좀 더 알아보자."
   ]
  },
  {
   "cell_type": "code",
   "execution_count": 67,
   "id": "increased-seminar",
   "metadata": {},
   "outputs": [
    {
     "data": {
      "text/plain": [
       "2000-01-01 00:00:00     0\n",
       "2000-01-01 00:01:00     1\n",
       "2000-01-01 00:02:00     2\n",
       "2000-01-01 00:03:00     3\n",
       "2000-01-01 00:04:00     4\n",
       "2000-01-01 00:05:00     5\n",
       "2000-01-01 00:06:00     6\n",
       "2000-01-01 00:07:00     7\n",
       "2000-01-01 00:08:00     8\n",
       "2000-01-01 00:09:00     9\n",
       "2000-01-01 00:10:00    10\n",
       "2000-01-01 00:11:00    11\n",
       "Freq: T, dtype: int32"
      ]
     },
     "execution_count": 67,
     "metadata": {},
     "output_type": "execute_result"
    }
   ],
   "source": [
    "rng = pd.date_range('2000-01-01', periods = 12, freq = 'T')\n",
    "ts = pd.Series(np.arange(12), index = rng)\n",
    "ts"
   ]
  },
  {
   "cell_type": "markdown",
   "id": "another-stretch",
   "metadata": {},
   "source": [
    " "
   ]
  },
  {
   "cell_type": "markdown",
   "id": "united-reaction",
   "metadata": {},
   "source": [
    "> 이 데이터를 5분 단위로 묶어서 각 그룹의 합을 집계해보자.  \n",
    "> 인자로 넘긴 빈도는 5분 단위로 증가하는 그룹의 경계를 정의한다.  \n",
    "> 기본적으로 시작값을 그룹의 `왼쪽`에 포함시키므로 00:00의 값은 첫 번째 그룹의 00:00부터 00:05까지의 값을 집계한다."
   ]
  },
  {
   "cell_type": "code",
   "execution_count": 69,
   "id": "iraqi-upgrade",
   "metadata": {},
   "outputs": [
    {
     "data": {
      "text/plain": [
       "2000-01-01 00:00:00    10\n",
       "2000-01-01 00:05:00    35\n",
       "2000-01-01 00:10:00    21\n",
       "Freq: 5T, dtype: int32"
      ]
     },
     "execution_count": 69,
     "metadata": {},
     "output_type": "execute_result"
    }
   ],
   "source": [
    "ts.resample('5min', closed = 'left').sum()"
   ]
  },
  {
   "cell_type": "markdown",
   "id": "faced-wednesday",
   "metadata": {},
   "source": [
    " "
   ]
  },
  {
   "cell_type": "markdown",
   "id": "eastern-underground",
   "metadata": {},
   "source": [
    "> closed = 'right'를 넘기면 시작값을 그룹의 오른쪽에 포함시킨다."
   ]
  },
  {
   "cell_type": "code",
   "execution_count": 70,
   "id": "opening-paragraph",
   "metadata": {},
   "outputs": [
    {
     "data": {
      "text/plain": [
       "1999-12-31 23:55:00     0\n",
       "2000-01-01 00:00:00    15\n",
       "2000-01-01 00:05:00    40\n",
       "2000-01-01 00:10:00    11\n",
       "Freq: 5T, dtype: int32"
      ]
     },
     "execution_count": 70,
     "metadata": {},
     "output_type": "execute_result"
    }
   ],
   "source": [
    "ts.resample('5min', closed = 'right').sum()"
   ]
  },
  {
   "cell_type": "markdown",
   "id": "unsigned-institution",
   "metadata": {},
   "source": [
    " "
   ]
  },
  {
   "cell_type": "markdown",
   "id": "confidential-million",
   "metadata": {},
   "source": [
    "> 결과로 반환된 시계열은 각 그룹의 왼쪽 타임스탬프가 라벨로 지정되었다.  \n",
    "> label = 'right'를 넘겨서 각 그룹의 오른쪽 값을 라벨로 사용할 수 있다."
   ]
  },
  {
   "cell_type": "code",
   "execution_count": 71,
   "id": "looking-durham",
   "metadata": {},
   "outputs": [
    {
     "data": {
      "text/plain": [
       "2000-01-01 00:00:00     0\n",
       "2000-01-01 00:05:00    15\n",
       "2000-01-01 00:10:00    40\n",
       "2000-01-01 00:15:00    11\n",
       "Freq: 5T, dtype: int32"
      ]
     },
     "execution_count": 71,
     "metadata": {},
     "output_type": "execute_result"
    }
   ],
   "source": [
    "ts.resample('5min', closed = 'right', label = 'right').sum()"
   ]
  },
  {
   "cell_type": "markdown",
   "id": "filled-diameter",
   "metadata": {},
   "source": [
    " "
   ]
  },
  {
   "cell_type": "markdown",
   "id": "extraordinary-marijuana",
   "metadata": {},
   "source": [
    "> 반환된 결과의 색인을 특정 크기만큼 이동시키고 싶은 경우,  \n",
    "> 즉 그룹의 오른쪽 끝에서 1초를 빼서 타임스탬프가 참조하는 간격을 좀 더 명확히 보여주고 싶은 경우에는 loffset 메서드에 문자열이나 날짜 오프셋을 넘기면된다."
   ]
  },
  {
   "cell_type": "code",
   "execution_count": 74,
   "id": "published-titanium",
   "metadata": {},
   "outputs": [
    {
     "name": "stderr",
     "output_type": "stream",
     "text": [
      "<ipython-input-74-6a8b14b23fcb>:3: FutureWarning: 'loffset' in .resample() and in Grouper() is deprecated.\n",
      "\n",
      ">>> df.resample(freq=\"3s\", loffset=\"8H\")\n",
      "\n",
      "becomes:\n",
      "\n",
      ">>> from pandas.tseries.frequencies import to_offset\n",
      ">>> df = df.resample(freq=\"3s\").mean()\n",
      ">>> df.index = df.index.to_timestamp() + to_offset(\"8H\")\n",
      "\n",
      "  ts.resample('5min', closed = 'right',\n"
     ]
    },
    {
     "data": {
      "text/plain": [
       "1999-12-31 23:59:59     0\n",
       "2000-01-01 00:04:59    15\n",
       "2000-01-01 00:09:59    40\n",
       "2000-01-01 00:14:59    11\n",
       "Freq: 5T, dtype: int32"
      ]
     },
     "execution_count": 74,
     "metadata": {},
     "output_type": "execute_result"
    }
   ],
   "source": [
    "from pandas.tseries.frequencies import to_offset\n",
    "\n",
    "ts.resample('5min', closed = 'right',\n",
    "           label = 'right', loffset = '-1s').sum()"
   ]
  },
  {
   "cell_type": "markdown",
   "id": "compliant-battery",
   "metadata": {},
   "source": [
    " "
   ]
  },
  {
   "cell_type": "markdown",
   "id": "textile-turner",
   "metadata": {},
   "source": [
    "#### OHLC 리샘플링\n",
    "- 금융 분야에서 시계열 데이터를 집계하는 아주 흔한 방식은 각 버킷에 대해 4가지 값을 계산하는 것.\n",
    "    - 이 값은 시가(open), 고가(high), 저가(low), 종가(close)이며, 이를 OHLC라고 한다.\n",
    "    - how = 'ohlc'를 넘겨서 한 번에 이 값을 담고 있는 컬럼을 가지는 DataFrame을 얻을 수 있다."
   ]
  },
  {
   "cell_type": "code",
   "execution_count": 75,
   "id": "adverse-marijuana",
   "metadata": {},
   "outputs": [
    {
     "data": {
      "text/html": [
       "<div>\n",
       "<style scoped>\n",
       "    .dataframe tbody tr th:only-of-type {\n",
       "        vertical-align: middle;\n",
       "    }\n",
       "\n",
       "    .dataframe tbody tr th {\n",
       "        vertical-align: top;\n",
       "    }\n",
       "\n",
       "    .dataframe thead th {\n",
       "        text-align: right;\n",
       "    }\n",
       "</style>\n",
       "<table border=\"1\" class=\"dataframe\">\n",
       "  <thead>\n",
       "    <tr style=\"text-align: right;\">\n",
       "      <th></th>\n",
       "      <th>open</th>\n",
       "      <th>high</th>\n",
       "      <th>low</th>\n",
       "      <th>close</th>\n",
       "    </tr>\n",
       "  </thead>\n",
       "  <tbody>\n",
       "    <tr>\n",
       "      <th>2000-01-01 00:00:00</th>\n",
       "      <td>0</td>\n",
       "      <td>4</td>\n",
       "      <td>0</td>\n",
       "      <td>4</td>\n",
       "    </tr>\n",
       "    <tr>\n",
       "      <th>2000-01-01 00:05:00</th>\n",
       "      <td>5</td>\n",
       "      <td>9</td>\n",
       "      <td>5</td>\n",
       "      <td>9</td>\n",
       "    </tr>\n",
       "    <tr>\n",
       "      <th>2000-01-01 00:10:00</th>\n",
       "      <td>10</td>\n",
       "      <td>11</td>\n",
       "      <td>10</td>\n",
       "      <td>11</td>\n",
       "    </tr>\n",
       "  </tbody>\n",
       "</table>\n",
       "</div>"
      ],
      "text/plain": [
       "                     open  high  low  close\n",
       "2000-01-01 00:00:00     0     4    0      4\n",
       "2000-01-01 00:05:00     5     9    5      9\n",
       "2000-01-01 00:10:00    10    11   10     11"
      ]
     },
     "execution_count": 75,
     "metadata": {},
     "output_type": "execute_result"
    }
   ],
   "source": [
    "ts.resample('5min').ohlc()"
   ]
  },
  {
   "cell_type": "markdown",
   "id": "private-burning",
   "metadata": {},
   "source": [
    " "
   ]
  },
  {
   "cell_type": "markdown",
   "id": "emotional-community",
   "metadata": {},
   "source": [
    "### 11.6.2 업샘플링과 보간"
   ]
  },
  {
   "cell_type": "markdown",
   "id": "prescribed-african",
   "metadata": {},
   "source": [
    "> 하위 빈도에서 상위 빈도로 변환할 때는 집계가 필요하지 않다.  \n",
    "> 주간 데이터를 담고 있는 DataFrame을 살펴보자."
   ]
  },
  {
   "cell_type": "code",
   "execution_count": 80,
   "id": "spread-fusion",
   "metadata": {},
   "outputs": [
    {
     "data": {
      "text/html": [
       "<div>\n",
       "<style scoped>\n",
       "    .dataframe tbody tr th:only-of-type {\n",
       "        vertical-align: middle;\n",
       "    }\n",
       "\n",
       "    .dataframe tbody tr th {\n",
       "        vertical-align: top;\n",
       "    }\n",
       "\n",
       "    .dataframe thead th {\n",
       "        text-align: right;\n",
       "    }\n",
       "</style>\n",
       "<table border=\"1\" class=\"dataframe\">\n",
       "  <thead>\n",
       "    <tr style=\"text-align: right;\">\n",
       "      <th></th>\n",
       "      <th>Colorado</th>\n",
       "      <th>Texas</th>\n",
       "      <th>New York</th>\n",
       "      <th>Ohio</th>\n",
       "    </tr>\n",
       "  </thead>\n",
       "  <tbody>\n",
       "    <tr>\n",
       "      <th>2000-01-05</th>\n",
       "      <td>0.022063</td>\n",
       "      <td>0.743519</td>\n",
       "      <td>0.866836</td>\n",
       "      <td>0.253380</td>\n",
       "    </tr>\n",
       "    <tr>\n",
       "      <th>2000-01-12</th>\n",
       "      <td>-0.722388</td>\n",
       "      <td>-1.620124</td>\n",
       "      <td>-0.536472</td>\n",
       "      <td>-0.695123</td>\n",
       "    </tr>\n",
       "  </tbody>\n",
       "</table>\n",
       "</div>"
      ],
      "text/plain": [
       "            Colorado     Texas   New York      Ohio\n",
       "2000-01-05  0.022063  0.743519   0.866836  0.253380\n",
       "2000-01-12 -0.722388 -1.620124  -0.536472 -0.695123"
      ]
     },
     "execution_count": 80,
     "metadata": {},
     "output_type": "execute_result"
    }
   ],
   "source": [
    "frame = pd.DataFrame(np.random.randn(2,4),\n",
    "                     index = pd.date_range('1/1/2000', periods = 2, freq ='W-WED'),\n",
    "                     columns = ['Colorado', 'Texas',' New York', 'Ohio'])\n",
    "frame"
   ]
  },
  {
   "cell_type": "markdown",
   "id": "broadband-pacific",
   "metadata": {},
   "source": [
    " "
   ]
  },
  {
   "cell_type": "markdown",
   "id": "minute-specification",
   "metadata": {},
   "source": [
    "> 이 데이터에서 요약함수를 사용하면 그룹당 하나의 값이 들어가고 그 사이에 결측치가 들어간다.  \n",
    "> asfreq 메서드를 이용해서 어떤 요약함수도 사용하지 ㅇ낳고 상위 빈도로 리샘플링 해보자."
   ]
  },
  {
   "cell_type": "code",
   "execution_count": 82,
   "id": "proved-flour",
   "metadata": {},
   "outputs": [
    {
     "data": {
      "text/html": [
       "<div>\n",
       "<style scoped>\n",
       "    .dataframe tbody tr th:only-of-type {\n",
       "        vertical-align: middle;\n",
       "    }\n",
       "\n",
       "    .dataframe tbody tr th {\n",
       "        vertical-align: top;\n",
       "    }\n",
       "\n",
       "    .dataframe thead th {\n",
       "        text-align: right;\n",
       "    }\n",
       "</style>\n",
       "<table border=\"1\" class=\"dataframe\">\n",
       "  <thead>\n",
       "    <tr style=\"text-align: right;\">\n",
       "      <th></th>\n",
       "      <th>Colorado</th>\n",
       "      <th>Texas</th>\n",
       "      <th>New York</th>\n",
       "      <th>Ohio</th>\n",
       "    </tr>\n",
       "  </thead>\n",
       "  <tbody>\n",
       "    <tr>\n",
       "      <th>2000-01-05</th>\n",
       "      <td>0.022063</td>\n",
       "      <td>0.743519</td>\n",
       "      <td>0.866836</td>\n",
       "      <td>0.253380</td>\n",
       "    </tr>\n",
       "    <tr>\n",
       "      <th>2000-01-06</th>\n",
       "      <td>NaN</td>\n",
       "      <td>NaN</td>\n",
       "      <td>NaN</td>\n",
       "      <td>NaN</td>\n",
       "    </tr>\n",
       "    <tr>\n",
       "      <th>2000-01-07</th>\n",
       "      <td>NaN</td>\n",
       "      <td>NaN</td>\n",
       "      <td>NaN</td>\n",
       "      <td>NaN</td>\n",
       "    </tr>\n",
       "    <tr>\n",
       "      <th>2000-01-08</th>\n",
       "      <td>NaN</td>\n",
       "      <td>NaN</td>\n",
       "      <td>NaN</td>\n",
       "      <td>NaN</td>\n",
       "    </tr>\n",
       "    <tr>\n",
       "      <th>2000-01-09</th>\n",
       "      <td>NaN</td>\n",
       "      <td>NaN</td>\n",
       "      <td>NaN</td>\n",
       "      <td>NaN</td>\n",
       "    </tr>\n",
       "    <tr>\n",
       "      <th>2000-01-10</th>\n",
       "      <td>NaN</td>\n",
       "      <td>NaN</td>\n",
       "      <td>NaN</td>\n",
       "      <td>NaN</td>\n",
       "    </tr>\n",
       "    <tr>\n",
       "      <th>2000-01-11</th>\n",
       "      <td>NaN</td>\n",
       "      <td>NaN</td>\n",
       "      <td>NaN</td>\n",
       "      <td>NaN</td>\n",
       "    </tr>\n",
       "    <tr>\n",
       "      <th>2000-01-12</th>\n",
       "      <td>-0.722388</td>\n",
       "      <td>-1.620124</td>\n",
       "      <td>-0.536472</td>\n",
       "      <td>-0.695123</td>\n",
       "    </tr>\n",
       "  </tbody>\n",
       "</table>\n",
       "</div>"
      ],
      "text/plain": [
       "            Colorado     Texas   New York      Ohio\n",
       "2000-01-05  0.022063  0.743519   0.866836  0.253380\n",
       "2000-01-06       NaN       NaN        NaN       NaN\n",
       "2000-01-07       NaN       NaN        NaN       NaN\n",
       "2000-01-08       NaN       NaN        NaN       NaN\n",
       "2000-01-09       NaN       NaN        NaN       NaN\n",
       "2000-01-10       NaN       NaN        NaN       NaN\n",
       "2000-01-11       NaN       NaN        NaN       NaN\n",
       "2000-01-12 -0.722388 -1.620124  -0.536472 -0.695123"
      ]
     },
     "execution_count": 82,
     "metadata": {},
     "output_type": "execute_result"
    }
   ],
   "source": [
    "df_daily = frame.resample('D').asfreq()\n",
    "df_daily"
   ]
  },
  {
   "cell_type": "markdown",
   "id": "secure-marathon",
   "metadata": {},
   "source": [
    " "
   ]
  },
  {
   "cell_type": "markdown",
   "id": "abandoned-translation",
   "metadata": {},
   "source": [
    "> 수요일이 아닌 요일에는 이전 값을 채워서 보간을 수행한다고 가정하자.  \n",
    "> fillna와 reindex 매서드에서 사용했던 보간 메서드를 리샘플링에서도 사용할 수 있다."
   ]
  },
  {
   "cell_type": "code",
   "execution_count": 83,
   "id": "failing-rochester",
   "metadata": {},
   "outputs": [
    {
     "data": {
      "text/html": [
       "<div>\n",
       "<style scoped>\n",
       "    .dataframe tbody tr th:only-of-type {\n",
       "        vertical-align: middle;\n",
       "    }\n",
       "\n",
       "    .dataframe tbody tr th {\n",
       "        vertical-align: top;\n",
       "    }\n",
       "\n",
       "    .dataframe thead th {\n",
       "        text-align: right;\n",
       "    }\n",
       "</style>\n",
       "<table border=\"1\" class=\"dataframe\">\n",
       "  <thead>\n",
       "    <tr style=\"text-align: right;\">\n",
       "      <th></th>\n",
       "      <th>Colorado</th>\n",
       "      <th>Texas</th>\n",
       "      <th>New York</th>\n",
       "      <th>Ohio</th>\n",
       "    </tr>\n",
       "  </thead>\n",
       "  <tbody>\n",
       "    <tr>\n",
       "      <th>2000-01-05</th>\n",
       "      <td>0.022063</td>\n",
       "      <td>0.743519</td>\n",
       "      <td>0.866836</td>\n",
       "      <td>0.253380</td>\n",
       "    </tr>\n",
       "    <tr>\n",
       "      <th>2000-01-06</th>\n",
       "      <td>0.022063</td>\n",
       "      <td>0.743519</td>\n",
       "      <td>0.866836</td>\n",
       "      <td>0.253380</td>\n",
       "    </tr>\n",
       "    <tr>\n",
       "      <th>2000-01-07</th>\n",
       "      <td>0.022063</td>\n",
       "      <td>0.743519</td>\n",
       "      <td>0.866836</td>\n",
       "      <td>0.253380</td>\n",
       "    </tr>\n",
       "    <tr>\n",
       "      <th>2000-01-08</th>\n",
       "      <td>0.022063</td>\n",
       "      <td>0.743519</td>\n",
       "      <td>0.866836</td>\n",
       "      <td>0.253380</td>\n",
       "    </tr>\n",
       "    <tr>\n",
       "      <th>2000-01-09</th>\n",
       "      <td>0.022063</td>\n",
       "      <td>0.743519</td>\n",
       "      <td>0.866836</td>\n",
       "      <td>0.253380</td>\n",
       "    </tr>\n",
       "    <tr>\n",
       "      <th>2000-01-10</th>\n",
       "      <td>0.022063</td>\n",
       "      <td>0.743519</td>\n",
       "      <td>0.866836</td>\n",
       "      <td>0.253380</td>\n",
       "    </tr>\n",
       "    <tr>\n",
       "      <th>2000-01-11</th>\n",
       "      <td>0.022063</td>\n",
       "      <td>0.743519</td>\n",
       "      <td>0.866836</td>\n",
       "      <td>0.253380</td>\n",
       "    </tr>\n",
       "    <tr>\n",
       "      <th>2000-01-12</th>\n",
       "      <td>-0.722388</td>\n",
       "      <td>-1.620124</td>\n",
       "      <td>-0.536472</td>\n",
       "      <td>-0.695123</td>\n",
       "    </tr>\n",
       "  </tbody>\n",
       "</table>\n",
       "</div>"
      ],
      "text/plain": [
       "            Colorado     Texas   New York      Ohio\n",
       "2000-01-05  0.022063  0.743519   0.866836  0.253380\n",
       "2000-01-06  0.022063  0.743519   0.866836  0.253380\n",
       "2000-01-07  0.022063  0.743519   0.866836  0.253380\n",
       "2000-01-08  0.022063  0.743519   0.866836  0.253380\n",
       "2000-01-09  0.022063  0.743519   0.866836  0.253380\n",
       "2000-01-10  0.022063  0.743519   0.866836  0.253380\n",
       "2000-01-11  0.022063  0.743519   0.866836  0.253380\n",
       "2000-01-12 -0.722388 -1.620124  -0.536472 -0.695123"
      ]
     },
     "execution_count": 83,
     "metadata": {},
     "output_type": "execute_result"
    }
   ],
   "source": [
    "frame.resample('D').ffill()"
   ]
  },
  {
   "cell_type": "markdown",
   "id": "central-damages",
   "metadata": {},
   "source": [
    " "
   ]
  },
  {
   "cell_type": "markdown",
   "id": "instant-counter",
   "metadata": {},
   "source": [
    "> limit 옵션을 사용해서 보간법을 적용할 범위를 지정하는 것도 가능하다."
   ]
  },
  {
   "cell_type": "code",
   "execution_count": 85,
   "id": "difficult-sixth",
   "metadata": {},
   "outputs": [
    {
     "data": {
      "text/html": [
       "<div>\n",
       "<style scoped>\n",
       "    .dataframe tbody tr th:only-of-type {\n",
       "        vertical-align: middle;\n",
       "    }\n",
       "\n",
       "    .dataframe tbody tr th {\n",
       "        vertical-align: top;\n",
       "    }\n",
       "\n",
       "    .dataframe thead th {\n",
       "        text-align: right;\n",
       "    }\n",
       "</style>\n",
       "<table border=\"1\" class=\"dataframe\">\n",
       "  <thead>\n",
       "    <tr style=\"text-align: right;\">\n",
       "      <th></th>\n",
       "      <th>Colorado</th>\n",
       "      <th>Texas</th>\n",
       "      <th>New York</th>\n",
       "      <th>Ohio</th>\n",
       "    </tr>\n",
       "  </thead>\n",
       "  <tbody>\n",
       "    <tr>\n",
       "      <th>2000-01-05</th>\n",
       "      <td>0.022063</td>\n",
       "      <td>0.743519</td>\n",
       "      <td>0.866836</td>\n",
       "      <td>0.253380</td>\n",
       "    </tr>\n",
       "    <tr>\n",
       "      <th>2000-01-06</th>\n",
       "      <td>0.022063</td>\n",
       "      <td>0.743519</td>\n",
       "      <td>0.866836</td>\n",
       "      <td>0.253380</td>\n",
       "    </tr>\n",
       "    <tr>\n",
       "      <th>2000-01-07</th>\n",
       "      <td>0.022063</td>\n",
       "      <td>0.743519</td>\n",
       "      <td>0.866836</td>\n",
       "      <td>0.253380</td>\n",
       "    </tr>\n",
       "    <tr>\n",
       "      <th>2000-01-08</th>\n",
       "      <td>NaN</td>\n",
       "      <td>NaN</td>\n",
       "      <td>NaN</td>\n",
       "      <td>NaN</td>\n",
       "    </tr>\n",
       "    <tr>\n",
       "      <th>2000-01-09</th>\n",
       "      <td>NaN</td>\n",
       "      <td>NaN</td>\n",
       "      <td>NaN</td>\n",
       "      <td>NaN</td>\n",
       "    </tr>\n",
       "    <tr>\n",
       "      <th>2000-01-10</th>\n",
       "      <td>NaN</td>\n",
       "      <td>NaN</td>\n",
       "      <td>NaN</td>\n",
       "      <td>NaN</td>\n",
       "    </tr>\n",
       "    <tr>\n",
       "      <th>2000-01-11</th>\n",
       "      <td>NaN</td>\n",
       "      <td>NaN</td>\n",
       "      <td>NaN</td>\n",
       "      <td>NaN</td>\n",
       "    </tr>\n",
       "    <tr>\n",
       "      <th>2000-01-12</th>\n",
       "      <td>-0.722388</td>\n",
       "      <td>-1.620124</td>\n",
       "      <td>-0.536472</td>\n",
       "      <td>-0.695123</td>\n",
       "    </tr>\n",
       "  </tbody>\n",
       "</table>\n",
       "</div>"
      ],
      "text/plain": [
       "            Colorado     Texas   New York      Ohio\n",
       "2000-01-05  0.022063  0.743519   0.866836  0.253380\n",
       "2000-01-06  0.022063  0.743519   0.866836  0.253380\n",
       "2000-01-07  0.022063  0.743519   0.866836  0.253380\n",
       "2000-01-08       NaN       NaN        NaN       NaN\n",
       "2000-01-09       NaN       NaN        NaN       NaN\n",
       "2000-01-10       NaN       NaN        NaN       NaN\n",
       "2000-01-11       NaN       NaN        NaN       NaN\n",
       "2000-01-12 -0.722388 -1.620124  -0.536472 -0.695123"
      ]
     },
     "execution_count": 85,
     "metadata": {},
     "output_type": "execute_result"
    }
   ],
   "source": [
    "frame.resample('D').ffill(limit =2 )"
   ]
  },
  {
   "cell_type": "markdown",
   "id": "assigned-dependence",
   "metadata": {},
   "source": [
    " "
   ]
  },
  {
   "cell_type": "markdown",
   "id": "dangerous-examination",
   "metadata": {},
   "source": [
    "> 특히 새로운 날자 색인은 이전 색인과 겹쳐질 필요가 전혀 없다."
   ]
  },
  {
   "cell_type": "code",
   "execution_count": 86,
   "id": "split-montreal",
   "metadata": {},
   "outputs": [
    {
     "data": {
      "text/html": [
       "<div>\n",
       "<style scoped>\n",
       "    .dataframe tbody tr th:only-of-type {\n",
       "        vertical-align: middle;\n",
       "    }\n",
       "\n",
       "    .dataframe tbody tr th {\n",
       "        vertical-align: top;\n",
       "    }\n",
       "\n",
       "    .dataframe thead th {\n",
       "        text-align: right;\n",
       "    }\n",
       "</style>\n",
       "<table border=\"1\" class=\"dataframe\">\n",
       "  <thead>\n",
       "    <tr style=\"text-align: right;\">\n",
       "      <th></th>\n",
       "      <th>Colorado</th>\n",
       "      <th>Texas</th>\n",
       "      <th>New York</th>\n",
       "      <th>Ohio</th>\n",
       "    </tr>\n",
       "  </thead>\n",
       "  <tbody>\n",
       "    <tr>\n",
       "      <th>2000-01-06</th>\n",
       "      <td>0.022063</td>\n",
       "      <td>0.743519</td>\n",
       "      <td>0.866836</td>\n",
       "      <td>0.253380</td>\n",
       "    </tr>\n",
       "    <tr>\n",
       "      <th>2000-01-13</th>\n",
       "      <td>-0.722388</td>\n",
       "      <td>-1.620124</td>\n",
       "      <td>-0.536472</td>\n",
       "      <td>-0.695123</td>\n",
       "    </tr>\n",
       "  </tbody>\n",
       "</table>\n",
       "</div>"
      ],
      "text/plain": [
       "            Colorado     Texas   New York      Ohio\n",
       "2000-01-06  0.022063  0.743519   0.866836  0.253380\n",
       "2000-01-13 -0.722388 -1.620124  -0.536472 -0.695123"
      ]
     },
     "execution_count": 86,
     "metadata": {},
     "output_type": "execute_result"
    }
   ],
   "source": [
    "frame.resample('W-THU').ffill()"
   ]
  },
  {
   "cell_type": "markdown",
   "id": "collect-impossible",
   "metadata": {},
   "source": [
    " "
   ]
  },
  {
   "cell_type": "markdown",
   "id": "buried-species",
   "metadata": {},
   "source": [
    "### 11.6.3 기간 리샘플링"
   ]
  },
  {
   "cell_type": "markdown",
   "id": "plain-likelihood",
   "metadata": {},
   "source": [
    "> 기간으로 색인된 데이터를 리샘플링하는 것은 타임스탬프와 유사하다."
   ]
  },
  {
   "cell_type": "code",
   "execution_count": 89,
   "id": "judicial-prototype",
   "metadata": {},
   "outputs": [
    {
     "data": {
      "text/html": [
       "<div>\n",
       "<style scoped>\n",
       "    .dataframe tbody tr th:only-of-type {\n",
       "        vertical-align: middle;\n",
       "    }\n",
       "\n",
       "    .dataframe tbody tr th {\n",
       "        vertical-align: top;\n",
       "    }\n",
       "\n",
       "    .dataframe thead th {\n",
       "        text-align: right;\n",
       "    }\n",
       "</style>\n",
       "<table border=\"1\" class=\"dataframe\">\n",
       "  <thead>\n",
       "    <tr style=\"text-align: right;\">\n",
       "      <th></th>\n",
       "      <th>Colorado</th>\n",
       "      <th>Texas</th>\n",
       "      <th>New York</th>\n",
       "      <th>Ohio</th>\n",
       "    </tr>\n",
       "  </thead>\n",
       "  <tbody>\n",
       "    <tr>\n",
       "      <th>2000-01</th>\n",
       "      <td>1.430094</td>\n",
       "      <td>-0.461197</td>\n",
       "      <td>0.797740</td>\n",
       "      <td>-0.032173</td>\n",
       "    </tr>\n",
       "    <tr>\n",
       "      <th>2000-02</th>\n",
       "      <td>-2.107550</td>\n",
       "      <td>0.147225</td>\n",
       "      <td>-1.516720</td>\n",
       "      <td>-1.460835</td>\n",
       "    </tr>\n",
       "    <tr>\n",
       "      <th>2000-03</th>\n",
       "      <td>-0.175305</td>\n",
       "      <td>0.258221</td>\n",
       "      <td>-0.894751</td>\n",
       "      <td>1.388394</td>\n",
       "    </tr>\n",
       "    <tr>\n",
       "      <th>2000-04</th>\n",
       "      <td>-0.259374</td>\n",
       "      <td>-0.740422</td>\n",
       "      <td>-0.860424</td>\n",
       "      <td>0.152037</td>\n",
       "    </tr>\n",
       "    <tr>\n",
       "      <th>2000-05</th>\n",
       "      <td>0.594652</td>\n",
       "      <td>1.120225</td>\n",
       "      <td>-0.194435</td>\n",
       "      <td>-0.424841</td>\n",
       "    </tr>\n",
       "  </tbody>\n",
       "</table>\n",
       "</div>"
      ],
      "text/plain": [
       "         Colorado     Texas  New York      Ohio\n",
       "2000-01  1.430094 -0.461197  0.797740 -0.032173\n",
       "2000-02 -2.107550  0.147225 -1.516720 -1.460835\n",
       "2000-03 -0.175305  0.258221 -0.894751  1.388394\n",
       "2000-04 -0.259374 -0.740422 -0.860424  0.152037\n",
       "2000-05  0.594652  1.120225 -0.194435 -0.424841"
      ]
     },
     "execution_count": 89,
     "metadata": {},
     "output_type": "execute_result"
    }
   ],
   "source": [
    "frame = pd.DataFrame(np.random.randn(24,4),\n",
    "                     index = pd.period_range('1-2000','12-2001', freq = 'M'),\n",
    "                     columns = ['Colorado', 'Texas', 'New York', 'Ohio'])\n",
    "frame[:5]"
   ]
  },
  {
   "cell_type": "code",
   "execution_count": 91,
   "id": "palestinian-possession",
   "metadata": {},
   "outputs": [
    {
     "data": {
      "text/html": [
       "<div>\n",
       "<style scoped>\n",
       "    .dataframe tbody tr th:only-of-type {\n",
       "        vertical-align: middle;\n",
       "    }\n",
       "\n",
       "    .dataframe tbody tr th {\n",
       "        vertical-align: top;\n",
       "    }\n",
       "\n",
       "    .dataframe thead th {\n",
       "        text-align: right;\n",
       "    }\n",
       "</style>\n",
       "<table border=\"1\" class=\"dataframe\">\n",
       "  <thead>\n",
       "    <tr style=\"text-align: right;\">\n",
       "      <th></th>\n",
       "      <th>Colorado</th>\n",
       "      <th>Texas</th>\n",
       "      <th>New York</th>\n",
       "      <th>Ohio</th>\n",
       "    </tr>\n",
       "  </thead>\n",
       "  <tbody>\n",
       "    <tr>\n",
       "      <th>2000</th>\n",
       "      <td>-0.150961</td>\n",
       "      <td>-0.113095</td>\n",
       "      <td>0.057595</td>\n",
       "      <td>0.373863</td>\n",
       "    </tr>\n",
       "    <tr>\n",
       "      <th>2001</th>\n",
       "      <td>-0.298454</td>\n",
       "      <td>-0.427142</td>\n",
       "      <td>-0.253441</td>\n",
       "      <td>0.409313</td>\n",
       "    </tr>\n",
       "  </tbody>\n",
       "</table>\n",
       "</div>"
      ],
      "text/plain": [
       "      Colorado     Texas  New York      Ohio\n",
       "2000 -0.150961 -0.113095  0.057595  0.373863\n",
       "2001 -0.298454 -0.427142 -0.253441  0.409313"
      ]
     },
     "execution_count": 91,
     "metadata": {},
     "output_type": "execute_result"
    }
   ],
   "source": [
    "annual_frame = frame.resample('A-DEC').mean()\n",
    "annual_frame"
   ]
  },
  {
   "cell_type": "markdown",
   "id": "related-baseline",
   "metadata": {},
   "source": [
    " "
   ]
  },
  {
   "cell_type": "markdown",
   "id": "spread-estate",
   "metadata": {},
   "source": [
    "> 업샘플링은 asfreq메서드처럼 리샘플링하기 전에 새로운 빈도에서 구간의 끝을 어느 쪽에 두어야 할지 미리 결정해야 한다.  \n",
    "> convention 인자의 기본값은 'start'지만 'end'로 지정할 수도 있다."
   ]
  },
  {
   "cell_type": "code",
   "execution_count": 95,
   "id": "critical-thanksgiving",
   "metadata": {},
   "outputs": [
    {
     "data": {
      "text/html": [
       "<div>\n",
       "<style scoped>\n",
       "    .dataframe tbody tr th:only-of-type {\n",
       "        vertical-align: middle;\n",
       "    }\n",
       "\n",
       "    .dataframe tbody tr th {\n",
       "        vertical-align: top;\n",
       "    }\n",
       "\n",
       "    .dataframe thead th {\n",
       "        text-align: right;\n",
       "    }\n",
       "</style>\n",
       "<table border=\"1\" class=\"dataframe\">\n",
       "  <thead>\n",
       "    <tr style=\"text-align: right;\">\n",
       "      <th></th>\n",
       "      <th>Colorado</th>\n",
       "      <th>Texas</th>\n",
       "      <th>New York</th>\n",
       "      <th>Ohio</th>\n",
       "    </tr>\n",
       "  </thead>\n",
       "  <tbody>\n",
       "    <tr>\n",
       "      <th>2000Q1</th>\n",
       "      <td>-0.150961</td>\n",
       "      <td>-0.113095</td>\n",
       "      <td>0.057595</td>\n",
       "      <td>0.373863</td>\n",
       "    </tr>\n",
       "    <tr>\n",
       "      <th>2000Q2</th>\n",
       "      <td>-0.150961</td>\n",
       "      <td>-0.113095</td>\n",
       "      <td>0.057595</td>\n",
       "      <td>0.373863</td>\n",
       "    </tr>\n",
       "    <tr>\n",
       "      <th>2000Q3</th>\n",
       "      <td>-0.150961</td>\n",
       "      <td>-0.113095</td>\n",
       "      <td>0.057595</td>\n",
       "      <td>0.373863</td>\n",
       "    </tr>\n",
       "    <tr>\n",
       "      <th>2000Q4</th>\n",
       "      <td>-0.150961</td>\n",
       "      <td>-0.113095</td>\n",
       "      <td>0.057595</td>\n",
       "      <td>0.373863</td>\n",
       "    </tr>\n",
       "    <tr>\n",
       "      <th>2001Q1</th>\n",
       "      <td>-0.298454</td>\n",
       "      <td>-0.427142</td>\n",
       "      <td>-0.253441</td>\n",
       "      <td>0.409313</td>\n",
       "    </tr>\n",
       "    <tr>\n",
       "      <th>2001Q2</th>\n",
       "      <td>-0.298454</td>\n",
       "      <td>-0.427142</td>\n",
       "      <td>-0.253441</td>\n",
       "      <td>0.409313</td>\n",
       "    </tr>\n",
       "    <tr>\n",
       "      <th>2001Q3</th>\n",
       "      <td>-0.298454</td>\n",
       "      <td>-0.427142</td>\n",
       "      <td>-0.253441</td>\n",
       "      <td>0.409313</td>\n",
       "    </tr>\n",
       "    <tr>\n",
       "      <th>2001Q4</th>\n",
       "      <td>-0.298454</td>\n",
       "      <td>-0.427142</td>\n",
       "      <td>-0.253441</td>\n",
       "      <td>0.409313</td>\n",
       "    </tr>\n",
       "  </tbody>\n",
       "</table>\n",
       "</div>"
      ],
      "text/plain": [
       "        Colorado     Texas  New York      Ohio\n",
       "2000Q1 -0.150961 -0.113095  0.057595  0.373863\n",
       "2000Q2 -0.150961 -0.113095  0.057595  0.373863\n",
       "2000Q3 -0.150961 -0.113095  0.057595  0.373863\n",
       "2000Q4 -0.150961 -0.113095  0.057595  0.373863\n",
       "2001Q1 -0.298454 -0.427142 -0.253441  0.409313\n",
       "2001Q2 -0.298454 -0.427142 -0.253441  0.409313\n",
       "2001Q3 -0.298454 -0.427142 -0.253441  0.409313\n",
       "2001Q4 -0.298454 -0.427142 -0.253441  0.409313"
      ]
     },
     "execution_count": 95,
     "metadata": {},
     "output_type": "execute_result"
    }
   ],
   "source": [
    "# Q-DEC : 12월을 연도마감으로 하는 분기 주기\n",
    "annual_frame.resample('Q-DEC').ffill()"
   ]
  },
  {
   "cell_type": "code",
   "execution_count": 96,
   "id": "absolute-innocent",
   "metadata": {},
   "outputs": [
    {
     "data": {
      "text/html": [
       "<div>\n",
       "<style scoped>\n",
       "    .dataframe tbody tr th:only-of-type {\n",
       "        vertical-align: middle;\n",
       "    }\n",
       "\n",
       "    .dataframe tbody tr th {\n",
       "        vertical-align: top;\n",
       "    }\n",
       "\n",
       "    .dataframe thead th {\n",
       "        text-align: right;\n",
       "    }\n",
       "</style>\n",
       "<table border=\"1\" class=\"dataframe\">\n",
       "  <thead>\n",
       "    <tr style=\"text-align: right;\">\n",
       "      <th></th>\n",
       "      <th>Colorado</th>\n",
       "      <th>Texas</th>\n",
       "      <th>New York</th>\n",
       "      <th>Ohio</th>\n",
       "    </tr>\n",
       "  </thead>\n",
       "  <tbody>\n",
       "    <tr>\n",
       "      <th>2000Q4</th>\n",
       "      <td>-0.150961</td>\n",
       "      <td>-0.113095</td>\n",
       "      <td>0.057595</td>\n",
       "      <td>0.373863</td>\n",
       "    </tr>\n",
       "    <tr>\n",
       "      <th>2001Q1</th>\n",
       "      <td>-0.150961</td>\n",
       "      <td>-0.113095</td>\n",
       "      <td>0.057595</td>\n",
       "      <td>0.373863</td>\n",
       "    </tr>\n",
       "    <tr>\n",
       "      <th>2001Q2</th>\n",
       "      <td>-0.150961</td>\n",
       "      <td>-0.113095</td>\n",
       "      <td>0.057595</td>\n",
       "      <td>0.373863</td>\n",
       "    </tr>\n",
       "    <tr>\n",
       "      <th>2001Q3</th>\n",
       "      <td>-0.150961</td>\n",
       "      <td>-0.113095</td>\n",
       "      <td>0.057595</td>\n",
       "      <td>0.373863</td>\n",
       "    </tr>\n",
       "    <tr>\n",
       "      <th>2001Q4</th>\n",
       "      <td>-0.298454</td>\n",
       "      <td>-0.427142</td>\n",
       "      <td>-0.253441</td>\n",
       "      <td>0.409313</td>\n",
       "    </tr>\n",
       "  </tbody>\n",
       "</table>\n",
       "</div>"
      ],
      "text/plain": [
       "        Colorado     Texas  New York      Ohio\n",
       "2000Q4 -0.150961 -0.113095  0.057595  0.373863\n",
       "2001Q1 -0.150961 -0.113095  0.057595  0.373863\n",
       "2001Q2 -0.150961 -0.113095  0.057595  0.373863\n",
       "2001Q3 -0.150961 -0.113095  0.057595  0.373863\n",
       "2001Q4 -0.298454 -0.427142 -0.253441  0.409313"
      ]
     },
     "execution_count": 96,
     "metadata": {},
     "output_type": "execute_result"
    }
   ],
   "source": [
    "annual_frame.resample('Q-DEC', convention = 'end').ffill()"
   ]
  },
  {
   "cell_type": "markdown",
   "id": "returning-green",
   "metadata": {},
   "source": [
    " "
   ]
  },
  {
   "cell_type": "markdown",
   "id": "bored-russell",
   "metadata": {},
   "source": [
    "기간의 업샘플링과 다운샘플링은 좀 더 엄격하다.\n",
    "- 다운샘플링의 경우 대상 빈도는 반드시 원본 빈도의 `하위 기간`이어야 한다.\n",
    "- 업샘플링의 경우 대상 빈도는 반드시 원본 빈도의 `상위 기간`이어야 한다."
   ]
  }
 ],
 "metadata": {
  "kernelspec": {
   "display_name": "Python 3",
   "language": "python",
   "name": "python3"
  },
  "language_info": {
   "codemirror_mode": {
    "name": "ipython",
    "version": 3
   },
   "file_extension": ".py",
   "mimetype": "text/x-python",
   "name": "python",
   "nbconvert_exporter": "python",
   "pygments_lexer": "ipython3",
   "version": "3.8.10"
  }
 },
 "nbformat": 4,
 "nbformat_minor": 5
}
