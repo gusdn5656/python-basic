{
 "cells": [
  {
   "cell_type": "markdown",
   "id": "bulgarian-foster",
   "metadata": {},
   "source": [
    "# Chapter 11. 시계열"
   ]
  },
  {
   "cell_type": "markdown",
   "id": "global-stress",
   "metadata": {},
   "source": [
    "- 대부분의 시계열은 고정 빈도(Fixed Frequency)로 표현되는데 데이터가 존재하는 지점이 특정 규칙에 따라 고정 간격을 가지게 된다.\n",
    "- 시계열은 또한 고정된 단위나 시간 혹은 단위들 간의 간격으로 존재하지 않고 불규칙적인 모습으로 표현될 수도 있다.\n",
    "- 어떻게 시계열 데이터를 표시하고 참조할지는 애플리케이션에 의존적이며 다음 중 한 유형일 수 있다.\n",
    "    - 시간 내에서 특정 순간의 타임 스탬프\n",
    "    - 2007년 1월이나 2010년 전체 같은 고정된 기간\n",
    "    - 시작과 끝 타임스탬프로 표시되는 시간 간격. 기간은 시간 간격의 특수한 경우로 생각할 수 있다.\n",
    "- 가장 단순하고 널리 사용되는 시계열의 종류는 타임스탬프로 색인된 데이터다.\n",
    "- pandas는 표준 시계열 도구와 데이터 알고리즘을 제공한다."
   ]
  },
  {
   "cell_type": "markdown",
   "id": "tutorial-array",
   "metadata": {},
   "source": [
    " "
   ]
  },
  {
   "cell_type": "markdown",
   "id": "regulation-bookmark",
   "metadata": {},
   "source": [
    "## 11.1 날짜, 시간 자료형, 도구\n",
    "- 파이썬 표준 라이브러리는 `날짜와 시간을 위한 자료형`과 `달력 관련 기능`을 제공하는 자료형이 존재한다.  \n",
    "- datetime, time 그리고 calendar 모듈은 처음 공부하기에 좋은 주제다.\n",
    "- datetime.datetime 형이나 단순한 datetime이 널리 사용되고 있다."
   ]
  },
  {
   "cell_type": "code",
   "execution_count": 2,
   "id": "dimensional-shape",
   "metadata": {},
   "outputs": [
    {
     "data": {
      "text/plain": [
       "datetime.datetime(2021, 10, 4, 21, 20, 12, 873658)"
      ]
     },
     "execution_count": 2,
     "metadata": {},
     "output_type": "execute_result"
    }
   ],
   "source": [
    "from datetime import datetime\n",
    "\n",
    "now = datetime.now()\n",
    "now"
   ]
  },
  {
   "cell_type": "code",
   "execution_count": 3,
   "id": "scenic-skill",
   "metadata": {},
   "outputs": [
    {
     "data": {
      "text/plain": [
       "(2021, 10, 4)"
      ]
     },
     "execution_count": 3,
     "metadata": {},
     "output_type": "execute_result"
    }
   ],
   "source": [
    "now.year, now.month, now.day"
   ]
  },
  {
   "cell_type": "markdown",
   "id": "compound-truth",
   "metadata": {},
   "source": [
    " "
   ]
  },
  {
   "cell_type": "markdown",
   "id": "painted-decade",
   "metadata": {},
   "source": [
    "> datetime은 날짜와 시간을 모두 저장하며 마이크로초까지 지원한다.  \n",
    "> datetime.timedelta는 두 datetime 객체 간의 시간적인 차이를 표현할 수 있다."
   ]
  },
  {
   "cell_type": "code",
   "execution_count": 6,
   "id": "pressed-forum",
   "metadata": {},
   "outputs": [
    {
     "data": {
      "text/plain": [
       "datetime.timedelta(days=926, seconds=56700)"
      ]
     },
     "execution_count": 6,
     "metadata": {},
     "output_type": "execute_result"
    }
   ],
   "source": [
    "delta = datetime(2011, 1, 7) - datetime(2008, 6, 24, 8, 15)\n",
    "delta"
   ]
  },
  {
   "cell_type": "code",
   "execution_count": 7,
   "id": "urban-comparative",
   "metadata": {},
   "outputs": [
    {
     "data": {
      "text/plain": [
       "(926, 56700)"
      ]
     },
     "execution_count": 7,
     "metadata": {},
     "output_type": "execute_result"
    }
   ],
   "source": [
    "delta.days, delta.seconds"
   ]
  },
  {
   "cell_type": "markdown",
   "id": "prospective-ancient",
   "metadata": {},
   "source": [
    " "
   ]
  },
  {
   "cell_type": "markdown",
   "id": "floral-niagara",
   "metadata": {},
   "source": [
    "> timedelta를 더하거나 빼면 그만큼의 시간이 datetime 객체에 적용되어 새로운 객체를 만들 수 있다."
   ]
  },
  {
   "cell_type": "code",
   "execution_count": 9,
   "id": "center-engineering",
   "metadata": {},
   "outputs": [
    {
     "data": {
      "text/plain": [
       "datetime.datetime(2010, 12, 14, 0, 0)"
      ]
     },
     "execution_count": 9,
     "metadata": {},
     "output_type": "execute_result"
    }
   ],
   "source": [
    "from datetime import timedelta\n",
    "\n",
    "start = datetime(2011, 1, 7)\n",
    "\n",
    "start - 2*timedelta(12)"
   ]
  },
  {
   "cell_type": "markdown",
   "id": "endless-organic",
   "metadata": {},
   "source": [
    " "
   ]
  },
  {
   "cell_type": "markdown",
   "id": "dressed-accommodation",
   "metadata": {},
   "source": [
    "#### datetime 모듈의 자료형\n",
    "\n",
    "<details>\n",
    "<summary>datetime 모듈의 자료형</summary>\n",
    "<div markdown=\"1\">\n",
    "\n",
    "|자료형|설명|\n",
    "|:--|:--|\n",
    "|date|그레고리안 달력을 사용해서 날짜(연,월,일)를 저장한다.|\n",
    "|time|하루의 시간을 시,분,초,마이크로초 단위로 저장한다.|\n",
    "|datetime|날짜와 시간을 모두 저장한다.|\n",
    "|timedelta|두 datetime 값 간의 차이(일, 초, 마이크로초)를 표현한다.|\n",
    "|tzinfo|지역시간대를 저장하기 위한 기본 자료형|\n",
    "\n",
    "    \n",
    "</div>\n",
    "</details>"
   ]
  },
  {
   "cell_type": "markdown",
   "id": "fifteen-bidding",
   "metadata": {},
   "source": [
    " "
   ]
  },
  {
   "cell_type": "markdown",
   "id": "successful-annotation",
   "metadata": {},
   "source": [
    "### 11.1.1 문자열을 datetime으로 변환하기"
   ]
  },
  {
   "cell_type": "markdown",
   "id": "endless-catch",
   "metadata": {},
   "source": [
    "> datetime 객체와 나중에 소개할 pandas의 Timestamp 객체는 str 메서드나 strftime 메서드에 포맷 규칙을 넘겨서 문자열로 나타낼 수 있다."
   ]
  },
  {
   "cell_type": "code",
   "execution_count": 14,
   "id": "according-desert",
   "metadata": {},
   "outputs": [
    {
     "data": {
      "text/plain": [
       "'2011-01-03 00:00:00'"
      ]
     },
     "execution_count": 14,
     "metadata": {},
     "output_type": "execute_result"
    }
   ],
   "source": [
    "stamp = datetime(2011, 1, 3)\n",
    "\n",
    "str(stamp)"
   ]
  },
  {
   "cell_type": "code",
   "execution_count": 17,
   "id": "entire-maintenance",
   "metadata": {},
   "outputs": [
    {
     "data": {
      "text/plain": [
       "'2011-01-03'"
      ]
     },
     "execution_count": 17,
     "metadata": {},
     "output_type": "execute_result"
    }
   ],
   "source": [
    "stamp.strftime(\"%Y-%m-%d\")"
   ]
  },
  {
   "cell_type": "markdown",
   "id": "contained-progressive",
   "metadata": {},
   "source": [
    " "
   ]
  },
  {
   "cell_type": "markdown",
   "id": "quiet-walnut",
   "metadata": {},
   "source": [
    "#### Datetime 포맷 규칙 (ISO C89 호환)\n",
    "\n",
    "<details>\n",
    "<summary>Datetime 포맷 규칙 (ISO C89 호환)</summary>\n",
    "<div markdown=\"1\">\n",
    "\n",
    "|포맷|설명|\n",
    "|:--|:--|\n",
    "|%Y|4자리 연도|\n",
    "|%y|2자리 연도|\n",
    "|%m|2자리 월 [01,12]|\n",
    "|%d|2자리 일 [01,31]|\n",
    "|%H|시간(24시간 형식) [00,23]|\n",
    "|%I|시간(12시간 형식) [01,12]|\n",
    "|%M|2자리 분 [00,59]|\n",
    "|%S|초 [00,61] (60,61은 윤초)|\n",
    "|%w|정수로 나타낸 요일 [0(일요일), 6]|\n",
    "|%U|연중 주차 [00,53]. 일요일을 그 주의 첫 번째 날로 간주하며, 그 해에서 첫 번째 일요일 앞에 있는 날은 0주차가 된다.|\n",
    "|%W|연중 주차 [00,53]. 월요일을 그 주의 첫 번째 날로 간주하며, 그 해에서 첫 번째 월요일 앞에 있는 날은 0주차가 된다.|\n",
    "|%z|UTC 시간대 오프셋을 +HHMM 또는 -HHMM으로 표현한다. 만약 시간대를 신경 쓰지 않는다면 비워둔다.|\n",
    "|%F|%Y-%m-%d 형식에 대한 축약 (예:2012-4-18)|\n",
    "|%D|%m/%d/%y 형식에 대한 축약 (예:04/18/12)|\n",
    "    \n",
    "</div>\n",
    "</details>"
   ]
  },
  {
   "cell_type": "markdown",
   "id": "aboriginal-walnut",
   "metadata": {},
   "source": [
    " "
   ]
  },
  {
   "cell_type": "markdown",
   "id": "cordless-legislation",
   "metadata": {},
   "source": [
    "> 이 포맷 코드는 datetime.strptime을 사용해서 문자열을 날자로 변환할 때 사용할 수 있다."
   ]
  },
  {
   "cell_type": "code",
   "execution_count": 18,
   "id": "exempt-supplier",
   "metadata": {},
   "outputs": [
    {
     "data": {
      "text/plain": [
       "datetime.datetime(2011, 1, 3, 0, 0)"
      ]
     },
     "execution_count": 18,
     "metadata": {},
     "output_type": "execute_result"
    }
   ],
   "source": [
    "value = \"2011-01-03\"\n",
    "datetime.strptime(value, '%Y-%m-%d')"
   ]
  },
  {
   "cell_type": "code",
   "execution_count": 19,
   "id": "contrary-movie",
   "metadata": {},
   "outputs": [
    {
     "data": {
      "text/plain": [
       "[datetime.datetime(2011, 7, 6, 0, 0), datetime.datetime(2011, 8, 6, 0, 0)]"
      ]
     },
     "execution_count": 19,
     "metadata": {},
     "output_type": "execute_result"
    }
   ],
   "source": [
    "datestrs = ['7/6/2011', '8/6/2011']\n",
    "\n",
    "[datetime.strptime(x, '%m/%d/%Y') for x in datestrs]"
   ]
  },
  {
   "cell_type": "markdown",
   "id": "aging-spectacular",
   "metadata": {},
   "source": [
    " "
   ]
  },
  {
   "cell_type": "markdown",
   "id": "rubber-toyota",
   "metadata": {},
   "source": [
    "> datetime.strptime은 알려진 형식의 날자를 파싱하는 최적의 방법이다.  \n",
    "> 하지만, 서드파티 패키지인 dateutil에 포함된 parser.parse 메서드를 사용하면 보다더 쉽게 변환할 수 있다. (pandas를 설치할 때 자동으로 함게 설치된다.)"
   ]
  },
  {
   "cell_type": "code",
   "execution_count": 20,
   "id": "vulnerable-marina",
   "metadata": {},
   "outputs": [
    {
     "data": {
      "text/plain": [
       "datetime.datetime(2011, 1, 3, 0, 0)"
      ]
     },
     "execution_count": 20,
     "metadata": {},
     "output_type": "execute_result"
    }
   ],
   "source": [
    "from dateutil.parser import parse\n",
    "\n",
    "parse('2011-01-03')"
   ]
  },
  {
   "cell_type": "markdown",
   "id": "encouraging-pastor",
   "metadata": {},
   "source": [
    " "
   ]
  },
  {
   "cell_type": "markdown",
   "id": "suburban-blair",
   "metadata": {},
   "source": [
    "> dateutil은 거의 대부분의 사람이 인지하는 날자 표현 방식을 파싱할 수 있다."
   ]
  },
  {
   "cell_type": "code",
   "execution_count": 21,
   "id": "exterior-renaissance",
   "metadata": {},
   "outputs": [
    {
     "data": {
      "text/plain": [
       "datetime.datetime(1997, 1, 31, 22, 45)"
      ]
     },
     "execution_count": 21,
     "metadata": {},
     "output_type": "execute_result"
    }
   ],
   "source": [
    "parse(\"Jan 31, 1997 10:45 PM\")"
   ]
  },
  {
   "cell_type": "markdown",
   "id": "flying-blink",
   "metadata": {},
   "source": [
    " "
   ]
  },
  {
   "cell_type": "markdown",
   "id": "educated-fraud",
   "metadata": {},
   "source": [
    "> 국제 로케일의 경우 날짜가 월 앞에 오는 경우가 매우 흔하다. 이런 경우에는 dayfirst = True를 넘겨주면 된다."
   ]
  },
  {
   "cell_type": "code",
   "execution_count": 22,
   "id": "failing-italian",
   "metadata": {},
   "outputs": [
    {
     "data": {
      "text/plain": [
       "datetime.datetime(2011, 12, 6, 0, 0)"
      ]
     },
     "execution_count": 22,
     "metadata": {},
     "output_type": "execute_result"
    }
   ],
   "source": [
    "parse(\"6/12/2011\", dayfirst= True)"
   ]
  },
  {
   "cell_type": "markdown",
   "id": "correct-contamination",
   "metadata": {},
   "source": [
    " "
   ]
  },
  {
   "cell_type": "markdown",
   "id": "divided-discount",
   "metadata": {},
   "source": [
    "> pandas는 일반적으로 DataFrame의 컬럼이나 축 색인으로 날짜가 담긴 배열을 사용한다.  \n",
    "> to_datetime 메서드는 많은 종류의 날짜 표현을 처리한다. ISO 8601 같은 표준 날짜 형식은 매우 빠르게 처리할 수 있다."
   ]
  },
  {
   "cell_type": "code",
   "execution_count": 25,
   "id": "improving-assist",
   "metadata": {},
   "outputs": [
    {
     "data": {
      "text/plain": [
       "DatetimeIndex(['2011-07-06 12:00:00', '2011-08-06 00:00:00'], dtype='datetime64[ns]', freq=None)"
      ]
     },
     "execution_count": 25,
     "metadata": {},
     "output_type": "execute_result"
    }
   ],
   "source": [
    "datestrs = ['2011-07-06 12:00:00', '2011-08-06 00:00:00']\n",
    "\n",
    "pd.to_datetime(datestrs)"
   ]
  },
  {
   "cell_type": "markdown",
   "id": "conservative-response",
   "metadata": {},
   "source": [
    " "
   ]
  },
  {
   "cell_type": "markdown",
   "id": "dominican-barrel",
   "metadata": {},
   "source": [
    "> 또한 누락된 값 (None, 빈 문자열 등)으로 간주되어야 할 값도 처리해 준다.  \n",
    "> NaT (Not a Time)는 pandas에서 누락된 타임스탬프 데이터를 나타낸다."
   ]
  },
  {
   "cell_type": "code",
   "execution_count": 26,
   "id": "excellent-bridges",
   "metadata": {},
   "outputs": [
    {
     "data": {
      "text/plain": [
       "DatetimeIndex(['2011-07-06 12:00:00', '2011-08-06 00:00:00', 'NaT'], dtype='datetime64[ns]', freq=None)"
      ]
     },
     "execution_count": 26,
     "metadata": {},
     "output_type": "execute_result"
    }
   ],
   "source": [
    "idx = pd.to_datetime(datestrs + [None])\n",
    "idx"
   ]
  },
  {
   "cell_type": "code",
   "execution_count": 29,
   "id": "vanilla-victoria",
   "metadata": {},
   "outputs": [
    {
     "data": {
      "text/plain": [
       "array([False, False,  True])"
      ]
     },
     "execution_count": 29,
     "metadata": {},
     "output_type": "execute_result"
    }
   ],
   "source": [
    "pd.isnull(idx)"
   ]
  },
  {
   "cell_type": "markdown",
   "id": "radio-future",
   "metadata": {},
   "source": [
    " "
   ]
  },
  {
   "cell_type": "markdown",
   "id": "curious-alexandria",
   "metadata": {},
   "source": [
    "> datetime 객체는 여러 나라 혹은 언어에서 사용하는 로케일에 맞는 다양한 포맷 옵션을 제공한다.  \n",
    "> 예를 들어 독일과 프랑스에서는 각 월의 단축명이 영문 시스템과 다르다. 로케일 별 날짜 포맷을 확인할 필요가 있다."
   ]
  },
  {
   "cell_type": "markdown",
   "id": "compressed-parker",
   "metadata": {},
   "source": [
    "#### 로케일별 날짜 포맷\n",
    "\n",
    "<details>\n",
    "<summary>로케일별 날짜 포맷</summary>\n",
    "<div markdown=\"1\">\n",
    "\n",
    "|포맷|설명|\n",
    "|:--|:--|\n",
    "|%a|축약된 요일 이름|\n",
    "|%A|요일 이름|\n",
    "|%b|축약된 월 이름|\n",
    "|%B|월 이름|\n",
    "|%c|전체 날짜와 시간(예: 'Tue 01 May 2012 04:20:57 PM')|\n",
    "|%p|해당 로케일에서 AM, PM에 대응되는 이름(AM은 오전, PM은 오후)|\n",
    "|%x|로케일에 맞는 날짜 형식 (예:미국이라면 2012년 5월 1일은 '05/01/2012')|\n",
    "|%X|로케일에 맞는 시간 형식 (예: '04:24:12 PM')|\n",
    "    \n",
    "</div>\n",
    "</details>"
   ]
  },
  {
   "cell_type": "markdown",
   "id": "natural-german",
   "metadata": {},
   "source": [
    " "
   ]
  },
  {
   "cell_type": "markdown",
   "id": "registered-vietnamese",
   "metadata": {},
   "source": [
    "## 11.2 시계열 기초"
   ]
  },
  {
   "cell_type": "markdown",
   "id": "greek-conditioning",
   "metadata": {},
   "source": [
    "- pandas에서 찾아볼 수 있는 가장 기본적인 시계열 객체의 종류는 파이썬 문자열이나 datetime 객체로 표현되는 타임스탬프로 색인된 Series다."
   ]
  },
  {
   "cell_type": "code",
   "execution_count": 35,
   "id": "combined-airplane",
   "metadata": {},
   "outputs": [
    {
     "data": {
      "text/plain": [
       "2011-01-02    0.527093\n",
       "2011-01-05   -1.081817\n",
       "2011-01-07   -0.585182\n",
       "2011-01-08    0.487272\n",
       "2011-01-10   -1.200458\n",
       "2011-01-12   -0.376832\n",
       "dtype: float64"
      ]
     },
     "execution_count": 35,
     "metadata": {},
     "output_type": "execute_result"
    }
   ],
   "source": [
    "from datetime import datetime\n",
    "\n",
    "dates = [datetime(2011, 1, 2), datetime(2011, 1, 5),\n",
    "         datetime(2011, 1, 7), datetime(2011, 1, 8),\n",
    "         datetime(2011, 1, 10), datetime(2011, 1, 12)]\n",
    "\n",
    "ts = pd.Series(np.random.randn(6), index = dates)\n",
    "ts"
   ]
  },
  {
   "cell_type": "markdown",
   "id": "afraid-brother",
   "metadata": {},
   "source": [
    " "
   ]
  },
  {
   "cell_type": "markdown",
   "id": "white-penguin",
   "metadata": {},
   "source": [
    "> 내부적으로 보면 이들 datetime 객체는 DatetimeIndex에 들어 있으며 ts 변수의 타입은 TimeSeries다."
   ]
  },
  {
   "cell_type": "code",
   "execution_count": 38,
   "id": "honest-period",
   "metadata": {},
   "outputs": [
    {
     "data": {
      "text/plain": [
       "DatetimeIndex(['2011-01-02', '2011-01-05', '2011-01-07', '2011-01-08',\n",
       "               '2011-01-10', '2011-01-12'],\n",
       "              dtype='datetime64[ns]', freq=None)"
      ]
     },
     "execution_count": 38,
     "metadata": {},
     "output_type": "execute_result"
    }
   ],
   "source": [
    "ts.index"
   ]
  },
  {
   "cell_type": "markdown",
   "id": "sweet-rabbit",
   "metadata": {},
   "source": [
    " "
   ]
  },
  {
   "cell_type": "markdown",
   "id": "alpha-victim",
   "metadata": {},
   "source": [
    "> 다른 Series와 마찬가지로 서로 다르게 색인된 시계열 객체 간의 산술 연산은 자동으로 날짜에 맞춰진다."
   ]
  },
  {
   "cell_type": "code",
   "execution_count": 39,
   "id": "silver-tradition",
   "metadata": {},
   "outputs": [
    {
     "data": {
      "text/plain": [
       "2011-01-02    1.054187\n",
       "2011-01-05         NaN\n",
       "2011-01-07   -1.170364\n",
       "2011-01-08         NaN\n",
       "2011-01-10   -2.400915\n",
       "2011-01-12         NaN\n",
       "dtype: float64"
      ]
     },
     "execution_count": 39,
     "metadata": {},
     "output_type": "execute_result"
    }
   ],
   "source": [
    "ts + ts[::2]"
   ]
  },
  {
   "cell_type": "markdown",
   "id": "popular-hours",
   "metadata": {},
   "source": [
    " "
   ]
  },
  {
   "cell_type": "markdown",
   "id": "rotary-thousand",
   "metadata": {},
   "source": [
    "> pandas는 NumPy의 datetime64 자료형을 사용해서 나노초의 정밀도를 가지는 타임스탬프를 저장한다."
   ]
  },
  {
   "cell_type": "code",
   "execution_count": 40,
   "id": "composed-nancy",
   "metadata": {},
   "outputs": [
    {
     "data": {
      "text/plain": [
       "dtype('<M8[ns]')"
      ]
     },
     "execution_count": 40,
     "metadata": {},
     "output_type": "execute_result"
    }
   ],
   "source": [
    "ts.index.dtype"
   ]
  },
  {
   "cell_type": "markdown",
   "id": "interesting-sister",
   "metadata": {},
   "source": [
    " "
   ]
  },
  {
   "cell_type": "markdown",
   "id": "useful-father",
   "metadata": {},
   "source": [
    "> DatetimeIndex의 스칼라값은 pandas Timestamp 객체다.  \n",
    "> Timestamp는 datetime 객체를 사용하는 어떤 곳에도 대체 사용이 가능하다.  \n",
    "> 게다가 가능하다면 빈도에 관한 정보도 저장하며 시간대 변환을 하는 방법과 다른 종류의 조작을 하는 방법도 포함하고 있다."
   ]
  },
  {
   "cell_type": "code",
   "execution_count": 42,
   "id": "coupled-forestry",
   "metadata": {},
   "outputs": [
    {
     "data": {
      "text/plain": [
       "Timestamp('2011-01-02 00:00:00')"
      ]
     },
     "execution_count": 42,
     "metadata": {},
     "output_type": "execute_result"
    }
   ],
   "source": [
    "stamp = ts.index[0]\n",
    "stamp"
   ]
  },
  {
   "cell_type": "markdown",
   "id": "social-madrid",
   "metadata": {},
   "source": [
    " "
   ]
  },
  {
   "cell_type": "markdown",
   "id": "desperate-element",
   "metadata": {},
   "source": [
    "### 11.2.1 색인, 선택, 부분 선택"
   ]
  },
  {
   "cell_type": "markdown",
   "id": "eligible-chapter",
   "metadata": {},
   "source": [
    "> 시계열은 라벨에 기반해서 데이터를 선택하고 인덱싱할 때 pandas.Series와 동일하게 동작한다."
   ]
  },
  {
   "cell_type": "code",
   "execution_count": 44,
   "id": "documentary-median",
   "metadata": {},
   "outputs": [
    {
     "data": {
      "text/plain": [
       "Timestamp('2011-01-07 00:00:00')"
      ]
     },
     "execution_count": 44,
     "metadata": {},
     "output_type": "execute_result"
    }
   ],
   "source": [
    "stamp = ts.index[2]\n",
    "stamp"
   ]
  },
  {
   "cell_type": "code",
   "execution_count": 45,
   "id": "supreme-copying",
   "metadata": {},
   "outputs": [
    {
     "data": {
      "text/plain": [
       "-0.5851821281381955"
      ]
     },
     "execution_count": 45,
     "metadata": {},
     "output_type": "execute_result"
    }
   ],
   "source": [
    "ts[stamp]"
   ]
  },
  {
   "cell_type": "markdown",
   "id": "ambient-conjunction",
   "metadata": {},
   "source": [
    " "
   ]
  },
  {
   "cell_type": "markdown",
   "id": "adjusted-mapping",
   "metadata": {},
   "source": [
    "> 해석할 수 있는 날짜를 문자열로 넘겨서 편리하게 사용할 수 있다."
   ]
  },
  {
   "cell_type": "code",
   "execution_count": 46,
   "id": "demanding-coverage",
   "metadata": {},
   "outputs": [
    {
     "data": {
      "text/plain": [
       "-1.2004575143223382"
      ]
     },
     "execution_count": 46,
     "metadata": {},
     "output_type": "execute_result"
    }
   ],
   "source": [
    "ts['1/10/2011']"
   ]
  },
  {
   "cell_type": "code",
   "execution_count": 49,
   "id": "mineral-advertiser",
   "metadata": {},
   "outputs": [
    {
     "data": {
      "text/plain": [
       "-1.2004575143223382"
      ]
     },
     "execution_count": 49,
     "metadata": {},
     "output_type": "execute_result"
    }
   ],
   "source": [
    "ts['20110110']"
   ]
  },
  {
   "cell_type": "markdown",
   "id": "chicken-objective",
   "metadata": {},
   "source": [
    " "
   ]
  },
  {
   "cell_type": "markdown",
   "id": "human-exposure",
   "metadata": {},
   "source": [
    "> 긴 시계열에서는 연을 넘기거나 연, 월만 넘겨서 데이터의 일부 구간만 선택할 수도 있다."
   ]
  },
  {
   "cell_type": "code",
   "execution_count": 51,
   "id": "level-berlin",
   "metadata": {},
   "outputs": [
    {
     "data": {
      "text/plain": [
       "2000-01-01    0.511902\n",
       "2000-01-02    0.300940\n",
       "2000-01-03    0.590463\n",
       "2000-01-04   -1.085473\n",
       "2000-01-05    0.950203\n",
       "                ...   \n",
       "2002-09-22    1.151353\n",
       "2002-09-23    1.236167\n",
       "2002-09-24    1.110303\n",
       "2002-09-25   -0.151498\n",
       "2002-09-26   -0.656942\n",
       "Freq: D, Length: 1000, dtype: float64"
      ]
     },
     "execution_count": 51,
     "metadata": {},
     "output_type": "execute_result"
    }
   ],
   "source": [
    "longer_ts = pd.Series(np.random.randn(1000), index = pd.date_range('1/1/2000', periods = 1000))\n",
    "longer_ts"
   ]
  },
  {
   "cell_type": "code",
   "execution_count": 52,
   "id": "adopted-hopkins",
   "metadata": {},
   "outputs": [
    {
     "data": {
      "text/plain": [
       "2001-01-01    1.156484\n",
       "2001-01-02   -0.839789\n",
       "2001-01-03   -0.109572\n",
       "2001-01-04    0.090570\n",
       "2001-01-05   -0.128576\n",
       "                ...   \n",
       "2001-12-27    0.108491\n",
       "2001-12-28   -0.177276\n",
       "2001-12-29   -0.735996\n",
       "2001-12-30    0.064573\n",
       "2001-12-31   -1.574414\n",
       "Freq: D, Length: 365, dtype: float64"
      ]
     },
     "execution_count": 52,
     "metadata": {},
     "output_type": "execute_result"
    }
   ],
   "source": [
    "longer_ts['2001']"
   ]
  },
  {
   "cell_type": "markdown",
   "id": "copyrighted-bearing",
   "metadata": {},
   "source": [
    " "
   ]
  },
  {
   "cell_type": "markdown",
   "id": "several-reminder",
   "metadata": {},
   "source": [
    "> 연에 대해서도 마찬가지로 선택할 수 있다."
   ]
  },
  {
   "cell_type": "code",
   "execution_count": 53,
   "id": "rubber-welding",
   "metadata": {},
   "outputs": [
    {
     "data": {
      "text/plain": [
       "2001-05-01    1.355891\n",
       "2001-05-02   -0.655497\n",
       "2001-05-03   -1.522220\n",
       "2001-05-04   -0.224103\n",
       "2001-05-05    1.516159\n",
       "2001-05-06   -0.784441\n",
       "2001-05-07   -3.027601\n",
       "2001-05-08    0.374262\n",
       "2001-05-09   -0.319081\n",
       "2001-05-10   -0.088985\n",
       "2001-05-11    0.790988\n",
       "2001-05-12   -0.829910\n",
       "2001-05-13   -0.356047\n",
       "2001-05-14   -0.383890\n",
       "2001-05-15    0.470284\n",
       "2001-05-16   -1.711977\n",
       "2001-05-17    0.995628\n",
       "2001-05-18    0.377491\n",
       "2001-05-19   -0.716980\n",
       "2001-05-20   -0.726000\n",
       "2001-05-21    0.563092\n",
       "2001-05-22   -0.636812\n",
       "2001-05-23    0.751799\n",
       "2001-05-24    1.596946\n",
       "2001-05-25    0.310778\n",
       "2001-05-26   -2.001816\n",
       "2001-05-27    0.519565\n",
       "2001-05-28    0.170625\n",
       "2001-05-29   -0.925019\n",
       "2001-05-30   -0.208023\n",
       "2001-05-31   -1.436730\n",
       "Freq: D, dtype: float64"
      ]
     },
     "execution_count": 53,
     "metadata": {},
     "output_type": "execute_result"
    }
   ],
   "source": [
    "longer_ts['2001-05']"
   ]
  },
  {
   "cell_type": "markdown",
   "id": "turned-columbus",
   "metadata": {},
   "source": [
    " "
   ]
  },
  {
   "cell_type": "markdown",
   "id": "certain-patrol",
   "metadata": {},
   "source": [
    "> datetime 객체로 데이터를 잘라내는 작업은 일반적인 Series와 동일한 방식으로 할 수 있다."
   ]
  },
  {
   "cell_type": "code",
   "execution_count": 54,
   "id": "armed-travel",
   "metadata": {},
   "outputs": [
    {
     "data": {
      "text/plain": [
       "2011-01-07   -0.585182\n",
       "2011-01-08    0.487272\n",
       "2011-01-10   -1.200458\n",
       "2011-01-12   -0.376832\n",
       "dtype: float64"
      ]
     },
     "execution_count": 54,
     "metadata": {},
     "output_type": "execute_result"
    }
   ],
   "source": [
    "ts[datetime(2011, 1, 7):]"
   ]
  },
  {
   "cell_type": "markdown",
   "id": "correct-colony",
   "metadata": {},
   "source": [
    " "
   ]
  },
  {
   "cell_type": "markdown",
   "id": "covered-mission",
   "metadata": {},
   "source": [
    "> 대부분의 시계열 데이터는 연대순으로 정렬되기 때문에 범위를 지정하기 위해 시계열에 포함하지 않고 타임스탬프를 이용해서 Series를 나눌 수 있다.  \n",
    "> 이런 방식으로 데이터를 나누면 NumPy 배열을 나누는 것처럼 원본 시계열에 대한 뷰를 생성한다는 사실을 기억하자.  \n",
    "> 즉, 데이터 복사가 발생하지 않고 슬라이스에 대한 변경이 원본 데이터에도 반영된다."
   ]
  },
  {
   "cell_type": "code",
   "execution_count": 56,
   "id": "spanish-coordinator",
   "metadata": {},
   "outputs": [
    {
     "data": {
      "text/plain": [
       "2011-01-07   -0.585182\n",
       "2011-01-08    0.487272\n",
       "2011-01-10   -1.200458\n",
       "dtype: float64"
      ]
     },
     "execution_count": 56,
     "metadata": {},
     "output_type": "execute_result"
    }
   ],
   "source": [
    "ts['1/6/2011' : '1/11/2011']"
   ]
  },
  {
   "cell_type": "markdown",
   "id": "fresh-experience",
   "metadata": {},
   "source": [
    " "
   ]
  },
  {
   "cell_type": "markdown",
   "id": "suspected-dynamics",
   "metadata": {},
   "source": [
    "> 이와 동일한 인스턴스 메서드로 truncate가 있다. 이 메서드는 TimeSeries를 두 개의 날짜로 나눈다."
   ]
  },
  {
   "cell_type": "code",
   "execution_count": 57,
   "id": "norman-uncle",
   "metadata": {},
   "outputs": [
    {
     "data": {
      "text/plain": [
       "2011-01-02    0.527093\n",
       "2011-01-05   -1.081817\n",
       "2011-01-07   -0.585182\n",
       "2011-01-08    0.487272\n",
       "dtype: float64"
      ]
     },
     "execution_count": 57,
     "metadata": {},
     "output_type": "execute_result"
    }
   ],
   "source": [
    "ts.truncate(after = '1/9/2011')"
   ]
  },
  {
   "cell_type": "markdown",
   "id": "excited-sarah",
   "metadata": {},
   "source": [
    " "
   ]
  },
  {
   "cell_type": "markdown",
   "id": "about-terry",
   "metadata": {},
   "source": [
    "> 위 방식은 DataFrame에서도 동일하게 적용되며 로우에 인덱싱된다."
   ]
  },
  {
   "cell_type": "code",
   "execution_count": 60,
   "id": "rising-antenna",
   "metadata": {},
   "outputs": [
    {
     "data": {
      "text/html": [
       "<div>\n",
       "<style scoped>\n",
       "    .dataframe tbody tr th:only-of-type {\n",
       "        vertical-align: middle;\n",
       "    }\n",
       "\n",
       "    .dataframe tbody tr th {\n",
       "        vertical-align: top;\n",
       "    }\n",
       "\n",
       "    .dataframe thead th {\n",
       "        text-align: right;\n",
       "    }\n",
       "</style>\n",
       "<table border=\"1\" class=\"dataframe\">\n",
       "  <thead>\n",
       "    <tr style=\"text-align: right;\">\n",
       "      <th></th>\n",
       "      <th>Colorado</th>\n",
       "      <th>Texas</th>\n",
       "      <th>New York</th>\n",
       "      <th>Ohio</th>\n",
       "    </tr>\n",
       "  </thead>\n",
       "  <tbody>\n",
       "    <tr>\n",
       "      <th>2001-05-02</th>\n",
       "      <td>-0.206011</td>\n",
       "      <td>-0.961785</td>\n",
       "      <td>-0.135173</td>\n",
       "      <td>-0.615693</td>\n",
       "    </tr>\n",
       "    <tr>\n",
       "      <th>2001-05-09</th>\n",
       "      <td>-0.299818</td>\n",
       "      <td>-1.497059</td>\n",
       "      <td>0.649819</td>\n",
       "      <td>0.826794</td>\n",
       "    </tr>\n",
       "    <tr>\n",
       "      <th>2001-05-16</th>\n",
       "      <td>0.539239</td>\n",
       "      <td>1.781971</td>\n",
       "      <td>0.952750</td>\n",
       "      <td>0.557374</td>\n",
       "    </tr>\n",
       "    <tr>\n",
       "      <th>2001-05-23</th>\n",
       "      <td>1.025586</td>\n",
       "      <td>0.226130</td>\n",
       "      <td>0.287988</td>\n",
       "      <td>-0.628744</td>\n",
       "    </tr>\n",
       "    <tr>\n",
       "      <th>2001-05-30</th>\n",
       "      <td>-0.274250</td>\n",
       "      <td>1.421880</td>\n",
       "      <td>1.195972</td>\n",
       "      <td>-0.710915</td>\n",
       "    </tr>\n",
       "  </tbody>\n",
       "</table>\n",
       "</div>"
      ],
      "text/plain": [
       "            Colorado     Texas  New York      Ohio\n",
       "2001-05-02 -0.206011 -0.961785 -0.135173 -0.615693\n",
       "2001-05-09 -0.299818 -1.497059  0.649819  0.826794\n",
       "2001-05-16  0.539239  1.781971  0.952750  0.557374\n",
       "2001-05-23  1.025586  0.226130  0.287988 -0.628744\n",
       "2001-05-30 -0.274250  1.421880  1.195972 -0.710915"
      ]
     },
     "execution_count": 60,
     "metadata": {},
     "output_type": "execute_result"
    }
   ],
   "source": [
    "dates = pd.date_range('1/1/2000', periods = 100, freq = 'W-WED')\n",
    "\n",
    "long_df = pd.DataFrame(np.random.randn(100,4),\n",
    "                       index = dates,\n",
    "                       columns = ['Colorado', 'Texas', 'New York', 'Ohio'])\n",
    "\n",
    "long_df.loc['5-2001']"
   ]
  },
  {
   "cell_type": "markdown",
   "id": "responsible-enemy",
   "metadata": {},
   "source": [
    " "
   ]
  },
  {
   "cell_type": "markdown",
   "id": "timely-steam",
   "metadata": {},
   "source": [
    "### 11.2.2 중복된 색인을 갖는 시계열"
   ]
  },
  {
   "cell_type": "markdown",
   "id": "textile-dream",
   "metadata": {},
   "source": [
    "> 어떤 애플리케이션에서는 여러 데이터가 특정 타임스탬프에 몰려 있는 것을 발견할 수 있다."
   ]
  },
  {
   "cell_type": "code",
   "execution_count": 62,
   "id": "yellow-craft",
   "metadata": {},
   "outputs": [
    {
     "data": {
      "text/plain": [
       "2000-01-01    0\n",
       "2000-01-02    1\n",
       "2000-01-02    2\n",
       "2000-01-02    3\n",
       "2000-01-03    4\n",
       "dtype: int32"
      ]
     },
     "execution_count": 62,
     "metadata": {},
     "output_type": "execute_result"
    }
   ],
   "source": [
    "dates = pd.DatetimeIndex(['1/1/2000','1/2/2000','1/2/2000',\n",
    "                          '1/2/2000','1/3/2000'])\n",
    "\n",
    "dup_ts = pd.Series(np.arange(5), index = dates)\n",
    "dup_ts"
   ]
  },
  {
   "cell_type": "markdown",
   "id": "exposed-islam",
   "metadata": {},
   "source": [
    " "
   ]
  },
  {
   "cell_type": "markdown",
   "id": "stainless-coaching",
   "metadata": {},
   "source": [
    "> is_unique 속성을 통해 확인해보면 색인이 유일하지 않음을 알 수 있다."
   ]
  },
  {
   "cell_type": "code",
   "execution_count": 63,
   "id": "abstract-textbook",
   "metadata": {},
   "outputs": [
    {
     "data": {
      "text/plain": [
       "False"
      ]
     },
     "execution_count": 63,
     "metadata": {},
     "output_type": "execute_result"
    }
   ],
   "source": [
    "dup_ts.index.is_unique"
   ]
  },
  {
   "cell_type": "markdown",
   "id": "exclusive-hamilton",
   "metadata": {},
   "source": [
    " "
   ]
  },
  {
   "cell_type": "markdown",
   "id": "federal-airline",
   "metadata": {},
   "source": [
    "> 이 시계열 데이터를 인덱싱하면 타임스탬프의 중복 여부에 다라 스칼라값이나 슬라이스가 생성된다."
   ]
  },
  {
   "cell_type": "code",
   "execution_count": 64,
   "id": "stopped-musician",
   "metadata": {},
   "outputs": [
    {
     "data": {
      "text/plain": [
       "4"
      ]
     },
     "execution_count": 64,
     "metadata": {},
     "output_type": "execute_result"
    }
   ],
   "source": [
    "dup_ts['1/3/2000']  # 중복 없음"
   ]
  },
  {
   "cell_type": "code",
   "execution_count": 65,
   "id": "incomplete-antique",
   "metadata": {},
   "outputs": [
    {
     "data": {
      "text/plain": [
       "2000-01-02    1\n",
       "2000-01-02    2\n",
       "2000-01-02    3\n",
       "dtype: int32"
      ]
     },
     "execution_count": 65,
     "metadata": {},
     "output_type": "execute_result"
    }
   ],
   "source": [
    "dup_ts['1/2/2000']  # 중복 있음"
   ]
  },
  {
   "cell_type": "markdown",
   "id": "settled-fitness",
   "metadata": {},
   "source": [
    " "
   ]
  },
  {
   "cell_type": "markdown",
   "id": "corrected-celtic",
   "metadata": {},
   "source": [
    "> 유일하지 않은 타임스탬프를 가지는 데이터를 집계한다고 할 때, 한 가지 방법은 groupby에 level=0 (단일 단계 인덱싱)을 넘기는 것이다."
   ]
  },
  {
   "cell_type": "code",
   "execution_count": 67,
   "id": "palestinian-cardiff",
   "metadata": {},
   "outputs": [
    {
     "data": {
      "text/plain": [
       "2000-01-01    0\n",
       "2000-01-02    2\n",
       "2000-01-03    4\n",
       "dtype: int32"
      ]
     },
     "execution_count": 67,
     "metadata": {},
     "output_type": "execute_result"
    }
   ],
   "source": [
    "grouped = dup_ts.groupby(level = 0)\n",
    "grouped.mean()"
   ]
  },
  {
   "cell_type": "code",
   "execution_count": 68,
   "id": "adapted-gender",
   "metadata": {},
   "outputs": [
    {
     "data": {
      "text/plain": [
       "2000-01-01    1\n",
       "2000-01-02    3\n",
       "2000-01-03    1\n",
       "dtype: int64"
      ]
     },
     "execution_count": 68,
     "metadata": {},
     "output_type": "execute_result"
    }
   ],
   "source": [
    "grouped.count()"
   ]
  }
 ],
 "metadata": {
  "kernelspec": {
   "display_name": "Python 3",
   "language": "python",
   "name": "python3"
  },
  "language_info": {
   "codemirror_mode": {
    "name": "ipython",
    "version": 3
   },
   "file_extension": ".py",
   "mimetype": "text/x-python",
   "name": "python",
   "nbconvert_exporter": "python",
   "pygments_lexer": "ipython3",
   "version": "3.8.10"
  }
 },
 "nbformat": 4,
 "nbformat_minor": 5
}
