{
 "cells": [
  {
   "cell_type": "markdown",
   "id": "verbal-television",
   "metadata": {},
   "source": [
    "# Chapter 11. 시계열"
   ]
  },
  {
   "cell_type": "markdown",
   "id": "computational-purchase",
   "metadata": {},
   "source": [
    "- 대부분의 시계열은 고정 빈도(Fixed Frequency)로 표현되는데 데이터가 존재하는 지점이 특정 규칙에 따라 고정 간격을 가지게 된다.\n",
    "- 시계열은 또한 고정된 단위나 시간 혹은 단위들 간의 간격으로 존재하지 않고 불규칙적인 모습으로 표현될 수도 있다.\n",
    "- 어떻게 시계열 데이터를 표시하고 참조할지는 애플리케이션에 의존적이며 다음 중 한 유형일 수 있다.\n",
    "    - 시간 내에서 특정 순간의 타임 스탬프\n",
    "    - 2007년 1월이나 2010년 전체 같은 고정된 기간\n",
    "    - 시작과 끝 타임스탬프로 표시되는 시간 간격. 기간은 시간 간격의 특수한 경우로 생각할 수 있다.\n",
    "- 가장 단순하고 널리 사용되는 시계열의 종류는 타임스탬프로 색인된 데이터다.\n",
    "- pandas는 표준 시계열 도구와 데이터 알고리즘을 제공한다."
   ]
  },
  {
   "cell_type": "markdown",
   "id": "immediate-status",
   "metadata": {},
   "source": [
    " "
   ]
  },
  {
   "cell_type": "markdown",
   "id": "fitted-washington",
   "metadata": {},
   "source": [
    "## 11.1 날짜, 시간 자료형, 도구\n",
    "- 파이썬 표준 라이브러리는 `날짜와 시간을 위한 자료형`과 `달력 관련 기능`을 제공하는 자료형이 존재한다.  \n",
    "- datetime, time 그리고 calendar 모듈은 처음 공부하기에 좋은 주제다.\n",
    "- datetime.datetime 형이나 단순한 datetime이 널리 사용되고 있다."
   ]
  },
  {
   "cell_type": "code",
   "execution_count": 13,
   "id": "fifty-feeling",
   "metadata": {},
   "outputs": [
    {
     "data": {
      "text/plain": [
       "datetime.datetime(2021, 10, 5, 17, 27, 40, 189807)"
      ]
     },
     "execution_count": 13,
     "metadata": {},
     "output_type": "execute_result"
    }
   ],
   "source": [
    "from datetime import datetime\n",
    "\n",
    "now = datetime.now()\n",
    "now"
   ]
  },
  {
   "cell_type": "code",
   "execution_count": 3,
   "id": "royal-spouse",
   "metadata": {},
   "outputs": [
    {
     "data": {
      "text/plain": [
       "(2021, 10, 4)"
      ]
     },
     "execution_count": 3,
     "metadata": {},
     "output_type": "execute_result"
    }
   ],
   "source": [
    "now.year, now.month, now.day"
   ]
  },
  {
   "cell_type": "markdown",
   "id": "stylish-meeting",
   "metadata": {},
   "source": [
    " "
   ]
  },
  {
   "cell_type": "markdown",
   "id": "immune-abraham",
   "metadata": {},
   "source": [
    "> datetime은 날짜와 시간을 모두 저장하며 마이크로초까지 지원한다.  \n",
    "> datetime.timedelta는 두 datetime 객체 간의 시간적인 차이를 표현할 수 있다."
   ]
  },
  {
   "cell_type": "code",
   "execution_count": 6,
   "id": "gorgeous-cargo",
   "metadata": {},
   "outputs": [
    {
     "data": {
      "text/plain": [
       "datetime.timedelta(days=926, seconds=56700)"
      ]
     },
     "execution_count": 6,
     "metadata": {},
     "output_type": "execute_result"
    }
   ],
   "source": [
    "delta = datetime(2011, 1, 7) - datetime(2008, 6, 24, 8, 15)\n",
    "delta"
   ]
  },
  {
   "cell_type": "code",
   "execution_count": 7,
   "id": "responsible-friend",
   "metadata": {},
   "outputs": [
    {
     "data": {
      "text/plain": [
       "(926, 56700)"
      ]
     },
     "execution_count": 7,
     "metadata": {},
     "output_type": "execute_result"
    }
   ],
   "source": [
    "delta.days, delta.seconds"
   ]
  },
  {
   "cell_type": "markdown",
   "id": "corporate-single",
   "metadata": {},
   "source": [
    " "
   ]
  },
  {
   "cell_type": "markdown",
   "id": "committed-seven",
   "metadata": {},
   "source": [
    "> timedelta를 더하거나 빼면 그만큼의 시간이 datetime 객체에 적용되어 새로운 객체를 만들 수 있다."
   ]
  },
  {
   "cell_type": "code",
   "execution_count": 9,
   "id": "incorporated-congo",
   "metadata": {},
   "outputs": [
    {
     "data": {
      "text/plain": [
       "datetime.datetime(2010, 12, 14, 0, 0)"
      ]
     },
     "execution_count": 9,
     "metadata": {},
     "output_type": "execute_result"
    }
   ],
   "source": [
    "from datetime import timedelta\n",
    "\n",
    "start = datetime(2011, 1, 7)\n",
    "\n",
    "start - 2*timedelta(12)"
   ]
  },
  {
   "cell_type": "markdown",
   "id": "deluxe-budapest",
   "metadata": {},
   "source": [
    " "
   ]
  },
  {
   "cell_type": "markdown",
   "id": "australian-arrow",
   "metadata": {},
   "source": [
    "#### datetime 모듈의 자료형\n",
    "\n",
    "<details>\n",
    "<summary>datetime 모듈의 자료형</summary>\n",
    "<div markdown=\"1\">\n",
    "\n",
    "|자료형|설명|\n",
    "|:--|:--|\n",
    "|date|그레고리안 달력을 사용해서 날짜(연,월,일)를 저장한다.|\n",
    "|time|하루의 시간을 시,분,초,마이크로초 단위로 저장한다.|\n",
    "|datetime|날짜와 시간을 모두 저장한다.|\n",
    "|timedelta|두 datetime 값 간의 차이(일, 초, 마이크로초)를 표현한다.|\n",
    "|tzinfo|지역시간대를 저장하기 위한 기본 자료형|\n",
    "\n",
    "    \n",
    "</div>\n",
    "</details>"
   ]
  },
  {
   "cell_type": "markdown",
   "id": "plastic-aluminum",
   "metadata": {},
   "source": [
    " "
   ]
  },
  {
   "cell_type": "markdown",
   "id": "falling-colony",
   "metadata": {},
   "source": [
    "### 11.1.1 문자열을 datetime으로 변환하기"
   ]
  },
  {
   "cell_type": "markdown",
   "id": "functional-italian",
   "metadata": {},
   "source": [
    "> datetime 객체와 나중에 소개할 pandas의 Timestamp 객체는 str 메서드나 strftime 메서드에 포맷 규칙을 넘겨서 문자열로 나타낼 수 있다."
   ]
  },
  {
   "cell_type": "code",
   "execution_count": 14,
   "id": "cosmetic-orchestra",
   "metadata": {},
   "outputs": [
    {
     "data": {
      "text/plain": [
       "'2011-01-03 00:00:00'"
      ]
     },
     "execution_count": 14,
     "metadata": {},
     "output_type": "execute_result"
    }
   ],
   "source": [
    "stamp = datetime(2011, 1, 3)\n",
    "\n",
    "str(stamp)"
   ]
  },
  {
   "cell_type": "code",
   "execution_count": 17,
   "id": "scheduled-forth",
   "metadata": {},
   "outputs": [
    {
     "data": {
      "text/plain": [
       "'2011-01-03'"
      ]
     },
     "execution_count": 17,
     "metadata": {},
     "output_type": "execute_result"
    }
   ],
   "source": [
    "stamp.strftime(\"%Y-%m-%d\")"
   ]
  },
  {
   "cell_type": "markdown",
   "id": "rough-combat",
   "metadata": {},
   "source": [
    " "
   ]
  },
  {
   "cell_type": "markdown",
   "id": "twenty-cassette",
   "metadata": {},
   "source": [
    "#### Datetime 포맷 규칙 (ISO C89 호환)\n",
    "\n",
    "<details>\n",
    "<summary>Datetime 포맷 규칙 (ISO C89 호환)</summary>\n",
    "<div markdown=\"1\">\n",
    "\n",
    "|포맷|설명|\n",
    "|:--|:--|\n",
    "|%Y|4자리 연도|\n",
    "|%y|2자리 연도|\n",
    "|%m|2자리 월 [01,12]|\n",
    "|%d|2자리 일 [01,31]|\n",
    "|%H|시간(24시간 형식) [00,23]|\n",
    "|%I|시간(12시간 형식) [01,12]|\n",
    "|%M|2자리 분 [00,59]|\n",
    "|%S|초 [00,61] (60,61은 윤초)|\n",
    "|%w|정수로 나타낸 요일 [0(일요일), 6]|\n",
    "|%U|연중 주차 [00,53]. 일요일을 그 주의 첫 번째 날로 간주하며, 그 해에서 첫 번째 일요일 앞에 있는 날은 0주차가 된다.|\n",
    "|%W|연중 주차 [00,53]. 월요일을 그 주의 첫 번째 날로 간주하며, 그 해에서 첫 번째 월요일 앞에 있는 날은 0주차가 된다.|\n",
    "|%z|UTC 시간대 오프셋을 +HHMM 또는 -HHMM으로 표현한다. 만약 시간대를 신경 쓰지 않는다면 비워둔다.|\n",
    "|%F|%Y-%m-%d 형식에 대한 축약 (예:2012-4-18)|\n",
    "|%D|%m/%d/%y 형식에 대한 축약 (예:04/18/12)|\n",
    "    \n",
    "</div>\n",
    "</details>"
   ]
  },
  {
   "cell_type": "markdown",
   "id": "behind-draft",
   "metadata": {},
   "source": [
    " "
   ]
  },
  {
   "cell_type": "markdown",
   "id": "sensitive-bullet",
   "metadata": {},
   "source": [
    "> 이 포맷 코드는 datetime.strptime을 사용해서 문자열을 날자로 변환할 때 사용할 수 있다."
   ]
  },
  {
   "cell_type": "code",
   "execution_count": 18,
   "id": "boxed-donor",
   "metadata": {},
   "outputs": [
    {
     "data": {
      "text/plain": [
       "datetime.datetime(2011, 1, 3, 0, 0)"
      ]
     },
     "execution_count": 18,
     "metadata": {},
     "output_type": "execute_result"
    }
   ],
   "source": [
    "value = \"2011-01-03\"\n",
    "datetime.strptime(value, '%Y-%m-%d')"
   ]
  },
  {
   "cell_type": "code",
   "execution_count": 19,
   "id": "certified-monster",
   "metadata": {},
   "outputs": [
    {
     "data": {
      "text/plain": [
       "[datetime.datetime(2011, 7, 6, 0, 0), datetime.datetime(2011, 8, 6, 0, 0)]"
      ]
     },
     "execution_count": 19,
     "metadata": {},
     "output_type": "execute_result"
    }
   ],
   "source": [
    "datestrs = ['7/6/2011', '8/6/2011']\n",
    "\n",
    "[datetime.strptime(x, '%m/%d/%Y') for x in datestrs]"
   ]
  },
  {
   "cell_type": "markdown",
   "id": "danish-cricket",
   "metadata": {},
   "source": [
    " "
   ]
  },
  {
   "cell_type": "markdown",
   "id": "romantic-bible",
   "metadata": {},
   "source": [
    "> datetime.strptime은 알려진 형식의 날자를 파싱하는 최적의 방법이다.  \n",
    "> 하지만, 서드파티 패키지인 dateutil에 포함된 parser.parse 메서드를 사용하면 보다더 쉽게 변환할 수 있다. (pandas를 설치할 때 자동으로 함게 설치된다.)"
   ]
  },
  {
   "cell_type": "code",
   "execution_count": 20,
   "id": "settled-massachusetts",
   "metadata": {},
   "outputs": [
    {
     "data": {
      "text/plain": [
       "datetime.datetime(2011, 1, 3, 0, 0)"
      ]
     },
     "execution_count": 20,
     "metadata": {},
     "output_type": "execute_result"
    }
   ],
   "source": [
    "from dateutil.parser import parse\n",
    "\n",
    "parse('2011-01-03')"
   ]
  },
  {
   "cell_type": "markdown",
   "id": "studied-detroit",
   "metadata": {},
   "source": [
    " "
   ]
  },
  {
   "cell_type": "markdown",
   "id": "aware-handy",
   "metadata": {},
   "source": [
    "> dateutil은 거의 대부분의 사람이 인지하는 날자 표현 방식을 파싱할 수 있다."
   ]
  },
  {
   "cell_type": "code",
   "execution_count": 21,
   "id": "occupied-member",
   "metadata": {},
   "outputs": [
    {
     "data": {
      "text/plain": [
       "datetime.datetime(1997, 1, 31, 22, 45)"
      ]
     },
     "execution_count": 21,
     "metadata": {},
     "output_type": "execute_result"
    }
   ],
   "source": [
    "parse(\"Jan 31, 1997 10:45 PM\")"
   ]
  },
  {
   "cell_type": "markdown",
   "id": "posted-reminder",
   "metadata": {},
   "source": [
    " "
   ]
  },
  {
   "cell_type": "markdown",
   "id": "restricted-mercury",
   "metadata": {},
   "source": [
    "> 국제 로케일의 경우 날짜가 월 앞에 오는 경우가 매우 흔하다. 이런 경우에는 dayfirst = True를 넘겨주면 된다."
   ]
  },
  {
   "cell_type": "code",
   "execution_count": 22,
   "id": "joined-approach",
   "metadata": {},
   "outputs": [
    {
     "data": {
      "text/plain": [
       "datetime.datetime(2011, 12, 6, 0, 0)"
      ]
     },
     "execution_count": 22,
     "metadata": {},
     "output_type": "execute_result"
    }
   ],
   "source": [
    "parse(\"6/12/2011\", dayfirst= True)"
   ]
  },
  {
   "cell_type": "markdown",
   "id": "oriental-reserve",
   "metadata": {},
   "source": [
    " "
   ]
  },
  {
   "cell_type": "markdown",
   "id": "intensive-extra",
   "metadata": {},
   "source": [
    "> pandas는 일반적으로 DataFrame의 컬럼이나 축 색인으로 날짜가 담긴 배열을 사용한다.  \n",
    "> to_datetime 메서드는 많은 종류의 날짜 표현을 처리한다. ISO 8601 같은 표준 날짜 형식은 매우 빠르게 처리할 수 있다."
   ]
  },
  {
   "cell_type": "code",
   "execution_count": 25,
   "id": "christian-technician",
   "metadata": {},
   "outputs": [
    {
     "data": {
      "text/plain": [
       "DatetimeIndex(['2011-07-06 12:00:00', '2011-08-06 00:00:00'], dtype='datetime64[ns]', freq=None)"
      ]
     },
     "execution_count": 25,
     "metadata": {},
     "output_type": "execute_result"
    }
   ],
   "source": [
    "datestrs = ['2011-07-06 12:00:00', '2011-08-06 00:00:00']\n",
    "\n",
    "pd.to_datetime(datestrs)"
   ]
  },
  {
   "cell_type": "markdown",
   "id": "dangerous-frequency",
   "metadata": {},
   "source": [
    " "
   ]
  },
  {
   "cell_type": "markdown",
   "id": "integral-prisoner",
   "metadata": {},
   "source": [
    "> 또한 누락된 값 (None, 빈 문자열 등)으로 간주되어야 할 값도 처리해 준다.  \n",
    "> NaT (Not a Time)는 pandas에서 누락된 타임스탬프 데이터를 나타낸다."
   ]
  },
  {
   "cell_type": "code",
   "execution_count": 26,
   "id": "innocent-focus",
   "metadata": {},
   "outputs": [
    {
     "data": {
      "text/plain": [
       "DatetimeIndex(['2011-07-06 12:00:00', '2011-08-06 00:00:00', 'NaT'], dtype='datetime64[ns]', freq=None)"
      ]
     },
     "execution_count": 26,
     "metadata": {},
     "output_type": "execute_result"
    }
   ],
   "source": [
    "idx = pd.to_datetime(datestrs + [None])\n",
    "idx"
   ]
  },
  {
   "cell_type": "code",
   "execution_count": 29,
   "id": "female-leather",
   "metadata": {},
   "outputs": [
    {
     "data": {
      "text/plain": [
       "array([False, False,  True])"
      ]
     },
     "execution_count": 29,
     "metadata": {},
     "output_type": "execute_result"
    }
   ],
   "source": [
    "pd.isnull(idx)"
   ]
  },
  {
   "cell_type": "markdown",
   "id": "japanese-option",
   "metadata": {},
   "source": [
    " "
   ]
  },
  {
   "cell_type": "markdown",
   "id": "gorgeous-symposium",
   "metadata": {},
   "source": [
    "> datetime 객체는 여러 나라 혹은 언어에서 사용하는 로케일에 맞는 다양한 포맷 옵션을 제공한다.  \n",
    "> 예를 들어 독일과 프랑스에서는 각 월의 단축명이 영문 시스템과 다르다. 로케일 별 날짜 포맷을 확인할 필요가 있다."
   ]
  },
  {
   "cell_type": "markdown",
   "id": "assigned-version",
   "metadata": {},
   "source": [
    "#### 로케일별 날짜 포맷\n",
    "\n",
    "<details>\n",
    "<summary>로케일별 날짜 포맷</summary>\n",
    "<div markdown=\"1\">\n",
    "\n",
    "|포맷|설명|\n",
    "|:--|:--|\n",
    "|%a|축약된 요일 이름|\n",
    "|%A|요일 이름|\n",
    "|%b|축약된 월 이름|\n",
    "|%B|월 이름|\n",
    "|%c|전체 날짜와 시간(예: 'Tue 01 May 2012 04:20:57 PM')|\n",
    "|%p|해당 로케일에서 AM, PM에 대응되는 이름(AM은 오전, PM은 오후)|\n",
    "|%x|로케일에 맞는 날짜 형식 (예:미국이라면 2012년 5월 1일은 '05/01/2012')|\n",
    "|%X|로케일에 맞는 시간 형식 (예: '04:24:12 PM')|\n",
    "    \n",
    "</div>\n",
    "</details>"
   ]
  },
  {
   "cell_type": "markdown",
   "id": "extreme-arrival",
   "metadata": {},
   "source": [
    " "
   ]
  },
  {
   "cell_type": "markdown",
   "id": "adjustable-multiple",
   "metadata": {},
   "source": [
    "## 11.2 시계열 기초"
   ]
  },
  {
   "cell_type": "markdown",
   "id": "immediate-italic",
   "metadata": {},
   "source": [
    "- pandas에서 찾아볼 수 있는 가장 기본적인 시계열 객체의 종류는 파이썬 문자열이나 datetime 객체로 표현되는 타임스탬프로 색인된 Series다."
   ]
  },
  {
   "cell_type": "code",
   "execution_count": 14,
   "id": "developmental-reading",
   "metadata": {},
   "outputs": [
    {
     "data": {
      "text/plain": [
       "2011-01-02    1.466517\n",
       "2011-01-05   -0.022566\n",
       "2011-01-07    0.461421\n",
       "2011-01-08    0.555314\n",
       "2011-01-10    0.178169\n",
       "2011-01-12   -1.077623\n",
       "dtype: float64"
      ]
     },
     "execution_count": 14,
     "metadata": {},
     "output_type": "execute_result"
    }
   ],
   "source": [
    "from datetime import datetime\n",
    "\n",
    "dates = [datetime(2011, 1, 2), datetime(2011, 1, 5),\n",
    "         datetime(2011, 1, 7), datetime(2011, 1, 8),\n",
    "         datetime(2011, 1, 10), datetime(2011, 1, 12)]\n",
    "\n",
    "ts = pd.Series(np.random.randn(6), index = dates)\n",
    "ts"
   ]
  },
  {
   "cell_type": "markdown",
   "id": "exotic-builder",
   "metadata": {},
   "source": [
    " "
   ]
  },
  {
   "cell_type": "markdown",
   "id": "lovely-gathering",
   "metadata": {},
   "source": [
    "> 내부적으로 보면 이들 datetime 객체는 DatetimeIndex에 들어 있으며 ts 변수의 타입은 TimeSeries다."
   ]
  },
  {
   "cell_type": "code",
   "execution_count": 38,
   "id": "sweet-right",
   "metadata": {},
   "outputs": [
    {
     "data": {
      "text/plain": [
       "DatetimeIndex(['2011-01-02', '2011-01-05', '2011-01-07', '2011-01-08',\n",
       "               '2011-01-10', '2011-01-12'],\n",
       "              dtype='datetime64[ns]', freq=None)"
      ]
     },
     "execution_count": 38,
     "metadata": {},
     "output_type": "execute_result"
    }
   ],
   "source": [
    "ts.index"
   ]
  },
  {
   "cell_type": "markdown",
   "id": "confident-puppy",
   "metadata": {},
   "source": [
    " "
   ]
  },
  {
   "cell_type": "markdown",
   "id": "korean-consistency",
   "metadata": {},
   "source": [
    "> 다른 Series와 마찬가지로 서로 다르게 색인된 시계열 객체 간의 산술 연산은 자동으로 날짜에 맞춰진다."
   ]
  },
  {
   "cell_type": "code",
   "execution_count": 39,
   "id": "noticed-paraguay",
   "metadata": {},
   "outputs": [
    {
     "data": {
      "text/plain": [
       "2011-01-02    1.054187\n",
       "2011-01-05         NaN\n",
       "2011-01-07   -1.170364\n",
       "2011-01-08         NaN\n",
       "2011-01-10   -2.400915\n",
       "2011-01-12         NaN\n",
       "dtype: float64"
      ]
     },
     "execution_count": 39,
     "metadata": {},
     "output_type": "execute_result"
    }
   ],
   "source": [
    "ts + ts[::2]"
   ]
  },
  {
   "cell_type": "markdown",
   "id": "informal-pierre",
   "metadata": {},
   "source": [
    " "
   ]
  },
  {
   "cell_type": "markdown",
   "id": "unique-timer",
   "metadata": {},
   "source": [
    "> pandas는 NumPy의 datetime64 자료형을 사용해서 나노초의 정밀도를 가지는 타임스탬프를 저장한다."
   ]
  },
  {
   "cell_type": "code",
   "execution_count": 40,
   "id": "mental-sampling",
   "metadata": {},
   "outputs": [
    {
     "data": {
      "text/plain": [
       "dtype('<M8[ns]')"
      ]
     },
     "execution_count": 40,
     "metadata": {},
     "output_type": "execute_result"
    }
   ],
   "source": [
    "ts.index.dtype"
   ]
  },
  {
   "cell_type": "markdown",
   "id": "indoor-telling",
   "metadata": {},
   "source": [
    " "
   ]
  },
  {
   "cell_type": "markdown",
   "id": "professional-jersey",
   "metadata": {},
   "source": [
    "> DatetimeIndex의 스칼라값은 pandas Timestamp 객체다.  \n",
    "> Timestamp는 datetime 객체를 사용하는 어떤 곳에도 대체 사용이 가능하다.  \n",
    "> 게다가 가능하다면 빈도에 관한 정보도 저장하며 시간대 변환을 하는 방법과 다른 종류의 조작을 하는 방법도 포함하고 있다."
   ]
  },
  {
   "cell_type": "code",
   "execution_count": 42,
   "id": "swedish-sunglasses",
   "metadata": {},
   "outputs": [
    {
     "data": {
      "text/plain": [
       "Timestamp('2011-01-02 00:00:00')"
      ]
     },
     "execution_count": 42,
     "metadata": {},
     "output_type": "execute_result"
    }
   ],
   "source": [
    "stamp = ts.index[0]\n",
    "stamp"
   ]
  },
  {
   "cell_type": "markdown",
   "id": "bizarre-factory",
   "metadata": {},
   "source": [
    " "
   ]
  },
  {
   "cell_type": "markdown",
   "id": "understanding-oakland",
   "metadata": {},
   "source": [
    "### 11.2.1 색인, 선택, 부분 선택"
   ]
  },
  {
   "cell_type": "markdown",
   "id": "rapid-survival",
   "metadata": {},
   "source": [
    "> 시계열은 라벨에 기반해서 데이터를 선택하고 인덱싱할 때 pandas.Series와 동일하게 동작한다."
   ]
  },
  {
   "cell_type": "code",
   "execution_count": 44,
   "id": "accomplished-algebra",
   "metadata": {},
   "outputs": [
    {
     "data": {
      "text/plain": [
       "Timestamp('2011-01-07 00:00:00')"
      ]
     },
     "execution_count": 44,
     "metadata": {},
     "output_type": "execute_result"
    }
   ],
   "source": [
    "stamp = ts.index[2]\n",
    "stamp"
   ]
  },
  {
   "cell_type": "code",
   "execution_count": 45,
   "id": "delayed-radiation",
   "metadata": {},
   "outputs": [
    {
     "data": {
      "text/plain": [
       "-0.5851821281381955"
      ]
     },
     "execution_count": 45,
     "metadata": {},
     "output_type": "execute_result"
    }
   ],
   "source": [
    "ts[stamp]"
   ]
  },
  {
   "cell_type": "markdown",
   "id": "found-transsexual",
   "metadata": {},
   "source": [
    " "
   ]
  },
  {
   "cell_type": "markdown",
   "id": "ethical-maria",
   "metadata": {},
   "source": [
    "> 해석할 수 있는 날짜를 문자열로 넘겨서 편리하게 사용할 수 있다."
   ]
  },
  {
   "cell_type": "code",
   "execution_count": 46,
   "id": "solar-malta",
   "metadata": {},
   "outputs": [
    {
     "data": {
      "text/plain": [
       "-1.2004575143223382"
      ]
     },
     "execution_count": 46,
     "metadata": {},
     "output_type": "execute_result"
    }
   ],
   "source": [
    "ts['1/10/2011']"
   ]
  },
  {
   "cell_type": "code",
   "execution_count": 49,
   "id": "spread-proxy",
   "metadata": {},
   "outputs": [
    {
     "data": {
      "text/plain": [
       "-1.2004575143223382"
      ]
     },
     "execution_count": 49,
     "metadata": {},
     "output_type": "execute_result"
    }
   ],
   "source": [
    "ts['20110110']"
   ]
  },
  {
   "cell_type": "markdown",
   "id": "gross-kentucky",
   "metadata": {},
   "source": [
    " "
   ]
  },
  {
   "cell_type": "markdown",
   "id": "sweet-crisis",
   "metadata": {},
   "source": [
    "> 긴 시계열에서는 연을 넘기거나 연, 월만 넘겨서 데이터의 일부 구간만 선택할 수도 있다."
   ]
  },
  {
   "cell_type": "code",
   "execution_count": 51,
   "id": "honest-company",
   "metadata": {},
   "outputs": [
    {
     "data": {
      "text/plain": [
       "2000-01-01    0.511902\n",
       "2000-01-02    0.300940\n",
       "2000-01-03    0.590463\n",
       "2000-01-04   -1.085473\n",
       "2000-01-05    0.950203\n",
       "                ...   \n",
       "2002-09-22    1.151353\n",
       "2002-09-23    1.236167\n",
       "2002-09-24    1.110303\n",
       "2002-09-25   -0.151498\n",
       "2002-09-26   -0.656942\n",
       "Freq: D, Length: 1000, dtype: float64"
      ]
     },
     "execution_count": 51,
     "metadata": {},
     "output_type": "execute_result"
    }
   ],
   "source": [
    "longer_ts = pd.Series(np.random.randn(1000), index = pd.date_range('1/1/2000', periods = 1000))\n",
    "longer_ts"
   ]
  },
  {
   "cell_type": "code",
   "execution_count": 52,
   "id": "floral-hometown",
   "metadata": {},
   "outputs": [
    {
     "data": {
      "text/plain": [
       "2001-01-01    1.156484\n",
       "2001-01-02   -0.839789\n",
       "2001-01-03   -0.109572\n",
       "2001-01-04    0.090570\n",
       "2001-01-05   -0.128576\n",
       "                ...   \n",
       "2001-12-27    0.108491\n",
       "2001-12-28   -0.177276\n",
       "2001-12-29   -0.735996\n",
       "2001-12-30    0.064573\n",
       "2001-12-31   -1.574414\n",
       "Freq: D, Length: 365, dtype: float64"
      ]
     },
     "execution_count": 52,
     "metadata": {},
     "output_type": "execute_result"
    }
   ],
   "source": [
    "longer_ts['2001']"
   ]
  },
  {
   "cell_type": "markdown",
   "id": "separate-watson",
   "metadata": {},
   "source": [
    " "
   ]
  },
  {
   "cell_type": "markdown",
   "id": "opened-perspective",
   "metadata": {},
   "source": [
    "> 연에 대해서도 마찬가지로 선택할 수 있다."
   ]
  },
  {
   "cell_type": "code",
   "execution_count": 53,
   "id": "mature-responsibility",
   "metadata": {},
   "outputs": [
    {
     "data": {
      "text/plain": [
       "2001-05-01    1.355891\n",
       "2001-05-02   -0.655497\n",
       "2001-05-03   -1.522220\n",
       "2001-05-04   -0.224103\n",
       "2001-05-05    1.516159\n",
       "2001-05-06   -0.784441\n",
       "2001-05-07   -3.027601\n",
       "2001-05-08    0.374262\n",
       "2001-05-09   -0.319081\n",
       "2001-05-10   -0.088985\n",
       "2001-05-11    0.790988\n",
       "2001-05-12   -0.829910\n",
       "2001-05-13   -0.356047\n",
       "2001-05-14   -0.383890\n",
       "2001-05-15    0.470284\n",
       "2001-05-16   -1.711977\n",
       "2001-05-17    0.995628\n",
       "2001-05-18    0.377491\n",
       "2001-05-19   -0.716980\n",
       "2001-05-20   -0.726000\n",
       "2001-05-21    0.563092\n",
       "2001-05-22   -0.636812\n",
       "2001-05-23    0.751799\n",
       "2001-05-24    1.596946\n",
       "2001-05-25    0.310778\n",
       "2001-05-26   -2.001816\n",
       "2001-05-27    0.519565\n",
       "2001-05-28    0.170625\n",
       "2001-05-29   -0.925019\n",
       "2001-05-30   -0.208023\n",
       "2001-05-31   -1.436730\n",
       "Freq: D, dtype: float64"
      ]
     },
     "execution_count": 53,
     "metadata": {},
     "output_type": "execute_result"
    }
   ],
   "source": [
    "longer_ts['2001-05']"
   ]
  },
  {
   "cell_type": "markdown",
   "id": "fantastic-dynamics",
   "metadata": {},
   "source": [
    " "
   ]
  },
  {
   "cell_type": "markdown",
   "id": "white-blame",
   "metadata": {},
   "source": [
    "> datetime 객체로 데이터를 잘라내는 작업은 일반적인 Series와 동일한 방식으로 할 수 있다."
   ]
  },
  {
   "cell_type": "code",
   "execution_count": 54,
   "id": "vertical-hopkins",
   "metadata": {},
   "outputs": [
    {
     "data": {
      "text/plain": [
       "2011-01-07   -0.585182\n",
       "2011-01-08    0.487272\n",
       "2011-01-10   -1.200458\n",
       "2011-01-12   -0.376832\n",
       "dtype: float64"
      ]
     },
     "execution_count": 54,
     "metadata": {},
     "output_type": "execute_result"
    }
   ],
   "source": [
    "ts[datetime(2011, 1, 7):]"
   ]
  },
  {
   "cell_type": "markdown",
   "id": "looking-philip",
   "metadata": {},
   "source": [
    " "
   ]
  },
  {
   "cell_type": "markdown",
   "id": "eleven-lender",
   "metadata": {},
   "source": [
    "> 대부분의 시계열 데이터는 연대순으로 정렬되기 때문에 범위를 지정하기 위해 시계열에 포함하지 않고 타임스탬프를 이용해서 Series를 나눌 수 있다.  \n",
    "> 이런 방식으로 데이터를 나누면 NumPy 배열을 나누는 것처럼 원본 시계열에 대한 뷰를 생성한다는 사실을 기억하자.  \n",
    "> 즉, 데이터 복사가 발생하지 않고 슬라이스에 대한 변경이 원본 데이터에도 반영된다."
   ]
  },
  {
   "cell_type": "code",
   "execution_count": 56,
   "id": "excess-peripheral",
   "metadata": {},
   "outputs": [
    {
     "data": {
      "text/plain": [
       "2011-01-07   -0.585182\n",
       "2011-01-08    0.487272\n",
       "2011-01-10   -1.200458\n",
       "dtype: float64"
      ]
     },
     "execution_count": 56,
     "metadata": {},
     "output_type": "execute_result"
    }
   ],
   "source": [
    "ts['1/6/2011' : '1/11/2011']"
   ]
  },
  {
   "cell_type": "markdown",
   "id": "radical-gates",
   "metadata": {},
   "source": [
    " "
   ]
  },
  {
   "cell_type": "markdown",
   "id": "monthly-symbol",
   "metadata": {},
   "source": [
    "> 이와 동일한 인스턴스 메서드로 truncate가 있다. 이 메서드는 TimeSeries를 두 개의 날짜로 나눈다."
   ]
  },
  {
   "cell_type": "code",
   "execution_count": 57,
   "id": "contrary-connectivity",
   "metadata": {},
   "outputs": [
    {
     "data": {
      "text/plain": [
       "2011-01-02    0.527093\n",
       "2011-01-05   -1.081817\n",
       "2011-01-07   -0.585182\n",
       "2011-01-08    0.487272\n",
       "dtype: float64"
      ]
     },
     "execution_count": 57,
     "metadata": {},
     "output_type": "execute_result"
    }
   ],
   "source": [
    "ts.truncate(after = '1/9/2011')"
   ]
  },
  {
   "cell_type": "markdown",
   "id": "incredible-evans",
   "metadata": {},
   "source": [
    " "
   ]
  },
  {
   "cell_type": "markdown",
   "id": "handmade-mining",
   "metadata": {},
   "source": [
    "> 위 방식은 DataFrame에서도 동일하게 적용되며 로우에 인덱싱된다."
   ]
  },
  {
   "cell_type": "code",
   "execution_count": 6,
   "id": "sunrise-recall",
   "metadata": {},
   "outputs": [
    {
     "data": {
      "text/html": [
       "<div>\n",
       "<style scoped>\n",
       "    .dataframe tbody tr th:only-of-type {\n",
       "        vertical-align: middle;\n",
       "    }\n",
       "\n",
       "    .dataframe tbody tr th {\n",
       "        vertical-align: top;\n",
       "    }\n",
       "\n",
       "    .dataframe thead th {\n",
       "        text-align: right;\n",
       "    }\n",
       "</style>\n",
       "<table border=\"1\" class=\"dataframe\">\n",
       "  <thead>\n",
       "    <tr style=\"text-align: right;\">\n",
       "      <th></th>\n",
       "      <th>Colorado</th>\n",
       "      <th>Texas</th>\n",
       "      <th>New York</th>\n",
       "      <th>Ohio</th>\n",
       "    </tr>\n",
       "  </thead>\n",
       "  <tbody>\n",
       "    <tr>\n",
       "      <th>2001-05-02</th>\n",
       "      <td>1.612461</td>\n",
       "      <td>-1.400783</td>\n",
       "      <td>1.216596</td>\n",
       "      <td>-0.360757</td>\n",
       "    </tr>\n",
       "    <tr>\n",
       "      <th>2001-05-09</th>\n",
       "      <td>-0.377931</td>\n",
       "      <td>-0.765961</td>\n",
       "      <td>-1.552703</td>\n",
       "      <td>-2.125842</td>\n",
       "    </tr>\n",
       "    <tr>\n",
       "      <th>2001-05-16</th>\n",
       "      <td>-0.004144</td>\n",
       "      <td>0.639612</td>\n",
       "      <td>0.152298</td>\n",
       "      <td>-1.294210</td>\n",
       "    </tr>\n",
       "    <tr>\n",
       "      <th>2001-05-23</th>\n",
       "      <td>-1.051125</td>\n",
       "      <td>1.486870</td>\n",
       "      <td>-1.708587</td>\n",
       "      <td>-1.344267</td>\n",
       "    </tr>\n",
       "    <tr>\n",
       "      <th>2001-05-30</th>\n",
       "      <td>0.786616</td>\n",
       "      <td>-1.047173</td>\n",
       "      <td>0.269552</td>\n",
       "      <td>0.877791</td>\n",
       "    </tr>\n",
       "  </tbody>\n",
       "</table>\n",
       "</div>"
      ],
      "text/plain": [
       "            Colorado     Texas  New York      Ohio\n",
       "2001-05-02  1.612461 -1.400783  1.216596 -0.360757\n",
       "2001-05-09 -0.377931 -0.765961 -1.552703 -2.125842\n",
       "2001-05-16 -0.004144  0.639612  0.152298 -1.294210\n",
       "2001-05-23 -1.051125  1.486870 -1.708587 -1.344267\n",
       "2001-05-30  0.786616 -1.047173  0.269552  0.877791"
      ]
     },
     "execution_count": 6,
     "metadata": {},
     "output_type": "execute_result"
    }
   ],
   "source": [
    "dates = pd.date_range('1/1/2000', periods = 100, freq = 'W-WED')\n",
    "\n",
    "long_df = pd.DataFrame(np.random.randn(100,4),\n",
    "                       index = dates,\n",
    "                       columns = ['Colorado', 'Texas', 'New York', 'Ohio'])\n",
    "\n",
    "long_df.loc['05-2001']"
   ]
  },
  {
   "cell_type": "markdown",
   "id": "middle-index",
   "metadata": {},
   "source": [
    " "
   ]
  },
  {
   "cell_type": "markdown",
   "id": "whole-jamaica",
   "metadata": {},
   "source": [
    "### 11.2.2 중복된 색인을 갖는 시계열"
   ]
  },
  {
   "cell_type": "markdown",
   "id": "municipal-adoption",
   "metadata": {},
   "source": [
    "> 어떤 애플리케이션에서는 여러 데이터가 특정 타임스탬프에 몰려 있는 것을 발견할 수 있다."
   ]
  },
  {
   "cell_type": "code",
   "execution_count": 7,
   "id": "signal-click",
   "metadata": {},
   "outputs": [
    {
     "data": {
      "text/plain": [
       "2000-01-01    0\n",
       "2000-01-02    1\n",
       "2000-01-02    2\n",
       "2000-01-02    3\n",
       "2000-01-03    4\n",
       "dtype: int32"
      ]
     },
     "execution_count": 7,
     "metadata": {},
     "output_type": "execute_result"
    }
   ],
   "source": [
    "dates = pd.DatetimeIndex(['1/1/2000','1/2/2000','1/2/2000',\n",
    "                          '1/2/2000','1/3/2000'])\n",
    "\n",
    "dup_ts = pd.Series(np.arange(5), index = dates)\n",
    "dup_ts"
   ]
  },
  {
   "cell_type": "markdown",
   "id": "burning-reservoir",
   "metadata": {},
   "source": [
    " "
   ]
  },
  {
   "cell_type": "markdown",
   "id": "numeric-fighter",
   "metadata": {},
   "source": [
    "> is_unique 속성을 통해 확인해보면 색인이 유일하지 않음을 알 수 있다."
   ]
  },
  {
   "cell_type": "code",
   "execution_count": 8,
   "id": "bright-moore",
   "metadata": {},
   "outputs": [
    {
     "data": {
      "text/plain": [
       "False"
      ]
     },
     "execution_count": 8,
     "metadata": {},
     "output_type": "execute_result"
    }
   ],
   "source": [
    "dup_ts.index.is_unique"
   ]
  },
  {
   "cell_type": "markdown",
   "id": "greek-groove",
   "metadata": {},
   "source": [
    " "
   ]
  },
  {
   "cell_type": "markdown",
   "id": "external-preliminary",
   "metadata": {},
   "source": [
    "> 이 시계열 데이터를 인덱싱하면 타임스탬프의 중복 여부에 다라 스칼라값이나 슬라이스가 생성된다."
   ]
  },
  {
   "cell_type": "code",
   "execution_count": 9,
   "id": "apparent-journey",
   "metadata": {},
   "outputs": [
    {
     "data": {
      "text/plain": [
       "4"
      ]
     },
     "execution_count": 9,
     "metadata": {},
     "output_type": "execute_result"
    }
   ],
   "source": [
    "dup_ts['1/3/2000']  # 중복 없음"
   ]
  },
  {
   "cell_type": "code",
   "execution_count": 10,
   "id": "precious-pierce",
   "metadata": {},
   "outputs": [
    {
     "data": {
      "text/plain": [
       "2000-01-02    1\n",
       "2000-01-02    2\n",
       "2000-01-02    3\n",
       "dtype: int32"
      ]
     },
     "execution_count": 10,
     "metadata": {},
     "output_type": "execute_result"
    }
   ],
   "source": [
    "dup_ts['1/2/2000']  # 중복 있음"
   ]
  },
  {
   "cell_type": "markdown",
   "id": "turned-transcription",
   "metadata": {},
   "source": [
    " "
   ]
  },
  {
   "cell_type": "markdown",
   "id": "classified-queensland",
   "metadata": {},
   "source": [
    "> 유일하지 않은 타임스탬프를 가지는 데이터를 집계한다고 할 때, 한 가지 방법은 groupby에 level=0 (단일 단계 인덱싱)을 넘기는 것이다."
   ]
  },
  {
   "cell_type": "code",
   "execution_count": 11,
   "id": "sticky-jackson",
   "metadata": {},
   "outputs": [
    {
     "data": {
      "text/plain": [
       "2000-01-01    0\n",
       "2000-01-02    2\n",
       "2000-01-03    4\n",
       "dtype: int32"
      ]
     },
     "execution_count": 11,
     "metadata": {},
     "output_type": "execute_result"
    }
   ],
   "source": [
    "grouped = dup_ts.groupby(level = 0)\n",
    "grouped.mean()"
   ]
  },
  {
   "cell_type": "code",
   "execution_count": 12,
   "id": "coordinate-tablet",
   "metadata": {},
   "outputs": [
    {
     "data": {
      "text/plain": [
       "2000-01-01    1\n",
       "2000-01-02    3\n",
       "2000-01-03    1\n",
       "dtype: int64"
      ]
     },
     "execution_count": 12,
     "metadata": {},
     "output_type": "execute_result"
    }
   ],
   "source": [
    "grouped.count()"
   ]
  },
  {
   "cell_type": "markdown",
   "id": "relevant-carol",
   "metadata": {},
   "source": [
    " "
   ]
  },
  {
   "cell_type": "markdown",
   "id": "subsequent-portrait",
   "metadata": {},
   "source": [
    "## 11.3 날짜 범위, 빈도, 이동"
   ]
  },
  {
   "cell_type": "markdown",
   "id": "civic-episode",
   "metadata": {},
   "source": [
    "- pandas에서 일반적인 시계열은 불규칙적인 것으로 간주된다. 즉, 고정된 빈도를 갖지 않는다.\n",
    "- 하지만 시계열 안에서 누락된 값이 발생할지라도 일별, 월별 혹은 매 15분 같은 상대적인 고정 빈도에서의 작업이 요구되는 경우가 종종 있다.\n",
    "    - pandas에는 리샘플링, 표준 시계열 빈도 모음, 빈도 추론 그리고 고정된 빈도의 날짜 범위를 위한 도구가 있다."
   ]
  },
  {
   "cell_type": "markdown",
   "id": "vietnamese-lending",
   "metadata": {},
   "source": [
    "> 예를 들어, 아래 예제 시계열을 고정된 일 빈도로 변환하려면 resample 메서드를 활용하면 된다.  \n",
    "> 빈도 간 변환이나 `리샘플링`은 큰 주제이므로 11.6절 '리샘플링과 빈도 변환' 확인.  \n",
    "> 여기서는 기본 빈도와 다중 빈도를 어떻게 사용하는지 살펴보기"
   ]
  },
  {
   "cell_type": "code",
   "execution_count": 15,
   "id": "electronic-literacy",
   "metadata": {},
   "outputs": [
    {
     "data": {
      "text/plain": [
       "2011-01-02    1.466517\n",
       "2011-01-05   -0.022566\n",
       "2011-01-07    0.461421\n",
       "2011-01-08    0.555314\n",
       "2011-01-10    0.178169\n",
       "2011-01-12   -1.077623\n",
       "dtype: float64"
      ]
     },
     "execution_count": 15,
     "metadata": {},
     "output_type": "execute_result"
    }
   ],
   "source": [
    "ts"
   ]
  },
  {
   "cell_type": "code",
   "execution_count": 18,
   "id": "acoustic-silly",
   "metadata": {},
   "outputs": [],
   "source": [
    "resampler = ts.resample('D')  # 문자열 'D'는 일 빈도로 해석된다."
   ]
  },
  {
   "cell_type": "markdown",
   "id": "racial-resolution",
   "metadata": {},
   "source": [
    " "
   ]
  },
  {
   "cell_type": "markdown",
   "id": "burning-greek",
   "metadata": {},
   "source": [
    "### 11.3.1 날짜 범위 생성하기"
   ]
  },
  {
   "cell_type": "markdown",
   "id": "popular-jurisdiction",
   "metadata": {},
   "source": [
    "> 기본적으로 date_range는 일별 타임스탬프를 생성한다."
   ]
  },
  {
   "cell_type": "code",
   "execution_count": 20,
   "id": "successful-diary",
   "metadata": {},
   "outputs": [
    {
     "data": {
      "text/plain": [
       "DatetimeIndex(['2012-04-01', '2012-04-02', '2012-04-03', '2012-04-04',\n",
       "               '2012-04-05', '2012-04-06', '2012-04-07', '2012-04-08',\n",
       "               '2012-04-09', '2012-04-10', '2012-04-11', '2012-04-12',\n",
       "               '2012-04-13', '2012-04-14', '2012-04-15', '2012-04-16',\n",
       "               '2012-04-17', '2012-04-18', '2012-04-19', '2012-04-20',\n",
       "               '2012-04-21', '2012-04-22', '2012-04-23', '2012-04-24',\n",
       "               '2012-04-25', '2012-04-26', '2012-04-27', '2012-04-28',\n",
       "               '2012-04-29', '2012-04-30', '2012-05-01', '2012-05-02',\n",
       "               '2012-05-03', '2012-05-04', '2012-05-05', '2012-05-06',\n",
       "               '2012-05-07', '2012-05-08', '2012-05-09', '2012-05-10',\n",
       "               '2012-05-11', '2012-05-12', '2012-05-13', '2012-05-14',\n",
       "               '2012-05-15', '2012-05-16', '2012-05-17', '2012-05-18',\n",
       "               '2012-05-19', '2012-05-20', '2012-05-21', '2012-05-22',\n",
       "               '2012-05-23', '2012-05-24', '2012-05-25', '2012-05-26',\n",
       "               '2012-05-27', '2012-05-28', '2012-05-29', '2012-05-30',\n",
       "               '2012-05-31', '2012-06-01'],\n",
       "              dtype='datetime64[ns]', freq='D')"
      ]
     },
     "execution_count": 20,
     "metadata": {},
     "output_type": "execute_result"
    }
   ],
   "source": [
    "index = pd.date_range('2012-04-01', '2012-06-01')\n",
    "index"
   ]
  },
  {
   "cell_type": "markdown",
   "id": "elegant-tooth",
   "metadata": {},
   "source": [
    " "
   ]
  },
  {
   "cell_type": "markdown",
   "id": "entertaining-audit",
   "metadata": {},
   "source": [
    ">  만약 시작 날짜나 종료 날짜만 넘긴다면 생성할 기간의 숫자를 함께 전달해야 한다."
   ]
  },
  {
   "cell_type": "code",
   "execution_count": 21,
   "id": "waiting-addiction",
   "metadata": {},
   "outputs": [
    {
     "data": {
      "text/plain": [
       "DatetimeIndex(['2012-04-01', '2012-04-02', '2012-04-03', '2012-04-04',\n",
       "               '2012-04-05', '2012-04-06', '2012-04-07', '2012-04-08',\n",
       "               '2012-04-09', '2012-04-10', '2012-04-11', '2012-04-12',\n",
       "               '2012-04-13', '2012-04-14', '2012-04-15', '2012-04-16',\n",
       "               '2012-04-17', '2012-04-18', '2012-04-19', '2012-04-20'],\n",
       "              dtype='datetime64[ns]', freq='D')"
      ]
     },
     "execution_count": 21,
     "metadata": {},
     "output_type": "execute_result"
    }
   ],
   "source": [
    "pd.date_range(start = '2012-04-01', periods = 20)"
   ]
  },
  {
   "cell_type": "code",
   "execution_count": 22,
   "id": "extra-wayne",
   "metadata": {},
   "outputs": [
    {
     "data": {
      "text/plain": [
       "DatetimeIndex(['2012-05-13', '2012-05-14', '2012-05-15', '2012-05-16',\n",
       "               '2012-05-17', '2012-05-18', '2012-05-19', '2012-05-20',\n",
       "               '2012-05-21', '2012-05-22', '2012-05-23', '2012-05-24',\n",
       "               '2012-05-25', '2012-05-26', '2012-05-27', '2012-05-28',\n",
       "               '2012-05-29', '2012-05-30', '2012-05-31', '2012-06-01'],\n",
       "              dtype='datetime64[ns]', freq='D')"
      ]
     },
     "execution_count": 22,
     "metadata": {},
     "output_type": "execute_result"
    }
   ],
   "source": [
    "pd.date_range(end = '2012-06-01', periods = 20)"
   ]
  },
  {
   "cell_type": "markdown",
   "id": "empirical-satisfaction",
   "metadata": {},
   "source": [
    " "
   ]
  },
  {
   "cell_type": "markdown",
   "id": "unique-indian",
   "metadata": {},
   "source": [
    "> 시작과 종료 날짜는 생성된 날짜 색인에 대해 엄격한 경계를 정의한다.  \n",
    "> 예를 들어 날짜 색인이 각 월의 마지막 영업일을 포함하도록 하고 싶다면 빈도값으로 'BM' (월 영업마감일)을 전달할 것이다.  \n",
    "> 그러면 이 기간 안에 들어오는 날짜들만 포함된다."
   ]
  },
  {
   "cell_type": "code",
   "execution_count": 23,
   "id": "measured-guinea",
   "metadata": {},
   "outputs": [
    {
     "data": {
      "text/plain": [
       "DatetimeIndex(['2000-01-31', '2000-02-29', '2000-03-31', '2000-04-28',\n",
       "               '2000-05-31', '2000-06-30', '2000-07-31', '2000-08-31',\n",
       "               '2000-09-29', '2000-10-31', '2000-11-30'],\n",
       "              dtype='datetime64[ns]', freq='BM')"
      ]
     },
     "execution_count": 23,
     "metadata": {},
     "output_type": "execute_result"
    }
   ],
   "source": [
    "pd.date_range(\"2000-01-01\", '2000-12-01', freq = 'BM')"
   ]
  },
  {
   "cell_type": "markdown",
   "id": "spread-dependence",
   "metadata": {},
   "source": [
    " "
   ]
  },
  {
   "cell_type": "markdown",
   "id": "careful-jamaica",
   "metadata": {},
   "source": [
    " "
   ]
  },
  {
   "cell_type": "markdown",
   "id": "toxic-vegetarian",
   "metadata": {},
   "source": [
    "#### 기본 시계열 빈도\n",
    "\n",
    "<details>\n",
    "<summary>기본 시계열 빈도</summary>\n",
    "<div markdown=\"1\">\n",
    "\n",
    "|축약|오프셋 종류|설명|\n",
    "|:--|:--|:--|\n",
    "|D|Day|달력상의 일|\n",
    "|B|BusinessDay|매 영업일|\n",
    "|H|Hour|매시|\n",
    "|T 또는 min|Minute|매분|\n",
    "|S|Second|매초|\n",
    "|L 또는 ms|Milli|밀리초(1/1000초)|\n",
    "|U|Micro|마이크로초(1/1,000,000초)|\n",
    "|M|MonthEnd|월 마지막 일|\n",
    "|BM|BusinessMonthEnd|월 영업마감일|\n",
    "|MS|MonthBegin|월 시작일|\n",
    "|BMS|BusinessMonthBegin|월 영업시작일|\n",
    "|W-MON, W-TUE, ...|Week|요일. MON, TUE, WED, THU, FRI, SAT, SUN|\n",
    "|WOM-1MON, WOM-2MON, ...|WeekOfMonth|월별 주차와 요일. 예를 들어 WOM-3FRI는 매월 3째주 금요일이다.|\n",
    "|Q-JAN, Q-FEB, ...|QuarterEnd|지정된 월을 해당년도의 마감으로 하며 지정된 월의 마지막 날짜를 가리키는 분기 주기(JAN, FEB, MAR, APR, MAY, JUN, JUL, AUG, SEP, OCT, NOV, DEC)|\n",
    "|BQ-JAN, BQ-FEB, ...|BusinessQuarterEnd|지정된 월을 해당년도의 마감으로 하며 지정된 월의 마지막 영업일을 가리키는 분기 주기|\n",
    "|QS-JAN, QS-FEB, ...|QuarterBegin|지정된 월을 해당년도의 마감으로 하며 지정된 월의 첫째 날을 가리키는 분기 주기|\n",
    "|BQS-JAN, BQS-FEB, ...|BusinessQuarterBegin|지정된 월을 해당년도의 마감으로 하며 지정된 월의 첫 번째 영업일을 가리키는 분기 주기|\n",
    "|A-JAN, A-FEB, ...|YearEnd|주어진 월의 마지막 일을 가리키는 연간 주기(JAN, FEB, MAR, APR, MAY, JUN, JUL, AUG, SEP, OCT, NOV, DEC)|\n",
    "|BA-JAN, BA-FEB, ...|BusinessYearEnd|주어진 월의 영업 마감일을 가리키는 연간 주기|\n",
    "|AS-JAN, AS-FEB, ...|YearBegin|주어진 월의 시작일을 가리키는 연간 주기|\n",
    "|BAS-JAN, BAS-FEB, ...|BusinessYearBegin|주어진 월의 영업 시작일을 가리키는 연간 주기|\n",
    "   \n",
    "</div>\n",
    "</details>"
   ]
  },
  {
   "cell_type": "markdown",
   "id": "printable-anniversary",
   "metadata": {},
   "source": [
    " "
   ]
  },
  {
   "cell_type": "markdown",
   "id": "yellow-replication",
   "metadata": {},
   "source": [
    "> date_range는 기본적으로 시작 시간이나 종료 시간의 타임스탬프(존재한다면)를 보존한다."
   ]
  },
  {
   "cell_type": "code",
   "execution_count": 25,
   "id": "agricultural-compact",
   "metadata": {},
   "outputs": [
    {
     "data": {
      "text/plain": [
       "DatetimeIndex(['2012-05-02 12:56:31', '2012-05-03 12:56:31',\n",
       "               '2012-05-04 12:56:31', '2012-05-05 12:56:31',\n",
       "               '2012-05-06 12:56:31'],\n",
       "              dtype='datetime64[ns]', freq='D')"
      ]
     },
     "execution_count": 25,
     "metadata": {},
     "output_type": "execute_result"
    }
   ],
   "source": [
    "pd.date_range('2012-05-02 12:56:31', periods = 5)"
   ]
  },
  {
   "cell_type": "markdown",
   "id": "steady-archives",
   "metadata": {},
   "source": [
    " "
   ]
  },
  {
   "cell_type": "markdown",
   "id": "welsh-satellite",
   "metadata": {},
   "source": [
    "> 가끔은 시간 정보를 포함하여 시작 날짜와 종료 날짜를 갖고 있으나 관례에 따라 자정에 맞추어 타임스탬프를 `정규화`하고 싶을 때 normalize 옵션을 사용한다."
   ]
  },
  {
   "cell_type": "code",
   "execution_count": 26,
   "id": "recognized-history",
   "metadata": {},
   "outputs": [
    {
     "data": {
      "text/plain": [
       "DatetimeIndex(['2012-05-02', '2012-05-03', '2012-05-04', '2012-05-05',\n",
       "               '2012-05-06'],\n",
       "              dtype='datetime64[ns]', freq='D')"
      ]
     },
     "execution_count": 26,
     "metadata": {},
     "output_type": "execute_result"
    }
   ],
   "source": [
    "pd.date_range('2012-05-02 12:56:31', periods = 5, normalize = True)"
   ]
  },
  {
   "cell_type": "markdown",
   "id": "opposed-statement",
   "metadata": {},
   "source": [
    " "
   ]
  },
  {
   "cell_type": "markdown",
   "id": "characteristic-belize",
   "metadata": {},
   "source": [
    "### 11.3.2 빈도와 날짜 오프셋"
   ]
  },
  {
   "cell_type": "markdown",
   "id": "whole-reliance",
   "metadata": {},
   "source": [
    "- pandas에서 빈도는 `기본 빈도`와 `배수의 조합`으로 이루어진다.  \n",
    "- 기본 빈도는 보통 'M' (월별), 'H' (시간별)처럼 짧은 문자열로 참조된다.\n",
    "- 각 기본 빈도에는 일반적으로 `날짜 오프셋`(date offset)이라고 불리는 객체를 사용할 수 있다."
   ]
  },
  {
   "cell_type": "markdown",
   "id": "apparent-brain",
   "metadata": {},
   "source": [
    "> 예를 들어 시간별 빈도는 Hour 클래스를 사용해서 표현할 수 있다."
   ]
  },
  {
   "cell_type": "code",
   "execution_count": 27,
   "id": "legislative-equipment",
   "metadata": {},
   "outputs": [],
   "source": [
    "from pandas.tseries.offsets import Hour, Minute"
   ]
  },
  {
   "cell_type": "code",
   "execution_count": 30,
   "id": "general-format",
   "metadata": {},
   "outputs": [
    {
     "data": {
      "text/plain": [
       "<Hour>"
      ]
     },
     "execution_count": 30,
     "metadata": {},
     "output_type": "execute_result"
    }
   ],
   "source": [
    "hour = Hour()\n",
    "hour"
   ]
  },
  {
   "cell_type": "markdown",
   "id": "efficient-ghana",
   "metadata": {},
   "source": [
    "> 이 오프셋의 곱은 정수를 넘겨서 구할 수 있다."
   ]
  },
  {
   "cell_type": "code",
   "execution_count": 32,
   "id": "limiting-disclosure",
   "metadata": {},
   "outputs": [
    {
     "data": {
      "text/plain": [
       "<4 * Hours>"
      ]
     },
     "execution_count": 32,
     "metadata": {},
     "output_type": "execute_result"
    }
   ],
   "source": [
    "four_hours = Hour(4)\n",
    "four_hours"
   ]
  },
  {
   "cell_type": "code",
   "execution_count": 34,
   "id": "southwest-maine",
   "metadata": {},
   "outputs": [
    {
     "data": {
      "text/plain": [
       "DatetimeIndex(['2000-01-01 00:00:00', '2000-01-01 04:00:00',\n",
       "               '2000-01-01 08:00:00', '2000-01-01 12:00:00',\n",
       "               '2000-01-01 16:00:00', '2000-01-01 20:00:00',\n",
       "               '2000-01-02 00:00:00', '2000-01-02 04:00:00',\n",
       "               '2000-01-02 08:00:00', '2000-01-02 12:00:00',\n",
       "               '2000-01-02 16:00:00', '2000-01-02 20:00:00',\n",
       "               '2000-01-03 00:00:00', '2000-01-03 04:00:00',\n",
       "               '2000-01-03 08:00:00', '2000-01-03 12:00:00',\n",
       "               '2000-01-03 16:00:00', '2000-01-03 20:00:00'],\n",
       "              dtype='datetime64[ns]', freq='4H')"
      ]
     },
     "execution_count": 34,
     "metadata": {},
     "output_type": "execute_result"
    }
   ],
   "source": [
    "pd.date_range('2000-01-01', '2000-01-03 23:59', freq = four_hours)"
   ]
  },
  {
   "cell_type": "markdown",
   "id": "complete-blocking",
   "metadata": {},
   "source": [
    " "
   ]
  },
  {
   "cell_type": "markdown",
   "id": "perceived-facility",
   "metadata": {},
   "source": [
    "> 또는 '4H'처럼 문자열로 표현할 수 도 있다. 기본 빈도 앞에 정수를 두면 해당 빈도의 곱을 생성한다."
   ]
  },
  {
   "cell_type": "code",
   "execution_count": 35,
   "id": "consecutive-novelty",
   "metadata": {},
   "outputs": [
    {
     "data": {
      "text/plain": [
       "DatetimeIndex(['2000-01-01 00:00:00', '2000-01-01 04:00:00',\n",
       "               '2000-01-01 08:00:00', '2000-01-01 12:00:00',\n",
       "               '2000-01-01 16:00:00', '2000-01-01 20:00:00',\n",
       "               '2000-01-02 00:00:00', '2000-01-02 04:00:00',\n",
       "               '2000-01-02 08:00:00', '2000-01-02 12:00:00',\n",
       "               '2000-01-02 16:00:00', '2000-01-02 20:00:00',\n",
       "               '2000-01-03 00:00:00', '2000-01-03 04:00:00',\n",
       "               '2000-01-03 08:00:00', '2000-01-03 12:00:00',\n",
       "               '2000-01-03 16:00:00', '2000-01-03 20:00:00'],\n",
       "              dtype='datetime64[ns]', freq='4H')"
      ]
     },
     "execution_count": 35,
     "metadata": {},
     "output_type": "execute_result"
    }
   ],
   "source": [
    "pd.date_range('2000-01-01', '2000-01-03 23:59', freq = '4H')"
   ]
  },
  {
   "cell_type": "markdown",
   "id": "acknowledged-keyboard",
   "metadata": {},
   "source": [
    " "
   ]
  },
  {
   "cell_type": "markdown",
   "id": "ranking-steering",
   "metadata": {},
   "source": [
    "> 여러 오프셋을 덧셈으로 합칠 수 있다."
   ]
  },
  {
   "cell_type": "code",
   "execution_count": 36,
   "id": "opening-ridge",
   "metadata": {},
   "outputs": [
    {
     "data": {
      "text/plain": [
       "<150 * Minutes>"
      ]
     },
     "execution_count": 36,
     "metadata": {},
     "output_type": "execute_result"
    }
   ],
   "source": [
    "Hour(2) + Minute(30)"
   ]
  },
  {
   "cell_type": "code",
   "execution_count": 37,
   "id": "special-helen",
   "metadata": {},
   "outputs": [
    {
     "data": {
      "text/plain": [
       "DatetimeIndex(['2000-01-01 00:00:00', '2000-01-01 02:30:00',\n",
       "               '2000-01-01 05:00:00', '2000-01-01 07:30:00',\n",
       "               '2000-01-01 10:00:00', '2000-01-01 12:30:00',\n",
       "               '2000-01-01 15:00:00', '2000-01-01 17:30:00',\n",
       "               '2000-01-01 20:00:00', '2000-01-01 22:30:00'],\n",
       "              dtype='datetime64[ns]', freq='150T')"
      ]
     },
     "execution_count": 37,
     "metadata": {},
     "output_type": "execute_result"
    }
   ],
   "source": [
    "pd.date_range('2000-01-01','2000-01-02', freq = Hour(2) + Minute(30))"
   ]
  },
  {
   "cell_type": "markdown",
   "id": "buried-review",
   "metadata": {},
   "source": [
    " "
   ]
  },
  {
   "cell_type": "markdown",
   "id": "green-collection",
   "metadata": {},
   "source": [
    "> 유사하게 빈도 문자열로 '1h30min'을 넘겨도 같은 표현으로 잘 해석된다."
   ]
  },
  {
   "cell_type": "code",
   "execution_count": 38,
   "id": "timely-cigarette",
   "metadata": {},
   "outputs": [
    {
     "data": {
      "text/plain": [
       "DatetimeIndex(['2000-01-01 00:00:00', '2000-01-01 01:30:00',\n",
       "               '2000-01-01 03:00:00', '2000-01-01 04:30:00',\n",
       "               '2000-01-01 06:00:00', '2000-01-01 07:30:00',\n",
       "               '2000-01-01 09:00:00', '2000-01-01 10:30:00',\n",
       "               '2000-01-01 12:00:00', '2000-01-01 13:30:00'],\n",
       "              dtype='datetime64[ns]', freq='90T')"
      ]
     },
     "execution_count": 38,
     "metadata": {},
     "output_type": "execute_result"
    }
   ],
   "source": [
    "pd.date_range('2000-01-01', periods = 10, freq = '1h30min')"
   ]
  },
  {
   "cell_type": "markdown",
   "id": "finnish-extraction",
   "metadata": {},
   "source": [
    " "
   ]
  },
  {
   "cell_type": "markdown",
   "id": "vulnerable-general",
   "metadata": {},
   "source": [
    "> 어떤 빈도는 시간상에서 균일하게 자리 잡고 있지 않은 경우도 있다.  \n",
    "> 예를 들어 'M' (월 마지막 일)은 월중 일수에 의존적이며 'BM' (월 영업마감일)은 월말이 주말인지 아닌지에 따라 다르다.  \n",
    "> 이를 표현할 수 있는 적당한 용어가 없어서 저자는 앵커드(anchored) 오프셋이라 부른다."
   ]
  },
  {
   "cell_type": "markdown",
   "id": "civil-attachment",
   "metadata": {},
   "source": [
    " "
   ]
  },
  {
   "cell_type": "markdown",
   "id": "premium-hughes",
   "metadata": {},
   "source": [
    "#### 월별 주차\n",
    "- 한 가지 유용한 빈도 클래스는 WOM으로 시작하는 '월별 주차'다. 월별 주차를 사용하면 매월 3째주 금요일 같은 날짜를 얻을 수 있다."
   ]
  },
  {
   "cell_type": "code",
   "execution_count": 40,
   "id": "grateful-christmas",
   "metadata": {},
   "outputs": [
    {
     "data": {
      "text/plain": [
       "DatetimeIndex(['2012-01-20', '2012-02-17', '2012-03-16', '2012-04-20',\n",
       "               '2012-05-18', '2012-06-15', '2012-07-20', '2012-08-17'],\n",
       "              dtype='datetime64[ns]', freq='WOM-3FRI')"
      ]
     },
     "execution_count": 40,
     "metadata": {},
     "output_type": "execute_result"
    }
   ],
   "source": [
    "rng = pd.date_range('2012-01-01', '2012-09-01', freq = 'WOM-3FRI')\n",
    "rng"
   ]
  },
  {
   "cell_type": "markdown",
   "id": "average-thong",
   "metadata": {},
   "source": [
    " "
   ]
  },
  {
   "cell_type": "markdown",
   "id": "comparable-links",
   "metadata": {},
   "source": [
    "### 11.3.3 데이터 시프트"
   ]
  },
  {
   "cell_type": "markdown",
   "id": "crazy-swaziland",
   "metadata": {},
   "source": [
    "- 시프트는 데이터를 시간 축에서 앞이나 뒤로 이동하는 것을 의미한다.  \n",
    "- Series와 DataFrame은 색인은 변경하지 않고 데이터를 앞이나 뒤로 느슨한 시피트를 수행하는 shift 메서드를 가지고 있다."
   ]
  },
  {
   "cell_type": "code",
   "execution_count": 42,
   "id": "female-provider",
   "metadata": {},
   "outputs": [
    {
     "data": {
      "text/plain": [
       "2000-01-31   -2.246225\n",
       "2000-02-29    0.510343\n",
       "2000-03-31   -0.577378\n",
       "2000-04-30   -0.686738\n",
       "Freq: M, dtype: float64"
      ]
     },
     "execution_count": 42,
     "metadata": {},
     "output_type": "execute_result"
    }
   ],
   "source": [
    "ts = pd.Series(np.random.randn(4),\n",
    "               index = pd.date_range('1/1/2000', periods = 4, freq = 'M'))\n",
    "ts"
   ]
  },
  {
   "cell_type": "code",
   "execution_count": 43,
   "id": "widespread-casino",
   "metadata": {},
   "outputs": [
    {
     "data": {
      "text/plain": [
       "2000-01-31         NaN\n",
       "2000-02-29         NaN\n",
       "2000-03-31   -2.246225\n",
       "2000-04-30    0.510343\n",
       "Freq: M, dtype: float64"
      ]
     },
     "execution_count": 43,
     "metadata": {},
     "output_type": "execute_result"
    }
   ],
   "source": [
    "ts.shift(2)"
   ]
  },
  {
   "cell_type": "code",
   "execution_count": 44,
   "id": "thermal-funeral",
   "metadata": {},
   "outputs": [
    {
     "data": {
      "text/plain": [
       "2000-01-31   -0.577378\n",
       "2000-02-29   -0.686738\n",
       "2000-03-31         NaN\n",
       "2000-04-30         NaN\n",
       "Freq: M, dtype: float64"
      ]
     },
     "execution_count": 44,
     "metadata": {},
     "output_type": "execute_result"
    }
   ],
   "source": [
    "ts.shift(-2)"
   ]
  },
  {
   "cell_type": "markdown",
   "id": "specialized-february",
   "metadata": {},
   "source": [
    " "
   ]
  },
  {
   "cell_type": "markdown",
   "id": "alive-corruption",
   "metadata": {},
   "source": [
    "> 이렇게 시프트를 하게 되면 시계열의 시작이나 끝에 결측치가 발생하게 된다.  \n",
    "> 느슨한 시프트는 색인을 바꾸지 않기 때문에 어떤 데이터는 버려지기도 한다.  \n",
    "> 그래서 만약 빈도를 알고 있다면 shift에 빈도를 넘겨서 타임스탬프가 확장되도록 할 수 있다."
   ]
  },
  {
   "cell_type": "code",
   "execution_count": 45,
   "id": "hydraulic-cologne",
   "metadata": {},
   "outputs": [
    {
     "data": {
      "text/plain": [
       "2000-03-31   -2.246225\n",
       "2000-04-30    0.510343\n",
       "2000-05-31   -0.577378\n",
       "2000-06-30   -0.686738\n",
       "Freq: M, dtype: float64"
      ]
     },
     "execution_count": 45,
     "metadata": {},
     "output_type": "execute_result"
    }
   ],
   "source": [
    "ts.shift(2, freq = 'M')"
   ]
  },
  {
   "cell_type": "markdown",
   "id": "corresponding-jones",
   "metadata": {},
   "source": [
    "  "
   ]
  },
  {
   "cell_type": "markdown",
   "id": "unnecessary-friday",
   "metadata": {},
   "source": [
    "> 다른 빈도를 넘겨도 되는데, 이를 통해 아주 유연하게 데이터를 밀거나 당기는 작업을 할 수 있다."
   ]
  },
  {
   "cell_type": "code",
   "execution_count": 46,
   "id": "respiratory-river",
   "metadata": {},
   "outputs": [
    {
     "data": {
      "text/plain": [
       "2000-02-03   -2.246225\n",
       "2000-03-03    0.510343\n",
       "2000-04-03   -0.577378\n",
       "2000-05-03   -0.686738\n",
       "dtype: float64"
      ]
     },
     "execution_count": 46,
     "metadata": {},
     "output_type": "execute_result"
    }
   ],
   "source": [
    "ts.shift(3, freq = 'D')"
   ]
  },
  {
   "cell_type": "code",
   "execution_count": 47,
   "id": "loving-stocks",
   "metadata": {},
   "outputs": [
    {
     "data": {
      "text/plain": [
       "2000-01-31 01:30:00   -2.246225\n",
       "2000-02-29 01:30:00    0.510343\n",
       "2000-03-31 01:30:00   -0.577378\n",
       "2000-04-30 01:30:00   -0.686738\n",
       "dtype: float64"
      ]
     },
     "execution_count": 47,
     "metadata": {},
     "output_type": "execute_result"
    }
   ],
   "source": [
    "ts.shift(1, freq = '90T')"
   ]
  },
  {
   "cell_type": "markdown",
   "id": "north-precipitation",
   "metadata": {},
   "source": [
    " "
   ]
  },
  {
   "cell_type": "markdown",
   "id": "stylish-rwanda",
   "metadata": {},
   "source": [
    "> shift는 일반적으로 한 시계열 내에서, 혹은 DataFrame의 컬럼으로 표현할 수 있는 여러 시계열에서의 퍼센트 변화를 계산할 때 흔히 사용된다. 코드는 아래와 같다\n",
    "\n",
    "```python\n",
    "ts/ts.shift(1) - 1\n",
    "```\n"
   ]
  },
  {
   "cell_type": "markdown",
   "id": "frozen-improvement",
   "metadata": {},
   "source": [
    " "
   ]
  },
  {
   "cell_type": "markdown",
   "id": "composed-monthly",
   "metadata": {},
   "source": [
    "#### 오프셋만큼 날짜 시프트하기"
   ]
  },
  {
   "cell_type": "markdown",
   "id": "taken-purse",
   "metadata": {},
   "source": [
    "> pandas의 날짜 오프셋은 datetime이나 Timestamp 객체에서도 사용할 수 있다."
   ]
  },
  {
   "cell_type": "code",
   "execution_count": 48,
   "id": "standing-falls",
   "metadata": {},
   "outputs": [],
   "source": [
    "from pandas.tseries.offsets import Day, MonthEnd"
   ]
  },
  {
   "cell_type": "code",
   "execution_count": 49,
   "id": "generic-proof",
   "metadata": {},
   "outputs": [
    {
     "data": {
      "text/plain": [
       "Timestamp('2011-11-20 00:00:00')"
      ]
     },
     "execution_count": 49,
     "metadata": {},
     "output_type": "execute_result"
    }
   ],
   "source": [
    "now = datetime(2011,11,17)\n",
    "now + 3*Day()"
   ]
  },
  {
   "cell_type": "markdown",
   "id": "realistic-peace",
   "metadata": {},
   "source": [
    " "
   ]
  },
  {
   "cell_type": "markdown",
   "id": "aerial-kazakhstan",
   "metadata": {},
   "source": [
    "> 만일 MonthEnd 같은 앵커드 오프셋을 추가한다면 빈도 규칙의 다음 날짜로 롤 포워드(roll forward)된다."
   ]
  },
  {
   "cell_type": "code",
   "execution_count": 50,
   "id": "exempt-occurrence",
   "metadata": {},
   "outputs": [
    {
     "data": {
      "text/plain": [
       "Timestamp('2011-11-30 00:00:00')"
      ]
     },
     "execution_count": 50,
     "metadata": {},
     "output_type": "execute_result"
    }
   ],
   "source": [
    "now + MonthEnd()"
   ]
  },
  {
   "cell_type": "code",
   "execution_count": 51,
   "id": "major-supervision",
   "metadata": {},
   "outputs": [
    {
     "data": {
      "text/plain": [
       "Timestamp('2011-12-31 00:00:00')"
      ]
     },
     "execution_count": 51,
     "metadata": {},
     "output_type": "execute_result"
    }
   ],
   "source": [
    "now + MonthEnd(2)"
   ]
  },
  {
   "cell_type": "markdown",
   "id": "further-austria",
   "metadata": {},
   "source": [
    " "
   ]
  },
  {
   "cell_type": "markdown",
   "id": "sticky-bottom",
   "metadata": {},
   "source": [
    "> 앵커드 오프셋은 rollforward와 rollback 메서드를 사용해서 명시적으로 각각 날짜를 앞으로 밀거나 뒤로 당길 수 있다."
   ]
  },
  {
   "cell_type": "code",
   "execution_count": 52,
   "id": "personal-replacement",
   "metadata": {},
   "outputs": [
    {
     "data": {
      "text/plain": [
       "Timestamp('2011-11-30 00:00:00')"
      ]
     },
     "execution_count": 52,
     "metadata": {},
     "output_type": "execute_result"
    }
   ],
   "source": [
    "offset = MonthEnd()\n",
    "\n",
    "offset.rollforward(now)"
   ]
  },
  {
   "cell_type": "code",
   "execution_count": 53,
   "id": "hundred-marsh",
   "metadata": {},
   "outputs": [
    {
     "data": {
      "text/plain": [
       "Timestamp('2011-10-31 00:00:00')"
      ]
     },
     "execution_count": 53,
     "metadata": {},
     "output_type": "execute_result"
    }
   ],
   "source": [
    "offset.rollback(now)"
   ]
  },
  {
   "cell_type": "markdown",
   "id": "focused-enough",
   "metadata": {},
   "source": [
    " "
   ]
  },
  {
   "cell_type": "markdown",
   "id": "still-chest",
   "metadata": {},
   "source": [
    "> 이 메서드를 groupby와 함께 사용하면 날짜 오프셋을 영리하게 사용할 수 있다."
   ]
  },
  {
   "cell_type": "code",
   "execution_count": 55,
   "id": "greenhouse-murder",
   "metadata": {},
   "outputs": [
    {
     "data": {
      "text/plain": [
       "2000-01-15    1.005632\n",
       "2000-01-19    0.189992\n",
       "2000-01-23    0.101208\n",
       "2000-01-27    0.376477\n",
       "2000-01-31    1.598759\n",
       "2000-02-04    1.211136\n",
       "2000-02-08   -0.973163\n",
       "2000-02-12   -0.961817\n",
       "2000-02-16    0.835879\n",
       "2000-02-20   -0.254801\n",
       "2000-02-24   -0.026768\n",
       "2000-02-28   -0.448716\n",
       "2000-03-03   -0.869599\n",
       "2000-03-07   -0.159461\n",
       "2000-03-11   -1.594881\n",
       "2000-03-15    0.605714\n",
       "2000-03-19    1.463431\n",
       "2000-03-23   -0.196428\n",
       "2000-03-27    0.723217\n",
       "2000-03-31    0.710456\n",
       "Freq: 4D, dtype: float64"
      ]
     },
     "execution_count": 55,
     "metadata": {},
     "output_type": "execute_result"
    }
   ],
   "source": [
    "ts = pd.Series(np.random.randn(20), \n",
    "               index = pd.date_range('1/15/2000', periods = 20, freq = '4d'))\n",
    "ts"
   ]
  },
  {
   "cell_type": "code",
   "execution_count": 56,
   "id": "celtic-clinic",
   "metadata": {},
   "outputs": [
    {
     "data": {
      "text/plain": [
       "2000-01-31    0.654413\n",
       "2000-02-29   -0.088321\n",
       "2000-03-31    0.085306\n",
       "dtype: float64"
      ]
     },
     "execution_count": 56,
     "metadata": {},
     "output_type": "execute_result"
    }
   ],
   "source": [
    "ts.groupby(offset.rollforward).mean()"
   ]
  },
  {
   "cell_type": "markdown",
   "id": "extensive-insight",
   "metadata": {},
   "source": [
    " "
   ]
  },
  {
   "cell_type": "markdown",
   "id": "contrary-writing",
   "metadata": {},
   "source": [
    "> 물론 가장 쉽고 빠른 방법은 resample을 사용하는 것이다."
   ]
  },
  {
   "cell_type": "code",
   "execution_count": 58,
   "id": "vietnamese-beijing",
   "metadata": {},
   "outputs": [
    {
     "data": {
      "text/plain": [
       "2000-01-31    0.654413\n",
       "2000-02-29   -0.088321\n",
       "2000-03-31    0.085306\n",
       "Freq: M, dtype: float64"
      ]
     },
     "execution_count": 58,
     "metadata": {},
     "output_type": "execute_result"
    }
   ],
   "source": [
    "ts.resample('M').mean()"
   ]
  }
 ],
 "metadata": {
  "kernelspec": {
   "display_name": "Python 3",
   "language": "python",
   "name": "python3"
  },
  "language_info": {
   "codemirror_mode": {
    "name": "ipython",
    "version": 3
   },
   "file_extension": ".py",
   "mimetype": "text/x-python",
   "name": "python",
   "nbconvert_exporter": "python",
   "pygments_lexer": "ipython3",
   "version": "3.8.10"
  }
 },
 "nbformat": 4,
 "nbformat_minor": 5
}
