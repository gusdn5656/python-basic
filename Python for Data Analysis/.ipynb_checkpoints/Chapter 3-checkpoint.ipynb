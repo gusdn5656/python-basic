{
 "cells": [
  {
   "cell_type": "markdown",
   "id": "interstate-schema",
   "metadata": {},
   "source": [
    "# Chapter 3 내장 자료구조, 함수, 파일"
   ]
  },
  {
   "cell_type": "markdown",
   "id": "cordless-duncan",
   "metadata": {},
   "source": [
    "## 3.1 자료구조와 순차 자료형"
   ]
  },
  {
   "cell_type": "markdown",
   "id": "engaging-suite",
   "metadata": {},
   "source": [
    " "
   ]
  },
  {
   "cell_type": "markdown",
   "id": "dirty-clone",
   "metadata": {},
   "source": [
    "### 3.1.1 튜플"
   ]
  },
  {
   "cell_type": "markdown",
   "id": "maritime-annotation",
   "metadata": {},
   "source": [
    " "
   ]
  },
  {
   "cell_type": "markdown",
   "id": "parallel-breakfast",
   "metadata": {},
   "source": [
    "#### 튜플 정의하기"
   ]
  },
  {
   "cell_type": "markdown",
   "id": "celtic-teddy",
   "metadata": {},
   "source": [
    "- 튜플은 1차원의 고정된 크기를 가지는 `변경 불가능`한 순차 자료형"
   ]
  },
  {
   "cell_type": "code",
   "execution_count": 1,
   "id": "western-oxygen",
   "metadata": {},
   "outputs": [],
   "source": [
    "# 튜플을 정의하는 방법들 \n",
    "tup = 4, 5, 6\n",
    "nested_tup = (4,5,6), (7,8)\n",
    "tup2 = tuple([4,5,6])\n",
    "tup_string = tuple('string')"
   ]
  },
  {
   "cell_type": "code",
   "execution_count": 2,
   "id": "severe-vinyl",
   "metadata": {},
   "outputs": [
    {
     "name": "stdout",
     "output_type": "stream",
     "text": [
      "\n",
      "tup : (4, 5, 6)\n",
      "nested_tup : ((4, 5, 6), (7, 8))\n",
      "tup2 : (4, 5, 6)\n",
      "tup_string ('s', 't', 'r', 'i', 'n', 'g')\n"
     ]
    }
   ],
   "source": [
    "print('''\n",
    "tup : {0}\n",
    "nested_tup : {1}\n",
    "tup2 : {2}\n",
    "tup_string {3}'''.format(tup \\\n",
    "                        , nested_tup \\\n",
    "                        , tup2 \\\n",
    "                        , tup_string))"
   ]
  },
  {
   "cell_type": "markdown",
   "id": "abandoned-sheep",
   "metadata": {},
   "source": [
    " "
   ]
  },
  {
   "cell_type": "markdown",
   "id": "floppy-asbestos",
   "metadata": {},
   "source": [
    "- 튜플은 변경 불가능하다."
   ]
  },
  {
   "cell_type": "code",
   "execution_count": 3,
   "id": "transparent-logging",
   "metadata": {},
   "outputs": [
    {
     "ename": "TypeError",
     "evalue": "'tuple' object does not support item assignment",
     "output_type": "error",
     "traceback": [
      "\u001b[1;31m---------------------------------------------------------------------------\u001b[0m",
      "\u001b[1;31mTypeError\u001b[0m                                 Traceback (most recent call last)",
      "\u001b[1;32m<ipython-input-3-d6bcb609237e>\u001b[0m in \u001b[0;36m<module>\u001b[1;34m\u001b[0m\n\u001b[0;32m      1\u001b[0m \u001b[0mtup\u001b[0m \u001b[1;33m=\u001b[0m \u001b[0mtuple\u001b[0m\u001b[1;33m(\u001b[0m\u001b[1;33m[\u001b[0m\u001b[1;34m'foo'\u001b[0m\u001b[1;33m,\u001b[0m\u001b[1;33m[\u001b[0m\u001b[1;36m1\u001b[0m\u001b[1;33m,\u001b[0m\u001b[1;36m2\u001b[0m\u001b[1;33m]\u001b[0m\u001b[1;33m,\u001b[0m\u001b[1;32mTrue\u001b[0m\u001b[1;33m]\u001b[0m\u001b[1;33m)\u001b[0m\u001b[1;33m\u001b[0m\u001b[1;33m\u001b[0m\u001b[0m\n\u001b[1;32m----> 2\u001b[1;33m \u001b[0mtup\u001b[0m\u001b[1;33m[\u001b[0m\u001b[1;36m2\u001b[0m\u001b[1;33m]\u001b[0m \u001b[1;33m=\u001b[0m \u001b[1;32mFalse\u001b[0m\u001b[1;33m\u001b[0m\u001b[1;33m\u001b[0m\u001b[0m\n\u001b[0m",
      "\u001b[1;31mTypeError\u001b[0m: 'tuple' object does not support item assignment"
     ]
    }
   ],
   "source": [
    "tup = tuple(['foo',[1,2],True])\n",
    "tup[2] = False"
   ]
  },
  {
   "cell_type": "markdown",
   "id": "modular-christmas",
   "metadata": {},
   "source": [
    " \n"
   ]
  },
  {
   "cell_type": "markdown",
   "id": "current-sussex",
   "metadata": {},
   "source": [
    "- 튜플 내 저장된 객체는 그 위치에서 바로 변경이 가능하다"
   ]
  },
  {
   "cell_type": "code",
   "execution_count": 4,
   "id": "human-celebration",
   "metadata": {},
   "outputs": [
    {
     "name": "stdout",
     "output_type": "stream",
     "text": [
      "tup : ('foo', [1, 2], True)\n",
      "tup : ('foo', [1, 2, 3], True)\n"
     ]
    }
   ],
   "source": [
    "print('tup : {0}'.format(tup))\n",
    "\n",
    "tup[1].append(3)\n",
    "print('tup : {0}'.format(tup))"
   ]
  },
  {
   "cell_type": "markdown",
   "id": "ethical-official",
   "metadata": {},
   "source": [
    " "
   ]
  },
  {
   "cell_type": "markdown",
   "id": "nasty-riverside",
   "metadata": {},
   "source": [
    "#### 튜플에서 값 분리하기"
   ]
  },
  {
   "cell_type": "markdown",
   "id": "impossible-calgary",
   "metadata": {},
   "source": [
    " "
   ]
  },
  {
   "cell_type": "markdown",
   "id": "manufactured-inspector",
   "metadata": {},
   "source": [
    "- 튜플과 _같은 표현_ 의 변수에 튜플을 `대입`하면 파이썬은 등호(=) 오른쪽에 있는 변수에서 값을 `분리`한다."
   ]
  },
  {
   "cell_type": "code",
   "execution_count": 14,
   "id": "broke-prisoner",
   "metadata": {},
   "outputs": [
    {
     "name": "stdout",
     "output_type": "stream",
     "text": [
      "\n",
      "a : 4\n",
      "b : 5\n",
      "c : 6\n",
      "d : 7\n",
      "\n"
     ]
    }
   ],
   "source": [
    "tup = 4,5,(6,7)\n",
    "a,b,(c,d) = tup\n",
    "\n",
    "print('''\n",
    "a : {0}\n",
    "b : {1}\n",
    "c : {2}\n",
    "d : {3}\n",
    "'''.format(a,b,c,d))"
   ]
  },
  {
   "cell_type": "markdown",
   "id": "excited-concern",
   "metadata": {},
   "source": [
    " "
   ]
  },
  {
   "cell_type": "markdown",
   "id": "colored-router",
   "metadata": {},
   "source": [
    "- 튜플이나 리스트를 순회할 때도 흔히 이 기능을 활용한다."
   ]
  },
  {
   "cell_type": "code",
   "execution_count": 15,
   "id": "breathing-trunk",
   "metadata": {},
   "outputs": [
    {
     "name": "stdout",
     "output_type": "stream",
     "text": [
      "a = 1, b = 2, c = 3\n",
      "a = 4, b = 5, c = 6\n",
      "a = 7, b = 8, c = 9\n"
     ]
    }
   ],
   "source": [
    "seq = [(1,2,3),(4,5,6),(7,8,9)]\n",
    "\n",
    "for a, b, c in seq:\n",
    "        print('a = {0}, b = {1}, c = {2}'.format(a,b,c))"
   ]
  },
  {
   "cell_type": "markdown",
   "id": "aggregate-split",
   "metadata": {},
   "source": [
    " "
   ]
  },
  {
   "cell_type": "markdown",
   "id": "harmful-vitamin",
   "metadata": {},
   "source": [
    "- *rest, *_ : 처음 몇몇 값만 '끄집어내야' 하는 상황에서 사용"
   ]
  },
  {
   "cell_type": "code",
   "execution_count": 17,
   "id": "appropriate-westminster",
   "metadata": {},
   "outputs": [
    {
     "name": "stdout",
     "output_type": "stream",
     "text": [
      "\n",
      "a = 1, b = 2, rest = [3, 4, 5]\n",
      "d = 1, e = 2, _ = [3, 4, 5]\n"
     ]
    }
   ],
   "source": [
    "values = 1,2,3,4,5\n",
    "\n",
    "a, b, *rest = values\n",
    "d, e, *_ = values\n",
    "\n",
    "print('''\n",
    "a = {0}, b = {1}, rest = {2}\n",
    "d = {3}, e = {4}, _ = {5}'''.format(a,b,rest,d,e,_))"
   ]
  },
  {
   "cell_type": "markdown",
   "id": "coastal-finland",
   "metadata": {},
   "source": [
    " "
   ]
  },
  {
   "cell_type": "markdown",
   "id": "formed-render",
   "metadata": {},
   "source": [
    "#### 튜플 메서드"
   ]
  },
  {
   "cell_type": "markdown",
   "id": "olympic-patch",
   "metadata": {},
   "source": [
    " "
   ]
  },
  {
   "cell_type": "markdown",
   "id": "congressional-breed",
   "metadata": {},
   "source": [
    "- 튜플은 크기와 내용이 변경 불가능하므로 인스턴스 메서드가 많지 않음\n",
    "- tuple.count(value) : 주어진 value가 몇 개 있는 지 반환하는 메서드"
   ]
  },
  {
   "cell_type": "code",
   "execution_count": 20,
   "id": "significant-catholic",
   "metadata": {},
   "outputs": [
    {
     "data": {
      "text/plain": [
       "4"
      ]
     },
     "execution_count": 20,
     "metadata": {},
     "output_type": "execute_result"
    }
   ],
   "source": [
    "a = (1,2,2,2,3,4,2)\n",
    "a.count(2)"
   ]
  },
  {
   "cell_type": "markdown",
   "id": "marine-drill",
   "metadata": {},
   "source": [
    " "
   ]
  },
  {
   "cell_type": "markdown",
   "id": "structured-carroll",
   "metadata": {},
   "source": [
    "### 3.1.2 리스트"
   ]
  },
  {
   "cell_type": "markdown",
   "id": "polyphonic-gauge",
   "metadata": {},
   "source": [
    "- 튜플과는 대조적으로 리스트는 크기나 내용의 변경이 가능하다. \n",
    "- 리스트는 대괄호 [ ]나 list 함수를 사용해서 생성할 수 있다."
   ]
  },
  {
   "cell_type": "code",
   "execution_count": 52,
   "id": "incoming-classification",
   "metadata": {},
   "outputs": [
    {
     "name": "stdout",
     "output_type": "stream",
     "text": [
      "[2, 3, 7, None]\n",
      "['foo', 'bar', 'baz']\n",
      "['foo', 'peekaboo', 'baz']\n"
     ]
    }
   ],
   "source": [
    "a_list = [2,3,7,None]\n",
    "print(a_list)\n",
    "\n",
    "tup = ('foo','bar','baz')\n",
    "b_list = list(tup)\n",
    "print(b_list)\n",
    "\n",
    "b_list[1] = 'peekaboo'\n",
    "print(b_list)"
   ]
  },
  {
   "cell_type": "markdown",
   "id": "geological-nashville",
   "metadata": {},
   "source": [
    " "
   ]
  },
  {
   "cell_type": "markdown",
   "id": "floating-navigator",
   "metadata": {},
   "source": [
    "#### 원소 추가하고 삭제하기"
   ]
  },
  {
   "cell_type": "markdown",
   "id": "wanted-literature",
   "metadata": {},
   "source": [
    "* list에 원소 추가\n",
    "    * list.append() : 리스트 `끝`에 새로운 값을 추가할 수 있다.\n",
    "    * list.insert() : 리스트의 `특정 위치`에 값을 추가할 수 있다."
   ]
  },
  {
   "cell_type": "code",
   "execution_count": 53,
   "id": "studied-charm",
   "metadata": {},
   "outputs": [
    {
     "name": "stdout",
     "output_type": "stream",
     "text": [
      "add dwarf in list b using list.append() : ['foo', 'peekaboo', 'baz', 'dwarf']\n",
      "add red in list b at 1 using list.insert() : ['foo', 'red', 'peekaboo', 'baz', 'dwarf']\n"
     ]
    }
   ],
   "source": [
    "### list.append()\n",
    "b_list.append('dwarf')\n",
    "print('add dwarf in list b using list.append() : {0}'.format(b_list))\n",
    "\n",
    "### list.insert()\n",
    "b_list.insert(1, \"red\")\n",
    "print('add red in list b at 1 using list.insert() : {0}'.format(b_list))"
   ]
  },
  {
   "cell_type": "markdown",
   "id": "generic-breeding",
   "metadata": {},
   "source": [
    " "
   ]
  },
  {
   "cell_type": "markdown",
   "id": "southeast-inquiry",
   "metadata": {},
   "source": [
    "- list에 원소 삭제\n",
    "    - list.pop() : 리스트의 `특정 위치`의 값을 반환하고 해당 값을 리스트에서 삭제한다.\n",
    "    - list.remove() : 중복되는 값이 있는 경우 리스트에서 `제일 앞`에 위치한 값부터 삭제가 이뤄진다."
   ]
  },
  {
   "cell_type": "code",
   "execution_count": 54,
   "id": "domestic-reduction",
   "metadata": {},
   "outputs": [
    {
     "name": "stdout",
     "output_type": "stream",
     "text": [
      "peekaboo\n",
      "remove the value in index 2 : ['foo', 'red', 'baz', 'dwarf']\n",
      "add another foo in list b : ['foo', 'red', 'baz', 'dwarf', 'foo']\n",
      "remove the value which is foo in list b : ['red', 'baz', 'dwarf', 'foo']\n"
     ]
    }
   ],
   "source": [
    "### list.pop()\n",
    "print(b_list.pop(2))\n",
    "print(\"remove the value in index 2 : {0}\".format(b_list))\n",
    "\n",
    "### list.remove()\n",
    "b_list.append('foo')\n",
    "print('add another foo in list b : {0}'.format(b_list))\n",
    "\n",
    "b_list.remove('foo')\n",
    "print(\"remove the value which is foo in list b : {0}\".format(b_list))"
   ]
  },
  {
   "cell_type": "markdown",
   "id": "chronic-student",
   "metadata": {},
   "source": [
    " "
   ]
  },
  {
   "cell_type": "markdown",
   "id": "oriental-belly",
   "metadata": {},
   "source": [
    "#### in, not in 예약어"
   ]
  },
  {
   "cell_type": "code",
   "execution_count": 56,
   "id": "boolean-symposium",
   "metadata": {},
   "outputs": [
    {
     "name": "stdout",
     "output_type": "stream",
     "text": [
      "dwarf in b_list : True\n",
      "dwarf not in b_list : False\n"
     ]
    }
   ],
   "source": [
    "print(\"dwarf in b_list : {0}\".format('dwarf' in b_list))\n",
    "print(\"dwarf not in b_list : {0}\".format('dwarf' not in b_list))"
   ]
  },
  {
   "cell_type": "markdown",
   "id": "bored-soundtrack",
   "metadata": {},
   "source": [
    " "
   ]
  },
  {
   "cell_type": "markdown",
   "id": "coupled-strategy",
   "metadata": {},
   "source": [
    "#### 리스트 이어붙이기"
   ]
  },
  {
   "cell_type": "markdown",
   "id": "soviet-wales",
   "metadata": {},
   "source": [
    "- \\+ : + 연산자를 이용하면 두 개의 리스트를 합칠 수 있다\n",
    "- list.extend() : 미리 리스트를 정의해 두었다면 extend 메서드를 사용해 여러 개의 값을 추가할 수 있다."
   ]
  },
  {
   "cell_type": "code",
   "execution_count": 59,
   "id": "other-owner",
   "metadata": {},
   "outputs": [
    {
     "data": {
      "text/plain": [
       "[4, None, 'foo', 7, 8, (2, 3)]"
      ]
     },
     "execution_count": 59,
     "metadata": {},
     "output_type": "execute_result"
    }
   ],
   "source": [
    "[4,None,'foo'] + [7,8,(2,3)]"
   ]
  },
  {
   "cell_type": "code",
   "execution_count": 61,
   "id": "published-performance",
   "metadata": {},
   "outputs": [
    {
     "name": "stdout",
     "output_type": "stream",
     "text": [
      "[4, None, 'foo', 7, 8, (2, 3)]\n"
     ]
    }
   ],
   "source": [
    "x = [4, None, 'foo']\n",
    "x.extend([7,8,(2,3)])\n",
    "print(x)"
   ]
  },
  {
   "cell_type": "markdown",
   "id": "neutral-gathering",
   "metadata": {},
   "source": [
    " "
   ]
  },
  {
   "cell_type": "markdown",
   "id": "excellent-baltimore",
   "metadata": {},
   "source": [
    "### 3.1.3 내장 순차 자료형 함수"
   ]
  },
  {
   "cell_type": "markdown",
   "id": "imported-decimal",
   "metadata": {},
   "source": [
    " "
   ]
  },
  {
   "cell_type": "markdown",
   "id": "magnetic-divide",
   "metadata": {},
   "source": [
    "#### enumerate "
   ]
  },
  {
   "cell_type": "markdown",
   "id": "anonymous-dream",
   "metadata": {},
   "source": [
    "- 이 함수는 순차 자료형에서 현재 아이템의 색인을 함께 처리하고자 할 때 흔히 사용한다."
   ]
  },
  {
   "cell_type": "code",
   "execution_count": 10,
   "id": "wanted-survey",
   "metadata": {},
   "outputs": [
    {
     "name": "stdout",
     "output_type": "stream",
     "text": [
      "{0: 'foo'}\n",
      "{0: 'foo', 1: 'bar'}\n",
      "{0: 'foo', 1: 'bar', 2: 'baz'}\n"
     ]
    }
   ],
   "source": [
    "some_list = ['foo', 'bar', 'baz']\n",
    "\n",
    "mapping = {}\n",
    "\n",
    "for i, v in enumerate(some_list) : \n",
    "    mapping[i] = v\n",
    "    print(mapping)"
   ]
  },
  {
   "cell_type": "markdown",
   "id": "combined-screw",
   "metadata": {},
   "source": [
    " "
   ]
  },
  {
   "cell_type": "markdown",
   "id": "equal-acceptance",
   "metadata": {},
   "source": [
    "#### sorted"
   ]
  },
  {
   "cell_type": "markdown",
   "id": "engaging-remainder",
   "metadata": {},
   "source": [
    "- sorted 함수는 **정렬된** `새로운 순차 자료형`을 반환한다."
   ]
  },
  {
   "cell_type": "code",
   "execution_count": 72,
   "id": "impaired-berkeley",
   "metadata": {},
   "outputs": [
    {
     "name": "stdout",
     "output_type": "stream",
     "text": [
      "\n",
      "a = [7, 1, 2, 6, 0, 3, 2]\n",
      "b = [0, 1, 2, 2, 3, 6, 7]\n"
     ]
    }
   ],
   "source": [
    "a = [7,1,2,6,0,3,2]\n",
    "b = sorted(a)\n",
    "\n",
    "print('''\n",
    "a = {0}\n",
    "b = {1}'''.format(a, b))"
   ]
  },
  {
   "cell_type": "markdown",
   "id": "increased-granny",
   "metadata": {},
   "source": [
    " "
   ]
  },
  {
   "cell_type": "markdown",
   "id": "billion-payday",
   "metadata": {},
   "source": [
    "#### zip"
   ]
  },
  {
   "cell_type": "markdown",
   "id": "accomplished-kazakhstan",
   "metadata": {},
   "source": [
    "- zip 함수는 여러 개의 리스트나 튜플 또는 다른 순차 자료형을 서로 짝지어서 튜플의 리스트를 생성한다."
   ]
  },
  {
   "cell_type": "code",
   "execution_count": 80,
   "id": "promotional-canyon",
   "metadata": {},
   "outputs": [
    {
     "data": {
      "text/plain": [
       "[('foo', 'one'), ('bar', 'two'), ('baz', 'three')]"
      ]
     },
     "execution_count": 80,
     "metadata": {},
     "output_type": "execute_result"
    }
   ],
   "source": [
    "seq1 = ['foo','bar','baz']\n",
    "seq2 = ['one','two','three']\n",
    "\n",
    "zipped = zip(seq1,seq2)\n",
    "list(zipped)"
   ]
  },
  {
   "cell_type": "markdown",
   "id": "challenging-lodge",
   "metadata": {},
   "source": [
    " "
   ]
  },
  {
   "cell_type": "markdown",
   "id": "dutch-weapon",
   "metadata": {},
   "source": [
    "- zip 함수는 여러 개의 순차 자료형을 받을 수 있으며 반환되는 리스트의 크기는 넘겨받은 순차 자료형 중 `가장 짧은` 크기로 정해진다.\n"
   ]
  },
  {
   "cell_type": "code",
   "execution_count": 83,
   "id": "metric-chambers",
   "metadata": {},
   "outputs": [
    {
     "data": {
      "text/plain": [
       "[('foo', 'one', False), ('bar', 'two', True)]"
      ]
     },
     "execution_count": 83,
     "metadata": {},
     "output_type": "execute_result"
    }
   ],
   "source": [
    "seq3 = [False, True]\n",
    "\n",
    "list(zip(seq1,seq2,seq3))"
   ]
  },
  {
   "cell_type": "markdown",
   "id": "historical-hacker",
   "metadata": {},
   "source": [
    " "
   ]
  },
  {
   "cell_type": "markdown",
   "id": "hungarian-honduras",
   "metadata": {},
   "source": [
    "- zip 함수는 enumerate와 함께 사용되기도 한다."
   ]
  },
  {
   "cell_type": "code",
   "execution_count": 84,
   "id": "silent-belarus",
   "metadata": {},
   "outputs": [
    {
     "name": "stdout",
     "output_type": "stream",
     "text": [
      "\n",
      "    i = 0\n",
      "    a = foo\n",
      "    b = one\n",
      "\n",
      "    i = 1\n",
      "    a = bar\n",
      "    b = two\n",
      "\n",
      "    i = 2\n",
      "    a = baz\n",
      "    b = three\n"
     ]
    }
   ],
   "source": [
    "for i, (a,b) in enumerate(zip(seq1,seq2)) : \n",
    "    print('''\n",
    "    i = {0}\n",
    "    a = {1}\n",
    "    b = {2}'''.format(i,a,b))"
   ]
  },
  {
   "cell_type": "markdown",
   "id": "alike-split",
   "metadata": {},
   "source": [
    " "
   ]
  },
  {
   "cell_type": "markdown",
   "id": "generous-spyware",
   "metadata": {},
   "source": [
    "- zip 함수를 사용해서 짝지어진 순차 자료형을 다시 풀어낼 수도 있다. \n",
    "- 이를 이용해서 리스트의 `로우`를 리스트의 `컬럼`으로 변환하는 것도 가능하다."
   ]
  },
  {
   "cell_type": "code",
   "execution_count": 87,
   "id": "informative-reminder",
   "metadata": {},
   "outputs": [
    {
     "name": "stdout",
     "output_type": "stream",
     "text": [
      "\n",
      "first_names : ('Nolan', 'Roger', 'Schilling')\n",
      "last_names : ('Ryan', 'Clemens', 'Curt')\n"
     ]
    }
   ],
   "source": [
    "pitchers = [('Nolan','Ryan'), ('Roger','Clemens'), ('Schilling', 'Curt')]\n",
    "\n",
    "first_names, last_names = zip(*pitchers)\n",
    "\n",
    "print('''\n",
    "first_names : {0}\n",
    "last_names : {1}'''.format(first_names,last_names))"
   ]
  },
  {
   "cell_type": "markdown",
   "id": "eleven-skirt",
   "metadata": {},
   "source": [
    " "
   ]
  },
  {
   "cell_type": "markdown",
   "id": "emotional-behalf",
   "metadata": {},
   "source": [
    "### 3.1.4 사전"
   ]
  },
  {
   "cell_type": "markdown",
   "id": "accredited-chassis",
   "metadata": {},
   "source": [
    "- dict(사전)은 파이썬 내장 자료구조 중에서 가장 중요하다.\n",
    "- 일반적으로는 `해시맵` 또는 `연관 배열`이라고 널리 알려져 있다.\n",
    "- 사전은 유연한 크기를 가지는 `키-값` 쌍으로, `키`와 `값`은 모두 파이썬 객체다."
   ]
  },
  {
   "cell_type": "code",
   "execution_count": 2,
   "id": "foreign-domestic",
   "metadata": {},
   "outputs": [
    {
     "name": "stdout",
     "output_type": "stream",
     "text": [
      "{'a': 'some value', 'b': [1, 2, 3, 4]}\n"
     ]
    }
   ],
   "source": [
    "d1 = {'a' : 'some value', 'b' : [1,2,3,4]}\n",
    "print(d1)"
   ]
  },
  {
   "cell_type": "code",
   "execution_count": 3,
   "id": "mental-affiliation",
   "metadata": {},
   "outputs": [
    {
     "data": {
      "text/plain": [
       "{'a': 'some value', 'b': [1, 2, 3, 4], 7: 'an integer'}"
      ]
     },
     "execution_count": 3,
     "metadata": {},
     "output_type": "execute_result"
    }
   ],
   "source": [
    "d1[7] = 'an integer'\n",
    "d1"
   ]
  },
  {
   "cell_type": "code",
   "execution_count": 4,
   "id": "likely-problem",
   "metadata": {},
   "outputs": [
    {
     "name": "stdout",
     "output_type": "stream",
     "text": [
      "\n",
      "d1['a'] : some value\n",
      "d1[7] : an integer\n"
     ]
    }
   ],
   "source": [
    "print('''\n",
    "d1['a'] : {0}\n",
    "d1[7] : {1}'''.format(d1['a'] \\\n",
    "                     , d1[7]))"
   ]
  },
  {
   "cell_type": "code",
   "execution_count": 5,
   "id": "automotive-spirit",
   "metadata": {},
   "outputs": [
    {
     "data": {
      "text/plain": [
       "True"
      ]
     },
     "execution_count": 5,
     "metadata": {},
     "output_type": "execute_result"
    }
   ],
   "source": [
    "'b' in d1"
   ]
  },
  {
   "cell_type": "markdown",
   "id": "leading-crystal",
   "metadata": {},
   "source": [
    " "
   ]
  },
  {
   "cell_type": "markdown",
   "id": "annoying-private",
   "metadata": {},
   "source": [
    "#### dict 관련 기본 메소드"
   ]
  },
  {
   "cell_type": "markdown",
   "id": "acknowledged-cameroon",
   "metadata": {},
   "source": [
    "##### del, pop\n",
    "- `del` 예약어나 `pop` 메서드 (값을 반환함과 동시에 해당 키를 삭제한다)를 사용해서 사전의 값을 삭제할 수 있다."
   ]
  },
  {
   "cell_type": "code",
   "execution_count": 23,
   "id": "joint-mobile",
   "metadata": {},
   "outputs": [
    {
     "name": "stdout",
     "output_type": "stream",
     "text": [
      "{'a': 'some value', 'b': [1, 2, 3, 4], 7: 'an integer', 5: 'some value'}\n"
     ]
    }
   ],
   "source": [
    "d1[5] = 'some value'\n",
    "print(d1)"
   ]
  },
  {
   "cell_type": "code",
   "execution_count": 24,
   "id": "unsigned-forest",
   "metadata": {},
   "outputs": [
    {
     "name": "stdout",
     "output_type": "stream",
     "text": [
      "{'a': 'some value', 'b': [1, 2, 3, 4], 7: 'an integer', 5: 'some value', 'dummy': 'another value'}\n"
     ]
    }
   ],
   "source": [
    "d1['dummy'] = 'another value'\n",
    "print(d1)"
   ]
  },
  {
   "cell_type": "code",
   "execution_count": 25,
   "id": "posted-cemetery",
   "metadata": {},
   "outputs": [
    {
     "name": "stdout",
     "output_type": "stream",
     "text": [
      "{'a': 'some value', 'b': [1, 2, 3, 4], 7: 'an integer', 'dummy': 'another value'}\n"
     ]
    }
   ],
   "source": [
    "del d1[5]\n",
    "print(d1)"
   ]
  },
  {
   "cell_type": "code",
   "execution_count": 27,
   "id": "important-longer",
   "metadata": {},
   "outputs": [
    {
     "name": "stdout",
     "output_type": "stream",
     "text": [
      "\n",
      "ret = another value\n",
      "d1 = {'a': 'some value', 'b': [1, 2, 3, 4], 7: 'an integer'}\n"
     ]
    }
   ],
   "source": [
    "ret = d1.pop('dummy')\n",
    "print('''\n",
    "ret = {0}\n",
    "d1 = {1}'''.format(ret, \\\n",
    "                  d1))"
   ]
  },
  {
   "cell_type": "markdown",
   "id": "postal-panic",
   "metadata": {},
   "source": [
    " "
   ]
  },
  {
   "cell_type": "markdown",
   "id": "immediate-seven",
   "metadata": {},
   "source": [
    "##### keys, values\n",
    "- `keys` 와 `values` 메서드는 각각 키와 값이 담긴 이터레이터를 반환한다.\n",
    "- 키-값 쌍은 일정한 기준으로 정렬되어 있진 않지만, `keys` 메서드와 `values` 메서드에서 반환하는 리스트는 같은 순서를 가진다."
   ]
  },
  {
   "cell_type": "code",
   "execution_count": 31,
   "id": "pleased-calcium",
   "metadata": {},
   "outputs": [
    {
     "name": "stdout",
     "output_type": "stream",
     "text": [
      "\n",
      "list(d1.keys()) : ['a', 'b', 7]\n",
      "list(d1.values()) : ['some value', [1, 2, 3, 4], 'an integer']\n"
     ]
    }
   ],
   "source": [
    "print('''\n",
    "list(d1.keys()) : {0}\n",
    "list(d1.values()) : {1}'''.format(list(d1.keys()), \\\n",
    "                                  list(d1.values())))"
   ]
  },
  {
   "cell_type": "markdown",
   "id": "wicked-humidity",
   "metadata": {},
   "source": [
    " "
   ]
  },
  {
   "cell_type": "markdown",
   "id": "particular-italy",
   "metadata": {},
   "source": [
    "##### update \n",
    "- update 메서드를 사용해서 하나의 사전을 다른 사전과 합칠 수 있다."
   ]
  },
  {
   "cell_type": "code",
   "execution_count": 33,
   "id": "faced-mouse",
   "metadata": {},
   "outputs": [
    {
     "name": "stdout",
     "output_type": "stream",
     "text": [
      "{'a': 'some value', 'b': 'foo', 7: 'an integer', 'c': 12}\n"
     ]
    }
   ],
   "source": [
    "d1.update({'b':'foo', 'c':12})\n",
    "print(d1)"
   ]
  },
  {
   "cell_type": "markdown",
   "id": "incomplete-reputation",
   "metadata": {},
   "source": [
    " "
   ]
  },
  {
   "cell_type": "markdown",
   "id": "marked-component",
   "metadata": {},
   "source": [
    " "
   ]
  },
  {
   "cell_type": "markdown",
   "id": "blank-wagon",
   "metadata": {},
   "source": [
    "#### 순차 자료형에서 사전 생성하기"
   ]
  },
  {
   "cell_type": "code",
   "execution_count": 37,
   "id": "legal-cotton",
   "metadata": {},
   "outputs": [
    {
     "name": "stdout",
     "output_type": "stream",
     "text": [
      "{0: 4, 1: 3, 2: 2, 3: 1, 4: 0}\n"
     ]
    }
   ],
   "source": [
    "mapping = dict(zip(range(5), reversed(range(5))))\n",
    "print(mapping)"
   ]
  },
  {
   "cell_type": "markdown",
   "id": "engaging-duration",
   "metadata": {},
   "source": [
    " "
   ]
  },
  {
   "cell_type": "markdown",
   "id": "clean-presence",
   "metadata": {},
   "source": [
    "#### 기본값"
   ]
  },
  {
   "cell_type": "markdown",
   "id": "catholic-pollution",
   "metadata": {},
   "source": [
    "##### get\n",
    "- 사전 메서드인 get과 pop은 반환할 기본값을 받아서 위 코드에서 if-else 블록을 아래처럼 간단하게 작성할 수 있다.\n",
    "- get메서드는 기본적으로 해당 키가 존재하지 않을 경우 None을 반환함.\n",
    "- pop메서드는 예외를 발생시킴"
   ]
  },
  {
   "cell_type": "code",
   "execution_count": null,
   "id": "asian-zoning",
   "metadata": {},
   "outputs": [],
   "source": [
    "# 기본값을 설정하는 아주 일반적인 로직\n",
    "if key in some_dict : \n",
    "    value = some_dict[key]\n",
    "else : \n",
    "    value = default_value"
   ]
  },
  {
   "cell_type": "code",
   "execution_count": null,
   "id": "proprietary-mercury",
   "metadata": {},
   "outputs": [],
   "source": [
    "value = some_dict.get(key, default_value)"
   ]
  },
  {
   "cell_type": "markdown",
   "id": "pediatric-performance",
   "metadata": {},
   "source": [
    " "
   ]
  },
  {
   "cell_type": "markdown",
   "id": "persistent-wales",
   "metadata": {},
   "source": [
    "> 예시 : 여러 단어를 시작 글자에 따라 사전에 리스트로 저장하고 싶다면?"
   ]
  },
  {
   "cell_type": "markdown",
   "id": "piano-voltage",
   "metadata": {},
   "source": [
    "##### setdefault\n",
    "- setdefault 메소드를 사용하면 다음 if-else 구문을 아래과 같이 작성할 수 있다."
   ]
  },
  {
   "cell_type": "code",
   "execution_count": 42,
   "id": "applicable-adjustment",
   "metadata": {},
   "outputs": [
    {
     "name": "stdout",
     "output_type": "stream",
     "text": [
      "{'a': ['apple', 'atom'], 'b': ['bat', 'bar', 'book']}\n"
     ]
    }
   ],
   "source": [
    "words = ['apple','bat','bar','atom','book']\n",
    "by_letter = {}\n",
    "\n",
    "for word in words :\n",
    "    letter = word[0]\n",
    "    if letter not in by_letter :\n",
    "        by_letter[letter] = [word]\n",
    "    else : \n",
    "        by_letter[letter].append(word)\n",
    "        \n",
    "print(by_letter)"
   ]
  },
  {
   "cell_type": "code",
   "execution_count": 41,
   "id": "vocal-return",
   "metadata": {},
   "outputs": [
    {
     "name": "stdout",
     "output_type": "stream",
     "text": [
      "{'a': ['apple', 'atom'], 'b': ['bat', 'bar', 'book']}\n"
     ]
    }
   ],
   "source": [
    "by_letter = {}\n",
    "\n",
    "for word in words : \n",
    "    letter = word[0]\n",
    "    by_letter.setdefault(letter, []).append(word)\n",
    "    \n",
    "print(by_letter)"
   ]
  },
  {
   "cell_type": "markdown",
   "id": "double-fitness",
   "metadata": {},
   "source": [
    " "
   ]
  },
  {
   "cell_type": "markdown",
   "id": "cultural-cornell",
   "metadata": {},
   "source": [
    "##### defaultdict\n",
    "- 내장 collections 모듈의 defaultdict 클래스를 사용하면 위 과정을 좀 더 쉽게 할 수 있다."
   ]
  },
  {
   "cell_type": "code",
   "execution_count": 45,
   "id": "lesser-pursuit",
   "metadata": {},
   "outputs": [
    {
     "name": "stdout",
     "output_type": "stream",
     "text": [
      "defaultdict(<class 'list'>, {'a': ['apple', 'atom'], 'b': ['bat', 'bar', 'book']})\n"
     ]
    }
   ],
   "source": [
    "from collections import defaultdict\n",
    "\n",
    "by_letter = defaultdict(list)\n",
    "\n",
    "for word in words : \n",
    "    by_letter[word[0]].append(word)\n",
    "    \n",
    "print(by_letter)"
   ]
  },
  {
   "cell_type": "markdown",
   "id": "liked-gathering",
   "metadata": {},
   "source": [
    " "
   ]
  },
  {
   "cell_type": "markdown",
   "id": "representative-peter",
   "metadata": {},
   "source": [
    "##### 유효한 사전 키, hash()\n",
    "- 사전의 값(value)으로 어떤 파이썬 객체라도 가능하지만 키(key)는 스칼라형(정수,실수,문자열)이나 튜플(튜플에 저장된 값 역시 값이 바뀌지 않는 객체여야 한다) 처럼 값이 바뀌지 않는 객체만 가능하다.\n",
    "- 기술적으로는 `해시 가능` 해야한다는 뜻.\n",
    "- hash() 함수를 통해 어떤 객체가 해시 가능한지 검사할 수 있다."
   ]
  },
  {
   "cell_type": "code",
   "execution_count": 46,
   "id": "weighted-dubai",
   "metadata": {},
   "outputs": [
    {
     "data": {
      "text/plain": [
       "-942897530707866750"
      ]
     },
     "execution_count": 46,
     "metadata": {},
     "output_type": "execute_result"
    }
   ],
   "source": [
    "hash('string')"
   ]
  },
  {
   "cell_type": "code",
   "execution_count": 47,
   "id": "arranged-intention",
   "metadata": {},
   "outputs": [
    {
     "data": {
      "text/plain": [
       "-9209053662355515447"
      ]
     },
     "execution_count": 47,
     "metadata": {},
     "output_type": "execute_result"
    }
   ],
   "source": [
    "hash((1,2,(2,3)))"
   ]
  },
  {
   "cell_type": "code",
   "execution_count": 48,
   "id": "vietnamese-drunk",
   "metadata": {},
   "outputs": [
    {
     "ename": "TypeError",
     "evalue": "unhashable type: 'list'",
     "output_type": "error",
     "traceback": [
      "\u001b[1;31m---------------------------------------------------------------------------\u001b[0m",
      "\u001b[1;31mTypeError\u001b[0m                                 Traceback (most recent call last)",
      "\u001b[1;32m<ipython-input-48-576218ff90d3>\u001b[0m in \u001b[0;36m<module>\u001b[1;34m\u001b[0m\n\u001b[1;32m----> 1\u001b[1;33m \u001b[0mhash\u001b[0m\u001b[1;33m(\u001b[0m\u001b[1;33m(\u001b[0m\u001b[1;36m1\u001b[0m\u001b[1;33m,\u001b[0m\u001b[1;36m2\u001b[0m\u001b[1;33m,\u001b[0m\u001b[1;33m[\u001b[0m\u001b[1;36m2\u001b[0m\u001b[1;33m,\u001b[0m\u001b[1;36m3\u001b[0m\u001b[1;33m]\u001b[0m\u001b[1;33m)\u001b[0m\u001b[1;33m)\u001b[0m\u001b[1;33m\u001b[0m\u001b[1;33m\u001b[0m\u001b[0m\n\u001b[0m",
      "\u001b[1;31mTypeError\u001b[0m: unhashable type: 'list'"
     ]
    }
   ],
   "source": [
    "hash((1,2,[2,3]))  # 리스트는 변경이 가능한 값이므로 해시 가능하지 않음 "
   ]
  },
  {
   "cell_type": "markdown",
   "id": "pointed-attendance",
   "metadata": {},
   "source": [
    " "
   ]
  },
  {
   "cell_type": "markdown",
   "id": "warming-pontiac",
   "metadata": {},
   "source": [
    "### 3.1.5 집합\n",
    "- $집합^{set}$ 은 유일한 원소만 담는 `정렬되지 않은` 자료형\n",
    "- 사전과 유사하지만 값은 없고 키만 가지고 있다고 생각하면 됨\n",
    "- 집합은 set함수 혹은 중괄호를 이용해 생성할 수 있음"
   ]
  },
  {
   "cell_type": "code",
   "execution_count": 49,
   "id": "immediate-mason",
   "metadata": {},
   "outputs": [
    {
     "data": {
      "text/plain": [
       "{1, 2, 3}"
      ]
     },
     "execution_count": 49,
     "metadata": {},
     "output_type": "execute_result"
    }
   ],
   "source": [
    "set([2,2,2,1,3,3])"
   ]
  },
  {
   "cell_type": "code",
   "execution_count": 50,
   "id": "agreed-prerequisite",
   "metadata": {},
   "outputs": [
    {
     "data": {
      "text/plain": [
       "{1, 2, 3}"
      ]
     },
     "execution_count": 50,
     "metadata": {},
     "output_type": "execute_result"
    }
   ],
   "source": [
    "{2,2,2,1,3,3}"
   ]
  },
  {
   "cell_type": "markdown",
   "id": "considered-fundamental",
   "metadata": {},
   "source": [
    " "
   ]
  },
  {
   "cell_type": "markdown",
   "id": "global-tuner",
   "metadata": {},
   "source": [
    "##### union & intersection\n",
    "- union : 두 집합의 모든 원소를 모은 집합. union 메서드를 사용하거나 | 이항연산자로 구할 수 있음 \n",
    "- intersection : 두 집합에 공통으로 존재하는 원소만 모은 집합. intersection 메서드를 사용하거나 & 이항연산자로 구할 수 있음"
   ]
  },
  {
   "cell_type": "code",
   "execution_count": 52,
   "id": "powerful-curtis",
   "metadata": {},
   "outputs": [
    {
     "name": "stdout",
     "output_type": "stream",
     "text": [
      "\n",
      "a.union(b)        : {1, 2, 3, 4, 5, 6, 7, 8}\n",
      "a | b             : {1, 2, 3, 4, 5, 6, 7, 8}\n",
      "a.intersection(b) : {3, 4, 5}\n",
      "a & b             : {3, 4, 5}\n",
      "\n"
     ]
    }
   ],
   "source": [
    "a = {1,2,3,4,5}\n",
    "b = {3,4,5,6,7,8}\n",
    "\n",
    "print('''\n",
    "a.union(b)        : {0}\n",
    "a | b             : {1}\n",
    "a.intersection(b) : {2}\n",
    "a & b             : {3}\n",
    "'''.format(a.union(b), \\\n",
    "           a|b, \\\n",
    "           a.intersection(b), \\\n",
    "           a & b))"
   ]
  },
  {
   "cell_type": "markdown",
   "id": "basic-incidence",
   "metadata": {},
   "source": [
    " "
   ]
  },
  {
   "cell_type": "markdown",
   "id": "simple-township",
   "metadata": {},
   "source": [
    "##### 파이썬 집합 연산\n",
    "\n",
    "<details>\n",
    "<summary>파이썬 집합 연산</summary>\n",
    "<div markdown=\"1\">\n",
    "\n",
    "|함수|대체 문법|설명|\n",
    "|:--|:--|:--|\n",
    "|a.add(x)|N/A|a에 원소 x를 추가한다.|\n",
    "|a.clear()|N/A|모든 원소를 제거하고 빈 상태로 되돌린다.|\n",
    "|a.remove(x)|N/A|a에서 원소 x를 제거한다.|\n",
    "|a.pop()|N/A|a에서 `임의의 원소`를 제거한다. 비어있는 경우 KeyError를 발생시킨다.|\n",
    "|a.union(b)|a \\| b|a와 b의 합집합|\n",
    "|a.update(b)|a \\|= b|a에 a와 b의 합집합을 대입한다.|\n",
    "|a.intersection(b)|a \\& b|a와 b의 교집합|\n",
    "|a.intersection_update(b)|a \\&= b|a에 a와 b의 교집합을 대입한다.|\n",
    "|a.difference(b)|a - b|a와 b의 차집합|\n",
    "|a.difference_update(b)|a -= b|a에 a와 b의 차집합을 대입한다.|\n",
    "|a.symmetric_difference(b)|a ^ b|a와 b의 대칭차집합|\n",
    "|a.symmetric_difference_update(b)|a ^= b|a에 a와 b의 대칭차집합을 대입한다.|\n",
    "|a.issubset(b)|N/A|a의 모든 원소가 b에 속할 경우 True|\n",
    "|a.issuperset(b)|N/A|a가 b의 모든 원소를 포함할 경우 True|\n",
    "|a.isdisjoint(b)|N/A|a와 b 모두에 속하는 원소가 없을 경우 True|\n",
    "    \n",
    "</div>\n",
    "</details>"
   ]
  },
  {
   "cell_type": "markdown",
   "id": "czech-demonstration",
   "metadata": {},
   "source": [
    "> 사전처럼 집합 원소들도 일반적으로 변경이 불가능해야한다. 따라서 리스트를 집합의 원소로 담으려면 튜플로 변경해야 한다."
   ]
  },
  {
   "cell_type": "code",
   "execution_count": 54,
   "id": "attended-wholesale",
   "metadata": {},
   "outputs": [
    {
     "name": "stdout",
     "output_type": "stream",
     "text": [
      "{(1, 2, 3, 4)}\n"
     ]
    }
   ],
   "source": [
    "my_data = [1,2,3,4]\n",
    "my_set = {tuple(my_data)}\n",
    "print(my_set)"
   ]
  },
  {
   "cell_type": "markdown",
   "id": "sunrise-command",
   "metadata": {},
   "source": [
    "> 만일 집합의 내용이 같다면 두 집합은 동일하다."
   ]
  },
  {
   "cell_type": "code",
   "execution_count": 55,
   "id": "academic-silence",
   "metadata": {},
   "outputs": [
    {
     "data": {
      "text/plain": [
       "True"
      ]
     },
     "execution_count": 55,
     "metadata": {},
     "output_type": "execute_result"
    }
   ],
   "source": [
    "{1,2,3} == {2,3,1}"
   ]
  },
  {
   "cell_type": "markdown",
   "id": "romantic-romance",
   "metadata": {},
   "source": [
    " "
   ]
  },
  {
   "cell_type": "markdown",
   "id": "temporal-photographer",
   "metadata": {},
   "source": [
    "### 3.1.6 리스트, 집합, 사전 표기법"
   ]
  },
  {
   "cell_type": "markdown",
   "id": "inclusive-parade",
   "metadata": {},
   "source": [
    "##### 리스트 표기법\n",
    "- `리스트 표기법`은 파이썬 언어에서 가장 사랑받는 기능 중 하나다. 이를 이용하면 아래의 반복문을 한 줄로 간결하게 표현할 수 있다."
   ]
  },
  {
   "cell_type": "markdown",
   "id": "hazardous-donna",
   "metadata": {},
   "source": [
    "---\n",
    "result = []  \n",
    "\n",
    "for val in collection :  \n",
    "\n",
    "    if condition :      \n",
    "        result.append(expr)\n",
    "---\n",
    "\n",
    "- 리스트 표기법  \n",
    "result = [expr for val in collection if condition]\n",
    "\n",
    "- 사전 표기법  \n",
    "dict_comp = {key-expr : value_expr for value in collection if condiciton}\n",
    "\n",
    "- 집합 표기법  \n",
    "set_comp = {expr for value in collection if condiciton}"
   ]
  },
  {
   "cell_type": "markdown",
   "id": "light-attention",
   "metadata": {},
   "source": [
    "> 예1) 문자열 리스트 중 문자열의 길이가 2 이하인 문자열은 제외하고 나머지를 대문자로 바꾸기"
   ]
  },
  {
   "cell_type": "code",
   "execution_count": 56,
   "id": "handled-attachment",
   "metadata": {},
   "outputs": [
    {
     "data": {
      "text/plain": [
       "['BAT', 'CAR', 'DOVE', 'PYTHON']"
      ]
     },
     "execution_count": 56,
     "metadata": {},
     "output_type": "execute_result"
    }
   ],
   "source": [
    "strings = ['a','as','bat','car','dove','python']\n",
    "\n",
    "[x.upper() for x in strings if len(x) > 2]"
   ]
  },
  {
   "cell_type": "markdown",
   "id": "straight-secretariat",
   "metadata": {},
   "source": [
    "> 예2) 리스트 내의 문자열들의 길이를 담고있는 집합 생성하는 집합 표기법"
   ]
  },
  {
   "cell_type": "code",
   "execution_count": 58,
   "id": "unlikely-battery",
   "metadata": {},
   "outputs": [
    {
     "name": "stdout",
     "output_type": "stream",
     "text": [
      "{1, 2, 3, 4, 6}\n"
     ]
    }
   ],
   "source": [
    "unique_lengths = {len(x) for x in strings}\n",
    "print(unique_lengths)"
   ]
  },
  {
   "cell_type": "code",
   "execution_count": 61,
   "id": "hawaiian-wallpaper",
   "metadata": {},
   "outputs": [
    {
     "data": {
      "text/plain": [
       "{1, 2, 3, 4, 6}"
      ]
     },
     "execution_count": 61,
     "metadata": {},
     "output_type": "execute_result"
    }
   ],
   "source": [
    "set(map(len,strings))   # map 함수를 이용해서 함수적으로 표현할 수도 있다."
   ]
  },
  {
   "cell_type": "markdown",
   "id": "czech-metabolism",
   "metadata": {},
   "source": [
    "> 예3) 리스트에서 문자열의 위치를 담고 있는 사전 생성하는 사전 표기법 (key - 문자열, value - 해당 문자열의 위치)"
   ]
  },
  {
   "cell_type": "code",
   "execution_count": 66,
   "id": "latter-bridge",
   "metadata": {},
   "outputs": [
    {
     "name": "stdout",
     "output_type": "stream",
     "text": [
      "{'a': 0, 'as': 1, 'bat': 2, 'car': 3, 'dove': 4, 'python': 5}\n"
     ]
    }
   ],
   "source": [
    "loc_mapping = {val : index for index, val in enumerate(strings)}\n",
    "print(loc_mapping)"
   ]
  },
  {
   "cell_type": "markdown",
   "id": "medical-silicon",
   "metadata": {},
   "source": [
    " "
   ]
  },
  {
   "cell_type": "markdown",
   "id": "tamil-department",
   "metadata": {},
   "source": [
    "##### 중첩된 리스트 표기법"
   ]
  },
  {
   "cell_type": "markdown",
   "id": "cordless-senegal",
   "metadata": {},
   "source": [
    "> 예1) 다음과 같이 영어, 스페인어 이름들을 담고 있는 리스트의 리스트가 있다고 하자.  \n",
    "이 때, 각 이름에서 e가 2개 이상 포함된 이름의 목록을 구한다고 가정하자.  \n",
    "리스트는 for 문을 사용해서 다음처럼 구할 수 있다."
   ]
  },
  {
   "cell_type": "code",
   "execution_count": 68,
   "id": "proud-blair",
   "metadata": {},
   "outputs": [],
   "source": [
    "all_data = [['John','Emily','Michael','Mary','Steven'],\n",
    "            ['Maria','Juan','Javier','Natalia','Pilar']]"
   ]
  },
  {
   "cell_type": "code",
   "execution_count": 73,
   "id": "dutch-proceeding",
   "metadata": {},
   "outputs": [
    {
     "name": "stdout",
     "output_type": "stream",
     "text": [
      "['Steven']\n"
     ]
    }
   ],
   "source": [
    "names_of_interest = []\n",
    "\n",
    "for names in all_data :\n",
    "    enough_es = [name for name in names if name.count('e') >= 2]\n",
    "    names_of_interest.extend(enough_es)\n",
    "\n",
    "print(names_of_interest)"
   ]
  },
  {
   "cell_type": "markdown",
   "id": "younger-spell",
   "metadata": {},
   "source": [
    ">  `중첩된 리스트 표기법`을 사용하면 다음처럼 한 번에 구현할 수 있다."
   ]
  },
  {
   "cell_type": "code",
   "execution_count": 74,
   "id": "separated-gender",
   "metadata": {},
   "outputs": [
    {
     "name": "stdout",
     "output_type": "stream",
     "text": [
      "['Steven']\n"
     ]
    }
   ],
   "source": [
    "names_of_interest = [name for names in all_data for name in names if name.count('e') >= 2]\n",
    "print(names_of_interest)"
   ]
  },
  {
   "cell_type": "markdown",
   "id": "flush-malta",
   "metadata": {},
   "source": [
    " "
   ]
  },
  {
   "cell_type": "markdown",
   "id": "western-desktop",
   "metadata": {},
   "source": [
    "> 예2) 숫자 튜플이 담긴 리스트를 그냥 단순한 리스트로 변환하는 예제"
   ]
  },
  {
   "cell_type": "code",
   "execution_count": 76,
   "id": "boxed-technique",
   "metadata": {},
   "outputs": [],
   "source": [
    "some_tuples = [(1,2,3), (4,5,6), (7,8,9)]"
   ]
  },
  {
   "cell_type": "code",
   "execution_count": 77,
   "id": "promotional-reference",
   "metadata": {},
   "outputs": [
    {
     "name": "stdout",
     "output_type": "stream",
     "text": [
      "[1, 2, 3, 4, 5, 6, 7, 8, 9]\n"
     ]
    }
   ],
   "source": [
    "flattend = []\n",
    "\n",
    "for tup in some_tuples : \n",
    "    for x in tup : \n",
    "        flattend.append(x)\n",
    "\n",
    "print(flattend)"
   ]
  },
  {
   "cell_type": "code",
   "execution_count": 78,
   "id": "hungry-fault",
   "metadata": {},
   "outputs": [
    {
     "name": "stdout",
     "output_type": "stream",
     "text": [
      "[1, 2, 3, 4, 5, 6, 7, 8, 9]\n"
     ]
    }
   ],
   "source": [
    "flattend = [x for tup in some_tuples for x in tup]\n",
    "print(flattend)"
   ]
  },
  {
   "cell_type": "markdown",
   "id": "inside-median",
   "metadata": {},
   "source": [
    "> 위 문법과 `리스트 표기법 안에서 리스트 표기법`을 사용하는 것의 차이를 구별하는 것은 매우 중요하다."
   ]
  },
  {
   "cell_type": "code",
   "execution_count": 79,
   "id": "nonprofit-actor",
   "metadata": {},
   "outputs": [
    {
     "data": {
      "text/plain": [
       "[[1, 2, 3], [4, 5, 6], [7, 8, 9]]"
      ]
     },
     "execution_count": 79,
     "metadata": {},
     "output_type": "execute_result"
    }
   ],
   "source": [
    "[[x for x in tup] for tup in some_tuples]"
   ]
  }
 ],
 "metadata": {
  "kernelspec": {
   "display_name": "Python 3",
   "language": "python",
   "name": "python3"
  },
  "language_info": {
   "codemirror_mode": {
    "name": "ipython",
    "version": 3
   },
   "file_extension": ".py",
   "mimetype": "text/x-python",
   "name": "python",
   "nbconvert_exporter": "python",
   "pygments_lexer": "ipython3",
   "version": "3.8.10"
  }
 },
 "nbformat": 4,
 "nbformat_minor": 5
}
