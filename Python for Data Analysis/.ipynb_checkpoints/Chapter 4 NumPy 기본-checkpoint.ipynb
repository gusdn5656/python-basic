{
 "cells": [
  {
   "cell_type": "markdown",
   "id": "exotic-torture",
   "metadata": {},
   "source": [
    "# Chapter 4 NumPy 기본: 배열과 벡터 연산"
   ]
  },
  {
   "cell_type": "markdown",
   "id": "liable-detective",
   "metadata": {},
   "source": [
    "- NumPy는 Numerical Python의 줄임말, 파이썬에서 산술 계산을 위한 가장 중요한 필수 패키지 중 하나\n",
    "- 계산 과학을 위한 대부분의 패키지는 NumPy의 배열 객체를 데이터 교환을 위한 공통 언어처럼 사용"
   ]
  },
  {
   "cell_type": "markdown",
   "id": "laden-reaction",
   "metadata": {},
   "source": [
    "- NumPy에서 제공하는 것들  \n",
    "    - 효율적인 다차원 배열인 `ndarray`는 빠른 배열 계산과 유연한 `브로드캐스팅` 기능을 제공\n",
    "    - 반복문을 작성할 필요 없이 전체 데이터 배열을 빠르게 계산할 수 있는 표준 수학 함수\n",
    "    - 배열 데이터를 디스크에 쓰거나 읽을 수 있는 도구와 메모리에 적재된 파일을 다루는 도구\n",
    "    - 선형대수, 난수 생성기, 푸리에 변환 가능\n",
    "    - C, C++, 포트란으로 작성한 코드를 연결할 수 있는 C API"
   ]
  },
  {
   "cell_type": "markdown",
   "id": "soviet-privacy",
   "metadata": {},
   "source": [
    "- NumPy의 장점\n",
    "    - NumPy는 내부적으로 데이터를 다른 내장 파이썬 객체와 구분된 연속된 메모리 불록에 저장한다. \n",
    "    - NumPy의 각종 알고리즘은 모두 C로 작성되어 타입 검사나 다른 오버헤드 없이 메모리를 직접 조작할 수 있다.\n",
    "    - NumPy 배열은 또한 내장 파이썬의 연속된 자료형들보다 훨씬 더 적은 메모리를 사용한다.\n",
    "    - NumPy 연산은 파이썬 반복문을 사용하지 않고 전체 배열에 대한 복잡한 계싼을 수행할 수 있다."
   ]
  },
  {
   "cell_type": "markdown",
   "id": "bigger-toddler",
   "metadata": {},
   "source": [
    "> 성능 차이 확인 : 백만 개의 정수를 저장하는 NumPy 배열과 파이썬 리스트 비교"
   ]
  },
  {
   "cell_type": "code",
   "execution_count": 3,
   "id": "bottom-hypothetical",
   "metadata": {},
   "outputs": [],
   "source": [
    "import numpy as np\n",
    "\n",
    "my_arr = np.arange(1000000)\n",
    "my_list = list(range(1000000))"
   ]
  },
  {
   "cell_type": "code",
   "execution_count": 19,
   "id": "severe-lewis",
   "metadata": {},
   "outputs": [
    {
     "name": "stdout",
     "output_type": "stream",
     "text": [
      "Wall time: 29.9 ms\n",
      "Wall time: 833 ms\n"
     ]
    }
   ],
   "source": [
    "# 각각의 배열과 리스트 원소에 2를 곱하기\n",
    "%time for _ in range(10) : my_arr2 = my_arr * 2\n",
    "%time for _ in range(10) : my_list2 = [x*2 for x in my_list]"
   ]
  },
  {
   "cell_type": "markdown",
   "id": "industrial-organ",
   "metadata": {},
   "source": [
    " "
   ]
  },
  {
   "cell_type": "markdown",
   "id": "welsh-nelson",
   "metadata": {},
   "source": [
    "## 4.1 NumPy ndarray : 다차원 배열 객체"
   ]
  },
  {
   "cell_type": "markdown",
   "id": "decreased-holmes",
   "metadata": {},
   "source": [
    "- ndarray \n",
    "    - N차원의 배열 객체이며 NumPy의 핵심\n",
    "    - 대규모 데이터 집합을 담을 수 있는 빠르고 유연한 자료구조.\n",
    "    - 배열은 스칼라 원소간의 연산에 사용하는 문법과 비슷한 방식을 사용해 전체 데이터 블록에 수학적인 연산을 수행할 수 있게 해줌"
   ]
  },
  {
   "cell_type": "code",
   "execution_count": 30,
   "id": "coastal-import",
   "metadata": {},
   "outputs": [
    {
     "data": {
      "text/plain": [
       "array([[ -7.10188957, -17.59088192,  -1.09342313],\n",
       "       [  3.4775524 ,   6.38532323,  11.47541335]])"
      ]
     },
     "execution_count": 30,
     "metadata": {},
     "output_type": "execute_result"
    }
   ],
   "source": [
    "import numpy as np     # numpy import convention임\n",
    "\n",
    "data = np.random.randn(2,3)\n",
    "data"
   ]
  },
  {
   "cell_type": "markdown",
   "id": "waiting-sessions",
   "metadata": {},
   "source": [
    " "
   ]
  },
  {
   "cell_type": "markdown",
   "id": "elder-draft",
   "metadata": {},
   "source": [
    "- ndarray 객체에 스칼라 연산을 시행하면 모든 원소에 대해 연산을 수행해 줌"
   ]
  },
  {
   "cell_type": "code",
   "execution_count": 31,
   "id": "empirical-template",
   "metadata": {},
   "outputs": [
    {
     "data": {
      "text/plain": [
       "array([[ -7.10188957, -17.59088192,  -1.09342313],\n",
       "       [  3.4775524 ,   6.38532323,  11.47541335]])"
      ]
     },
     "execution_count": 31,
     "metadata": {},
     "output_type": "execute_result"
    }
   ],
   "source": [
    "data * 10"
   ]
  },
  {
   "cell_type": "code",
   "execution_count": 32,
   "id": "roman-romance",
   "metadata": {},
   "outputs": [
    {
     "data": {
      "text/plain": [
       "array([[-1.42037791, -3.51817638, -0.21868463],\n",
       "       [ 0.69551048,  1.27706465,  2.29508267]])"
      ]
     },
     "execution_count": 32,
     "metadata": {},
     "output_type": "execute_result"
    }
   ],
   "source": [
    "data + data"
   ]
  },
  {
   "cell_type": "markdown",
   "id": "reliable-peninsula",
   "metadata": {},
   "source": [
    " "
   ]
  },
  {
   "cell_type": "markdown",
   "id": "twenty-photography",
   "metadata": {},
   "source": [
    "- ndarray의 모든 원소는 같은 자료형이어야 함\n",
    "- np.shape : 배열의 각 차원의 크기를 알려주는 `튜플`\n",
    "- np.dtype : 배열에 저장된 자료형을 알려주는 `객체`"
   ]
  },
  {
   "cell_type": "code",
   "execution_count": 35,
   "id": "quality-accent",
   "metadata": {},
   "outputs": [
    {
     "data": {
      "text/plain": [
       "(2, 3)"
      ]
     },
     "execution_count": 35,
     "metadata": {},
     "output_type": "execute_result"
    }
   ],
   "source": [
    "data.shape"
   ]
  },
  {
   "cell_type": "code",
   "execution_count": 38,
   "id": "neutral-arlington",
   "metadata": {},
   "outputs": [
    {
     "data": {
      "text/plain": [
       "dtype('float64')"
      ]
     },
     "execution_count": 38,
     "metadata": {},
     "output_type": "execute_result"
    }
   ],
   "source": [
    "data.dtype"
   ]
  },
  {
   "cell_type": "markdown",
   "id": "hungarian-lindsay",
   "metadata": {},
   "source": [
    " "
   ]
  },
  {
   "cell_type": "markdown",
   "id": "little-provincial",
   "metadata": {},
   "source": [
    "### 4.1.1 ndarray 생성하기"
   ]
  },
  {
   "cell_type": "markdown",
   "id": "figured-rubber",
   "metadata": {},
   "source": [
    "- array 함수\n",
    "    - 순차적인 객체 (다른 배열도 포함하여)를 넘겨 받음\n",
    "    - 넘겨받은 데이터가 들어 있는 새로운 NumPy 배열을 생성"
   ]
  },
  {
   "cell_type": "code",
   "execution_count": 43,
   "id": "inside-wheel",
   "metadata": {},
   "outputs": [],
   "source": [
    "data1 = [6,7.5,8,0,1]\n",
    "data2 = [[1,2,3,4],\n",
    "         [5,6,7,8]]\n",
    "\n",
    "arr1 = np.array(data1)\n",
    "arr2 = np.array(data2)"
   ]
  },
  {
   "cell_type": "code",
   "execution_count": 44,
   "id": "dress-hybrid",
   "metadata": {},
   "outputs": [
    {
     "data": {
      "text/plain": [
       "array([6. , 7.5, 8. , 0. , 1. ])"
      ]
     },
     "execution_count": 44,
     "metadata": {},
     "output_type": "execute_result"
    }
   ],
   "source": [
    "arr1"
   ]
  },
  {
   "cell_type": "code",
   "execution_count": 45,
   "id": "collectible-sacrifice",
   "metadata": {},
   "outputs": [
    {
     "data": {
      "text/plain": [
       "array([[1, 2, 3, 4],\n",
       "       [5, 6, 7, 8]])"
      ]
     },
     "execution_count": 45,
     "metadata": {},
     "output_type": "execute_result"
    }
   ],
   "source": [
    "arr2           # 같은 길이를 가지는 리스트를 내포하는 순차 데이터는 다차원 배열로 변환 가능."
   ]
  },
  {
   "cell_type": "code",
   "execution_count": 48,
   "id": "fuzzy-terry",
   "metadata": {},
   "outputs": [
    {
     "data": {
      "text/plain": [
       "2"
      ]
     },
     "execution_count": 48,
     "metadata": {},
     "output_type": "execute_result"
    }
   ],
   "source": [
    "arr2.ndim      # ndim을 통하여 2차원 형태로 생성됐음을 확인"
   ]
  },
  {
   "cell_type": "code",
   "execution_count": 49,
   "id": "blank-joint",
   "metadata": {},
   "outputs": [
    {
     "data": {
      "text/plain": [
       "(2, 4)"
      ]
     },
     "execution_count": 49,
     "metadata": {},
     "output_type": "execute_result"
    }
   ],
   "source": [
    "arr2.shape"
   ]
  },
  {
   "cell_type": "markdown",
   "id": "charged-messaging",
   "metadata": {},
   "source": [
    " "
   ]
  },
  {
   "cell_type": "markdown",
   "id": "uniform-operator",
   "metadata": {},
   "source": [
    "#### 배열 생성 함수\n",
    "\n",
    "<details>\n",
    "<summary>배열 생성 함수</summary>\n",
    "<div markdown=\"1\">\n",
    "\n",
    "|함수|설명|\n",
    "|:--|:--|\n",
    "|array|입력 데이터(리스트, 튜플, 배열 또는 다른 순차형 데이터)를 ndarray로 변환하며 dtype을 명시하지 않는 경우 자료형을 추론하여 저장한다. 기본적으로 입력 데이터는 `복사`된다.|\n",
    "|asarray|입력 데이터를 ndarray로 변환하지만 입력 데이터가 이미 ndarray일 경우 복사가 일어나지 않는다.|\n",
    "|arange|내장 range 함수와 유사하지만 리스트대신 ndarray를 반환한다.|    \n",
    "|ones|`주어진 dtype과 모양`을 가지는 배열을 생성하고 내용을 모두 1로 초기화한다.|\n",
    "|ones_like|`주어진 배열`과 동일한 모양과 dtype을 가지는 배열을 새로 생성하여 내용을 모두 1로 초기화한다.|\n",
    "|zeros|`주어진 dtype과 모양`을 가지는 배열을 생성하고 내용을 모두 0으로 초기화한다.|\n",
    "|zeros_like|`주어진 배열`과 동일한 모양과 dtype을 가지는 배열을 새로 생성하여 내용을 모두 0으로 초기화한다.|\n",
    "|empty, empty_like|메모리를 할당하여 새로운 배열을 생성하지만 ones나 zeros처럼 값을 초기화하지 않는다.|\n",
    "|full, full_lik|인자로 받은 dtype과 배열의 모양을 가지는 배열을 생성하고 인자로 받은 값으로 배열을 채운다.|\n",
    "|eye, identity| N x N 크기의 단위행렬을 생ㅅ어한다 (좌상단에서 우하단을 잇는 대각선은 1로 채워지고 나머지는 0으로 채워진다.)|\n",
    "    \n",
    "</div>\n",
    "</details>"
   ]
  },
  {
   "cell_type": "code",
   "execution_count": 54,
   "id": "circular-damage",
   "metadata": {},
   "outputs": [
    {
     "data": {
      "text/plain": [
       "array([0., 0., 0., 0., 0., 0., 0., 0., 0., 0.])"
      ]
     },
     "execution_count": 54,
     "metadata": {},
     "output_type": "execute_result"
    }
   ],
   "source": [
    "np.zeros(10)"
   ]
  },
  {
   "cell_type": "code",
   "execution_count": 55,
   "id": "structural-input",
   "metadata": {},
   "outputs": [
    {
     "data": {
      "text/plain": [
       "array([[1., 1., 1., 1., 1., 1.],\n",
       "       [1., 1., 1., 1., 1., 1.],\n",
       "       [1., 1., 1., 1., 1., 1.]])"
      ]
     },
     "execution_count": 55,
     "metadata": {},
     "output_type": "execute_result"
    }
   ],
   "source": [
    "np.ones((3,6))"
   ]
  },
  {
   "cell_type": "code",
   "execution_count": 56,
   "id": "hungry-guard",
   "metadata": {},
   "outputs": [
    {
     "data": {
      "text/plain": [
       "array([[[1.10031594e-311, 1.10031594e-311],\n",
       "        [1.10031594e-311, 1.26974871e-321],\n",
       "        [0.00000000e+000, 0.00000000e+000]],\n",
       "\n",
       "       [[0.00000000e+000, 0.00000000e+000],\n",
       "        [0.00000000e+000, 0.00000000e+000],\n",
       "        [0.00000000e+000, 0.00000000e+000]]])"
      ]
     },
     "execution_count": 56,
     "metadata": {},
     "output_type": "execute_result"
    }
   ],
   "source": [
    "np.empty((2,3,2))"
   ]
  },
  {
   "cell_type": "code",
   "execution_count": 58,
   "id": "amateur-japan",
   "metadata": {},
   "outputs": [
    {
     "data": {
      "text/plain": [
       "array([ 0,  1,  2,  3,  4,  5,  6,  7,  8,  9, 10, 11, 12, 13, 14])"
      ]
     },
     "execution_count": 58,
     "metadata": {},
     "output_type": "execute_result"
    }
   ],
   "source": [
    "np.arange(15)"
   ]
  },
  {
   "cell_type": "markdown",
   "id": "confident-spring",
   "metadata": {},
   "source": [
    " "
   ]
  },
  {
   "cell_type": "markdown",
   "id": "excessive-charge",
   "metadata": {},
   "source": [
    " "
   ]
  },
  {
   "cell_type": "markdown",
   "id": "sharp-campbell",
   "metadata": {},
   "source": [
    "### 4.1.2 ndarray의 dtype"
   ]
  },
  {
   "cell_type": "markdown",
   "id": "specified-highlight",
   "metadata": {},
   "source": [
    "- dtype\n",
    "    - ndarray가 메모리에 있는 특정 데이터를 해석하기 위해 필요한 정보 (또는 `메타데이터`)를 담고 있는 `특수한 객체`다.\n",
    "    - dypte이 있어서 NumPy가 강력하면서도 유연한 도구가 될 수 있다고 함."
   ]
  },
  {
   "cell_type": "code",
   "execution_count": 60,
   "id": "cellular-admission",
   "metadata": {},
   "outputs": [
    {
     "name": "stdout",
     "output_type": "stream",
     "text": [
      "\n",
      "dtype of arr1 : float64\n",
      "dtype of arr2 : int32\n"
     ]
    }
   ],
   "source": [
    "arr1 = np.array([1,2,3], dtype = np.float64)\n",
    "arr2 = np.array([1,2,3], dtype = np.int32)\n",
    "\n",
    "print('''\n",
    "dtype of arr1 : {0}\n",
    "dtype of arr2 : {1}'''.format(arr1.dtype, \\\n",
    "                              arr2.dtype))"
   ]
  },
  {
   "cell_type": "markdown",
   "id": "wired-sentence",
   "metadata": {},
   "source": [
    " "
   ]
  },
  {
   "cell_type": "markdown",
   "id": "norman-coupon",
   "metadata": {},
   "source": [
    "- np.astype()\n",
    "    - np.ndarray.astype 메서드를 사용해서 배열의 dtype을 다른 형으로 명시적으로 변환 (또는 캐스팅) 가능하다."
   ]
  },
  {
   "cell_type": "code",
   "execution_count": 3,
   "id": "alleged-glance",
   "metadata": {},
   "outputs": [
    {
     "name": "stdout",
     "output_type": "stream",
     "text": [
      "\n",
      "dtype of arr : int32\n",
      "dtype of float_arr : float64\n"
     ]
    }
   ],
   "source": [
    "arr = np.array([1,2,3,4,5])\n",
    "float_arr = arr.astype(np.float64)\n",
    "\n",
    "print('''\n",
    "dtype of arr : {0}\n",
    "dtype of float_arr : {1}'''.format(arr.dtype, \\\n",
    "                                   float_arr.dtype))"
   ]
  },
  {
   "cell_type": "markdown",
   "id": "specified-collection",
   "metadata": {},
   "source": [
    " "
   ]
  },
  {
   "cell_type": "markdown",
   "id": "chief-african",
   "metadata": {},
   "source": [
    "#### NumPy 자료형\n",
    "\n",
    "<details>\n",
    "<summary>NumPy 자료형</summary>\n",
    "<div markdown=\"1\">\n",
    "\n",
    "|자료형|자료형 코드|설명|\n",
    "|:--|:--|:--|\n",
    "|int8, uint8|i1, u1|부호가 있는 8비트(1바이트) 정수형과 부호가 없는 8비트 정수형|\n",
    "|int16, uint16|i2, u2|부호가 있는 16비트 정수형과 부호가 없는 16비트 정수형|\n",
    "|int32, uint32|i4, u4|부호가 있는 32비트 정수형과 부호가 없는 32비트 정수형|\n",
    "|int64, uint64|i8, u8|부호가 있는 64비트 정수형과 부호가 없는 64비트 정수형|\n",
    "|float16|f2|반정밀도 부동소수점|\n",
    "|float32|f4 또는 f|단정밀도 부동소수점. C언어의 float형과 호환|\n",
    "|float64|f8 또는 d|배정밀도 부동소수점. C언어의 double형과 파이썬의 float 객체와 호환|\n",
    "|float129|f16 또는 g|확장정밀도 부동소수점|\n",
    "|complex64,  \n",
    " complex128,  \n",
    " complex256|c8, c16, c32| 각각 2개의 32,64,128비트 부동소수점형을 가지는 복소수|\n",
    "|bool|?|True와 False 값을 저장하는 불리언형|\n",
    "|object|O|파이썬 객체형|\n",
    "|string_|S|고정 길이 아스키 문자열형(각 문자는 1바이트). 길이가 10인 문자열 dtype은 S10이 된다.|\n",
    "|unicode_|U|고정 길이 유니코드형(플랫폼에 따라 문자별 바이트 수가 다르다). string_형과 같은 형식을 쓴다(예:U10).|\n",
    "    \n",
    "</div>\n",
    "</details>"
   ]
  },
  {
   "cell_type": "markdown",
   "id": "metallic-ticket",
   "metadata": {},
   "source": [
    "> 숫자 형식의 문자열을 담고 있는 배열이 있다면 astype을 사용하여 숫자로 변환할 수 있다."
   ]
  },
  {
   "cell_type": "code",
   "execution_count": 73,
   "id": "moved-universe",
   "metadata": {},
   "outputs": [
    {
     "data": {
      "text/plain": [
       "array([b'1.25', b'-9.634', b'42'], dtype='|S6')"
      ]
     },
     "execution_count": 73,
     "metadata": {},
     "output_type": "execute_result"
    }
   ],
   "source": [
    "numeric_strings = np.array(['1.25','-9.634','42'], dtype = np.string_)\n",
    "numeric_strings"
   ]
  },
  {
   "cell_type": "code",
   "execution_count": 83,
   "id": "selected-sierra",
   "metadata": {},
   "outputs": [
    {
     "name": "stdout",
     "output_type": "stream",
     "text": [
      "[ 1.25  -9.634 42.   ]\n",
      "[ 1.25  -9.634 42.   ]\n"
     ]
    }
   ],
   "source": [
    "# np.float64와 파이썬 float 객체는 호환 가능함. 따라서 아래 두 코드는 같은 값을 반환\n",
    "print(numeric_strings.astype(np.float64))\n",
    "print(numeric_strings.astype(float))"
   ]
  },
  {
   "cell_type": "markdown",
   "id": "adjusted-korea",
   "metadata": {},
   "source": [
    " "
   ]
  },
  {
   "cell_type": "markdown",
   "id": "amateur-grill",
   "metadata": {},
   "source": [
    "### 4.1.3 NumPy 배열의 산술 연산"
   ]
  },
  {
   "cell_type": "markdown",
   "id": "narrow-miller",
   "metadata": {},
   "source": [
    "- 배열의 중요한 특징은 for 문을 작성하지 않고 데이터를 일괄 처리할 수 있다는 점. 이를 `벡터화`라고 함.\n",
    "- 같은 크기의 배열 간의 산술 연산은 배열의 각 원소 단위로 적용됨."
   ]
  },
  {
   "cell_type": "code",
   "execution_count": 105,
   "id": "tender-flash",
   "metadata": {},
   "outputs": [
    {
     "data": {
      "text/plain": [
       "array([[1., 2., 3.],\n",
       "       [4., 5., 6.]])"
      ]
     },
     "execution_count": 105,
     "metadata": {},
     "output_type": "execute_result"
    }
   ],
   "source": [
    "arr = np.array([[1.,2.,3.],\n",
    "                [4.,5.,6.]])\n",
    "arr"
   ]
  },
  {
   "cell_type": "code",
   "execution_count": 106,
   "id": "worst-residence",
   "metadata": {},
   "outputs": [
    {
     "data": {
      "text/plain": [
       "array([[ 1.,  4.,  9.],\n",
       "       [16., 25., 36.]])"
      ]
     },
     "execution_count": 106,
     "metadata": {},
     "output_type": "execute_result"
    }
   ],
   "source": [
    "arr * arr"
   ]
  },
  {
   "cell_type": "code",
   "execution_count": 107,
   "id": "geological-circular",
   "metadata": {},
   "outputs": [
    {
     "data": {
      "text/plain": [
       "array([[0., 0., 0.],\n",
       "       [0., 0., 0.]])"
      ]
     },
     "execution_count": 107,
     "metadata": {},
     "output_type": "execute_result"
    }
   ],
   "source": [
    "arr - arr"
   ]
  },
  {
   "cell_type": "code",
   "execution_count": 108,
   "id": "lightweight-baltimore",
   "metadata": {},
   "outputs": [
    {
     "data": {
      "text/plain": [
       "array([[1.        , 0.5       , 0.33333333],\n",
       "       [0.25      , 0.2       , 0.16666667]])"
      ]
     },
     "execution_count": 108,
     "metadata": {},
     "output_type": "execute_result"
    }
   ],
   "source": [
    "1/arr"
   ]
  },
  {
   "cell_type": "markdown",
   "id": "smooth-munich",
   "metadata": {},
   "source": [
    " "
   ]
  },
  {
   "cell_type": "markdown",
   "id": "hungry-plaza",
   "metadata": {},
   "source": [
    "- 같은 크기를 가지는 배열 간의 비교 연산은 불리언 배열을 반환함."
   ]
  },
  {
   "cell_type": "code",
   "execution_count": 111,
   "id": "located-pearl",
   "metadata": {},
   "outputs": [
    {
     "data": {
      "text/plain": [
       "array([[False,  True, False],\n",
       "       [ True, False,  True]])"
      ]
     },
     "execution_count": 111,
     "metadata": {},
     "output_type": "execute_result"
    }
   ],
   "source": [
    "arr2 = np.array([[0.,4.,1.],\n",
    "                 [7.,2.,12.]])\n",
    "arr2 > arr"
   ]
  },
  {
   "cell_type": "markdown",
   "id": "respiratory-moderator",
   "metadata": {},
   "source": [
    " "
   ]
  },
  {
   "cell_type": "markdown",
   "id": "middle-permit",
   "metadata": {},
   "source": [
    "### 4.1.4 색인과 슬라이싱 기초"
   ]
  },
  {
   "cell_type": "markdown",
   "id": "essential-sellers",
   "metadata": {},
   "source": [
    "- 1차원 배열의 색인과 슬라이싱은 표면적으로는 파이선의 리스트와 유사하게 동작함\n",
    "- 배열 조각에 스칼라값을 대입하면 해당 값이 선택 영역 전체로 전파 (또는 `브로드캐스팅`)됨."
   ]
  },
  {
   "cell_type": "code",
   "execution_count": 117,
   "id": "improving-samuel",
   "metadata": {},
   "outputs": [
    {
     "data": {
      "text/plain": [
       "array([0, 1, 2, 3, 4, 5, 6, 7, 8, 9])"
      ]
     },
     "execution_count": 117,
     "metadata": {},
     "output_type": "execute_result"
    }
   ],
   "source": [
    "arr = np.arange(10)\n",
    "arr"
   ]
  },
  {
   "cell_type": "code",
   "execution_count": 119,
   "id": "hawaiian-clinic",
   "metadata": {},
   "outputs": [
    {
     "data": {
      "text/plain": [
       "array([5, 6, 7])"
      ]
     },
     "execution_count": 119,
     "metadata": {},
     "output_type": "execute_result"
    }
   ],
   "source": [
    "arr[5:8]"
   ]
  },
  {
   "cell_type": "code",
   "execution_count": 120,
   "id": "rapid-effects",
   "metadata": {},
   "outputs": [
    {
     "data": {
      "text/plain": [
       "array([ 0,  1,  2,  3,  4, 12, 12, 12,  8,  9])"
      ]
     },
     "execution_count": 120,
     "metadata": {},
     "output_type": "execute_result"
    }
   ],
   "source": [
    "arr[5:8] = 12\n",
    "arr"
   ]
  },
  {
   "cell_type": "markdown",
   "id": "negative-basketball",
   "metadata": {},
   "source": [
    " "
   ]
  },
  {
   "cell_type": "markdown",
   "id": "figured-occasion",
   "metadata": {},
   "source": [
    "- 리스트와의 **중요한** 차이점은 배열 조각은 원본 배열의 `뷰`라는 점.\n",
    "    - 즉, 데이터는 복사되지 않고 뷰에 대한 변경은 그대로 원본 배열에 반영된다.\n",
    "    - NumPy는 대용량의 데이터 처리를 염두에 두고 설계되었기 때문에 성능과 메모리 문제를 피하기 위해 데이터 복사를 피한다."
   ]
  },
  {
   "cell_type": "code",
   "execution_count": 122,
   "id": "obvious-grant",
   "metadata": {},
   "outputs": [
    {
     "data": {
      "text/plain": [
       "array([12, 12, 12])"
      ]
     },
     "execution_count": 122,
     "metadata": {},
     "output_type": "execute_result"
    }
   ],
   "source": [
    "arr_slice = arr[5:8]\n",
    "arr_slice"
   ]
  },
  {
   "cell_type": "code",
   "execution_count": 123,
   "id": "discrete-earth",
   "metadata": {},
   "outputs": [
    {
     "data": {
      "text/plain": [
       "array([    0,     1,     2,     3,     4,    12, 12345,    12,     8,\n",
       "           9])"
      ]
     },
     "execution_count": 123,
     "metadata": {},
     "output_type": "execute_result"
    }
   ],
   "source": [
    "arr_slice[1] = 12345\n",
    "arr"
   ]
  },
  {
   "cell_type": "code",
   "execution_count": 124,
   "id": "imported-federation",
   "metadata": {},
   "outputs": [
    {
     "data": {
      "text/plain": [
       "array([ 0,  1,  2,  3,  4, 64, 64, 64,  8,  9])"
      ]
     },
     "execution_count": 124,
     "metadata": {},
     "output_type": "execute_result"
    }
   ],
   "source": [
    "# 단순히 [:]로 슬라이스를 하면 배열의 모든 값을 할당한다.\n",
    "arr_slice[:] = 64\n",
    "arr"
   ]
  },
  {
   "cell_type": "markdown",
   "id": "corrected-clark",
   "metadata": {},
   "source": [
    "> 만약에 뷰 대신 ndarray 슬라이스의 복사본은 얻고 싶다면 arr[5:8].copy()를 사용해서 명시적으로 배열을 `복사`해야한다."
   ]
  },
  {
   "cell_type": "markdown",
   "id": "limited-sacramento",
   "metadata": {},
   "source": [
    " "
   ]
  },
  {
   "cell_type": "markdown",
   "id": "second-concern",
   "metadata": {},
   "source": [
    "- 2차원 배열 색인"
   ]
  },
  {
   "cell_type": "code",
   "execution_count": 129,
   "id": "light-regard",
   "metadata": {},
   "outputs": [],
   "source": [
    "arr2d = np.array([[1,2,3],\n",
    "                  [4,5,6],\n",
    "                  [7,8,9]])"
   ]
  },
  {
   "cell_type": "code",
   "execution_count": 130,
   "id": "recognized-archives",
   "metadata": {},
   "outputs": [
    {
     "data": {
      "text/plain": [
       "array([7, 8, 9])"
      ]
     },
     "execution_count": 130,
     "metadata": {},
     "output_type": "execute_result"
    }
   ],
   "source": [
    "arr2d[2]"
   ]
  },
  {
   "cell_type": "code",
   "execution_count": 131,
   "id": "available-generator",
   "metadata": {},
   "outputs": [
    {
     "data": {
      "text/plain": [
       "3"
      ]
     },
     "execution_count": 131,
     "metadata": {},
     "output_type": "execute_result"
    }
   ],
   "source": [
    "arr2d[0][2]"
   ]
  },
  {
   "cell_type": "code",
   "execution_count": 132,
   "id": "irish-ticket",
   "metadata": {},
   "outputs": [
    {
     "data": {
      "text/plain": [
       "3"
      ]
     },
     "execution_count": 132,
     "metadata": {},
     "output_type": "execute_result"
    }
   ],
   "source": [
    "arr2d[0,2]"
   ]
  },
  {
   "cell_type": "markdown",
   "id": "appointed-making",
   "metadata": {},
   "source": [
    " "
   ]
  },
  {
   "cell_type": "markdown",
   "id": "necessary-destination",
   "metadata": {},
   "source": [
    "- 3차원 배열 색인"
   ]
  },
  {
   "cell_type": "code",
   "execution_count": 141,
   "id": "awful-geography",
   "metadata": {},
   "outputs": [
    {
     "data": {
      "text/plain": [
       "array([[[ 1,  2,  3],\n",
       "        [ 4,  5,  6]],\n",
       "\n",
       "       [[ 7,  8,  9],\n",
       "        [10, 11, 12]]])"
      ]
     },
     "execution_count": 141,
     "metadata": {},
     "output_type": "execute_result"
    }
   ],
   "source": [
    "arr3d = np.array([[[1,2,3],[4,5,6]],\n",
    "                  [[7,8,9],[10,11,12]]])\n",
    "arr3d"
   ]
  },
  {
   "cell_type": "code",
   "execution_count": 142,
   "id": "packed-florida",
   "metadata": {},
   "outputs": [
    {
     "data": {
      "text/plain": [
       "array([[1, 2, 3],\n",
       "       [4, 5, 6]])"
      ]
     },
     "execution_count": 142,
     "metadata": {},
     "output_type": "execute_result"
    }
   ],
   "source": [
    "# arr3d[0]은 2X3 크기의 배열\n",
    "arr3d[0]"
   ]
  },
  {
   "cell_type": "code",
   "execution_count": 145,
   "id": "hairy-plymouth",
   "metadata": {},
   "outputs": [
    {
     "data": {
      "text/plain": [
       "array([[[42, 42, 42],\n",
       "        [42, 42, 42]],\n",
       "\n",
       "       [[ 7,  8,  9],\n",
       "        [10, 11, 12]]])"
      ]
     },
     "execution_count": 145,
     "metadata": {},
     "output_type": "execute_result"
    }
   ],
   "source": [
    "#arr3d[0]에는 스칼라값과 배열 모두 대입할 수 있다.\n",
    "old_values = arr3d[0].copy()\n",
    "\n",
    "arr3d[0] = 42\n",
    "arr3d"
   ]
  },
  {
   "cell_type": "code",
   "execution_count": 147,
   "id": "given-disposal",
   "metadata": {},
   "outputs": [
    {
     "data": {
      "text/plain": [
       "array([[[ 1,  2,  3],\n",
       "        [ 4,  5,  6]],\n",
       "\n",
       "       [[ 7,  8,  9],\n",
       "        [10, 11, 12]]])"
      ]
     },
     "execution_count": 147,
     "metadata": {},
     "output_type": "execute_result"
    }
   ],
   "source": [
    "arr3d[0] = old_values\n",
    "arr3d"
   ]
  },
  {
   "cell_type": "code",
   "execution_count": 151,
   "id": "joint-wyoming",
   "metadata": {},
   "outputs": [
    {
     "data": {
      "text/plain": [
       "9"
      ]
     },
     "execution_count": 151,
     "metadata": {},
     "output_type": "execute_result"
    }
   ],
   "source": [
    "arr3d[1,0,2]"
   ]
  },
  {
   "cell_type": "code",
   "execution_count": 152,
   "id": "bottom-draft",
   "metadata": {},
   "outputs": [
    {
     "data": {
      "text/plain": [
       "9"
      ]
     },
     "execution_count": 152,
     "metadata": {},
     "output_type": "execute_result"
    }
   ],
   "source": [
    "arr3d[1][0][2]"
   ]
  },
  {
   "cell_type": "markdown",
   "id": "listed-parade",
   "metadata": {},
   "source": [
    " "
   ]
  },
  {
   "cell_type": "markdown",
   "id": "injured-organ",
   "metadata": {},
   "source": [
    "#### 슬라이스로 선택하기"
   ]
  },
  {
   "cell_type": "code",
   "execution_count": 154,
   "id": "residential-phenomenon",
   "metadata": {},
   "outputs": [
    {
     "data": {
      "text/plain": [
       "array([ 1,  2,  3,  4, 64])"
      ]
     },
     "execution_count": 154,
     "metadata": {},
     "output_type": "execute_result"
    }
   ],
   "source": [
    "arr = np.array([0,1,2,3,4,64,64,64,8,9])\n",
    "arr[1:6]"
   ]
  },
  {
   "cell_type": "code",
   "execution_count": 160,
   "id": "senior-dakota",
   "metadata": {},
   "outputs": [],
   "source": [
    "arr2d = np.array([[1,2,3],\n",
    "                  [4,5,6],\n",
    "                  [7,8,9]])"
   ]
  },
  {
   "cell_type": "code",
   "execution_count": 161,
   "id": "coupled-poster",
   "metadata": {},
   "outputs": [
    {
     "data": {
      "text/plain": [
       "array([[1, 2, 3],\n",
       "       [4, 5, 6]])"
      ]
     },
     "execution_count": 161,
     "metadata": {},
     "output_type": "execute_result"
    }
   ],
   "source": [
    "# 첫번째 ~ 두번째 로우까지 슬라이싱\n",
    "arr2d[:2]"
   ]
  },
  {
   "cell_type": "code",
   "execution_count": 163,
   "id": "nervous-resident",
   "metadata": {},
   "outputs": [
    {
     "data": {
      "text/plain": [
       "array([[2, 3],\n",
       "       [5, 6]])"
      ]
     },
     "execution_count": 163,
     "metadata": {},
     "output_type": "execute_result"
    }
   ],
   "source": [
    "# 첫번째 ~ 두번째 로우까지 슬라이싱 + 두번째 ~ 세번째 컬럼 슬라이싱\n",
    "arr2d[:2, 1:]"
   ]
  },
  {
   "cell_type": "code",
   "execution_count": 164,
   "id": "suited-liberia",
   "metadata": {},
   "outputs": [
    {
     "data": {
      "text/plain": [
       "array([[1],\n",
       "       [4],\n",
       "       [7]])"
      ]
     },
     "execution_count": 164,
     "metadata": {},
     "output_type": "execute_result"
    }
   ],
   "source": [
    "# 첫번째 컬럼의 값만 가지고 싶을 때\n",
    "arr2d[:, :1]"
   ]
  },
  {
   "cell_type": "markdown",
   "id": "handy-statement",
   "metadata": {},
   "source": [
    " "
   ]
  },
  {
   "cell_type": "markdown",
   "id": "rapid-antibody",
   "metadata": {},
   "source": [
    "### 4.1.5 불리언값으로 선택하기"
   ]
  },
  {
   "cell_type": "code",
   "execution_count": 168,
   "id": "charming-lottery",
   "metadata": {},
   "outputs": [
    {
     "name": "stdout",
     "output_type": "stream",
     "text": [
      "\n",
      "names : ['Bob' 'Joe' 'Will' 'Bob' 'Will' 'Joe' 'Joe']\n",
      "\n",
      "data : [[ 1.33704026  0.14174274 -1.59550218  0.38268523]\n",
      " [-0.97615169 -0.44986393 -0.18409171  0.40600197]\n",
      " [-1.01815827 -1.72230544  0.61339159 -1.52596255]\n",
      " [ 0.66385402 -1.03244792 -0.92960303  1.42978801]\n",
      " [-0.10154898 -0.7749967   1.50807214  1.10975645]\n",
      " [-1.07416771 -0.02281652  1.37048618  2.35115012]\n",
      " [-0.72971029  0.98322299  0.82856976  0.94091838]]\n"
     ]
    }
   ],
   "source": [
    "names = np.array(['Bob','Joe','Will','Bob','Will','Joe','Joe'])\n",
    "data = np.random.randn(7,4)      # 7X4 ndarray 배열을 표준 정규분포로부터 생성\n",
    "\n",
    "print('''\n",
    "names : {0}\n",
    "\n",
    "data : {1}'''.format(names, data))"
   ]
  },
  {
   "cell_type": "code",
   "execution_count": 170,
   "id": "friendly-florida",
   "metadata": {},
   "outputs": [
    {
     "data": {
      "text/plain": [
       "array([[ 1.33704026,  0.14174274, -1.59550218,  0.38268523],\n",
       "       [ 0.66385402, -1.03244792, -0.92960303,  1.42978801]])"
      ]
     },
     "execution_count": 170,
     "metadata": {},
     "output_type": "execute_result"
    }
   ],
   "source": [
    "data[names == \"Bob\"]   # 첫 번째와 네 번째 로우가 반환됨"
   ]
  },
  {
   "cell_type": "code",
   "execution_count": 172,
   "id": "atmospheric-tragedy",
   "metadata": {},
   "outputs": [
    {
     "data": {
      "text/plain": [
       "array([[-1.59550218,  0.38268523],\n",
       "       [-0.92960303,  1.42978801]])"
      ]
     },
     "execution_count": 172,
     "metadata": {},
     "output_type": "execute_result"
    }
   ],
   "source": [
    "data[names == \"Bob\", 2:]   # 첫 번째와 네 번째 로우에서 3~4번째 컬럼이 반환"
   ]
  },
  {
   "cell_type": "code",
   "execution_count": 174,
   "id": "employed-folks",
   "metadata": {},
   "outputs": [
    {
     "data": {
      "text/plain": [
       "array([[-0.97615169, -0.44986393, -0.18409171,  0.40600197],\n",
       "       [-1.01815827, -1.72230544,  0.61339159, -1.52596255],\n",
       "       [-0.10154898, -0.7749967 ,  1.50807214,  1.10975645],\n",
       "       [-1.07416771, -0.02281652,  1.37048618,  2.35115012],\n",
       "       [-0.72971029,  0.98322299,  0.82856976,  0.94091838]])"
      ]
     },
     "execution_count": 174,
     "metadata": {},
     "output_type": "execute_result"
    }
   ],
   "source": [
    "data[names != \"Bob\"]   # Bob이 아닌 로우를 반환\n",
    "#data[~(names == \"Bob\")]  # 위 표현과 동치"
   ]
  },
  {
   "cell_type": "code",
   "execution_count": 176,
   "id": "instructional-chemistry",
   "metadata": {},
   "outputs": [
    {
     "data": {
      "text/plain": [
       "array([[-0.97615169, -0.44986393, -0.18409171,  0.40600197],\n",
       "       [-1.01815827, -1.72230544,  0.61339159, -1.52596255],\n",
       "       [-0.10154898, -0.7749967 ,  1.50807214,  1.10975645],\n",
       "       [-1.07416771, -0.02281652,  1.37048618,  2.35115012],\n",
       "       [-0.72971029,  0.98322299,  0.82856976,  0.94091838]])"
      ]
     },
     "execution_count": 176,
     "metadata": {},
     "output_type": "execute_result"
    }
   ],
   "source": [
    "cond = names == \"Bob\"\n",
    "data[~cond]"
   ]
  },
  {
   "cell_type": "markdown",
   "id": "threaded-crisis",
   "metadata": {},
   "source": [
    " "
   ]
  },
  {
   "cell_type": "markdown",
   "id": "champion-sound",
   "metadata": {},
   "source": [
    "- &(and)나 |(or) 같은 논리 연산자를 사용하는 방법\n",
    "- 파이썬 예약어인 and와 or은 불리언 배열에서는 사용할 수 없다. 대신 & 와 | 를 사용한다."
   ]
  },
  {
   "cell_type": "code",
   "execution_count": 178,
   "id": "sized-mandate",
   "metadata": {},
   "outputs": [
    {
     "data": {
      "text/plain": [
       "array([ True, False,  True,  True,  True, False, False])"
      ]
     },
     "execution_count": 178,
     "metadata": {},
     "output_type": "execute_result"
    }
   ],
   "source": [
    "mask = (names == \"Bob\") | (names == \"Will\")\n",
    "mask"
   ]
  },
  {
   "cell_type": "code",
   "execution_count": 179,
   "id": "dress-lover",
   "metadata": {},
   "outputs": [
    {
     "data": {
      "text/plain": [
       "array([[ 1.33704026,  0.14174274, -1.59550218,  0.38268523],\n",
       "       [-1.01815827, -1.72230544,  0.61339159, -1.52596255],\n",
       "       [ 0.66385402, -1.03244792, -0.92960303,  1.42978801],\n",
       "       [-0.10154898, -0.7749967 ,  1.50807214,  1.10975645]])"
      ]
     },
     "execution_count": 179,
     "metadata": {},
     "output_type": "execute_result"
    }
   ],
   "source": [
    "data[mask]"
   ]
  },
  {
   "cell_type": "code",
   "execution_count": 180,
   "id": "endangered-comparison",
   "metadata": {},
   "outputs": [
    {
     "data": {
      "text/plain": [
       "array([[1.33704026, 0.14174274, 0.        , 0.38268523],\n",
       "       [0.        , 0.        , 0.        , 0.40600197],\n",
       "       [0.        , 0.        , 0.61339159, 0.        ],\n",
       "       [0.66385402, 0.        , 0.        , 1.42978801],\n",
       "       [0.        , 0.        , 1.50807214, 1.10975645],\n",
       "       [0.        , 0.        , 1.37048618, 2.35115012],\n",
       "       [0.        , 0.98322299, 0.82856976, 0.94091838]])"
      ]
     },
     "execution_count": 180,
     "metadata": {},
     "output_type": "execute_result"
    }
   ],
   "source": [
    "# data에 저장된 모든 음수를 0으로 대입\n",
    "data[data < 0] = 0\n",
    "data"
   ]
  },
  {
   "cell_type": "code",
   "execution_count": 181,
   "id": "musical-january",
   "metadata": {},
   "outputs": [
    {
     "data": {
      "text/plain": [
       "array([[7.        , 7.        , 7.        , 7.        ],\n",
       "       [0.        , 0.        , 0.        , 0.40600197],\n",
       "       [7.        , 7.        , 7.        , 7.        ],\n",
       "       [7.        , 7.        , 7.        , 7.        ],\n",
       "       [7.        , 7.        , 7.        , 7.        ],\n",
       "       [0.        , 0.        , 1.37048618, 2.35115012],\n",
       "       [0.        , 0.98322299, 0.82856976, 0.94091838]])"
      ]
     },
     "execution_count": 181,
     "metadata": {},
     "output_type": "execute_result"
    }
   ],
   "source": [
    "# 1차원 불리언 배열을 사용해 필요한 로우의 값을 대체하기\n",
    "data[names != \"Joe\"] = 7\n",
    "data"
   ]
  },
  {
   "cell_type": "markdown",
   "id": "suburban-change",
   "metadata": {},
   "source": [
    " "
   ]
  },
  {
   "cell_type": "markdown",
   "id": "special-clock",
   "metadata": {},
   "source": [
    "### 4.1.6 팬시 색인"
   ]
  },
  {
   "cell_type": "markdown",
   "id": "square-summer",
   "metadata": {},
   "source": [
    "- $팬시 색인^{\\text{fancy indexing}}$은 정수 배열을 사용한 색인을 설명하기 위해 NumPy에서 차용한 단어\n",
    "- 팬시 색인은 슬라이싱과는 달리 선택된 데이터를 `새로운 배열`로 복사한다."
   ]
  },
  {
   "cell_type": "code",
   "execution_count": 184,
   "id": "southern-stomach",
   "metadata": {},
   "outputs": [
    {
     "data": {
      "text/plain": [
       "array([[0., 0., 0., 0.],\n",
       "       [1., 1., 1., 1.],\n",
       "       [2., 2., 2., 2.],\n",
       "       [3., 3., 3., 3.],\n",
       "       [4., 4., 4., 4.],\n",
       "       [5., 5., 5., 5.],\n",
       "       [6., 6., 6., 6.],\n",
       "       [7., 7., 7., 7.]])"
      ]
     },
     "execution_count": 184,
     "metadata": {},
     "output_type": "execute_result"
    }
   ],
   "source": [
    "arr = np.empty((8,4))\n",
    "\n",
    "for i in range(8) :\n",
    "    arr[i] = i\n",
    "    \n",
    "arr"
   ]
  },
  {
   "cell_type": "markdown",
   "id": "honest-spectacular",
   "metadata": {},
   "source": [
    "> 특정한 순서로 로우를 선택하고 싶다면 원하는 순서가 명시된 정수가 담긴 ndarray나 리스트를 넘기면 됨"
   ]
  },
  {
   "cell_type": "code",
   "execution_count": 185,
   "id": "color-fifth",
   "metadata": {},
   "outputs": [
    {
     "data": {
      "text/plain": [
       "array([[4., 4., 4., 4.],\n",
       "       [3., 3., 3., 3.],\n",
       "       [0., 0., 0., 0.],\n",
       "       [6., 6., 6., 6.]])"
      ]
     },
     "execution_count": 185,
     "metadata": {},
     "output_type": "execute_result"
    }
   ],
   "source": [
    "arr[[4,3,0,6]]"
   ]
  },
  {
   "cell_type": "code",
   "execution_count": 186,
   "id": "explicit-corruption",
   "metadata": {},
   "outputs": [
    {
     "data": {
      "text/plain": [
       "array([[7., 7., 7., 7.],\n",
       "       [3., 3., 3., 3.],\n",
       "       [5., 5., 5., 5.]])"
      ]
     },
     "execution_count": 186,
     "metadata": {},
     "output_type": "execute_result"
    }
   ],
   "source": [
    "arr[[-1,-5,-3]]"
   ]
  },
  {
   "cell_type": "markdown",
   "id": "thick-queen",
   "metadata": {},
   "source": [
    " "
   ]
  },
  {
   "cell_type": "markdown",
   "id": "settled-thirty",
   "metadata": {},
   "source": [
    "- 다차원 색인 배열 "
   ]
  },
  {
   "cell_type": "code",
   "execution_count": 190,
   "id": "premier-chase",
   "metadata": {},
   "outputs": [
    {
     "data": {
      "text/plain": [
       "array([[ 0,  1,  2,  3],\n",
       "       [ 4,  5,  6,  7],\n",
       "       [ 8,  9, 10, 11],\n",
       "       [12, 13, 14, 15],\n",
       "       [16, 17, 18, 19],\n",
       "       [20, 21, 22, 23],\n",
       "       [24, 25, 26, 27],\n",
       "       [28, 29, 30, 31]])"
      ]
     },
     "execution_count": 190,
     "metadata": {},
     "output_type": "execute_result"
    }
   ],
   "source": [
    "arr = np.arange(32).reshape((8,4))\n",
    "arr"
   ]
  },
  {
   "cell_type": "code",
   "execution_count": 192,
   "id": "exceptional-portuguese",
   "metadata": {},
   "outputs": [
    {
     "data": {
      "text/plain": [
       "array([ 4, 23, 29, 10])"
      ]
     },
     "execution_count": 192,
     "metadata": {},
     "output_type": "execute_result"
    }
   ],
   "source": [
    "arr[[1,5,7,2], [0,3,1,2]]     # (1,0), (5,3), (7,1), (2,2)에 대응하는 원소들이 선택됨"
   ]
  },
  {
   "cell_type": "code",
   "execution_count": 195,
   "id": "romantic-technician",
   "metadata": {},
   "outputs": [
    {
     "data": {
      "text/plain": [
       "array([[ 4,  7,  5,  6],\n",
       "       [20, 23, 21, 22],\n",
       "       [28, 31, 29, 30],\n",
       "       [ 8, 11,  9, 10]])"
      ]
     },
     "execution_count": 195,
     "metadata": {},
     "output_type": "execute_result"
    }
   ],
   "source": [
    "arr[[1,5,7,2]][:,[0,3,1,2]]   # 해당하는 row의 column 위치만 바꾸고 싶은 경우"
   ]
  },
  {
   "cell_type": "markdown",
   "id": "strange-psychiatry",
   "metadata": {},
   "source": [
    " "
   ]
  },
  {
   "cell_type": "markdown",
   "id": "operating-policy",
   "metadata": {},
   "source": [
    "### 4.1.7 배열 전치와 축 바꾸기"
   ]
  },
  {
   "cell_type": "markdown",
   "id": "intended-hardwood",
   "metadata": {},
   "source": [
    "- 배열 전치는 데이터를 `복사하지 않고` 데이터의 모양이 바뀐 뷰를 반환하는 특별한 기능.\n",
    "- ndarray는 transpose 메서드와 T라는 이름의 특수한 속성을 가지고 있음."
   ]
  },
  {
   "cell_type": "code",
   "execution_count": 197,
   "id": "oriented-pattern",
   "metadata": {},
   "outputs": [
    {
     "data": {
      "text/plain": [
       "array([[ 0,  1,  2,  3,  4],\n",
       "       [ 5,  6,  7,  8,  9],\n",
       "       [10, 11, 12, 13, 14]])"
      ]
     },
     "execution_count": 197,
     "metadata": {},
     "output_type": "execute_result"
    }
   ],
   "source": [
    "arr = np.arange(15).reshape((3,5))\n",
    "arr"
   ]
  },
  {
   "cell_type": "code",
   "execution_count": 199,
   "id": "resistant-dancing",
   "metadata": {},
   "outputs": [
    {
     "data": {
      "text/plain": [
       "array([[ 0,  5, 10],\n",
       "       [ 1,  6, 11],\n",
       "       [ 2,  7, 12],\n",
       "       [ 3,  8, 13],\n",
       "       [ 4,  9, 14]])"
      ]
     },
     "execution_count": 199,
     "metadata": {},
     "output_type": "execute_result"
    }
   ],
   "source": [
    "arr.T"
   ]
  },
  {
   "cell_type": "code",
   "execution_count": 202,
   "id": "exempt-sacramento",
   "metadata": {},
   "outputs": [
    {
     "data": {
      "text/plain": [
       "array([[ 0,  5, 10],\n",
       "       [ 1,  6, 11],\n",
       "       [ 2,  7, 12],\n",
       "       [ 3,  8, 13],\n",
       "       [ 4,  9, 14]])"
      ]
     },
     "execution_count": 202,
     "metadata": {},
     "output_type": "execute_result"
    }
   ],
   "source": [
    "arr.transpose()"
   ]
  },
  {
   "cell_type": "markdown",
   "id": "subtle-warner",
   "metadata": {},
   "source": [
    " "
   ]
  },
  {
   "cell_type": "markdown",
   "id": "annual-tackle",
   "metadata": {},
   "source": [
    "- 행렬의 내적은 np.dot을 이용해서 구할 수 있다."
   ]
  },
  {
   "cell_type": "code",
   "execution_count": 205,
   "id": "practical-uzbekistan",
   "metadata": {},
   "outputs": [
    {
     "data": {
      "text/plain": [
       "array([[ 1.06793397,  1.80134596, -1.92495752],\n",
       "       [-0.97583389, -0.43453951,  0.50588564],\n",
       "       [-0.08501478, -0.38234601, -0.93944961],\n",
       "       [ 1.88293739, -0.76399729, -0.28459296],\n",
       "       [-0.70415052,  1.47916783,  0.31805895],\n",
       "       [ 0.4275599 , -0.11812187, -1.60369168]])"
      ]
     },
     "execution_count": 205,
     "metadata": {},
     "output_type": "execute_result"
    }
   ],
   "source": [
    "arr = np.random.randn(6,3)\n",
    "arr"
   ]
  },
  {
   "cell_type": "code",
   "execution_count": 206,
   "id": "spiritual-burton",
   "metadata": {},
   "outputs": [
    {
     "data": {
      "text/plain": [
       "array([[ 6.32405087, -0.15035804, -3.91502712],\n",
       "       [-0.15035804,  6.36544245, -2.45082507],\n",
       "       [-3.91502712, -2.45082507,  7.59792895]])"
      ]
     },
     "execution_count": 206,
     "metadata": {},
     "output_type": "execute_result"
    }
   ],
   "source": [
    "np.dot(arr.T, arr)"
   ]
  },
  {
   "cell_type": "markdown",
   "id": "geographic-victoria",
   "metadata": {},
   "source": [
    " "
   ]
  },
  {
   "cell_type": "markdown",
   "id": "electrical-suspension",
   "metadata": {},
   "source": [
    "- 다차원 배열의 경우\n",
    "    - transpose 메서드는 튜플로 축 번호를 받아서 치환\n",
    "    - swapaxes 메서드는 두 개의 축 번호를 받아서 배열을 뒤바꾼다.\n",
    "    - 두 메서드 모드 데이터를 복샇자ㅣ 않고 원래 데이터에 대한 뷰를 반환"
   ]
  },
  {
   "cell_type": "markdown",
   "id": "quantitative-portsmouth",
   "metadata": {},
   "source": [
    "> np.ndarray.tranpose 메서드"
   ]
  },
  {
   "cell_type": "code",
   "execution_count": 208,
   "id": "engaging-ridge",
   "metadata": {},
   "outputs": [
    {
     "data": {
      "text/plain": [
       "array([[[ 0,  1,  2,  3],\n",
       "        [ 4,  5,  6,  7]],\n",
       "\n",
       "       [[ 8,  9, 10, 11],\n",
       "        [12, 13, 14, 15]]])"
      ]
     },
     "execution_count": 208,
     "metadata": {},
     "output_type": "execute_result"
    }
   ],
   "source": [
    "arr = np.arange(16).reshape((2,2,4))\n",
    "arr"
   ]
  },
  {
   "cell_type": "code",
   "execution_count": 213,
   "id": "intended-market",
   "metadata": {},
   "outputs": [
    {
     "data": {
      "text/plain": [
       "array([[[ 0,  1,  2,  3],\n",
       "        [ 8,  9, 10, 11]],\n",
       "\n",
       "       [[ 4,  5,  6,  7],\n",
       "        [12, 13, 14, 15]]])"
      ]
     },
     "execution_count": 213,
     "metadata": {},
     "output_type": "execute_result"
    }
   ],
   "source": [
    "arr.transpose((1,0,2))     # 첫 번재와 두 번째 축 순서가 뒤바뀌었고 마지막 축은 그대로 남았다."
   ]
  },
  {
   "cell_type": "code",
   "execution_count": 214,
   "id": "domestic-behavior",
   "metadata": {},
   "outputs": [
    {
     "data": {
      "text/plain": [
       "(2, 2, 4)"
      ]
     },
     "execution_count": 214,
     "metadata": {},
     "output_type": "execute_result"
    }
   ],
   "source": [
    "arr.transpose((1,0,2)).shape"
   ]
  },
  {
   "cell_type": "markdown",
   "id": "union-sellers",
   "metadata": {},
   "source": [
    "> np.ndarray.swapaxes 메서드"
   ]
  },
  {
   "cell_type": "code",
   "execution_count": 215,
   "id": "impressive-macedonia",
   "metadata": {},
   "outputs": [
    {
     "data": {
      "text/plain": [
       "array([[[ 0,  1,  2,  3],\n",
       "        [ 4,  5,  6,  7]],\n",
       "\n",
       "       [[ 8,  9, 10, 11],\n",
       "        [12, 13, 14, 15]]])"
      ]
     },
     "execution_count": 215,
     "metadata": {},
     "output_type": "execute_result"
    }
   ],
   "source": [
    "arr"
   ]
  },
  {
   "cell_type": "code",
   "execution_count": 216,
   "id": "canadian-father",
   "metadata": {},
   "outputs": [
    {
     "data": {
      "text/plain": [
       "array([[[ 0,  4],\n",
       "        [ 1,  5],\n",
       "        [ 2,  6],\n",
       "        [ 3,  7]],\n",
       "\n",
       "       [[ 8, 12],\n",
       "        [ 9, 13],\n",
       "        [10, 14],\n",
       "        [11, 15]]])"
      ]
     },
     "execution_count": 216,
     "metadata": {},
     "output_type": "execute_result"
    }
   ],
   "source": [
    "arr.swapaxes(1,2)"
   ]
  },
  {
   "cell_type": "code",
   "execution_count": 227,
   "id": "moderate-sleeve",
   "metadata": {},
   "outputs": [
    {
     "data": {
      "text/plain": [
       "(2, 4, 2)"
      ]
     },
     "execution_count": 227,
     "metadata": {},
     "output_type": "execute_result"
    }
   ],
   "source": [
    "arr.swapaxes(1,2).shape"
   ]
  },
  {
   "cell_type": "markdown",
   "id": "federal-exposure",
   "metadata": {},
   "source": [
    " "
   ]
  },
  {
   "cell_type": "markdown",
   "id": "welcome-valentine",
   "metadata": {},
   "source": [
    "## 4.2 유니버설 함수: 배열의 각 원소를 빠르게 처리하는 함수"
   ]
  },
  {
   "cell_type": "markdown",
   "id": "tutorial-bryan",
   "metadata": {},
   "source": [
    "- ufunc라고 불리기도 하는 유니버설 함수는 ndarray 안에 있는 데이터 원소별로 연산을 수행하는 함수\n",
    "- 유니버설 함수는 하나 이상의 스칼라값을 받아 하나 이상의 스칼라 결괏값을 반환하는 간단한 함수를 고속으로 수행할 수 있는 벡터화된 래퍼 함수"
   ]
  },
  {
   "cell_type": "markdown",
   "id": "consistent-cinema",
   "metadata": {},
   "source": [
    "> 단항 유니버설 함수 : 1개의 인자를 취하는 유니버설 함수"
   ]
  },
  {
   "cell_type": "code",
   "execution_count": 5,
   "id": "wireless-trash",
   "metadata": {},
   "outputs": [
    {
     "data": {
      "text/plain": [
       "array([0, 1, 2, 3, 4, 5, 6, 7, 8, 9])"
      ]
     },
     "execution_count": 5,
     "metadata": {},
     "output_type": "execute_result"
    }
   ],
   "source": [
    "arr = np.arange(10)\n",
    "arr"
   ]
  },
  {
   "cell_type": "code",
   "execution_count": 6,
   "id": "assisted-visitor",
   "metadata": {},
   "outputs": [
    {
     "data": {
      "text/plain": [
       "array([0.        , 1.        , 1.41421356, 1.73205081, 2.        ,\n",
       "       2.23606798, 2.44948974, 2.64575131, 2.82842712, 3.        ])"
      ]
     },
     "execution_count": 6,
     "metadata": {},
     "output_type": "execute_result"
    }
   ],
   "source": [
    "np.sqrt(arr)"
   ]
  },
  {
   "cell_type": "code",
   "execution_count": 7,
   "id": "superior-joseph",
   "metadata": {},
   "outputs": [
    {
     "data": {
      "text/plain": [
       "array([1.00000000e+00, 2.71828183e+00, 7.38905610e+00, 2.00855369e+01,\n",
       "       5.45981500e+01, 1.48413159e+02, 4.03428793e+02, 1.09663316e+03,\n",
       "       2.98095799e+03, 8.10308393e+03])"
      ]
     },
     "execution_count": 7,
     "metadata": {},
     "output_type": "execute_result"
    }
   ],
   "source": [
    "np.exp(arr)"
   ]
  },
  {
   "cell_type": "markdown",
   "id": "australian-honor",
   "metadata": {},
   "source": [
    "> 이항 유니버설 함수 : 2개의 인자를 취해서 단일 배열을 반환하는 함수"
   ]
  },
  {
   "cell_type": "code",
   "execution_count": 8,
   "id": "international-prefix",
   "metadata": {},
   "outputs": [
    {
     "name": "stdout",
     "output_type": "stream",
     "text": [
      "\n",
      "x : [-0.57982553 -0.29098033  0.51438784  0.17559767 -0.64121032  1.21700768\n",
      " -1.05393356 -0.74663132]\n",
      "y : [-0.64806039  1.46575746  0.79195919  0.0943634   0.19426877  0.00892577\n",
      "  0.98306866 -0.525073  ]\n"
     ]
    }
   ],
   "source": [
    "x = np.random.randn(8)\n",
    "y = np.random.randn(8)\n",
    "\n",
    "print('''\n",
    "x : {0}\n",
    "y : {1}'''.format(x, y))"
   ]
  },
  {
   "cell_type": "code",
   "execution_count": 10,
   "id": "introductory-reform",
   "metadata": {},
   "outputs": [
    {
     "data": {
      "text/plain": [
       "array([-0.57982553,  1.46575746,  0.79195919,  0.17559767,  0.19426877,\n",
       "        1.21700768,  0.98306866, -0.525073  ])"
      ]
     },
     "execution_count": 10,
     "metadata": {},
     "output_type": "execute_result"
    }
   ],
   "source": [
    "np.maximum(x, y)   # x와 y의 원소별로 가장 큰 값을 반환한다."
   ]
  },
  {
   "cell_type": "markdown",
   "id": "applicable-christianity",
   "metadata": {},
   "source": [
    "> 여러 개의 배열을 반환하는 유니버설 함수도 있다."
   ]
  },
  {
   "cell_type": "code",
   "execution_count": 16,
   "id": "pacific-removal",
   "metadata": {},
   "outputs": [
    {
     "name": "stdout",
     "output_type": "stream",
     "text": [
      "\n",
      "arr : [ 1.50704064  2.8310998   0.6867817   4.46869264 -1.0307731  -0.7271464\n",
      " -4.04367061]\n",
      "remainder : [ 0.50704064  0.8310998   0.6867817   0.46869264 -0.0307731  -0.7271464\n",
      " -0.04367061]\n",
      "whole_part : [ 1.  2.  0.  4. -1. -0. -4.]\n"
     ]
    }
   ],
   "source": [
    "arr = np.random.randn(7) * 5\n",
    "\n",
    "# np.modf : 분수를 받아서 몫과 나머지를 함께 반환하는 유니버설 함수\n",
    "remainder, whole_part = np.modf(arr)    \n",
    "\n",
    "print('''\n",
    "arr : {0}\n",
    "remainder : {1}\n",
    "whole_part : {2}'''.format(arr, \\\n",
    "                           remainder, \\\n",
    "                           whole_part))"
   ]
  },
  {
   "cell_type": "markdown",
   "id": "driving-telescope",
   "metadata": {},
   "source": [
    "> 유니버설 함수는 선택적으로 out 인자를 취해 계산 결과를 따로 저장할 수도 있다."
   ]
  },
  {
   "cell_type": "code",
   "execution_count": 19,
   "id": "atlantic-buffalo",
   "metadata": {},
   "outputs": [
    {
     "data": {
      "text/plain": [
       "array([ 1.50704064,  2.8310998 ,  0.6867817 ,  4.46869264, -1.0307731 ,\n",
       "       -0.7271464 , -4.04367061])"
      ]
     },
     "execution_count": 19,
     "metadata": {},
     "output_type": "execute_result"
    }
   ],
   "source": [
    "arr "
   ]
  },
  {
   "cell_type": "code",
   "execution_count": 20,
   "id": "graduate-fraud",
   "metadata": {},
   "outputs": [
    {
     "name": "stderr",
     "output_type": "stream",
     "text": [
      "<ipython-input-20-b58949107b3d>:1: RuntimeWarning: invalid value encountered in sqrt\n",
      "  np.sqrt(arr)\n"
     ]
    },
    {
     "data": {
      "text/plain": [
       "array([1.22761584, 1.68258723, 0.82872293, 2.11392825,        nan,\n",
       "              nan,        nan])"
      ]
     },
     "execution_count": 20,
     "metadata": {},
     "output_type": "execute_result"
    }
   ],
   "source": [
    "np.sqrt(arr)"
   ]
  },
  {
   "cell_type": "code",
   "execution_count": 22,
   "id": "beneficial-border",
   "metadata": {},
   "outputs": [
    {
     "name": "stderr",
     "output_type": "stream",
     "text": [
      "<ipython-input-22-164954cb2c14>:1: RuntimeWarning: invalid value encountered in sqrt\n",
      "  np.sqrt(arr, arr)\n"
     ]
    },
    {
     "data": {
      "text/plain": [
       "array([1.22761584, 1.68258723, 0.82872293, 2.11392825,        nan,\n",
       "              nan,        nan])"
      ]
     },
     "execution_count": 22,
     "metadata": {},
     "output_type": "execute_result"
    }
   ],
   "source": [
    "np.sqrt(arr, arr)"
   ]
  },
  {
   "cell_type": "code",
   "execution_count": 24,
   "id": "stupid-leonard",
   "metadata": {},
   "outputs": [
    {
     "data": {
      "text/plain": [
       "array([1.22761584, 1.68258723, 0.82872293, 2.11392825,        nan,\n",
       "              nan,        nan])"
      ]
     },
     "execution_count": 24,
     "metadata": {},
     "output_type": "execute_result"
    }
   ],
   "source": [
    "arr"
   ]
  },
  {
   "cell_type": "markdown",
   "id": "mature-focus",
   "metadata": {},
   "source": [
    " "
   ]
  },
  {
   "cell_type": "markdown",
   "id": "impressed-match",
   "metadata": {},
   "source": [
    "#### 단항 유니버설 함수\n",
    "\n",
    "<details>\n",
    "<summary>단항 유니버설 함수</summary>\n",
    "<div markdown=\"1\">\n",
    "\n",
    "|함수|설명|\n",
    "|:--|:--|\n",
    "|abs, fabs|각 원소(정수, 부동소수점수, 복소수)의 절대값을 구한다. 복소수가 아닌 경우에는 빠른 연산을 위해서 fabs를 사용한다.|\n",
    "|sqrt|각 원소의 제곱근을 계산한다. arr ** 0.5와 동일하다.|\n",
    "|square|각 원소의 제곱을 계산한다. arr ** 2와 동일하다.|\n",
    "|exp|각 원소에서 지수 $e^{x}$를 계산한다.|\n",
    "|log, log10, log2, 1og1p|각자 자연로그, 로그 10, 로그 2, 로그 (1+x)|\n",
    "|sign|각 원소의 부호를 계산한다. 1(양수), 0(영), -1(음수)|\n",
    "|ceil|각 원소의 소수자리를 올린다. 각 원소의 값보다 같거나 큰 정수 중 가장 작은 정수를 반환한다.|\n",
    "|floor|각 원소의 소수자리를 내린다. 각 원소의 값보다 작거나 같은 정수 중 가장 큰 수를 반환한다.|\n",
    "|rint|각 원소의 소수자리를 반올림한다. dtype은 유지된다.|\n",
    "|modf|각 원소의 몫과 나머지를 각각의 배열로 반환한다.|\n",
    "|isnan|각 원소가 숫자가 아닌지(NaN, Not a Number)를 나타내는 불리언 배열을 반환한다.|\n",
    "|isfinite, isinf|각각 배열의 각 원소가 유한한지(non-inf, non-NaN) 무한한지 나타내는 불리언 배열을 반환한다.|\n",
    "|cos, cosh, sin, sinh, tan, tanh|일반 삼각함수와 쌍곡삼각함수|\n",
    "|arccos, arccosh, arcsin, arcsinh, arctan, arctanh|역삼각함수|\n",
    "|logical_not|각 원소의 논리 부정(not) 값을 계산한다. ~arr과 동일하다.|\n",
    " \n",
    "    \n",
    "</div>\n",
    "</details>"
   ]
  },
  {
   "cell_type": "markdown",
   "id": "other-whole",
   "metadata": {},
   "source": [
    "#### 이항 유니버설 함수\n",
    "\n",
    "<details>\n",
    "<summary>이항 유니버설 함수</summary>\n",
    "<div markdown=\"1\">\n",
    "\n",
    "|함수|설명|\n",
    "|:--|:--|\n",
    "|add|두 배열에서 같은 위치의 원소끼리 더한다.|\n",
    "|subtract|첫 번째 배열의 원소에서 두 번째 배열의 원소를 뺀다.|\n",
    "|multiply|배열의 원소끼리 곱한다.|\n",
    "|divide, floor_divide|첫 번째 배열의 원소를 두 번째 배열의 원소로 나눈다. floor_divide는 몫만 취한다.|\n",
    "|power|첫 번째 배열의 원소를 두 번째 배열의 원소만큼 제곱한다.|\n",
    "|maximum, fmax|각 배열의 두 원소 중 큰 값을 반환한다. fmax는 NaN을 무시한다.|\n",
    "|minimum, fmin|각 배열의 두 원소 중 작은 값을 반환한다. fmin은 NaN을 무시한다.|\n",
    "|mod|첫 번째 배열의 원소를 두 번째 배열의 원소로 나눈 나머지를 구한다.|\n",
    "|copysign|첫 번째 배열의 원소의 기호를 두 번째 배열의 원소의 기호로 바꾼다.|\n",
    "|greater, greater_equal, less, less_equal, equal, not_equal|각각 두 원소 간의 >,>=,<,<=,==,!= 비교 연산 결과를 불리언 배열로 반환한다.|\n",
    "|logical_and, logical_or, logical_xor| 각각 두 원소 간의 &, \\|, ^ 논리 연산 결과를 반환한다.|\n",
    " \n",
    "    \n",
    "</div>\n",
    "</details>"
   ]
  },
  {
   "cell_type": "markdown",
   "id": "recent-colony",
   "metadata": {},
   "source": [
    " "
   ]
  },
  {
   "cell_type": "markdown",
   "id": "executed-remainder",
   "metadata": {},
   "source": [
    "## 4.3 배열을 이용한 배열지향 프로그래밍"
   ]
  },
  {
   "cell_type": "markdown",
   "id": "protected-maryland",
   "metadata": {},
   "source": [
    "- NumPy 배열을 사용하면 반목문을 작성하지 않고 간결한 배열 연산을 사용해 많은 종류의 데이터 처리 작업을 할 수 있음\n",
    "- 벡터화 : 배열 연산을 사용해서 반복문을 명시적으로 제거하는 기법\n",
    "- 벡터화된 배열에 대한 산술 연산은 순수 파이썬 연산에 비해 엄청 빠르다."
   ]
  },
  {
   "cell_type": "markdown",
   "id": "mounted-economy",
   "metadata": {},
   "source": [
    "> 예) 값이 놓여 있는 그리드에서 $\\sqrt{x^2 + y^2}$을 계산한다고 하자.  \n",
    "> np.meshgrid 함수는 두 개의 1차원 배열을 받아서 가능한 모든 (x,y) 짝을 만들 수 있는 2차원 배열 두 개를 반환한다."
   ]
  },
  {
   "cell_type": "code",
   "execution_count": 26,
   "id": "social-airline",
   "metadata": {},
   "outputs": [],
   "source": [
    "points = np.arange(-5,5, 0.01)   # -5부터 4.99까지 0.01씩 증가하는 값들의 배열\n",
    "\n",
    "xs, ys = np.meshgrid(points, points)"
   ]
  },
  {
   "cell_type": "code",
   "execution_count": 34,
   "id": "continental-tunnel",
   "metadata": {},
   "outputs": [
    {
     "name": "stdout",
     "output_type": "stream",
     "text": [
      "\n",
      "xs \n",
      "\n",
      "[[-5.   -4.99 -4.98 ...  4.97  4.98  4.99]\n",
      " [-5.   -4.99 -4.98 ...  4.97  4.98  4.99]\n",
      " [-5.   -4.99 -4.98 ...  4.97  4.98  4.99]\n",
      " ...\n",
      " [-5.   -4.99 -4.98 ...  4.97  4.98  4.99]\n",
      " [-5.   -4.99 -4.98 ...  4.97  4.98  4.99]\n",
      " [-5.   -4.99 -4.98 ...  4.97  4.98  4.99]]\n",
      "\n",
      "ys\n",
      "\n",
      "[[-5.   -5.   -5.   ... -5.   -5.   -5.  ]\n",
      " [-4.99 -4.99 -4.99 ... -4.99 -4.99 -4.99]\n",
      " [-4.98 -4.98 -4.98 ... -4.98 -4.98 -4.98]\n",
      " ...\n",
      " [ 4.97  4.97  4.97 ...  4.97  4.97  4.97]\n",
      " [ 4.98  4.98  4.98 ...  4.98  4.98  4.98]\n",
      " [ 4.99  4.99  4.99 ...  4.99  4.99  4.99]]\n"
     ]
    }
   ],
   "source": [
    "print('''\n",
    "xs \n",
    "\n",
    "{0}\n",
    "\n",
    "ys\n",
    "\n",
    "{1}'''.format(xs, ys))"
   ]
  },
  {
   "cell_type": "markdown",
   "id": "encouraging-venture",
   "metadata": {},
   "source": [
    "> 이제 그리드 상의 두 포인트로 간단하게 계산을 적용할 수 있다."
   ]
  },
  {
   "cell_type": "code",
   "execution_count": 35,
   "id": "enabling-alloy",
   "metadata": {},
   "outputs": [
    {
     "data": {
      "text/plain": [
       "array([[7.07106781, 7.06400028, 7.05693985, ..., 7.04988652, 7.05693985,\n",
       "        7.06400028],\n",
       "       [7.06400028, 7.05692568, 7.04985815, ..., 7.04279774, 7.04985815,\n",
       "        7.05692568],\n",
       "       [7.05693985, 7.04985815, 7.04278354, ..., 7.03571603, 7.04278354,\n",
       "        7.04985815],\n",
       "       ...,\n",
       "       [7.04988652, 7.04279774, 7.03571603, ..., 7.0286414 , 7.03571603,\n",
       "        7.04279774],\n",
       "       [7.05693985, 7.04985815, 7.04278354, ..., 7.03571603, 7.04278354,\n",
       "        7.04985815],\n",
       "       [7.06400028, 7.05692568, 7.04985815, ..., 7.04279774, 7.04985815,\n",
       "        7.05692568]])"
      ]
     },
     "execution_count": 35,
     "metadata": {},
     "output_type": "execute_result"
    }
   ],
   "source": [
    "z = np.sqrt(xs ** 2 + ys ** 2)\n",
    "z"
   ]
  },
  {
   "cell_type": "code",
   "execution_count": 43,
   "id": "least-ozone",
   "metadata": {},
   "outputs": [
    {
     "data": {
      "image/png": "[encoded data removed]",
      "text/plain": [
       "<Figure size 432x288 with 2 Axes>"
      ]
     },
     "metadata": {
      "needs_background": "light"
     },
     "output_type": "display_data"
    }
   ],
   "source": [
    "import matplotlib.pyplot as plt\n",
    "\n",
    "plt.imshow(z, cmap = plt.cm.gray)    # 계산된 값이 들어 있는 2차원 배열로부터 그래프 이미지를 생성하기 위해 matplotlib의 imshow를 사용.\n",
    "plt.colorbar()\n",
    "plt.title(\"Image plot of $\\sqrt{x^2 + y^2}$ for a grid of values\")\n",
    "plt.show()"
   ]
  },
  {
   "cell_type": "markdown",
   "id": "consecutive-square",
   "metadata": {},
   "source": [
    " "
   ]
  },
  {
   "cell_type": "markdown",
   "id": "cross-cincinnati",
   "metadata": {},
   "source": [
    "### 4.3.1 배열 연산으로 조건절 표현하기"
   ]
  },
  {
   "cell_type": "markdown",
   "id": "another-lewis",
   "metadata": {},
   "source": [
    "- numpy.where : x if 조건 else y 같은 삼항식의 벡터화된 버전."
   ]
  },
  {
   "cell_type": "code",
   "execution_count": 46,
   "id": "reflected-craps",
   "metadata": {},
   "outputs": [],
   "source": [
    "xarr = np.array([1.1,1.2,1.3,1.4,1.5])\n",
    "yarr = np.array([2.1,2.2,2.3,2.4,2.5])\n",
    "cond = np.array([True,False,True,True,False])"
   ]
  },
  {
   "cell_type": "markdown",
   "id": "southeast-optics",
   "metadata": {},
   "source": [
    "> cond의 값이 true이면 xarr의 값을 취하고 아니면 yarr의 값을 취하고 싶다면 $리스트 표기법 ^{\\text{list comprehension}}$을 이용해서 다음처럼 작성할 수 있다.  \n",
    "> 하지만, 이 방법은 순수 파있너으로 수행되기 때문에 큰 배열을 빠르게 처리하지 못한다.  \n",
    "> 또한 다차원 배열에서는 사용할 수 없다."
   ]
  },
  {
   "cell_type": "code",
   "execution_count": 49,
   "id": "eight-shoot",
   "metadata": {},
   "outputs": [
    {
     "data": {
      "text/plain": [
       "[1.1, 2.2, 1.3, 1.4, 2.5]"
      ]
     },
     "execution_count": 49,
     "metadata": {},
     "output_type": "execute_result"
    }
   ],
   "source": [
    "result = [(x if c else y)\n",
    "          for x, y, c in zip(xarr,yarr,cond)]\n",
    "result"
   ]
  },
  {
   "cell_type": "markdown",
   "id": "fifteen-sense",
   "metadata": {},
   "source": [
    "> np.where 사용하면 간결하게 작성할 수 있다.  \n",
    "> 두 번째와 세 번째 인자는 배열이 아니어도 상관없다."
   ]
  },
  {
   "cell_type": "code",
   "execution_count": 51,
   "id": "moved-session",
   "metadata": {},
   "outputs": [
    {
     "data": {
      "text/plain": [
       "array([1.1, 2.2, 1.3, 1.4, 2.5])"
      ]
     },
     "execution_count": 51,
     "metadata": {},
     "output_type": "execute_result"
    }
   ],
   "source": [
    "result = np.where(cond,xarr,yarr)\n",
    "result"
   ]
  },
  {
   "cell_type": "markdown",
   "id": "solved-surprise",
   "metadata": {},
   "source": [
    "> 임의로 생성된 데이터가 들어 있는 행렬이 있고 양수는 모두 2로, 음수는 모두 -2로 바꾸려면 np.where를 사용해서 쉽게 처리할 수 있다."
   ]
  },
  {
   "cell_type": "code",
   "execution_count": 53,
   "id": "monthly-multimedia",
   "metadata": {},
   "outputs": [
    {
     "data": {
      "text/plain": [
       "array([[ 0.62366952,  0.65096018,  0.35128926, -0.3943589 ],\n",
       "       [ 1.09424784, -0.94064031, -0.76600267,  0.77379267],\n",
       "       [-0.9508469 , -0.43829238,  1.78315017,  0.53475814],\n",
       "       [-0.1199491 ,  0.1197789 ,  1.4707972 ,  0.91016491]])"
      ]
     },
     "execution_count": 53,
     "metadata": {},
     "output_type": "execute_result"
    }
   ],
   "source": [
    "arr = np.random.randn(4,4)\n",
    "arr"
   ]
  },
  {
   "cell_type": "code",
   "execution_count": 54,
   "id": "diverse-justice",
   "metadata": {},
   "outputs": [
    {
     "data": {
      "text/plain": [
       "array([[ 2,  2,  2, -2],\n",
       "       [ 2, -2, -2,  2],\n",
       "       [-2, -2,  2,  2],\n",
       "       [-2,  2,  2,  2]])"
      ]
     },
     "execution_count": 54,
     "metadata": {},
     "output_type": "execute_result"
    }
   ],
   "source": [
    "np.where(arr > 0 , 2 , -2)"
   ]
  },
  {
   "cell_type": "markdown",
   "id": "pharmaceutical-optimum",
   "metadata": {},
   "source": [
    "> np.where를 사용할 때 스칼라 값과 배열을 조합할 수 있다. 예를 들어 arr의 모든 양수를 2로 바꿀 수 있다."
   ]
  },
  {
   "cell_type": "code",
   "execution_count": 55,
   "id": "under-database",
   "metadata": {},
   "outputs": [
    {
     "data": {
      "text/plain": [
       "array([[ 2.        ,  2.        ,  2.        , -0.3943589 ],\n",
       "       [ 2.        , -0.94064031, -0.76600267,  2.        ],\n",
       "       [-0.9508469 , -0.43829238,  2.        ,  2.        ],\n",
       "       [-0.1199491 ,  2.        ,  2.        ,  2.        ]])"
      ]
     },
     "execution_count": 55,
     "metadata": {},
     "output_type": "execute_result"
    }
   ],
   "source": [
    "np.where(arr > 0, 2, arr)"
   ]
  },
  {
   "cell_type": "markdown",
   "id": "random-style",
   "metadata": {},
   "source": [
    " "
   ]
  },
  {
   "cell_type": "markdown",
   "id": "strategic-deviation",
   "metadata": {},
   "source": [
    "### 4.3.2 수학 메서드와 통계 메서드"
   ]
  },
  {
   "cell_type": "markdown",
   "id": "excessive-indonesia",
   "metadata": {},
   "source": [
    "#### 기본 배열 통계 메서드\n",
    "\n",
    "<details>\n",
    "<summary>기본 배열 통계 메서드</summary>\n",
    "<div markdown=\"1\">\n",
    "\n",
    "|메서드|설명|\n",
    "|:--|:--|\n",
    "|sum|배열 전체 혹은 특정 축에 대한 모든 원소의 합을 계산한다. 크기가 0인 배열에 대한 sum 결과는 0이다.|\n",
    "|mean|산술 평균을 구한다. 크기가 0인 배열에 대한 mean의 결과는 NaN이다.|\n",
    "|std, var|각각 표준편차(std)와 분산(var)을 구한다. 선택적으로 자유도를 줄 수 있으며 분모의 기본 값은 n이다.|\n",
    "|min, max|최솟값과 최댓값|\n",
    "|argmin, argmax|최소 원소의 색인값과 최대 원소의 색인값|\n",
    "|cumsum|원소의 누적합|\n",
    "|cumprod|원소의 누적곱|\n",
    " \n",
    "    \n",
    "</div>\n",
    "</details>"
   ]
  },
  {
   "cell_type": "code",
   "execution_count": 86,
   "id": "ceramic-bradford",
   "metadata": {},
   "outputs": [
    {
     "data": {
      "text/plain": [
       "array([[ 1.61172696,  0.6940278 ,  0.72454442, -1.49380942],\n",
       "       [-1.35733585, -2.20729911, -0.08650854,  1.18843521],\n",
       "       [-0.0857529 , -0.07946534,  0.72112769,  0.85950648],\n",
       "       [ 0.18468959,  0.05734463, -0.20919429, -0.7975721 ],\n",
       "       [-1.25248766, -1.00163355, -1.83134345, -0.53853114]])"
      ]
     },
     "execution_count": 86,
     "metadata": {},
     "output_type": "execute_result"
    }
   ],
   "source": [
    "arr = np.random.randn(5,4)\n",
    "arr"
   ]
  },
  {
   "cell_type": "markdown",
   "id": "short-archives",
   "metadata": {},
   "source": [
    "> NumPy의 최상위 함수를 이용하여 계산하는 방법"
   ]
  },
  {
   "cell_type": "code",
   "execution_count": 87,
   "id": "characteristic-popularity",
   "metadata": {},
   "outputs": [
    {
     "name": "stdout",
     "output_type": "stream",
     "text": [
      "\n",
      "np.mean(arr) : -0.24497652921142565\n",
      "np.sum(arr) : -4.899530584228513\n"
     ]
    }
   ],
   "source": [
    "print('''\n",
    "np.mean(arr) : {0}\n",
    "np.sum(arr) : {1}'''.format(np.mean(arr), \\\n",
    "                            np.sum(arr)))"
   ]
  },
  {
   "cell_type": "markdown",
   "id": "global-tissue",
   "metadata": {},
   "source": [
    " "
   ]
  },
  {
   "cell_type": "markdown",
   "id": "divine-assembly",
   "metadata": {},
   "source": [
    "> 배열의 인스턴트 메서드를 이용하여 계산하는 방법"
   ]
  },
  {
   "cell_type": "code",
   "execution_count": 88,
   "id": "martial-curtis",
   "metadata": {},
   "outputs": [
    {
     "name": "stdout",
     "output_type": "stream",
     "text": [
      "\n",
      "arr.mean() : -0.24497652921142565\n",
      "arr.sum() : -4.899530584228513\n"
     ]
    }
   ],
   "source": [
    "print('''\n",
    "arr.mean() : {0}\n",
    "arr.sum() : {1}'''.format(arr.mean(), \\\n",
    "                          arr.sum()))"
   ]
  },
  {
   "cell_type": "markdown",
   "id": "amateur-simon",
   "metadata": {},
   "source": [
    "> mean이나 sum 같은 함수는 선택적으로 axis 인자를 받아서 해당 axis에 대한 통계를 계산하고 한 차수 낮은 배열을 반환한다."
   ]
  },
  {
   "cell_type": "code",
   "execution_count": 89,
   "id": "precious-deputy",
   "metadata": {},
   "outputs": [
    {
     "data": {
      "text/plain": [
       "array([[ 1.61172696,  0.6940278 ,  0.72454442, -1.49380942],\n",
       "       [-1.35733585, -2.20729911, -0.08650854,  1.18843521],\n",
       "       [-0.0857529 , -0.07946534,  0.72112769,  0.85950648],\n",
       "       [ 0.18468959,  0.05734463, -0.20919429, -0.7975721 ],\n",
       "       [-1.25248766, -1.00163355, -1.83134345, -0.53853114]])"
      ]
     },
     "execution_count": 89,
     "metadata": {},
     "output_type": "execute_result"
    }
   ],
   "source": [
    "arr"
   ]
  },
  {
   "cell_type": "code",
   "execution_count": 90,
   "id": "social-friendly",
   "metadata": {},
   "outputs": [
    {
     "data": {
      "text/plain": [
       "array([-0.89915986, -2.53702558, -0.68137418, -0.78197097])"
      ]
     },
     "execution_count": 90,
     "metadata": {},
     "output_type": "execute_result"
    }
   ],
   "source": [
    "# 컬럼별 합을 구하고 싶을 때 (로우 방향으로 합)\n",
    "arr.sum(axis = 0)"
   ]
  },
  {
   "cell_type": "code",
   "execution_count": 91,
   "id": "sticky-clinic",
   "metadata": {},
   "outputs": [
    {
     "data": {
      "text/plain": [
       "array([ 0.38412244, -0.61567707,  0.35385398, -0.19118304, -1.15599895])"
      ]
     },
     "execution_count": 91,
     "metadata": {},
     "output_type": "execute_result"
    }
   ],
   "source": [
    "# 로우별 평균을 구하고 싶을 때 (컬럼 방향으로 더해서 평균)\n",
    "arr.mean(axis = 1)"
   ]
  },
  {
   "cell_type": "markdown",
   "id": "expected-limit",
   "metadata": {},
   "source": [
    "> cumsum과 cumprod는 메서드 중간 계산값을 담고 있는 배열을 반환함"
   ]
  },
  {
   "cell_type": "code",
   "execution_count": 94,
   "id": "funny-blade",
   "metadata": {},
   "outputs": [
    {
     "data": {
      "text/plain": [
       "array([[0, 1, 2],\n",
       "       [3, 4, 5],\n",
       "       [6, 7, 8]])"
      ]
     },
     "execution_count": 94,
     "metadata": {},
     "output_type": "execute_result"
    }
   ],
   "source": [
    "arr = np.array([[0,1,2],               \n",
    "                [3,4,5],\n",
    "                [6,7,8]])\n",
    "arr"
   ]
  },
  {
   "cell_type": "code",
   "execution_count": 95,
   "id": "attractive-bundle",
   "metadata": {},
   "outputs": [
    {
     "data": {
      "text/plain": [
       "array([[ 0,  1,  2],\n",
       "       [ 3,  5,  7],\n",
       "       [ 9, 12, 15]], dtype=int32)"
      ]
     },
     "execution_count": 95,
     "metadata": {},
     "output_type": "execute_result"
    }
   ],
   "source": [
    "arr.cumsum(axis = 0)   # 로우 방향으로 cumsum"
   ]
  },
  {
   "cell_type": "code",
   "execution_count": 96,
   "id": "cleared-evidence",
   "metadata": {},
   "outputs": [
    {
     "data": {
      "text/plain": [
       "array([[ 0,  1,  3],\n",
       "       [ 3,  7, 12],\n",
       "       [ 6, 13, 21]], dtype=int32)"
      ]
     },
     "execution_count": 96,
     "metadata": {},
     "output_type": "execute_result"
    }
   ],
   "source": [
    "arr.cumsum(axis = 1)    # 컬럼 방향으로 cumsum"
   ]
  },
  {
   "cell_type": "markdown",
   "id": "sharp-healthcare",
   "metadata": {},
   "source": [
    " "
   ]
  },
  {
   "cell_type": "markdown",
   "id": "running-argentina",
   "metadata": {},
   "source": [
    "### 4.3.3 불리언 배열을 위한 메서드"
   ]
  },
  {
   "cell_type": "markdown",
   "id": "efficient-stopping",
   "metadata": {},
   "source": [
    "- 불리언값은 1(True) 또는 0(False)으로 강제할 수 있다.\n",
    "- sum 메서드를 실앻아면 불리언 배열에서 True인 원소의 개수를 셀 수 있다."
   ]
  },
  {
   "cell_type": "code",
   "execution_count": 99,
   "id": "varied-camel",
   "metadata": {},
   "outputs": [
    {
     "data": {
      "text/plain": [
       "54"
      ]
     },
     "execution_count": 99,
     "metadata": {},
     "output_type": "execute_result"
    }
   ],
   "source": [
    "arr = np.random.randn(100)\n",
    "\n",
    "(arr > 0).sum()    # 양수인 원소 개수"
   ]
  },
  {
   "cell_type": "markdown",
   "id": "authorized-aerospace",
   "metadata": {},
   "source": [
    " "
   ]
  },
  {
   "cell_type": "markdown",
   "id": "brief-saskatchewan",
   "metadata": {},
   "source": [
    "- any와 all 메서드는 불리언 배열에 특히 유용하다.\n",
    "    - any : 하나 이상의 값이 True인지 검사\n",
    "    - all : 모든 원소가 True인지 검사"
   ]
  },
  {
   "cell_type": "code",
   "execution_count": 103,
   "id": "loving-burke",
   "metadata": {},
   "outputs": [
    {
     "data": {
      "text/plain": [
       "True"
      ]
     },
     "execution_count": 103,
     "metadata": {},
     "output_type": "execute_result"
    }
   ],
   "source": [
    "(arr > 0).any()"
   ]
  },
  {
   "cell_type": "code",
   "execution_count": 104,
   "id": "digital-consequence",
   "metadata": {},
   "outputs": [
    {
     "data": {
      "text/plain": [
       "False"
      ]
     },
     "execution_count": 104,
     "metadata": {},
     "output_type": "execute_result"
    }
   ],
   "source": [
    "(arr > 0).all()"
   ]
  },
  {
   "cell_type": "markdown",
   "id": "noticed-conservative",
   "metadata": {},
   "source": [
    " "
   ]
  },
  {
   "cell_type": "markdown",
   "id": "external-learning",
   "metadata": {},
   "source": [
    "### 4.3.4 정렬"
   ]
  },
  {
   "cell_type": "markdown",
   "id": "posted-cause",
   "metadata": {},
   "source": [
    "- NumPy 배열도 sort 메서드를 이용해 정리할 수 있다.\n",
    "- np.sort 메서드는 배열을 직접 변경하지 않고 정렬된 결과를 가지고 있는 복사본을 반환한다."
   ]
  },
  {
   "cell_type": "code",
   "execution_count": 109,
   "id": "wanted-hungarian",
   "metadata": {},
   "outputs": [
    {
     "data": {
      "text/plain": [
       "array([0.3144941 , 0.27409356, 0.63239049, 0.48037301, 0.55075299,\n",
       "       0.0962134 ])"
      ]
     },
     "execution_count": 109,
     "metadata": {},
     "output_type": "execute_result"
    }
   ],
   "source": [
    "arr = np.random.rand(6)\n",
    "arr"
   ]
  },
  {
   "cell_type": "code",
   "execution_count": 110,
   "id": "offshore-holiday",
   "metadata": {},
   "outputs": [
    {
     "data": {
      "text/plain": [
       "array([0.0962134 , 0.27409356, 0.3144941 , 0.48037301, 0.55075299,\n",
       "       0.63239049])"
      ]
     },
     "execution_count": 110,
     "metadata": {},
     "output_type": "execute_result"
    }
   ],
   "source": [
    "arr.sort()\n",
    "arr"
   ]
  },
  {
   "cell_type": "markdown",
   "id": "unlike-portsmouth",
   "metadata": {},
   "source": [
    "> 다차원 배열의 정렬은 sort 메서드에 넘긴 축의 값에 따라 1차원 부분을 정렬함."
   ]
  },
  {
   "cell_type": "code",
   "execution_count": 111,
   "id": "arbitrary-future",
   "metadata": {},
   "outputs": [
    {
     "data": {
      "text/plain": [
       "array([[ 0.72691003, -0.68200586,  1.26831226],\n",
       "       [-1.34317272,  0.20699336, -1.68392672],\n",
       "       [ 0.75994143,  0.00284787, -0.00882345],\n",
       "       [-0.05141961,  0.00542379, -0.03916594],\n",
       "       [-1.01021654, -0.06083242,  1.60438095]])"
      ]
     },
     "execution_count": 111,
     "metadata": {},
     "output_type": "execute_result"
    }
   ],
   "source": [
    "arr = np.random.randn(5,3)\n",
    "arr"
   ]
  },
  {
   "cell_type": "code",
   "execution_count": 112,
   "id": "cathedral-wildlife",
   "metadata": {},
   "outputs": [
    {
     "data": {
      "text/plain": [
       "array([[-0.68200586,  0.72691003,  1.26831226],\n",
       "       [-1.68392672, -1.34317272,  0.20699336],\n",
       "       [-0.00882345,  0.00284787,  0.75994143],\n",
       "       [-0.05141961, -0.03916594,  0.00542379],\n",
       "       [-1.01021654, -0.06083242,  1.60438095]])"
      ]
     },
     "execution_count": 112,
     "metadata": {},
     "output_type": "execute_result"
    }
   ],
   "source": [
    "arr.sort(1)\n",
    "arr"
   ]
  },
  {
   "cell_type": "markdown",
   "id": "cordless-crowd",
   "metadata": {},
   "source": [
    "> 배열의 분위수를 구하는 쉽고 빠른 방법"
   ]
  },
  {
   "cell_type": "code",
   "execution_count": 135,
   "id": "sitting-gazette",
   "metadata": {},
   "outputs": [
    {
     "data": {
      "text/plain": [
       "array([-1.66499215, -1.94995842, -1.61833718, -1.81760654, -1.67393612,\n",
       "       -1.49482558, -1.29319216, -1.51815472, -1.75554048, -1.80575383,\n",
       "       -1.5117403 , -1.84903878, -1.54633353, -1.43009981, -1.76755409,\n",
       "       -1.74958095, -1.39255381, -1.58537353, -1.50909985, -1.86706019,\n",
       "       -1.64406937, -1.54253256, -1.72092702, -1.72514231, -1.10108871,\n",
       "       -1.71698217, -1.16339776, -1.54002514, -1.48109097, -1.49230715,\n",
       "       -1.57977047, -1.53279376, -1.44524122, -1.7477734 , -1.49498581,\n",
       "       -1.39745155, -1.69828896, -1.50510456, -1.3304947 , -1.71082491,\n",
       "       -1.94131456, -1.52323408, -1.47534468, -1.47048532, -1.55980626,\n",
       "       -2.07830625, -1.33023779, -1.64777707, -1.63893581, -1.67235288,\n",
       "       -1.45162419, -1.70007302, -1.60579709, -1.42850226, -1.77035909,\n",
       "       -1.67279549, -1.61501981, -1.65182539, -1.70644166, -1.72337798,\n",
       "       -1.31226356, -1.56489072, -1.66748341, -1.60393432, -1.42503585,\n",
       "       -1.82126277, -1.47164525, -1.48799082, -1.52982004, -1.54984875,\n",
       "       -1.64766481, -1.6450463 , -1.09420962, -1.78933036, -2.02133373,\n",
       "       -1.43277815, -1.64916185, -1.92538039, -1.41838172, -1.70937096,\n",
       "       -1.35501332, -1.45579795, -1.62663213, -1.61499096, -1.35533128,\n",
       "       -1.57367494, -1.54743519, -1.73190593, -1.73248622, -1.6389675 ,\n",
       "       -1.85208238, -1.6260945 , -1.40361722, -2.07505466, -1.35300165,\n",
       "       -1.45608167, -1.62232039, -1.60085698, -1.24638242, -1.69753875])"
      ]
     },
     "execution_count": 135,
     "metadata": {},
     "output_type": "execute_result"
    }
   ],
   "source": [
    "larger_arr = np.random.randn(10000).reshape(100,100)\n",
    "larger_arr.sort(1)\n",
    "larger_arr[:, int(0.05*larger_arr.shape[1])]    # 각 row마다 5% 분위수 값 "
   ]
  }
 ],
 "metadata": {
  "kernelspec": {
   "display_name": "Python 3",
   "language": "python",
   "name": "python3"
  },
  "language_info": {
   "codemirror_mode": {
    "name": "ipython",
    "version": 3
   },
   "file_extension": ".py",
   "mimetype": "text/x-python",
   "name": "python",
   "nbconvert_exporter": "python",
   "pygments_lexer": "ipython3",
   "version": "3.8.10"
  }
 },
 "nbformat": 4,
 "nbformat_minor": 5
}
