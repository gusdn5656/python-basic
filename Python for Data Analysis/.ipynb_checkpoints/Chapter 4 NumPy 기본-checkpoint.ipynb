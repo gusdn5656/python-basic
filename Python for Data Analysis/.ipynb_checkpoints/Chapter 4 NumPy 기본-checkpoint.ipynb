{
 "cells": [
  {
   "cell_type": "markdown",
   "id": "peaceful-provincial",
   "metadata": {},
   "source": [
    "# Chapter 4 NumPy 기본: 배열과 벡터 연산"
   ]
  },
  {
   "cell_type": "markdown",
   "id": "original-chapel",
   "metadata": {},
   "source": [
    "- NumPy는 Numerical Python의 줄임말, 파이썬에서 산술 계산을 위한 가장 중요한 필수 패키지 중 하나\n",
    "- 계산 과학을 위한 대부분의 패키지는 NumPy의 배열 객체를 데이터 교환을 위한 공통 언어처럼 사용"
   ]
  },
  {
   "cell_type": "markdown",
   "id": "vocal-enhancement",
   "metadata": {},
   "source": [
    "- NumPy에서 제공하는 것들  \n",
    "    - 효율적인 다차원 배열인 `ndarray`는 빠른 배열 계산과 유연한 `브로드캐스팅` 기능을 제공\n",
    "    - 반복문을 작성할 필요 없이 전체 데이터 배열을 빠르게 계산할 수 있는 표준 수학 함수\n",
    "    - 배열 데이터를 디스크에 쓰거나 읽을 수 있는 도구와 메모리에 적재된 파일을 다루는 도구\n",
    "    - 선형대수, 난수 생성기, 푸리에 변환 가능\n",
    "    - C, C++, 포트란으로 작성한 코드를 연결할 수 있는 C API"
   ]
  },
  {
   "cell_type": "markdown",
   "id": "reflected-broadway",
   "metadata": {},
   "source": [
    "- NumPy의 장점\n",
    "    - NumPy는 내부적으로 데이터를 다른 내장 파이썬 객체와 구분된 연속된 메모리 불록에 저장한다. \n",
    "    - NumPy의 각종 알고리즘은 모두 C로 작성되어 타입 검사나 다른 오버헤드 없이 메모리를 직접 조작할 수 있다.\n",
    "    - NumPy 배열은 또한 내장 파이썬의 연속된 자료형들보다 훨씬 더 적은 메모리를 사용한다.\n",
    "    - NumPy 연산은 파이썬 반복문을 사용하지 않고 전체 배열에 대한 복잡한 계싼을 수행할 수 있다."
   ]
  },
  {
   "cell_type": "markdown",
   "id": "offshore-doctrine",
   "metadata": {},
   "source": [
    "> 성능 차이 확인 : 백만 개의 정수를 저장하는 NumPy 배열과 파이썬 리스트 비교"
   ]
  },
  {
   "cell_type": "code",
   "execution_count": 1,
   "id": "average-muscle",
   "metadata": {},
   "outputs": [],
   "source": [
    "import numpy as np\n",
    "\n",
    "my_arr = np.arange(1000000)\n",
    "my_list = list(range(1000000))"
   ]
  },
  {
   "cell_type": "code",
   "execution_count": 19,
   "id": "silent-smart",
   "metadata": {},
   "outputs": [
    {
     "name": "stdout",
     "output_type": "stream",
     "text": [
      "Wall time: 29.9 ms\n",
      "Wall time: 833 ms\n"
     ]
    }
   ],
   "source": [
    "# 각각의 배열과 리스트 원소에 2를 곱하기\n",
    "%time for _ in range(10) : my_arr2 = my_arr * 2\n",
    "%time for _ in range(10) : my_list2 = [x*2 for x in my_list]"
   ]
  },
  {
   "cell_type": "markdown",
   "id": "earlier-compatibility",
   "metadata": {},
   "source": [
    " "
   ]
  },
  {
   "cell_type": "markdown",
   "id": "growing-facial",
   "metadata": {},
   "source": [
    "## 4.1 NumPy ndarray : 다차원 배열 객체"
   ]
  },
  {
   "cell_type": "markdown",
   "id": "maritime-german",
   "metadata": {},
   "source": [
    "- ndarray \n",
    "    - N차원의 배열 객체이며 NumPy의 핵심\n",
    "    - 대규모 데이터 집합을 담을 수 있는 빠르고 유연한 자료구조.\n",
    "    - 배열은 스칼라 원소간의 연산에 사용하는 문법과 비슷한 방식을 사용해 전체 데이터 블록에 수학적인 연산을 수행할 수 있게 해줌"
   ]
  },
  {
   "cell_type": "code",
   "execution_count": 30,
   "id": "operational-edwards",
   "metadata": {},
   "outputs": [
    {
     "data": {
      "text/plain": [
       "array([[ -7.10188957, -17.59088192,  -1.09342313],\n",
       "       [  3.4775524 ,   6.38532323,  11.47541335]])"
      ]
     },
     "execution_count": 30,
     "metadata": {},
     "output_type": "execute_result"
    }
   ],
   "source": [
    "import numpy as np     # numpy import convention임\n",
    "\n",
    "data = np.random.randn(2,3)\n",
    "data"
   ]
  },
  {
   "cell_type": "markdown",
   "id": "established-greene",
   "metadata": {},
   "source": [
    " "
   ]
  },
  {
   "cell_type": "markdown",
   "id": "solar-pension",
   "metadata": {},
   "source": [
    "- ndarray 객체에 스칼라 연산을 시행하면 모든 원소에 대해 연산을 수행해 줌"
   ]
  },
  {
   "cell_type": "code",
   "execution_count": 31,
   "id": "worse-apparatus",
   "metadata": {},
   "outputs": [
    {
     "data": {
      "text/plain": [
       "array([[ -7.10188957, -17.59088192,  -1.09342313],\n",
       "       [  3.4775524 ,   6.38532323,  11.47541335]])"
      ]
     },
     "execution_count": 31,
     "metadata": {},
     "output_type": "execute_result"
    }
   ],
   "source": [
    "data * 10"
   ]
  },
  {
   "cell_type": "code",
   "execution_count": 32,
   "id": "temporal-czech",
   "metadata": {},
   "outputs": [
    {
     "data": {
      "text/plain": [
       "array([[-1.42037791, -3.51817638, -0.21868463],\n",
       "       [ 0.69551048,  1.27706465,  2.29508267]])"
      ]
     },
     "execution_count": 32,
     "metadata": {},
     "output_type": "execute_result"
    }
   ],
   "source": [
    "data + data"
   ]
  },
  {
   "cell_type": "markdown",
   "id": "western-comparison",
   "metadata": {},
   "source": [
    " "
   ]
  },
  {
   "cell_type": "markdown",
   "id": "smoking-stephen",
   "metadata": {},
   "source": [
    "- ndarray의 모든 원소는 같은 자료형이어야 함\n",
    "- np.shape : 배열의 각 차원의 크기를 알려주는 `튜플`\n",
    "- np.dtype : 배열에 저장된 자료형을 알려주는 `객체`"
   ]
  },
  {
   "cell_type": "code",
   "execution_count": 35,
   "id": "prime-buddy",
   "metadata": {},
   "outputs": [
    {
     "data": {
      "text/plain": [
       "(2, 3)"
      ]
     },
     "execution_count": 35,
     "metadata": {},
     "output_type": "execute_result"
    }
   ],
   "source": [
    "data.shape"
   ]
  },
  {
   "cell_type": "code",
   "execution_count": 38,
   "id": "physical-airplane",
   "metadata": {},
   "outputs": [
    {
     "data": {
      "text/plain": [
       "dtype('float64')"
      ]
     },
     "execution_count": 38,
     "metadata": {},
     "output_type": "execute_result"
    }
   ],
   "source": [
    "data.dtype"
   ]
  },
  {
   "cell_type": "markdown",
   "id": "opposite-alignment",
   "metadata": {},
   "source": [
    " "
   ]
  },
  {
   "cell_type": "markdown",
   "id": "scenic-divorce",
   "metadata": {},
   "source": [
    "### 4.1.1 ndarray 생성하기"
   ]
  },
  {
   "cell_type": "markdown",
   "id": "sonic-miami",
   "metadata": {},
   "source": [
    "- array 함수\n",
    "    - 순차적인 객체 (다른 배열도 포함하여)를 넘겨 받음\n",
    "    - 넘겨받은 데이터가 들어 있는 새로운 NumPy 배열을 생성"
   ]
  },
  {
   "cell_type": "code",
   "execution_count": 43,
   "id": "radio-clone",
   "metadata": {},
   "outputs": [],
   "source": [
    "data1 = [6,7.5,8,0,1]\n",
    "data2 = [[1,2,3,4],\n",
    "         [5,6,7,8]]\n",
    "\n",
    "arr1 = np.array(data1)\n",
    "arr2 = np.array(data2)"
   ]
  },
  {
   "cell_type": "code",
   "execution_count": 44,
   "id": "refined-hospital",
   "metadata": {},
   "outputs": [
    {
     "data": {
      "text/plain": [
       "array([6. , 7.5, 8. , 0. , 1. ])"
      ]
     },
     "execution_count": 44,
     "metadata": {},
     "output_type": "execute_result"
    }
   ],
   "source": [
    "arr1"
   ]
  },
  {
   "cell_type": "code",
   "execution_count": 45,
   "id": "configured-security",
   "metadata": {},
   "outputs": [
    {
     "data": {
      "text/plain": [
       "array([[1, 2, 3, 4],\n",
       "       [5, 6, 7, 8]])"
      ]
     },
     "execution_count": 45,
     "metadata": {},
     "output_type": "execute_result"
    }
   ],
   "source": [
    "arr2           # 같은 길이를 가지는 리스트를 내포하는 순차 데이터는 다차원 배열로 변환 가능."
   ]
  },
  {
   "cell_type": "code",
   "execution_count": 48,
   "id": "nervous-accessory",
   "metadata": {},
   "outputs": [
    {
     "data": {
      "text/plain": [
       "2"
      ]
     },
     "execution_count": 48,
     "metadata": {},
     "output_type": "execute_result"
    }
   ],
   "source": [
    "arr2.ndim      # ndim을 통하여 2차원 형태로 생성됐음을 확인"
   ]
  },
  {
   "cell_type": "code",
   "execution_count": 49,
   "id": "significant-sense",
   "metadata": {},
   "outputs": [
    {
     "data": {
      "text/plain": [
       "(2, 4)"
      ]
     },
     "execution_count": 49,
     "metadata": {},
     "output_type": "execute_result"
    }
   ],
   "source": [
    "arr2.shape"
   ]
  },
  {
   "cell_type": "markdown",
   "id": "ethical-monthly",
   "metadata": {},
   "source": [
    " "
   ]
  },
  {
   "cell_type": "markdown",
   "id": "sitting-merchant",
   "metadata": {},
   "source": [
    "#### 배열 생성 함수\n",
    "\n",
    "<details>\n",
    "<summary>배열 생성 함수</summary>\n",
    "<div markdown=\"1\">\n",
    "\n",
    "|함수|설명|\n",
    "|:--|:--|\n",
    "|array|입력 데이터(리스트, 튜플, 배열 또는 다른 순차형 데이터)를 ndarray로 변환하며 dtype을 명시하지 않는 경우 자료형을 추론하여 저장한다. 기본적으로 입력 데이터는 `복사`된다.|\n",
    "|asarray|입력 데이터를 ndarray로 변환하지만 입력 데이터가 이미 ndarray일 경우 복사가 일어나지 않는다.|\n",
    "|arange|내장 range 함수와 유사하지만 리스트대신 ndarray를 반환한다.|    \n",
    "|ones|`주어진 dtype과 모양`을 가지는 배열을 생성하고 내용을 모두 1로 초기화한다.|\n",
    "|ones_like|`주어진 배열`과 동일한 모양과 dtype을 가지는 배열을 새로 생성하여 내용을 모두 1로 초기화한다.|\n",
    "|zeros|`주어진 dtype과 모양`을 가지는 배열을 생성하고 내용을 모두 0으로 초기화한다.|\n",
    "|zeros_like|`주어진 배열`과 동일한 모양과 dtype을 가지는 배열을 새로 생성하여 내용을 모두 0으로 초기화한다.|\n",
    "|empty, empty_like|메모리를 할당하여 새로운 배열을 생성하지만 ones나 zeros처럼 값을 초기화하지 않는다.|\n",
    "|full, full_lik|인자로 받은 dtype과 배열의 모양을 가지는 배열을 생성하고 인자로 받은 값으로 배열을 채운다.|\n",
    "|eye, identity| N x N 크기의 단위행렬을 생ㅅ어한다 (좌상단에서 우하단을 잇는 대각선은 1로 채워지고 나머지는 0으로 채워진다.)|\n",
    "    \n",
    "</div>\n",
    "</details>"
   ]
  },
  {
   "cell_type": "code",
   "execution_count": 54,
   "id": "delayed-pizza",
   "metadata": {},
   "outputs": [
    {
     "data": {
      "text/plain": [
       "array([0., 0., 0., 0., 0., 0., 0., 0., 0., 0.])"
      ]
     },
     "execution_count": 54,
     "metadata": {},
     "output_type": "execute_result"
    }
   ],
   "source": [
    "np.zeros(10)"
   ]
  },
  {
   "cell_type": "code",
   "execution_count": 55,
   "id": "collectible-cassette",
   "metadata": {},
   "outputs": [
    {
     "data": {
      "text/plain": [
       "array([[1., 1., 1., 1., 1., 1.],\n",
       "       [1., 1., 1., 1., 1., 1.],\n",
       "       [1., 1., 1., 1., 1., 1.]])"
      ]
     },
     "execution_count": 55,
     "metadata": {},
     "output_type": "execute_result"
    }
   ],
   "source": [
    "np.ones((3,6))"
   ]
  },
  {
   "cell_type": "code",
   "execution_count": 56,
   "id": "tribal-administrator",
   "metadata": {},
   "outputs": [
    {
     "data": {
      "text/plain": [
       "array([[[1.10031594e-311, 1.10031594e-311],\n",
       "        [1.10031594e-311, 1.26974871e-321],\n",
       "        [0.00000000e+000, 0.00000000e+000]],\n",
       "\n",
       "       [[0.00000000e+000, 0.00000000e+000],\n",
       "        [0.00000000e+000, 0.00000000e+000],\n",
       "        [0.00000000e+000, 0.00000000e+000]]])"
      ]
     },
     "execution_count": 56,
     "metadata": {},
     "output_type": "execute_result"
    }
   ],
   "source": [
    "np.empty((2,3,2))"
   ]
  },
  {
   "cell_type": "code",
   "execution_count": 58,
   "id": "danish-diesel",
   "metadata": {},
   "outputs": [
    {
     "data": {
      "text/plain": [
       "array([ 0,  1,  2,  3,  4,  5,  6,  7,  8,  9, 10, 11, 12, 13, 14])"
      ]
     },
     "execution_count": 58,
     "metadata": {},
     "output_type": "execute_result"
    }
   ],
   "source": [
    "np.arange(15)"
   ]
  },
  {
   "cell_type": "markdown",
   "id": "mobile-encyclopedia",
   "metadata": {},
   "source": [
    " "
   ]
  },
  {
   "cell_type": "markdown",
   "id": "weird-costume",
   "metadata": {},
   "source": [
    " "
   ]
  },
  {
   "cell_type": "markdown",
   "id": "progressive-smell",
   "metadata": {},
   "source": [
    "### 4.1.2 ndarray의 dtype"
   ]
  },
  {
   "cell_type": "markdown",
   "id": "scheduled-premiere",
   "metadata": {},
   "source": [
    "- dtype\n",
    "    - ndarray가 메모리에 있는 특정 데이터를 해석하기 위해 필요한 정보 (또는 `메타데이터`)를 담고 있는 `특수한 객체`다.\n",
    "    - dypte이 있어서 NumPy가 강력하면서도 유연한 도구가 될 수 있다고 함."
   ]
  },
  {
   "cell_type": "code",
   "execution_count": 60,
   "id": "patient-creator",
   "metadata": {},
   "outputs": [
    {
     "name": "stdout",
     "output_type": "stream",
     "text": [
      "\n",
      "dtype of arr1 : float64\n",
      "dtype of arr2 : int32\n"
     ]
    }
   ],
   "source": [
    "arr1 = np.array([1,2,3], dtype = np.float64)\n",
    "arr2 = np.array([1,2,3], dtype = np.int32)\n",
    "\n",
    "print('''\n",
    "dtype of arr1 : {0}\n",
    "dtype of arr2 : {1}'''.format(arr1.dtype, \\\n",
    "                              arr2.dtype))"
   ]
  },
  {
   "cell_type": "markdown",
   "id": "hourly-prague",
   "metadata": {},
   "source": [
    " "
   ]
  },
  {
   "cell_type": "markdown",
   "id": "indonesian-syndication",
   "metadata": {},
   "source": [
    "- np.astype()\n",
    "    - np.ndarray.astype 메서드를 사용해서 배열의 dtype을 다른 형으로 명시적으로 변환 (또는 캐스팅) 가능하다."
   ]
  },
  {
   "cell_type": "code",
   "execution_count": 3,
   "id": "tracked-chemistry",
   "metadata": {},
   "outputs": [
    {
     "name": "stdout",
     "output_type": "stream",
     "text": [
      "\n",
      "dtype of arr : int32\n",
      "dtype of float_arr : float64\n"
     ]
    }
   ],
   "source": [
    "arr = np.array([1,2,3,4,5])\n",
    "float_arr = arr.astype(np.float64)\n",
    "\n",
    "print('''\n",
    "dtype of arr : {0}\n",
    "dtype of float_arr : {1}'''.format(arr.dtype, \\\n",
    "                                   float_arr.dtype))"
   ]
  },
  {
   "cell_type": "markdown",
   "id": "palestinian-vehicle",
   "metadata": {},
   "source": [
    " "
   ]
  },
  {
   "cell_type": "markdown",
   "id": "running-delight",
   "metadata": {},
   "source": [
    "#### NumPy 자료형\n",
    "\n",
    "<details>\n",
    "<summary>NumPy 자료형</summary>\n",
    "<div markdown=\"1\">\n",
    "\n",
    "|자료형|자료형 코드|설명|\n",
    "|:--|:--|:--|\n",
    "|int8, uint8|i1, u1|부호가 있는 8비트(1바이트) 정수형과 부호가 없는 8비트 정수형|\n",
    "|int16, uint16|i2, u2|부호가 있는 16비트 정수형과 부호가 없는 16비트 정수형|\n",
    "|int32, uint32|i4, u4|부호가 있는 32비트 정수형과 부호가 없는 32비트 정수형|\n",
    "|int64, uint64|i8, u8|부호가 있는 64비트 정수형과 부호가 없는 64비트 정수형|\n",
    "|float16|f2|반정밀도 부동소수점|\n",
    "|float32|f4 또는 f|단정밀도 부동소수점. C언어의 float형과 호환|\n",
    "|float64|f8 또는 d|배정밀도 부동소수점. C언어의 double형과 파이썬의 float 객체와 호환|\n",
    "|float129|f16 또는 g|확장정밀도 부동소수점|\n",
    "|complex64,  \n",
    " complex128,  \n",
    " complex256|c8, c16, c32| 각각 2개의 32,64,128비트 부동소수점형을 가지는 복소수|\n",
    "|bool|?|True와 False 값을 저장하는 불리언형|\n",
    "|object|O|파이썬 객체형|\n",
    "|string_|S|고정 길이 아스키 문자열형(각 문자는 1바이트). 길이가 10인 문자열 dtype은 S10이 된다.|\n",
    "|unicode_|U|고정 길이 유니코드형(플랫폼에 따라 문자별 바이트 수가 다르다). string_형과 같은 형식을 쓴다(예:U10).|\n",
    "    \n",
    "</div>\n",
    "</details>"
   ]
  },
  {
   "cell_type": "markdown",
   "id": "heavy-likelihood",
   "metadata": {},
   "source": [
    "> 숫자 형식의 문자열을 담고 있는 배열이 있다면 astype을 사용하여 숫자로 변환할 수 있다."
   ]
  },
  {
   "cell_type": "code",
   "execution_count": 73,
   "id": "differential-final",
   "metadata": {},
   "outputs": [
    {
     "data": {
      "text/plain": [
       "array([b'1.25', b'-9.634', b'42'], dtype='|S6')"
      ]
     },
     "execution_count": 73,
     "metadata": {},
     "output_type": "execute_result"
    }
   ],
   "source": [
    "numeric_strings = np.array(['1.25','-9.634','42'], dtype = np.string_)\n",
    "numeric_strings"
   ]
  },
  {
   "cell_type": "code",
   "execution_count": 83,
   "id": "every-offset",
   "metadata": {},
   "outputs": [
    {
     "name": "stdout",
     "output_type": "stream",
     "text": [
      "[ 1.25  -9.634 42.   ]\n",
      "[ 1.25  -9.634 42.   ]\n"
     ]
    }
   ],
   "source": [
    "# np.float64와 파이썬 float 객체는 호환 가능함. 따라서 아래 두 코드는 같은 값을 반환\n",
    "print(numeric_strings.astype(np.float64))\n",
    "print(numeric_strings.astype(float))"
   ]
  },
  {
   "cell_type": "markdown",
   "id": "naughty-champion",
   "metadata": {},
   "source": [
    " "
   ]
  },
  {
   "cell_type": "markdown",
   "id": "unlimited-planning",
   "metadata": {},
   "source": [
    "### 4.1.3 NumPy 배열의 산술 연산"
   ]
  },
  {
   "cell_type": "markdown",
   "id": "continuous-client",
   "metadata": {},
   "source": [
    "- 배열의 중요한 특징은 for 문을 작성하지 않고 데이터를 일괄 처리할 수 있다는 점. 이를 `벡터화`라고 함.\n",
    "- 같은 크기의 배열 간의 산술 연산은 배열의 각 원소 단위로 적용됨."
   ]
  },
  {
   "cell_type": "code",
   "execution_count": 105,
   "id": "brown-elite",
   "metadata": {},
   "outputs": [
    {
     "data": {
      "text/plain": [
       "array([[1., 2., 3.],\n",
       "       [4., 5., 6.]])"
      ]
     },
     "execution_count": 105,
     "metadata": {},
     "output_type": "execute_result"
    }
   ],
   "source": [
    "arr = np.array([[1.,2.,3.],\n",
    "                [4.,5.,6.]])\n",
    "arr"
   ]
  },
  {
   "cell_type": "code",
   "execution_count": 106,
   "id": "rental-alabama",
   "metadata": {},
   "outputs": [
    {
     "data": {
      "text/plain": [
       "array([[ 1.,  4.,  9.],\n",
       "       [16., 25., 36.]])"
      ]
     },
     "execution_count": 106,
     "metadata": {},
     "output_type": "execute_result"
    }
   ],
   "source": [
    "arr * arr"
   ]
  },
  {
   "cell_type": "code",
   "execution_count": 107,
   "id": "black-consolidation",
   "metadata": {},
   "outputs": [
    {
     "data": {
      "text/plain": [
       "array([[0., 0., 0.],\n",
       "       [0., 0., 0.]])"
      ]
     },
     "execution_count": 107,
     "metadata": {},
     "output_type": "execute_result"
    }
   ],
   "source": [
    "arr - arr"
   ]
  },
  {
   "cell_type": "code",
   "execution_count": 108,
   "id": "systematic-concern",
   "metadata": {},
   "outputs": [
    {
     "data": {
      "text/plain": [
       "array([[1.        , 0.5       , 0.33333333],\n",
       "       [0.25      , 0.2       , 0.16666667]])"
      ]
     },
     "execution_count": 108,
     "metadata": {},
     "output_type": "execute_result"
    }
   ],
   "source": [
    "1/arr"
   ]
  },
  {
   "cell_type": "markdown",
   "id": "three-salon",
   "metadata": {},
   "source": [
    " "
   ]
  },
  {
   "cell_type": "markdown",
   "id": "indirect-deviation",
   "metadata": {},
   "source": [
    "- 같은 크기를 가지는 배열 간의 비교 연산은 불리언 배열을 반환함."
   ]
  },
  {
   "cell_type": "code",
   "execution_count": 111,
   "id": "favorite-wages",
   "metadata": {},
   "outputs": [
    {
     "data": {
      "text/plain": [
       "array([[False,  True, False],\n",
       "       [ True, False,  True]])"
      ]
     },
     "execution_count": 111,
     "metadata": {},
     "output_type": "execute_result"
    }
   ],
   "source": [
    "arr2 = np.array([[0.,4.,1.],\n",
    "                 [7.,2.,12.]])\n",
    "arr2 > arr"
   ]
  },
  {
   "cell_type": "markdown",
   "id": "demographic-python",
   "metadata": {},
   "source": [
    " "
   ]
  },
  {
   "cell_type": "markdown",
   "id": "median-detector",
   "metadata": {},
   "source": [
    "### 4.1.4 색인과 슬라이싱 기초"
   ]
  },
  {
   "cell_type": "markdown",
   "id": "junior-welding",
   "metadata": {},
   "source": [
    "- 1차원 배열의 색인과 슬라이싱은 표면적으로는 파이선의 리스트와 유사하게 동작함\n",
    "- 배열 조각에 스칼라값을 대입하면 해당 값이 선택 영역 전체로 전파 (또는 `브로드캐스팅`)됨."
   ]
  },
  {
   "cell_type": "code",
   "execution_count": 117,
   "id": "numerous-discovery",
   "metadata": {},
   "outputs": [
    {
     "data": {
      "text/plain": [
       "array([0, 1, 2, 3, 4, 5, 6, 7, 8, 9])"
      ]
     },
     "execution_count": 117,
     "metadata": {},
     "output_type": "execute_result"
    }
   ],
   "source": [
    "arr = np.arange(10)\n",
    "arr"
   ]
  },
  {
   "cell_type": "code",
   "execution_count": 119,
   "id": "baking-combine",
   "metadata": {},
   "outputs": [
    {
     "data": {
      "text/plain": [
       "array([5, 6, 7])"
      ]
     },
     "execution_count": 119,
     "metadata": {},
     "output_type": "execute_result"
    }
   ],
   "source": [
    "arr[5:8]"
   ]
  },
  {
   "cell_type": "code",
   "execution_count": 120,
   "id": "respected-citizenship",
   "metadata": {},
   "outputs": [
    {
     "data": {
      "text/plain": [
       "array([ 0,  1,  2,  3,  4, 12, 12, 12,  8,  9])"
      ]
     },
     "execution_count": 120,
     "metadata": {},
     "output_type": "execute_result"
    }
   ],
   "source": [
    "arr[5:8] = 12\n",
    "arr"
   ]
  },
  {
   "cell_type": "markdown",
   "id": "bearing-pulse",
   "metadata": {},
   "source": [
    " "
   ]
  },
  {
   "cell_type": "markdown",
   "id": "particular-python",
   "metadata": {},
   "source": [
    "- 리스트와의 **중요한** 차이점은 배열 조각은 원본 배열의 `뷰`라는 점.\n",
    "    - 즉, 데이터는 복사되지 않고 뷰에 대한 변경은 그대로 원본 배열에 반영된다.\n",
    "    - NumPy는 대용량의 데이터 처리를 염두에 두고 설계되었기 때문에 성능과 메모리 문제를 피하기 위해 데이터 복사를 피한다."
   ]
  },
  {
   "cell_type": "code",
   "execution_count": 122,
   "id": "experimental-quick",
   "metadata": {},
   "outputs": [
    {
     "data": {
      "text/plain": [
       "array([12, 12, 12])"
      ]
     },
     "execution_count": 122,
     "metadata": {},
     "output_type": "execute_result"
    }
   ],
   "source": [
    "arr_slice = arr[5:8]\n",
    "arr_slice"
   ]
  },
  {
   "cell_type": "code",
   "execution_count": 123,
   "id": "nasty-vacation",
   "metadata": {},
   "outputs": [
    {
     "data": {
      "text/plain": [
       "array([    0,     1,     2,     3,     4,    12, 12345,    12,     8,\n",
       "           9])"
      ]
     },
     "execution_count": 123,
     "metadata": {},
     "output_type": "execute_result"
    }
   ],
   "source": [
    "arr_slice[1] = 12345\n",
    "arr"
   ]
  },
  {
   "cell_type": "code",
   "execution_count": 124,
   "id": "fiscal-terrorism",
   "metadata": {},
   "outputs": [
    {
     "data": {
      "text/plain": [
       "array([ 0,  1,  2,  3,  4, 64, 64, 64,  8,  9])"
      ]
     },
     "execution_count": 124,
     "metadata": {},
     "output_type": "execute_result"
    }
   ],
   "source": [
    "# 단순히 [:]로 슬라이스를 하면 배열의 모든 값을 할당한다.\n",
    "arr_slice[:] = 64\n",
    "arr"
   ]
  },
  {
   "cell_type": "markdown",
   "id": "noble-confusion",
   "metadata": {},
   "source": [
    "> 만약에 뷰 대신 ndarray 슬라이스의 복사본은 얻고 싶다면 arr[5:8].copy()를 사용해서 명시적으로 배열을 `복사`해야한다."
   ]
  },
  {
   "cell_type": "markdown",
   "id": "informative-disney",
   "metadata": {},
   "source": [
    " "
   ]
  },
  {
   "cell_type": "markdown",
   "id": "removable-blair",
   "metadata": {},
   "source": [
    "- 2차원 배열 색인"
   ]
  },
  {
   "cell_type": "code",
   "execution_count": 129,
   "id": "political-weather",
   "metadata": {},
   "outputs": [],
   "source": [
    "arr2d = np.array([[1,2,3],\n",
    "                  [4,5,6],\n",
    "                  [7,8,9]])"
   ]
  },
  {
   "cell_type": "code",
   "execution_count": 130,
   "id": "suburban-google",
   "metadata": {},
   "outputs": [
    {
     "data": {
      "text/plain": [
       "array([7, 8, 9])"
      ]
     },
     "execution_count": 130,
     "metadata": {},
     "output_type": "execute_result"
    }
   ],
   "source": [
    "arr2d[2]"
   ]
  },
  {
   "cell_type": "code",
   "execution_count": 131,
   "id": "intense-property",
   "metadata": {},
   "outputs": [
    {
     "data": {
      "text/plain": [
       "3"
      ]
     },
     "execution_count": 131,
     "metadata": {},
     "output_type": "execute_result"
    }
   ],
   "source": [
    "arr2d[0][2]"
   ]
  },
  {
   "cell_type": "code",
   "execution_count": 132,
   "id": "graphic-upset",
   "metadata": {},
   "outputs": [
    {
     "data": {
      "text/plain": [
       "3"
      ]
     },
     "execution_count": 132,
     "metadata": {},
     "output_type": "execute_result"
    }
   ],
   "source": [
    "arr2d[0,2]"
   ]
  },
  {
   "cell_type": "markdown",
   "id": "prescribed-cathedral",
   "metadata": {},
   "source": [
    " "
   ]
  },
  {
   "cell_type": "markdown",
   "id": "unlimited-exclusive",
   "metadata": {},
   "source": [
    "- 3차원 배열 색인"
   ]
  },
  {
   "cell_type": "code",
   "execution_count": 141,
   "id": "selective-humanity",
   "metadata": {},
   "outputs": [
    {
     "data": {
      "text/plain": [
       "array([[[ 1,  2,  3],\n",
       "        [ 4,  5,  6]],\n",
       "\n",
       "       [[ 7,  8,  9],\n",
       "        [10, 11, 12]]])"
      ]
     },
     "execution_count": 141,
     "metadata": {},
     "output_type": "execute_result"
    }
   ],
   "source": [
    "arr3d = np.array([[[1,2,3],[4,5,6]],\n",
    "                  [[7,8,9],[10,11,12]]])\n",
    "arr3d"
   ]
  },
  {
   "cell_type": "code",
   "execution_count": 142,
   "id": "limited-utility",
   "metadata": {},
   "outputs": [
    {
     "data": {
      "text/plain": [
       "array([[1, 2, 3],\n",
       "       [4, 5, 6]])"
      ]
     },
     "execution_count": 142,
     "metadata": {},
     "output_type": "execute_result"
    }
   ],
   "source": [
    "# arr3d[0]은 2X3 크기의 배열\n",
    "arr3d[0]"
   ]
  },
  {
   "cell_type": "code",
   "execution_count": 145,
   "id": "split-assignment",
   "metadata": {},
   "outputs": [
    {
     "data": {
      "text/plain": [
       "array([[[42, 42, 42],\n",
       "        [42, 42, 42]],\n",
       "\n",
       "       [[ 7,  8,  9],\n",
       "        [10, 11, 12]]])"
      ]
     },
     "execution_count": 145,
     "metadata": {},
     "output_type": "execute_result"
    }
   ],
   "source": [
    "#arr3d[0]에는 스칼라값과 배열 모두 대입할 수 있다.\n",
    "old_values = arr3d[0].copy()\n",
    "\n",
    "arr3d[0] = 42\n",
    "arr3d"
   ]
  },
  {
   "cell_type": "code",
   "execution_count": 147,
   "id": "curious-islam",
   "metadata": {},
   "outputs": [
    {
     "data": {
      "text/plain": [
       "array([[[ 1,  2,  3],\n",
       "        [ 4,  5,  6]],\n",
       "\n",
       "       [[ 7,  8,  9],\n",
       "        [10, 11, 12]]])"
      ]
     },
     "execution_count": 147,
     "metadata": {},
     "output_type": "execute_result"
    }
   ],
   "source": [
    "arr3d[0] = old_values\n",
    "arr3d"
   ]
  },
  {
   "cell_type": "code",
   "execution_count": 151,
   "id": "exempt-chapel",
   "metadata": {},
   "outputs": [
    {
     "data": {
      "text/plain": [
       "9"
      ]
     },
     "execution_count": 151,
     "metadata": {},
     "output_type": "execute_result"
    }
   ],
   "source": [
    "arr3d[1,0,2]"
   ]
  },
  {
   "cell_type": "code",
   "execution_count": 152,
   "id": "dramatic-designation",
   "metadata": {},
   "outputs": [
    {
     "data": {
      "text/plain": [
       "9"
      ]
     },
     "execution_count": 152,
     "metadata": {},
     "output_type": "execute_result"
    }
   ],
   "source": [
    "arr3d[1][0][2]"
   ]
  },
  {
   "cell_type": "markdown",
   "id": "medieval-detail",
   "metadata": {},
   "source": [
    " "
   ]
  },
  {
   "cell_type": "markdown",
   "id": "coral-moderator",
   "metadata": {},
   "source": [
    "#### 슬라이스로 선택하기"
   ]
  },
  {
   "cell_type": "code",
   "execution_count": 154,
   "id": "sought-assembly",
   "metadata": {},
   "outputs": [
    {
     "data": {
      "text/plain": [
       "array([ 1,  2,  3,  4, 64])"
      ]
     },
     "execution_count": 154,
     "metadata": {},
     "output_type": "execute_result"
    }
   ],
   "source": [
    "arr = np.array([0,1,2,3,4,64,64,64,8,9])\n",
    "arr[1:6]"
   ]
  },
  {
   "cell_type": "code",
   "execution_count": 160,
   "id": "prescribed-arabic",
   "metadata": {},
   "outputs": [],
   "source": [
    "arr2d = np.array([[1,2,3],\n",
    "                  [4,5,6],\n",
    "                  [7,8,9]])"
   ]
  },
  {
   "cell_type": "code",
   "execution_count": 161,
   "id": "solid-aggregate",
   "metadata": {},
   "outputs": [
    {
     "data": {
      "text/plain": [
       "array([[1, 2, 3],\n",
       "       [4, 5, 6]])"
      ]
     },
     "execution_count": 161,
     "metadata": {},
     "output_type": "execute_result"
    }
   ],
   "source": [
    "# 첫번째 ~ 두번째 로우까지 슬라이싱\n",
    "arr2d[:2]"
   ]
  },
  {
   "cell_type": "code",
   "execution_count": 163,
   "id": "intense-recall",
   "metadata": {},
   "outputs": [
    {
     "data": {
      "text/plain": [
       "array([[2, 3],\n",
       "       [5, 6]])"
      ]
     },
     "execution_count": 163,
     "metadata": {},
     "output_type": "execute_result"
    }
   ],
   "source": [
    "# 첫번째 ~ 두번째 로우까지 슬라이싱 + 두번째 ~ 세번째 컬럼 슬라이싱\n",
    "arr2d[:2, 1:]"
   ]
  },
  {
   "cell_type": "code",
   "execution_count": 164,
   "id": "unlimited-cloud",
   "metadata": {},
   "outputs": [
    {
     "data": {
      "text/plain": [
       "array([[1],\n",
       "       [4],\n",
       "       [7]])"
      ]
     },
     "execution_count": 164,
     "metadata": {},
     "output_type": "execute_result"
    }
   ],
   "source": [
    "# 첫번째 컬럼의 값만 가지고 싶을 때\n",
    "arr2d[:, :1]"
   ]
  },
  {
   "cell_type": "markdown",
   "id": "proper-harvest",
   "metadata": {},
   "source": [
    " "
   ]
  },
  {
   "cell_type": "markdown",
   "id": "scheduled-radio",
   "metadata": {},
   "source": [
    "### 4.1.5 불리언값으로 선택하기"
   ]
  },
  {
   "cell_type": "code",
   "execution_count": 168,
   "id": "elegant-portugal",
   "metadata": {},
   "outputs": [
    {
     "name": "stdout",
     "output_type": "stream",
     "text": [
      "\n",
      "names : ['Bob' 'Joe' 'Will' 'Bob' 'Will' 'Joe' 'Joe']\n",
      "\n",
      "data : [[ 1.33704026  0.14174274 -1.59550218  0.38268523]\n",
      " [-0.97615169 -0.44986393 -0.18409171  0.40600197]\n",
      " [-1.01815827 -1.72230544  0.61339159 -1.52596255]\n",
      " [ 0.66385402 -1.03244792 -0.92960303  1.42978801]\n",
      " [-0.10154898 -0.7749967   1.50807214  1.10975645]\n",
      " [-1.07416771 -0.02281652  1.37048618  2.35115012]\n",
      " [-0.72971029  0.98322299  0.82856976  0.94091838]]\n"
     ]
    }
   ],
   "source": [
    "names = np.array(['Bob','Joe','Will','Bob','Will','Joe','Joe'])\n",
    "data = np.random.randn(7,4)      # 7X4 ndarray 배열을 표준 정규분포로부터 생성\n",
    "\n",
    "print('''\n",
    "names : {0}\n",
    "\n",
    "data : {1}'''.format(names, data))"
   ]
  },
  {
   "cell_type": "code",
   "execution_count": 170,
   "id": "alike-apollo",
   "metadata": {},
   "outputs": [
    {
     "data": {
      "text/plain": [
       "array([[ 1.33704026,  0.14174274, -1.59550218,  0.38268523],\n",
       "       [ 0.66385402, -1.03244792, -0.92960303,  1.42978801]])"
      ]
     },
     "execution_count": 170,
     "metadata": {},
     "output_type": "execute_result"
    }
   ],
   "source": [
    "data[names == \"Bob\"]   # 첫 번째와 네 번째 로우가 반환됨"
   ]
  },
  {
   "cell_type": "code",
   "execution_count": 172,
   "id": "prescription-delhi",
   "metadata": {},
   "outputs": [
    {
     "data": {
      "text/plain": [
       "array([[-1.59550218,  0.38268523],\n",
       "       [-0.92960303,  1.42978801]])"
      ]
     },
     "execution_count": 172,
     "metadata": {},
     "output_type": "execute_result"
    }
   ],
   "source": [
    "data[names == \"Bob\", 2:]   # 첫 번째와 네 번째 로우에서 3~4번째 컬럼이 반환"
   ]
  },
  {
   "cell_type": "code",
   "execution_count": 174,
   "id": "caring-enclosure",
   "metadata": {},
   "outputs": [
    {
     "data": {
      "text/plain": [
       "array([[-0.97615169, -0.44986393, -0.18409171,  0.40600197],\n",
       "       [-1.01815827, -1.72230544,  0.61339159, -1.52596255],\n",
       "       [-0.10154898, -0.7749967 ,  1.50807214,  1.10975645],\n",
       "       [-1.07416771, -0.02281652,  1.37048618,  2.35115012],\n",
       "       [-0.72971029,  0.98322299,  0.82856976,  0.94091838]])"
      ]
     },
     "execution_count": 174,
     "metadata": {},
     "output_type": "execute_result"
    }
   ],
   "source": [
    "data[names != \"Bob\"]   # Bob이 아닌 로우를 반환\n",
    "#data[~(names == \"Bob\")]  # 위 표현과 동치"
   ]
  },
  {
   "cell_type": "code",
   "execution_count": 176,
   "id": "novel-effectiveness",
   "metadata": {},
   "outputs": [
    {
     "data": {
      "text/plain": [
       "array([[-0.97615169, -0.44986393, -0.18409171,  0.40600197],\n",
       "       [-1.01815827, -1.72230544,  0.61339159, -1.52596255],\n",
       "       [-0.10154898, -0.7749967 ,  1.50807214,  1.10975645],\n",
       "       [-1.07416771, -0.02281652,  1.37048618,  2.35115012],\n",
       "       [-0.72971029,  0.98322299,  0.82856976,  0.94091838]])"
      ]
     },
     "execution_count": 176,
     "metadata": {},
     "output_type": "execute_result"
    }
   ],
   "source": [
    "cond = names == \"Bob\"\n",
    "data[~cond]"
   ]
  },
  {
   "cell_type": "markdown",
   "id": "binding-casino",
   "metadata": {},
   "source": [
    " "
   ]
  },
  {
   "cell_type": "markdown",
   "id": "reported-philadelphia",
   "metadata": {},
   "source": [
    "- &(and)나 |(or) 같은 논리 연산자를 사용하는 방법\n",
    "- 파이썬 예약어인 and와 or은 불리언 배열에서는 사용할 수 없다. 대신 & 와 | 를 사용한다."
   ]
  },
  {
   "cell_type": "code",
   "execution_count": 178,
   "id": "objective-excuse",
   "metadata": {},
   "outputs": [
    {
     "data": {
      "text/plain": [
       "array([ True, False,  True,  True,  True, False, False])"
      ]
     },
     "execution_count": 178,
     "metadata": {},
     "output_type": "execute_result"
    }
   ],
   "source": [
    "mask = (names == \"Bob\") | (names == \"Will\")\n",
    "mask"
   ]
  },
  {
   "cell_type": "code",
   "execution_count": 179,
   "id": "classified-silly",
   "metadata": {},
   "outputs": [
    {
     "data": {
      "text/plain": [
       "array([[ 1.33704026,  0.14174274, -1.59550218,  0.38268523],\n",
       "       [-1.01815827, -1.72230544,  0.61339159, -1.52596255],\n",
       "       [ 0.66385402, -1.03244792, -0.92960303,  1.42978801],\n",
       "       [-0.10154898, -0.7749967 ,  1.50807214,  1.10975645]])"
      ]
     },
     "execution_count": 179,
     "metadata": {},
     "output_type": "execute_result"
    }
   ],
   "source": [
    "data[mask]"
   ]
  },
  {
   "cell_type": "code",
   "execution_count": 180,
   "id": "academic-naples",
   "metadata": {},
   "outputs": [
    {
     "data": {
      "text/plain": [
       "array([[1.33704026, 0.14174274, 0.        , 0.38268523],\n",
       "       [0.        , 0.        , 0.        , 0.40600197],\n",
       "       [0.        , 0.        , 0.61339159, 0.        ],\n",
       "       [0.66385402, 0.        , 0.        , 1.42978801],\n",
       "       [0.        , 0.        , 1.50807214, 1.10975645],\n",
       "       [0.        , 0.        , 1.37048618, 2.35115012],\n",
       "       [0.        , 0.98322299, 0.82856976, 0.94091838]])"
      ]
     },
     "execution_count": 180,
     "metadata": {},
     "output_type": "execute_result"
    }
   ],
   "source": [
    "# data에 저장된 모든 음수를 0으로 대입\n",
    "data[data < 0] = 0\n",
    "data"
   ]
  },
  {
   "cell_type": "code",
   "execution_count": 181,
   "id": "altered-phenomenon",
   "metadata": {},
   "outputs": [
    {
     "data": {
      "text/plain": [
       "array([[7.        , 7.        , 7.        , 7.        ],\n",
       "       [0.        , 0.        , 0.        , 0.40600197],\n",
       "       [7.        , 7.        , 7.        , 7.        ],\n",
       "       [7.        , 7.        , 7.        , 7.        ],\n",
       "       [7.        , 7.        , 7.        , 7.        ],\n",
       "       [0.        , 0.        , 1.37048618, 2.35115012],\n",
       "       [0.        , 0.98322299, 0.82856976, 0.94091838]])"
      ]
     },
     "execution_count": 181,
     "metadata": {},
     "output_type": "execute_result"
    }
   ],
   "source": [
    "# 1차원 불리언 배열을 사용해 필요한 로우의 값을 대체하기\n",
    "data[names != \"Joe\"] = 7\n",
    "data"
   ]
  },
  {
   "cell_type": "markdown",
   "id": "breeding-deputy",
   "metadata": {},
   "source": [
    " "
   ]
  },
  {
   "cell_type": "markdown",
   "id": "strategic-bacon",
   "metadata": {},
   "source": [
    "### 4.1.6 팬시 색인"
   ]
  },
  {
   "cell_type": "markdown",
   "id": "arctic-cooling",
   "metadata": {},
   "source": [
    "- $팬시 색인^{\\text{fancy indexing}}$은 정수 배열을 사용한 색인을 설명하기 위해 NumPy에서 차용한 단어\n",
    "- 팬시 색인은 슬라이싱과는 달리 선택된 데이터를 `새로운 배열`로 복사한다."
   ]
  },
  {
   "cell_type": "code",
   "execution_count": 3,
   "id": "civilian-strike",
   "metadata": {},
   "outputs": [
    {
     "data": {
      "text/plain": [
       "array([[0., 0., 0., 0.],\n",
       "       [1., 1., 1., 1.],\n",
       "       [2., 2., 2., 2.],\n",
       "       [3., 3., 3., 3.],\n",
       "       [4., 4., 4., 4.],\n",
       "       [5., 5., 5., 5.],\n",
       "       [6., 6., 6., 6.],\n",
       "       [7., 7., 7., 7.]])"
      ]
     },
     "execution_count": 3,
     "metadata": {},
     "output_type": "execute_result"
    }
   ],
   "source": [
    "arr = np.empty((8,4))\n",
    "\n",
    "for i in range(8) :\n",
    "    arr[i] = i\n",
    "    \n",
    "arr"
   ]
  },
  {
   "cell_type": "markdown",
   "id": "surgical-subscriber",
   "metadata": {},
   "source": [
    "> 특정한 순서로 로우를 선택하고 싶다면 원하는 순서가 명시된 정수가 담긴 ndarray나 리스트를 넘기면 됨"
   ]
  },
  {
   "cell_type": "code",
   "execution_count": 4,
   "id": "ruled-installation",
   "metadata": {},
   "outputs": [
    {
     "data": {
      "text/plain": [
       "array([[4., 4., 4., 4.],\n",
       "       [3., 3., 3., 3.],\n",
       "       [0., 0., 0., 0.],\n",
       "       [6., 6., 6., 6.]])"
      ]
     },
     "execution_count": 4,
     "metadata": {},
     "output_type": "execute_result"
    }
   ],
   "source": [
    "arr[[4,3,0,6]]"
   ]
  },
  {
   "cell_type": "code",
   "execution_count": 5,
   "id": "difficult-relation",
   "metadata": {},
   "outputs": [
    {
     "data": {
      "text/plain": [
       "array([[7., 7., 7., 7.],\n",
       "       [3., 3., 3., 3.],\n",
       "       [5., 5., 5., 5.]])"
      ]
     },
     "execution_count": 5,
     "metadata": {},
     "output_type": "execute_result"
    }
   ],
   "source": [
    "arr[[-1,-5,-3]]    # 음수로 인덱싱 할 수 있음"
   ]
  },
  {
   "cell_type": "markdown",
   "id": "quarterly-earth",
   "metadata": {},
   "source": [
    " "
   ]
  },
  {
   "cell_type": "markdown",
   "id": "exposed-construction",
   "metadata": {},
   "source": [
    "- 다차원 색인 배열 "
   ]
  },
  {
   "cell_type": "code",
   "execution_count": 190,
   "id": "younger-headquarters",
   "metadata": {},
   "outputs": [
    {
     "data": {
      "text/plain": [
       "array([[ 0,  1,  2,  3],\n",
       "       [ 4,  5,  6,  7],\n",
       "       [ 8,  9, 10, 11],\n",
       "       [12, 13, 14, 15],\n",
       "       [16, 17, 18, 19],\n",
       "       [20, 21, 22, 23],\n",
       "       [24, 25, 26, 27],\n",
       "       [28, 29, 30, 31]])"
      ]
     },
     "execution_count": 190,
     "metadata": {},
     "output_type": "execute_result"
    }
   ],
   "source": [
    "arr = np.arange(32).reshape((8,4))\n",
    "arr"
   ]
  },
  {
   "cell_type": "code",
   "execution_count": 192,
   "id": "fitting-bullet",
   "metadata": {},
   "outputs": [
    {
     "data": {
      "text/plain": [
       "array([ 4, 23, 29, 10])"
      ]
     },
     "execution_count": 192,
     "metadata": {},
     "output_type": "execute_result"
    }
   ],
   "source": [
    "arr[[1,5,7,2], [0,3,1,2]]     # (1,0), (5,3), (7,1), (2,2)에 대응하는 원소들이 선택됨"
   ]
  },
  {
   "cell_type": "code",
   "execution_count": 195,
   "id": "utility-threshold",
   "metadata": {},
   "outputs": [
    {
     "data": {
      "text/plain": [
       "array([[ 4,  7,  5,  6],\n",
       "       [20, 23, 21, 22],\n",
       "       [28, 31, 29, 30],\n",
       "       [ 8, 11,  9, 10]])"
      ]
     },
     "execution_count": 195,
     "metadata": {},
     "output_type": "execute_result"
    }
   ],
   "source": [
    "arr[[1,5,7,2]][:,[0,3,1,2]]   # 해당하는 row의 column 위치만 바꾸고 싶은 경우"
   ]
  },
  {
   "cell_type": "markdown",
   "id": "narrative-graduate",
   "metadata": {},
   "source": [
    " "
   ]
  },
  {
   "cell_type": "markdown",
   "id": "eight-treat",
   "metadata": {},
   "source": [
    "### 4.1.7 배열 전치와 축 바꾸기"
   ]
  },
  {
   "cell_type": "markdown",
   "id": "framed-plaintiff",
   "metadata": {},
   "source": [
    "- 배열 전치는 데이터를 `복사하지 않고` 데이터의 모양이 바뀐 뷰를 반환하는 특별한 기능.\n",
    "- ndarray는 transpose 메서드와 T라는 이름의 특수한 속성을 가지고 있음."
   ]
  },
  {
   "cell_type": "code",
   "execution_count": 197,
   "id": "hindu-premises",
   "metadata": {},
   "outputs": [
    {
     "data": {
      "text/plain": [
       "array([[ 0,  1,  2,  3,  4],\n",
       "       [ 5,  6,  7,  8,  9],\n",
       "       [10, 11, 12, 13, 14]])"
      ]
     },
     "execution_count": 197,
     "metadata": {},
     "output_type": "execute_result"
    }
   ],
   "source": [
    "arr = np.arange(15).reshape((3,5))\n",
    "arr"
   ]
  },
  {
   "cell_type": "code",
   "execution_count": 199,
   "id": "explicit-modern",
   "metadata": {},
   "outputs": [
    {
     "data": {
      "text/plain": [
       "array([[ 0,  5, 10],\n",
       "       [ 1,  6, 11],\n",
       "       [ 2,  7, 12],\n",
       "       [ 3,  8, 13],\n",
       "       [ 4,  9, 14]])"
      ]
     },
     "execution_count": 199,
     "metadata": {},
     "output_type": "execute_result"
    }
   ],
   "source": [
    "arr.T"
   ]
  },
  {
   "cell_type": "code",
   "execution_count": 202,
   "id": "compact-sound",
   "metadata": {},
   "outputs": [
    {
     "data": {
      "text/plain": [
       "array([[ 0,  5, 10],\n",
       "       [ 1,  6, 11],\n",
       "       [ 2,  7, 12],\n",
       "       [ 3,  8, 13],\n",
       "       [ 4,  9, 14]])"
      ]
     },
     "execution_count": 202,
     "metadata": {},
     "output_type": "execute_result"
    }
   ],
   "source": [
    "arr.transpose()"
   ]
  },
  {
   "cell_type": "markdown",
   "id": "magnetic-retreat",
   "metadata": {},
   "source": [
    " "
   ]
  },
  {
   "cell_type": "markdown",
   "id": "intense-title",
   "metadata": {},
   "source": [
    "- 행렬의 내적은 np.dot을 이용해서 구할 수 있다."
   ]
  },
  {
   "cell_type": "code",
   "execution_count": 205,
   "id": "grateful-grocery",
   "metadata": {},
   "outputs": [
    {
     "data": {
      "text/plain": [
       "array([[ 1.06793397,  1.80134596, -1.92495752],\n",
       "       [-0.97583389, -0.43453951,  0.50588564],\n",
       "       [-0.08501478, -0.38234601, -0.93944961],\n",
       "       [ 1.88293739, -0.76399729, -0.28459296],\n",
       "       [-0.70415052,  1.47916783,  0.31805895],\n",
       "       [ 0.4275599 , -0.11812187, -1.60369168]])"
      ]
     },
     "execution_count": 205,
     "metadata": {},
     "output_type": "execute_result"
    }
   ],
   "source": [
    "arr = np.random.randn(6,3)\n",
    "arr"
   ]
  },
  {
   "cell_type": "code",
   "execution_count": 206,
   "id": "dominican-preliminary",
   "metadata": {},
   "outputs": [
    {
     "data": {
      "text/plain": [
       "array([[ 6.32405087, -0.15035804, -3.91502712],\n",
       "       [-0.15035804,  6.36544245, -2.45082507],\n",
       "       [-3.91502712, -2.45082507,  7.59792895]])"
      ]
     },
     "execution_count": 206,
     "metadata": {},
     "output_type": "execute_result"
    }
   ],
   "source": [
    "np.dot(arr.T, arr)"
   ]
  },
  {
   "cell_type": "markdown",
   "id": "expected-branch",
   "metadata": {},
   "source": [
    " "
   ]
  },
  {
   "cell_type": "markdown",
   "id": "special-gnome",
   "metadata": {},
   "source": [
    "- 다차원 배열의 경우\n",
    "    - transpose 메서드는 튜플로 축 번호를 받아서 치환\n",
    "    - swapaxes 메서드는 두 개의 축 번호를 받아서 배열을 뒤바꾼다.\n",
    "    - 두 메서드 모드 데이터를 복샇자ㅣ 않고 원래 데이터에 대한 뷰를 반환"
   ]
  },
  {
   "cell_type": "markdown",
   "id": "funny-surgeon",
   "metadata": {},
   "source": [
    "> np.ndarray.tranpose 메서드"
   ]
  },
  {
   "cell_type": "code",
   "execution_count": 208,
   "id": "amber-poetry",
   "metadata": {},
   "outputs": [
    {
     "data": {
      "text/plain": [
       "array([[[ 0,  1,  2,  3],\n",
       "        [ 4,  5,  6,  7]],\n",
       "\n",
       "       [[ 8,  9, 10, 11],\n",
       "        [12, 13, 14, 15]]])"
      ]
     },
     "execution_count": 208,
     "metadata": {},
     "output_type": "execute_result"
    }
   ],
   "source": [
    "arr = np.arange(16).reshape((2,2,4))\n",
    "arr"
   ]
  },
  {
   "cell_type": "code",
   "execution_count": 213,
   "id": "prime-nancy",
   "metadata": {},
   "outputs": [
    {
     "data": {
      "text/plain": [
       "array([[[ 0,  1,  2,  3],\n",
       "        [ 8,  9, 10, 11]],\n",
       "\n",
       "       [[ 4,  5,  6,  7],\n",
       "        [12, 13, 14, 15]]])"
      ]
     },
     "execution_count": 213,
     "metadata": {},
     "output_type": "execute_result"
    }
   ],
   "source": [
    "arr.transpose((1,0,2))     # 첫 번재와 두 번째 축 순서가 뒤바뀌었고 마지막 축은 그대로 남았다."
   ]
  },
  {
   "cell_type": "code",
   "execution_count": 214,
   "id": "useful-gibraltar",
   "metadata": {},
   "outputs": [
    {
     "data": {
      "text/plain": [
       "(2, 2, 4)"
      ]
     },
     "execution_count": 214,
     "metadata": {},
     "output_type": "execute_result"
    }
   ],
   "source": [
    "arr.transpose((1,0,2)).shape"
   ]
  },
  {
   "cell_type": "markdown",
   "id": "beneficial-latino",
   "metadata": {},
   "source": [
    "> np.ndarray.swapaxes 메서드"
   ]
  },
  {
   "cell_type": "code",
   "execution_count": 215,
   "id": "piano-playing",
   "metadata": {},
   "outputs": [
    {
     "data": {
      "text/plain": [
       "array([[[ 0,  1,  2,  3],\n",
       "        [ 4,  5,  6,  7]],\n",
       "\n",
       "       [[ 8,  9, 10, 11],\n",
       "        [12, 13, 14, 15]]])"
      ]
     },
     "execution_count": 215,
     "metadata": {},
     "output_type": "execute_result"
    }
   ],
   "source": [
    "arr"
   ]
  },
  {
   "cell_type": "code",
   "execution_count": 216,
   "id": "aging-certification",
   "metadata": {},
   "outputs": [
    {
     "data": {
      "text/plain": [
       "array([[[ 0,  4],\n",
       "        [ 1,  5],\n",
       "        [ 2,  6],\n",
       "        [ 3,  7]],\n",
       "\n",
       "       [[ 8, 12],\n",
       "        [ 9, 13],\n",
       "        [10, 14],\n",
       "        [11, 15]]])"
      ]
     },
     "execution_count": 216,
     "metadata": {},
     "output_type": "execute_result"
    }
   ],
   "source": [
    "arr.swapaxes(1,2)"
   ]
  },
  {
   "cell_type": "code",
   "execution_count": 227,
   "id": "likely-license",
   "metadata": {},
   "outputs": [
    {
     "data": {
      "text/plain": [
       "(2, 4, 2)"
      ]
     },
     "execution_count": 227,
     "metadata": {},
     "output_type": "execute_result"
    }
   ],
   "source": [
    "arr.swapaxes(1,2).shape"
   ]
  },
  {
   "cell_type": "markdown",
   "id": "alive-wallet",
   "metadata": {},
   "source": [
    " "
   ]
  },
  {
   "cell_type": "markdown",
   "id": "exempt-diagnosis",
   "metadata": {},
   "source": [
    "## 4.2 유니버설 함수: 배열의 각 원소를 빠르게 처리하는 함수"
   ]
  },
  {
   "cell_type": "markdown",
   "id": "analyzed-greensboro",
   "metadata": {},
   "source": [
    "- ufunc라고 불리기도 하는 유니버설 함수는 ndarray 안에 있는 데이터 원소별로 연산을 수행하는 함수\n",
    "- 유니버설 함수는 하나 이상의 스칼라값을 받아 하나 이상의 스칼라 결괏값을 반환하는 간단한 함수를 고속으로 수행할 수 있는 벡터화된 래퍼 함수"
   ]
  },
  {
   "cell_type": "markdown",
   "id": "surprised-treatment",
   "metadata": {},
   "source": [
    "> 단항 유니버설 함수 : 1개의 인자를 취하는 유니버설 함수"
   ]
  },
  {
   "cell_type": "code",
   "execution_count": 5,
   "id": "backed-stroke",
   "metadata": {},
   "outputs": [
    {
     "data": {
      "text/plain": [
       "array([0, 1, 2, 3, 4, 5, 6, 7, 8, 9])"
      ]
     },
     "execution_count": 5,
     "metadata": {},
     "output_type": "execute_result"
    }
   ],
   "source": [
    "arr = np.arange(10)\n",
    "arr"
   ]
  },
  {
   "cell_type": "code",
   "execution_count": 6,
   "id": "inside-print",
   "metadata": {},
   "outputs": [
    {
     "data": {
      "text/plain": [
       "array([0.        , 1.        , 1.41421356, 1.73205081, 2.        ,\n",
       "       2.23606798, 2.44948974, 2.64575131, 2.82842712, 3.        ])"
      ]
     },
     "execution_count": 6,
     "metadata": {},
     "output_type": "execute_result"
    }
   ],
   "source": [
    "np.sqrt(arr)"
   ]
  },
  {
   "cell_type": "code",
   "execution_count": 7,
   "id": "elegant-receipt",
   "metadata": {},
   "outputs": [
    {
     "data": {
      "text/plain": [
       "array([1.00000000e+00, 2.71828183e+00, 7.38905610e+00, 2.00855369e+01,\n",
       "       5.45981500e+01, 1.48413159e+02, 4.03428793e+02, 1.09663316e+03,\n",
       "       2.98095799e+03, 8.10308393e+03])"
      ]
     },
     "execution_count": 7,
     "metadata": {},
     "output_type": "execute_result"
    }
   ],
   "source": [
    "np.exp(arr)"
   ]
  },
  {
   "cell_type": "markdown",
   "id": "pressing-deposit",
   "metadata": {},
   "source": [
    "> 이항 유니버설 함수 : 2개의 인자를 취해서 단일 배열을 반환하는 함수"
   ]
  },
  {
   "cell_type": "code",
   "execution_count": 8,
   "id": "pregnant-democracy",
   "metadata": {},
   "outputs": [
    {
     "name": "stdout",
     "output_type": "stream",
     "text": [
      "\n",
      "x : [-0.57982553 -0.29098033  0.51438784  0.17559767 -0.64121032  1.21700768\n",
      " -1.05393356 -0.74663132]\n",
      "y : [-0.64806039  1.46575746  0.79195919  0.0943634   0.19426877  0.00892577\n",
      "  0.98306866 -0.525073  ]\n"
     ]
    }
   ],
   "source": [
    "x = np.random.randn(8)\n",
    "y = np.random.randn(8)\n",
    "\n",
    "print('''\n",
    "x : {0}\n",
    "y : {1}'''.format(x, y))"
   ]
  },
  {
   "cell_type": "code",
   "execution_count": 10,
   "id": "humanitarian-priest",
   "metadata": {},
   "outputs": [
    {
     "data": {
      "text/plain": [
       "array([-0.57982553,  1.46575746,  0.79195919,  0.17559767,  0.19426877,\n",
       "        1.21700768,  0.98306866, -0.525073  ])"
      ]
     },
     "execution_count": 10,
     "metadata": {},
     "output_type": "execute_result"
    }
   ],
   "source": [
    "np.maximum(x, y)   # x와 y의 원소별로 가장 큰 값을 반환한다."
   ]
  },
  {
   "cell_type": "markdown",
   "id": "hidden-hearts",
   "metadata": {},
   "source": [
    "> 여러 개의 배열을 반환하는 유니버설 함수도 있다."
   ]
  },
  {
   "cell_type": "code",
   "execution_count": 9,
   "id": "frequent-recipe",
   "metadata": {},
   "outputs": [
    {
     "name": "stdout",
     "output_type": "stream",
     "text": [
      "\n",
      "arr : [ 4.62235602 -5.5129229  -1.19507971  3.77206262  9.84653942  8.93968007\n",
      " -4.32909583]\n",
      "remainder : [ 0.62235602 -0.5129229  -0.19507971  0.77206262  0.84653942  0.93968007\n",
      " -0.32909583]\n",
      "whole_part : [ 4. -5. -1.  3.  9.  8. -4.]\n"
     ]
    }
   ],
   "source": [
    "arr = np.random.randn(7) * 5\n",
    "\n",
    "# np.modf : 분수를 받아서 몫과 나머지를 함께 반환하는 유니버설 함수\n",
    "remainder, whole_part = np.modf(arr)    \n",
    "\n",
    "print('''\n",
    "arr : {0}\n",
    "remainder : {1}\n",
    "whole_part : {2}'''.format(arr, \\\n",
    "                           remainder, \\\n",
    "                           whole_part))"
   ]
  },
  {
   "cell_type": "markdown",
   "id": "internal-mediterranean",
   "metadata": {},
   "source": [
    "> 유니버설 함수는 선택적으로 out 인자를 취해 계산 결과를 따로 저장할 수도 있다."
   ]
  },
  {
   "cell_type": "code",
   "execution_count": 10,
   "id": "opened-driving",
   "metadata": {},
   "outputs": [
    {
     "data": {
      "text/plain": [
       "array([ 4.62235602, -5.5129229 , -1.19507971,  3.77206262,  9.84653942,\n",
       "        8.93968007, -4.32909583])"
      ]
     },
     "execution_count": 10,
     "metadata": {},
     "output_type": "execute_result"
    }
   ],
   "source": [
    "arr "
   ]
  },
  {
   "cell_type": "code",
   "execution_count": 11,
   "id": "cheap-preference",
   "metadata": {},
   "outputs": [
    {
     "name": "stderr",
     "output_type": "stream",
     "text": [
      "<ipython-input-11-b58949107b3d>:1: RuntimeWarning: invalid value encountered in sqrt\n",
      "  np.sqrt(arr)\n"
     ]
    },
    {
     "data": {
      "text/plain": [
       "array([2.14996652,        nan,        nan, 1.94217986, 3.1379196 ,\n",
       "       2.98992978,        nan])"
      ]
     },
     "execution_count": 11,
     "metadata": {},
     "output_type": "execute_result"
    }
   ],
   "source": [
    "np.sqrt(arr)"
   ]
  },
  {
   "cell_type": "code",
   "execution_count": 12,
   "id": "heated-incidence",
   "metadata": {},
   "outputs": [
    {
     "name": "stderr",
     "output_type": "stream",
     "text": [
      "<ipython-input-12-66d13d92b086>:1: RuntimeWarning: invalid value encountered in sqrt\n",
      "  np.sqrt(arr, out = arr)\n"
     ]
    },
    {
     "data": {
      "text/plain": [
       "array([2.14996652,        nan,        nan, 1.94217986, 3.1379196 ,\n",
       "       2.98992978,        nan])"
      ]
     },
     "execution_count": 12,
     "metadata": {},
     "output_type": "execute_result"
    }
   ],
   "source": [
    "np.sqrt(arr, out = arr)"
   ]
  },
  {
   "cell_type": "code",
   "execution_count": 13,
   "id": "quarterly-barcelona",
   "metadata": {},
   "outputs": [
    {
     "data": {
      "text/plain": [
       "array([2.14996652,        nan,        nan, 1.94217986, 3.1379196 ,\n",
       "       2.98992978,        nan])"
      ]
     },
     "execution_count": 13,
     "metadata": {},
     "output_type": "execute_result"
    }
   ],
   "source": [
    "arr"
   ]
  },
  {
   "cell_type": "markdown",
   "id": "bibliographic-roller",
   "metadata": {},
   "source": [
    " "
   ]
  },
  {
   "cell_type": "markdown",
   "id": "sorted-baking",
   "metadata": {},
   "source": [
    "#### 단항 유니버설 함수\n",
    "\n",
    "<details>\n",
    "<summary>단항 유니버설 함수</summary>\n",
    "<div markdown=\"1\">\n",
    "\n",
    "|함수|설명|\n",
    "|:--|:--|\n",
    "|abs, fabs|각 원소(정수, 부동소수점수, 복소수)의 절대값을 구한다. 복소수가 아닌 경우에는 빠른 연산을 위해서 fabs를 사용한다.|\n",
    "|sqrt|각 원소의 제곱근을 계산한다. arr ** 0.5와 동일하다.|\n",
    "|square|각 원소의 제곱을 계산한다. arr ** 2와 동일하다.|\n",
    "|exp|각 원소에서 지수 $e^{x}$를 계산한다.|\n",
    "|log, log10, log2, 1og1p|각자 자연로그, 로그 10, 로그 2, 로그 (1+x)|\n",
    "|sign|각 원소의 부호를 계산한다. 1(양수), 0(영), -1(음수)|\n",
    "|ceil|각 원소의 소수자리를 올린다. 각 원소의 값보다 같거나 큰 정수 중 가장 작은 정수를 반환한다.|\n",
    "|floor|각 원소의 소수자리를 내린다. 각 원소의 값보다 작거나 같은 정수 중 가장 큰 수를 반환한다.|\n",
    "|rint|각 원소의 소수자리를 반올림한다. dtype은 유지된다.|\n",
    "|modf|각 원소의 몫과 나머지를 각각의 배열로 반환한다.|\n",
    "|isnan|각 원소가 숫자가 아닌지(NaN, Not a Number)를 나타내는 불리언 배열을 반환한다.|\n",
    "|isfinite, isinf|각각 배열의 각 원소가 유한한지(non-inf, non-NaN) 무한한지 나타내는 불리언 배열을 반환한다.|\n",
    "|cos, cosh, sin, sinh, tan, tanh|일반 삼각함수와 쌍곡삼각함수|\n",
    "|arccos, arccosh, arcsin, arcsinh, arctan, arctanh|역삼각함수|\n",
    "|logical_not|각 원소의 논리 부정(not) 값을 계산한다. ~arr과 동일하다.|\n",
    " \n",
    "    \n",
    "</div>\n",
    "</details>"
   ]
  },
  {
   "cell_type": "markdown",
   "id": "computational-rebel",
   "metadata": {},
   "source": [
    " "
   ]
  },
  {
   "cell_type": "markdown",
   "id": "offshore-shoot",
   "metadata": {},
   "source": [
    "#### 이항 유니버설 함수\n",
    "\n",
    "<details>\n",
    "<summary>이항 유니버설 함수</summary>\n",
    "<div markdown=\"1\">\n",
    "\n",
    "|함수|설명|\n",
    "|:--|:--|\n",
    "|add|두 배열에서 같은 위치의 원소끼리 더한다.|\n",
    "|subtract|첫 번째 배열의 원소에서 두 번째 배열의 원소를 뺀다.|\n",
    "|multiply|배열의 원소끼리 곱한다.|\n",
    "|divide, floor_divide|첫 번째 배열의 원소를 두 번째 배열의 원소로 나눈다. floor_divide는 몫만 취한다.|\n",
    "|power|첫 번째 배열의 원소를 두 번째 배열의 원소만큼 제곱한다.|\n",
    "|maximum, fmax|각 배열의 두 원소 중 큰 값을 반환한다. fmax는 NaN을 무시한다.|\n",
    "|minimum, fmin|각 배열의 두 원소 중 작은 값을 반환한다. fmin은 NaN을 무시한다.|\n",
    "|mod|첫 번째 배열의 원소를 두 번째 배열의 원소로 나눈 나머지를 구한다.|\n",
    "|copysign|첫 번째 배열의 원소의 기호를 두 번째 배열의 원소의 기호로 바꾼다.|\n",
    "|greater, greater_equal, less, less_equal, equal, not_equal|각각 두 원소 간의 >,>=,<,<=,==,!= 비교 연산 결과를 불리언 배열로 반환한다.|\n",
    "|logical_and, logical_or, logical_xor| 각각 두 원소 간의 &, \\|, ^ 논리 연산 결과를 반환한다.|\n",
    " \n",
    "    \n",
    "</div>\n",
    "</details>"
   ]
  },
  {
   "cell_type": "markdown",
   "id": "stylish-trust",
   "metadata": {},
   "source": [
    " "
   ]
  },
  {
   "cell_type": "markdown",
   "id": "fresh-petroleum",
   "metadata": {},
   "source": [
    "## 4.3 배열을 이용한 배열지향 프로그래밍"
   ]
  },
  {
   "cell_type": "markdown",
   "id": "hybrid-tongue",
   "metadata": {},
   "source": [
    "- NumPy 배열을 사용하면 반목문을 작성하지 않고 간결한 배열 연산을 사용해 많은 종류의 데이터 처리 작업을 할 수 있음\n",
    "- 벡터화 : 배열 연산을 사용해서 반복문을 명시적으로 제거하는 기법\n",
    "- 벡터화된 배열에 대한 산술 연산은 순수 파이썬 연산에 비해 엄청 빠르다."
   ]
  },
  {
   "cell_type": "markdown",
   "id": "aquatic-intranet",
   "metadata": {},
   "source": [
    "> 예) 값이 놓여 있는 그리드에서 $\\sqrt{x^2 + y^2}$을 계산한다고 하자.  \n",
    "> np.meshgrid 함수는 두 개의 1차원 배열을 받아서 가능한 모든 (x,y) 짝을 만들 수 있는 2차원 배열 두 개를 반환한다."
   ]
  },
  {
   "cell_type": "code",
   "execution_count": 14,
   "id": "orange-valuation",
   "metadata": {},
   "outputs": [],
   "source": [
    "points = np.arange(-5,5, 0.01)   # -5부터 4.99까지 0.01씩 증가하는 값들의 배열\n",
    "\n",
    "xs, ys = np.meshgrid(points, points)"
   ]
  },
  {
   "cell_type": "code",
   "execution_count": 15,
   "id": "legal-underwear",
   "metadata": {},
   "outputs": [
    {
     "name": "stdout",
     "output_type": "stream",
     "text": [
      "\n",
      "xs \n",
      "\n",
      "[[-5.   -4.99 -4.98 ...  4.97  4.98  4.99]\n",
      " [-5.   -4.99 -4.98 ...  4.97  4.98  4.99]\n",
      " [-5.   -4.99 -4.98 ...  4.97  4.98  4.99]\n",
      " ...\n",
      " [-5.   -4.99 -4.98 ...  4.97  4.98  4.99]\n",
      " [-5.   -4.99 -4.98 ...  4.97  4.98  4.99]\n",
      " [-5.   -4.99 -4.98 ...  4.97  4.98  4.99]]\n",
      "\n",
      "ys\n",
      "\n",
      "[[-5.   -5.   -5.   ... -5.   -5.   -5.  ]\n",
      " [-4.99 -4.99 -4.99 ... -4.99 -4.99 -4.99]\n",
      " [-4.98 -4.98 -4.98 ... -4.98 -4.98 -4.98]\n",
      " ...\n",
      " [ 4.97  4.97  4.97 ...  4.97  4.97  4.97]\n",
      " [ 4.98  4.98  4.98 ...  4.98  4.98  4.98]\n",
      " [ 4.99  4.99  4.99 ...  4.99  4.99  4.99]]\n"
     ]
    }
   ],
   "source": [
    "print('''\n",
    "xs \n",
    "\n",
    "{0}\n",
    "\n",
    "ys\n",
    "\n",
    "{1}'''.format(xs, ys))"
   ]
  },
  {
   "cell_type": "markdown",
   "id": "protective-surge",
   "metadata": {},
   "source": [
    "> 이제 그리드 상의 두 포인트로 간단하게 계산을 적용할 수 있다."
   ]
  },
  {
   "cell_type": "code",
   "execution_count": 16,
   "id": "sudden-insertion",
   "metadata": {},
   "outputs": [
    {
     "data": {
      "text/plain": [
       "array([[7.07106781, 7.06400028, 7.05693985, ..., 7.04988652, 7.05693985,\n",
       "        7.06400028],\n",
       "       [7.06400028, 7.05692568, 7.04985815, ..., 7.04279774, 7.04985815,\n",
       "        7.05692568],\n",
       "       [7.05693985, 7.04985815, 7.04278354, ..., 7.03571603, 7.04278354,\n",
       "        7.04985815],\n",
       "       ...,\n",
       "       [7.04988652, 7.04279774, 7.03571603, ..., 7.0286414 , 7.03571603,\n",
       "        7.04279774],\n",
       "       [7.05693985, 7.04985815, 7.04278354, ..., 7.03571603, 7.04278354,\n",
       "        7.04985815],\n",
       "       [7.06400028, 7.05692568, 7.04985815, ..., 7.04279774, 7.04985815,\n",
       "        7.05692568]])"
      ]
     },
     "execution_count": 16,
     "metadata": {},
     "output_type": "execute_result"
    }
   ],
   "source": [
    "z = np.sqrt(xs ** 2 + ys ** 2)\n",
    "z"
   ]
  },
  {
   "cell_type": "code",
   "execution_count": 17,
   "id": "commercial-vessel",
   "metadata": {},
   "outputs": [
    {
     "data": {
      "image/png": "[encoded data removed]",
      "text/plain": [
       "<Figure size 432x288 with 2 Axes>"
      ]
     },
     "metadata": {
      "needs_background": "light"
     },
     "output_type": "display_data"
    }
   ],
   "source": [
    "import matplotlib.pyplot as plt\n",
    "\n",
    "plt.imshow(z, cmap = plt.cm.gray)    # 계산된 값이 들어 있는 2차원 배열로부터 그래프 이미지를 생성하기 위해 matplotlib의 imshow를 사용.\n",
    "plt.colorbar()\n",
    "plt.title(\"Image plot of $\\sqrt{x^2 + y^2}$ for a grid of values\")\n",
    "plt.show()"
   ]
  },
  {
   "cell_type": "markdown",
   "id": "welcome-bouquet",
   "metadata": {},
   "source": [
    " "
   ]
  },
  {
   "cell_type": "markdown",
   "id": "graphic-freeware",
   "metadata": {},
   "source": [
    "### 4.3.1 배열 연산으로 조건절 표현하기"
   ]
  },
  {
   "cell_type": "markdown",
   "id": "every-marking",
   "metadata": {},
   "source": [
    "- numpy.where : x if 조건 else y 같은 삼항식의 벡터화된 버전."
   ]
  },
  {
   "cell_type": "code",
   "execution_count": 19,
   "id": "arbitrary-cooperation",
   "metadata": {},
   "outputs": [],
   "source": [
    "xarr = np.array([1.1,1.2,1.3,1.4,1.5])\n",
    "yarr = np.array([2.1,2.2,2.3,2.4,2.5])\n",
    "cond = np.array([True,False,True,True,False])"
   ]
  },
  {
   "cell_type": "markdown",
   "id": "cloudy-springer",
   "metadata": {},
   "source": [
    "> cond의 값이 true이면 xarr의 값을 취하고 아니면 yarr의 값을 취하고 싶다면 $리스트 표기법 ^{\\text{list comprehension}}$을 이용해서 다음처럼 작성할 수 있다.  \n",
    "> 하지만, 이 방법은 순수 파이썬으로 수행되기 때문에 큰 배열을 빠르게 처리하지 못한다.  \n",
    "> 또한 다차원 배열에서는 사용할 수 없다."
   ]
  },
  {
   "cell_type": "code",
   "execution_count": 20,
   "id": "hollow-heath",
   "metadata": {},
   "outputs": [
    {
     "data": {
      "text/plain": [
       "[1.1, 2.2, 1.3, 1.4, 2.5]"
      ]
     },
     "execution_count": 20,
     "metadata": {},
     "output_type": "execute_result"
    }
   ],
   "source": [
    "result = [(x if c else y)\n",
    "          for x, y, c in zip(xarr,yarr,cond)]\n",
    "result"
   ]
  },
  {
   "cell_type": "markdown",
   "id": "expired-qualification",
   "metadata": {},
   "source": [
    "> np.where 사용하면 간결하게 작성할 수 있다.  \n",
    "> 두 번째와 세 번째 인자는 배열이 아니어도 상관없다."
   ]
  },
  {
   "cell_type": "code",
   "execution_count": 21,
   "id": "allied-mongolia",
   "metadata": {},
   "outputs": [
    {
     "data": {
      "text/plain": [
       "array([1.1, 2.2, 1.3, 1.4, 2.5])"
      ]
     },
     "execution_count": 21,
     "metadata": {},
     "output_type": "execute_result"
    }
   ],
   "source": [
    "# R에서 ifelse(condition, ture-expr, false-expr)과 비슷한 듯.\n",
    "result = np.where(cond,xarr,yarr)\n",
    "result"
   ]
  },
  {
   "cell_type": "markdown",
   "id": "tutorial-tourism",
   "metadata": {},
   "source": [
    "> 임의로 생성된 데이터가 들어 있는 행렬이 있고 양수는 모두 2로, 음수는 모두 -2로 바꾸려면 np.where를 사용해서 쉽게 처리할 수 있다."
   ]
  },
  {
   "cell_type": "code",
   "execution_count": 53,
   "id": "otherwise-automation",
   "metadata": {},
   "outputs": [
    {
     "data": {
      "text/plain": [
       "array([[ 0.62366952,  0.65096018,  0.35128926, -0.3943589 ],\n",
       "       [ 1.09424784, -0.94064031, -0.76600267,  0.77379267],\n",
       "       [-0.9508469 , -0.43829238,  1.78315017,  0.53475814],\n",
       "       [-0.1199491 ,  0.1197789 ,  1.4707972 ,  0.91016491]])"
      ]
     },
     "execution_count": 53,
     "metadata": {},
     "output_type": "execute_result"
    }
   ],
   "source": [
    "arr = np.random.randn(4,4)\n",
    "arr"
   ]
  },
  {
   "cell_type": "code",
   "execution_count": 54,
   "id": "suited-resource",
   "metadata": {},
   "outputs": [
    {
     "data": {
      "text/plain": [
       "array([[ 2,  2,  2, -2],\n",
       "       [ 2, -2, -2,  2],\n",
       "       [-2, -2,  2,  2],\n",
       "       [-2,  2,  2,  2]])"
      ]
     },
     "execution_count": 54,
     "metadata": {},
     "output_type": "execute_result"
    }
   ],
   "source": [
    "np.where(arr > 0 , 2 , -2)"
   ]
  },
  {
   "cell_type": "markdown",
   "id": "urban-employment",
   "metadata": {},
   "source": [
    "> np.where를 사용할 때 스칼라 값과 배열을 조합할 수 있다. 예를 들어 arr의 모든 양수를 2로 바꿀 수 있다."
   ]
  },
  {
   "cell_type": "code",
   "execution_count": 55,
   "id": "voluntary-appearance",
   "metadata": {},
   "outputs": [
    {
     "data": {
      "text/plain": [
       "array([[ 2.        ,  2.        ,  2.        , -0.3943589 ],\n",
       "       [ 2.        , -0.94064031, -0.76600267,  2.        ],\n",
       "       [-0.9508469 , -0.43829238,  2.        ,  2.        ],\n",
       "       [-0.1199491 ,  2.        ,  2.        ,  2.        ]])"
      ]
     },
     "execution_count": 55,
     "metadata": {},
     "output_type": "execute_result"
    }
   ],
   "source": [
    "np.where(arr > 0, 2, arr)"
   ]
  },
  {
   "cell_type": "markdown",
   "id": "satisfied-edmonton",
   "metadata": {},
   "source": [
    " "
   ]
  },
  {
   "cell_type": "markdown",
   "id": "successful-feeding",
   "metadata": {},
   "source": [
    "### 4.3.2 수학 메서드와 통계 메서드"
   ]
  },
  {
   "cell_type": "markdown",
   "id": "athletic-chamber",
   "metadata": {},
   "source": [
    "#### 기본 배열 통계 메서드\n",
    "\n",
    "<details>\n",
    "<summary>기본 배열 통계 메서드</summary>\n",
    "<div markdown=\"1\">\n",
    "\n",
    "|메서드|설명|\n",
    "|:--|:--|\n",
    "|sum|배열 전체 혹은 특정 축에 대한 모든 원소의 합을 계산한다. 크기가 0인 배열에 대한 sum 결과는 0이다.|\n",
    "|mean|산술 평균을 구한다. 크기가 0인 배열에 대한 mean의 결과는 NaN이다.|\n",
    "|std, var|각각 표준편차(std)와 분산(var)을 구한다. 선택적으로 자유도를 줄 수 있으며 분모의 기본 값은 n이다.|\n",
    "|min, max|최솟값과 최댓값|\n",
    "|argmin, argmax|최소 원소의 색인값과 최대 원소의 색인값|\n",
    "|cumsum|원소의 누적합|\n",
    "|cumprod|원소의 누적곱|\n",
    " \n",
    "    \n",
    "</div>\n",
    "</details>"
   ]
  },
  {
   "cell_type": "code",
   "execution_count": 86,
   "id": "upper-tennis",
   "metadata": {},
   "outputs": [
    {
     "data": {
      "text/plain": [
       "array([[ 1.61172696,  0.6940278 ,  0.72454442, -1.49380942],\n",
       "       [-1.35733585, -2.20729911, -0.08650854,  1.18843521],\n",
       "       [-0.0857529 , -0.07946534,  0.72112769,  0.85950648],\n",
       "       [ 0.18468959,  0.05734463, -0.20919429, -0.7975721 ],\n",
       "       [-1.25248766, -1.00163355, -1.83134345, -0.53853114]])"
      ]
     },
     "execution_count": 86,
     "metadata": {},
     "output_type": "execute_result"
    }
   ],
   "source": [
    "arr = np.random.randn(5,4)\n",
    "arr"
   ]
  },
  {
   "cell_type": "markdown",
   "id": "hindu-microwave",
   "metadata": {},
   "source": [
    "> NumPy의 최상위 함수를 이용하여 계산하는 방법"
   ]
  },
  {
   "cell_type": "code",
   "execution_count": 87,
   "id": "vanilla-sphere",
   "metadata": {},
   "outputs": [
    {
     "name": "stdout",
     "output_type": "stream",
     "text": [
      "\n",
      "np.mean(arr) : -0.24497652921142565\n",
      "np.sum(arr) : -4.899530584228513\n"
     ]
    }
   ],
   "source": [
    "print('''\n",
    "np.mean(arr) : {0}\n",
    "np.sum(arr) : {1}'''.format(np.mean(arr), \\\n",
    "                            np.sum(arr)))"
   ]
  },
  {
   "cell_type": "markdown",
   "id": "elegant-corruption",
   "metadata": {},
   "source": [
    " "
   ]
  },
  {
   "cell_type": "markdown",
   "id": "honest-passage",
   "metadata": {},
   "source": [
    "> 배열의 인스턴트 메서드를 이용하여 계산하는 방법"
   ]
  },
  {
   "cell_type": "code",
   "execution_count": 88,
   "id": "engaging-removal",
   "metadata": {},
   "outputs": [
    {
     "name": "stdout",
     "output_type": "stream",
     "text": [
      "\n",
      "arr.mean() : -0.24497652921142565\n",
      "arr.sum() : -4.899530584228513\n"
     ]
    }
   ],
   "source": [
    "print('''\n",
    "arr.mean() : {0}\n",
    "arr.sum() : {1}'''.format(arr.mean(), \\\n",
    "                          arr.sum()))"
   ]
  },
  {
   "cell_type": "markdown",
   "id": "announced-surfing",
   "metadata": {},
   "source": [
    "> mean이나 sum 같은 함수는 선택적으로 axis 인자를 받아서 해당 axis에 대한 통계를 계산하고 한 차수 낮은 배열을 반환한다."
   ]
  },
  {
   "cell_type": "code",
   "execution_count": 89,
   "id": "listed-reason",
   "metadata": {},
   "outputs": [
    {
     "data": {
      "text/plain": [
       "array([[ 1.61172696,  0.6940278 ,  0.72454442, -1.49380942],\n",
       "       [-1.35733585, -2.20729911, -0.08650854,  1.18843521],\n",
       "       [-0.0857529 , -0.07946534,  0.72112769,  0.85950648],\n",
       "       [ 0.18468959,  0.05734463, -0.20919429, -0.7975721 ],\n",
       "       [-1.25248766, -1.00163355, -1.83134345, -0.53853114]])"
      ]
     },
     "execution_count": 89,
     "metadata": {},
     "output_type": "execute_result"
    }
   ],
   "source": [
    "arr"
   ]
  },
  {
   "cell_type": "code",
   "execution_count": 90,
   "id": "laughing-halloween",
   "metadata": {},
   "outputs": [
    {
     "data": {
      "text/plain": [
       "array([-0.89915986, -2.53702558, -0.68137418, -0.78197097])"
      ]
     },
     "execution_count": 90,
     "metadata": {},
     "output_type": "execute_result"
    }
   ],
   "source": [
    "# 컬럼별 합을 구하고 싶을 때 (로우 방향으로 합)\n",
    "arr.sum(axis = 0)"
   ]
  },
  {
   "cell_type": "code",
   "execution_count": 91,
   "id": "close-monster",
   "metadata": {},
   "outputs": [
    {
     "data": {
      "text/plain": [
       "array([ 0.38412244, -0.61567707,  0.35385398, -0.19118304, -1.15599895])"
      ]
     },
     "execution_count": 91,
     "metadata": {},
     "output_type": "execute_result"
    }
   ],
   "source": [
    "# 로우별 평균을 구하고 싶을 때 (컬럼 방향으로 더해서 평균)\n",
    "arr.mean(axis = 1)"
   ]
  },
  {
   "cell_type": "markdown",
   "id": "wireless-millennium",
   "metadata": {},
   "source": [
    "> cumsum과 cumprod는 메서드 중간 계산값을 담고 있는 배열을 반환함"
   ]
  },
  {
   "cell_type": "code",
   "execution_count": 94,
   "id": "rotary-blanket",
   "metadata": {},
   "outputs": [
    {
     "data": {
      "text/plain": [
       "array([[0, 1, 2],\n",
       "       [3, 4, 5],\n",
       "       [6, 7, 8]])"
      ]
     },
     "execution_count": 94,
     "metadata": {},
     "output_type": "execute_result"
    }
   ],
   "source": [
    "arr = np.array([[0,1,2],               \n",
    "                [3,4,5],\n",
    "                [6,7,8]])\n",
    "arr"
   ]
  },
  {
   "cell_type": "code",
   "execution_count": 95,
   "id": "positive-ratio",
   "metadata": {},
   "outputs": [
    {
     "data": {
      "text/plain": [
       "array([[ 0,  1,  2],\n",
       "       [ 3,  5,  7],\n",
       "       [ 9, 12, 15]], dtype=int32)"
      ]
     },
     "execution_count": 95,
     "metadata": {},
     "output_type": "execute_result"
    }
   ],
   "source": [
    "arr.cumsum(axis = 0)   # 로우 방향으로 cumsum"
   ]
  },
  {
   "cell_type": "code",
   "execution_count": 96,
   "id": "sweet-netherlands",
   "metadata": {},
   "outputs": [
    {
     "data": {
      "text/plain": [
       "array([[ 0,  1,  3],\n",
       "       [ 3,  7, 12],\n",
       "       [ 6, 13, 21]], dtype=int32)"
      ]
     },
     "execution_count": 96,
     "metadata": {},
     "output_type": "execute_result"
    }
   ],
   "source": [
    "arr.cumsum(axis = 1)    # 컬럼 방향으로 cumsum"
   ]
  },
  {
   "cell_type": "markdown",
   "id": "cooperative-benchmark",
   "metadata": {},
   "source": [
    " "
   ]
  },
  {
   "cell_type": "markdown",
   "id": "increasing-adrian",
   "metadata": {},
   "source": [
    "### 4.3.3 불리언 배열을 위한 메서드"
   ]
  },
  {
   "cell_type": "markdown",
   "id": "informational-princess",
   "metadata": {},
   "source": [
    "- 불리언값은 1(True) 또는 0(False)으로 강제할 수 있다.\n",
    "- sum 메서드를 실앻아면 불리언 배열에서 True인 원소의 개수를 셀 수 있다."
   ]
  },
  {
   "cell_type": "code",
   "execution_count": 99,
   "id": "interesting-ranch",
   "metadata": {},
   "outputs": [
    {
     "data": {
      "text/plain": [
       "54"
      ]
     },
     "execution_count": 99,
     "metadata": {},
     "output_type": "execute_result"
    }
   ],
   "source": [
    "arr = np.random.randn(100)\n",
    "\n",
    "(arr > 0).sum()    # 양수인 원소 개수"
   ]
  },
  {
   "cell_type": "markdown",
   "id": "unauthorized-charlotte",
   "metadata": {},
   "source": [
    " "
   ]
  },
  {
   "cell_type": "markdown",
   "id": "fatal-empire",
   "metadata": {},
   "source": [
    "- any와 all 메서드는 불리언 배열에 특히 유용하다.\n",
    "    - any : 하나 이상의 값이 True인지 검사\n",
    "    - all : 모든 원소가 True인지 검사"
   ]
  },
  {
   "cell_type": "code",
   "execution_count": 103,
   "id": "annoying-vessel",
   "metadata": {},
   "outputs": [
    {
     "data": {
      "text/plain": [
       "True"
      ]
     },
     "execution_count": 103,
     "metadata": {},
     "output_type": "execute_result"
    }
   ],
   "source": [
    "(arr > 0).any()"
   ]
  },
  {
   "cell_type": "code",
   "execution_count": 104,
   "id": "strange-disposition",
   "metadata": {},
   "outputs": [
    {
     "data": {
      "text/plain": [
       "False"
      ]
     },
     "execution_count": 104,
     "metadata": {},
     "output_type": "execute_result"
    }
   ],
   "source": [
    "(arr > 0).all()"
   ]
  },
  {
   "cell_type": "markdown",
   "id": "substantial-camcorder",
   "metadata": {},
   "source": [
    " "
   ]
  },
  {
   "cell_type": "markdown",
   "id": "practical-pipeline",
   "metadata": {},
   "source": [
    "### 4.3.4 정렬"
   ]
  },
  {
   "cell_type": "markdown",
   "id": "interior-saver",
   "metadata": {},
   "source": [
    "- NumPy 배열도 sort 메서드를 이용해 정리할 수 있다.\n",
    "- np.sort 메서드는 배열을 직접 변경하지 않고 정렬된 결과를 가지고 있는 복사본을 반환한다."
   ]
  },
  {
   "cell_type": "code",
   "execution_count": 109,
   "id": "published-colleague",
   "metadata": {},
   "outputs": [
    {
     "data": {
      "text/plain": [
       "array([0.3144941 , 0.27409356, 0.63239049, 0.48037301, 0.55075299,\n",
       "       0.0962134 ])"
      ]
     },
     "execution_count": 109,
     "metadata": {},
     "output_type": "execute_result"
    }
   ],
   "source": [
    "arr = np.random.rand(6)\n",
    "arr"
   ]
  },
  {
   "cell_type": "code",
   "execution_count": 110,
   "id": "touched-pleasure",
   "metadata": {},
   "outputs": [
    {
     "data": {
      "text/plain": [
       "array([0.0962134 , 0.27409356, 0.3144941 , 0.48037301, 0.55075299,\n",
       "       0.63239049])"
      ]
     },
     "execution_count": 110,
     "metadata": {},
     "output_type": "execute_result"
    }
   ],
   "source": [
    "arr.sort()\n",
    "arr"
   ]
  },
  {
   "cell_type": "markdown",
   "id": "smart-saskatchewan",
   "metadata": {},
   "source": [
    "> 다차원 배열의 정렬은 sort 메서드에 넘긴 축의 값에 따라 1차원 부분을 정렬함."
   ]
  },
  {
   "cell_type": "code",
   "execution_count": 24,
   "id": "empirical-audience",
   "metadata": {},
   "outputs": [
    {
     "data": {
      "text/plain": [
       "array([[-0.00782514,  0.86006203, -1.1197945 ],\n",
       "       [ 0.33596323, -1.60704173,  1.05236765],\n",
       "       [-0.13614696, -1.04340672,  0.76813822],\n",
       "       [ 0.12613771,  2.84593011, -0.01082351],\n",
       "       [ 2.14754717, -0.77615719, -0.1213319 ]])"
      ]
     },
     "execution_count": 24,
     "metadata": {},
     "output_type": "execute_result"
    }
   ],
   "source": [
    "arr = np.random.randn(5,3)\n",
    "arr"
   ]
  },
  {
   "cell_type": "code",
   "execution_count": 25,
   "id": "going-variety",
   "metadata": {},
   "outputs": [
    {
     "data": {
      "text/plain": [
       "array([[-1.1197945 , -0.00782514,  0.86006203],\n",
       "       [-1.60704173,  0.33596323,  1.05236765],\n",
       "       [-1.04340672, -0.13614696,  0.76813822],\n",
       "       [-0.01082351,  0.12613771,  2.84593011],\n",
       "       [-0.77615719, -0.1213319 ,  2.14754717]])"
      ]
     },
     "execution_count": 25,
     "metadata": {},
     "output_type": "execute_result"
    }
   ],
   "source": [
    "arr.sort(axis = 1)\n",
    "arr"
   ]
  },
  {
   "cell_type": "markdown",
   "id": "adopted-summary",
   "metadata": {},
   "source": [
    "> 배열의 분위수를 구하는 쉽고 빠른 방법"
   ]
  },
  {
   "cell_type": "code",
   "execution_count": 135,
   "id": "legislative-hindu",
   "metadata": {},
   "outputs": [
    {
     "data": {
      "text/plain": [
       "array([-1.66499215, -1.94995842, -1.61833718, -1.81760654, -1.67393612,\n",
       "       -1.49482558, -1.29319216, -1.51815472, -1.75554048, -1.80575383,\n",
       "       -1.5117403 , -1.84903878, -1.54633353, -1.43009981, -1.76755409,\n",
       "       -1.74958095, -1.39255381, -1.58537353, -1.50909985, -1.86706019,\n",
       "       -1.64406937, -1.54253256, -1.72092702, -1.72514231, -1.10108871,\n",
       "       -1.71698217, -1.16339776, -1.54002514, -1.48109097, -1.49230715,\n",
       "       -1.57977047, -1.53279376, -1.44524122, -1.7477734 , -1.49498581,\n",
       "       -1.39745155, -1.69828896, -1.50510456, -1.3304947 , -1.71082491,\n",
       "       -1.94131456, -1.52323408, -1.47534468, -1.47048532, -1.55980626,\n",
       "       -2.07830625, -1.33023779, -1.64777707, -1.63893581, -1.67235288,\n",
       "       -1.45162419, -1.70007302, -1.60579709, -1.42850226, -1.77035909,\n",
       "       -1.67279549, -1.61501981, -1.65182539, -1.70644166, -1.72337798,\n",
       "       -1.31226356, -1.56489072, -1.66748341, -1.60393432, -1.42503585,\n",
       "       -1.82126277, -1.47164525, -1.48799082, -1.52982004, -1.54984875,\n",
       "       -1.64766481, -1.6450463 , -1.09420962, -1.78933036, -2.02133373,\n",
       "       -1.43277815, -1.64916185, -1.92538039, -1.41838172, -1.70937096,\n",
       "       -1.35501332, -1.45579795, -1.62663213, -1.61499096, -1.35533128,\n",
       "       -1.57367494, -1.54743519, -1.73190593, -1.73248622, -1.6389675 ,\n",
       "       -1.85208238, -1.6260945 , -1.40361722, -2.07505466, -1.35300165,\n",
       "       -1.45608167, -1.62232039, -1.60085698, -1.24638242, -1.69753875])"
      ]
     },
     "execution_count": 135,
     "metadata": {},
     "output_type": "execute_result"
    }
   ],
   "source": [
    "larger_arr = np.random.randn(10000).reshape(100,100)\n",
    "larger_arr.sort(1)\n",
    "larger_arr[:, int(0.05*larger_arr.shape[1])]    # 각 row마다 5% 분위수 값 "
   ]
  },
  {
   "cell_type": "markdown",
   "id": "novel-apache",
   "metadata": {},
   "source": [
    " "
   ]
  },
  {
   "cell_type": "markdown",
   "id": "blocked-bones",
   "metadata": {},
   "source": [
    "### 4.3.5 집합 관련 함수"
   ]
  },
  {
   "cell_type": "markdown",
   "id": "serious-pricing",
   "metadata": {},
   "source": [
    "#### 배열 집합 연산\n",
    "\n",
    "<details>\n",
    "<summary>배열 집합 연산</summary>\n",
    "<div markdown=\"1\">\n",
    "\n",
    "|메서드|설명|\n",
    "|:--|:--|\n",
    "|unique(x)|배열 x에서 중복된 원소를 제거한 뒤 정렬하여 반환한다.|\n",
    "|intersect1d(x, y)|배열 x와 y에 공통적으로 존재하는 원소를 정렬하여 반환한다.|\n",
    "|union1d(x, y)|두 배열의 합집합을 반환한다.|\n",
    "|in1d(x ,y)|x의 원소가 y의 원소에 포함되는지 나타내는 불리언 배열을 반환한다.|\n",
    "|setdiff1d(x, y)|x와 y의 차집합을 반환한다.|\n",
    "|setxor1d(x, y)|한 배열에는 포함되지만 두 배열 모두에는 포함되지 않는 원소들의 집합인 대칭차집합을 반환한다.|\n",
    " \n",
    "</div>\n",
    "</details>"
   ]
  },
  {
   "cell_type": "code",
   "execution_count": 26,
   "id": "german-oakland",
   "metadata": {},
   "outputs": [
    {
     "data": {
      "text/plain": [
       "array(['Bob', 'Joe', 'Will'], dtype='<U4')"
      ]
     },
     "execution_count": 26,
     "metadata": {},
     "output_type": "execute_result"
    }
   ],
   "source": [
    "names = np.array(['Bob','Joe','Will','Bob','Will','Joe','Joe'])\n",
    "np.unique(names)"
   ]
  },
  {
   "cell_type": "code",
   "execution_count": 27,
   "id": "dense-break",
   "metadata": {},
   "outputs": [
    {
     "data": {
      "text/plain": [
       "array([1, 2, 3, 4])"
      ]
     },
     "execution_count": 27,
     "metadata": {},
     "output_type": "execute_result"
    }
   ],
   "source": [
    "ints = np.array([3,3,3,2,2,1,1,4,4])\n",
    "np.unique(ints)"
   ]
  },
  {
   "cell_type": "markdown",
   "id": "adjusted-vessel",
   "metadata": {},
   "source": [
    "> 순수 파이썬만으로 위를 구현한 경우"
   ]
  },
  {
   "cell_type": "code",
   "execution_count": 32,
   "id": "assigned-equipment",
   "metadata": {},
   "outputs": [
    {
     "name": "stdout",
     "output_type": "stream",
     "text": [
      "['Bob', 'Joe', 'Will']\n",
      "[1, 2, 3, 4]\n"
     ]
    }
   ],
   "source": [
    "print(sorted(set(names)))\n",
    "print(sorted(set(ints)))"
   ]
  },
  {
   "cell_type": "markdown",
   "id": "mounted-outline",
   "metadata": {},
   "source": [
    "> np.ind1 함수는 두 개의 배열을 인자로 받아서 첫 번째 배열에 원소가 두 번째 배열의 원소를 포함하는지를 나타내는 불리언 배열을 반환한다."
   ]
  },
  {
   "cell_type": "code",
   "execution_count": 37,
   "id": "bulgarian-cycle",
   "metadata": {},
   "outputs": [
    {
     "data": {
      "text/plain": [
       "array([[6, 0],\n",
       "       [0, 3],\n",
       "       [2, 5]])"
      ]
     },
     "execution_count": 37,
     "metadata": {},
     "output_type": "execute_result"
    }
   ],
   "source": [
    "values = np.array([6,0,0,3,2,5]).reshape((3,2))\n",
    "values"
   ]
  },
  {
   "cell_type": "code",
   "execution_count": 38,
   "id": "qualified-suggestion",
   "metadata": {},
   "outputs": [
    {
     "data": {
      "text/plain": [
       "array([ True, False, False,  True,  True, False])"
      ]
     },
     "execution_count": 38,
     "metadata": {},
     "output_type": "execute_result"
    }
   ],
   "source": [
    "np.in1d(values, [2,3,6])"
   ]
  },
  {
   "cell_type": "markdown",
   "id": "comic-manor",
   "metadata": {},
   "source": [
    " "
   ]
  },
  {
   "cell_type": "markdown",
   "id": "prescribed-proposition",
   "metadata": {},
   "source": [
    "## 4.4 배열 데이터의 파일 입출력"
   ]
  },
  {
   "cell_type": "markdown",
   "id": "straight-samuel",
   "metadata": {},
   "source": [
    "- NumPy는 디스크에서 텍스트나 바이너리 형식의 데이터를 불러오거나 저장할 수 있음.\n",
    "- 많은 사람들이 텍스트나 표 형식의 데이터는 pandas를 선호하기에 해당 교재에서는 NumPy의 내장 이진 형식만 살펴봄."
   ]
  },
  {
   "cell_type": "markdown",
   "id": "touched-graphics",
   "metadata": {},
   "source": [
    "> np.save : 배열 데이터를 효과적으로 디스크에 저장하기 위한 함수. 기본적으로 압축되지 않은 원시 바이너리 형식의 .npy 파일로 저장됨 (별도 지정 없다면 .npy 확장자 자동 추가)  \n",
    "> np.load : 배열 데이터를 효과적으로 디스크에서 불러오기 위한 함수."
   ]
  },
  {
   "cell_type": "code",
   "execution_count": 39,
   "id": "metric-chile",
   "metadata": {},
   "outputs": [],
   "source": [
    "arr = np.arange(10)\n",
    "np.save('some_array', arr)"
   ]
  },
  {
   "cell_type": "code",
   "execution_count": 40,
   "id": "developing-counter",
   "metadata": {},
   "outputs": [
    {
     "data": {
      "text/plain": [
       "array([0, 1, 2, 3, 4, 5, 6, 7, 8, 9])"
      ]
     },
     "execution_count": 40,
     "metadata": {},
     "output_type": "execute_result"
    }
   ],
   "source": [
    "np.load('some_array.npy')"
   ]
  },
  {
   "cell_type": "markdown",
   "id": "polyphonic-seafood",
   "metadata": {},
   "source": [
    "> np.savez : 여러 개의 배열을 압축된 형식으로 저장할 수 있음. 저장하려는 배열을 키워드 인자 형태로 전달.  "
   ]
  },
  {
   "cell_type": "code",
   "execution_count": 47,
   "id": "functioning-greene",
   "metadata": {},
   "outputs": [],
   "source": [
    "np.savez('array_archive.npz', a = arr, b = arr)\n",
    "\n",
    "# 압축이 잘되는 형식의 데이터라면 아래의 코드도 가능\n",
    "# np.savez_compressed('arrays_compressed.npz', a = arr, b = arr)"
   ]
  },
  {
   "cell_type": "markdown",
   "id": "protected-andrews",
   "metadata": {},
   "source": [
    "> npz 파일을 불러올 때는 각각의 배열을 필요할 때 불러올 수 있도록 `사전 형식의 객체`에 저장함"
   ]
  },
  {
   "cell_type": "code",
   "execution_count": 50,
   "id": "provincial-confidentiality",
   "metadata": {},
   "outputs": [
    {
     "data": {
      "text/plain": [
       "array([0, 1, 2, 3, 4, 5, 6, 7, 8, 9])"
      ]
     },
     "execution_count": 50,
     "metadata": {},
     "output_type": "execute_result"
    }
   ],
   "source": [
    "arch = np.load('array_archive.npz')\n",
    "arch['b']"
   ]
  },
  {
   "cell_type": "markdown",
   "id": "loose-novel",
   "metadata": {},
   "source": [
    " "
   ]
  },
  {
   "cell_type": "markdown",
   "id": "funny-handy",
   "metadata": {},
   "source": [
    "## 4.5 선형대수"
   ]
  },
  {
   "cell_type": "markdown",
   "id": "integral-brain",
   "metadata": {},
   "source": [
    "#### numpy.linalg\n",
    "- 행렬의 분할과 역행렬, 행렬식과 같은 것들을 포함\n",
    "- 매트랩, R 같은 언어에서 사용하는 표준 포트란 라이브러리인 BLAS, LAPACK 또는 $\\text{Intel MKL}^{\\text{Math Kernel Library}}$을 사용해서 구현되었다."
   ]
  },
  {
   "cell_type": "markdown",
   "id": "negative-representative",
   "metadata": {},
   "source": [
    " "
   ]
  },
  {
   "cell_type": "markdown",
   "id": "remarkable-valve",
   "metadata": {},
   "source": [
    "#### 자주 사용하는 numpy.linalg 함수\n",
    "\n",
    "<details>\n",
    "<summary>자주 사용하는 numpy.linalg 함수</summary>\n",
    "<div markdown=\"1\">\n",
    "\n",
    "|함수|설명|\n",
    "|:--|:--|\n",
    "|diag|정사각 행렬의 대각/비대각 원소를 1차원 배열로 반환하거나, 1차원 배열을 대각선 원소로 하고 나머지는 0으로 채운 단위행렬을 반환한다.|\n",
    "|dot|행렬 곱셈|\n",
    "|trace|행렬의 대각선 원소의 합을 계산한다.|\n",
    "|det|행렬식을 계산한다.|\n",
    "|eig|정사각 행렬의 고윳값과 고유벡터를 계산한다.|\n",
    "|inv|정사각 행렬의 역행렬을 계산한다.|\n",
    "|pinv|정사각 행렬의 무어-펜로즈 유사역원 역행렬을 구한다.|\n",
    "|qr|QR 분해를 계산한다.|\n",
    "|svd|특잇값 분해(SVD)를 계산한다.|\n",
    "|solve|A가 정사각 행렬일 때 Ax = b를 만족하는 x를 구한다.|\n",
    "|lstsq|Ax = b를 만족하는 최소제곱해를 구한다.|\n",
    "</div>\n",
    "</details>"
   ]
  },
  {
   "cell_type": "markdown",
   "id": "august-shoulder",
   "metadata": {},
   "source": [
    " "
   ]
  },
  {
   "cell_type": "markdown",
   "id": "alien-antenna",
   "metadata": {},
   "source": [
    "> 행렬의 곱"
   ]
  },
  {
   "cell_type": "code",
   "execution_count": 53,
   "id": "adverse-language",
   "metadata": {},
   "outputs": [],
   "source": [
    "x = np.array([[1.,2.,3.],\n",
    "              [4.,5.,6.]])\n",
    "y = np.array([[6.,23.],\n",
    "              [-1,7],\n",
    "              [8,9]])"
   ]
  },
  {
   "cell_type": "code",
   "execution_count": 66,
   "id": "becoming-turtle",
   "metadata": {},
   "outputs": [
    {
     "name": "stdout",
     "output_type": "stream",
     "text": [
      "\n",
      "np.dot(x,y) \n",
      "[[ 28.  64.]\n",
      " [ 67. 181.]] \n",
      "\n",
      "x.dot(y)\n",
      "[[ 28.  64.]\n",
      " [ 67. 181.]] \n",
      "\n",
      "x @ y\n",
      "[[ 28.  64.]\n",
      " [ 67. 181.]]\n"
     ]
    }
   ],
   "source": [
    "# np.dot(x,y) | x.dot(y) | x @ y   : 세 연산 모두 같은 값을 반환함\n",
    "\n",
    "print('''\n",
    "np.dot(x,y) \n",
    "{0} \\n\n",
    "x.dot(y)\n",
    "{1} \\n\n",
    "x @ y\n",
    "{2}'''.format(np.dot(x,y), \\\n",
    "                      x.dot(y), \\\n",
    "                      x @ y))"
   ]
  },
  {
   "cell_type": "markdown",
   "id": "overall-condition",
   "metadata": {},
   "source": [
    " "
   ]
  },
  {
   "cell_type": "markdown",
   "id": "returning-dover",
   "metadata": {},
   "source": [
    "> numpy.linalg 사용 예제"
   ]
  },
  {
   "cell_type": "code",
   "execution_count": 192,
   "id": "sudden-roberts",
   "metadata": {},
   "outputs": [],
   "source": [
    "from numpy.linalg import inv, qr\n",
    "\n",
    "X = np.random.randn(5,5)"
   ]
  },
  {
   "cell_type": "code",
   "execution_count": 193,
   "id": "empirical-likelihood",
   "metadata": {},
   "outputs": [],
   "source": [
    "# X의 전치행렬과 X의 곱 계산\n",
    "mat = X.T.dot(X)\n",
    "# mat = np.dot(X.T, X)\n",
    "# mat = X.T @ X"
   ]
  },
  {
   "cell_type": "code",
   "execution_count": 194,
   "id": "ideal-sodium",
   "metadata": {},
   "outputs": [],
   "source": [
    "# mat의 역행렬을 구하고 mat과 곱하여 단위행렬 반환\n",
    "inv_mat = inv(mat)"
   ]
  },
  {
   "cell_type": "code",
   "execution_count": 196,
   "id": "integral-amsterdam",
   "metadata": {},
   "outputs": [
    {
     "data": {
      "text/plain": [
       "array([[ 1.00000000e+00, -5.34697393e-15, -3.12437198e-15,\n",
       "        -3.20531745e-16,  2.03825850e-14],\n",
       "       [-1.27418648e-14,  1.00000000e+00, -3.11029216e-15,\n",
       "        -1.62672226e-14, -7.12128567e-16],\n",
       "       [ 1.24414818e-14,  1.40008380e-15,  1.00000000e+00,\n",
       "         4.90951216e-14, -2.86787523e-14],\n",
       "       [ 1.74801607e-14, -7.34581955e-15,  5.20986699e-14,\n",
       "         1.00000000e+00, -9.88207293e-14],\n",
       "       [ 6.08817669e-14,  7.78722001e-15,  5.72729398e-14,\n",
       "         3.54842593e-14,  1.00000000e+00]])"
      ]
     },
     "execution_count": 196,
     "metadata": {},
     "output_type": "execute_result"
    }
   ],
   "source": [
    "mat.dot(inv_mat)"
   ]
  },
  {
   "cell_type": "markdown",
   "id": "silent-hypothetical",
   "metadata": {},
   "source": [
    "> Q, R 분해"
   ]
  },
  {
   "cell_type": "code",
   "execution_count": 189,
   "id": "pretty-variation",
   "metadata": {},
   "outputs": [],
   "source": [
    "q, r = qr(mat)"
   ]
  },
  {
   "cell_type": "code",
   "execution_count": 191,
   "id": "empty-serbia",
   "metadata": {},
   "outputs": [
    {
     "name": "stdout",
     "output_type": "stream",
     "text": [
      "\n",
      "q \n",
      "[[-0.72238087 -0.20930703 -0.08000971  0.44926113  0.47552006]\n",
      " [ 0.44773909 -0.77770171 -0.32902111 -0.01194813  0.29378921]\n",
      " [ 0.21356568  0.45908586 -0.06566408 -0.30523063  0.80383603]\n",
      " [-0.35999686  0.05496075 -0.76778132 -0.49333125 -0.18578938]\n",
      " [-0.32013676 -0.37093139  0.53994779 -0.67932335  0.08305732]] \n",
      "\n",
      "r\n",
      "[[-3.08105705  4.42688843 -0.20552846 -3.61355831 -5.33031071]\n",
      " [ 0.         -8.68766719  4.40256957  2.24737549 -8.26186659]\n",
      " [ 0.          0.         -1.43746181 -3.82655017  7.40542846]\n",
      " [ 0.          0.          0.         -2.97591779 -9.23981998]\n",
      " [ 0.          0.          0.          0.          0.3158154 ]]\n"
     ]
    }
   ],
   "source": [
    "print('''\n",
    "q \n",
    "{0} \\n\n",
    "r\n",
    "{1}'''.format(q, r))"
   ]
  },
  {
   "cell_type": "markdown",
   "id": "typical-marble",
   "metadata": {},
   "source": [
    " "
   ]
  },
  {
   "cell_type": "markdown",
   "id": "opened-grounds",
   "metadata": {},
   "source": [
    "## 4.6 난수 생성"
   ]
  },
  {
   "cell_type": "markdown",
   "id": "found-teddy",
   "metadata": {},
   "source": [
    "- numpy.random 모듈은 파이썬 내장 random 함수를 보강하여 다양한 종류의 확률분포로부터 효괒거으로 표본값을 생성하는데 주로 사용\n",
    "- 난수 생성기의 `시드값`에 따라 정해진 난수를 알고리즘으로 생성하기 때문에 `유사 난수`라고 부른다.\n",
    "- 파이썬 내장 random 모듈은 한 번에 하나의 값만 생성할 수 있으므로 numpy.random은 매우 큰 표본을 생성하는데 파이썬 내장 모듈보다 수십 배 이상 빠르다."
   ]
  },
  {
   "cell_type": "code",
   "execution_count": 8,
   "id": "educational-factory",
   "metadata": {},
   "outputs": [],
   "source": [
    "# 아래 코드로 seed number를 정할 수 있다.\n",
    "np.random.seed(1234)"
   ]
  },
  {
   "cell_type": "code",
   "execution_count": 10,
   "id": "dynamic-charles",
   "metadata": {},
   "outputs": [],
   "source": [
    "import numpy as np\n",
    "from random import normalvariate\n",
    "\n",
    "N = 1000000"
   ]
  },
  {
   "cell_type": "code",
   "execution_count": 11,
   "id": "faced-toilet",
   "metadata": {},
   "outputs": [
    {
     "name": "stdout",
     "output_type": "stream",
     "text": [
      "611 ms ± 29 ms per loop (mean ± std. dev. of 7 runs, 1 loop each)\n"
     ]
    }
   ],
   "source": [
    "%timeit samples = [normalvariate(0,1) for _ in range(N)]"
   ]
  },
  {
   "cell_type": "code",
   "execution_count": 12,
   "id": "athletic-still",
   "metadata": {},
   "outputs": [
    {
     "name": "stdout",
     "output_type": "stream",
     "text": [
      "25.7 ms ± 476 µs per loop (mean ± std. dev. of 7 runs, 10 loops each)\n"
     ]
    }
   ],
   "source": [
    "%timeit np.random.normal(size = N)"
   ]
  },
  {
   "cell_type": "markdown",
   "id": "powered-library",
   "metadata": {},
   "source": [
    " "
   ]
  },
  {
   "cell_type": "markdown",
   "id": "dried-quebec",
   "metadata": {},
   "source": [
    "#### 일부 numpy.random 함수\n",
    "\n",
    "<details>\n",
    "<summary>일부 numpy.random 함수</summary>\n",
    "<div markdown=\"1\">\n",
    "\n",
    "|함수|설명|\n",
    "|:--|:--|\n",
    "|seed|난수 생성기의 시드를 저장한다.|\n",
    "|permutation|순서를 임의로 바꾸거나 임의의 순열을 반환한다.|\n",
    "|shuffle|리스트나 배열의 순서를 뒤섞는다.|\n",
    "|rand|균등분포에서 표본을 추출한다.|\n",
    "|randint|주어진 최소/최대 범위 안에서 임의의 난수를 추출한다.|\n",
    "|randn|표준편차가 1이고 평균값이 0인 정규분포(매트랩과 같은 방식)에서 표본을 추출한다.|\n",
    "|binomial|이항분포에서 표본을 추출한다.|\n",
    "|normal|정규분포 (가우시안)에서 표본을 추출한다.|\n",
    "|beta|베타분포에서 표본을 추출한다.|\n",
    "|chisquare|카이제곱분포에서 표본을 추출한다.|\n",
    "|gamma|감마분포에서 표본을 추출한다.|\n",
    "|uniform|균등 [0,1) 분포에서 표본을 추출한다.|\n",
    "    \n",
    "</div>\n",
    "</details>"
   ]
  },
  {
   "cell_type": "markdown",
   "id": "independent-sample",
   "metadata": {},
   "source": [
    " "
   ]
  },
  {
   "cell_type": "markdown",
   "id": "fabulous-feeling",
   "metadata": {},
   "source": [
    "## 4.7 계단 오르내리기 예제"
   ]
  },
  {
   "cell_type": "markdown",
   "id": "important-nebraska",
   "metadata": {},
   "source": [
    "- 계단 오르내리기 예제는 배열 연산의 활용을 보여줄 수 있는 간단한 어플리케이션.\n",
    "- 계단 중간에서 같은 확률로 한 계단 올라가거나 내려간다고 가정하자."
   ]
  },
  {
   "cell_type": "markdown",
   "id": "focused-fifth",
   "metadata": {},
   "source": [
    "> 순수 파이썬 내장 random 모듈을 사용하여 계단 오르내리기 1,000번 수행하는 코드"
   ]
  },
  {
   "cell_type": "code",
   "execution_count": 131,
   "id": "postal-respondent",
   "metadata": {},
   "outputs": [
    {
     "data": {
      "image/png": "[encoded data removed]",
      "text/plain": [
       "<Figure size 432x288 with 1 Axes>"
      ]
     },
     "metadata": {
      "needs_background": "light"
     },
     "output_type": "display_data"
    }
   ],
   "source": [
    "import random\n",
    "import matplotlib.pyplot as plt\n",
    "\n",
    "position = 0 \n",
    "walk = [position]\n",
    "steps = 1000\n",
    "for i in range(steps) :\n",
    "    step = 1 if random.randint(0,1) else -1\n",
    "    position += step\n",
    "    walk.append(position)\n",
    "    \n",
    "plt.plot(walk[:100])\n",
    "plt.show()"
   ]
  },
  {
   "cell_type": "markdown",
   "id": "eight-discount",
   "metadata": {},
   "source": [
    "> np.random 모듈을 사용해서 계단 오르내리기 1,000번 수행하는 코드"
   ]
  },
  {
   "cell_type": "code",
   "execution_count": 137,
   "id": "variable-honolulu",
   "metadata": {},
   "outputs": [
    {
     "data": {
      "image/png": "[encoded data removed]",
      "text/plain": [
       "<Figure size 432x288 with 1 Axes>"
      ]
     },
     "metadata": {
      "needs_background": "light"
     },
     "output_type": "display_data"
    }
   ],
   "source": [
    "import numpy as np\n",
    "\n",
    "nsteps = 1000\n",
    "draws = np.random.randint(0,2, size = nsteps)\n",
    "steps = np.where(draws > 0 , 1 , -1)\n",
    "walk = steps.cumsum()\n",
    "\n",
    "plt.plot(walk[:100])\n",
    "plt.show()"
   ]
  },
  {
   "cell_type": "markdown",
   "id": "touched-pearl",
   "metadata": {},
   "source": [
    " "
   ]
  },
  {
   "cell_type": "markdown",
   "id": "opening-people",
   "metadata": {},
   "source": [
    "### 4.7.1 한 번에 시뮬레이션하기"
   ]
  },
  {
   "cell_type": "markdown",
   "id": "associate-capital",
   "metadata": {},
   "source": [
    "- 계단 오르내리기를 많은 횟수 시뮬레이션하더라도 위 코드를 조금만 수정해서 해결할 수 있다.\n",
    "- numpy.random 함수에 `크기가 2인 튜플`을 넘기면 `2차원 배열`이 생성되고 각 컬럽에서 누적합을 구해 5,000회의 시뮬레이션을 한 방에 처리할 수 있다."
   ]
  },
  {
   "cell_type": "code",
   "execution_count": 140,
   "id": "favorite-picnic",
   "metadata": {},
   "outputs": [
    {
     "data": {
      "text/plain": [
       "array([[1, 0, 1, ..., 1, 0, 1],\n",
       "       [1, 0, 0, ..., 0, 0, 1],\n",
       "       [0, 0, 0, ..., 0, 1, 1],\n",
       "       ...,\n",
       "       [1, 0, 0, ..., 1, 1, 0],\n",
       "       [1, 1, 1, ..., 0, 1, 0],\n",
       "       [1, 0, 0, ..., 0, 0, 1]])"
      ]
     },
     "execution_count": 140,
     "metadata": {},
     "output_type": "execute_result"
    }
   ],
   "source": [
    "nwalks = 5000\n",
    "nsteps = 1000\n",
    "\n",
    "draws = np.random.randint(0,2,size = (nwalks, nsteps))\n",
    "draws"
   ]
  },
  {
   "cell_type": "code",
   "execution_count": 141,
   "id": "surprising-transition",
   "metadata": {},
   "outputs": [
    {
     "data": {
      "text/plain": [
       "(5000, 1000)"
      ]
     },
     "execution_count": 141,
     "metadata": {},
     "output_type": "execute_result"
    }
   ],
   "source": [
    "draws.shape"
   ]
  },
  {
   "cell_type": "code",
   "execution_count": 144,
   "id": "appointed-dressing",
   "metadata": {},
   "outputs": [
    {
     "data": {
      "text/plain": [
       "array([[  1,   0,   1, ..., -24, -25, -24],\n",
       "       [  1,   0,  -1, ...,  22,  21,  22],\n",
       "       [ -1,  -2,  -3, ...,  20,  21,  22],\n",
       "       ...,\n",
       "       [  1,   0,  -1, ...,  10,  11,  10],\n",
       "       [  1,   2,   3, ...,  -4,  -3,  -4],\n",
       "       [  1,   0,  -1, ...,   8,   7,   8]], dtype=int32)"
      ]
     },
     "execution_count": 144,
     "metadata": {},
     "output_type": "execute_result"
    }
   ],
   "source": [
    "steps = np.where(draws > 0, 1, -1)\n",
    "walks = steps.cumsum(1)\n",
    "walks"
   ]
  },
  {
   "cell_type": "code",
   "execution_count": 145,
   "id": "higher-analyst",
   "metadata": {},
   "outputs": [
    {
     "name": "stdout",
     "output_type": "stream",
     "text": [
      "\n",
      "maximum of all simulations : 124\n",
      "minimum of all simulations : -132\n",
      "\n"
     ]
    }
   ],
   "source": [
    "# 모든 시뮬레이션에 대해 최댓값 및 최솟값 구하기.\n",
    "print('''\n",
    "maximum of all simulations : {0}\n",
    "minimum of all simulations : {1}\n",
    "'''.format(walks.max(), \\\n",
    "           walks.min()))"
   ]
  },
  {
   "cell_type": "markdown",
   "id": "plain-bangladesh",
   "metadata": {},
   "source": [
    "> 5,000 번의 시뮬레이션 중 누적합이 30 혹은 -30이 되는 최소 시점을 계산해보기."
   ]
  },
  {
   "cell_type": "code",
   "execution_count": 153,
   "id": "checked-nebraska",
   "metadata": {},
   "outputs": [
    {
     "data": {
      "text/plain": [
       "3408"
      ]
     },
     "execution_count": 153,
     "metadata": {},
     "output_type": "execute_result"
    }
   ],
   "source": [
    "hits30 = (np.abs(walks) >= 30).any(1)\n",
    "hits30.sum()         # 총 5,000번 중 누적합이 30혹은 -30이 최소 한 번 있는 경우는 3,408회 "
   ]
  },
  {
   "cell_type": "code",
   "execution_count": 156,
   "id": "faced-prototype",
   "metadata": {},
   "outputs": [
    {
     "data": {
      "text/plain": [
       "(3408,)"
      ]
     },
     "execution_count": 156,
     "metadata": {},
     "output_type": "execute_result"
    }
   ],
   "source": [
    "# 불리언 배열을 사용하여 walks 에서 먼저 컬럼을 선택하고 절댓값이 30을 넘는 경우에 대해 축 1의 argmax 값을 구하면 처음 위치에서 30칸 이상 멀어지는 최소 횟수를 구할 수 있다.\n",
    "crossing_times = (np.abs(walks[hits30]) >= 30).argmax(1)\n",
    "crossing_times.shape"
   ]
  },
  {
   "cell_type": "code",
   "execution_count": 157,
   "id": "realistic-naples",
   "metadata": {},
   "outputs": [
    {
     "data": {
      "text/plain": [
       "array([697, 395, 479, ..., 489, 759, 749], dtype=int64)"
      ]
     },
     "execution_count": 157,
     "metadata": {},
     "output_type": "execute_result"
    }
   ],
   "source": [
    "crossing_times"
   ]
  },
  {
   "cell_type": "code",
   "execution_count": 158,
   "id": "checked-setting",
   "metadata": {},
   "outputs": [
    {
     "data": {
      "text/plain": [
       "498.23708920187795"
      ]
     },
     "execution_count": 158,
     "metadata": {},
     "output_type": "execute_result"
    }
   ],
   "source": [
    "crossing_times.mean()"
   ]
  },
  {
   "cell_type": "markdown",
   "id": "unauthorized-zimbabwe",
   "metadata": {},
   "source": [
    "> 정규분포에서 표본을 추출하여 계단 오르내리기 시뮬레이션 "
   ]
  },
  {
   "cell_type": "code",
   "execution_count": 176,
   "id": "comic-fighter",
   "metadata": {},
   "outputs": [
    {
     "data": {
      "image/png": "[encoded data removed]",
      "text/plain": [
       "<Figure size 432x288 with 1 Axes>"
      ]
     },
     "metadata": {
      "needs_background": "light"
     },
     "output_type": "display_data"
    }
   ],
   "source": [
    "nsteps = 1000\n",
    "draws = np.random.normal(loc = 0, scale = 1, size = nsteps)\n",
    "walk = draws.cumsum()\n",
    "\n",
    "plt.plot(walk)\n",
    "plt.show()"
   ]
  },
  {
   "cell_type": "code",
   "execution_count": 177,
   "id": "juvenile-contributor",
   "metadata": {},
   "outputs": [
    {
     "data": {
      "text/plain": [
       "array([[ 6.48774856e-01,  6.34274049e-01,  6.18910793e-01, ...,\n",
       "        -2.80031065e+01, -2.88505727e+01, -2.85127409e+01],\n",
       "       [ 2.51803668e-02,  8.00747758e-02,  3.83827830e-01, ...,\n",
       "         3.51767444e+00,  4.77306863e+00,  5.43165658e+00],\n",
       "       [-5.38501077e-01,  1.62263276e+00,  2.49813329e+00, ...,\n",
       "         5.71446665e+01,  5.75685046e+01,  5.70695213e+01],\n",
       "       ...,\n",
       "       [ 1.10519266e+00,  5.39966155e-01,  6.81167864e-01, ...,\n",
       "         2.15393654e+01,  2.14521409e+01,  2.12770416e+01],\n",
       "       [-6.79693509e-01, -4.75734175e-02,  4.57587506e-01, ...,\n",
       "         2.20410050e+01,  2.24108545e+01,  2.42898851e+01],\n",
       "       [-6.98828593e-01,  1.90052469e-01, -3.84877677e-01, ...,\n",
       "        -5.35839136e+01, -5.30971518e+01, -5.22994607e+01]])"
      ]
     },
     "execution_count": 177,
     "metadata": {},
     "output_type": "execute_result"
    }
   ],
   "source": [
    "nwalks = 5000\n",
    "nsteps = 1000\n",
    "\n",
    "draws = np.random.normal(loc = 0, scale = 1, size = (nwalks,nsteps))\n",
    "walks = draws.cumsum(1)\n",
    "walks"
   ]
  },
  {
   "cell_type": "code",
   "execution_count": 178,
   "id": "documented-conditioning",
   "metadata": {},
   "outputs": [
    {
     "data": {
      "text/plain": [
       "1677"
      ]
     },
     "execution_count": 178,
     "metadata": {},
     "output_type": "execute_result"
    }
   ],
   "source": [
    "hits30 = np.abs(walks >= 30).any(1)\n",
    "hits30.sum()"
   ]
  },
  {
   "cell_type": "code",
   "execution_count": 179,
   "id": "automatic-district",
   "metadata": {},
   "outputs": [
    {
     "data": {
      "text/plain": [
       "515.6010733452594"
      ]
     },
     "execution_count": 179,
     "metadata": {},
     "output_type": "execute_result"
    }
   ],
   "source": [
    "crossing_times = np.abs(walks[hits30] >= 30).argmax(1)\n",
    "crossing_times.mean()"
   ]
  }
 ],
 "metadata": {
  "kernelspec": {
   "display_name": "Python 3",
   "language": "python",
   "name": "python3"
  },
  "language_info": {
   "codemirror_mode": {
    "name": "ipython",
    "version": 3
   },
   "file_extension": ".py",
   "mimetype": "text/x-python",
   "name": "python",
   "nbconvert_exporter": "python",
   "pygments_lexer": "ipython3",
   "version": "3.8.10"
  }
 },
 "nbformat": 4,
 "nbformat_minor": 5
}
