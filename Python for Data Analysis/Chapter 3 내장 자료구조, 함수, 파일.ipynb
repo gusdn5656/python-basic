{
 "cells": [
  {
   "cell_type": "markdown",
   "id": "temporal-dayton",
   "metadata": {},
   "source": [
    "# Chapter 3 내장 자료구조, 함수, 파일"
   ]
  },
  {
   "cell_type": "markdown",
   "id": "narrow-court",
   "metadata": {},
   "source": [
    "## 3.1 자료구조와 순차 자료형"
   ]
  },
  {
   "cell_type": "markdown",
   "id": "agricultural-rolling",
   "metadata": {},
   "source": [
    " "
   ]
  },
  {
   "cell_type": "markdown",
   "id": "individual-repeat",
   "metadata": {},
   "source": [
    "### 3.1.1 튜플"
   ]
  },
  {
   "cell_type": "markdown",
   "id": "mathematical-enlargement",
   "metadata": {},
   "source": [
    " "
   ]
  },
  {
   "cell_type": "markdown",
   "id": "indirect-corruption",
   "metadata": {},
   "source": [
    "#### 튜플 정의하기"
   ]
  },
  {
   "cell_type": "markdown",
   "id": "advised-richmond",
   "metadata": {},
   "source": [
    "- 튜플은 1차원의 고정된 크기를 가지는 `변경 불가능`한 순차 자료형"
   ]
  },
  {
   "cell_type": "code",
   "execution_count": 1,
   "id": "certain-ranch",
   "metadata": {},
   "outputs": [],
   "source": [
    "# 튜플을 정의하는 방법들 \n",
    "tup = 4, 5, 6\n",
    "nested_tup = (4,5,6), (7,8)\n",
    "tup2 = tuple([4,5,6])\n",
    "tup_string = tuple('string')"
   ]
  },
  {
   "cell_type": "code",
   "execution_count": 2,
   "id": "pointed-soundtrack",
   "metadata": {},
   "outputs": [
    {
     "name": "stdout",
     "output_type": "stream",
     "text": [
      "\n",
      "tup : (4, 5, 6)\n",
      "nested_tup : ((4, 5, 6), (7, 8))\n",
      "tup2 : (4, 5, 6)\n",
      "tup_string ('s', 't', 'r', 'i', 'n', 'g')\n"
     ]
    }
   ],
   "source": [
    "print('''\n",
    "tup : {0}\n",
    "nested_tup : {1}\n",
    "tup2 : {2}\n",
    "tup_string {3}'''.format(tup \\\n",
    "                        , nested_tup \\\n",
    "                        , tup2 \\\n",
    "                        , tup_string))"
   ]
  },
  {
   "cell_type": "markdown",
   "id": "medieval-parallel",
   "metadata": {},
   "source": [
    " "
   ]
  },
  {
   "cell_type": "markdown",
   "id": "sunrise-column",
   "metadata": {},
   "source": [
    "- 튜플은 변경 불가능하다."
   ]
  },
  {
   "cell_type": "code",
   "execution_count": 3,
   "id": "seventh-government",
   "metadata": {},
   "outputs": [
    {
     "ename": "TypeError",
     "evalue": "'tuple' object does not support item assignment",
     "output_type": "error",
     "traceback": [
      "\u001b[1;31m---------------------------------------------------------------------------\u001b[0m",
      "\u001b[1;31mTypeError\u001b[0m                                 Traceback (most recent call last)",
      "\u001b[1;32m<ipython-input-3-d6bcb609237e>\u001b[0m in \u001b[0;36m<module>\u001b[1;34m\u001b[0m\n\u001b[0;32m      1\u001b[0m \u001b[0mtup\u001b[0m \u001b[1;33m=\u001b[0m \u001b[0mtuple\u001b[0m\u001b[1;33m(\u001b[0m\u001b[1;33m[\u001b[0m\u001b[1;34m'foo'\u001b[0m\u001b[1;33m,\u001b[0m\u001b[1;33m[\u001b[0m\u001b[1;36m1\u001b[0m\u001b[1;33m,\u001b[0m\u001b[1;36m2\u001b[0m\u001b[1;33m]\u001b[0m\u001b[1;33m,\u001b[0m\u001b[1;32mTrue\u001b[0m\u001b[1;33m]\u001b[0m\u001b[1;33m)\u001b[0m\u001b[1;33m\u001b[0m\u001b[1;33m\u001b[0m\u001b[0m\n\u001b[1;32m----> 2\u001b[1;33m \u001b[0mtup\u001b[0m\u001b[1;33m[\u001b[0m\u001b[1;36m2\u001b[0m\u001b[1;33m]\u001b[0m \u001b[1;33m=\u001b[0m \u001b[1;32mFalse\u001b[0m\u001b[1;33m\u001b[0m\u001b[1;33m\u001b[0m\u001b[0m\n\u001b[0m",
      "\u001b[1;31mTypeError\u001b[0m: 'tuple' object does not support item assignment"
     ]
    }
   ],
   "source": [
    "tup = tuple(['foo',[1,2],True])\n",
    "tup[2] = False"
   ]
  },
  {
   "cell_type": "markdown",
   "id": "transparent-robin",
   "metadata": {},
   "source": [
    " \n"
   ]
  },
  {
   "cell_type": "markdown",
   "id": "facial-meeting",
   "metadata": {},
   "source": [
    "- 튜플 내 저장된 객체는 그 위치에서 바로 변경이 가능하다"
   ]
  },
  {
   "cell_type": "code",
   "execution_count": 4,
   "id": "controlling-isaac",
   "metadata": {},
   "outputs": [
    {
     "name": "stdout",
     "output_type": "stream",
     "text": [
      "tup : ('foo', [1, 2], True)\n",
      "tup : ('foo', [1, 2, 3], True)\n"
     ]
    }
   ],
   "source": [
    "print('tup : {0}'.format(tup))\n",
    "\n",
    "tup[1].append(3)\n",
    "print('tup : {0}'.format(tup))"
   ]
  },
  {
   "cell_type": "markdown",
   "id": "constitutional-median",
   "metadata": {},
   "source": [
    " "
   ]
  },
  {
   "cell_type": "markdown",
   "id": "vocal-simpson",
   "metadata": {},
   "source": [
    "#### 튜플에서 값 분리하기"
   ]
  },
  {
   "cell_type": "markdown",
   "id": "needed-planning",
   "metadata": {},
   "source": [
    " "
   ]
  },
  {
   "cell_type": "markdown",
   "id": "equipped-wisdom",
   "metadata": {},
   "source": [
    "- 튜플과 _같은 표현_ 의 변수에 튜플을 `대입`하면 파이썬은 등호(=) 오른쪽에 있는 변수에서 값을 `분리`한다."
   ]
  },
  {
   "cell_type": "code",
   "execution_count": 14,
   "id": "suited-reducing",
   "metadata": {},
   "outputs": [
    {
     "name": "stdout",
     "output_type": "stream",
     "text": [
      "\n",
      "a : 4\n",
      "b : 5\n",
      "c : 6\n",
      "d : 7\n",
      "\n"
     ]
    }
   ],
   "source": [
    "tup = 4,5,(6,7)\n",
    "a,b,(c,d) = tup\n",
    "\n",
    "print('''\n",
    "a : {0}\n",
    "b : {1}\n",
    "c : {2}\n",
    "d : {3}\n",
    "'''.format(a,b,c,d))"
   ]
  },
  {
   "cell_type": "markdown",
   "id": "superb-trace",
   "metadata": {},
   "source": [
    " "
   ]
  },
  {
   "cell_type": "markdown",
   "id": "subjective-turkey",
   "metadata": {},
   "source": [
    "- 튜플이나 리스트를 순회할 때도 흔히 이 기능을 활용한다."
   ]
  },
  {
   "cell_type": "code",
   "execution_count": 15,
   "id": "political-hudson",
   "metadata": {},
   "outputs": [
    {
     "name": "stdout",
     "output_type": "stream",
     "text": [
      "a = 1, b = 2, c = 3\n",
      "a = 4, b = 5, c = 6\n",
      "a = 7, b = 8, c = 9\n"
     ]
    }
   ],
   "source": [
    "seq = [(1,2,3),(4,5,6),(7,8,9)]\n",
    "\n",
    "for a, b, c in seq:\n",
    "        print('a = {0}, b = {1}, c = {2}'.format(a,b,c))"
   ]
  },
  {
   "cell_type": "markdown",
   "id": "legislative-greeting",
   "metadata": {},
   "source": [
    " "
   ]
  },
  {
   "cell_type": "markdown",
   "id": "disciplinary-output",
   "metadata": {},
   "source": [
    "- *rest, *_ : 처음 몇몇 값만 '끄집어내야' 하는 상황에서 사용"
   ]
  },
  {
   "cell_type": "code",
   "execution_count": 17,
   "id": "conventional-material",
   "metadata": {},
   "outputs": [
    {
     "name": "stdout",
     "output_type": "stream",
     "text": [
      "\n",
      "a = 1, b = 2, rest = [3, 4, 5]\n",
      "d = 1, e = 2, _ = [3, 4, 5]\n"
     ]
    }
   ],
   "source": [
    "values = 1,2,3,4,5\n",
    "\n",
    "a, b, *rest = values\n",
    "d, e, *_ = values\n",
    "\n",
    "print('''\n",
    "a = {0}, b = {1}, rest = {2}\n",
    "d = {3}, e = {4}, _ = {5}'''.format(a,b,rest,d,e,_))"
   ]
  },
  {
   "cell_type": "markdown",
   "id": "animated-strategy",
   "metadata": {},
   "source": [
    " "
   ]
  },
  {
   "cell_type": "markdown",
   "id": "lucky-provision",
   "metadata": {},
   "source": [
    "#### 튜플 메서드"
   ]
  },
  {
   "cell_type": "markdown",
   "id": "thick-chambers",
   "metadata": {},
   "source": [
    " "
   ]
  },
  {
   "cell_type": "markdown",
   "id": "shaped-indianapolis",
   "metadata": {},
   "source": [
    "- 튜플은 크기와 내용이 변경 불가능하므로 인스턴스 메서드가 많지 않음\n",
    "- tuple.count(value) : 주어진 value가 몇 개 있는 지 반환하는 메서드"
   ]
  },
  {
   "cell_type": "code",
   "execution_count": 20,
   "id": "affected-passion",
   "metadata": {},
   "outputs": [
    {
     "data": {
      "text/plain": [
       "4"
      ]
     },
     "execution_count": 20,
     "metadata": {},
     "output_type": "execute_result"
    }
   ],
   "source": [
    "a = (1,2,2,2,3,4,2)\n",
    "a.count(2)"
   ]
  },
  {
   "cell_type": "markdown",
   "id": "fluid-sally",
   "metadata": {},
   "source": [
    " "
   ]
  },
  {
   "cell_type": "markdown",
   "id": "stable-march",
   "metadata": {},
   "source": [
    "### 3.1.2 리스트"
   ]
  },
  {
   "cell_type": "markdown",
   "id": "editorial-portsmouth",
   "metadata": {},
   "source": [
    "- 튜플과는 대조적으로 리스트는 크기나 내용의 변경이 가능하다. \n",
    "- 리스트는 대괄호 [ ]나 list 함수를 사용해서 생성할 수 있다."
   ]
  },
  {
   "cell_type": "code",
   "execution_count": 52,
   "id": "valuable-ribbon",
   "metadata": {},
   "outputs": [
    {
     "name": "stdout",
     "output_type": "stream",
     "text": [
      "[2, 3, 7, None]\n",
      "['foo', 'bar', 'baz']\n",
      "['foo', 'peekaboo', 'baz']\n"
     ]
    }
   ],
   "source": [
    "a_list = [2,3,7,None]\n",
    "print(a_list)\n",
    "\n",
    "tup = ('foo','bar','baz')\n",
    "b_list = list(tup)\n",
    "print(b_list)\n",
    "\n",
    "b_list[1] = 'peekaboo'\n",
    "print(b_list)"
   ]
  },
  {
   "cell_type": "markdown",
   "id": "infrared-scanner",
   "metadata": {},
   "source": [
    " "
   ]
  },
  {
   "cell_type": "markdown",
   "id": "headed-booking",
   "metadata": {},
   "source": [
    "#### 원소 추가하고 삭제하기"
   ]
  },
  {
   "cell_type": "markdown",
   "id": "printable-sight",
   "metadata": {},
   "source": [
    "* list에 원소 추가\n",
    "    * list.append() : 리스트 `끝`에 새로운 값을 추가할 수 있다.\n",
    "    * list.insert() : 리스트의 `특정 위치`에 값을 추가할 수 있다."
   ]
  },
  {
   "cell_type": "code",
   "execution_count": 53,
   "id": "current-ebony",
   "metadata": {},
   "outputs": [
    {
     "name": "stdout",
     "output_type": "stream",
     "text": [
      "add dwarf in list b using list.append() : ['foo', 'peekaboo', 'baz', 'dwarf']\n",
      "add red in list b at 1 using list.insert() : ['foo', 'red', 'peekaboo', 'baz', 'dwarf']\n"
     ]
    }
   ],
   "source": [
    "### list.append()\n",
    "b_list.append('dwarf')\n",
    "print('add dwarf in list b using list.append() : {0}'.format(b_list))\n",
    "\n",
    "### list.insert()\n",
    "b_list.insert(1, \"red\")\n",
    "print('add red in list b at 1 using list.insert() : {0}'.format(b_list))"
   ]
  },
  {
   "cell_type": "markdown",
   "id": "dimensional-kernel",
   "metadata": {},
   "source": [
    " "
   ]
  },
  {
   "cell_type": "markdown",
   "id": "accepted-angola",
   "metadata": {},
   "source": [
    "- list에 원소 삭제\n",
    "    - list.pop() : 리스트의 `특정 위치`의 값을 반환하고 해당 값을 리스트에서 삭제한다.\n",
    "    - list.remove() : 중복되는 값이 있는 경우 리스트에서 `제일 앞`에 위치한 값부터 삭제가 이뤄진다."
   ]
  },
  {
   "cell_type": "code",
   "execution_count": 54,
   "id": "brazilian-willow",
   "metadata": {},
   "outputs": [
    {
     "name": "stdout",
     "output_type": "stream",
     "text": [
      "peekaboo\n",
      "remove the value in index 2 : ['foo', 'red', 'baz', 'dwarf']\n",
      "add another foo in list b : ['foo', 'red', 'baz', 'dwarf', 'foo']\n",
      "remove the value which is foo in list b : ['red', 'baz', 'dwarf', 'foo']\n"
     ]
    }
   ],
   "source": [
    "### list.pop()\n",
    "print(b_list.pop(2))\n",
    "print(\"remove the value in index 2 : {0}\".format(b_list))\n",
    "\n",
    "### list.remove()\n",
    "b_list.append('foo')\n",
    "print('add another foo in list b : {0}'.format(b_list))\n",
    "\n",
    "b_list.remove('foo')\n",
    "print(\"remove the value which is foo in list b : {0}\".format(b_list))"
   ]
  },
  {
   "cell_type": "markdown",
   "id": "chief-miracle",
   "metadata": {},
   "source": [
    " "
   ]
  },
  {
   "cell_type": "markdown",
   "id": "broadband-dallas",
   "metadata": {},
   "source": [
    "#### in, not in 예약어"
   ]
  },
  {
   "cell_type": "code",
   "execution_count": 56,
   "id": "civic-ready",
   "metadata": {},
   "outputs": [
    {
     "name": "stdout",
     "output_type": "stream",
     "text": [
      "dwarf in b_list : True\n",
      "dwarf not in b_list : False\n"
     ]
    }
   ],
   "source": [
    "print(\"dwarf in b_list : {0}\".format('dwarf' in b_list))\n",
    "print(\"dwarf not in b_list : {0}\".format('dwarf' not in b_list))"
   ]
  },
  {
   "cell_type": "markdown",
   "id": "comprehensive-colleague",
   "metadata": {},
   "source": [
    " "
   ]
  },
  {
   "cell_type": "markdown",
   "id": "vocational-relief",
   "metadata": {},
   "source": [
    "#### 리스트 이어붙이기"
   ]
  },
  {
   "cell_type": "markdown",
   "id": "joint-shield",
   "metadata": {},
   "source": [
    "- \\+ : + 연산자를 이용하면 두 개의 리스트를 합칠 수 있다\n",
    "- list.extend() : 미리 리스트를 정의해 두었다면 extend 메서드를 사용해 여러 개의 값을 추가할 수 있다."
   ]
  },
  {
   "cell_type": "code",
   "execution_count": 59,
   "id": "strong-fighter",
   "metadata": {},
   "outputs": [
    {
     "data": {
      "text/plain": [
       "[4, None, 'foo', 7, 8, (2, 3)]"
      ]
     },
     "execution_count": 59,
     "metadata": {},
     "output_type": "execute_result"
    }
   ],
   "source": [
    "[4,None,'foo'] + [7,8,(2,3)]"
   ]
  },
  {
   "cell_type": "code",
   "execution_count": 61,
   "id": "swiss-swing",
   "metadata": {},
   "outputs": [
    {
     "name": "stdout",
     "output_type": "stream",
     "text": [
      "[4, None, 'foo', 7, 8, (2, 3)]\n"
     ]
    }
   ],
   "source": [
    "x = [4, None, 'foo']\n",
    "x.extend([7,8,(2,3)])\n",
    "print(x)"
   ]
  },
  {
   "cell_type": "markdown",
   "id": "vital-jenny",
   "metadata": {},
   "source": [
    " "
   ]
  },
  {
   "cell_type": "markdown",
   "id": "timely-sunglasses",
   "metadata": {},
   "source": [
    "### 3.1.3 내장 순차 자료형 함수"
   ]
  },
  {
   "cell_type": "markdown",
   "id": "informal-evidence",
   "metadata": {},
   "source": [
    " "
   ]
  },
  {
   "cell_type": "markdown",
   "id": "catholic-medicaid",
   "metadata": {},
   "source": [
    "#### enumerate "
   ]
  },
  {
   "cell_type": "markdown",
   "id": "altered-simpson",
   "metadata": {},
   "source": [
    "- 이 함수는 순차 자료형에서 현재 아이템의 색인을 함께 처리하고자 할 때 흔히 사용한다."
   ]
  },
  {
   "cell_type": "code",
   "execution_count": 10,
   "id": "blind-holiday",
   "metadata": {},
   "outputs": [
    {
     "name": "stdout",
     "output_type": "stream",
     "text": [
      "{0: 'foo'}\n",
      "{0: 'foo', 1: 'bar'}\n",
      "{0: 'foo', 1: 'bar', 2: 'baz'}\n"
     ]
    }
   ],
   "source": [
    "some_list = ['foo', 'bar', 'baz']\n",
    "\n",
    "mapping = {}\n",
    "\n",
    "for i, v in enumerate(some_list) : \n",
    "    mapping[i] = v\n",
    "    print(mapping)"
   ]
  },
  {
   "cell_type": "markdown",
   "id": "listed-internship",
   "metadata": {},
   "source": [
    " "
   ]
  },
  {
   "cell_type": "markdown",
   "id": "comic-reputation",
   "metadata": {},
   "source": [
    "#### sorted"
   ]
  },
  {
   "cell_type": "markdown",
   "id": "arctic-feeding",
   "metadata": {},
   "source": [
    "- sorted 함수는 **정렬된** `새로운 순차 자료형`을 반환한다."
   ]
  },
  {
   "cell_type": "code",
   "execution_count": 72,
   "id": "standard-departure",
   "metadata": {},
   "outputs": [
    {
     "name": "stdout",
     "output_type": "stream",
     "text": [
      "\n",
      "a = [7, 1, 2, 6, 0, 3, 2]\n",
      "b = [0, 1, 2, 2, 3, 6, 7]\n"
     ]
    }
   ],
   "source": [
    "a = [7,1,2,6,0,3,2]\n",
    "b = sorted(a)\n",
    "\n",
    "print('''\n",
    "a = {0}\n",
    "b = {1}'''.format(a, b))"
   ]
  },
  {
   "cell_type": "markdown",
   "id": "metric-olympus",
   "metadata": {},
   "source": [
    " "
   ]
  },
  {
   "cell_type": "markdown",
   "id": "demonstrated-wilderness",
   "metadata": {},
   "source": [
    "#### zip"
   ]
  },
  {
   "cell_type": "markdown",
   "id": "official-interest",
   "metadata": {},
   "source": [
    "- zip 함수는 여러 개의 리스트나 튜플 또는 다른 순차 자료형을 서로 짝지어서 튜플의 리스트를 생성한다."
   ]
  },
  {
   "cell_type": "code",
   "execution_count": 12,
   "id": "classified-accessory",
   "metadata": {},
   "outputs": [
    {
     "data": {
      "text/plain": [
       "[('foo', 'one'), ('bar', 'two'), ('baz', 'three')]"
      ]
     },
     "execution_count": 12,
     "metadata": {},
     "output_type": "execute_result"
    }
   ],
   "source": [
    "seq1 = ['foo','bar','baz']\n",
    "seq2 = ['one','two','three']\n",
    "\n",
    "zipped = zip(seq1,seq2)\n",
    "list(zipped)"
   ]
  },
  {
   "cell_type": "markdown",
   "id": "mature-enterprise",
   "metadata": {},
   "source": [
    " "
   ]
  },
  {
   "cell_type": "markdown",
   "id": "improved-mortgage",
   "metadata": {},
   "source": [
    "- zip 함수는 여러 개의 순차 자료형을 받을 수 있으며 반환되는 리스트의 크기는 넘겨받은 순차 자료형 중 `가장 짧은` 크기로 정해진다.\n"
   ]
  },
  {
   "cell_type": "code",
   "execution_count": 83,
   "id": "commercial-washington",
   "metadata": {},
   "outputs": [
    {
     "data": {
      "text/plain": [
       "[('foo', 'one', False), ('bar', 'two', True)]"
      ]
     },
     "execution_count": 83,
     "metadata": {},
     "output_type": "execute_result"
    }
   ],
   "source": [
    "seq3 = [False, True]\n",
    "\n",
    "list(zip(seq1,seq2,seq3))"
   ]
  },
  {
   "cell_type": "markdown",
   "id": "incorrect-refrigerator",
   "metadata": {},
   "source": [
    " "
   ]
  },
  {
   "cell_type": "markdown",
   "id": "academic-january",
   "metadata": {},
   "source": [
    "- zip 함수는 enumerate와 함께 사용되기도 한다."
   ]
  },
  {
   "cell_type": "code",
   "execution_count": 84,
   "id": "personal-refrigerator",
   "metadata": {},
   "outputs": [
    {
     "name": "stdout",
     "output_type": "stream",
     "text": [
      "\n",
      "    i = 0\n",
      "    a = foo\n",
      "    b = one\n",
      "\n",
      "    i = 1\n",
      "    a = bar\n",
      "    b = two\n",
      "\n",
      "    i = 2\n",
      "    a = baz\n",
      "    b = three\n"
     ]
    }
   ],
   "source": [
    "for i, (a,b) in enumerate(zip(seq1,seq2)) : \n",
    "    print('''\n",
    "    i = {0}\n",
    "    a = {1}\n",
    "    b = {2}'''.format(i,a,b))"
   ]
  },
  {
   "cell_type": "markdown",
   "id": "narrative-luther",
   "metadata": {},
   "source": [
    " "
   ]
  },
  {
   "cell_type": "markdown",
   "id": "physical-blame",
   "metadata": {},
   "source": [
    "- zip 함수를 사용해서 짝지어진 순차 자료형을 다시 풀어낼 수도 있다. \n",
    "- 이를 이용해서 리스트의 `로우`를 리스트의 `컬럼`으로 변환하는 것도 가능하다."
   ]
  },
  {
   "cell_type": "code",
   "execution_count": 87,
   "id": "based-despite",
   "metadata": {},
   "outputs": [
    {
     "name": "stdout",
     "output_type": "stream",
     "text": [
      "\n",
      "first_names : ('Nolan', 'Roger', 'Schilling')\n",
      "last_names : ('Ryan', 'Clemens', 'Curt')\n"
     ]
    }
   ],
   "source": [
    "pitchers = [('Nolan','Ryan'), ('Roger','Clemens'), ('Schilling', 'Curt')]\n",
    "\n",
    "first_names, last_names = zip(*pitchers)\n",
    "\n",
    "print('''\n",
    "first_names : {0}\n",
    "last_names : {1}'''.format(first_names,last_names))"
   ]
  },
  {
   "cell_type": "markdown",
   "id": "surprised-gospel",
   "metadata": {},
   "source": [
    " "
   ]
  },
  {
   "cell_type": "markdown",
   "id": "disturbed-spain",
   "metadata": {},
   "source": [
    "### 3.1.4 사전"
   ]
  },
  {
   "cell_type": "markdown",
   "id": "dominant-variance",
   "metadata": {},
   "source": [
    "- dict(사전)은 파이썬 내장 자료구조 중에서 가장 중요하다.\n",
    "- 일반적으로는 `해시맵` 또는 `연관 배열`이라고 널리 알려져 있다.\n",
    "- 사전은 유연한 크기를 가지는 `키-값` 쌍으로, `키`와 `값`은 모두 파이썬 객체다."
   ]
  },
  {
   "cell_type": "code",
   "execution_count": 2,
   "id": "japanese-diving",
   "metadata": {},
   "outputs": [
    {
     "name": "stdout",
     "output_type": "stream",
     "text": [
      "{'a': 'some value', 'b': [1, 2, 3, 4]}\n"
     ]
    }
   ],
   "source": [
    "d1 = {'a' : 'some value', 'b' : [1,2,3,4]}\n",
    "print(d1)"
   ]
  },
  {
   "cell_type": "code",
   "execution_count": 3,
   "id": "registered-satellite",
   "metadata": {},
   "outputs": [
    {
     "data": {
      "text/plain": [
       "{'a': 'some value', 'b': [1, 2, 3, 4], 7: 'an integer'}"
      ]
     },
     "execution_count": 3,
     "metadata": {},
     "output_type": "execute_result"
    }
   ],
   "source": [
    "d1[7] = 'an integer'\n",
    "d1"
   ]
  },
  {
   "cell_type": "code",
   "execution_count": 4,
   "id": "complimentary-cover",
   "metadata": {},
   "outputs": [
    {
     "name": "stdout",
     "output_type": "stream",
     "text": [
      "\n",
      "d1['a'] : some value\n",
      "d1[7] : an integer\n"
     ]
    }
   ],
   "source": [
    "print('''\n",
    "d1['a'] : {0}\n",
    "d1[7] : {1}'''.format(d1['a'] \\\n",
    "                     , d1[7]))"
   ]
  },
  {
   "cell_type": "code",
   "execution_count": 5,
   "id": "grave-belly",
   "metadata": {},
   "outputs": [
    {
     "data": {
      "text/plain": [
       "True"
      ]
     },
     "execution_count": 5,
     "metadata": {},
     "output_type": "execute_result"
    }
   ],
   "source": [
    "'b' in d1"
   ]
  },
  {
   "cell_type": "markdown",
   "id": "twelve-russell",
   "metadata": {},
   "source": [
    " "
   ]
  },
  {
   "cell_type": "markdown",
   "id": "integrated-blanket",
   "metadata": {},
   "source": [
    "#### dict 관련 기본 메소드"
   ]
  },
  {
   "cell_type": "markdown",
   "id": "stuffed-brighton",
   "metadata": {},
   "source": [
    "##### del, pop\n",
    "- `del` 예약어나 `pop` 메서드 (값을 반환함과 동시에 해당 키를 삭제한다)를 사용해서 사전의 값을 삭제할 수 있다."
   ]
  },
  {
   "cell_type": "code",
   "execution_count": 23,
   "id": "smooth-rally",
   "metadata": {},
   "outputs": [
    {
     "name": "stdout",
     "output_type": "stream",
     "text": [
      "{'a': 'some value', 'b': [1, 2, 3, 4], 7: 'an integer', 5: 'some value'}\n"
     ]
    }
   ],
   "source": [
    "d1[5] = 'some value'\n",
    "print(d1)"
   ]
  },
  {
   "cell_type": "code",
   "execution_count": 24,
   "id": "champion-concern",
   "metadata": {},
   "outputs": [
    {
     "name": "stdout",
     "output_type": "stream",
     "text": [
      "{'a': 'some value', 'b': [1, 2, 3, 4], 7: 'an integer', 5: 'some value', 'dummy': 'another value'}\n"
     ]
    }
   ],
   "source": [
    "d1['dummy'] = 'another value'\n",
    "print(d1)"
   ]
  },
  {
   "cell_type": "code",
   "execution_count": 25,
   "id": "northern-simple",
   "metadata": {},
   "outputs": [
    {
     "name": "stdout",
     "output_type": "stream",
     "text": [
      "{'a': 'some value', 'b': [1, 2, 3, 4], 7: 'an integer', 'dummy': 'another value'}\n"
     ]
    }
   ],
   "source": [
    "del d1[5]\n",
    "print(d1)"
   ]
  },
  {
   "cell_type": "code",
   "execution_count": 27,
   "id": "diagnostic-queue",
   "metadata": {},
   "outputs": [
    {
     "name": "stdout",
     "output_type": "stream",
     "text": [
      "\n",
      "ret = another value\n",
      "d1 = {'a': 'some value', 'b': [1, 2, 3, 4], 7: 'an integer'}\n"
     ]
    }
   ],
   "source": [
    "ret = d1.pop('dummy')\n",
    "print('''\n",
    "ret = {0}\n",
    "d1 = {1}'''.format(ret, \\\n",
    "                  d1))"
   ]
  },
  {
   "cell_type": "markdown",
   "id": "criminal-diamond",
   "metadata": {},
   "source": [
    " "
   ]
  },
  {
   "cell_type": "markdown",
   "id": "numerical-bumper",
   "metadata": {},
   "source": [
    "##### keys, values\n",
    "- `keys` 와 `values` 메서드는 각각 키와 값이 담긴 이터레이터를 반환한다.\n",
    "- 키-값 쌍은 일정한 기준으로 정렬되어 있진 않지만, `keys` 메서드와 `values` 메서드에서 반환하는 리스트는 같은 순서를 가진다."
   ]
  },
  {
   "cell_type": "code",
   "execution_count": 31,
   "id": "referenced-respondent",
   "metadata": {},
   "outputs": [
    {
     "name": "stdout",
     "output_type": "stream",
     "text": [
      "\n",
      "list(d1.keys()) : ['a', 'b', 7]\n",
      "list(d1.values()) : ['some value', [1, 2, 3, 4], 'an integer']\n"
     ]
    }
   ],
   "source": [
    "print('''\n",
    "list(d1.keys()) : {0}\n",
    "list(d1.values()) : {1}'''.format(list(d1.keys()), \\\n",
    "                                  list(d1.values())))"
   ]
  },
  {
   "cell_type": "markdown",
   "id": "medieval-polls",
   "metadata": {},
   "source": [
    " "
   ]
  },
  {
   "cell_type": "markdown",
   "id": "signal-pittsburgh",
   "metadata": {},
   "source": [
    "##### update \n",
    "- update 메서드를 사용해서 하나의 사전을 다른 사전과 합칠 수 있다."
   ]
  },
  {
   "cell_type": "code",
   "execution_count": 33,
   "id": "confidential-relations",
   "metadata": {},
   "outputs": [
    {
     "name": "stdout",
     "output_type": "stream",
     "text": [
      "{'a': 'some value', 'b': 'foo', 7: 'an integer', 'c': 12}\n"
     ]
    }
   ],
   "source": [
    "d1.update({'b':'foo', 'c':12})\n",
    "print(d1)"
   ]
  },
  {
   "cell_type": "markdown",
   "id": "expanded-component",
   "metadata": {},
   "source": [
    " "
   ]
  },
  {
   "cell_type": "markdown",
   "id": "internal-parent",
   "metadata": {},
   "source": [
    " "
   ]
  },
  {
   "cell_type": "markdown",
   "id": "postal-fraction",
   "metadata": {},
   "source": [
    "#### 순차 자료형에서 사전 생성하기"
   ]
  },
  {
   "cell_type": "code",
   "execution_count": 37,
   "id": "stretch-attribute",
   "metadata": {},
   "outputs": [
    {
     "name": "stdout",
     "output_type": "stream",
     "text": [
      "{0: 4, 1: 3, 2: 2, 3: 1, 4: 0}\n"
     ]
    }
   ],
   "source": [
    "mapping = dict(zip(range(5), reversed(range(5))))\n",
    "print(mapping)"
   ]
  },
  {
   "cell_type": "markdown",
   "id": "suffering-bikini",
   "metadata": {},
   "source": [
    " "
   ]
  },
  {
   "cell_type": "markdown",
   "id": "judicial-freeware",
   "metadata": {},
   "source": [
    "#### 기본값"
   ]
  },
  {
   "cell_type": "markdown",
   "id": "sound-possession",
   "metadata": {},
   "source": [
    "##### get\n",
    "- 사전 메서드인 get과 pop은 반환할 기본값을 받아서 위 코드에서 if-else 블록을 아래처럼 간단하게 작성할 수 있다.\n",
    "- get메서드는 기본적으로 해당 키가 존재하지 않을 경우 None을 반환함.\n",
    "- pop메서드는 예외를 발생시킴"
   ]
  },
  {
   "cell_type": "code",
   "execution_count": null,
   "id": "minute-silly",
   "metadata": {},
   "outputs": [],
   "source": [
    "# 기본값을 설정하는 아주 일반적인 로직\n",
    "if key in some_dict : \n",
    "    value = some_dict[key]\n",
    "else : \n",
    "    value = default_value"
   ]
  },
  {
   "cell_type": "code",
   "execution_count": null,
   "id": "utility-cedar",
   "metadata": {},
   "outputs": [],
   "source": [
    "value = some_dict.get(key, default_value)"
   ]
  },
  {
   "cell_type": "markdown",
   "id": "downtown-anchor",
   "metadata": {},
   "source": [
    " "
   ]
  },
  {
   "cell_type": "markdown",
   "id": "deluxe-donor",
   "metadata": {},
   "source": [
    "> 예시 : 여러 단어를 시작 글자에 따라 사전에 리스트로 저장하고 싶다면?"
   ]
  },
  {
   "cell_type": "markdown",
   "id": "valid-evanescence",
   "metadata": {},
   "source": [
    "##### setdefault\n",
    "- setdefault 메소드를 사용하면 다음 if-else 구문을 아래과 같이 작성할 수 있다."
   ]
  },
  {
   "cell_type": "code",
   "execution_count": 42,
   "id": "played-giant",
   "metadata": {},
   "outputs": [
    {
     "name": "stdout",
     "output_type": "stream",
     "text": [
      "{'a': ['apple', 'atom'], 'b': ['bat', 'bar', 'book']}\n"
     ]
    }
   ],
   "source": [
    "words = ['apple','bat','bar','atom','book']\n",
    "by_letter = {}\n",
    "\n",
    "for word in words :\n",
    "    letter = word[0]\n",
    "    if letter not in by_letter :\n",
    "        by_letter[letter] = [word]\n",
    "    else : \n",
    "        by_letter[letter].append(word)\n",
    "        \n",
    "print(by_letter)"
   ]
  },
  {
   "cell_type": "code",
   "execution_count": 41,
   "id": "nominated-encyclopedia",
   "metadata": {},
   "outputs": [
    {
     "name": "stdout",
     "output_type": "stream",
     "text": [
      "{'a': ['apple', 'atom'], 'b': ['bat', 'bar', 'book']}\n"
     ]
    }
   ],
   "source": [
    "by_letter = {}\n",
    "\n",
    "for word in words : \n",
    "    letter = word[0]\n",
    "    by_letter.setdefault(letter, []).append(word)\n",
    "    \n",
    "print(by_letter)"
   ]
  },
  {
   "cell_type": "markdown",
   "id": "addressed-lawyer",
   "metadata": {},
   "source": [
    " "
   ]
  },
  {
   "cell_type": "markdown",
   "id": "legislative-extent",
   "metadata": {},
   "source": [
    "##### defaultdict\n",
    "- 내장 collections 모듈의 defaultdict 클래스를 사용하면 위 과정을 좀 더 쉽게 할 수 있다."
   ]
  },
  {
   "cell_type": "code",
   "execution_count": 45,
   "id": "cheap-rocket",
   "metadata": {},
   "outputs": [
    {
     "name": "stdout",
     "output_type": "stream",
     "text": [
      "defaultdict(<class 'list'>, {'a': ['apple', 'atom'], 'b': ['bat', 'bar', 'book']})\n"
     ]
    }
   ],
   "source": [
    "from collections import defaultdict\n",
    "\n",
    "by_letter = defaultdict(list)\n",
    "\n",
    "for word in words : \n",
    "    by_letter[word[0]].append(word)\n",
    "    \n",
    "print(by_letter)"
   ]
  },
  {
   "cell_type": "markdown",
   "id": "virgin-supervision",
   "metadata": {},
   "source": [
    " "
   ]
  },
  {
   "cell_type": "markdown",
   "id": "endangered-multimedia",
   "metadata": {},
   "source": [
    "##### 유효한 사전 키, hash()\n",
    "- 사전의 값(value)으로 어떤 파이썬 객체라도 가능하지만 키(key)는 스칼라형(정수,실수,문자열)이나 튜플(튜플에 저장된 값 역시 값이 바뀌지 않는 객체여야 한다) 처럼 값이 바뀌지 않는 객체만 가능하다.\n",
    "- 기술적으로는 `해시 가능` 해야한다는 뜻.\n",
    "- hash() 함수를 통해 어떤 객체가 해시 가능한지 검사할 수 있다."
   ]
  },
  {
   "cell_type": "code",
   "execution_count": 46,
   "id": "hispanic-taste",
   "metadata": {},
   "outputs": [
    {
     "data": {
      "text/plain": [
       "-942897530707866750"
      ]
     },
     "execution_count": 46,
     "metadata": {},
     "output_type": "execute_result"
    }
   ],
   "source": [
    "hash('string')"
   ]
  },
  {
   "cell_type": "code",
   "execution_count": 47,
   "id": "worth-cargo",
   "metadata": {},
   "outputs": [
    {
     "data": {
      "text/plain": [
       "-9209053662355515447"
      ]
     },
     "execution_count": 47,
     "metadata": {},
     "output_type": "execute_result"
    }
   ],
   "source": [
    "hash((1,2,(2,3)))"
   ]
  },
  {
   "cell_type": "code",
   "execution_count": 48,
   "id": "wooden-portfolio",
   "metadata": {},
   "outputs": [
    {
     "ename": "TypeError",
     "evalue": "unhashable type: 'list'",
     "output_type": "error",
     "traceback": [
      "\u001b[1;31m---------------------------------------------------------------------------\u001b[0m",
      "\u001b[1;31mTypeError\u001b[0m                                 Traceback (most recent call last)",
      "\u001b[1;32m<ipython-input-48-576218ff90d3>\u001b[0m in \u001b[0;36m<module>\u001b[1;34m\u001b[0m\n\u001b[1;32m----> 1\u001b[1;33m \u001b[0mhash\u001b[0m\u001b[1;33m(\u001b[0m\u001b[1;33m(\u001b[0m\u001b[1;36m1\u001b[0m\u001b[1;33m,\u001b[0m\u001b[1;36m2\u001b[0m\u001b[1;33m,\u001b[0m\u001b[1;33m[\u001b[0m\u001b[1;36m2\u001b[0m\u001b[1;33m,\u001b[0m\u001b[1;36m3\u001b[0m\u001b[1;33m]\u001b[0m\u001b[1;33m)\u001b[0m\u001b[1;33m)\u001b[0m\u001b[1;33m\u001b[0m\u001b[1;33m\u001b[0m\u001b[0m\n\u001b[0m",
      "\u001b[1;31mTypeError\u001b[0m: unhashable type: 'list'"
     ]
    }
   ],
   "source": [
    "hash((1,2,[2,3]))  # 리스트는 변경이 가능한 값이므로 해시 가능하지 않음 "
   ]
  },
  {
   "cell_type": "markdown",
   "id": "alone-wireless",
   "metadata": {},
   "source": [
    " "
   ]
  },
  {
   "cell_type": "markdown",
   "id": "military-commissioner",
   "metadata": {},
   "source": [
    "### 3.1.5 집합\n",
    "- $집합^{set}$ 은 유일한 원소만 담는 `정렬되지 않은` 자료형\n",
    "- 사전과 유사하지만 값은 없고 키만 가지고 있다고 생각하면 됨\n",
    "- 집합은 set함수 혹은 중괄호를 이용해 생성할 수 있음"
   ]
  },
  {
   "cell_type": "code",
   "execution_count": 49,
   "id": "saving-ethics",
   "metadata": {},
   "outputs": [
    {
     "data": {
      "text/plain": [
       "{1, 2, 3}"
      ]
     },
     "execution_count": 49,
     "metadata": {},
     "output_type": "execute_result"
    }
   ],
   "source": [
    "set([2,2,2,1,3,3])"
   ]
  },
  {
   "cell_type": "code",
   "execution_count": 50,
   "id": "sorted-billion",
   "metadata": {},
   "outputs": [
    {
     "data": {
      "text/plain": [
       "{1, 2, 3}"
      ]
     },
     "execution_count": 50,
     "metadata": {},
     "output_type": "execute_result"
    }
   ],
   "source": [
    "{2,2,2,1,3,3}"
   ]
  },
  {
   "cell_type": "markdown",
   "id": "boolean-operator",
   "metadata": {},
   "source": [
    " "
   ]
  },
  {
   "cell_type": "markdown",
   "id": "clean-newcastle",
   "metadata": {},
   "source": [
    "##### union & intersection\n",
    "- union : 두 집합의 모든 원소를 모은 집합. union 메서드를 사용하거나 | 이항연산자로 구할 수 있음 \n",
    "- intersection : 두 집합에 공통으로 존재하는 원소만 모은 집합. intersection 메서드를 사용하거나 & 이항연산자로 구할 수 있음"
   ]
  },
  {
   "cell_type": "code",
   "execution_count": 52,
   "id": "provincial-maintenance",
   "metadata": {},
   "outputs": [
    {
     "name": "stdout",
     "output_type": "stream",
     "text": [
      "\n",
      "a.union(b)        : {1, 2, 3, 4, 5, 6, 7, 8}\n",
      "a | b             : {1, 2, 3, 4, 5, 6, 7, 8}\n",
      "a.intersection(b) : {3, 4, 5}\n",
      "a & b             : {3, 4, 5}\n",
      "\n"
     ]
    }
   ],
   "source": [
    "a = {1,2,3,4,5}\n",
    "b = {3,4,5,6,7,8}\n",
    "\n",
    "print('''\n",
    "a.union(b)        : {0}\n",
    "a | b             : {1}\n",
    "a.intersection(b) : {2}\n",
    "a & b             : {3}\n",
    "'''.format(a.union(b), \\\n",
    "           a|b, \\\n",
    "           a.intersection(b), \\\n",
    "           a & b))"
   ]
  },
  {
   "cell_type": "markdown",
   "id": "pacific-lincoln",
   "metadata": {},
   "source": [
    " "
   ]
  },
  {
   "cell_type": "markdown",
   "id": "agreed-parliament",
   "metadata": {},
   "source": [
    "##### 파이썬 집합 연산\n",
    "\n",
    "<details>\n",
    "<summary>파이썬 집합 연산</summary>\n",
    "<div markdown=\"1\">\n",
    "\n",
    "|함수|대체 문법|설명|\n",
    "|:--|:--|:--|\n",
    "|a.add(x)|N/A|a에 원소 x를 추가한다.|\n",
    "|a.clear()|N/A|모든 원소를 제거하고 빈 상태로 되돌린다.|\n",
    "|a.remove(x)|N/A|a에서 원소 x를 제거한다.|\n",
    "|a.pop()|N/A|a에서 `임의의 원소`를 제거한다. 비어있는 경우 KeyError를 발생시킨다.|\n",
    "|a.union(b)|a \\| b|a와 b의 합집합|\n",
    "|a.update(b)|a \\|= b|a에 a와 b의 합집합을 대입한다.|\n",
    "|a.intersection(b)|a \\& b|a와 b의 교집합|\n",
    "|a.intersection_update(b)|a \\&= b|a에 a와 b의 교집합을 대입한다.|\n",
    "|a.difference(b)|a - b|a와 b의 차집합|\n",
    "|a.difference_update(b)|a -= b|a에 a와 b의 차집합을 대입한다.|\n",
    "|a.symmetric_difference(b)|a ^ b|a와 b의 대칭차집합|\n",
    "|a.symmetric_difference_update(b)|a ^= b|a에 a와 b의 대칭차집합을 대입한다.|\n",
    "|a.issubset(b)|N/A|a의 모든 원소가 b에 속할 경우 True|\n",
    "|a.issuperset(b)|N/A|a가 b의 모든 원소를 포함할 경우 True|\n",
    "|a.isdisjoint(b)|N/A|a와 b 모두에 속하는 원소가 없을 경우 True|\n",
    "    \n",
    "</div>\n",
    "</details>"
   ]
  },
  {
   "cell_type": "markdown",
   "id": "rapid-resident",
   "metadata": {},
   "source": [
    "> 사전처럼 집합 원소들도 일반적으로 변경이 불가능해야한다. 따라서 리스트를 집합의 원소로 담으려면 튜플로 변경해야 한다."
   ]
  },
  {
   "cell_type": "code",
   "execution_count": 54,
   "id": "protecting-potter",
   "metadata": {},
   "outputs": [
    {
     "name": "stdout",
     "output_type": "stream",
     "text": [
      "{(1, 2, 3, 4)}\n"
     ]
    }
   ],
   "source": [
    "my_data = [1,2,3,4]\n",
    "my_set = {tuple(my_data)}\n",
    "print(my_set)"
   ]
  },
  {
   "cell_type": "markdown",
   "id": "experimental-portland",
   "metadata": {},
   "source": [
    "> 만일 집합의 내용이 같다면 두 집합은 동일하다."
   ]
  },
  {
   "cell_type": "code",
   "execution_count": 55,
   "id": "gothic-cassette",
   "metadata": {},
   "outputs": [
    {
     "data": {
      "text/plain": [
       "True"
      ]
     },
     "execution_count": 55,
     "metadata": {},
     "output_type": "execute_result"
    }
   ],
   "source": [
    "{1,2,3} == {2,3,1}"
   ]
  },
  {
   "cell_type": "markdown",
   "id": "unavailable-humor",
   "metadata": {},
   "source": [
    " "
   ]
  },
  {
   "cell_type": "markdown",
   "id": "random-avatar",
   "metadata": {},
   "source": [
    "### 3.1.6 리스트, 집합, 사전 표기법"
   ]
  },
  {
   "cell_type": "markdown",
   "id": "prescribed-barrier",
   "metadata": {},
   "source": [
    "##### 리스트 표기법\n",
    "- `리스트 표기법`은 파이썬 언어에서 가장 사랑받는 기능 중 하나다. 이를 이용하면 아래의 반복문을 한 줄로 간결하게 표현할 수 있다."
   ]
  },
  {
   "cell_type": "markdown",
   "id": "fresh-admission",
   "metadata": {},
   "source": [
    "---\n",
    "result = []  \n",
    "\n",
    "for val in collection :  \n",
    "\n",
    "    if condition :      \n",
    "        result.append(expr)\n",
    "---\n",
    "\n",
    "- 리스트 표기법  \n",
    "result = [expr for val in collection if condition]\n",
    "\n",
    "- 사전 표기법  \n",
    "dict_comp = {key-expr : value_expr for value in collection if condiciton}\n",
    "\n",
    "- 집합 표기법  \n",
    "set_comp = {expr for value in collection if condiciton}"
   ]
  },
  {
   "cell_type": "markdown",
   "id": "automated-laugh",
   "metadata": {},
   "source": [
    "> 예1) 문자열 리스트 중 문자열의 길이가 2 이하인 문자열은 제외하고 나머지를 대문자로 바꾸기"
   ]
  },
  {
   "cell_type": "code",
   "execution_count": 56,
   "id": "brown-reproduction",
   "metadata": {},
   "outputs": [
    {
     "data": {
      "text/plain": [
       "['BAT', 'CAR', 'DOVE', 'PYTHON']"
      ]
     },
     "execution_count": 56,
     "metadata": {},
     "output_type": "execute_result"
    }
   ],
   "source": [
    "strings = ['a','as','bat','car','dove','python']\n",
    "\n",
    "[x.upper() for x in strings if len(x) > 2]"
   ]
  },
  {
   "cell_type": "markdown",
   "id": "improving-relationship",
   "metadata": {},
   "source": [
    "> 예2) 리스트 내의 문자열들의 길이를 담고있는 집합 생성하는 집합 표기법"
   ]
  },
  {
   "cell_type": "code",
   "execution_count": 58,
   "id": "european-purse",
   "metadata": {},
   "outputs": [
    {
     "name": "stdout",
     "output_type": "stream",
     "text": [
      "{1, 2, 3, 4, 6}\n"
     ]
    }
   ],
   "source": [
    "unique_lengths = {len(x) for x in strings}\n",
    "print(unique_lengths)"
   ]
  },
  {
   "cell_type": "code",
   "execution_count": 61,
   "id": "neither-physiology",
   "metadata": {},
   "outputs": [
    {
     "data": {
      "text/plain": [
       "{1, 2, 3, 4, 6}"
      ]
     },
     "execution_count": 61,
     "metadata": {},
     "output_type": "execute_result"
    }
   ],
   "source": [
    "set(map(len,strings))   # map 함수를 이용해서 함수적으로 표현할 수도 있다."
   ]
  },
  {
   "cell_type": "markdown",
   "id": "twelve-casino",
   "metadata": {},
   "source": [
    "> 예3) 리스트에서 문자열의 위치를 담고 있는 사전 생성하는 사전 표기법 (key - 문자열, value - 해당 문자열의 위치)"
   ]
  },
  {
   "cell_type": "code",
   "execution_count": 66,
   "id": "negative-quarter",
   "metadata": {},
   "outputs": [
    {
     "name": "stdout",
     "output_type": "stream",
     "text": [
      "{'a': 0, 'as': 1, 'bat': 2, 'car': 3, 'dove': 4, 'python': 5}\n"
     ]
    }
   ],
   "source": [
    "loc_mapping = {val : index for index, val in enumerate(strings)}\n",
    "print(loc_mapping)"
   ]
  },
  {
   "cell_type": "markdown",
   "id": "wireless-screening",
   "metadata": {},
   "source": [
    " "
   ]
  },
  {
   "cell_type": "markdown",
   "id": "african-update",
   "metadata": {},
   "source": [
    "##### 중첩된 리스트 표기법"
   ]
  },
  {
   "cell_type": "markdown",
   "id": "stupid-coverage",
   "metadata": {},
   "source": [
    "> 예1) 다음과 같이 영어, 스페인어 이름들을 담고 있는 리스트의 리스트가 있다고 하자.  \n",
    "이 때, 각 이름에서 e가 2개 이상 포함된 이름의 목록을 구한다고 가정하자.  \n",
    "리스트는 for 문을 사용해서 다음처럼 구할 수 있다."
   ]
  },
  {
   "cell_type": "code",
   "execution_count": 68,
   "id": "allied-blade",
   "metadata": {},
   "outputs": [],
   "source": [
    "all_data = [['John','Emily','Michael','Mary','Steven'],\n",
    "            ['Maria','Juan','Javier','Natalia','Pilar']]"
   ]
  },
  {
   "cell_type": "code",
   "execution_count": 73,
   "id": "optimum-tennessee",
   "metadata": {},
   "outputs": [
    {
     "name": "stdout",
     "output_type": "stream",
     "text": [
      "['Steven']\n"
     ]
    }
   ],
   "source": [
    "names_of_interest = []\n",
    "\n",
    "for names in all_data :\n",
    "    enough_es = [name for name in names if name.count('e') >= 2]\n",
    "    names_of_interest.extend(enough_es)\n",
    "\n",
    "print(names_of_interest)"
   ]
  },
  {
   "cell_type": "markdown",
   "id": "proprietary-dress",
   "metadata": {},
   "source": [
    ">  `중첩된 리스트 표기법`을 사용하면 다음처럼 한 번에 구현할 수 있다."
   ]
  },
  {
   "cell_type": "code",
   "execution_count": 74,
   "id": "entertaining-quantum",
   "metadata": {},
   "outputs": [
    {
     "name": "stdout",
     "output_type": "stream",
     "text": [
      "['Steven']\n"
     ]
    }
   ],
   "source": [
    "names_of_interest = [name for names in all_data for name in names if name.count('e') >= 2]\n",
    "print(names_of_interest)"
   ]
  },
  {
   "cell_type": "markdown",
   "id": "exceptional-spare",
   "metadata": {},
   "source": [
    " "
   ]
  },
  {
   "cell_type": "markdown",
   "id": "bound-mixer",
   "metadata": {},
   "source": [
    "> 예2) 숫자 튜플이 담긴 리스트를 그냥 단순한 리스트로 변환하는 예제"
   ]
  },
  {
   "cell_type": "code",
   "execution_count": 76,
   "id": "cathedral-indonesian",
   "metadata": {},
   "outputs": [],
   "source": [
    "some_tuples = [(1,2,3), (4,5,6), (7,8,9)]"
   ]
  },
  {
   "cell_type": "code",
   "execution_count": 77,
   "id": "hearing-skating",
   "metadata": {},
   "outputs": [
    {
     "name": "stdout",
     "output_type": "stream",
     "text": [
      "[1, 2, 3, 4, 5, 6, 7, 8, 9]\n"
     ]
    }
   ],
   "source": [
    "flattend = []\n",
    "\n",
    "for tup in some_tuples : \n",
    "    for x in tup : \n",
    "        flattend.append(x)\n",
    "\n",
    "print(flattend)"
   ]
  },
  {
   "cell_type": "code",
   "execution_count": 78,
   "id": "reflected-reference",
   "metadata": {},
   "outputs": [
    {
     "name": "stdout",
     "output_type": "stream",
     "text": [
      "[1, 2, 3, 4, 5, 6, 7, 8, 9]\n"
     ]
    }
   ],
   "source": [
    "flattend = [x for tup in some_tuples for x in tup]\n",
    "print(flattend)"
   ]
  },
  {
   "cell_type": "markdown",
   "id": "bridal-cowboy",
   "metadata": {},
   "source": [
    "> 위 문법과 `리스트 표기법 안에서 리스트 표기법`을 사용하는 것의 차이를 구별하는 것은 매우 중요하다."
   ]
  },
  {
   "cell_type": "code",
   "execution_count": 79,
   "id": "reasonable-warning",
   "metadata": {},
   "outputs": [
    {
     "data": {
      "text/plain": [
       "[[1, 2, 3], [4, 5, 6], [7, 8, 9]]"
      ]
     },
     "execution_count": 79,
     "metadata": {},
     "output_type": "execute_result"
    }
   ],
   "source": [
    "[[x for x in tup] for tup in some_tuples]"
   ]
  },
  {
   "cell_type": "markdown",
   "id": "closed-thesaurus",
   "metadata": {},
   "source": [
    " "
   ]
  },
  {
   "cell_type": "markdown",
   "id": "correct-likelihood",
   "metadata": {},
   "source": [
    "## 3.2 함수"
   ]
  },
  {
   "cell_type": "markdown",
   "id": "centered-placement",
   "metadata": {},
   "source": [
    "### 3.2.1 네임스페이스, 스코프, 지역 함수"
   ]
  },
  {
   "cell_type": "markdown",
   "id": "daily-range",
   "metadata": {},
   "source": [
    "- 함수는 `전역`과 `지역`, 두 가지 $스코프^{scope}$에서 변수를 참조함.\n",
    "- 함수 내에서 선언된 변수는 기본적으로 모두 지역 네임스페이스에 속함.\n",
    "- 지역 네임스페이스는 함수가 호출될 때 생성되며 함수의 인자를 통해 즉시 생성됨.\n",
    "- 함수의 실행이 끝나면 지역 네임스페이스는 사라짐"
   ]
  },
  {
   "cell_type": "code",
   "execution_count": 27,
   "id": "precious-logging",
   "metadata": {},
   "outputs": [
    {
     "ename": "NameError",
     "evalue": "name 'a' is not defined",
     "output_type": "error",
     "traceback": [
      "\u001b[1;31m---------------------------------------------------------------------------\u001b[0m",
      "\u001b[1;31mNameError\u001b[0m                                 Traceback (most recent call last)",
      "\u001b[1;32m<ipython-input-27-ec8d0a3603fc>\u001b[0m in \u001b[0;36m<module>\u001b[1;34m\u001b[0m\n\u001b[0;32m      5\u001b[0m \u001b[1;33m\u001b[0m\u001b[0m\n\u001b[0;32m      6\u001b[0m \u001b[0mfunc\u001b[0m\u001b[1;33m(\u001b[0m\u001b[1;33m)\u001b[0m\u001b[1;33m\u001b[0m\u001b[1;33m\u001b[0m\u001b[0m\n\u001b[1;32m----> 7\u001b[1;33m \u001b[0ma\u001b[0m             \u001b[1;31m# 함수가 실행될 때 a가 지역네임스페이스에서 생성되며, 함수가 끝남에 따라 지역 네임스페이스도 사라져, a도 사라지게 됨\u001b[0m\u001b[1;33m\u001b[0m\u001b[1;33m\u001b[0m\u001b[0m\n\u001b[0m",
      "\u001b[1;31mNameError\u001b[0m: name 'a' is not defined"
     ]
    }
   ],
   "source": [
    "def func() : \n",
    "    a = []\n",
    "    for i in range(5) : \n",
    "        a.append(i)\n",
    "\n",
    "func()\n",
    "a             # 함수가 실행될 때 a가 지역네임스페이스에서 생성되며, 함수가 끝남에 따라 지역 네임스페이스도 사라져, a도 사라지게 됨 "
   ]
  },
  {
   "cell_type": "markdown",
   "id": "israeli-leeds",
   "metadata": {},
   "source": [
    " "
   ]
  },
  {
   "cell_type": "markdown",
   "id": "psychological-robertson",
   "metadata": {},
   "source": [
    "- 함수의 지역스페이스 밖에서 변수에 값을 대입하려면 그 변수를 `global` 예약어를 이용해서 전역 변수로 선언해야 한다."
   ]
  },
  {
   "cell_type": "code",
   "execution_count": 30,
   "id": "horizontal-naples",
   "metadata": {},
   "outputs": [
    {
     "data": {
      "text/plain": [
       "[]"
      ]
     },
     "execution_count": 30,
     "metadata": {},
     "output_type": "execute_result"
    }
   ],
   "source": [
    "a = None\n",
    "\n",
    "def bind_a_variable() :\n",
    "    global a\n",
    "    a = []\n",
    "\n",
    "bind_a_variable()\n",
    "a                    "
   ]
  },
  {
   "cell_type": "markdown",
   "id": "thirty-stockholm",
   "metadata": {},
   "source": [
    " "
   ]
  },
  {
   "cell_type": "markdown",
   "id": "regional-unknown",
   "metadata": {},
   "source": [
    "### 3.2.2 여러 값으로 반환하기"
   ]
  },
  {
   "cell_type": "code",
   "execution_count": 31,
   "id": "functioning-bridges",
   "metadata": {},
   "outputs": [
    {
     "name": "stdout",
     "output_type": "stream",
     "text": [
      "(5, 6, 7)\n"
     ]
    }
   ],
   "source": [
    "def f() :\n",
    "    a = 5\n",
    "    b = 6 \n",
    "    c = 7\n",
    "    return a, b, c\n",
    "\n",
    "return_value = f()\n",
    "print(return_value)"
   ]
  },
  {
   "cell_type": "code",
   "execution_count": 33,
   "id": "abstract-radar",
   "metadata": {},
   "outputs": [
    {
     "data": {
      "text/plain": [
       "{'a': 5, 'b': 6, 'c': 7}"
      ]
     },
     "execution_count": 33,
     "metadata": {},
     "output_type": "execute_result"
    }
   ],
   "source": [
    "def f() :\n",
    "    a = 5\n",
    "    b = 6 \n",
    "    c = 7\n",
    "    return {'a' : a, 'b' : b, 'c' : c}\n",
    "\n",
    "f()"
   ]
  },
  {
   "cell_type": "markdown",
   "id": "located-negotiation",
   "metadata": {},
   "source": [
    " "
   ]
  },
  {
   "cell_type": "markdown",
   "id": "functional-expression",
   "metadata": {},
   "source": [
    "### 3.2.3 함수도 객체다"
   ]
  },
  {
   "cell_type": "markdown",
   "id": "disturbed-astronomy",
   "metadata": {},
   "source": [
    "- 파이썬에서는 함수도 객체이므로 다른 언어에서는 힘든 객체 생성 표현을 쉽게 할 수 있다.\n"
   ]
  },
  {
   "cell_type": "markdown",
   "id": "spanish-german",
   "metadata": {},
   "source": [
    "> 예) 데이터 정제 위해 다음과 같은 문자열 리스트를 변형해야 한다고 가정."
   ]
  },
  {
   "cell_type": "code",
   "execution_count": 35,
   "id": "maritime-message",
   "metadata": {},
   "outputs": [],
   "source": [
    "states = ['Alabama', 'Georgia!', 'Georgia', 'georgia', 'FlOrIda',\n",
    "         'southcarolina##', 'West virginia?']"
   ]
  },
  {
   "cell_type": "code",
   "execution_count": 40,
   "id": "challenging-doubt",
   "metadata": {},
   "outputs": [],
   "source": [
    "import re\n",
    "\n",
    "def clean_strings(strings) :\n",
    "    result = []\n",
    "    for value in strings :\n",
    "        value = value.strip()\n",
    "        value = re.sub('[!#?]',\"\",value)\n",
    "        value = value.title()\n",
    "        result.append(value)\n",
    "    return result"
   ]
  },
  {
   "cell_type": "code",
   "execution_count": 41,
   "id": "increased-lingerie",
   "metadata": {},
   "outputs": [
    {
     "data": {
      "text/plain": [
       "['Alabama',\n",
       " 'Georgia',\n",
       " 'Georgia',\n",
       " 'Georgia',\n",
       " 'Florida',\n",
       " 'Southcarolina',\n",
       " 'West Virginia']"
      ]
     },
     "execution_count": 41,
     "metadata": {},
     "output_type": "execute_result"
    }
   ],
   "source": [
    "clean_strings(states)"
   ]
  },
  {
   "cell_type": "markdown",
   "id": "assured-password",
   "metadata": {},
   "source": [
    " "
   ]
  },
  {
   "cell_type": "markdown",
   "id": "fuzzy-superintendent",
   "metadata": {},
   "source": [
    "- 다른 유용한 접근법으로는 적용할 함수를 리스트에 담아두고 각각의 문자열에 적용하는 것이다.\n",
    "- 이러한 접근 방법은 함수가 재사용되기 용이하게 만들어준다."
   ]
  },
  {
   "cell_type": "code",
   "execution_count": 42,
   "id": "reasonable-lawsuit",
   "metadata": {},
   "outputs": [],
   "source": [
    "def remove_punctuation(value) :\n",
    "    return re.sub('[!#?]','',value) \n",
    "\n",
    "clean_ops = [str.strip, remove_punctuation, str.title]\n",
    "\n",
    "def clean_strings(strings, ops) :\n",
    "    result = []\n",
    "    for value in strings :\n",
    "        for function in ops :\n",
    "            value = function(value)\n",
    "        result.append(value)\n",
    "    return result"
   ]
  },
  {
   "cell_type": "code",
   "execution_count": 43,
   "id": "contemporary-stroke",
   "metadata": {},
   "outputs": [
    {
     "data": {
      "text/plain": [
       "['Alabama',\n",
       " 'Georgia',\n",
       " 'Georgia',\n",
       " 'Georgia',\n",
       " 'Florida',\n",
       " 'Southcarolina',\n",
       " 'West Virginia']"
      ]
     },
     "execution_count": 43,
     "metadata": {},
     "output_type": "execute_result"
    }
   ],
   "source": [
    "clean_strings(states, clean_ops)"
   ]
  },
  {
   "cell_type": "markdown",
   "id": "starting-landscape",
   "metadata": {},
   "source": [
    " "
   ]
  },
  {
   "cell_type": "markdown",
   "id": "trained-keeping",
   "metadata": {},
   "source": [
    "- 순차적 자료형에 대해 함수를 적용하는 내장 함수 `map함수`를 이용하면 함수를 인자로 사용할 수도 있다."
   ]
  },
  {
   "cell_type": "code",
   "execution_count": 44,
   "id": "stable-graphic",
   "metadata": {},
   "outputs": [
    {
     "name": "stdout",
     "output_type": "stream",
     "text": [
      "Alabama\n",
      "Georgia\n",
      "Georgia\n",
      "georgia\n",
      "FlOrIda\n",
      "southcarolina\n",
      "West virginia\n"
     ]
    }
   ],
   "source": [
    "for x in map(remove_punctuation, states) :\n",
    "    print(x)"
   ]
  },
  {
   "cell_type": "markdown",
   "id": "subtle-profit",
   "metadata": {},
   "source": [
    " "
   ]
  },
  {
   "cell_type": "markdown",
   "id": "efficient-mercy",
   "metadata": {},
   "source": [
    "### 3.2.4 익명 함수"
   ]
  },
  {
   "cell_type": "markdown",
   "id": "noble-ottawa",
   "metadata": {},
   "source": [
    "- 파이썬은 $익명^{anonymous}$함수 혹은 $람다^{lambda}$함수라고 하는 값을 반환하는 단순한 한 문장으로 이루어진 함수를 지원한다.\n",
    "- lambda 예약어로 정의하며, 이는 '익명 함수를 선언한다'라는 의미이다.\n",
    "- 람다 함수가 익명 함수라고 불리는 이유 중 하나는 이 함수 객체에는 명시적인 _name_ 속성이 없기 때문이다."
   ]
  },
  {
   "cell_type": "code",
   "execution_count": 58,
   "id": "frank-milan",
   "metadata": {},
   "outputs": [
    {
     "data": {
      "text/plain": [
       "[8, 0, 2, 10, 12]"
      ]
     },
     "execution_count": 58,
     "metadata": {},
     "output_type": "execute_result"
    }
   ],
   "source": [
    "def apply_to_list(some_list, f) :\n",
    "    return [f(x) for x in some_list]\n",
    "\n",
    "ints = [4,0,1,5,6]\n",
    "apply_to_list(ints, lambda x: x*2)"
   ]
  },
  {
   "cell_type": "code",
   "execution_count": 57,
   "id": "medieval-defeat",
   "metadata": {},
   "outputs": [
    {
     "data": {
      "text/plain": [
       "['aaaa', 'foo', 'abab', 'bar', 'card']"
      ]
     },
     "execution_count": 57,
     "metadata": {},
     "output_type": "execute_result"
    }
   ],
   "source": [
    "strings = ['foo', 'card', 'bar', 'aaaa', 'abab']\n",
    "\n",
    "strings.sort(key = lambda x: len(set(list(x))))\n",
    "strings"
   ]
  },
  {
   "cell_type": "markdown",
   "id": "exciting-printer",
   "metadata": {},
   "source": [
    " "
   ]
  },
  {
   "cell_type": "markdown",
   "id": "freelance-vinyl",
   "metadata": {},
   "source": [
    "### 3.2.5 커링: 일부 인자만 취하기"
   ]
  },
  {
   "cell_type": "markdown",
   "id": "flexible-advice",
   "metadata": {},
   "source": [
    "- `커링`은 수학자인 하스켈 커리의 일므에서 따온 컴퓨터 과학 용어.\n",
    "- 커링은 함수에서 `일부 인자만 취하는` 새로운 함수를 만드는 기법"
   ]
  },
  {
   "cell_type": "code",
   "execution_count": 59,
   "id": "collaborative-limit",
   "metadata": {},
   "outputs": [],
   "source": [
    "def add_numbers(x,y) :\n",
    "    return x + y"
   ]
  },
  {
   "cell_type": "code",
   "execution_count": 60,
   "id": "coordinate-designation",
   "metadata": {},
   "outputs": [],
   "source": [
    "add_five = lambda y: add_numbers(5,y)"
   ]
  },
  {
   "cell_type": "code",
   "execution_count": 62,
   "id": "cordless-debate",
   "metadata": {},
   "outputs": [
    {
     "data": {
      "text/plain": [
       "15"
      ]
     },
     "execution_count": 62,
     "metadata": {},
     "output_type": "execute_result"
    }
   ],
   "source": [
    "add_five(10)"
   ]
  },
  {
   "cell_type": "markdown",
   "id": "frozen-parameter",
   "metadata": {},
   "source": [
    "- add_five는 add_numbers의 두 번째 인자를 커링함.\n",
    "- 여기서는 기존 함수를 호출하는 새로운 함수를 하나 정의한 것 뿐임"
   ]
  },
  {
   "cell_type": "markdown",
   "id": "generic-aberdeen",
   "metadata": {},
   "source": [
    " "
   ]
  },
  {
   "cell_type": "markdown",
   "id": "organic-primary",
   "metadata": {},
   "source": [
    "- 내장 functools 모듈의 partial 함수를 이용하면 이 과정을 단순화 할 수 있다."
   ]
  },
  {
   "cell_type": "code",
   "execution_count": 63,
   "id": "hidden-supplier",
   "metadata": {},
   "outputs": [],
   "source": [
    "from functools import partial\n",
    "add_five = partial(add_numbers,5)"
   ]
  },
  {
   "cell_type": "code",
   "execution_count": 64,
   "id": "subtle-marshall",
   "metadata": {},
   "outputs": [
    {
     "data": {
      "text/plain": [
       "15"
      ]
     },
     "execution_count": 64,
     "metadata": {},
     "output_type": "execute_result"
    }
   ],
   "source": [
    "add_five(10)"
   ]
  },
  {
   "cell_type": "markdown",
   "id": "alive-madagascar",
   "metadata": {},
   "source": [
    " "
   ]
  },
  {
   "cell_type": "markdown",
   "id": "nervous-business",
   "metadata": {},
   "source": [
    "### 3.2.6 제너레이터"
   ]
  },
  {
   "cell_type": "markdown",
   "id": "advised-europe",
   "metadata": {},
   "source": [
    "- 순차적인 자료를 순회하는 일관적인 방법을 제공한다.\n",
    "- `이터레이터 프로토콜`을 이용하면 순회 가능한 객체를 만들 수 있다.  \n"
   ]
  },
  {
   "cell_type": "markdown",
   "id": "expanded-alliance",
   "metadata": {},
   "source": [
    "  \n",
    "- 예를 들어 사전을 순회하면 사전의 키가 반환된다."
   ]
  },
  {
   "cell_type": "code",
   "execution_count": 68,
   "id": "automated-administrator",
   "metadata": {},
   "outputs": [
    {
     "name": "stdout",
     "output_type": "stream",
     "text": [
      "<dict_keyiterator object at 0x0000018C9AB48810>\n",
      "['a', 'b', 'c']\n"
     ]
    }
   ],
   "source": [
    "some_dict = {'a' : 1, 'b' : 2, 'c' : 3}\n",
    "\n",
    "dict_iterator = iter(some_dict)    # for key in some_dict 구문을 사용하면 iter(some_dict)이 실행된다고 보면된다.\n",
    "\n",
    "print(dict_iterator)\n",
    "print(list(dict_iterator))"
   ]
  },
  {
   "cell_type": "markdown",
   "id": "strong-voluntary",
   "metadata": {},
   "source": [
    " "
   ]
  },
  {
   "cell_type": "markdown",
   "id": "exempt-cradle",
   "metadata": {},
   "source": [
    "- `제너레이터`는 순회 가능한 객체를 생성하는 간단한 방법.\n",
    "- `일반 함수`는 실행되면 단일 값을 반환하는 반면 `제너레이터`는 순차적인 값을 매 요청 시마다 하나씩 반환한다.\n",
    "- 제너레이터를 생성하려면 함수에서 `return`을 하는 대신에 `yield` 예약어를 사용한다."
   ]
  },
  {
   "cell_type": "code",
   "execution_count": 69,
   "id": "developing-investing",
   "metadata": {},
   "outputs": [],
   "source": [
    "def squares(n=10) :\n",
    "    print('Generating squares from 1 to {0}'.format(n ** 2))\n",
    "    for i in range(1, n+1) :\n",
    "        yield i ** 2"
   ]
  },
  {
   "cell_type": "code",
   "execution_count": 73,
   "id": "medical-dealing",
   "metadata": {},
   "outputs": [
    {
     "data": {
      "text/plain": [
       "<generator object squares at 0x0000018C9AB4A9E0>"
      ]
     },
     "execution_count": 73,
     "metadata": {},
     "output_type": "execute_result"
    }
   ],
   "source": [
    "gen = squares()\n",
    "gen    # 제너레이터를 호출하더라도 코드가 즉각적으로 실행되지 않는다."
   ]
  },
  {
   "cell_type": "code",
   "execution_count": 74,
   "id": "satisfied-penguin",
   "metadata": {},
   "outputs": [
    {
     "name": "stdout",
     "output_type": "stream",
     "text": [
      "Generating squares from 1 to 100\n",
      "1 4 9 16 25 36 49 64 81 100 "
     ]
    }
   ],
   "source": [
    "# 제너레이터로부터 값을 요청하면 그때서야 제너레이터의 코드가 실행된다.\n",
    "for x in gen :\n",
    "    print(x, end = ' ')"
   ]
  },
  {
   "cell_type": "markdown",
   "id": "authorized-level",
   "metadata": {},
   "source": [
    " "
   ]
  },
  {
   "cell_type": "markdown",
   "id": "charitable-envelope",
   "metadata": {},
   "source": [
    " "
   ]
  },
  {
   "cell_type": "markdown",
   "id": "surprised-cooler",
   "metadata": {},
   "source": [
    "#### 제너레이터 표현식\n",
    "- 리스트 표현식에서 대괄호를 사용하듯이 괄호를 사용해서 제너레이터를 생성할 수 있다."
   ]
  },
  {
   "cell_type": "code",
   "execution_count": null,
   "id": "destroyed-rally",
   "metadata": {},
   "outputs": [],
   "source": [
    "# 1)과 2)는 동일한 코드\n",
    "\n",
    "# 1) ------------------------------\n",
    "gen = (x ** 2 for x in range(100))\n",
    "\n",
    "\n",
    "# 2) ------------------------------\n",
    "def _make_gen() :\n",
    "    for x in range(100) :\n",
    "        yield x ** 2\n",
    "gen = _make_gen()"
   ]
  },
  {
   "cell_type": "markdown",
   "id": "included-graph",
   "metadata": {},
   "source": [
    " "
   ]
  },
  {
   "cell_type": "markdown",
   "id": "greenhouse-sandwich",
   "metadata": {},
   "source": [
    "- 제너레이터 표현식은 리스트 표현식을 인자로 받는 어떤 파이썬 함수에서도 사용할 수 있다."
   ]
  },
  {
   "cell_type": "code",
   "execution_count": 75,
   "id": "wireless-weekly",
   "metadata": {},
   "outputs": [
    {
     "data": {
      "text/plain": [
       "328350"
      ]
     },
     "execution_count": 75,
     "metadata": {},
     "output_type": "execute_result"
    }
   ],
   "source": [
    "sum(x ** 2 for x in range(100))"
   ]
  },
  {
   "cell_type": "code",
   "execution_count": 77,
   "id": "advanced-experience",
   "metadata": {},
   "outputs": [
    {
     "data": {
      "text/plain": [
       "{0: 0, 1: 1, 2: 4, 3: 9, 4: 16}"
      ]
     },
     "execution_count": 77,
     "metadata": {},
     "output_type": "execute_result"
    }
   ],
   "source": [
    "dict((i, i**2) for i in range(5))"
   ]
  },
  {
   "cell_type": "markdown",
   "id": "ambient-causing",
   "metadata": {},
   "source": [
    " "
   ]
  },
  {
   "cell_type": "markdown",
   "id": "rocky-northeast",
   "metadata": {},
   "source": [
    "#### itertools 모듈"
   ]
  },
  {
   "cell_type": "markdown",
   "id": "protected-intro",
   "metadata": {},
   "source": [
    "- 표준 라이브러리인 itertools 모듈은 일반 데이터 알고리즘을 위한 많은 제너레이터를 포함하고 있다.\n",
    "- 예를 들어 grouby는 순차 자료구조와 함수를 받아 인자로 받은 함수에서 반환하는 값에 따라 그룹을 지어준다."
   ]
  },
  {
   "cell_type": "code",
   "execution_count": 81,
   "id": "forty-automation",
   "metadata": {},
   "outputs": [
    {
     "name": "stdout",
     "output_type": "stream",
     "text": [
      "A ['Alan', 'Adam']\n",
      "W ['Wes', 'Will']\n",
      "A ['Albert']\n",
      "S ['Steven']\n"
     ]
    }
   ],
   "source": [
    "import itertools\n",
    "\n",
    "first_letter = lambda x : x[0]\n",
    "names = ['Alan', 'Adam', 'Wes', 'Will', 'Albert', 'Steven']\n",
    "\n",
    "for letter, names in itertools.groupby(names, first_letter) :\n",
    "    print(letter, list(names))  # names는 제너레이터다. "
   ]
  },
  {
   "cell_type": "markdown",
   "id": "hazardous-meeting",
   "metadata": {},
   "source": [
    " "
   ]
  },
  {
   "cell_type": "markdown",
   "id": "miniature-swift",
   "metadata": {},
   "source": [
    "#### 유용한 itertools 함수\n",
    "\n",
    "<details>\n",
    "<summary>유용한 itertools 함수</summary>\n",
    "<div markdown=\"1\">\n",
    "\n",
    "|함수|설명|\n",
    "|:--|:--|\n",
    "|combinations(iterable, k)|iterable에서 순서를 고려하지 않고 길이가 k인 모든 가능한 조합을 생성한다.|\n",
    "|permutations(iterable, k)|iterable에서 순서를 고려하여 길이가 k인 모든 가능한 조합을 생성한다.|\n",
    "|groupby(iterable[, keyfunc])|iterable에서 각각의 고유한 키에 따라 그룹을 생성한다.|\n",
    "|product(*iterables, repeat=1)|iterable에서 카테시안 곱을 구한다. 중첩된 for 문 사용과 유사하다.|\n",
    "    \n",
    "</div>\n",
    "</details>"
   ]
  },
  {
   "cell_type": "markdown",
   "id": "civic-brighton",
   "metadata": {},
   "source": [
    " "
   ]
  },
  {
   "cell_type": "markdown",
   "id": "united-porter",
   "metadata": {},
   "source": [
    "### 3.2.7 에러와 예외 처리"
   ]
  },
  {
   "cell_type": "markdown",
   "id": "minimal-fabric",
   "metadata": {},
   "source": [
    "- try/except : try 구문을 먼저 실행시켜보고, 에러가 발생한다면 except에 있는 구문을 실행시킴\n",
    "- except [ValueError/TypeError] : 무시하고 싶은 에러를 특정하고 싶다면 except 뒤에 그 에러를 적어준다. 여러 개의 에러는 튜플로 묶어서 한 번에 예외처리 할 수도 있다.\n",
    "- finally : 예외를 무시하지 않고, try 블록의 성공 여부와 관계없이 실행시키고 싶은 코드는 finally 구문을 통해 적어준다."
   ]
  },
  {
   "cell_type": "markdown",
   "id": "documented-championship",
   "metadata": {},
   "source": [
    " "
   ]
  },
  {
   "cell_type": "markdown",
   "id": "global-sarah",
   "metadata": {},
   "source": [
    "> float 함수 실행시 ValueError는 무시하고 TypeError는 받고 싶은 경우"
   ]
  },
  {
   "cell_type": "code",
   "execution_count": 92,
   "id": "civilian-czech",
   "metadata": {},
   "outputs": [],
   "source": [
    "def attempt_float(x) :\n",
    "    try : \n",
    "        return float(x)\n",
    "    except ValueError : \n",
    "   #except (ValueError, TypeError) :       튜플 형태로 두 개의 애러를 한꺼번에 처리할 수도 있다.\n",
    "        return x"
   ]
  },
  {
   "cell_type": "code",
   "execution_count": 95,
   "id": "expressed-blind",
   "metadata": {},
   "outputs": [
    {
     "data": {
      "text/plain": [
       "1.2345"
      ]
     },
     "execution_count": 95,
     "metadata": {},
     "output_type": "execute_result"
    }
   ],
   "source": [
    "attempt_float('1.2345')"
   ]
  },
  {
   "cell_type": "code",
   "execution_count": 96,
   "id": "convertible-binding",
   "metadata": {},
   "outputs": [
    {
     "data": {
      "text/plain": [
       "'something'"
      ]
     },
     "execution_count": 96,
     "metadata": {},
     "output_type": "execute_result"
    }
   ],
   "source": [
    "attempt_float('something')"
   ]
  },
  {
   "cell_type": "code",
   "execution_count": 98,
   "id": "emotional-acquisition",
   "metadata": {},
   "outputs": [
    {
     "ename": "TypeError",
     "evalue": "float() argument must be a string or a number, not 'tuple'",
     "output_type": "error",
     "traceback": [
      "\u001b[1;31m---------------------------------------------------------------------------\u001b[0m",
      "\u001b[1;31mTypeError\u001b[0m                                 Traceback (most recent call last)",
      "\u001b[1;32m<ipython-input-98-102527222085>\u001b[0m in \u001b[0;36m<module>\u001b[1;34m\u001b[0m\n\u001b[1;32m----> 1\u001b[1;33m \u001b[0mattempt_float\u001b[0m\u001b[1;33m(\u001b[0m\u001b[1;33m(\u001b[0m\u001b[1;36m1\u001b[0m\u001b[1;33m,\u001b[0m\u001b[1;36m2\u001b[0m\u001b[1;33m)\u001b[0m\u001b[1;33m)\u001b[0m\u001b[1;33m\u001b[0m\u001b[1;33m\u001b[0m\u001b[0m\n\u001b[0m",
      "\u001b[1;32m<ipython-input-92-506bbbd7ca03>\u001b[0m in \u001b[0;36mattempt_float\u001b[1;34m(x)\u001b[0m\n\u001b[0;32m      1\u001b[0m \u001b[1;32mdef\u001b[0m \u001b[0mattempt_float\u001b[0m\u001b[1;33m(\u001b[0m\u001b[0mx\u001b[0m\u001b[1;33m)\u001b[0m \u001b[1;33m:\u001b[0m\u001b[1;33m\u001b[0m\u001b[1;33m\u001b[0m\u001b[0m\n\u001b[0;32m      2\u001b[0m     \u001b[1;32mtry\u001b[0m \u001b[1;33m:\u001b[0m\u001b[1;33m\u001b[0m\u001b[1;33m\u001b[0m\u001b[0m\n\u001b[1;32m----> 3\u001b[1;33m         \u001b[1;32mreturn\u001b[0m \u001b[0mfloat\u001b[0m\u001b[1;33m(\u001b[0m\u001b[0mx\u001b[0m\u001b[1;33m)\u001b[0m\u001b[1;33m\u001b[0m\u001b[1;33m\u001b[0m\u001b[0m\n\u001b[0m\u001b[0;32m      4\u001b[0m     \u001b[1;32mexcept\u001b[0m \u001b[0mValueError\u001b[0m \u001b[1;33m:\u001b[0m\u001b[1;33m\u001b[0m\u001b[1;33m\u001b[0m\u001b[0m\n\u001b[0;32m      5\u001b[0m         \u001b[1;32mreturn\u001b[0m \u001b[0mx\u001b[0m\u001b[1;33m\u001b[0m\u001b[1;33m\u001b[0m\u001b[0m\n",
      "\u001b[1;31mTypeError\u001b[0m: float() argument must be a string or a number, not 'tuple'"
     ]
    }
   ],
   "source": [
    "attempt_float((1,2))"
   ]
  },
  {
   "cell_type": "markdown",
   "id": "standing-keyboard",
   "metadata": {},
   "source": [
    " "
   ]
  },
  {
   "cell_type": "markdown",
   "id": "dutch-lover",
   "metadata": {},
   "source": [
    "> 예외를 무시하지 않고, try 블록의 성공 여부와 상관없이 실행시키고 싶은 코드가 있는 경우 finally 구문 사용"
   ]
  },
  {
   "cell_type": "code",
   "execution_count": null,
   "id": "stone-scheduling",
   "metadata": {},
   "outputs": [],
   "source": [
    "f = open(\"./\", 'w')\n",
    "\n",
    "try :\n",
    "    write_to_file(f)\n",
    "except :\n",
    "    print(\"Failed\")\n",
    "else :\n",
    "    print(\"Succeeded\")\n",
    "finally:\n",
    "    f.close()           # 여기서 파일 핸들 f는 항상 닫히게 된다."
   ]
  },
  {
   "cell_type": "markdown",
   "id": "dense-reconstruction",
   "metadata": {},
   "source": [
    " "
   ]
  },
  {
   "cell_type": "markdown",
   "id": "engaged-mason",
   "metadata": {},
   "source": [
    "## 3.3 파일과 운영체제"
   ]
  },
  {
   "cell_type": "markdown",
   "id": "alike-station",
   "metadata": {},
   "source": [
    "- 파일을 읽고 쓰기 위해 열 때는 내장 함수인 open을 이용해서 파일의 상대 경로나 절대 경로를 넘겨주어야 한다."
   ]
  },
  {
   "cell_type": "code",
   "execution_count": 3,
   "id": "contemporary-housing",
   "metadata": {},
   "outputs": [],
   "source": [
    "path = 'examples/segismundo.txt'\n",
    "\n",
    "f = open(path)"
   ]
  },
  {
   "cell_type": "markdown",
   "id": "sorted-operation",
   "metadata": {},
   "source": [
    " "
   ]
  },
  {
   "cell_type": "markdown",
   "id": "divine-reception",
   "metadata": {},
   "source": [
    "- 기본적으로 파일은 읽기 전용 모드인 'r'로 열린다. \n",
    "- 파일 핸들 f를 리스트로 생각할 수 있으며 파일의 매 줄을 순회할 수 있다.\n",
    "- 파일에서 읽은 줄은 $줄끝^{end-of-line, EOL}$ 문자가 남아 있으므로 이를 제거하는 다음과 같은 코드를 종종 보게 됨"
   ]
  },
  {
   "cell_type": "code",
   "execution_count": 8,
   "id": "delayed-virtue",
   "metadata": {},
   "outputs": [
    {
     "data": {
      "text/plain": [
       "['Sue챰a el rico en su riqueza,',\n",
       " 'que m찼s cuidados le ofrece;',\n",
       " '',\n",
       " 'sue챰a el pobre que padece',\n",
       " 'su miseria y su pobreza;',\n",
       " '',\n",
       " 'sue챰a el que a medrar empieza,',\n",
       " 'sue챰a el que afana y pretende,',\n",
       " 'sue챰a el que agravia y ofende,',\n",
       " '',\n",
       " 'y en el mundo, en conclusi처n,',\n",
       " 'todos sue챰an lo que son,',\n",
       " 'aunque ninguno lo entiende.',\n",
       " '']"
      ]
     },
     "execution_count": 8,
     "metadata": {},
     "output_type": "execute_result"
    }
   ],
   "source": [
    "lines = [x.rstrip() for x in open(path)]\n",
    "lines"
   ]
  },
  {
   "cell_type": "markdown",
   "id": "presidential-detail",
   "metadata": {},
   "source": [
    " "
   ]
  },
  {
   "cell_type": "markdown",
   "id": "appropriate-timer",
   "metadata": {},
   "source": [
    "- 파일 객체를 생성하기 위해 open을 사용했다면 작업이 끝났을 때 명시적으로 닫아주어야 한다.\n",
    "- 파일을 닫으면 해당 자원을 운영체제로 되돌려준다."
   ]
  },
  {
   "cell_type": "code",
   "execution_count": 9,
   "id": "mighty-tonight",
   "metadata": {},
   "outputs": [],
   "source": [
    "f.close()"
   ]
  },
  {
   "cell_type": "markdown",
   "id": "advised-anthony",
   "metadata": {},
   "source": [
    " "
   ]
  },
  {
   "cell_type": "markdown",
   "id": "tamil-house",
   "metadata": {},
   "source": [
    "- with 문을 사용하면 파일 작업이 끝났을 때 필요한 작업이 끝난 후 파일 핸들 f를 자동으로 닫아준다."
   ]
  },
  {
   "cell_type": "code",
   "execution_count": 10,
   "id": "facial-india",
   "metadata": {},
   "outputs": [],
   "source": [
    "with open(path) as f :\n",
    "    lines = [x.rstrip() for x in f]"
   ]
  },
  {
   "cell_type": "markdown",
   "id": "invalid-celtic",
   "metadata": {},
   "source": [
    " "
   ]
  },
  {
   "cell_type": "markdown",
   "id": "exact-intelligence",
   "metadata": {},
   "source": [
    "#### read, seek, tell"
   ]
  },
  {
   "cell_type": "markdown",
   "id": "romantic-bridges",
   "metadata": {},
   "source": [
    "- read : 해당 파일에서 특정 개수만큼 문자를 반환한다. 여기서 '문자'는 인코딩으로 결정되거나 이진 모드인 경우에는 단순히 바이트로 결정된다.\n",
    "- tell : read 메서드는 읽은 바이트만큼 파일 핸들의 위치를 옮기는데, tell 메서드는 현재 위치를 알려준다.\n",
    "- seek : 파일 핸들의 위치를 해당 파일에서 지정한 바이트 위치로 옮긴다."
   ]
  },
  {
   "cell_type": "code",
   "execution_count": 16,
   "id": "crucial-enforcement",
   "metadata": {},
   "outputs": [],
   "source": [
    "f = open(path)"
   ]
  },
  {
   "cell_type": "code",
   "execution_count": 17,
   "id": "compatible-gasoline",
   "metadata": {},
   "outputs": [
    {
     "data": {
      "text/plain": [
       "'Sue챰a el r'"
      ]
     },
     "execution_count": 17,
     "metadata": {},
     "output_type": "execute_result"
    }
   ],
   "source": [
    "f.read(10)"
   ]
  },
  {
   "cell_type": "code",
   "execution_count": 18,
   "id": "worst-period",
   "metadata": {},
   "outputs": [
    {
     "data": {
      "text/plain": [
       "11"
      ]
     },
     "execution_count": 18,
     "metadata": {},
     "output_type": "execute_result"
    }
   ],
   "source": [
    "f.tell()"
   ]
  },
  {
   "cell_type": "code",
   "execution_count": 19,
   "id": "textile-lightning",
   "metadata": {},
   "outputs": [
    {
     "data": {
      "text/plain": [
       "'ico en su '"
      ]
     },
     "execution_count": 19,
     "metadata": {},
     "output_type": "execute_result"
    }
   ],
   "source": [
    "f.read(10)"
   ]
  },
  {
   "cell_type": "code",
   "execution_count": 20,
   "id": "textile-truth",
   "metadata": {},
   "outputs": [
    {
     "data": {
      "text/plain": [
       "21"
      ]
     },
     "execution_count": 20,
     "metadata": {},
     "output_type": "execute_result"
    }
   ],
   "source": [
    "f.tell()"
   ]
  },
  {
   "cell_type": "code",
   "execution_count": 21,
   "id": "ecological-arctic",
   "metadata": {},
   "outputs": [
    {
     "data": {
      "text/plain": [
       "3"
      ]
     },
     "execution_count": 21,
     "metadata": {},
     "output_type": "execute_result"
    }
   ],
   "source": [
    "f.seek(3)"
   ]
  },
  {
   "cell_type": "code",
   "execution_count": 22,
   "id": "promotional-momentum",
   "metadata": {},
   "outputs": [
    {
     "data": {
      "text/plain": [
       "3"
      ]
     },
     "execution_count": 22,
     "metadata": {},
     "output_type": "execute_result"
    }
   ],
   "source": [
    "f.tell()"
   ]
  },
  {
   "cell_type": "code",
   "execution_count": 23,
   "id": "informed-allergy",
   "metadata": {},
   "outputs": [],
   "source": [
    "f.close()"
   ]
  },
  {
   "cell_type": "markdown",
   "id": "editorial-promotion",
   "metadata": {},
   "source": [
    " "
   ]
  },
  {
   "cell_type": "markdown",
   "id": "little-spice",
   "metadata": {},
   "source": [
    "#### 파이썬 파일 모드\n",
    "\n",
    "<details>\n",
    "<summary>파이썬 파일 모드</summary>\n",
    "<div markdown=\"1\">\n",
    "\n",
    "|모드|설명|\n",
    "|:--|:--|\n",
    "|r|읽기 전용 모드|\n",
    "|w|쓰기 전용 모드, 새로운 파일을 생성한다(같은 이름의 파일이 존재하면 덮어쓴다).|\n",
    "|x|쓰기 전용 모드, 새로운 파일을 생성한다. 이미 존재할 경우 실패한다.|\n",
    "|a|기존 파일에 추가한다(파일이 존재하지 않을 경우 새로 생성한다).|\n",
    "|r+| 읽기/쓰기모드|\n",
    "|b|이진 파일 모드. 읽기/쓰기 모드에 추가해서 'rb' 또는 'wb'처럼 사용한다.|\n",
    "|t|텍스트 모드(자동으로 바이트를 유니코드로 디코딩한다). 모드를 지정하지 않으면 t가 기본 모드로 지정된다. 다른 모드에 추가해서 'rt' 또는 'xt'처럼 사용한다.|\n",
    "    \n",
    "</div>\n",
    "</details>\n"
   ]
  },
  {
   "cell_type": "markdown",
   "id": "three-notion",
   "metadata": {},
   "source": [
    " "
   ]
  },
  {
   "cell_type": "markdown",
   "id": "polyphonic-courage",
   "metadata": {},
   "source": [
    "#### 파일에 텍스트 기록"
   ]
  },
  {
   "cell_type": "markdown",
   "id": "animal-circus",
   "metadata": {},
   "source": [
    "- 파일에 텍스트를 기록하려면 write나 writelines 메서드를 이용하면된다. "
   ]
  },
  {
   "cell_type": "code",
   "execution_count": 39,
   "id": "referenced-encounter",
   "metadata": {},
   "outputs": [
    {
     "data": {
      "text/plain": [
       "['Sue챰a el rico en su riqueza,\\n',\n",
       " 'que m찼s cuidados le ofrece;\\n',\n",
       " 'sue챰a el pobre que padece\\n',\n",
       " 'su miseria y su pobreza;\\n',\n",
       " 'sue챰a el que a medrar empieza,\\n',\n",
       " 'sue챰a el que afana y pretende,\\n',\n",
       " 'sue챰a el que agravia y ofende,\\n',\n",
       " 'y en el mundo, en conclusi처n,\\n',\n",
       " 'todos sue챰an lo que son,\\n',\n",
       " 'aunque ninguno lo entiende.\\n']"
      ]
     },
     "execution_count": 39,
     "metadata": {},
     "output_type": "execute_result"
    }
   ],
   "source": [
    "# 빈 줄이 포함되지 않도록 prof_mod.py를 작성하러면 다음과 같이 하면 된다.\n",
    "with open('tmp.txt', 'w') as handle :\n",
    "    handle.writelines(x for x in open(path) if len(x) > 1)\n",
    "\n",
    "with open('tmp.txt') as f :\n",
    "    lines = f.readlines()\n",
    "    \n",
    "lines"
   ]
  },
  {
   "cell_type": "markdown",
   "id": "private-twist",
   "metadata": {},
   "source": [
    " "
   ]
  },
  {
   "cell_type": "markdown",
   "id": "passing-intention",
   "metadata": {},
   "source": [
    "#### 자주 사용하는 파일 메서드\n",
    "\n",
    "<details>\n",
    "<summary>중요 file 메서드와 속성</summary>\n",
    "<div markdown=\"1\">\n",
    "\n",
    "|메서드|설명|\n",
    "|:--|:--|\n",
    "|read([size])|파일에서 데이터를 읽어서 문자열로 반환한다. size 인자를 사용해서 몇 바이트를 읽을 것인지 지정할 수 있다.|\n",
    "|readlines([size])|파일의 매 줄을 모두 읽어 리스트로 반환한다. size 인자를 사용해서 얼마나 읽을 건인지 지정할 수 있다.|\n",
    "|write(str)|전달받은 문자열을 파일에 기록한다.|\n",
    "|writelines(strings)|전달받은 일련의 문자열을 파일에 기록한다.|\n",
    "|close()|파일 핸들을 닫는다.|\n",
    "|flush()|내부 I/O 버퍼를 디스크로 비운다.|\n",
    "|seek(pos)|파일 내에서 지정한 위치(정수)로 이동한다.|\n",
    "|tell()|현재 파일의 위치를 정수 형태로 변환한다.|\n",
    "|closed|파일 핸들이 닫힌 경우 True를 반환한다.|\n",
    "    \n",
    "</div>\n",
    "</details>\n"
   ]
  }
 ],
 "metadata": {
  "kernelspec": {
   "display_name": "Python 3",
   "language": "python",
   "name": "python3"
  },
  "language_info": {
   "codemirror_mode": {
    "name": "ipython",
    "version": 3
   },
   "file_extension": ".py",
   "mimetype": "text/x-python",
   "name": "python",
   "nbconvert_exporter": "python",
   "pygments_lexer": "ipython3",
   "version": "3.8.10"
  }
 },
 "nbformat": 4,
 "nbformat_minor": 5
}
