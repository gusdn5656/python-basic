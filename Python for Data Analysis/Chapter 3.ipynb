{
 "cells": [
  {
   "cell_type": "markdown",
   "id": "handmade-rally",
   "metadata": {},
   "source": [
    "# Chapter 3 내장 자료구조, 함수, 파일"
   ]
  },
  {
   "cell_type": "markdown",
   "id": "greenhouse-adoption",
   "metadata": {},
   "source": [
    "## 3.1 자료구조와 순차 자료형"
   ]
  },
  {
   "cell_type": "markdown",
   "id": "armed-walter",
   "metadata": {},
   "source": [
    " "
   ]
  },
  {
   "cell_type": "markdown",
   "id": "raised-bible",
   "metadata": {},
   "source": [
    "### 3.1.1 튜플"
   ]
  },
  {
   "cell_type": "markdown",
   "id": "latest-convenience",
   "metadata": {},
   "source": [
    " "
   ]
  },
  {
   "cell_type": "markdown",
   "id": "voluntary-valve",
   "metadata": {},
   "source": [
    "#### 튜플 정의하기"
   ]
  },
  {
   "cell_type": "markdown",
   "id": "extensive-category",
   "metadata": {},
   "source": [
    "- 튜플은 1차원의 고정된 크기를 가지는 `변경 불가능`한 순차 자료형"
   ]
  },
  {
   "cell_type": "code",
   "execution_count": 3,
   "id": "caring-document",
   "metadata": {},
   "outputs": [],
   "source": [
    "# 튜플을 정의하는 방법들 \n",
    "tup = 4, 5, 6\n",
    "nested_tup = (4,5,6), (7,8)\n",
    "tup2 = tuple([4,5,6])\n",
    "tup_string = tuple('string')"
   ]
  },
  {
   "cell_type": "code",
   "execution_count": 4,
   "id": "ordered-scoop",
   "metadata": {},
   "outputs": [
    {
     "name": "stdout",
     "output_type": "stream",
     "text": [
      "\n",
      "tup : (4, 5, 6)\n",
      "nested_tup : ((4, 5, 6), (7, 8))\n",
      "tup2 : (4, 5, 6)\n",
      "tup_string ('s', 't', 'r', 'i', 'n', 'g')\n"
     ]
    }
   ],
   "source": [
    "print('''\n",
    "tup : {0}\n",
    "nested_tup : {1}\n",
    "tup2 : {2}\n",
    "tup_string {3}'''.format(tup \\\n",
    "                        , nested_tup \\\n",
    "                        , tup2 \\\n",
    "                        , tup_string))"
   ]
  },
  {
   "cell_type": "markdown",
   "id": "prerequisite-fluid",
   "metadata": {},
   "source": [
    " "
   ]
  },
  {
   "cell_type": "markdown",
   "id": "italic-march",
   "metadata": {},
   "source": [
    "- 튜플은 변경 불가능하다."
   ]
  },
  {
   "cell_type": "code",
   "execution_count": 8,
   "id": "failing-assist",
   "metadata": {},
   "outputs": [
    {
     "ename": "TypeError",
     "evalue": "'tuple' object does not support item assignment",
     "output_type": "error",
     "traceback": [
      "\u001b[1;31m---------------------------------------------------------------------------\u001b[0m",
      "\u001b[1;31mTypeError\u001b[0m                                 Traceback (most recent call last)",
      "\u001b[1;32m<ipython-input-8-d6bcb609237e>\u001b[0m in \u001b[0;36m<module>\u001b[1;34m\u001b[0m\n\u001b[0;32m      1\u001b[0m \u001b[0mtup\u001b[0m \u001b[1;33m=\u001b[0m \u001b[0mtuple\u001b[0m\u001b[1;33m(\u001b[0m\u001b[1;33m[\u001b[0m\u001b[1;34m'foo'\u001b[0m\u001b[1;33m,\u001b[0m\u001b[1;33m[\u001b[0m\u001b[1;36m1\u001b[0m\u001b[1;33m,\u001b[0m\u001b[1;36m2\u001b[0m\u001b[1;33m]\u001b[0m\u001b[1;33m,\u001b[0m\u001b[1;32mTrue\u001b[0m\u001b[1;33m]\u001b[0m\u001b[1;33m)\u001b[0m\u001b[1;33m\u001b[0m\u001b[1;33m\u001b[0m\u001b[0m\n\u001b[1;32m----> 2\u001b[1;33m \u001b[0mtup\u001b[0m\u001b[1;33m[\u001b[0m\u001b[1;36m2\u001b[0m\u001b[1;33m]\u001b[0m \u001b[1;33m=\u001b[0m \u001b[1;32mFalse\u001b[0m\u001b[1;33m\u001b[0m\u001b[1;33m\u001b[0m\u001b[0m\n\u001b[0m",
      "\u001b[1;31mTypeError\u001b[0m: 'tuple' object does not support item assignment"
     ]
    }
   ],
   "source": [
    "tup = tuple(['foo',[1,2],True])\n",
    "tup[2] = False"
   ]
  },
  {
   "cell_type": "markdown",
   "id": "challenging-partner",
   "metadata": {},
   "source": [
    " \n"
   ]
  },
  {
   "cell_type": "markdown",
   "id": "enormous-storm",
   "metadata": {},
   "source": [
    "- 튜플 내 저장된 객체는 그 위치에서 바로 변경이 가능하다"
   ]
  },
  {
   "cell_type": "code",
   "execution_count": 9,
   "id": "beginning-region",
   "metadata": {},
   "outputs": [
    {
     "name": "stdout",
     "output_type": "stream",
     "text": [
      "('foo', [1, 2, 3], True)\n"
     ]
    }
   ],
   "source": [
    "tup[1].append(3)\n",
    "print(tup)"
   ]
  },
  {
   "cell_type": "markdown",
   "id": "regional-question",
   "metadata": {},
   "source": [
    " "
   ]
  },
  {
   "cell_type": "markdown",
   "id": "conscious-domain",
   "metadata": {},
   "source": [
    "#### 튜플에서 값 분리하기"
   ]
  },
  {
   "cell_type": "markdown",
   "id": "super-abuse",
   "metadata": {},
   "source": [
    " "
   ]
  },
  {
   "cell_type": "markdown",
   "id": "thick-tongue",
   "metadata": {},
   "source": [
    "- 튜플과 같은 표현의 변수에 튜플을 `대입`하면 파이썬은 등호(=) 오른쪽에 있는 변수에서 값을 `분리`한다."
   ]
  },
  {
   "cell_type": "code",
   "execution_count": 14,
   "id": "lucky-winning",
   "metadata": {},
   "outputs": [
    {
     "name": "stdout",
     "output_type": "stream",
     "text": [
      "\n",
      "a : 4\n",
      "b : 5\n",
      "c : 6\n",
      "d : 7\n",
      "\n"
     ]
    }
   ],
   "source": [
    "tup = 4,5,(6,7)\n",
    "a,b,(c,d) = tup\n",
    "\n",
    "print('''\n",
    "a : {0}\n",
    "b : {1}\n",
    "c : {2}\n",
    "d : {3}\n",
    "'''.format(a,b,c,d))"
   ]
  },
  {
   "cell_type": "markdown",
   "id": "affiliated-arctic",
   "metadata": {},
   "source": [
    " "
   ]
  },
  {
   "cell_type": "markdown",
   "id": "continued-amazon",
   "metadata": {},
   "source": [
    "- 튜플이나 리스트를 순회할 때도 흔히 이 기능을 활용한다."
   ]
  },
  {
   "cell_type": "code",
   "execution_count": 15,
   "id": "unlikely-blake",
   "metadata": {},
   "outputs": [
    {
     "name": "stdout",
     "output_type": "stream",
     "text": [
      "a = 1, b = 2, c = 3\n",
      "a = 4, b = 5, c = 6\n",
      "a = 7, b = 8, c = 9\n"
     ]
    }
   ],
   "source": [
    "seq = [(1,2,3),(4,5,6),(7,8,9)]\n",
    "\n",
    "for a, b, c in seq:\n",
    "        print('a = {0}, b = {1}, c = {2}'.format(a,b,c))"
   ]
  },
  {
   "cell_type": "markdown",
   "id": "baking-domestic",
   "metadata": {},
   "source": [
    " "
   ]
  },
  {
   "cell_type": "markdown",
   "id": "younger-hybrid",
   "metadata": {},
   "source": [
    "- *rest, *_ : 처음 몇몇 값만 '끄집어내야' 하는 상황에서 사용"
   ]
  },
  {
   "cell_type": "code",
   "execution_count": 17,
   "id": "varied-adventure",
   "metadata": {},
   "outputs": [
    {
     "name": "stdout",
     "output_type": "stream",
     "text": [
      "\n",
      "a = 1, b = 2, rest = [3, 4, 5]\n",
      "d = 1, e = 2, _ = [3, 4, 5]\n"
     ]
    }
   ],
   "source": [
    "values = 1,2,3,4,5\n",
    "\n",
    "a, b, *rest = values\n",
    "d, e, *_ = values\n",
    "\n",
    "print('''\n",
    "a = {0}, b = {1}, rest = {2}\n",
    "d = {3}, e = {4}, _ = {5}'''.format(a,b,rest,d,e,_))"
   ]
  },
  {
   "cell_type": "markdown",
   "id": "satisfied-damages",
   "metadata": {},
   "source": [
    " "
   ]
  },
  {
   "cell_type": "markdown",
   "id": "liable-discrimination",
   "metadata": {},
   "source": [
    "#### 튜플 메서드"
   ]
  },
  {
   "cell_type": "markdown",
   "id": "several-headquarters",
   "metadata": {},
   "source": [
    " "
   ]
  },
  {
   "cell_type": "markdown",
   "id": "statistical-spice",
   "metadata": {},
   "source": [
    "- 튜플은 크기와 내용이 변경 불가능하므로 인스턴스 메서드가 많지 않음\n",
    "- tuple.count(value) : 주어진 value가 몇 개 있는 지 반환하는 메서드"
   ]
  },
  {
   "cell_type": "code",
   "execution_count": 20,
   "id": "apparent-uncertainty",
   "metadata": {},
   "outputs": [
    {
     "data": {
      "text/plain": [
       "4"
      ]
     },
     "execution_count": 20,
     "metadata": {},
     "output_type": "execute_result"
    }
   ],
   "source": [
    "a = (1,2,2,2,3,4,2)\n",
    "a.count(2)"
   ]
  },
  {
   "cell_type": "markdown",
   "id": "illegal-graphic",
   "metadata": {},
   "source": [
    " "
   ]
  },
  {
   "cell_type": "markdown",
   "id": "artistic-plaza",
   "metadata": {},
   "source": [
    "### 3.1.2 리스트"
   ]
  },
  {
   "cell_type": "markdown",
   "id": "stainless-alaska",
   "metadata": {},
   "source": [
    "- 튜플과는 대조적으로 리스트는 크기나 내용의 변경이 가능하다. \n",
    "- 리스트는 대괄호 [ ]나 list 함수를 사용해서 생성할 수 있다."
   ]
  },
  {
   "cell_type": "code",
   "execution_count": 52,
   "id": "expressed-behavior",
   "metadata": {},
   "outputs": [
    {
     "name": "stdout",
     "output_type": "stream",
     "text": [
      "[2, 3, 7, None]\n",
      "['foo', 'bar', 'baz']\n",
      "['foo', 'peekaboo', 'baz']\n"
     ]
    }
   ],
   "source": [
    "a_list = [2,3,7,None]\n",
    "print(a_list)\n",
    "\n",
    "tup = ('foo','bar','baz')\n",
    "b_list = list(tup)\n",
    "print(b_list)\n",
    "\n",
    "b_list[1] = 'peekaboo'\n",
    "print(b_list)"
   ]
  },
  {
   "cell_type": "markdown",
   "id": "awful-burton",
   "metadata": {},
   "source": [
    " "
   ]
  },
  {
   "cell_type": "markdown",
   "id": "minus-excerpt",
   "metadata": {},
   "source": [
    "#### 원소 추가하고 삭제하기"
   ]
  },
  {
   "cell_type": "markdown",
   "id": "martial-policy",
   "metadata": {},
   "source": [
    "* list에 원소 추가\n",
    "    * list.append() : 리스트 `끝`에 새로운 값을 추가할 수 있다.\n",
    "    * list.insert() : 리스트의 `특정 위치`에 값을 추가할 수 있다."
   ]
  },
  {
   "cell_type": "code",
   "execution_count": 53,
   "id": "blessed-restoration",
   "metadata": {},
   "outputs": [
    {
     "name": "stdout",
     "output_type": "stream",
     "text": [
      "add dwarf in list b using list.append() : ['foo', 'peekaboo', 'baz', 'dwarf']\n",
      "add red in list b at 1 using list.insert() : ['foo', 'red', 'peekaboo', 'baz', 'dwarf']\n"
     ]
    }
   ],
   "source": [
    "### list.append()\n",
    "b_list.append('dwarf')\n",
    "print('add dwarf in list b using list.append() : {0}'.format(b_list))\n",
    "\n",
    "### list.insert()\n",
    "b_list.insert(1, \"red\")\n",
    "print('add red in list b at 1 using list.insert() : {0}'.format(b_list))"
   ]
  },
  {
   "cell_type": "markdown",
   "id": "attempted-fortune",
   "metadata": {},
   "source": [
    " "
   ]
  },
  {
   "cell_type": "markdown",
   "id": "black-arrest",
   "metadata": {},
   "source": [
    "- list에 원소 삭제\n",
    "    - list.pop() : 리스트의 `특정 위치`의 값을 반환하고 해당 값을 리스트에서 삭제한다.\n",
    "    - list.remove() : 중복되는 값이 있는 경우 리스트에서 `제일 앞`에 위치한 값부터 삭제가 이뤄진다."
   ]
  },
  {
   "cell_type": "code",
   "execution_count": 54,
   "id": "described-money",
   "metadata": {},
   "outputs": [
    {
     "name": "stdout",
     "output_type": "stream",
     "text": [
      "peekaboo\n",
      "remove the value in index 2 : ['foo', 'red', 'baz', 'dwarf']\n",
      "add another foo in list b : ['foo', 'red', 'baz', 'dwarf', 'foo']\n",
      "remove the value which is foo in list b : ['red', 'baz', 'dwarf', 'foo']\n"
     ]
    }
   ],
   "source": [
    "### list.pop()\n",
    "print(b_list.pop(2))\n",
    "print(\"remove the value in index 2 : {0}\".format(b_list))\n",
    "\n",
    "### list.remove()\n",
    "b_list.append('foo')\n",
    "print('add another foo in list b : {0}'.format(b_list))\n",
    "\n",
    "b_list.remove('foo')\n",
    "print(\"remove the value which is foo in list b : {0}\".format(b_list))"
   ]
  },
  {
   "cell_type": "markdown",
   "id": "alike-saskatchewan",
   "metadata": {},
   "source": [
    " "
   ]
  },
  {
   "cell_type": "markdown",
   "id": "accompanied-notification",
   "metadata": {},
   "source": [
    "#### in, not in 예약어"
   ]
  },
  {
   "cell_type": "code",
   "execution_count": 56,
   "id": "returning-punishment",
   "metadata": {},
   "outputs": [
    {
     "name": "stdout",
     "output_type": "stream",
     "text": [
      "dwarf in b_list : True\n",
      "dwarf not in b_list : False\n"
     ]
    }
   ],
   "source": [
    "print(\"dwarf in b_list : {0}\".format('dwarf' in b_list))\n",
    "print(\"dwarf not in b_list : {0}\".format('dwarf' not in b_list))"
   ]
  },
  {
   "cell_type": "markdown",
   "id": "annoying-daughter",
   "metadata": {},
   "source": [
    " "
   ]
  },
  {
   "cell_type": "markdown",
   "id": "external-crest",
   "metadata": {},
   "source": [
    "#### 리스트 이어붙이기"
   ]
  },
  {
   "cell_type": "markdown",
   "id": "executive-butter",
   "metadata": {},
   "source": [
    "- \\+ : + 연산자를 이용하면 두 개의 리스트를 합칠 수 있다\n",
    "- list.extend() : 미리 리스트를 정의해 두었다면 extend 메서드를 사용해 여러 개의 값을 추가할 수 있다."
   ]
  },
  {
   "cell_type": "code",
   "execution_count": 59,
   "id": "aquatic-participant",
   "metadata": {},
   "outputs": [
    {
     "data": {
      "text/plain": [
       "[4, None, 'foo', 7, 8, (2, 3)]"
      ]
     },
     "execution_count": 59,
     "metadata": {},
     "output_type": "execute_result"
    }
   ],
   "source": [
    "[4,None,'foo'] + [7,8,(2,3)]"
   ]
  },
  {
   "cell_type": "code",
   "execution_count": 61,
   "id": "creative-leonard",
   "metadata": {},
   "outputs": [
    {
     "name": "stdout",
     "output_type": "stream",
     "text": [
      "[4, None, 'foo', 7, 8, (2, 3)]\n"
     ]
    }
   ],
   "source": [
    "x = [4, None, 'foo']\n",
    "x.extend([7,8,(2,3)])\n",
    "print(x)"
   ]
  },
  {
   "cell_type": "markdown",
   "id": "advanced-prime",
   "metadata": {},
   "source": [
    " "
   ]
  },
  {
   "cell_type": "markdown",
   "id": "interesting-diving",
   "metadata": {},
   "source": [
    "### 3.1.3 내장 순차 자료형 함수"
   ]
  },
  {
   "cell_type": "markdown",
   "id": "unusual-hello",
   "metadata": {},
   "source": [
    " "
   ]
  },
  {
   "cell_type": "markdown",
   "id": "front-recovery",
   "metadata": {},
   "source": [
    "#### enumerate "
   ]
  },
  {
   "cell_type": "markdown",
   "id": "important-percentage",
   "metadata": {},
   "source": [
    "- 이 함수는 순차 자료형에서 현재 아이템의 색인을 함께 처리하고자 할 때 흔히 사용한다."
   ]
  },
  {
   "cell_type": "code",
   "execution_count": 71,
   "id": "romantic-christmas",
   "metadata": {},
   "outputs": [
    {
     "name": "stdout",
     "output_type": "stream",
     "text": [
      "{'foo': 0}\n",
      "{'foo': 0, 'bar': 1}\n",
      "{'foo': 0, 'bar': 1, 'baz': 2}\n"
     ]
    }
   ],
   "source": [
    "some_list = ['foo', 'bar', 'baz']\n",
    "\n",
    "mapping = {}\n",
    "\n",
    "for i, v in enumerate(some_list) : \n",
    "    mapping[v] = i\n",
    "    print(mapping)"
   ]
  },
  {
   "cell_type": "markdown",
   "id": "alive-mineral",
   "metadata": {},
   "source": [
    " "
   ]
  },
  {
   "cell_type": "markdown",
   "id": "included-cornell",
   "metadata": {},
   "source": [
    "#### sorted"
   ]
  },
  {
   "cell_type": "markdown",
   "id": "english-shopper",
   "metadata": {},
   "source": [
    "- sorted 함수는 정렬된 `새로운 순차 자료형`을 반환한다."
   ]
  },
  {
   "cell_type": "code",
   "execution_count": 72,
   "id": "czech-trademark",
   "metadata": {},
   "outputs": [
    {
     "name": "stdout",
     "output_type": "stream",
     "text": [
      "\n",
      "a = [7, 1, 2, 6, 0, 3, 2]\n",
      "b = [0, 1, 2, 2, 3, 6, 7]\n"
     ]
    }
   ],
   "source": [
    "a = [7,1,2,6,0,3,2]\n",
    "b = sorted(a)\n",
    "\n",
    "print('''\n",
    "a = {0}\n",
    "b = {1}'''.format(a, b))"
   ]
  },
  {
   "cell_type": "markdown",
   "id": "tribal-cooperation",
   "metadata": {},
   "source": [
    " "
   ]
  },
  {
   "cell_type": "markdown",
   "id": "configured-internship",
   "metadata": {},
   "source": [
    "#### zip"
   ]
  },
  {
   "cell_type": "markdown",
   "id": "measured-nomination",
   "metadata": {},
   "source": [
    "- zip 함수는 여러 개의 리스트나 튜플 또는 다른 순차 자료형을 서로 짝지어서 튜플의 리스트를 생성한다."
   ]
  },
  {
   "cell_type": "code",
   "execution_count": 80,
   "id": "plain-burlington",
   "metadata": {},
   "outputs": [
    {
     "data": {
      "text/plain": [
       "[('foo', 'one'), ('bar', 'two'), ('baz', 'three')]"
      ]
     },
     "execution_count": 80,
     "metadata": {},
     "output_type": "execute_result"
    }
   ],
   "source": [
    "seq1 = ['foo','bar','baz']\n",
    "seq2 = ['one','two','three']\n",
    "\n",
    "zipped = zip(seq1,seq2)\n",
    "list(zipped)"
   ]
  },
  {
   "cell_type": "markdown",
   "id": "manual-feeling",
   "metadata": {},
   "source": [
    " "
   ]
  },
  {
   "cell_type": "markdown",
   "id": "bright-polyester",
   "metadata": {},
   "source": [
    "- zip 함수는 여러 개의 순차 자료형을 받을 수 있으며 반환되는 리스트의 크기는 넘겨받은 순차 자료형 중 `가장 짧은` 크기로 정해진다.\n"
   ]
  },
  {
   "cell_type": "code",
   "execution_count": 83,
   "id": "banner-minister",
   "metadata": {},
   "outputs": [
    {
     "data": {
      "text/plain": [
       "[('foo', 'one', False), ('bar', 'two', True)]"
      ]
     },
     "execution_count": 83,
     "metadata": {},
     "output_type": "execute_result"
    }
   ],
   "source": [
    "seq3 = [False, True]\n",
    "\n",
    "list(zip(seq1,seq2,seq3))"
   ]
  },
  {
   "cell_type": "markdown",
   "id": "equal-spirit",
   "metadata": {},
   "source": [
    " "
   ]
  },
  {
   "cell_type": "markdown",
   "id": "geographic-briefs",
   "metadata": {},
   "source": [
    "- zip 함수는 enumerate와 함께 사용되기도 한다."
   ]
  },
  {
   "cell_type": "code",
   "execution_count": 84,
   "id": "engaging-haven",
   "metadata": {},
   "outputs": [
    {
     "name": "stdout",
     "output_type": "stream",
     "text": [
      "\n",
      "    i = 0\n",
      "    a = foo\n",
      "    b = one\n",
      "\n",
      "    i = 1\n",
      "    a = bar\n",
      "    b = two\n",
      "\n",
      "    i = 2\n",
      "    a = baz\n",
      "    b = three\n"
     ]
    }
   ],
   "source": [
    "for i, (a,b) in enumerate(zip(seq1,seq2)) : \n",
    "    print('''\n",
    "    i = {0}\n",
    "    a = {1}\n",
    "    b = {2}'''.format(i,a,b))"
   ]
  },
  {
   "cell_type": "markdown",
   "id": "aware-arcade",
   "metadata": {},
   "source": [
    " "
   ]
  },
  {
   "cell_type": "markdown",
   "id": "brave-mattress",
   "metadata": {},
   "source": [
    "- zip 함수를 사용해서 짝지어진 순차 자료형을 다시 풀어낼 수도 있다. \n",
    "- 이를 이용해서 리스트의 `로우`를 리스트의 `컬럼`으로 변환하는 것도 가능하다."
   ]
  },
  {
   "cell_type": "code",
   "execution_count": 87,
   "id": "usual-clone",
   "metadata": {},
   "outputs": [
    {
     "name": "stdout",
     "output_type": "stream",
     "text": [
      "\n",
      "first_names : ('Nolan', 'Roger', 'Schilling')\n",
      "last_names : ('Ryan', 'Clemens', 'Curt')\n"
     ]
    }
   ],
   "source": [
    "pitchers = [('Nolan','Ryan'), ('Roger','Clemens'), ('Schilling', 'Curt')]\n",
    "\n",
    "first_names, last_names = zip(*pitchers)\n",
    "\n",
    "print('''\n",
    "first_names : {0}\n",
    "last_names : {1}'''.format(first_names,last_names))"
   ]
  },
  {
   "cell_type": "markdown",
   "id": "independent-shield",
   "metadata": {},
   "source": [
    " "
   ]
  },
  {
   "cell_type": "markdown",
   "id": "worse-webmaster",
   "metadata": {},
   "source": [
    "### 3.1.4 사전"
   ]
  },
  {
   "cell_type": "markdown",
   "id": "opposed-australian",
   "metadata": {},
   "source": [
    "- dict(사전)은 파이썬 내장 자료구조 중에서 가장 중요하다.\n",
    "- 일반적으로는 `해시맵` 또는 `연관 배열`이라고 널리 알려져 있다.\n",
    "- 사전은 유연한 크기를 가지는 `키-값` 쌍으로, `키`와 `값`은 모두 파이썬 객체다."
   ]
  },
  {
   "cell_type": "code",
   "execution_count": 90,
   "id": "white-subject",
   "metadata": {},
   "outputs": [
    {
     "name": "stdout",
     "output_type": "stream",
     "text": [
      "{'a': 'some value', 'b': [1, 2, 3, 4]}\n"
     ]
    }
   ],
   "source": [
    "d1 = {'a' : 'some value', 'b' : [1,2,3,4]}\n",
    "print(d1)"
   ]
  },
  {
   "cell_type": "code",
   "execution_count": 94,
   "id": "democratic-machinery",
   "metadata": {},
   "outputs": [
    {
     "data": {
      "text/plain": [
       "{'a': 'some value', 'b': [1, 2, 3, 4], 7: 'an integer'}"
      ]
     },
     "execution_count": 94,
     "metadata": {},
     "output_type": "execute_result"
    }
   ],
   "source": [
    "d1[7] = 'an integer'\n",
    "d1"
   ]
  },
  {
   "cell_type": "code",
   "execution_count": 96,
   "id": "monthly-moscow",
   "metadata": {},
   "outputs": [
    {
     "name": "stdout",
     "output_type": "stream",
     "text": [
      "\n",
      "d1['a'] : some value\n",
      "d1[7] : an integer\n"
     ]
    }
   ],
   "source": [
    "print('''\n",
    "d1['a'] : {0}\n",
    "d1[7] : {1}'''.format(d1['a'] \\\n",
    "                     , d1[7]))"
   ]
  },
  {
   "cell_type": "code",
   "execution_count": 99,
   "id": "afraid-oxford",
   "metadata": {},
   "outputs": [
    {
     "data": {
      "text/plain": [
       "True"
      ]
     },
     "execution_count": 99,
     "metadata": {},
     "output_type": "execute_result"
    }
   ],
   "source": [
    "'b' in d1"
   ]
  }
 ],
 "metadata": {
  "kernelspec": {
   "display_name": "Python 3",
   "language": "python",
   "name": "python3"
  },
  "language_info": {
   "codemirror_mode": {
    "name": "ipython",
    "version": 3
   },
   "file_extension": ".py",
   "mimetype": "text/x-python",
   "name": "python",
   "nbconvert_exporter": "python",
   "pygments_lexer": "ipython3",
   "version": "3.8.10"
  }
 },
 "nbformat": 4,
 "nbformat_minor": 5
}
